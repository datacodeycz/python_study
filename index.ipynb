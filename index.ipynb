{
 "cells": [
  {
   "cell_type": "markdown",
   "id": "a477ac9c-72ef-4649-8866-959a428900a9",
   "metadata": {},
   "source": [
    "# 《Python程序设计》\n",
    "\n",
    "## 目录\n",
    "\n",
    "### 章节列表\n",
    "- [安装](01_chapter_安装/index.ipynb)\n",
    "- [概述](02_chapter_概述/index.ipynb)\n",
    "- [基本数据类型](03_chapter_基本数据类型/index.ipynb)\n",
    "- [流程控制](04_chapter_流程控制/index.ipynb)\n",
    "- [函数的基本使用](05_chapter_函数的基本使用/index.ipynb)\n",
    "- [数据容器](06_chapter_数据容器/index.ipynb)\n",
    "- [函数的进阶使用](07_chapter_函数的进阶使用/index.ipynb)\n",
    "- [模块与包](08_chapter_模块与包/index.ipynb)\n",
    "- [异常处理](09_chapter_异常处理/index.ipynb)\n",
    "- [面向对象](10_chapter_面向对象/index.ipynb)\n",
    "- [文件处理](11_chapter_文件处理/index.ipynb)\n",
    "- [爬虫](12_chapter_爬虫/index.ipynb)\n",
    "- [数据分析](13_chapter_数据分析/index.ipynb)\n",
    "\n",
    "### 作业\n",
    "- [作业](作业/index.ipynb)\n",
    "\n",
    "\n",
    "-------------\n",
    " [返回到目录](./)"
   ]
  },
  {
   "cell_type": "code",
   "execution_count": null,
   "id": "d714d5a2-8806-446b-81ba-3dce4aad15b7",
   "metadata": {},
   "outputs": [],
   "source": []
  }
 ],
 "metadata": {
  "kernelspec": {
   "display_name": "Python 3 (ipykernel)",
   "language": "python",
   "name": "python3"
  },
  "language_info": {
   "codemirror_mode": {
    "name": "ipython",
    "version": 3
   },
   "file_extension": ".py",
   "mimetype": "text/x-python",
   "name": "python",
   "nbconvert_exporter": "python",
   "pygments_lexer": "ipython3",
   "version": "3.10.15"
  }
 },
 "nbformat": 4,
 "nbformat_minor": 5
}
