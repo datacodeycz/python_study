{
 "cells": [
  {
   "cell_type": "markdown",
   "id": "03014033-2e03-4881-9068-54cfca0bb82e",
   "metadata": {},
   "source": [
    "# 天天练"
   ]
  },
  {
   "cell_type": "markdown",
   "id": "172e8545-3d5a-4cd2-8edf-dfead160a60a",
   "metadata": {},
   "source": [
    "## 第一次\n",
    "\n",
    "```python\n",
    "students = (\n",
    "    {'name':'张三', 'sex':'男', 'age':'18', 'score': {'java':90, 'python':100, 'linux' : 98}},\n",
    "    {'name':'李四', 'sex':'女', 'age':'17', 'score': {'java':50, 'python':98, 'linux' : 100}},\n",
    "    {'name':'王五', 'sex':'女', 'age':'22', 'score': {'java':89, 'python':72, 'linux' : 90}},\n",
    "    {'name':'赵六', 'sex':'男', 'age':'19', 'score': {'java':79, 'python':49, 'linux' : 97}},\n",
    "    {'name':'小明', 'sex':'女', 'age':'16', 'score': {'java':52, 'python':94, 'linux' : 43}},\n",
    "    {'name':'小红', 'sex':'男', 'age':'21', 'score': {'java':100, 'python':43, 'linux' : 60}},\n",
    ")\n",
    "```\n",
    "\n",
    "以上是一个班级的学生信息，根据下列问题完成对应的程序\n",
    "\n",
    "\n",
    "问题1. 将男生和女生分别存储到两个元组中\n",
    "\n",
    "问题2. 按照年龄在元组中排序 升序\n",
    "\n",
    "问题3. 找到不及格的学生，并找到对应的科目和成绩\n",
    "\n",
    "问题4. 分别计算各科成绩的平均成绩和中位数成绩\n",
    "\n",
    "问题5. 计算每个同学的平均成绩"
   ]
  },
  {
   "cell_type": "code",
   "execution_count": 1,
   "id": "c023ef22-89f9-49a1-963d-934d4a343bd7",
   "metadata": {},
   "outputs": [
    {
     "name": "stdout",
     "output_type": "stream",
     "text": [
      "问题1: 男生: ({'name': '张三', 'sex': '男', 'age': '18', 'score': {'java': 90, 'python': 100, 'linux': 98}}, {'name': '赵六', 'sex': '男', 'age': '19', 'score': {'java': 79, 'python': 49, 'linux': 97}}, {'name': '小红', 'sex': '男', 'age': '21', 'score': {'java': 100, 'python': 43, 'linux': 60}})\n",
      "问题1: 女生: ({'name': '李四', 'sex': '女', 'age': '17', 'score': {'java': 50, 'python': 98, 'linux': 100}}, {'name': '王五', 'sex': '女', 'age': '22', 'score': {'java': 89, 'python': 72, 'linux': 90}}, {'name': '小明', 'sex': '女', 'age': '16', 'score': {'java': 52, 'python': 94, 'linux': 43}})\n"
     ]
    }
   ],
   "source": [
    "students = (\n",
    "    {'name': '张三', 'sex': '男', 'age': '18', 'score': {'java': 90, 'python': 100, 'linux': 98}},\n",
    "    {'name': '李四', 'sex': '女', 'age': '17', 'score': {'java': 50, 'python': 98, 'linux': 100}},\n",
    "    {'name': '王五', 'sex': '女', 'age': '22', 'score': {'java': 89, 'python': 72, 'linux': 90}},\n",
    "    {'name': '赵六', 'sex': '男', 'age': '19', 'score': {'java': 79, 'python': 49, 'linux': 97}},\n",
    "    {'name': '小明', 'sex': '女', 'age': '16', 'score': {'java': 52, 'python': 94, 'linux': 43}},\n",
    "    {'name': '小红', 'sex': '男', 'age': '21', 'score': {'java': 100, 'python': 43, 'linux': 60}},\n",
    ")\n",
    "\n",
    "# 问题1: 将男生和女生分别存储到两个元组中\n",
    "boys = tuple(student for student in students if student['sex'] == '男')\n",
    "girls = tuple(student for student in students if student['sex'] == '女')\n",
    "\n",
    "\n",
    "# 打印结果\n",
    "print(\"问题1: 男生:\", boys)\n",
    "print(\"问题1: 女生:\", girls)"
   ]
  },
  {
   "cell_type": "code",
   "execution_count": 4,
   "id": "e92fde61-fa9b-45fa-b558-dd80a2b7f61b",
   "metadata": {},
   "outputs": [
    {
     "data": {
      "text/plain": [
       "('问题2: 按年龄排序:',\n",
       " ({'name': '小明',\n",
       "   'sex': '女',\n",
       "   'age': '16',\n",
       "   'score': {'java': 52, 'python': 94, 'linux': 43}},\n",
       "  {'name': '李四',\n",
       "   'sex': '女',\n",
       "   'age': '17',\n",
       "   'score': {'java': 50, 'python': 98, 'linux': 100}},\n",
       "  {'name': '张三',\n",
       "   'sex': '男',\n",
       "   'age': '18',\n",
       "   'score': {'java': 90, 'python': 100, 'linux': 98}},\n",
       "  {'name': '赵六',\n",
       "   'sex': '男',\n",
       "   'age': '19',\n",
       "   'score': {'java': 79, 'python': 49, 'linux': 97}},\n",
       "  {'name': '小红',\n",
       "   'sex': '男',\n",
       "   'age': '21',\n",
       "   'score': {'java': 100, 'python': 43, 'linux': 60}},\n",
       "  {'name': '王五',\n",
       "   'sex': '女',\n",
       "   'age': '22',\n",
       "   'score': {'java': 89, 'python': 72, 'linux': 90}}))"
      ]
     },
     "execution_count": 4,
     "metadata": {},
     "output_type": "execute_result"
    }
   ],
   "source": [
    "# 问题2: 按照年龄在元组中排序（升序）\n",
    "sorted_students_by_age = tuple(sorted(students, key=lambda x: int(x['age'])))\n",
    "\n",
    "# 打印结果\n",
    "(\"问题2: 按年龄排序:\", sorted_students_by_age)"
   ]
  },
  {
   "cell_type": "code",
   "execution_count": 6,
   "id": "671355b1-4678-4409-92db-70ca2ff42208",
   "metadata": {},
   "outputs": [
    {
     "data": {
      "text/plain": [
       "('问题3: 不及格的学生及对应科目和成绩:',\n",
       " [{'name': '李四', 'failing_subjects': {'java': 50}},\n",
       "  {'name': '赵六', 'failing_subjects': {'python': 49}},\n",
       "  {'name': '小明', 'failing_subjects': {'java': 52, 'linux': 43}},\n",
       "  {'name': '小红', 'failing_subjects': {'python': 43}}])"
      ]
     },
     "execution_count": 6,
     "metadata": {},
     "output_type": "execute_result"
    }
   ],
   "source": [
    "# 问题3: 找到不及格的学生，并找到对应的科目和成绩\n",
    "failing_students = []\n",
    "for student in students:\n",
    "    failing_subjects = {}\n",
    "    for subject, score in student['score'].items():\n",
    "        if score < 60:\n",
    "            failing_subjects[subject] = score\n",
    "    if failing_subjects:\n",
    "        failing_students.append({'name': student['name'], 'failing_subjects': failing_subjects})\n",
    "\n",
    "# 打印结果\n",
    "\"问题3: 不及格的学生及对应科目和成绩:\", failing_students"
   ]
  },
  {
   "cell_type": "code",
   "execution_count": 7,
   "id": "014345aa-2280-4f08-a38f-30469e678443",
   "metadata": {},
   "outputs": [
    {
     "name": "stdout",
     "output_type": "stream",
     "text": [
      "问题4: 各科平均成绩: {'java': 76.66666666666667, 'python': 76.0, 'linux': 81.33333333333333}\n",
      "问题4: 各科中位数成绩: {'java': 84.0, 'python': 83.0, 'linux': 93.5}\n"
     ]
    }
   ],
   "source": [
    "# 问题4: 计算各科成绩的平均成绩和中位数成绩\n",
    "all_scores = {'java': [], 'python': [], 'linux': []}\n",
    "for student in students:\n",
    "    for subject, score in student['score'].items():\n",
    "        all_scores[subject].append(score)\n",
    "\n",
    "# 计算平均值\n",
    "average_scores = {}\n",
    "for subject, scores in all_scores.items():\n",
    "    average_scores[subject] = sum(scores) / len(scores)\n",
    "\n",
    "# 计算中位数\n",
    "median_scores = {}\n",
    "for subject, scores in all_scores.items():\n",
    "    sorted_scores = sorted(scores)\n",
    "    n = len(sorted_scores)\n",
    "    if n % 2 == 0:\n",
    "        median_scores[subject] = (sorted_scores[n // 2 - 1] + sorted_scores[n // 2]) / 2\n",
    "    else:\n",
    "        median_scores[subject] = sorted_scores[n // 2]\n",
    "\n",
    "# 打印结果\n",
    "print(\"问题4: 各科平均成绩:\", average_scores)\n",
    "print(\"问题4: 各科中位数成绩:\", median_scores)"
   ]
  },
  {
   "cell_type": "code",
   "execution_count": 8,
   "id": "9bc674d9-de00-4dc3-9b46-cbc133dab328",
   "metadata": {},
   "outputs": [
    {
     "name": "stdout",
     "output_type": "stream",
     "text": [
      "问题5: 每个同学的平均成绩: [{'name': '张三', 'average_score': 96.0}, {'name': '李四', 'average_score': 82.66666666666667}, {'name': '王五', 'average_score': 83.66666666666667}, {'name': '赵六', 'average_score': 75.0}, {'name': '小明', 'average_score': 63.0}, {'name': '小红', 'average_score': 67.66666666666667}]\n"
     ]
    }
   ],
   "source": [
    "# 问题5: 计算每个同学的平均成绩\n",
    "students_avg_scores = []\n",
    "for student in students:\n",
    "    total_score = sum(student['score'].values())\n",
    "    num_subjects = len(student['score'])\n",
    "    avg_score = total_score / num_subjects\n",
    "    students_avg_scores.append({'name': student['name'], 'average_score': avg_score})\n",
    "\n",
    "# 打印结果\n",
    "print(\"问题5: 每个同学的平均成绩:\", students_avg_scores)"
   ]
  },
  {
   "cell_type": "markdown",
   "id": "3349184f-39f8-4c14-bb04-85bd88b27f1e",
   "metadata": {},
   "source": [
    "## 第二次\n",
    "1. 编写一个程序，生成一个包含n个元素的随机整数列表，并计算其中所有正数的和。 注意：使用random模块\n",
    "2. 给定一个字符串列表，将字母异位词（就是相同字母不同顺序）组合在一起。可以按任意顺序返回结果列表。\n",
    "\n",
    "   ```\n",
    "   字母异位词 是由重新排列源单词的所有字母得到的一个新单词。\n",
    "    示例 1:\n",
    "    输入: strs = [\"eat\", \"tea\", \"tan\", \"ate\", \"nat\", \"bat\"]\n",
    "    输出: [[\"bat\"],[\"nat\",\"tan\"],[\"ate\",\"eat\",\"tea\"]]\n",
    "    \n",
    "    示例 2:\n",
    "    输入: strs = [\"\"]\n",
    "    输出: [[\"\"]]\n",
    "    \n",
    "    示例 3:\n",
    "    输入: strs = [\"a\"]\n",
    "    输出: [[\"a\"]]\n",
    "   ```"
   ]
  },
  {
   "cell_type": "code",
   "execution_count": 9,
   "id": "65289f0c-6c03-4228-a619-3b673ce7d25b",
   "metadata": {},
   "outputs": [
    {
     "name": "stdout",
     "output_type": "stream",
     "text": [
      "随机列表: [-95, 1, -53, 21, 75, 26, 2, -65, 65, -65]\n",
      "正数和: 190\n"
     ]
    }
   ],
   "source": [
    "# 第一题\n",
    "\n",
    "import random\n",
    "\n",
    "def generate_random_list_and_sum_positives(n):\n",
    "    \"\"\"\n",
    "    生成一个包含 n 个随机整数的列表，并计算其中所有正数的和。\n",
    "\n",
    "    参数:\n",
    "    n (int): 列表中元素的数量。\n",
    "\n",
    "    返回:\n",
    "    tuple: 包含随机整数列表和正数的总和。\n",
    "    \"\"\"\n",
    "    # 生成随机整数列表，范围 -100 到 100\n",
    "    random_list = [random.randint(-100, 100) for _ in range(n)]\n",
    "    \n",
    "    # 计算正数的和\n",
    "    positive_sum = sum(num for num in random_list if num > 0)\n",
    "    \n",
    "    return random_list, positive_sum\n",
    "\n",
    "# 示例用法\n",
    "n = 10  # 生成 10 个随机整数\n",
    "random_list, positive_sum = generate_random_list_and_sum_positives(n)\n",
    "print(\"随机列表:\", random_list)\n",
    "print(\"正数和:\", positive_sum)"
   ]
  },
  {
   "cell_type": "code",
   "execution_count": 10,
   "id": "6820870a-37be-496d-88cf-a16575f74230",
   "metadata": {},
   "outputs": [
    {
     "name": "stdout",
     "output_type": "stream",
     "text": [
      "[['eat', 'tea', 'ate'], ['tan', 'nat'], ['bat']]\n",
      "[['']]\n",
      "[['a']]\n"
     ]
    }
   ],
   "source": [
    "# 第二题\n",
    "def group_anagrams(strs):\n",
    "    \"\"\"\n",
    "    将字母异位词组合在一起。\n",
    "\n",
    "    参数:\n",
    "    strs (list): 字符串列表。\n",
    "\n",
    "    返回:\n",
    "    list: 按照异位词分组后的结果列表。\n",
    "    \"\"\"\n",
    "    anagrams = {}  # 用于存储分组结果\n",
    "    for word in strs:\n",
    "        # 对每个单词进行排序，排序后的字符串作为字典的键\n",
    "        key = ''.join(sorted(word))\n",
    "        if key not in anagrams:\n",
    "            anagrams[key] = []\n",
    "        anagrams[key].append(word)\n",
    "    # 返回所有分组\n",
    "    return list(anagrams.values())\n",
    "\n",
    "# 示例用法\n",
    "strs1 = [\"eat\", \"tea\", \"tan\", \"ate\", \"nat\", \"bat\"]\n",
    "print(group_anagrams(strs1))  # 输出: [[\"eat\",\"tea\",\"ate\"],[\"tan\",\"nat\"],[\"bat\"]]\n",
    "\n",
    "strs2 = [\"\"]\n",
    "print(group_anagrams(strs2))  # 输出: [[\"\"]]\n",
    "\n",
    "strs3 = [\"a\"]\n",
    "print(group_anagrams(strs3))  # 输出: [[\"a\"]]\n"
   ]
  },
  {
   "cell_type": "code",
   "execution_count": null,
   "id": "3be3f360-94bd-4c95-9651-5599b898e714",
   "metadata": {},
   "outputs": [],
   "source": []
  }
 ],
 "metadata": {
  "kernelspec": {
   "display_name": "Python 3 (ipykernel)",
   "language": "python",
   "name": "python3"
  },
  "language_info": {
   "codemirror_mode": {
    "name": "ipython",
    "version": 3
   },
   "file_extension": ".py",
   "mimetype": "text/x-python",
   "name": "python",
   "nbconvert_exporter": "python",
   "pygments_lexer": "ipython3",
   "version": "3.10.15"
  }
 },
 "nbformat": 4,
 "nbformat_minor": 5
}
