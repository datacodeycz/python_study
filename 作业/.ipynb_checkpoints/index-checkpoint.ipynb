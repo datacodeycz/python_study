{
 "cells": [
  {
   "cell_type": "markdown",
   "id": "3be5b009-53e7-4a9a-b916-1836b18b5c3a",
   "metadata": {},
   "source": [
    "# 代码作业\n",
    "\n",
    "本章收录了课程中的代码作业内容，包括每周作业、期中考试练习以及每日练习任务。这些作业旨在帮助你巩固所学知识，并通过实践提升编程技能。\n",
    "\n",
    "## 目录\n",
    "- [第七周作业](01_第七周作业.ipynb)  \n",
    "- [第九周作业](02_第九周作业.ipynb)  \n",
    "- [第十周作业](03_第十周作业.ipynb)  \n",
    "- [期中考试](04_期中考试.ipynb)  \n",
    "- [天天练](05_天天练.ipynb)  "
   ]
  },
  {
   "cell_type": "code",
   "execution_count": null,
   "id": "c92c1ad3-5bdf-4562-9ddc-3e0629b79f1c",
   "metadata": {},
   "outputs": [],
   "source": []
  }
 ],
 "metadata": {
  "kernelspec": {
   "display_name": "Python 3 (ipykernel)",
   "language": "python",
   "name": "python3"
  },
  "language_info": {
   "codemirror_mode": {
    "name": "ipython",
    "version": 3
   },
   "file_extension": ".py",
   "mimetype": "text/x-python",
   "name": "python",
   "nbconvert_exporter": "python",
   "pygments_lexer": "ipython3",
   "version": "3.10.15"
  }
 },
 "nbformat": 4,
 "nbformat_minor": 5
}
