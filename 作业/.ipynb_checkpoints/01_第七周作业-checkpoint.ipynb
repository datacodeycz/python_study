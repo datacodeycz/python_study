{
 "cells": [
  {
   "cell_type": "markdown",
   "id": "a3863fce-d4c2-4ebd-aa15-b8f9d2a4d0e7",
   "metadata": {},
   "source": [
    "1.编写一个Python程序，要求用户输入一个整数，如果这个数是正数，输出\"这是一个正数\"，否则输出\"这不是一个正数\"。\n",
    "\n",
    "    1.要求用户输入  int(input())\n",
    "    2.判断这个数是否为一个正数 num > 0 正数  否则 不是一个正数"
   ]
  },
  {
   "cell_type": "code",
   "execution_count": 6,
   "id": "f30d0958-29b8-487f-96aa-a0cbdf451f8b",
   "metadata": {},
   "outputs": [
    {
     "name": "stdin",
     "output_type": "stream",
     "text": [
      "请输入一个整数： -1\n"
     ]
    },
    {
     "name": "stdout",
     "output_type": "stream",
     "text": [
      "这不是一个正数\n"
     ]
    }
   ],
   "source": [
    "num = int(input(\"请输入一个整数：\"))\n",
    "if num > 0:\n",
    "    print('这是一个正数')\n",
    "else:\n",
    "    print('这不是一个正数')"
   ]
  },
  {
   "cell_type": "markdown",
   "id": "775f72f6-5d4c-41f9-9a85-94665e5cecd6",
   "metadata": {},
   "source": [
    "2.编写一个程序，要求用户输入一个整数，判断该数是奇数还是偶数，并输出相应的结果\n",
    "    \n",
    "    1.用户输入整数 input\n",
    "    2.判断是否为奇数还是偶数  num % 2 == 0  偶数  否则 奇数"
   ]
  },
  {
   "cell_type": "code",
   "execution_count": 8,
   "id": "33858471-a665-45cc-87a0-a5f1f4cab37f",
   "metadata": {},
   "outputs": [
    {
     "name": "stdin",
     "output_type": "stream",
     "text": [
      "请输入一个整数: 10\n"
     ]
    },
    {
     "name": "stdout",
     "output_type": "stream",
     "text": [
      "是一个偶数\n"
     ]
    }
   ],
   "source": [
    "num = int(input(\"请输入一个整数:\"))\n",
    "if num % 2 == 0:\n",
    "    print(\"是一个偶数\")\n",
    "else:\n",
    "    print(\"是一个奇数\")"
   ]
  },
  {
   "cell_type": "markdown",
   "id": "4ca1cea9-0796-422b-abcb-73050faf2dc3",
   "metadata": {},
   "source": [
    "3.编写一个Python程序，要求用户输入成绩，然后根据成绩输出相应的等级。\n",
    "- 大于等于90分，输出“A”\n",
    "- 大于等于80分，小于90分，输出“B”\n",
    "- 大于等于70分，小于80分，输出“C”\n",
    "- 大于等于60分，小于70分，输出“D”\n",
    "- 小于60分，输出“F”\n"
   ]
  },
  {
   "cell_type": "code",
   "execution_count": 10,
   "id": "67f766e7-de4b-4f97-a3f0-fafa044f5bc7",
   "metadata": {},
   "outputs": [
    {
     "name": "stdin",
     "output_type": "stream",
     "text": [
      "请输入你的成绩: 59\n"
     ]
    },
    {
     "name": "stdout",
     "output_type": "stream",
     "text": [
      "F\n"
     ]
    }
   ],
   "source": [
    "num = int(input(\"请输入你的成绩:\"))\n",
    "if num >= 90:\n",
    "    print('A')\n",
    "elif num >=80:\n",
    "    print('B')\n",
    "elif num >=70:\n",
    "    print('C')\n",
    "elif num >=60:\n",
    "    print('D')\n",
    "else:\n",
    "    print('F')"
   ]
  },
  {
   "cell_type": "markdown",
   "id": "bceb2357-ed63-4838-a294-976e4ba3c097",
   "metadata": {},
   "source": [
    "4.编写一个程序，要求用户输入三角形的三条边长，判断这三条边能否构成一个三角形。如果可以，输出“可以构成三角形”；否则输出“不能构成三角形”。\n",
    "\n",
    "提示：三角形的任意两边之和必须大于第三边。\n",
    "\n",
    "    1.用户输入 l1 l2 l3\n",
    "    2.是否构成三角形\n",
    "        l1 + l2 > l3 and l1 + l3 > l2 and l2 + l3 > l1"
   ]
  },
  {
   "cell_type": "code",
   "execution_count": 12,
   "id": "db440bab-1d75-478b-832d-da97c7e5db27",
   "metadata": {},
   "outputs": [
    {
     "name": "stdin",
     "output_type": "stream",
     "text": [
      "请输入三角形的第一条边 3\n",
      "请输入三角形的第二条边 4\n",
      "请输入三角形的第三条边 5\n"
     ]
    },
    {
     "name": "stdout",
     "output_type": "stream",
     "text": [
      "可以构成三角形\n"
     ]
    }
   ],
   "source": [
    "l1 = float(input('请输入三角形的第一条边'))\n",
    "l2 = float(input('请输入三角形的第二条边'))\n",
    "l3 = float(input('请输入三角形的第三条边'))\n",
    "\n",
    "if l1 + l2 > l3 and l1 + l3 > l2 and l2 + l3 > l1:\n",
    "    print(\"可以构成三角形\")\n",
    "else:\n",
    "    print('不可以构成三角形')"
   ]
  },
  {
   "cell_type": "markdown",
   "id": "4f12820c-61ad-41f7-8b7b-4b6c96a8bd20",
   "metadata": {},
   "source": [
    "5.编写一个程序，要求用户输入一个整数`n`，然后输出`1`到`n`的乘法表。例如，用户输入`3`，程序输出：\n",
    "\n",
    "    1 * 1 = 1\n",
    "    1 * 2 = 2    2 * 2 = 4\n",
    "    1 * 3 = 3    2 * 3 = 6  3 * 3 = 9\n",
    "    \n",
    "    1.用户输入\n",
    "       \n",
    "       假设 x * y\n",
    "    假设x为一个定值（行不通）\n",
    "    x = 1\n",
    "\n",
    "    假设y为一个定值\n",
    "    y = 2\n",
    "\n",
    "    x 由y决定  x的取值范围 (1,y)"
   ]
  },
  {
   "cell_type": "code",
   "execution_count": 20,
   "id": "2f54d12e-797e-4966-99e8-04fe167b8e2e",
   "metadata": {},
   "outputs": [
    {
     "name": "stdin",
     "output_type": "stream",
     "text": [
      "请输入一个整数: 10\n"
     ]
    },
    {
     "name": "stdout",
     "output_type": "stream",
     "text": [
      "1 * 1 = 1   \t\n",
      "1 * 2 = 2   2 * 2 = 4   \t\n",
      "1 * 3 = 3   2 * 3 = 6   3 * 3 = 9   \t\n",
      "1 * 4 = 4   2 * 4 = 8   3 * 4 = 12   4 * 4 = 16   \t\n",
      "1 * 5 = 5   2 * 5 = 10   3 * 5 = 15   4 * 5 = 20   5 * 5 = 25   \t\n",
      "1 * 6 = 6   2 * 6 = 12   3 * 6 = 18   4 * 6 = 24   5 * 6 = 30   6 * 6 = 36   \t\n",
      "1 * 7 = 7   2 * 7 = 14   3 * 7 = 21   4 * 7 = 28   5 * 7 = 35   6 * 7 = 42   7 * 7 = 49   \t\n",
      "1 * 8 = 8   2 * 8 = 16   3 * 8 = 24   4 * 8 = 32   5 * 8 = 40   6 * 8 = 48   7 * 8 = 56   8 * 8 = 64   \t\n",
      "1 * 9 = 9   2 * 9 = 18   3 * 9 = 27   4 * 9 = 36   5 * 9 = 45   6 * 9 = 54   7 * 9 = 63   8 * 9 = 72   9 * 9 = 81   \t\n",
      "1 * 10 = 10   2 * 10 = 20   3 * 10 = 30   4 * 10 = 40   5 * 10 = 50   6 * 10 = 60   7 * 10 = 70   8 * 10 = 80   9 * 10 = 90   10 * 10 = 100   \t\n"
     ]
    }
   ],
   "source": [
    "n = int(input(\"请输入一个整数:\"))\n",
    "\n",
    "for y in range(1, n + 1):\n",
    "    for x in range(1, y+1):\n",
    "        print(f'{x} * {y} = {x * y}', end='   ')\n",
    "    print('\\t')"
   ]
  },
  {
   "cell_type": "markdown",
   "id": "7833397c-4142-4172-8710-ec5719f55748",
   "metadata": {},
   "source": [
    "6.编写一个Python程序，要求用户输入三个整数，程序将它们从小到大排序后输出。\n",
    "\n",
    "    1.用户输入  a  b  c\n",
    "    2.排序\n",
    "        每一次找一个最大值"
   ]
  },
  {
   "cell_type": "code",
   "execution_count": 25,
   "id": "9edf7420-7714-4364-9510-6d54ce6804e6",
   "metadata": {},
   "outputs": [
    {
     "name": "stdin",
     "output_type": "stream",
     "text": [
      "请输入一个整数: 5\n",
      "请输入一个整数: 4\n",
      "请输入一个整数: 23\n"
     ]
    },
    {
     "name": "stdout",
     "output_type": "stream",
     "text": [
      "4 5 23\n"
     ]
    }
   ],
   "source": [
    "a = int(input(\"请输入一个整数:\"))\n",
    "b = int(input(\"请输入一个整数:\"))\n",
    "c = int(input(\"请输入一个整数:\"))\n",
    "\n",
    "if a > b:\n",
    "    a, b = b, a\n",
    "if b > c:\n",
    "    b, c = c, b\n",
    "\n",
    "if a > b:\n",
    "    a, b = b, a  \n",
    "\n",
    "print(a, b, c)"
   ]
  },
  {
   "cell_type": "markdown",
   "id": "8b82e1df-b488-457d-b987-328fe87376d7",
   "metadata": {},
   "source": [
    "7.编写一个Python程序，要求用户输入一个正整数，程序输出其反转后的数字。例如，用户输入12345，程序输出54321。\n",
    "\n",
    "    \n",
    "    \n",
    "\n",
    "    1.用户输入\n",
    "    2.反转数字\n",
    "        可以把目标元素的最后一个取出来\n",
    "        假设 1    1\n",
    "        1 * 1\n",
    "\n",
    "        假设 12    21 \n",
    "        2 * 10 + 1 * 1 = 21\n",
    "\n",
    "        假设 123  321\n",
    "        3 * 100 + 2 * 10 +  1 * 1 = 321\n",
    "\n",
    "        假设 1234   4321\n",
    "        4 * 1000 + 3 * 100 + 2 * 10 + 1 * 1 = 4321\n",
    "\n",
    "        取出最后一个元素 * 10   原数字变成 1234"
   ]
  },
  {
   "cell_type": "code",
   "execution_count": 35,
   "id": "4109e0c7-efc1-459e-9e47-aa8367963ed1",
   "metadata": {},
   "outputs": [
    {
     "name": "stdin",
     "output_type": "stream",
     "text": [
      "请输入一个正整数 123\n"
     ]
    },
    {
     "name": "stdout",
     "output_type": "stream",
     "text": [
      "321\n"
     ]
    }
   ],
   "source": [
    "num = input(\"请输入一个正整数\")\n",
    "print(int(num[::-1]))"
   ]
  },
  {
   "cell_type": "code",
   "execution_count": 34,
   "id": "b8660f7c-f667-421d-80e5-17d45ba18ca6",
   "metadata": {},
   "outputs": [
    {
     "name": "stdin",
     "output_type": "stream",
     "text": [
      "请输入一个正整数 12345\n"
     ]
    },
    {
     "data": {
      "text/plain": [
       "54321"
      ]
     },
     "execution_count": 34,
     "metadata": {},
     "output_type": "execute_result"
    }
   ],
   "source": [
    "num = int(input(\"请输入一个正整数\"))\n",
    "re_num = 0\n",
    "while num > 0:\n",
    "    re_num = re_num * 10 + num % 10  # 5  50 + 4 = 54   54 * 10  540 + 3 = 543\n",
    "    num = num // 10\n",
    "\n",
    "re_num"
   ]
  },
  {
   "cell_type": "markdown",
   "id": "13f8e56d-b5f0-4e3c-9b0e-96ea0429ba65",
   "metadata": {},
   "source": [
    "8.编写一个程序，判断用户输入的一个正整数是否为完全数。完全数是指一个数等于其所有因子(包括1，但不包括其自身)之和。例如，6是完全数，因为6 = 1 + 2 + 3。\n",
    "\n",
    "（10.0分）\n",
    "\n",
    "    1.用户输入\n",
    "    2.判断是否为一个完全数\n",
    "        完全数：这个数所有因子相加 等于这个数\n",
    "        因子：可以 数1 除以 数2 如果这个结果的余数为0 数2就是数1的因子 \n",
    "        数2取值范围 [1，数1)"
   ]
  },
  {
   "cell_type": "code",
   "execution_count": 38,
   "id": "aef115b5-7fd2-4335-9e19-51a19f4d2e1f",
   "metadata": {},
   "outputs": [
    {
     "name": "stdin",
     "output_type": "stream",
     "text": [
      "请输入一个正整数 6\n"
     ]
    },
    {
     "name": "stdout",
     "output_type": "stream",
     "text": [
      "1\n",
      "2\n",
      "3\n",
      "是一个完全数\n"
     ]
    }
   ],
   "source": [
    "num = int(input(\"请输入一个正整数\"))\n",
    "\n",
    "s = 0  # 因子之和\n",
    "for x in range(1, num):\n",
    "    if num % x == 0:\n",
    "        print(x)\n",
    "        s = s + x\n",
    "\n",
    "if s == num:\n",
    "    print('是一个完全数')\n",
    "else:\n",
    "    print('不是一个完全数')"
   ]
  },
  {
   "cell_type": "markdown",
   "id": "76021ecd-f975-4976-a0e6-5f95085d37a3",
   "metadata": {},
   "source": [
    "9.古典问题:“百钱买百鸡”，即公鸡5钱一只，母鸡3钱一只，小鸡1钱三只，现有100钱，要买100只鸡，问如何买公鸡、母鸡、小鸡各多少只?\n",
    "\n",
    "（15.0分）\n",
    "\n",
    "    1.假设公鸡 买了x只  母鸡买了y只   小鸡买了3z只\n",
    "\n",
    "    花的钱：5x + 3y + z = 100\n",
    "    买的鸡数：x + y + 3z = 100\n",
    "\n",
    "    5x + 3y + z = 100\n",
    "    x + y + 3z = 100\n",
    "    5x + 5y + 15z = 500\n",
    "\n",
    "    2y + 14z = 400\n",
    "    y = 200 - 7z\n",
    "    x = 100 - 3z - 200 + 7z = -100 + 4z\n",
    "    假设z为一个定值\n",
    "    y = 200 - 7z\n",
    "    x = -100 + 4z\n",
    "\n",
    "    x, y , z 大于等于0"
   ]
  },
  {
   "cell_type": "code",
   "execution_count": 39,
   "id": "e1b1c8a1-85b1-43c2-b43a-801bc72a2b4d",
   "metadata": {},
   "outputs": [
    {
     "name": "stdout",
     "output_type": "stream",
     "text": [
      "0 25 75\n",
      "4 18 78\n",
      "8 11 81\n",
      "12 4 84\n"
     ]
    }
   ],
   "source": [
    "for z in range(0,33):\n",
    "    x = -100 + 4*z\n",
    "    y = 200 - 7*z\n",
    "    if x + y + 3*z == 100 and 5*x + 3*y + z == 100 and x >= 0 and y >= 0:\n",
    "        print(x,y,3*z)"
   ]
  },
  {
   "cell_type": "markdown",
   "id": "0d21bb35-3d51-4825-94bf-8414a5e97816",
   "metadata": {},
   "source": [
    "10.编写一个程序，要求用户输入一个正整数n，输出斐波那契数列的前n项。(斐波那契数列自行查阅)\n",
    "\n",
    "斐波那契数列的规律：1, 1, 2, 3, 5, 8 (前两项之和)\n",
    "\n",
    "    1.用户输入\n",
    "    2.输出斐波那契数列的前n项\n",
    "        第n项 = 第n-1项 + 第n-2项  n 至少有2项\n",
    "\n",
    "       第一项 a = 1\n",
    "       第二项 b = 1\n",
    "       第三项 a + b\n",
    "       第四项 b + a + b\n",
    "       第五项 a + b + b + a + b"
   ]
  },
  {
   "cell_type": "code",
   "execution_count": 42,
   "id": "8973c984-4896-4f47-be51-30bc5e6f4b9f",
   "metadata": {},
   "outputs": [
    {
     "name": "stdin",
     "output_type": "stream",
     "text": [
      "请输入一个正整数 10\n"
     ]
    },
    {
     "name": "stdout",
     "output_type": "stream",
     "text": [
      "1\n",
      "1\n",
      "2\n",
      "3\n",
      "5\n",
      "8\n",
      "13\n",
      "21\n",
      "34\n",
      "55\n"
     ]
    }
   ],
   "source": [
    "n = int(input(\"请输入一个正整数\"))\n",
    "a = 1\n",
    "b = 1\n",
    "for _ in range(n):\n",
    "    print(a)\n",
    "    a, b= b, a + b"
   ]
  },
  {
   "cell_type": "code",
   "execution_count": null,
   "id": "87402cf1-1356-4f76-9103-dc19a273cebb",
   "metadata": {},
   "outputs": [],
   "source": []
  }
 ],
 "metadata": {
  "kernelspec": {
   "display_name": "Python 3 (ipykernel)",
   "language": "python",
   "name": "python3"
  },
  "language_info": {
   "codemirror_mode": {
    "name": "ipython",
    "version": 3
   },
   "file_extension": ".py",
   "mimetype": "text/x-python",
   "name": "python",
   "nbconvert_exporter": "python",
   "pygments_lexer": "ipython3",
   "version": "3.10.14"
  }
 },
 "nbformat": 4,
 "nbformat_minor": 5
}
