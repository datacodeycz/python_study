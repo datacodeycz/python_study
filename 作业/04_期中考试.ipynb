{
 "cells": [
  {
   "cell_type": "markdown",
   "id": "a3bd4a41-c829-450c-a39c-76a90ccfd22c",
   "metadata": {},
   "source": [
    "1.写出一个Python代码，用 input 函数获取用户的名字和成绩，成绩包括Java、Python、Linux、\n",
    "network，将用户的名字和成绩关联在一起输出（使用字典）（）\n",
    "\n",
    "示例输出：\n",
    "    \n",
    "    请输入你的名字：小明\n",
    "    请输入你的成绩依次为java，python，linux，network：100,100,100,100\n",
    "    欢迎你，小明！\n",
    "    你的成绩是：java：100，python：100，linux：100，network：100"
   ]
  },
  {
   "cell_type": "code",
   "execution_count": 9,
   "id": "594ad33a-1ee5-491d-8949-f4a2945d28eb",
   "metadata": {},
   "outputs": [
    {
     "name": "stdin",
     "output_type": "stream",
     "text": [
      "请输入你的名字： xiaohua\n",
      "请输入你的成绩依次为java,python,linux,network: 100,100,100,100\n"
     ]
    },
    {
     "name": "stdout",
     "output_type": "stream",
     "text": [
      "['100', '100', '100', '100']\n",
      "欢迎你，xiaohua\n",
      "你的成绩是{'java': '100', 'python': '100', 'linux': '100', 'network': '100'}\n"
     ]
    }
   ],
   "source": [
    "name = input(\"请输入你的名字：\")\n",
    "# print(name)\n",
    "# name = '小明'\n",
    "score = input('请输入你的成绩依次为java,python,linux,network:')  # \"100,100,100,100\"\n",
    "# print(score, type(score))\n",
    "# score = '100,90,80,70'\n",
    "score_list = score.split(',')\n",
    "print(score_list)\n",
    "\n",
    "'''\n",
    "{\n",
    "name:xiaoming\n",
    "    score:\n",
    "        java:\n",
    "        python:\n",
    "        linux:\n",
    "        network:\n",
    "}\n",
    "'''\n",
    "dict_infor = {'name':name, \n",
    "              'score':{'java': score_list[0], 'python':score_list[1], 'linux':score_list[2], 'network':score_list[3]}\n",
    "             }\n",
    "\n",
    "print('欢迎你，{}'.format(dict_infor.get('name')))\n",
    "print('你的成绩是{}'.format(dict_infor.get('score')))"
   ]
  },
  {
   "cell_type": "markdown",
   "id": "218619ac-40d3-4e8e-b16b-f73452b4aa57",
   "metadata": {},
   "source": [
    "3.写一个程序，用户输入一段英文句子，统计并输出句子中每个单词（不是字母）出现的次数：\n",
    "\n",
    "    示例输入： hello world hello\n",
    "    示例输出： {'hello': 2, 'world': 1}"
   ]
  },
  {
   "cell_type": "code",
   "execution_count": 13,
   "id": "bb5005b3-8cd6-4381-920c-4a8c58aa16e3",
   "metadata": {},
   "outputs": [
    {
     "name": "stdin",
     "output_type": "stream",
     "text": [
      "请输入一段英文句子： hello world hello world world\n"
     ]
    },
    {
     "name": "stdout",
     "output_type": "stream",
     "text": [
      "{'hello': 2, 'world': 3}\n"
     ]
    }
   ],
   "source": [
    "ws = input('请输入一段英文句子：')\n",
    "# ws = 'hello world hello'\n",
    "ws_list = ws.split()\n",
    "# print(ws)\n",
    "# print(w_list)\n",
    "dict_1 = {}  # 创建一个空的字典\n",
    "for w in ws_list:\n",
    "    count = ws_list.count(w)\n",
    "    dict_1[w] = count  # dict_1[存在的key] = 新的value\n",
    "\n",
    "print(dict_1)"
   ]
  },
  {
   "cell_type": "markdown",
   "id": "a34ecbce-3955-45e5-b3b7-d992f4deee09",
   "metadata": {},
   "source": [
    "4.编写一个程序，分析学生成绩列表，计算以下内容：\n",
    "    \n",
    "    students = [\n",
    "    {\"name\": \"小明\", \"score\": 75},\n",
    "    {\"name\": \"小红\", \"score\": 88},\n",
    "    {\"name\": \"小刚\", \"score\": 59},\n",
    "    {\"name\": \"小丽\", \"score\": 92},\n",
    "    ]\n",
    "1. 班级的平均分；\n",
    "2. 分数最高的学生姓名；\n",
    "3. 所有不及格（分数小于60分）的学生姓名。"
   ]
  },
  {
   "cell_type": "code",
   "execution_count": 19,
   "id": "e5dab57b-e0b0-44bf-aea4-78d61b31063c",
   "metadata": {},
   "outputs": [
    {
     "name": "stdout",
     "output_type": "stream",
     "text": [
      "78.5\n",
      "小丽\n",
      "['小刚']\n"
     ]
    }
   ],
   "source": [
    "students = [\n",
    "    {\"name\": \"小明\", \"score\": 75},\n",
    "    {\"name\": \"小红\", \"score\": 88},\n",
    "    {\"name\": \"小刚\", \"score\": 59},\n",
    "    {\"name\": \"小丽\", \"score\": 92},\n",
    "]\n",
    "sum_score = 0\n",
    "score_test = 0\n",
    "max_student = ''\n",
    "list_59 = []\n",
    "for student in students:\n",
    "\n",
    "    # 将学生的所有成绩加起来\n",
    "    sum_score = sum_score + student['score']\n",
    "    # 查找分数最高的学生\n",
    "    if score_test < student['score']:\n",
    "        score_test = student['score']\n",
    "        max_student = student['name']\n",
    "\n",
    "    if student['score'] < 60:\n",
    "        list_59.append(student['name'])\n",
    "         \n",
    "\n",
    "print(sum_score / len(students))  # 平均分\n",
    "print(max_student)\n",
    "print(list_59)"
   ]
  },
  {
   "cell_type": "code",
   "execution_count": null,
   "id": "c39fc262-a155-414f-9c3f-185f6d7aec0f",
   "metadata": {},
   "outputs": [],
   "source": []
  }
 ],
 "metadata": {
  "kernelspec": {
   "display_name": "Python 3 (ipykernel)",
   "language": "python",
   "name": "python3"
  },
  "language_info": {
   "codemirror_mode": {
    "name": "ipython",
    "version": 3
   },
   "file_extension": ".py",
   "mimetype": "text/x-python",
   "name": "python",
   "nbconvert_exporter": "python",
   "pygments_lexer": "ipython3",
   "version": "3.10.15"
  }
 },
 "nbformat": 4,
 "nbformat_minor": 5
}
