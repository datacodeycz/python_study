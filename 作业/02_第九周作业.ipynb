{
 "cells": [
  {
   "cell_type": "markdown",
   "id": "870e03a5-455a-44d3-9079-bf7fdf453eb7",
   "metadata": {},
   "source": [
    "# 第九周作业"
   ]
  },
  {
   "cell_type": "markdown",
   "id": "b1da3ddd-d511-4ed9-a1d9-df23780640e2",
   "metadata": {},
   "source": [
    "1.给定一个列表 `nums = [10, 20, 30, 40, 50, 60, 70, 80, 90]`，提取其中的下标为奇数的元素组成新的列表。"
   ]
  },
  {
   "cell_type": "code",
   "execution_count": 2,
   "id": "6da531f7-1d24-4400-9125-b173a5b2c5b2",
   "metadata": {},
   "outputs": [
    {
     "data": {
      "text/plain": [
       "[20, 40, 60, 80]"
      ]
     },
     "execution_count": 2,
     "metadata": {},
     "output_type": "execute_result"
    }
   ],
   "source": [
    "nums = [10, 20, 30, 40, 50, 60, 70, 80, 90]\n",
    "nums[1::2]"
   ]
  },
  {
   "cell_type": "markdown",
   "id": "d076f96e-3b68-4d5c-83c0-ea8f5188045b",
   "metadata": {},
   "source": [
    "2.给定一个字符串 `s = \"abcdefghij\"`，使用切片获取字符串中的所有奇数（元素位于奇数位）位字符。"
   ]
  },
  {
   "cell_type": "code",
   "execution_count": 4,
   "id": "aba9087f-e448-4009-805a-b99761a0871d",
   "metadata": {},
   "outputs": [
    {
     "data": {
      "text/plain": [
       "'acegi'"
      ]
     },
     "execution_count": 4,
     "metadata": {},
     "output_type": "execute_result"
    }
   ],
   "source": [
    "s = \"abcdefghij\"\n",
    "s[::2]"
   ]
  },
  {
   "cell_type": "markdown",
   "id": "d96d9278-6f96-464e-a87b-e5f61585df97",
   "metadata": {},
   "source": [
    "3.给定一个字符串 `s = \"Python Programming\"`，使用切片功能将其反转。"
   ]
  },
  {
   "cell_type": "code",
   "execution_count": 6,
   "id": "ff67e07a-180c-481c-bd2a-2a535921ccf9",
   "metadata": {},
   "outputs": [
    {
     "data": {
      "text/plain": [
       "'gnimmargorP nohtyP'"
      ]
     },
     "execution_count": 6,
     "metadata": {},
     "output_type": "execute_result"
    }
   ],
   "source": [
    "s = \"Python Programming\"\n",
    "s[::-1]"
   ]
  },
  {
   "cell_type": "markdown",
   "id": "6803c13e-3324-4444-89bf-8d8ffe1c4cbb",
   "metadata": {},
   "source": [
    "4.给定两个列表 `list1 = [1, 2, 3]` 和 `list2 = [4, 5, 6]`，合并两个列表为一个新列表，并返回结果。"
   ]
  },
  {
   "cell_type": "code",
   "execution_count": 8,
   "id": "0817d8fb-98f5-40eb-be72-e7c72860fc67",
   "metadata": {},
   "outputs": [
    {
     "data": {
      "text/plain": [
       "[1, 2, 3, 4, 5, 6]"
      ]
     },
     "execution_count": 8,
     "metadata": {},
     "output_type": "execute_result"
    }
   ],
   "source": [
    "list1 = [1, 2, 3]\n",
    "list2 = [4, 5, 6]\n",
    "list_3 = list1 + list2\n",
    "list_3"
   ]
  },
  {
   "cell_type": "markdown",
   "id": "62c47081-eadd-441d-88f6-c5d6a3d88503",
   "metadata": {},
   "source": [
    "5.将列表 `list1 = [1, 2, 3, 4, 5]` 中的第二个和第四个元素分别替换为 20 和 40。"
   ]
  },
  {
   "cell_type": "code",
   "execution_count": 10,
   "id": "299092da-5443-4205-a7bd-c709898d8e10",
   "metadata": {},
   "outputs": [
    {
     "data": {
      "text/plain": [
       "[1, 20, 3, 40, 5]"
      ]
     },
     "execution_count": 10,
     "metadata": {},
     "output_type": "execute_result"
    }
   ],
   "source": [
    "list1 = [1, 2, 3, 4, 5]\n",
    "list1[1] = 20\n",
    "list1[3] = 40\n",
    "list1"
   ]
  },
  {
   "cell_type": "markdown",
   "id": "9bd444c0-d0e2-4b0d-9c71-d7dc7f038ba7",
   "metadata": {},
   "source": [
    "6.编写一个函数，接受一个列表和切片步长，返回该列表中所有指定步长位置的元素的最大值。"
   ]
  },
  {
   "cell_type": "code",
   "execution_count": 11,
   "id": "64ca3f3d-ba8c-4bed-b5bf-d121a9369a92",
   "metadata": {},
   "outputs": [
    {
     "data": {
      "text/plain": [
       "5"
      ]
     },
     "execution_count": 11,
     "metadata": {},
     "output_type": "execute_result"
    }
   ],
   "source": [
    "def fun_test(list_1, step_size):\n",
    "    return max(list_1[::step_size])\n",
    "\n",
    "# 测试\n",
    "list1 = [1, 2, 3, 4, 5]\n",
    "fun_test(list1, 2)"
   ]
  },
  {
   "cell_type": "markdown",
   "id": "fef81de4-270f-4e2f-bdaa-fed9f3d510fd",
   "metadata": {},
   "source": [
    "7.给定一个句子 `sentence = \"This is a sample sentence\"`，用空格分割字符串并返回分割后的列表。"
   ]
  },
  {
   "cell_type": "code",
   "execution_count": 12,
   "id": "6143ebbe-1d43-4f41-b411-1a2cec862f29",
   "metadata": {},
   "outputs": [
    {
     "data": {
      "text/plain": [
       "['This', 'is', 'a', 'sample', 'sentence']"
      ]
     },
     "execution_count": 12,
     "metadata": {},
     "output_type": "execute_result"
    }
   ],
   "source": [
    "sentence = \"This is a sample sentence\"\n",
    "sentence.split()"
   ]
  },
  {
   "cell_type": "markdown",
   "id": "e51024f8-dc29-49b8-818b-94e21f725171",
   "metadata": {},
   "source": [
    "8.给定两个元组 `tuple1 = (1, 2, 3)` 和 `tuple2 = (4, 5, 6)`，合并它们为一个新的元组。"
   ]
  },
  {
   "cell_type": "code",
   "execution_count": 14,
   "id": "4877b79d-eb68-4e96-b1f4-19795e03bcce",
   "metadata": {},
   "outputs": [
    {
     "data": {
      "text/plain": [
       "(1, 2, 3, 4, 5, 6)"
      ]
     },
     "execution_count": 14,
     "metadata": {},
     "output_type": "execute_result"
    }
   ],
   "source": [
    "tuple1 = (1, 2, 3)\n",
    "tuple2 = (4, 5, 6)\n",
    "tuple3 = tuple1 + tuple2\n",
    "tuple3"
   ]
  },
  {
   "cell_type": "markdown",
   "id": "86226093-6b6b-47f8-9736-bc96f94b01ae",
   "metadata": {},
   "source": [
    "9.编写一个函数，计算一个包含整数的元组中的偶数个数。"
   ]
  },
  {
   "cell_type": "code",
   "execution_count": 15,
   "id": "c91f61ac-e9e4-4be2-af78-bb32da7cf512",
   "metadata": {},
   "outputs": [
    {
     "data": {
      "text/plain": [
       "3"
      ]
     },
     "execution_count": 15,
     "metadata": {},
     "output_type": "execute_result"
    }
   ],
   "source": [
    "def tuple_even_numer(tuple1):\n",
    "    sum = 0\n",
    "    for x in tuple1:\n",
    "        if (x % 2 == 0):\n",
    "            sum = sum + 1\n",
    "    return sum\n",
    "\n",
    "tuple1 = (2,3,4,5,6,7)\n",
    "tuple_even_numer(tuple1)"
   ]
  },
  {
   "cell_type": "markdown",
   "id": "1e35cb60-0181-4355-85f4-ece136bab203",
   "metadata": {},
   "source": [
    "10.给定一个字符串 `text = \"Hello, World!\"`，使用切片将“Hello”和“World”交换位置，使得结果为 `\"World, Hello!\"`。"
   ]
  },
  {
   "cell_type": "code",
   "execution_count": 25,
   "id": "f8b11fa1-8ab9-455e-9bce-6edd24ebfbe4",
   "metadata": {},
   "outputs": [
    {
     "data": {
      "text/plain": [
       "'World, Hello!'"
      ]
     },
     "execution_count": 25,
     "metadata": {},
     "output_type": "execute_result"
    }
   ],
   "source": [
    "text = \"Hello, World!\"\n",
    "hello = text[0:5]\n",
    "world = text[-6:-1:1]\n",
    "text =  world+ ', ' + hello + \"!\"\n",
    "text"
   ]
  },
  {
   "cell_type": "markdown",
   "id": "ec340e1c-531a-4223-9d5a-cbbc76396c08",
   "metadata": {},
   "source": [
    "11.给定一个整数列表 `nums = [1, -2, 3, 4, -1, 2, 1, -5, 4]`，找到列表中所有可能的连续切片，返回和最大的切片。"
   ]
  },
  {
   "cell_type": "code",
   "execution_count": 36,
   "id": "3e41a664-9014-4699-b1d3-43275854086e",
   "metadata": {},
   "outputs": [
    {
     "data": {
      "text/plain": [
       "9"
      ]
     },
     "execution_count": 36,
     "metadata": {},
     "output_type": "execute_result"
    }
   ],
   "source": [
    "nums = [1, -2, 3, 4, -1, 2, 1, -5, 4]\n",
    "test_list = []\n",
    "for i in range(len(nums)):\n",
    "    for j in range(i+1,len(nums)):\n",
    "        # print(i,j)  # 测试\n",
    "        test_list.append(sum(nums[i:j:]))\n",
    "\n",
    "max(test_list)"
   ]
  },
  {
   "cell_type": "markdown",
   "id": "417c2164-1b2b-46a1-8ec7-9fac81971b53",
   "metadata": {},
   "source": [
    "12.给定列表 `fruits = [\"apple\", \"banana\", \"cherry\", \"date\", \"elderberry\"]`，编写代码获取列表中每个元素的索引位置。"
   ]
  },
  {
   "cell_type": "code",
   "execution_count": 46,
   "id": "1831f521-0d43-41cd-a208-9e5670cc59b1",
   "metadata": {},
   "outputs": [
    {
     "name": "stdout",
     "output_type": "stream",
     "text": [
      "apple中元素的索引：\n",
      "a元素的下标为：0,0\n",
      "p元素的下标为：0,1\n",
      "p元素的下标为：0,2\n",
      "l元素的下标为：0,3\n",
      "e元素的下标为：0,4\n",
      "banana中元素的索引：\n",
      "b元素的下标为：1,0\n",
      "a元素的下标为：1,1\n",
      "n元素的下标为：1,2\n",
      "a元素的下标为：1,3\n",
      "n元素的下标为：1,4\n",
      "a元素的下标为：1,5\n",
      "cherry中元素的索引：\n",
      "c元素的下标为：2,0\n",
      "h元素的下标为：2,1\n",
      "e元素的下标为：2,2\n",
      "r元素的下标为：2,3\n",
      "r元素的下标为：2,4\n",
      "y元素的下标为：2,5\n",
      "date中元素的索引：\n",
      "d元素的下标为：3,0\n",
      "a元素的下标为：3,1\n",
      "t元素的下标为：3,2\n",
      "e元素的下标为：3,3\n",
      "elderberry中元素的索引：\n",
      "e元素的下标为：4,0\n",
      "l元素的下标为：4,1\n",
      "d元素的下标为：4,2\n",
      "e元素的下标为：4,3\n",
      "r元素的下标为：4,4\n",
      "b元素的下标为：4,5\n",
      "e元素的下标为：4,6\n",
      "r元素的下标为：4,7\n",
      "r元素的下标为：4,8\n",
      "y元素的下标为：4,9\n"
     ]
    }
   ],
   "source": [
    "fruits = [\"apple\", \"banana\", \"cherry\", \"date\", \"elderberry\"]\n",
    "m = 0  # 列表的下标\n",
    "for i in fruits:\n",
    "    n = 0  # 字符串的下标\n",
    "    print(f'{i}中元素的索引：')\n",
    "    for j in i:\n",
    "        print(f'{j}元素的下标为：{m},{n}')\n",
    "        n = n + 1\n",
    "    m = m + 1"
   ]
  },
  {
   "cell_type": "markdown",
   "id": "31f66c31-e2d3-43d0-86cc-271a1e66a3c5",
   "metadata": {},
   "source": [
    "13.给定一个元组 `data = (\"John\", 25, \"Engineer\")`，分别将其拆解为 `name`, `age`, `profession` 三个变量。"
   ]
  },
  {
   "cell_type": "code",
   "execution_count": 48,
   "id": "37403848-02f9-4f29-8e5d-37169e292104",
   "metadata": {},
   "outputs": [
    {
     "data": {
      "text/plain": [
       "'name = John age = 25 profession = Engineer'"
      ]
     },
     "execution_count": 48,
     "metadata": {},
     "output_type": "execute_result"
    }
   ],
   "source": [
    "data = (\"John\", 25, \"Engineer\")\n",
    "name = data[0]\n",
    "age = data[1]\n",
    "profession = data[2]\n",
    "f'name = {name} age = {age} profession = {profession}'"
   ]
  },
  {
   "cell_type": "markdown",
   "id": "05aeb438-849e-4f3b-ac65-6d900fc76158",
   "metadata": {},
   "source": [
    "14.给定一个列表 `items = [1, 2, 3, 2, 4, 1, 5]`，移除列表中的重复元素。"
   ]
  },
  {
   "cell_type": "code",
   "execution_count": 53,
   "id": "7cd05716-3439-4791-879b-d54ae90d0de5",
   "metadata": {},
   "outputs": [
    {
     "data": {
      "text/plain": [
       "[1, 2, 3, 4, 5]"
      ]
     },
     "execution_count": 53,
     "metadata": {},
     "output_type": "execute_result"
    }
   ],
   "source": [
    "# 超纲写法(使用了set集合的方式)\n",
    "items = [1, 2, 3, 2, 4, 1, 5]\n",
    "items_set = set(items)\n",
    "items = list(items_set)\n",
    "items"
   ]
  },
  {
   "cell_type": "code",
   "execution_count": 56,
   "id": "fb3ec42c-a524-4ee0-953b-5bde815cf048",
   "metadata": {},
   "outputs": [
    {
     "data": {
      "text/plain": [
       "[3, 2, 4, 1, 5]"
      ]
     },
     "execution_count": 56,
     "metadata": {},
     "output_type": "execute_result"
    }
   ],
   "source": [
    "items = [1, 2, 3, 2, 4, 1, 5]\n",
    "\n",
    "for x in items:\n",
    "    if items.count(x) != 1:\n",
    "        items.remove(x)\n",
    "items"
   ]
  },
  {
   "cell_type": "markdown",
   "id": "5a43f0c5-e001-4d02-8e42-dc415ec7404d",
   "metadata": {},
   "source": [
    "15.给定一个名字和年龄，例如 `name = \"Alice\"` 和 `age = 30`，生成格式化的字符串 `\"Alice is 30 years old\"`。"
   ]
  },
  {
   "cell_type": "code",
   "execution_count": 57,
   "id": "d7675de9-62a1-4339-9a62-bc4a3fd35628",
   "metadata": {},
   "outputs": [
    {
     "name": "stdout",
     "output_type": "stream",
     "text": [
      "Alice is 30 years old\n"
     ]
    }
   ],
   "source": [
    "name = \"Alice\"\n",
    "age = 30\n",
    "print(f'{name} is {age} years old')"
   ]
  },
  {
   "cell_type": "markdown",
   "id": "cdd8c0ee-b1db-4ae6-aa1a-32c2350d9144",
   "metadata": {},
   "source": [
    "16.给定列表 `numbers = [10, 20, 30, 40, 50, 60]`，编写代码获取从第三个到第五个元素的子列表。"
   ]
  },
  {
   "cell_type": "code",
   "execution_count": 58,
   "id": "41f9ac40-11a2-4bc9-8e29-6e47052d80b8",
   "metadata": {},
   "outputs": [
    {
     "data": {
      "text/plain": [
       "[30, 40, 50]"
      ]
     },
     "execution_count": 58,
     "metadata": {},
     "output_type": "execute_result"
    }
   ],
   "source": [
    "numbers = [10, 20, 30, 40, 50, 60]\n",
    "numbers[2:5]"
   ]
  },
  {
   "cell_type": "markdown",
   "id": "2fbf0545-699a-436a-9104-9f5b0c12c5b2",
   "metadata": {},
   "source": [
    "17.给定元组 `numbers = (1, 2, 3, 4, 5)`，使用切片功能将其反转，并返回新的元组。"
   ]
  },
  {
   "cell_type": "code",
   "execution_count": 59,
   "id": "21049a3c-4b86-4de8-bccb-fe84ffd5fdf0",
   "metadata": {},
   "outputs": [
    {
     "data": {
      "text/plain": [
       "(5, 4, 3, 2, 1)"
      ]
     },
     "execution_count": 59,
     "metadata": {},
     "output_type": "execute_result"
    }
   ],
   "source": [
    "numbers = (1, 2, 3, 4, 5)\n",
    "numbers_new = numbers[::-1]\n",
    "numbers_new"
   ]
  },
  {
   "cell_type": "markdown",
   "id": "7e1b1b0a-95c4-436f-a208-229d79728a04",
   "metadata": {},
   "source": [
    "18.给定字符串 `numbers = \"1, 2, 3, 4, 5\"`，编写代码将其转换为整数类型的元组。"
   ]
  },
  {
   "cell_type": "code",
   "execution_count": 60,
   "id": "c8a476be-3b9c-4a06-8765-8eea396f66b4",
   "metadata": {},
   "outputs": [
    {
     "data": {
      "text/plain": [
       "[1, 2, 3, 4, 5]"
      ]
     },
     "execution_count": 60,
     "metadata": {},
     "output_type": "execute_result"
    }
   ],
   "source": [
    "numbers = \"1, 2, 3, 4, 5\"\n",
    "numbers_list_str = numbers.split(', ')\n",
    "numbers_list_int = []\n",
    "for i in numbers_list_str:\n",
    "    numbers_list_int.append(int(i))\n",
    "\n",
    "numbers_list_int"
   ]
  },
  {
   "cell_type": "markdown",
   "id": "ecb47050-3fe7-43ad-9000-c9cf068444df",
   "metadata": {},
   "source": [
    "19.给定列表 `nums = [1, 2, 3, 4, 5]`，将其中所有偶数替换为它们的负数（如 2 替换为 -2）。"
   ]
  },
  {
   "cell_type": "code",
   "execution_count": 62,
   "id": "f959f5db-1948-449a-bdef-766a6bcd07bc",
   "metadata": {},
   "outputs": [
    {
     "data": {
      "text/plain": [
       "[1, -2, 3, -4, 5]"
      ]
     },
     "execution_count": 62,
     "metadata": {},
     "output_type": "execute_result"
    }
   ],
   "source": [
    "nums = [1, 2, 3, 4, 5]\n",
    "i = 0 # 表示下标\n",
    "for x in nums:\n",
    "    if (x % 2 == 0):\n",
    "        nums[i] = -x\n",
    "    i = i + 1\n",
    "nums"
   ]
  },
  {
   "cell_type": "markdown",
   "id": "d046565a-adb6-4bfb-943c-0f04eaf3796f",
   "metadata": {},
   "source": [
    "20.给定一个字符串 `s = \" Python Programming \"`，编写代码删除字符串开头和结尾的所有空格。"
   ]
  },
  {
   "cell_type": "code",
   "execution_count": 63,
   "id": "cc8834c8-866d-4b84-bf45-7d7083016ca9",
   "metadata": {},
   "outputs": [
    {
     "data": {
      "text/plain": [
       "'Python Programming'"
      ]
     },
     "execution_count": 63,
     "metadata": {},
     "output_type": "execute_result"
    }
   ],
   "source": [
    "s = \" Python Programming \"\n",
    "s.strip()"
   ]
  },
  {
   "cell_type": "markdown",
   "id": "8877521a-a369-4d8b-a68a-4011d3b2ec95",
   "metadata": {},
   "source": [
    "## 进阶难度\n",
    "21.给定一个二维列表 `matrix = [[1, 2, 3], [4, 5, 6], [7, 8, 9]]`，使用切片获取矩阵的子矩阵 `[4, 5], [8, 9]`。"
   ]
  },
  {
   "cell_type": "code",
   "execution_count": 75,
   "id": "67ce1652-57da-4990-a442-0cfeecd7274e",
   "metadata": {},
   "outputs": [
    {
     "data": {
      "text/plain": [
       "[[5, 6], [8, 9]]"
      ]
     },
     "execution_count": 75,
     "metadata": {},
     "output_type": "execute_result"
    }
   ],
   "source": [
    "matrix = [[1, 2, 3], [4, 5, 6], [7, 8, 9]]\n",
    "sub_matrix = []\n",
    "for x in matrix[1::]:\n",
    "    sub_matrix.append(x[1:])\n",
    "\n",
    "sub_matrix"
   ]
  },
  {
   "cell_type": "markdown",
   "id": "fcbf434a-7e5d-4402-8d6a-6b47dab1763f",
   "metadata": {},
   "source": [
    "22.编写一个函数 `rotate_list(lst, k)`，将列表 `lst` 向右旋转 `k` 位。例如，输入 `[1, 2, 3, 4, 5]` 和 `k = 2` 时，返回 `[4, 5, 1, 2, 3]`。\\\n",
    "列表向右旋转k位的意思：意味着每个元素右移k个索引，并将数组的最后k个元素移动到前k个元素中。"
   ]
  },
  {
   "cell_type": "code",
   "execution_count": 79,
   "id": "a698d1ee-4776-4e8d-b62f-b0c4da58c749",
   "metadata": {},
   "outputs": [
    {
     "name": "stdout",
     "output_type": "stream",
     "text": [
      "[4, 5, 1, 2, 3]\n"
     ]
    }
   ],
   "source": [
    "def rotate_list(lst, k):\n",
    "    k = k % len(lst)\n",
    "    return list_test[-k:] + list_test[:-k]\n",
    "list_test = [1, 2, 3, 4, 5]\n",
    "k = 2\n",
    "print(rotate_list(list_test, k))"
   ]
  },
  {
   "cell_type": "markdown",
   "id": "f990fcc0-d201-4493-9c8c-a0c9ee426f46",
   "metadata": {},
   "source": [
    "23.给定一个包含嵌套元组的序列，例如 `data = ((\"Alice\", 30), (\"Bob\", 25), (\"Charlie\", 35))`，将其解包为 `names` 和 `ages` 两个独立列表，分别包含姓名和年龄。"
   ]
  },
  {
   "cell_type": "code",
   "execution_count": 81,
   "id": "df144201-d947-4ba1-a0da-074332a42fb3",
   "metadata": {},
   "outputs": [
    {
     "name": "stdout",
     "output_type": "stream",
     "text": [
      "['Alice', 'Bob', 'Charlie'] [30, 25, 35]\n"
     ]
    }
   ],
   "source": [
    "data = ((\"Alice\", 30), (\"Bob\", 25), (\"Charlie\", 35))\n",
    "names = []\n",
    "ages = []\n",
    "for x in data:\n",
    "    names.append(x[0])\n",
    "    ages.append(x[1])\n",
    "\n",
    "print(names,ages)"
   ]
  },
  {
   "cell_type": "markdown",
   "id": "57271d0d-218b-4469-9d53-f32c3a508373",
   "metadata": {},
   "source": [
    "24.编写一个函数，接受一个字符串并返回其最长的回文子串。例如，输入 `\"babad\"`，应返回 `\"bab\"` 或 `\"aba\"`。"
   ]
  },
  {
   "cell_type": "code",
   "execution_count": null,
   "id": "7638ccc8-2175-4dae-af11-cbb9dbaf75cd",
   "metadata": {},
   "outputs": [],
   "source": [
    "def longest_palindrome(s):\n",
    "    "
   ]
  },
  {
   "cell_type": "markdown",
   "id": "650ba492-07c4-4260-a56d-5c097f622e46",
   "metadata": {},
   "source": [
    "25.给定一个二维列表（如 `4x4` 矩阵），编写代码以螺旋顺序提取元素。例如，对于矩阵 `[[1, 2, 3, 4], [5, 6, 7, 8], [9, 10, 11, 12], [13, 14, 15, 16]]`，输出 `[1, 2, 3, 4, 8, 12, 16, 15, 14, 13, 9, 5, 6, 7, 11, 10]`。"
   ]
  },
  {
   "cell_type": "code",
   "execution_count": 97,
   "id": "cd714c52-9bb8-4b7d-a08e-ed497d72ab0f",
   "metadata": {},
   "outputs": [
    {
     "data": {
      "text/plain": [
       "[1, 2, 3, 4, 8, 7, 6, 5, 9, 10, 11, 12, 16, 15, 14, 13]"
      ]
     },
     "execution_count": 97,
     "metadata": {},
     "output_type": "execute_result"
    }
   ],
   "source": [
    "def list_2d_print_1d(list1):\n",
    "    list_test_1d = []\n",
    "    # x用作表示下标\n",
    "    for x in range(len(list1)):\n",
    "        # 当下标为偶数时，左往右添加\n",
    "        if x % 2 == 0:\n",
    "            # y 表示为内部下标\n",
    "            for y in range(len(list1[0])):\n",
    "                list_test_1d.append(list1[x][y])\n",
    "        # 当下标为奇数时，右往左添加\n",
    "        else:\n",
    "            for y in range(-1,-len(list1[0])-1,-1):\n",
    "                list_test_1d.append(list1[x][y])\n",
    "    return list_test_1d\n",
    "\n",
    "\n",
    "list_test_2d = [[1, 2, 3, 4], \n",
    "                [5, 6, 7, 8], \n",
    "                [9, 10, 11, 12], \n",
    "                [13, 14, 15, 16]]\n",
    "\n",
    "list_2d_print_1d(list_test_2d)"
   ]
  },
  {
   "cell_type": "markdown",
   "id": "00f4c6ff-d5ee-438b-86d3-5dc12ab815e2",
   "metadata": {},
   "source": [
    "26.编写一个函数，接受字符串并返回其最长不含重复字符的子串。例如，输入 `\"abcabcbb\"`，应返回 `\"abc\"`。"
   ]
  },
  {
   "cell_type": "code",
   "execution_count": 1,
   "id": "8e36bf1b-8450-4f70-a2e0-86e62aad873e",
   "metadata": {},
   "outputs": [
    {
     "name": "stdout",
     "output_type": "stream",
     "text": [
      "aebcd\n"
     ]
    }
   ],
   "source": [
    "def longest_unique_substring(s):\n",
    "    result_s_list = []\n",
    "    i = 0  # 字符串的下标\n",
    "    while i < len(s):\n",
    "        result_s = ''\n",
    "        for x in range(i,len(s)):\n",
    "            if result_s.count(s[x]) == 0:\n",
    "                result_s = result_s + s[x]\n",
    "            else:\n",
    "                break\n",
    "        result_s_list.append(result_s)\n",
    "        i = i + 1\n",
    "    \n",
    "    result_str = ''\n",
    "    for x in result_s_list:\n",
    "        if len(result_str) < len(x):\n",
    "            result_str = x\n",
    "            \n",
    "    return result_str\n",
    "\n",
    "s = 'abcaebcdbb'\n",
    "print(longest_unique_substring(s))"
   ]
  },
  {
   "cell_type": "markdown",
   "id": "55750a3c-f741-4cdc-ac5c-a7c9a086c850",
   "metadata": {},
   "source": [
    "27.给定一个包含嵌套列表的列表（如 `nested_list = [1, [2, [3, 4], 5], 6]`），编写代码将其完全展开为一个一维列表 `[1, 2, 3, 4, 5, 6]`。"
   ]
  },
  {
   "cell_type": "code",
   "execution_count": 5,
   "id": "372fde5c-8c47-4540-9efb-d6f98ca6defc",
   "metadata": {},
   "outputs": [
    {
     "data": {
      "text/plain": [
       "[1, 2, 3, 4, 5, 6]"
      ]
     },
     "execution_count": 5,
     "metadata": {},
     "output_type": "execute_result"
    }
   ],
   "source": [
    "nested_list = [1, [2, [3, 4], 5], 6]\n",
    "\n",
    "def nested_1d(list1):\n",
    "    result = []\n",
    "    for x in list1:\n",
    "        if isinstance(x, list):\n",
    "            # 如果是一个列表,就需要继续拆\n",
    "            result.extend(nested_1d(x))\n",
    "        else:\n",
    "            # 如果不是一个列表,就直接添加到result里面\n",
    "            result.append(x)\n",
    "    return result\n",
    "\n",
    "nested_1d(nested_list)"
   ]
  },
  {
   "cell_type": "markdown",
   "id": "5cecda18-cd5a-41cb-99dc-a9a7d5ef6453",
   "metadata": {},
   "source": [
    "28.编写一个函数，将一个列表分割成长度为 `n` 的子列表，如果最后一个子列表元素不够，则使用 `None` 补足。例如，对于输入列表 `[1, 2, 3, 4, 5]` 和 `n=3`，输出 `[[1, 2, 3], [4, 5, None]]`。"
   ]
  },
  {
   "cell_type": "code",
   "execution_count": 14,
   "id": "af0ae4f8-4c42-42d0-9b1b-cd751417292c",
   "metadata": {},
   "outputs": [
    {
     "data": {
      "text/plain": [
       "[[1, 2, 3, 4, 5], [6, 7, 8, 9, None]]"
      ]
     },
     "execution_count": 14,
     "metadata": {},
     "output_type": "execute_result"
    }
   ],
   "source": [
    "def list_split_n(lst, n):\n",
    "    if n > len(lst):\n",
    "        poor = n - len(lst)\n",
    "        for _ in range(poor):\n",
    "            lst.append(None)\n",
    "    else:\n",
    "        # len(lst) >= n\n",
    "        result = []\n",
    "        i = 0  # 表示lst的下标\n",
    "        num = len(lst) // n  # 可以分割成几个完整的子列表\n",
    "        poor_1 = n - len(lst) % n  # 最后一个子列表差几个\n",
    "        # 将能够完整切割的进行切割\n",
    "        for _ in range(num): \n",
    "            sub_list = []\n",
    "            for _ in range(n):\n",
    "                sub_list.append(lst[i])\n",
    "                i = i + 1\n",
    "            result.append(sub_list)\n",
    "        if poor_1 != n:\n",
    "            sub_last_list = lst[i::]\n",
    "            for _ in range(poor_1):\n",
    "                sub_last_list.append(None)\n",
    "            result.append(sub_last_list)\n",
    "        return result\n",
    "\n",
    "list_split_n([1,2,3,4,5,6,7,8,9],5)"
   ]
  },
  {
   "cell_type": "code",
   "execution_count": 25,
   "id": "edbc6cb1-3460-4235-bb3a-9798fa1f6f63",
   "metadata": {},
   "outputs": [
    {
     "name": "stdout",
     "output_type": "stream",
     "text": [
      "[[1, 2, 3, 4, 5, None]]\n"
     ]
    }
   ],
   "source": [
    "def split_list(lst, n):\n",
    "    return [lst[i:i + n] + [None] * (n - len(lst[i:i + n])) for i in range(0, len(lst), n)]\n",
    "\n",
    "print(split_list([1, 2, 3, 4, 5], 6))  # 输出: [[1, 2, 3], [4, 5, None]]"
   ]
  },
  {
   "cell_type": "code",
   "execution_count": 26,
   "id": "c80aa071-b7c6-492d-a835-06eb767b2ec5",
   "metadata": {},
   "outputs": [
    {
     "data": {
      "text/plain": [
       "[[5, 6], [8, 9]]"
      ]
     },
     "execution_count": 26,
     "metadata": {},
     "output_type": "execute_result"
    }
   ],
   "source": [
    "list_test = [[1,2,3],[4,5,6],[7,8,9]]\n",
    "[sum[1:] for sum in list_test[1:]]"
   ]
  },
  {
   "cell_type": "code",
   "execution_count": null,
   "id": "0b367e2c-75f4-4b0a-be4e-680e90af981a",
   "metadata": {},
   "outputs": [],
   "source": []
  }
 ],
 "metadata": {
  "kernelspec": {
   "display_name": "Python 3 (ipykernel)",
   "language": "python",
   "name": "python3"
  },
  "language_info": {
   "codemirror_mode": {
    "name": "ipython",
    "version": 3
   },
   "file_extension": ".py",
   "mimetype": "text/x-python",
   "name": "python",
   "nbconvert_exporter": "python",
   "pygments_lexer": "ipython3",
   "version": "3.10.14"
  }
 },
 "nbformat": 4,
 "nbformat_minor": 5
}
