{
 "cells": [
  {
   "cell_type": "markdown",
   "id": "de010cc9-d903-46d4-8847-0c547bc3085c",
   "metadata": {},
   "source": [
    "1. 写一个函数计算两个集合的交集，并返回结果。"
   ]
  },
  {
   "cell_type": "code",
   "execution_count": 1,
   "id": "08c1b7bf-a504-4669-bef0-aafba550ad00",
   "metadata": {},
   "outputs": [
    {
     "name": "stdout",
     "output_type": "stream",
     "text": [
      "[3, 4]\n"
     ]
    }
   ],
   "source": [
    "def intersection(set_a, set_b):\n",
    "    \"\"\"\n",
    "    计算两个集合的交集，不使用内置集合方法。\n",
    "\n",
    "    参数:\n",
    "    set_a (list): 集合A的列表表示。\n",
    "    set_b (list): 集合B的列表表示。\n",
    "\n",
    "    返回:\n",
    "    list: 两个集合的交集。\n",
    "    \"\"\"\n",
    "    result = []\n",
    "    for element in set_a:\n",
    "        if element in set_b and element not in result:\n",
    "            result.append(element)\n",
    "    return result\n",
    "\n",
    "# 示例用法\n",
    "set_a = [1, 2, 3, 4]\n",
    "set_b = [3, 4, 5, 6]\n",
    "\n",
    "print(intersection(set_a, set_b))  # 输出: [3, 4]\n"
   ]
  },
  {
   "cell_type": "markdown",
   "id": "e5497431-1054-467a-81f2-928e842b9407",
   "metadata": {},
   "source": [
    "2. 写一个函数，判断给定的集合是否是另一个集合的子集，并返回布尔值。"
   ]
  },
  {
   "cell_type": "code",
   "execution_count": 2,
   "id": "0338bc58-c4e0-42a7-865a-67b8efb73fad",
   "metadata": {},
   "outputs": [
    {
     "name": "stdout",
     "output_type": "stream",
     "text": [
      "True\n",
      "False\n"
     ]
    }
   ],
   "source": [
    "def is_subset(set_a, set_b):\n",
    "    \"\"\"\n",
    "    判断集合 set_a 是否是集合 set_b 的子集。\n",
    "\n",
    "    参数:\n",
    "    set_a (set): 需要检查的集合。\n",
    "    set_b (set): 被检查的集合。\n",
    "\n",
    "    返回:\n",
    "    bool: 如果 set_a 是 set_b 的子集，返回 True；否则返回 False。\n",
    "    \"\"\"\n",
    "    for element in set_a:\n",
    "        if element not in set_b:\n",
    "            return False\n",
    "    return True\n",
    "\n",
    "# 示例用法\n",
    "set_a = {1, 2, 3}\n",
    "set_b = {1, 2, 3, 4, 5}\n",
    "\n",
    "print(is_subset(set_a, set_b))  # 输出: True\n",
    "print(is_subset({1, 6}, set_b))  # 输出: False"
   ]
  },
  {
   "cell_type": "markdown",
   "id": "ffba7211-d8d0-4310-afbf-e86bb1b1fbff",
   "metadata": {},
   "source": [
    "3. 写一个函数，统计给定列表中唯一元素的个数。"
   ]
  },
  {
   "cell_type": "code",
   "execution_count": 3,
   "id": "aaa8cc4e-02db-4be9-8402-9e548445cae9",
   "metadata": {},
   "outputs": [
    {
     "name": "stdout",
     "output_type": "stream",
     "text": [
      "5\n"
     ]
    }
   ],
   "source": [
    "def count_unique_elements(lst):\n",
    "    \"\"\"\n",
    "    统计列表中唯一元素的个数。\n",
    "\n",
    "    参数:\n",
    "    lst (list): 需要统计的列表。\n",
    "\n",
    "    返回:\n",
    "    int: 唯一元素的个数。\n",
    "    \"\"\"\n",
    "    unique_elements = set(lst)\n",
    "    return len(unique_elements)\n",
    "\n",
    "# 示例用法\n",
    "lst = [1, 2, 2, 3, 4, 4, 5]\n",
    "print(count_unique_elements(lst))  # 输出: 5\n"
   ]
  },
  {
   "cell_type": "markdown",
   "id": "a73d3771-01b8-4ae8-93de-f9cd4a5518ba",
   "metadata": {},
   "source": [
    "4. 写一个函数，模拟一个集合的并集操作，不使用内置的集合方法。 "
   ]
  },
  {
   "cell_type": "code",
   "execution_count": 4,
   "id": "90ba6770-cd8f-433d-b6f5-238d5615b8ab",
   "metadata": {},
   "outputs": [
    {
     "name": "stdout",
     "output_type": "stream",
     "text": [
      "[1, 2, 3, 4, 5]\n"
     ]
    }
   ],
   "source": [
    "def union(set_a, set_b):\n",
    "    \"\"\"\n",
    "    模拟集合的并集操作，不使用内置集合方法。\n",
    "\n",
    "    参数:\n",
    "    set_a (list): 集合A的列表表示。\n",
    "    set_b (list): 集合B的列表表示。\n",
    "\n",
    "    返回:\n",
    "    list: 并集结果，去重的列表。\n",
    "    \"\"\"\n",
    "    result = []  # 存储并集结果\n",
    "    # 将set_a中的元素加入结果\n",
    "    for element in set_a:\n",
    "        if element not in result:\n",
    "            result.append(element)\n",
    "    # 将set_b中的元素加入结果，如果它不在result中\n",
    "    for element in set_b:\n",
    "        if element not in result:\n",
    "            result.append(element)\n",
    "    return result\n",
    "\n",
    "# 示例用法\n",
    "set_a = [1, 2, 3]\n",
    "set_b = [3, 4, 5]\n",
    "\n",
    "print(union(set_a, set_b))  # 输出: [1, 2, 3, 4, 5]\n"
   ]
  },
  {
   "cell_type": "markdown",
   "id": "41770860-d2d2-43a8-8ec5-9238346f48f0",
   "metadata": {},
   "source": [
    "5. 写一个函数，生成一个包含 1 到 100 的集合，并从中移除所有偶数。"
   ]
  },
  {
   "cell_type": "code",
   "execution_count": 5,
   "id": "f1dba266-f6b4-4189-8a73-de73ab0b92b0",
   "metadata": {},
   "outputs": [
    {
     "name": "stdout",
     "output_type": "stream",
     "text": [
      "[1, 3, 5, 7, 9, 11, 13, 15, 17, 19, 21, 23, 25, 27, 29, 31, 33, 35, 37, 39, 41, 43, 45, 47, 49, 51, 53, 55, 57, 59, 61, 63, 65, 67, 69, 71, 73, 75, 77, 79, 81, 83, 85, 87, 89, 91, 93, 95, 97, 99]\n"
     ]
    }
   ],
   "source": [
    "def generate_and_remove_evens():\n",
    "    \"\"\"\n",
    "    生成一个包含 1 到 100 的集合，并移除所有偶数。\n",
    "\n",
    "    返回:\n",
    "    list: 仅包含奇数的集合（以列表形式返回）。\n",
    "    \"\"\"\n",
    "    # 生成 1 到 100 的集合\n",
    "    numbers = list(range(1, 101))\n",
    "    # 创建结果列表，仅保留奇数\n",
    "    result = [num for num in numbers if num % 2 != 0]\n",
    "    return result\n",
    "\n",
    "# 示例用法\n",
    "print(generate_and_remove_evens())  # 输出: [1, 3, 5, 7, ..., 99]\n"
   ]
  },
  {
   "cell_type": "code",
   "execution_count": null,
   "id": "96e2fdfd-cbac-454e-a7b3-f37e742de2b7",
   "metadata": {},
   "outputs": [],
   "source": []
  }
 ],
 "metadata": {
  "kernelspec": {
   "display_name": "Python 3 (ipykernel)",
   "language": "python",
   "name": "python3"
  },
  "language_info": {
   "codemirror_mode": {
    "name": "ipython",
    "version": 3
   },
   "file_extension": ".py",
   "mimetype": "text/x-python",
   "name": "python",
   "nbconvert_exporter": "python",
   "pygments_lexer": "ipython3",
   "version": "3.10.15"
  }
 },
 "nbformat": 4,
 "nbformat_minor": 5
}
