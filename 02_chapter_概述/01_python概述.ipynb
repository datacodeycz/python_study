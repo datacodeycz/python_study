{
 "cells": [
  {
   "cell_type": "markdown",
   "id": "c0a0dfa6",
   "metadata": {
    "slideshow": {
     "slide_type": "slide"
    }
   },
   "source": [
    "# 第一章python的基本概述 #"
   ]
  },
  {
   "cell_type": "code",
   "execution_count": 1,
   "id": "a3f13725",
   "metadata": {},
   "outputs": [
    {
     "name": "stdout",
     "output_type": "stream",
     "text": [
      "hello world\n"
     ]
    }
   ],
   "source": [
    "print(\"hello world\")"
   ]
  },
  {
   "cell_type": "markdown",
   "id": "c82b3b2a",
   "metadata": {
    "slideshow": {
     "slide_type": "slide"
    }
   },
   "source": [
    "上述代码：\n",
    "    print() 是python中的一个输出语句，()里面的内容为输出的内容"
   ]
  },
  {
   "cell_type": "markdown",
   "id": "be9b1a47",
   "metadata": {
    "slideshow": {
     "slide_type": "slide"
    }
   },
   "source": [
    "## 标识符\n",
    "第一个字符必须是字母表中字母或是下划线_<br>\n",
    "标识符的其他的部分由字母、数字和下划线_组成<br>\n",
    "标识符对大小写敏感<br>\n",
    "总结：标识符命名中，只允许出现：英文，中文，数字，下划线_<br>\n",
    "ps：1.不推荐使用中文;2.数字不可以开头<br>"
   ]
  },
  {
   "cell_type": "markdown",
   "id": "138c90e1",
   "metadata": {
    "slideshow": {
     "slide_type": "slide"
    }
   },
   "source": [
    "## python保留字\n",
    "保留字不能作为任何标识符名称"
   ]
  },
  {
   "cell_type": "code",
   "execution_count": 1,
   "id": "1eb73913",
   "metadata": {},
   "outputs": [
    {
     "data": {
      "text/plain": [
       "['False',\n",
       " 'None',\n",
       " 'True',\n",
       " '__peg_parser__',\n",
       " 'and',\n",
       " 'as',\n",
       " 'assert',\n",
       " 'async',\n",
       " 'await',\n",
       " 'break',\n",
       " 'class',\n",
       " 'continue',\n",
       " 'def',\n",
       " 'del',\n",
       " 'elif',\n",
       " 'else',\n",
       " 'except',\n",
       " 'finally',\n",
       " 'for',\n",
       " 'from',\n",
       " 'global',\n",
       " 'if',\n",
       " 'import',\n",
       " 'in',\n",
       " 'is',\n",
       " 'lambda',\n",
       " 'nonlocal',\n",
       " 'not',\n",
       " 'or',\n",
       " 'pass',\n",
       " 'raise',\n",
       " 'return',\n",
       " 'try',\n",
       " 'while',\n",
       " 'with',\n",
       " 'yield']"
      ]
     },
     "execution_count": 1,
     "metadata": {},
     "output_type": "execute_result"
    }
   ],
   "source": [
    "# 查看保留字（关键字）\n",
    "import keyword\n",
    "keyword.kwlist"
   ]
  },
  {
   "cell_type": "markdown",
   "id": "af18b9a0",
   "metadata": {
    "slideshow": {
     "slide_type": "slide"
    }
   },
   "source": [
    "## 注释\n",
    "单行注释  # \n",
    "\n",
    "多行注释  \n",
    "'''\n",
    "多行注释\n",
    "'''"
   ]
  },
  {
   "cell_type": "code",
   "execution_count": 3,
   "id": "b6a41bcb",
   "metadata": {},
   "outputs": [
    {
     "name": "stdout",
     "output_type": "stream",
     "text": [
      "hello world\n"
     ]
    }
   ],
   "source": [
    "# 我是一个单行注释\n",
    "'''\n",
    "我是一个多行注释\n",
    "'''\n",
    "'''\n",
    "我是一个多行注释\n",
    "'''\n",
    "print(\"hello world\")"
   ]
  },
  {
   "cell_type": "code",
   "execution_count": 4,
   "id": "b105f29b",
   "metadata": {},
   "outputs": [
    {
     "data": {
      "text/plain": [
       "'hello World'"
      ]
     },
     "execution_count": 4,
     "metadata": {},
     "output_type": "execute_result"
    }
   ],
   "source": [
    "\"hello World\""
   ]
  },
  {
   "cell_type": "markdown",
   "id": "0d632567",
   "metadata": {
    "slideshow": {
     "slide_type": "slide"
    }
   },
   "source": [
    "##  行与缩进\n",
    "在python中不需要使用大括号来表示代码块的里面，在python中主要使用的是缩进来表示代码块，主要使用tab键来进行缩进，<br>\n",
    "一般情况下一个tab缩进是4个空格数，但是缩进的空格数是可变的，然而同一个代码块的语句必须包含相同的缩进空格数"
   ]
  },
  {
   "cell_type": "code",
   "execution_count": 6,
   "id": "a590eb3e",
   "metadata": {},
   "outputs": [
    {
     "name": "stdout",
     "output_type": "stream",
     "text": [
      "true\n"
     ]
    }
   ],
   "source": [
    "# 举例说明\n",
    "if True:\n",
    "    print(\"true\")\n",
    "else:\n",
    "    print(\"false\")"
   ]
  },
  {
   "cell_type": "markdown",
   "id": "a9508285",
   "metadata": {},
   "source": [
    "对比学习：\n",
    "\n",
    "    在Java中的的代码块\n",
    "    if(ture){\n",
    "        System.out.println(\"true\");\n",
    "    }else{\n",
    "        System.out.println(\"true\");\n",
    "    }\n",
    "\n",
    "    在JS中的代码块\n",
    "    if(true){\n",
    "        console.log(\"true\")\n",
    "    }else{\n",
    "        console.log(\"false\")\n",
    "    }\n",
    "\n",
    "在js和java中是存在块作用域的，块作用域是什么，我们在js中已经学过，这里我们主要是学习python，python是不存在块作用域的。</br>\n",
    "python只存在`函数作用域`,`全局作用域`,`闭包作用域`,`模块作用域`\n",
    "\n",
    "    L：local，函数（局部）作用域，即函数中定义的变量；\n",
    "    E：enclosing，嵌套的父级函数的局部作用域（闭包作用域），即包含此函数的上级函数的局部作用域，但不是全局的；\n",
    "    G：globa，全局变量，就是模块级别定义的变量；\n",
    "    B：built-in，系统固定模块里面的变量（模块作用域），比如int, bytearray等。 \n",
    "搜索变量的优先级顺序依次是：作用域局部>外层作用域>当前模块中的全局>python内置作用域，也就是LEGB。\n"
   ]
  },
  {
   "cell_type": "code",
   "execution_count": 8,
   "id": "34715558",
   "metadata": {},
   "outputs": [
    {
     "name": "stdout",
     "output_type": "stream",
     "text": [
      "9\n"
     ]
    }
   ],
   "source": [
    "a = 9\n",
    "if a > 10:\n",
    "    a = 10\n",
    "    print(a)\n",
    "else:\n",
    "    print(a)"
   ]
  },
  {
   "cell_type": "markdown",
   "id": "4f905047-1aed-4868-8550-64f1b6805097",
   "metadata": {},
   "source": [
    "## 练习"
   ]
  },
  {
   "cell_type": "code",
   "execution_count": 1,
   "id": "e6565ebe-ff23-4b8d-a3f7-4ca342a3a89f",
   "metadata": {},
   "outputs": [
    {
     "name": "stdout",
     "output_type": "stream",
     "text": [
      "11\n",
      "11\n"
     ]
    }
   ],
   "source": [
    "a = 10\n",
    "if a > 9:\n",
    "    a = 11\n",
    "    print(a)\n",
    "print(a)  \n",
    "\n",
    "# 这两个输出结果是什么"
   ]
  },
  {
   "cell_type": "code",
   "execution_count": 2,
   "id": "a980606a-bb63-4af7-b323-85fcee7796d6",
   "metadata": {},
   "outputs": [
    {
     "name": "stdout",
     "output_type": "stream",
     "text": [
      "10\n"
     ]
    }
   ],
   "source": [
    "a = 10\n",
    "def test01():\n",
    "    print(a)\n",
    "\n",
    "def test02():\n",
    "    a = 20\n",
    "    test01()\n",
    "\n",
    "test02()  # 结果应该是"
   ]
  },
  {
   "cell_type": "markdown",
   "id": "da317dd3-0729-46f1-b58c-8f5b44b3e2d3",
   "metadata": {},
   "source": [
    "词法作用域"
   ]
  },
  {
   "cell_type": "markdown",
   "id": "b987ca58",
   "metadata": {
    "slideshow": {
     "slide_type": "slide"
    }
   },
   "source": [
    "## 代码块的概念\n",
    "1.为什么要有代码块；\n",
    "2.代码块可以干什么；\n",
    "3.代码块怎么来理解；"
   ]
  }
 ],
 "metadata": {
  "celltoolbar": "Slideshow",
  "kernelspec": {
   "display_name": "Python 3 (ipykernel)",
   "language": "python",
   "name": "python3"
  },
  "language_info": {
   "codemirror_mode": {
    "name": "ipython",
    "version": 3
   },
   "file_extension": ".py",
   "mimetype": "text/x-python",
   "name": "python",
   "nbconvert_exporter": "python",
   "pygments_lexer": "ipython3",
   "version": "3.10.15"
  },
  "toc": {
   "base_numbering": 1,
   "nav_menu": {},
   "number_sections": true,
   "sideBar": true,
   "skip_h1_title": false,
   "title_cell": "Table of Contents",
   "title_sidebar": "Contents",
   "toc_cell": false,
   "toc_position": {
    "height": "calc(100% - 180px)",
    "left": "10px",
    "top": "150px",
    "width": "165px"
   },
   "toc_section_display": true,
   "toc_window_display": true
  }
 },
 "nbformat": 4,
 "nbformat_minor": 5
}
