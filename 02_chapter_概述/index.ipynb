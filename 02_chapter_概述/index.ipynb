{
 "cells": [
  {
   "cell_type": "markdown",
   "id": "9b021047-0ca3-4563-a600-63349a4b07b0",
   "metadata": {},
   "source": [
    "# Python概述\n",
    "\n",
    "本章节的内容主要讲解了一些关于变量命名、格式的知识，帮助初学者快速了解 Python 的基础概念和基本操作。\n",
    "\n",
    "## 目录\n",
    "- [01_Python概述](01_python概述.ipynb)\n",
    "\n",
    "### 章节简介\n",
    "本章内容包括：\n",
    "1. Python 的特点和应用场景。\n",
    "2. Python 的基本语法规则，例如缩进和注释。\n",
    "3. 如何命名变量及变量的作用范围。\n",
    "4. 输入输出的基本用法。\n"
   ]
  },
  {
   "cell_type": "code",
   "execution_count": null,
   "id": "f463f9e9-cd5d-4172-b9bb-a0b7d5099404",
   "metadata": {},
   "outputs": [],
   "source": []
  }
 ],
 "metadata": {
  "kernelspec": {
   "display_name": "Python 3 (ipykernel)",
   "language": "python",
   "name": "python3"
  },
  "language_info": {
   "codemirror_mode": {
    "name": "ipython",
    "version": 3
   },
   "file_extension": ".py",
   "mimetype": "text/x-python",
   "name": "python",
   "nbconvert_exporter": "python",
   "pygments_lexer": "ipython3",
   "version": "3.10.15"
  }
 },
 "nbformat": 4,
 "nbformat_minor": 5
}
