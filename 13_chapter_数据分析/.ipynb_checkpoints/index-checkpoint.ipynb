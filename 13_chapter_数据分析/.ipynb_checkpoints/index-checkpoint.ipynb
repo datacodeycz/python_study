{
 "cells": [
  {
   "cell_type": "markdown",
   "id": "3eb25cb6-3bd8-42e3-b756-13c8cfd297a1",
   "metadata": {},
   "source": [
    "# 数据分析学习的模块\n",
    "\n",
    ":begin_tab:toc\n",
    " - [01_numpy](01_numpy.ipynb)\n",
    " - [02_pandas](02_pandas.ipynb)\n",
    " - [03_matplotlib](03_matplotlib.ipynb)\n",
    "\n",
    ":end_tab:"
   ]
  },
  {
   "cell_type": "code",
   "execution_count": null,
   "id": "de3ba5a7-6b83-4831-891a-a4099c56c315",
   "metadata": {},
   "outputs": [],
   "source": []
  }
 ],
 "metadata": {
  "kernelspec": {
   "display_name": "Python 3 (ipykernel)",
   "language": "python",
   "name": "python3"
  },
  "language_info": {
   "codemirror_mode": {
    "name": "ipython",
    "version": 3
   },
   "file_extension": ".py",
   "mimetype": "text/x-python",
   "name": "python",
   "nbconvert_exporter": "python",
   "pygments_lexer": "ipython3",
   "version": "3.10.15"
  }
 },
 "nbformat": 4,
 "nbformat_minor": 5
}
