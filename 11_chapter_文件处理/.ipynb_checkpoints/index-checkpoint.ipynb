{
 "cells": [
  {
   "cell_type": "markdown",
   "id": "6e7ee606-b462-4983-b07d-6ef760589d53",
   "metadata": {},
   "source": [
    "# 文件处理\n",
    "\n",
    "文件处理是程序开发中的常见操作，Python 提供了强大的工具来实现文件的读取、写入以及操作。本章将帮助你掌握文件处理的核心技能，内容包括：\n",
    "1. **文件的基本操作**：学习如何打开、读取、写入和关闭文件。\n",
    "2. **文件操作的最佳实践**：通过上下文管理器确保文件操作的安全性。\n",
    "3. **项目实践**：通过具体项目练习巩固文件处理的知识。\n",
    "\n",
    "## 目录\n",
    "- [文件处理](01_文件处理.ipynb)  \n",
    "  学习文件的基本操作方法，包括文本文件的读取和写入，以及文件模式（如读、写、追加等）的用法。\n",
    "\n",
    "- [项目练习](02_项目练习.ipynb)  \n",
    "  通过实际项目练习，将文件处理知识应用于具体场景，如日志记录、数据存储等。\n"
   ]
  },
  {
   "cell_type": "code",
   "execution_count": null,
   "id": "1b7de049-5ec6-4485-9838-8721452272d8",
   "metadata": {},
   "outputs": [],
   "source": []
  }
 ],
 "metadata": {
  "kernelspec": {
   "display_name": "Python 3 (ipykernel)",
   "language": "python",
   "name": "python3"
  },
  "language_info": {
   "codemirror_mode": {
    "name": "ipython",
    "version": 3
   },
   "file_extension": ".py",
   "mimetype": "text/x-python",
   "name": "python",
   "nbconvert_exporter": "python",
   "pygments_lexer": "ipython3",
   "version": "3.10.15"
  }
 },
 "nbformat": 4,
 "nbformat_minor": 5
}
