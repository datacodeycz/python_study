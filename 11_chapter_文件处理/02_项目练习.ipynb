{
 "cells": [
  {
   "cell_type": "markdown",
   "id": "c8108490-ea9f-4efc-a505-c8af53983006",
   "metadata": {},
   "source": [
    "# 文件处理项目练习"
   ]
  },
  {
   "cell_type": "markdown",
   "id": "22799b0f-21e6-4f1c-8626-03e98d9da2ca",
   "metadata": {},
   "source": [
    "## 解决问题\n",
    "\n",
    "给定一个贷款信息数据，里面包括了贷款总金额（首付本金加贷款金额），贷款期限，年利率，可选首付金额等特征\n",
    "\n",
    "amount,duration,rate,down_payment\\\n",
    "100000,36,0.08,20000\\\n",
    "200000,12,0.1,\\\n",
    "628400,120,0.12,100000\\\n",
    "4637400,240,0.06,\\\n",
    "42900,90,0.07,8900\\\n",
    "916000,16,0.13,\\\n",
    "45230,48,0.08,4300\\\n",
    "991360,99,0.08,\\\n",
    "423000,27,0.09,47200\n",
    "\n",
    "根据上述的数据，计算出每行数据的EMI（等额本息），并在每行最后增加一个特征为EMI，每行是对应的EMI值\n",
    "\n",
    "等额本息的公式为：\n",
    "$EMI = P \\times r \\times \\frac{(1 + r)^n}{(1 + r)^n - 1}$。\n",
    "\n"
   ]
  },
  {
   "cell_type": "code",
   "execution_count": 4,
   "id": "e3151818-d677-4208-ab97-8c77b0768c3b",
   "metadata": {},
   "outputs": [
    {
     "data": {
      "text/plain": [
       "8364"
      ]
     },
     "execution_count": 4,
     "metadata": {},
     "output_type": "execute_result"
    }
   ],
   "source": [
    "import math\n",
    "# 首先写一个函数来计算等额本息\n",
    "\n",
    "def loan_emi(amount, duration, rate, down_payment):\n",
    "    \"\"\"计算等额本息\"\"\"\n",
    "    loan_amount = amount - down_payment  # loan_amount 表示贷款的金额\n",
    "    emi  = (loan_amount * rate * (1 + rate) ** duration)  / ((1 + rate)**duration - 1)\n",
    "    return math.ceil(emi)\n",
    "\n",
    "loan_emi(100000, 36.0, 0.08, 2000)  # 测试代码"
   ]
  },
  {
   "cell_type": "markdown",
   "id": "5a3fd254-371c-4d73-9b44-643a620d1ad4",
   "metadata": {},
   "source": [
    "## 数据的处理"
   ]
  },
  {
   "cell_type": "code",
   "execution_count": 5,
   "id": "d8358534-449e-4399-a7b7-e3f430907aab",
   "metadata": {},
   "outputs": [
    {
     "data": {
      "text/plain": [
       "['amount,duration,rate,down_payment\\n',\n",
       " '100000,36,0.08,20000\\n',\n",
       " '200000,12,0.1,\\n',\n",
       " '628400,120,0.12,100000\\n',\n",
       " '4637400,240,0.06,\\n',\n",
       " '42900,90,0.07,8900\\n',\n",
       " '916000,16,0.13,\\n',\n",
       " '45230,48,0.08,4300\\n',\n",
       " '991360,99,0.08,\\n',\n",
       " '423000,27,0.09,47200']"
      ]
     },
     "execution_count": 5,
     "metadata": {},
     "output_type": "execute_result"
    }
   ],
   "source": [
    "with open('./data/loans1.txt', 'r') as f:\n",
    "    loans1_file = f.readlines()\n",
    "\n",
    "loans1_file"
   ]
  },
  {
   "cell_type": "markdown",
   "id": "15c3b3e8-83cb-49f9-bb19-9b5fe204293d",
   "metadata": {},
   "source": [
    "通过上述代码,我们能够看到,我们通过数据读取的方式,我们将数据一行一行的读取出来了"
   ]
  },
  {
   "cell_type": "markdown",
   "id": "f24f6d94-5805-4886-b5ef-2ba1daa50ef1",
   "metadata": {},
   "source": [
    "然后我们要根据头(特征)和体(特征值进行解析)"
   ]
  },
  {
   "cell_type": "code",
   "execution_count": 6,
   "id": "ba3b2af5-3e3b-4e13-be47-a31a799526c2",
   "metadata": {},
   "outputs": [
    {
     "data": {
      "text/plain": [
       "['amount', 'duration', 'rate', 'down_payment']"
      ]
     },
     "execution_count": 6,
     "metadata": {},
     "output_type": "execute_result"
    }
   ],
   "source": [
    "# 对特征进行解析\n",
    "headers = loans1_file[0]\n",
    "parse_headers = headers.strip().split(',')\n",
    "parse_headers"
   ]
  },
  {
   "cell_type": "markdown",
   "id": "5fec5a0b-3d31-4566-9606-a5e0d9e7f5bc",
   "metadata": {},
   "source": [
    "将上述代码,封装到一个函数中"
   ]
  },
  {
   "cell_type": "code",
   "execution_count": 7,
   "id": "d8ffd578-fab8-4652-b085-cc5ee898697b",
   "metadata": {},
   "outputs": [],
   "source": [
    "# 对特征进行解析的函数\n",
    "def parse_headers(headers:str):\n",
    "    return headers.strip().split(',')\n"
   ]
  },
  {
   "cell_type": "code",
   "execution_count": 8,
   "id": "9d20f851-8475-4c80-ae7b-f6dbfc355a99",
   "metadata": {},
   "outputs": [
    {
     "data": {
      "text/plain": [
       "['amount', 'duration', 'rate', 'down_payment']"
      ]
     },
     "execution_count": 8,
     "metadata": {},
     "output_type": "execute_result"
    }
   ],
   "source": [
    "parse_headers_result = parse_headers(loans1_file[0])\n",
    "parse_headers_result"
   ]
  },
  {
   "cell_type": "markdown",
   "id": "c1e0cf34-a09d-492e-865d-897bf18146ec",
   "metadata": {},
   "source": [
    "对特征值进行解析"
   ]
  },
  {
   "cell_type": "code",
   "execution_count": 9,
   "id": "272368cc-b181-4f5b-a9a4-94200793c876",
   "metadata": {},
   "outputs": [],
   "source": [
    "result = []\n",
    "for line in loans1_file[1:]:\n",
    "    result.append(line.strip().split(','))"
   ]
  },
  {
   "cell_type": "code",
   "execution_count": 10,
   "id": "dca1fef8-0bde-4311-865c-e4836f617f57",
   "metadata": {},
   "outputs": [
    {
     "data": {
      "text/plain": [
       "[['100000', '36', '0.08', '20000'],\n",
       " ['200000', '12', '0.1', ''],\n",
       " ['628400', '120', '0.12', '100000'],\n",
       " ['4637400', '240', '0.06', ''],\n",
       " ['42900', '90', '0.07', '8900'],\n",
       " ['916000', '16', '0.13', ''],\n",
       " ['45230', '48', '0.08', '4300'],\n",
       " ['991360', '99', '0.08', ''],\n",
       " ['423000', '27', '0.09', '47200']]"
      ]
     },
     "execution_count": 10,
     "metadata": {},
     "output_type": "execute_result"
    }
   ],
   "source": [
    "result"
   ]
  },
  {
   "cell_type": "markdown",
   "id": "3a43d208-d5ee-4fbd-8f5d-35e085338e68",
   "metadata": {},
   "source": [
    "通过上述的代码, 会发现一个问题,有些数据里面没有`down_payment`特征值,怎么办"
   ]
  },
  {
   "cell_type": "code",
   "execution_count": 11,
   "id": "38156727-b35e-4282-8262-64e7193528b6",
   "metadata": {},
   "outputs": [
    {
     "data": {
      "text/plain": [
       "['200000', '12', '0.1', '']"
      ]
     },
     "execution_count": 11,
     "metadata": {},
     "output_type": "execute_result"
    }
   ],
   "source": [
    "# 我们解析一行数据\n",
    "values_1 = loans1_file[2]\n",
    "\n",
    "values_1.strip().split(',')"
   ]
  },
  {
   "cell_type": "markdown",
   "id": "2b7d44dc-527a-4e44-b0ba-c884837ed759",
   "metadata": {},
   "source": [
    "因为我们值都是需要参加运算的,我们希望所有的特征值都是浮点数, 所以我们尝试把一行数据的中每一个值拿出来转换为浮点数,包括为空的`down_payment`值 为0.0"
   ]
  },
  {
   "cell_type": "code",
   "execution_count": 12,
   "id": "33550529-ff67-43d3-8e6b-8746731eb10d",
   "metadata": {},
   "outputs": [
    {
     "data": {
      "text/plain": [
       "[200000.0, 12.0, 0.1, 0.0]"
      ]
     },
     "execution_count": 12,
     "metadata": {},
     "output_type": "execute_result"
    }
   ],
   "source": [
    "parse_value_result = []\n",
    "for value in values_1.strip().split(','):\n",
    "    if value == '':\n",
    "        parse_value_result.append(0.0)\n",
    "    else:\n",
    "        # 由于 非数字字符串是无法转换为浮点数,这里我们可以做一个异常处理\n",
    "        try:\n",
    "            parse_value_result.append(float(value))\n",
    "        except ValueError:\n",
    "            parse_value_result.append(value)\n",
    "\n",
    "parse_value_result"
   ]
  },
  {
   "cell_type": "code",
   "execution_count": 13,
   "id": "c3418636-d0c5-4455-8297-334b836e341d",
   "metadata": {},
   "outputs": [],
   "source": [
    "# 将上述的代码进行封装\n",
    "# 解析一行特征值的函数\n",
    "def parse_value(value_line: str):\n",
    "    parse_value = []\n",
    "    for value in value_line.strip().split(','):\n",
    "        if value == '':\n",
    "            parse_value.append(0.0)\n",
    "        else:\n",
    "            # 由于 非数字字符串是无法转换为浮点数,这里我们可以做一个异常处理\n",
    "            try:\n",
    "                parse_value.append(float(value))\n",
    "            except ValueError:\n",
    "                parse_value.append(value)\n",
    "\n",
    "    return parse_value"
   ]
  },
  {
   "cell_type": "code",
   "execution_count": 14,
   "id": "f924500f-8f57-4625-bcce-c502c94bbf85",
   "metadata": {},
   "outputs": [
    {
     "data": {
      "text/plain": [
       "[4637400.0, 240.0, 0.06, 0.0]"
      ]
     },
     "execution_count": 14,
     "metadata": {},
     "output_type": "execute_result"
    }
   ],
   "source": [
    "parse_value_result = parse_value(loans1_file[4])\n",
    "parse_value_result"
   ]
  },
  {
   "cell_type": "markdown",
   "id": "17e7363b-3a57-4ed2-8313-baf0364c836f",
   "metadata": {},
   "source": [
    "紧接着,我们要对特征和特征值进行匹配"
   ]
  },
  {
   "cell_type": "code",
   "execution_count": 15,
   "id": "575b0f44-6bc9-40cf-88cf-2bef8061d0c5",
   "metadata": {},
   "outputs": [
    {
     "data": {
      "text/plain": [
       "{'amount': 4637400.0, 'duration': 240.0, 'rate': 0.06, 'down_payment': 0.0}"
      ]
     },
     "execution_count": 15,
     "metadata": {},
     "output_type": "execute_result"
    }
   ],
   "source": [
    "result = {}\n",
    "for header, value in zip(parse_headers_result, parse_value_result):\n",
    "    result[header] = value\n",
    "\n",
    "result"
   ]
  },
  {
   "cell_type": "markdown",
   "id": "0c8fde29-08e0-4689-9e4c-592019934513",
   "metadata": {},
   "source": [
    "同样的方式,进行一个封装"
   ]
  },
  {
   "cell_type": "code",
   "execution_count": 16,
   "id": "829259ba-1a2e-43b6-ae6f-cf1ce79f9e62",
   "metadata": {},
   "outputs": [],
   "source": [
    "def create_item_dict(headers, values):\n",
    "    result = {}\n",
    "    for header, value in zip(headers, values):\n",
    "        result[header] = value\n",
    "\n",
    "    return result  "
   ]
  },
  {
   "cell_type": "code",
   "execution_count": 17,
   "id": "9d48391a-cbd2-46fc-898c-e5a0b24d8b5e",
   "metadata": {},
   "outputs": [
    {
     "data": {
      "text/plain": [
       "{'amount': 4637400.0, 'duration': 240.0, 'rate': 0.06, 'down_payment': 0.0}"
      ]
     },
     "execution_count": 17,
     "metadata": {},
     "output_type": "execute_result"
    }
   ],
   "source": [
    "create_item_dict(parse_headers_result, parse_value_result)"
   ]
  },
  {
   "cell_type": "markdown",
   "id": "0f4dbfd3-d0e6-491f-9f2a-51c702962101",
   "metadata": {},
   "source": [
    "通过上面的代码,我们得到了`parse_headers`:解析特征, 和`parse_value`:解析一行数据, 和`create_item_dict`函数:特征与特征值进行匹配,现在我们想得到多行数据的特征与特征值进行匹配,然后将匹配到的内容全部写入到数据容器中(列表)"
   ]
  },
  {
   "cell_type": "code",
   "execution_count": 18,
   "id": "0a633925-e9b7-4206-b9c2-35712c04d52c",
   "metadata": {},
   "outputs": [],
   "source": [
    "def read_csv(path):\n",
    "    result = []\n",
    "    \n",
    "    # 读取数据\n",
    "    with open(path, 'r') as f:\n",
    "        load_file = f.readlines()\n",
    "        # print(load_file)  # 测试\n",
    "\n",
    "    # 解析特征 \n",
    "    headers = parse_headers(load_file[0])\n",
    "    \n",
    "    # 解析特征值\n",
    "    for line_value in load_file[1:]:\n",
    "        # 解析每一行特征值\n",
    "        values = parse_value(line_value)\n",
    "\n",
    "        # 将每一行特征值与特征进行匹配\n",
    "        dict_header_vlaue = create_item_dict(headers, values)\n",
    "\n",
    "        # 将匹配的结果添加到result里面\n",
    "        result.append(dict_header_vlaue)\n",
    "\n",
    "    return result"
   ]
  },
  {
   "cell_type": "code",
   "execution_count": 19,
   "id": "39052c25-bf92-4c10-8d2d-2035fe38d7f5",
   "metadata": {},
   "outputs": [
    {
     "data": {
      "text/plain": [
       "[{'amount': 100000.0, 'duration': 36.0, 'rate': 0.08, 'down_payment': 20000.0},\n",
       " {'amount': 200000.0, 'duration': 12.0, 'rate': 0.1, 'down_payment': 0.0},\n",
       " {'amount': 628400.0,\n",
       "  'duration': 120.0,\n",
       "  'rate': 0.12,\n",
       "  'down_payment': 100000.0},\n",
       " {'amount': 4637400.0, 'duration': 240.0, 'rate': 0.06, 'down_payment': 0.0},\n",
       " {'amount': 42900.0, 'duration': 90.0, 'rate': 0.07, 'down_payment': 8900.0},\n",
       " {'amount': 916000.0, 'duration': 16.0, 'rate': 0.13, 'down_payment': 0.0},\n",
       " {'amount': 45230.0, 'duration': 48.0, 'rate': 0.08, 'down_payment': 4300.0},\n",
       " {'amount': 991360.0, 'duration': 99.0, 'rate': 0.08, 'down_payment': 0.0},\n",
       " {'amount': 423000.0, 'duration': 27.0, 'rate': 0.09, 'down_payment': 47200.0}]"
      ]
     },
     "execution_count": 19,
     "metadata": {},
     "output_type": "execute_result"
    }
   ],
   "source": [
    "read_csv('./data/loans1.txt')"
   ]
  },
  {
   "cell_type": "markdown",
   "id": "87994ca7-51b2-42ab-9a1c-7b2a63c01a17",
   "metadata": {},
   "source": [
    "通过上述的方式,就可以去读取csv文件的数据格式了"
   ]
  },
  {
   "cell_type": "code",
   "execution_count": 20,
   "id": "4a0fede4-5df8-4bcb-b115-9cfcd545ffdc",
   "metadata": {},
   "outputs": [],
   "source": [
    "loans_result = read_csv('./data/loans1.txt')"
   ]
  },
  {
   "cell_type": "code",
   "execution_count": 21,
   "id": "042c71d0-c833-42f4-87e6-26edda7f4fef",
   "metadata": {},
   "outputs": [
    {
     "data": {
      "text/plain": [
       "[{'amount': 100000.0, 'duration': 36.0, 'rate': 0.08, 'down_payment': 20000.0},\n",
       " {'amount': 200000.0, 'duration': 12.0, 'rate': 0.1, 'down_payment': 0.0},\n",
       " {'amount': 628400.0,\n",
       "  'duration': 120.0,\n",
       "  'rate': 0.12,\n",
       "  'down_payment': 100000.0},\n",
       " {'amount': 4637400.0, 'duration': 240.0, 'rate': 0.06, 'down_payment': 0.0},\n",
       " {'amount': 42900.0, 'duration': 90.0, 'rate': 0.07, 'down_payment': 8900.0},\n",
       " {'amount': 916000.0, 'duration': 16.0, 'rate': 0.13, 'down_payment': 0.0},\n",
       " {'amount': 45230.0, 'duration': 48.0, 'rate': 0.08, 'down_payment': 4300.0},\n",
       " {'amount': 991360.0, 'duration': 99.0, 'rate': 0.08, 'down_payment': 0.0},\n",
       " {'amount': 423000.0, 'duration': 27.0, 'rate': 0.09, 'down_payment': 47200.0}]"
      ]
     },
     "execution_count": 21,
     "metadata": {},
     "output_type": "execute_result"
    }
   ],
   "source": [
    "loans_result"
   ]
  },
  {
   "cell_type": "code",
   "execution_count": 22,
   "id": "81a09630-538a-424b-b50a-b8dfd0e23ab1",
   "metadata": {},
   "outputs": [],
   "source": [
    "for loan in loans_result:\n",
    "    loan['emi'] = loan_emi(loan['amount'], loan['duration'], loan['rate'] / 12, loan['down_payment'])"
   ]
  },
  {
   "cell_type": "code",
   "execution_count": 23,
   "id": "6310bf31-860d-404e-8d0e-92f45ae614db",
   "metadata": {},
   "outputs": [
    {
     "data": {
      "text/plain": [
       "[{'amount': 100000.0,\n",
       "  'duration': 36.0,\n",
       "  'rate': 0.08,\n",
       "  'down_payment': 20000.0,\n",
       "  'emi': 2507},\n",
       " {'amount': 200000.0,\n",
       "  'duration': 12.0,\n",
       "  'rate': 0.1,\n",
       "  'down_payment': 0.0,\n",
       "  'emi': 17584},\n",
       " {'amount': 628400.0,\n",
       "  'duration': 120.0,\n",
       "  'rate': 0.12,\n",
       "  'down_payment': 100000.0,\n",
       "  'emi': 7582},\n",
       " {'amount': 4637400.0,\n",
       "  'duration': 240.0,\n",
       "  'rate': 0.06,\n",
       "  'down_payment': 0.0,\n",
       "  'emi': 33224},\n",
       " {'amount': 42900.0,\n",
       "  'duration': 90.0,\n",
       "  'rate': 0.07,\n",
       "  'down_payment': 8900.0,\n",
       "  'emi': 487},\n",
       " {'amount': 916000.0,\n",
       "  'duration': 16.0,\n",
       "  'rate': 0.13,\n",
       "  'down_payment': 0.0,\n",
       "  'emi': 62664},\n",
       " {'amount': 45230.0,\n",
       "  'duration': 48.0,\n",
       "  'rate': 0.08,\n",
       "  'down_payment': 4300.0,\n",
       "  'emi': 1000},\n",
       " {'amount': 991360.0,\n",
       "  'duration': 99.0,\n",
       "  'rate': 0.08,\n",
       "  'down_payment': 0.0,\n",
       "  'emi': 13712},\n",
       " {'amount': 423000.0,\n",
       "  'duration': 27.0,\n",
       "  'rate': 0.09,\n",
       "  'down_payment': 47200.0,\n",
       "  'emi': 15428}]"
      ]
     },
     "execution_count": 23,
     "metadata": {},
     "output_type": "execute_result"
    }
   ],
   "source": [
    "loans_result"
   ]
  },
  {
   "cell_type": "code",
   "execution_count": 24,
   "id": "6187daf5-9bec-406b-8c1b-6b39513e1421",
   "metadata": {},
   "outputs": [],
   "source": [
    "def compute_emis(loans):\n",
    "    for loan in loans:\n",
    "        loan['emi'] = loan_emi(\n",
    "            loan['amount'], \n",
    "            loan['duration'], \n",
    "            loan['rate']/12, # CSV 包含年费率\n",
    "            loan['down_payment'])"
   ]
  },
  {
   "cell_type": "markdown",
   "id": "ad1976d3-3394-4b50-8b3b-547570526bc1",
   "metadata": {},
   "source": [
    "## 数据写入"
   ]
  },
  {
   "cell_type": "code",
   "execution_count": 25,
   "id": "29ff25e1-258e-4659-8f71-6c788dda3183",
   "metadata": {},
   "outputs": [],
   "source": [
    "with open('./data/emi1.txt', 'w') as f:\n",
    "    for loan_result in loans_result:\n",
    "        f.write('{},{},{},{},{}\\n'.format(loan_result['amount'], \n",
    "                                          loan_result['duration'], \n",
    "                                          loan_result['rate'], \n",
    "                                          loan_result['down_payment'],\n",
    "                                         loan_result['emi']))"
   ]
  },
  {
   "cell_type": "code",
   "execution_count": 26,
   "id": "ab72ebea-a4b9-4d08-9c03-10f7b73b9426",
   "metadata": {},
   "outputs": [
    {
     "name": "stdout",
     "output_type": "stream",
     "text": [
      "100000.0,36.0,0.08,20000.0,2507\n",
      "200000.0,12.0,0.1,0.0,17584\n",
      "628400.0,120.0,0.12,100000.0,7582\n",
      "4637400.0,240.0,0.06,0.0,33224\n",
      "42900.0,90.0,0.07,8900.0,487\n",
      "916000.0,16.0,0.13,0.0,62664\n",
      "45230.0,48.0,0.08,4300.0,1000\n",
      "991360.0,99.0,0.08,0.0,13712\n",
      "423000.0,27.0,0.09,47200.0,15428\n"
     ]
    }
   ],
   "source": [
    "!cat ./data/emi1.txt"
   ]
  },
  {
   "cell_type": "code",
   "execution_count": 27,
   "id": "db7b5627-11c0-4b02-b2cd-59ad597eda5b",
   "metadata": {},
   "outputs": [],
   "source": [
    "def write_csv(items, path):\n",
    "    with open(path, 'w') as f:\n",
    "        headers = list(items[0].keys())\n",
    "        f.write(','.join(headers) + '\\n')\n",
    "        \n",
    "        for item in items:\n",
    "            values = []\n",
    "            for header in headers:\n",
    "                values.append(str(item.get(header, \"\")))\n",
    "            f.write(','.join(values) + \"\\n\")"
   ]
  },
  {
   "cell_type": "code",
   "execution_count": null,
   "id": "bcbad864-36c1-4b62-ad7c-4a104d24f2c1",
   "metadata": {},
   "outputs": [],
   "source": []
  },
  {
   "cell_type": "code",
   "execution_count": 28,
   "id": "be94ac0a-a8c5-4142-bcf7-cd5b15a061e0",
   "metadata": {},
   "outputs": [],
   "source": [
    "loans3 = read_csv('./data/loans3.txt')"
   ]
  },
  {
   "cell_type": "code",
   "execution_count": 29,
   "id": "b792336a-464f-4025-bd96-733499ad0d88",
   "metadata": {},
   "outputs": [
    {
     "data": {
      "text/plain": [
       "[{'amount': 45230.0, 'duration': 48.0, 'rate': 0.07, 'down_payment': 4300.0},\n",
       " {'amount': 883000.0, 'duration': 16.0, 'rate': 0.14, 'down_payment': 0.0},\n",
       " {'amount': 100000.0, 'duration': 12.0, 'rate': 0.1, 'down_payment': 0.0},\n",
       " {'amount': 728400.0,\n",
       "  'duration': 120.0,\n",
       "  'rate': 0.12,\n",
       "  'down_payment': 100000.0},\n",
       " {'amount': 3637400.0, 'duration': 240.0, 'rate': 0.06, 'down_payment': 0.0},\n",
       " {'amount': 82900.0, 'duration': 90.0, 'rate': 0.07, 'down_payment': 8900.0},\n",
       " {'amount': 316000.0, 'duration': 16.0, 'rate': 0.13, 'down_payment': 0.0},\n",
       " {'amount': 15230.0, 'duration': 48.0, 'rate': 0.08, 'down_payment': 4300.0},\n",
       " {'amount': 991360.0, 'duration': 99.0, 'rate': 0.08, 'down_payment': 0.0},\n",
       " {'amount': 323000.0,\n",
       "  'duration': 27.0,\n",
       "  'rate': 0.09,\n",
       "  'down_payment': 4720010000.0},\n",
       " {'amount': 528400.0,\n",
       "  'duration': 120.0,\n",
       "  'rate': 0.11,\n",
       "  'down_payment': 100000.0},\n",
       " {'amount': 8633400.0, 'duration': 240.0, 'rate': 0.06, 'down_payment': 0.0},\n",
       " {'amount': 12900.0, 'duration': 90.0, 'rate': 0.08, 'down_payment': 8900.0}]"
      ]
     },
     "execution_count": 29,
     "metadata": {},
     "output_type": "execute_result"
    }
   ],
   "source": [
    "loans3"
   ]
  },
  {
   "cell_type": "code",
   "execution_count": 30,
   "id": "2bd744a7-c3af-4048-8246-2672937ad37e",
   "metadata": {},
   "outputs": [],
   "source": [
    "compute_emis(loans3)"
   ]
  },
  {
   "cell_type": "code",
   "execution_count": 31,
   "id": "e2baa664-1544-4694-9b1a-be477c93ea89",
   "metadata": {},
   "outputs": [],
   "source": [
    "write_csv(loans3, './data/emis3.txt')"
   ]
  },
  {
   "cell_type": "code",
   "execution_count": 32,
   "id": "9a1d10dc-fbdf-4140-bc98-c5b5908b6b85",
   "metadata": {},
   "outputs": [
    {
     "name": "stdout",
     "output_type": "stream",
     "text": [
      "amount,duration,rate,down_payment,emi\n",
      "45230.0,48.0,0.07,4300.0,981\n",
      "883000.0,16.0,0.14,0.0,60819\n",
      "100000.0,12.0,0.1,0.0,8792\n",
      "728400.0,120.0,0.12,100000.0,9016\n",
      "3637400.0,240.0,0.06,0.0,26060\n",
      "82900.0,90.0,0.07,8900.0,1060\n",
      "316000.0,16.0,0.13,0.0,21618\n",
      "15230.0,48.0,0.08,4300.0,267\n",
      "991360.0,99.0,0.08,0.0,13712\n",
      "323000.0,27.0,0.09,4720010000.0,-193751447\n",
      "528400.0,120.0,0.11,100000.0,5902\n",
      "8633400.0,240.0,0.06,0.0,61853\n",
      "12900.0,90.0,0.08,8900.0,60\n"
     ]
    }
   ],
   "source": [
    "!cat ./data/emis3.txt"
   ]
  },
  {
   "cell_type": "code",
   "execution_count": 33,
   "id": "db78c7a4-b971-44fd-8817-8ec9c00a0131",
   "metadata": {},
   "outputs": [
    {
     "data": {
      "text/plain": [
       "[{'amount': 100000.0,\n",
       "  'duration': 36.0,\n",
       "  'rate': 0.08,\n",
       "  'down_payment': 20000.0,\n",
       "  'emi': 2507},\n",
       " {'amount': 200000.0,\n",
       "  'duration': 12.0,\n",
       "  'rate': 0.1,\n",
       "  'down_payment': 0.0,\n",
       "  'emi': 17584},\n",
       " {'amount': 628400.0,\n",
       "  'duration': 120.0,\n",
       "  'rate': 0.12,\n",
       "  'down_payment': 100000.0,\n",
       "  'emi': 7582},\n",
       " {'amount': 4637400.0,\n",
       "  'duration': 240.0,\n",
       "  'rate': 0.06,\n",
       "  'down_payment': 0.0,\n",
       "  'emi': 33224},\n",
       " {'amount': 42900.0,\n",
       "  'duration': 90.0,\n",
       "  'rate': 0.07,\n",
       "  'down_payment': 8900.0,\n",
       "  'emi': 487},\n",
       " {'amount': 916000.0,\n",
       "  'duration': 16.0,\n",
       "  'rate': 0.13,\n",
       "  'down_payment': 0.0,\n",
       "  'emi': 62664},\n",
       " {'amount': 45230.0,\n",
       "  'duration': 48.0,\n",
       "  'rate': 0.08,\n",
       "  'down_payment': 4300.0,\n",
       "  'emi': 1000},\n",
       " {'amount': 991360.0,\n",
       "  'duration': 99.0,\n",
       "  'rate': 0.08,\n",
       "  'down_payment': 0.0,\n",
       "  'emi': 13712},\n",
       " {'amount': 423000.0,\n",
       "  'duration': 27.0,\n",
       "  'rate': 0.09,\n",
       "  'down_payment': 47200.0,\n",
       "  'emi': 15428}]"
      ]
     },
     "execution_count": 33,
     "metadata": {},
     "output_type": "execute_result"
    }
   ],
   "source": [
    "loans_result"
   ]
  },
  {
   "cell_type": "code",
   "execution_count": 38,
   "id": "eb37ebfe-ba1f-4790-8166-89d1c31343f1",
   "metadata": {},
   "outputs": [
    {
     "name": "stdout",
     "output_type": "stream",
     "text": [
      "['100000.0', '36.0', '0.08', '20000.0', '2507']\n",
      "['200000.0', '12.0', '0.1', '0.0', '17584']\n",
      "['628400.0', '120.0', '0.12', '100000.0', '7582']\n",
      "['4637400.0', '240.0', '0.06', '0.0', '33224']\n",
      "['42900.0', '90.0', '0.07', '8900.0', '487']\n",
      "['916000.0', '16.0', '0.13', '0.0', '62664']\n",
      "['45230.0', '48.0', '0.08', '4300.0', '1000']\n",
      "['991360.0', '99.0', '0.08', '0.0', '13712']\n",
      "['423000.0', '27.0', '0.09', '47200.0', '15428']\n",
      "423000.0,27.0,0.09,47200.0,15428\n"
     ]
    }
   ],
   "source": [
    "headers = list(loans_result[0].keys())\n",
    "\n",
    "# values = [str(item[header]) if header in item else \"\" for header in headers]\n",
    "\n",
    "for loan in loans_result:\n",
    "    result = [str(loan[header]) if header in loan else \"\" for header in headers]\n",
    "    print(result)\n",
    "    result_str = ','.join(result)\n",
    "\n",
    "print(result_str)"
   ]
  },
  {
   "cell_type": "code",
   "execution_count": null,
   "id": "d6423ce2-1ce3-4ec0-9ead-476a949974cc",
   "metadata": {},
   "outputs": [],
   "source": []
  }
 ],
 "metadata": {
  "kernelspec": {
   "display_name": "Python 3 (ipykernel)",
   "language": "python",
   "name": "python3"
  },
  "language_info": {
   "codemirror_mode": {
    "name": "ipython",
    "version": 3
   },
   "file_extension": ".py",
   "mimetype": "text/x-python",
   "name": "python",
   "nbconvert_exporter": "python",
   "pygments_lexer": "ipython3",
   "version": "3.10.15"
  }
 },
 "nbformat": 4,
 "nbformat_minor": 5
}
