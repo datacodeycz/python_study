{
 "cells": [
  {
   "cell_type": "markdown",
   "id": "da229703-ccd5-492a-b395-7b83a86979e8",
   "metadata": {},
   "source": [
    "# 爬虫\n",
    "\n",
    "爬虫是一种自动化技术，用于从网页中提取数据。在 Python 中，爬虫的实现非常简单且强大。本章将带你学习爬虫的基本原理和常用工具，内容包括：\n",
    "1. **urllib 模块**：学习如何使用内置的 `urllib` 模块进行简单的网络请求。\n",
    "2. **HTML 解析**：掌握如何从网页中提取有用的数据。\n",
    "3. **requests 模块**：深入了解 `requests` 模块的用法，提升爬虫的效率和灵活性。\n",
    "\n",
    "## 目录\n",
    "- [urllib](01-urllib/01-urllib.ipynb)  \n",
    "  学习如何使用 Python 内置的 `urllib` 模块进行网页请求、获取 HTML 数据，以及处理简单的网络任务。\n",
    "\n",
    "- [HTML解析](02-解析/02-解析.ipynb)  \n",
    "  掌握 HTML 解析的基本方法，学习如何提取网页中的有用信息，包括文本、链接和表格等。\n",
    "\n",
    "- [requests](03-requests/03-requests.ipynb)  \n",
    "  了解 `requests` 模块的强大功能，学习如何通过简单的 API 完成 HTTP 请求，并实现更高效的爬虫程序。\n"
   ]
  },
  {
   "cell_type": "code",
   "execution_count": null,
   "id": "9ab84f06-41c5-4dac-92af-0b82d4d3229a",
   "metadata": {},
   "outputs": [],
   "source": []
  }
 ],
 "metadata": {
  "kernelspec": {
   "display_name": "Python 3 (ipykernel)",
   "language": "python",
   "name": "python3"
  },
  "language_info": {
   "codemirror_mode": {
    "name": "ipython",
    "version": 3
   },
   "file_extension": ".py",
   "mimetype": "text/x-python",
   "name": "python",
   "nbconvert_exporter": "python",
   "pygments_lexer": "ipython3",
   "version": "3.10.15"
  }
 },
 "nbformat": 4,
 "nbformat_minor": 5
}
