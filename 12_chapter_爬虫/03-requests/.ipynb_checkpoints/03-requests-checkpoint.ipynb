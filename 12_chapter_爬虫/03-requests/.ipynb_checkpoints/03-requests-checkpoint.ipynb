{
 "cells": [
  {
   "cell_type": "markdown",
   "id": "e76d136b-e2b0-4056-bd5d-7924aadd8098",
   "metadata": {},
   "source": [
    "# requests库的学习"
   ]
  },
  {
   "cell_type": "markdown",
   "id": "89db00b2-22c9-4acf-b114-ef94442fd400",
   "metadata": {},
   "source": [
    "安装requests第三方库"
   ]
  },
  {
   "cell_type": "code",
   "execution_count": null,
   "id": "705e5e77-0256-4153-be0c-a565dec73b7b",
   "metadata": {},
   "outputs": [],
   "source": [
    "!pip install requests"
   ]
  },
  {
   "cell_type": "code",
   "execution_count": 1,
   "id": "d292b2ba-e1c0-413f-9a08-31700bb0061b",
   "metadata": {},
   "outputs": [],
   "source": [
    "# 导入requests库\n",
    "import requests"
   ]
  },
  {
   "cell_type": "markdown",
   "id": "29f13a26-7047-4dbe-a132-67c6b1a3be9d",
   "metadata": {},
   "source": [
    "## 基本使用\n",
    "\n",
    "requests和我们学过的urllib是差不多类似的，都是模拟浏览器向服务器发送请求，但是reqeusts的语法会比urllib更简单一点，并且有更高的可读性，例如：requests的 API 设计直观、语义明确，更容易阅读和维护代码。还可以处理复杂场景：例如：对于一些复杂的 HTTP 请求场景，如处理表单、上传文件、会话保持等。所以学习requests是必要的，当然我们之前学过的urllib已经够用，对于我们获取页面中的数据。\n",
    "\n",
    "同样的学习requests，我们需要学习requests中的一个数据类型和六个属性，来获取我们想要的东西，以便我们后续使用。\n",
    "\n",
    "一个对象：Response对象：`response = requests.get(url=url)`\n",
    "\n",
    "六个属性：\n",
    "\n",
    "    response.text : 获取网站源码\n",
    "    response.encoding ：访问或定制编码方式\n",
    "    response.url ：获取请求的url\n",
    "    response.content ：响应的字节类型\n",
    "    response.status_code ：响应的状态码\n",
    "    response.headers ：响应的头信息"
   ]
  },
  {
   "cell_type": "markdown",
   "id": "6b33c2cf-ee3e-48a0-87d7-7ad40fe0fa13",
   "metadata": {},
   "source": [
    "这里我们还是使用百度的首页进行测试练习"
   ]
  },
  {
   "cell_type": "code",
   "execution_count": 2,
   "id": "b519b923-2f70-4bf3-bafe-8abc417f6211",
   "metadata": {},
   "outputs": [],
   "source": [
    "url = 'http://www.baidu.com'\n",
    "\n",
    "response = requests.get(url=url)"
   ]
  },
  {
   "cell_type": "code",
   "execution_count": 3,
   "id": "41bf05d9-4163-4670-acaf-16cdf8cb89ef",
   "metadata": {},
   "outputs": [
    {
     "data": {
      "text/plain": [
       "requests.models.Response"
      ]
     },
     "execution_count": 3,
     "metadata": {},
     "output_type": "execute_result"
    }
   ],
   "source": [
    "type(response)  # 一个我们响应的对象，这个对象就跟我们之前的response对象类似"
   ]
  },
  {
   "cell_type": "code",
   "execution_count": 5,
   "id": "9260edac-e6c3-40e6-b2b6-3c673dd64fb4",
   "metadata": {},
   "outputs": [
    {
     "data": {
      "text/plain": [
       "'ISO-8859-1'"
      ]
     },
     "execution_count": 5,
     "metadata": {},
     "output_type": "execute_result"
    }
   ],
   "source": [
    "# 因为一般响应的结果都是二进制的，我们可以设置响应的编码格式\n",
    "response.encoding  # 首先我们可以看一下响应的编码格式"
   ]
  },
  {
   "cell_type": "code",
   "execution_count": 6,
   "id": "e59a06f3-7fcc-4be8-9a2d-ad99baa46316",
   "metadata": {},
   "outputs": [],
   "source": [
    "# 1. 我们可以将编码格式修改为utf-8\n",
    "response.encoding = 'utf-8'"
   ]
  },
  {
   "cell_type": "code",
   "execution_count": 8,
   "id": "3b8cc32e-8119-4525-a04e-7c5afa8bc76b",
   "metadata": {},
   "outputs": [
    {
     "data": {
      "text/plain": [
       "'<!DOCTYPE html>\\r\\n<!--STATUS OK--><html> <head><meta http-equiv=content-type content=text/html;charset=utf-8><meta http-equiv=X-UA-Compatible content=IE=Edge><meta content=always name=referrer><link rel=stylesheet type=text/css href=http://s1.bdstatic.com/r/www/cache/bdorz/baidu.min.css><title>百度一下，你就知道</title></head> <body link=#0000cc> <div id=wrapper> <div id=head> <div class=head_wrapper> <div class=s_form> <div class=s_form_wrapper> <div id=lg> <img hidefocus=true src=//www.baidu.com/img/bd_logo1.png width=270 height=129> </div> <form id=form name=f action=//www.baidu.com/s class=fm> <input type=hidden name=bdorz_come value=1> <input type=hidden name=ie value=utf-8> <input type=hidden name=f value=8> <input type=hidden name=rsv_bp value=1> <input type=hidden name=rsv_idx value=1> <input type=hidden name=tn value=baidu><span class=\"bg s_ipt_wr\"><input id=kw name=wd class=s_ipt value maxlength=255 autocomplete=off autofocus></span><span class=\"bg s_btn_wr\"><input type=submit id=su value=百度一下 class=\"bg s_btn\"></span> </form> </div> </div> <div id=u1> <a href=http://news.baidu.com name=tj_trnews class=mnav>新闻</a> <a href=http://www.hao123.com name=tj_trhao123 class=mnav>hao123</a> <a href=http://map.baidu.com name=tj_trmap class=mnav>地图</a> <a href=http://v.baidu.com name=tj_trvideo class=mnav>视频</a> <a href=http://tieba.baidu.com name=tj_trtieba class=mnav>贴吧</a> <noscript> <a href=http://www.baidu.com/bdorz/login.gif?login&amp;tpl=mn&amp;u=http%3A%2F%2Fwww.baidu.com%2f%3fbdorz_come%3d1 name=tj_login class=lb>登录</a> </noscript> <script>document.write(\\'<a href=\"http://www.baidu.com/bdorz/login.gif?login&tpl=mn&u=\\'+ encodeURIComponent(window.location.href+ (window.location.search === \"\" ? \"?\" : \"&\")+ \"bdorz_come=1\")+ \\'\" name=\"tj_login\" class=\"lb\">登录</a>\\');</script> <a href=//www.baidu.com/more/ name=tj_briicon class=bri style=\"display: block;\">更多产品</a> </div> </div> </div> <div id=ftCon> <div id=ftConw> <p id=lh> <a href=http://home.baidu.com>关于百度</a> <a href=http://ir.baidu.com>About Baidu</a> </p> <p id=cp>&copy;2017&nbsp;Baidu&nbsp;<a href=http://www.baidu.com/duty/>使用百度前必读</a>&nbsp; <a href=http://jianyi.baidu.com/ class=cp-feedback>意见反馈</a>&nbsp;京ICP证030173号&nbsp; <img src=//www.baidu.com/img/gs.gif> </p> </div> </div> </div> </body> </html>\\r\\n'"
      ]
     },
     "execution_count": 8,
     "metadata": {},
     "output_type": "execute_result"
    }
   ],
   "source": [
    "# 2.以字符串的形式来返回了网页的源码\n",
    "response.text"
   ]
  },
  {
   "cell_type": "code",
   "execution_count": 9,
   "id": "2fa93f14-7eae-48d0-aef9-b9312335943d",
   "metadata": {},
   "outputs": [
    {
     "data": {
      "text/plain": [
       "'http://www.baidu.com/'"
      ]
     },
     "execution_count": 9,
     "metadata": {},
     "output_type": "execute_result"
    }
   ],
   "source": [
    "# 3.返回一个url地址\n",
    "response.url"
   ]
  },
  {
   "cell_type": "code",
   "execution_count": 11,
   "id": "a2c60252-cca6-4c13-be73-1941b7d97d9b",
   "metadata": {},
   "outputs": [
    {
     "data": {
      "text/plain": [
       "b'<!DOCTYPE html>\\r\\n<!--STATUS OK--><html> <head><meta http-equiv=content-type content=text/html;charset=utf-8><meta http-equiv=X-UA-Compatible content=IE=Edge><meta content=always name=referrer><link rel=stylesheet type=text/css href=http://s1.bdstatic.com/r/www/cache/bdorz/baidu.min.css><title>\\xe7\\x99\\xbe\\xe5\\xba\\xa6\\xe4\\xb8\\x80\\xe4\\xb8\\x8b\\xef\\xbc\\x8c\\xe4\\xbd\\xa0\\xe5\\xb0\\xb1\\xe7\\x9f\\xa5\\xe9\\x81\\x93</title></head> <body link=#0000cc> <div id=wrapper> <div id=head> <div class=head_wrapper> <div class=s_form> <div class=s_form_wrapper> <div id=lg> <img hidefocus=true src=//www.baidu.com/img/bd_logo1.png width=270 height=129> </div> <form id=form name=f action=//www.baidu.com/s class=fm> <input type=hidden name=bdorz_come value=1> <input type=hidden name=ie value=utf-8> <input type=hidden name=f value=8> <input type=hidden name=rsv_bp value=1> <input type=hidden name=rsv_idx value=1> <input type=hidden name=tn value=baidu><span class=\"bg s_ipt_wr\"><input id=kw name=wd class=s_ipt value maxlength=255 autocomplete=off autofocus></span><span class=\"bg s_btn_wr\"><input type=submit id=su value=\\xe7\\x99\\xbe\\xe5\\xba\\xa6\\xe4\\xb8\\x80\\xe4\\xb8\\x8b class=\"bg s_btn\"></span> </form> </div> </div> <div id=u1> <a href=http://news.baidu.com name=tj_trnews class=mnav>\\xe6\\x96\\xb0\\xe9\\x97\\xbb</a> <a href=http://www.hao123.com name=tj_trhao123 class=mnav>hao123</a> <a href=http://map.baidu.com name=tj_trmap class=mnav>\\xe5\\x9c\\xb0\\xe5\\x9b\\xbe</a> <a href=http://v.baidu.com name=tj_trvideo class=mnav>\\xe8\\xa7\\x86\\xe9\\xa2\\x91</a> <a href=http://tieba.baidu.com name=tj_trtieba class=mnav>\\xe8\\xb4\\xb4\\xe5\\x90\\xa7</a> <noscript> <a href=http://www.baidu.com/bdorz/login.gif?login&amp;tpl=mn&amp;u=http%3A%2F%2Fwww.baidu.com%2f%3fbdorz_come%3d1 name=tj_login class=lb>\\xe7\\x99\\xbb\\xe5\\xbd\\x95</a> </noscript> <script>document.write(\\'<a href=\"http://www.baidu.com/bdorz/login.gif?login&tpl=mn&u=\\'+ encodeURIComponent(window.location.href+ (window.location.search === \"\" ? \"?\" : \"&\")+ \"bdorz_come=1\")+ \\'\" name=\"tj_login\" class=\"lb\">\\xe7\\x99\\xbb\\xe5\\xbd\\x95</a>\\');</script> <a href=//www.baidu.com/more/ name=tj_briicon class=bri style=\"display: block;\">\\xe6\\x9b\\xb4\\xe5\\xa4\\x9a\\xe4\\xba\\xa7\\xe5\\x93\\x81</a> </div> </div> </div> <div id=ftCon> <div id=ftConw> <p id=lh> <a href=http://home.baidu.com>\\xe5\\x85\\xb3\\xe4\\xba\\x8e\\xe7\\x99\\xbe\\xe5\\xba\\xa6</a> <a href=http://ir.baidu.com>About Baidu</a> </p> <p id=cp>&copy;2017&nbsp;Baidu&nbsp;<a href=http://www.baidu.com/duty/>\\xe4\\xbd\\xbf\\xe7\\x94\\xa8\\xe7\\x99\\xbe\\xe5\\xba\\xa6\\xe5\\x89\\x8d\\xe5\\xbf\\x85\\xe8\\xaf\\xbb</a>&nbsp; <a href=http://jianyi.baidu.com/ class=cp-feedback>\\xe6\\x84\\x8f\\xe8\\xa7\\x81\\xe5\\x8f\\x8d\\xe9\\xa6\\x88</a>&nbsp;\\xe4\\xba\\xacICP\\xe8\\xaf\\x81030173\\xe5\\x8f\\xb7&nbsp; <img src=//www.baidu.com/img/gs.gif> </p> </div> </div> </div> </body> </html>\\r\\n'"
      ]
     },
     "execution_count": 11,
     "metadata": {},
     "output_type": "execute_result"
    }
   ],
   "source": [
    "# 4. 返回二进制数据\n",
    "response.content  # 这里我们下载图片，视频非常需要"
   ]
  },
  {
   "cell_type": "code",
   "execution_count": 12,
   "id": "97a32f9a-413a-4570-a41e-1f3a1ac36ff3",
   "metadata": {},
   "outputs": [
    {
     "data": {
      "text/plain": [
       "200"
      ]
     },
     "execution_count": 12,
     "metadata": {},
     "output_type": "execute_result"
    }
   ],
   "source": [
    "# 5. 返回响应的状态码\n",
    "response.status_code"
   ]
  },
  {
   "cell_type": "markdown",
   "id": "f895efb3-d443-493f-9ee2-cc82063561d8",
   "metadata": {},
   "source": [
    "HTTP 响应状态码用于表示服务器对客户端请求的处理结果。以下是常见的响应状态码及其含义，按照不同类别进行分类：\n",
    "\n",
    "1. 1xx - 信息性响应\n",
    "\n",
    "    100 Continue：客户端应继续请求。这通常是在客户端发送了一个初始请求（如上传文件的分块请求）后，服务器指示客户端继续发送请求的其他部分。</br>\n",
    "    101 Switching Protocols：服务器同意客户端的协议切换请求，表示服务器将使用新的协议进行通信。</br>\n",
    "\n",
    "2. 2xx - 成功\n",
    "\n",
    "    200 OK：请求成功，服务器已成功处理请求并返回响应。这是最常见的状态码之一。</br>\n",
    "    201 Created：请求成功并且在服务器上创建了新的资源。常用于 POST 或 PUT 请求。</br>\n",
    "    202 Accepted：请求已被接受，但尚未处理。请求可能会在稍后完成。</br>\n",
    "    204 No Content：请求成功，但服务器没有要返回的内容。常用于 DELETE 请求或操作成功但不需要返回数据的场景。</br>\n",
    "\n",
    "3. 3xx - 重定向\n",
    "   \n",
    "    301 Moved Permanently：请求的资源已被永久移动到新位置，后续的请求应使用新的 URI。服务器会在响应头中提供新的 URI。</br>\n",
    "    302 Found：请求的资源临时移动到了新位置，客户端应继续使用原始 URI 进行请求。常用于临时重定向。</br>\n",
    "    303 See Other：建议客户端通过 GET 方法访问新的 URI 来获取资源，通常用于 POST 请求的响应中以防止重复提交。</br>\n",
    "    304 Not Modified：请求的资源未被修改，可以使用缓存的版本。这是对 GET 请求的响应，表示客户端可以继续使用其缓存的资源版本。</br>\n",
    "    307 Temporary Redirect：与 302 类似，但客户端必须在重定向时使用原来的请求方法（如 POST）。</br>\n",
    "    308 Permanent Redirect：与 301 类似，但客户端必须在后续请求中使用原始请求方法。</br>\n",
    "\n",
    "4. 4xx - 客户端错误\n",
    "\n",
    "    400 Bad Request：服务器无法理解客户端的请求，可能是因为语法错误或请求参数不正确。</br>\n",
    "    401 Unauthorized：请求需要身份验证，通常是因为缺少或无效的身份验证凭据。</br>\n",
    "    403 Forbidden：服务器理解请求，但拒绝执行。通常是因为客户端没有权限访问资源。</br>\n",
    "    404 Not Found：请求的资源在服务器上不存在。常见于请求的 URL 无效或资源已被删除。</br>\n",
    "    405 Method Not Allowed：请求方法（如 GET、POST）不被允许用于指定的资源。例如，试图用 POST 请求一个只接受 GET 请求的资源。</br>\n",
    "    408 Request Timeout：请求超时，服务器在等待客户端请求时超时。</br>\n",
    "    409 Conflict：请求与服务器当前状态冲突，通常用于资源的版本冲突或重复的资源创建。</br>\n",
    "    410 Gone：请求的资源已永久删除，且不会再有资源可用，类似于 404，但更明确表示资源不再可用。</br>\n",
    "    413 Payload Too Large：请求实体太大，服务器无法处理。</br>\n",
    "    429 Too Many Requests：客户端在给定的时间内发送了太多的请求，被服务器限制。</br>\n",
    "   \n",
    "5. 5xx - 服务器错误\n",
    "\n",
    "    500 Internal Server Error：服务器内部错误，导致无法完成请求。通常是服务器端的代码或配置问题引起的。</br>\n",
    "    501 Not Implemented：服务器不支持请求所需的功能，例如请求了一个服务器无法识别的方法。</br>\n",
    "    502 Bad Gateway：服务器作为网关或代理时，从上游服务器接收到无效响应。</br>\n",
    "    503 Service Unavailable：服务器当前无法处理请求，可能是因为超载或正在进行维护。通常是临时状态。</br>\n",
    "    504 Gateway Timeout：服务器作为网关或代理时，未能在规定时间内从上游服务器获得响应。</br>\n",
    "    505 HTTP Version Not Supported：服务器不支持请求中使用的 HTTP 版本。</br>\n",
    "    "
   ]
  },
  {
   "cell_type": "code",
   "execution_count": 13,
   "id": "ba7cc178-00a1-419d-a040-d78ffdba585d",
   "metadata": {},
   "outputs": [
    {
     "data": {
      "text/plain": [
       "{'Connection': 'close', 'Transfer-Encoding': 'chunked', 'Cache-Control': 'private, no-cache, no-store, proxy-revalidate, no-transform', 'Content-Encoding': 'gzip', 'Content-Type': 'text/html', 'Date': 'Wed, 18 Sep 2024 07:26:47 GMT', 'Last-Modified': 'Mon, 23 Jan 2017 13:27:36 GMT', 'Pragma': 'no-cache', 'Server': 'bfe/1.0.8.18', 'Set-Cookie': 'BDORZ=27315; max-age=86400; domain=.baidu.com; path=/'}"
      ]
     },
     "execution_count": 13,
     "metadata": {},
     "output_type": "execute_result"
    }
   ],
   "source": [
    "# 6.返回响应头信息\n",
    "response.headers"
   ]
  },
  {
   "cell_type": "markdown",
   "id": "5d67eedb-64c9-4bf0-8028-7a7033d02176",
   "metadata": {},
   "source": [
    "## get请求\n",
    "\n",
    "1. 给定`url`:要访问的地址，`data`：发送请求要传入的数据，`headers`：请求头信息\n",
    "2. 模拟浏览器访问服务器数据\n",
    "3. 获取响应数据"
   ]
  },
  {
   "cell_type": "markdown",
   "id": "7c23efda-14a4-4d0c-b503-85a386e07ec7",
   "metadata": {},
   "source": [
    "我们通过在bing搜索遂宁职业学院为例子，来获取搜寻到的结果"
   ]
  },
  {
   "cell_type": "code",
   "execution_count": 1,
   "id": "0fb62b6d-97a4-48e0-8799-3eff91257f56",
   "metadata": {},
   "outputs": [],
   "source": [
    "import requests"
   ]
  },
  {
   "cell_type": "markdown",
   "id": "8a383220-61f6-4c43-bc83-b27c9dd4e4c3",
   "metadata": {},
   "source": [
    "url = https://cn.bing.com/search?q=%E9%81%82%E5%AE%81%E8%81%8C%E4%B8%9A%E5%AD%A6%E9%99%A2 这是搜索遂宁职业学院的url"
   ]
  },
  {
   "cell_type": "code",
   "execution_count": 4,
   "id": "6f13eec3-1eac-4bfd-a916-69599fa41e4a",
   "metadata": {
    "scrolled": true
   },
   "outputs": [
    {
     "data": {
      "text/plain": [
       "'<!DOCTYPE html><html dir=\"ltr\" lang=\"zh\" xml:lang=\"zh\" xmlns=\"http://www.w3.org/1999/xhtml\" xmlns:Web=\"http://schemas.live.com/Web/\"><script type=\"text/javascript\" nonce=\"Fo1YRRy8jh1juov0SET/1ArnU6wTxonLrHZkmNV841s=\" >//<![CDATA[\\r\\nsi_ST=new Date\\r\\n//]]></script><head><!--pc--><title>遂宁职业学院 - 搜索</title><meta content=\"text/html; charset=utf-8\" http-equiv=\"content-type\" /><meta name=\"referrer\" content=\"origin-when-cross-origin\" /><meta property=\"og:description\" content=\"通过必应的智能搜索，可以更轻松地快速查找所需内容并获得奖励。\" /><meta property=\"og:site_name\" content=\"必应\" /><meta property=\"og:title\" content=\"遂宁职业学院 - 必应\" /><meta property=\"og:url\" content=\"https://cn.bing.com:9943/search?q=遂宁职业学院\" /><meta property=\"fb:app_id\" content=\"3732605936979161\" /><meta property=\"og:image\" content=\"http://www.bing.com/sa/simg/facebook_sharing_5.png\" /><meta property=\"og:type\" content=\"website\" /><meta property=\"og:image:width\" content=\"600\" /><meta property=\"og:image:height\" content=\"315\" /><link href=\"/search?format=rss&amp;q=%E9%81%82%E5%AE%81%E8%81%8C%E4%B8%9A%E5%AD%A6%E9%99%A2\" data-orighref=\"\" rel=\"alternate\" title=\"XML\" type=\"text/xml\" /><link href=\"/search?format=rss&amp;q=%E9%81%82%E5%AE%81%E8%81%8C%E4%B8%9A%E5%AD%A6%E9%99%A2\" data-orighref=\"\" rel=\"alternate\" title=\"RSS\" type=\"application/rss+xml\" /><link href=\"/sa/simg/favicon-trans-bg-blue-mg.ico\" data-orighref=\"\" rel=\"icon\" /><link rel=\"preconnect\" href=\"https://th.bing.com\" /><link rel=\"preconnect\" href=\"https://th.bing.com\" crossorigin/><link rel=\"dns-prefetch\" href=\"https://th.bing.com\" /><link rel=\"dns-prefetch\" href=\"https://th.bing.com\" crossorigin/><script type=\"text/javascript\" nonce=\"Fo1YRRy8jh1juov0SET/1ArnU6wTxonLrHZkmNV841s=\">//<![CDATA[\\n_G={Region:\"CN\",Lang:\"zh-CN\",ST:(typeof si_ST!==\\'undefined\\'?si_ST:new Date),Mkt:\"zh-CN\",RevIpCC:\"cn\",RTL:false,Ver:\"38\",IG:\"45B87FDA5E6D41CBB6139287D374208B\",EventID:\"66eaba7f774943cfa3e604a0f84f7be0\",V:\"web\",P:\"SERP\",DA:\"HKGE01\",CID:\"1F920A70BAE8639716BA1E8EBB3A6249\",SUIH:\"WNDUMnbL_gzHmjgHsMSw3g\",adc:\"b_ad\",EF:{cookss:1,bmcov:1,crossdomainfix:1,bmasynctrigger:1,bmasynctrigger3:1,getslctspt:1,newtabsloppyclick:1,chevroncheckmousemove:1,sharepreview:1,shareoutimage:1,sharefixreadnum:1,sharepreviewthumbnailid:1,shareencodefix:1,chatskip2content:1,fablogfix:1},gpUrl:\"\\\\/fd\\\\/ls\\\\/GLinkPing.aspx?\" }; _G.lsUrl=\"/fd/ls/l?IG=\"+_G.IG+\"&CID=\"+_G.CID ;curUrl=\"https:\\\\/\\\\/cn.bing.com\\\\/search\";function si_T(a){ if(document.images){_G.GPImg=new Image;_G.GPImg.src=_G.gpUrl+\\'IG=\\'+_G.IG+\\'&CID=\\'+_G.CID+\\'&\\'+a;}return true;}_G.BAT=\"0\";_G.NTT=\"600000\";_G.CTT=\"3000\";_G.BNFN=\"Default\";_G.LG=\"160\";_G.FilterFlareInterval=5;;\\n//]]></script><link rel=\"stylesheet\" href=\"/rp/9kJDdDdWIxfU_0cQPutODX9aTOo.gz.css\" type=\"text/css\"/><link rel=\"stylesheet\" href=\"/rp/beFlGRdG91q5V9-7u9c7cRjb_EU.gz.css\" type=\"text/css\"/><link rel=\"stylesheet\" href=\"/rp/i-Xc7c0EwpSZA9iYbYz0HhXWW9U.gz.css\" type=\"text/css\"/><link rel=\"stylesheet\" href=\"/rb/5W/cc,nc/GZY3PyHImAjt56VIC2PBbIGPof4.css?bu=AZ4X\" type=\"text/css\"/><link rel=\"stylesheet\" href=\"/rb/5W/cc,nc/P2CGn0YEO4cQDEI67pXHYJbRDss.css?bu=IXh48w21EHjNENsRzxT0FP4UeOYV8xXEHoYheJwm0i14eMgjxgbJBnhItAG8BHh4_kOzRHh4\" type=\"text/css\"/><link rel=\"stylesheet\" href=\"/rp/3Vt5BmFmmdwpJ0H6U1G61ELNk-E.gz.css\" type=\"text/css\"/><link rel=\"stylesheet\" href=\"/rp/wDLWsvRZylUVdSZDx5krbxRQT3o.gz.css\" type=\"text/css\"/><link rel=\"stylesheet\" href=\"/rb/4O/cc,nc/snnSLSAwgsOSJF1HZbQVd81R95o.css?bu=At0R6hE\" type=\"text/css\"/><link rel=\"stylesheet\" href=\"/rp/lPBSlJDULkb1JZxIh7LFN51SMmI.gz.css\" type=\"text/css\"/><link rel=\"stylesheet\" href=\"/rb/5W/cir3,cc,nc/GFuo4Ez_PWVODNmmhO1PswOfYgE.css?bu=DbAv_DCEMocy2TKZOq47njvXMdMveI87eA\" type=\"text/css\"/><link rel=\"stylesheet\" href=\"/rp/BIYH0iaP0KdzJANSHICa1DSUI0o.gz.css\" type=\"text/css\"/><style type=\"text/css\">.b_searchbox { width: 571px; } .hasmic .b_searchbox { width: 535px; } .hassbi .b_searchbox { width: 535px; } .hasmic.hassbi .b_searchbox { width: 499px; } #b_header .b_searchboxForm .b_searchbox.b_softkey { width: 533px; } #b_header .hasmic .b_searchboxForm .b_searchbox.b_softkey { width: 497px; } #b_header .hassbi .b_searchboxForm .b_searchbox.b_softkey { width: 497px; } #b_header .hasmic.hassbi .b_searchboxForm .b_searchbox.b_softkey { width: 461px; } .b_searchboxForm.as_rsform .b_searchbox { width: 897px; } .hasmic .b_searchboxForm.as_rsform .b_searchbox { width: 861px; } .hassbi .b_searchboxForm.as_rsform .b_searchbox { width: 861px; } .hasmic.hassbi .b_searchboxForm.as_rsform .b_searchbox { width: 825px; } #b_header .b_searchboxForm.as_rsform .b_searchbox.b_softkey { width: 859px; } #b_header .hasmic .b_searchboxForm.as_rsform .b_searchbox.b_softkey { width: 823px; } #b_header .hassbi .b_searchboxForm.as_rsform .b_searchbox.b_softkey { width: 823px; } #b_header .hasmic.hassbi .b_searchboxForm.as_rsform .b_searchbox.b_softkey { width: 787px; }</style><link rel=\"stylesheet\" href=\"/rp/rGjNWtjmSKOwoNuT_s3Min4IOhc.gz.css\" type=\"text/css\"/><link rel=\"stylesheet\" href=\"/rb/5U/cir3,cc,nc/x1GLwX6TA4Cg3KdvDSl85rMun2Q.css?bu=Bmxs-xKzFNAWbA\" type=\"text/css\"/><link rel=\"stylesheet\" href=\"/rp/8tAihi4TRK1Ly7YXbAk7j4Gtb8c.gz.css\" type=\"text/css\"/><link rel=\"stylesheet\" href=\"/rp/Pi7dI2YK5HhSnqDydANB7FJIbNM.gz.css\" type=\"text/css\"/><link rel=\"stylesheet\" href=\"/rp/-KA72UpoZPXAn1sSAuHG_UZ4kno.gz.css\" type=\"text/css\"/><link rel=\"stylesheet\" href=\"/rp/ROmQIST_t1-DCT3R8Y8ukUXYzZs.gz.css\" type=\"text/css\"/><link rel=\"stylesheet\" href=\"/rp/Xg_1EFPWhN7VMKgU2-kfBp9kerA.gz.css\" type=\"text/css\"/><link rel=\"stylesheet\" href=\"/rp/E_Dz94dvXIUtXOWWOxmCQIiezN4.gz.css\" type=\"text/css\"/><link rel=\"stylesheet\" href=\"/rp/0bibGpLQufyMfEPoWect7CRdLSg.gz.css\" type=\"text/css\"/><link rel=\"stylesheet\" href=\"/rp/ZQfTYHlkVj581MYN8ml8i_IRsR0.gz.css\" type=\"text/css\"/><link rel=\"stylesheet\" href=\"/rp/kb0OYlyDwOKxf5v502l3jtVAOXQ.gz.css\" type=\"text/css\"/><link rel=\"stylesheet\" href=\"/rp/--7mch4O1szo6i5yf4stjs1Ve0s.gz.css\" type=\"text/css\"/><link rel=\"stylesheet\" href=\"/rp/pEoUL393CGvpWAE2oam_a1WexK4.gz.css\" type=\"text/css\"/><link rel=\"stylesheet\" href=\"/rp/xnpADZM10b9qHaYTNpTlKQEw5ms.gz.css\" type=\"text/css\"/><link rel=\"stylesheet\" href=\"/rp/qXYk3t0LRqkLwNMZ_TJy4_2eBiQ.gz.css\" type=\"text/css\"/><link rel=\"stylesheet\" href=\"/rp/pDZ32SxuLvOIMLGVy9YAB-eHRpQ.gz.css\" type=\"text/css\"/><link rel=\"stylesheet\" href=\"/rp/JeeOWSi91Dw59vVoo_p9oPticzY.gz.css\" type=\"text/css\"/><link rel=\"stylesheet\" href=\"/rp/oGFZUyRp4AO8JSTdJq1eYy9Zmbo.gz.css\" type=\"text/css\"/><link rel=\"stylesheet\" href=\"/rp/WzIm7KIJB1QuaIkeKTGhDGtZvj4.gz.css\" type=\"text/css\"/><link rel=\"stylesheet\" href=\"/rp/itE45GwL3LFaausoa3fLvHKqtQQ.gz.css\" type=\"text/css\"/><link rel=\"stylesheet\" href=\"/rp/0JFJBLdv4SA3h_Spq9iStK7egVk.gz.css\" type=\"text/css\"/><link rel=\"stylesheet\" href=\"/rp/LGIh8a97HvZFfz3GHFb-2_1ZQtY.gz.css\" type=\"text/css\"/><link rel=\"stylesheet\" href=\"/rp/ZhKdQ-1xveMpAFD7un1sWF7yzOs.gz.css\" type=\"text/css\"/><script type=\"text/javascript\" nonce=\"Fo1YRRy8jh1juov0SET/1ArnU6wTxonLrHZkmNV841s=\">//<![CDATA[\\nvar logJSText=function(n,t){t===void 0&&(t=null);(new Image).src=_G.lsUrl+\\'&Type=Event.ClientInst&DATA=[{\"T\":\"CI.ClientInst\",\"FID\":\"CI\",\"Name\":\"\\'+escape(n)+(t?\\'\",\"Text\":\"\\'+escape(t):\"\")+\\'\"}]\\'},getHref=function(){return location.href};try{var ignErr=[\"ResizeObserver loop\",\"Script error\"],ignCSPErr=[\"unsafe-eval\"],maxErr=3,ignoreCurrentError=function(n,t){return(ignErr.some(function(t){return n.includes(t)})||ignCSPErr.some(function(t){return n.includes(t)}))?ignCSPErr.some(function(t){return n.includes(t)})&&!t.filename.includes(\"chrome-extension://\")?!1:(t!=null&&(typeof sj_sp!=\"undefined\"&&sj_sp(t),typeof sj_pd!=\"undefined\"&&sj_pd(t)),!0):!1},regexEsc=function(n){return n.replace(/([.?*+^$&[\\\\]\\\\\\\\(){}|<>-])/g,\"\\\\\\\\$1\")};window.jsErrorHandler=function(n){var f,p,h,rt,ut,u,e,ft,o,a,v,s;try{if(f=\\'\"noMessage\"\\',p=(n.error||n).message||f,ignoreCurrentError(p,n))return;if(h=(window.ERC?window.ERC:0)+1,window.ERC=h,h>maxErr){logJSText(\"max errors reached\");return}var c=n.error||n,w=n.filename,b=n.lineno,k=n.colno,d=n.extra,l=c.severity||\"Error\",g=c.message||f,i=c.stack,t=\\'\"\\'+escape(g.replace(/\"/g,\"\"))+\\'\"\\',nt=new RegExp(regexEsc(getHref()),\"g\"),tt=window.lirab,it=window.liraa,r=tt?\" hint == [\"+tt:\"\";if(r=r+(it?\", \"+it+\")\":r?\"]\":\"\"),i){for(rt=/\\\\(([^\\\\)]+):[0-9]+:[0-9]+\\\\)/g,u={};(ut=rt.exec(i))!==null;)e=ut[1],u[e]?u[e]++:u[e]=1;o=0;for(a in u)u[a]>1&&(v=regexEsc(a),ft=new RegExp(v,\"g\"),i=i.replace(ft,o),i+=\"#\"+o+\"=\"+v,o++);i=i.replace(nt,\"self\").replace(/\"/g,\"\");t+=\\',\"Stack\":\"\\'+(escape(i)+\\'\"\\')}if(w?t+=\\',\"Meta\":\"\\'+escape(w.replace(nt,\"self\"))+r+\\'\"\\':r&&(t+=\\',\"Meta\":\"\\'+r+\\'\"\\'),b&&(t+=\\',\"Line\":\"\\'+b+\\'\"\\'),k&&(t+=\\',\"Char\":\"\\'+k+\\'\"\\'),d&&(t+=\\',\"ExtraInfo\":\"\\'+d+\\'\"\\'),g===f)if(l=\"Warning\",t+=\\',\"ObjectToString\":\"\\'+n.toString()+\\'\"\\',JSON&&JSON.stringify)t+=\\',\"JSON\":\"\\'+escape(JSON.stringify(n))+\\'\"\\';else for(s in n)n.hasOwnProperty(s)&&(t+=\\',\"\\'+s+\\'\":\"\\'+n[s]+\\'\"\\');var et=(new Date).getTime(),ot=\\'\"T\":\"CI.\\'+l+\\'\",\"FID\":\"CI\",\"Name\":\"JS\\'+l+\\'\",\"Text\":\\'+t+\"\",st=\"<E><T>Event.ClientInst<\\\\/T><IG>\"+_G.IG+\"<\\\\/IG><TS>\"+et+\"<\\\\/TS><D><![CDATA[[{\"+ot+\"}]]\\\\]><\\\\/D><\\\\/E>\",ht=\"<ClientInstRequest><Events>\"+st+\"<\\\\/Events><STS>\"+et+\"<\\\\/STS><\\\\/ClientInstRequest>\",y=new XMLHttpRequest;y.open(\"POST\",\"/fd/ls/lsp.aspx?\",!0);y.setRequestHeader(\"Content-Type\",\"text/xml\");y.send(ht);typeof sj_evt!=\"undefined\"&&sj_evt.fire(\"ErrorInstrumentation\",t)}catch(ct){logJSText(\"MetaJSError\",\"Failed to execute error handler. \"+ct.message)}};window.addEventListener&&(window.addEventListener(\"error\",window.jsErrorHandler,!1),window.addEventListener(\"unhandledrejection\",window.jsErrorHandler,!1))}catch(e){logJSText(\"MetaJSError\",\"Failed to bind error handler \"+e.message)};var amd,define,require;(function(n){function e(n,i,u){t[n]||(t[n]={dependencies:i,callback:u},r(n))}function r(n){if(n){if(n)return u(n)}else{if(!f){for(var r in t)u(r);f=!0}return i}}function u(n){var s,e;if(i[n])return i[n];if(t.hasOwnProperty(n)){var h=t[n],f=h.dependencies,l=h.callback,a=r,o={},c=[a,o];if(f.length<2)throw\"invalid usage\";else if(f.length>2)for(s=f.slice(2,f.length),e=0;e<s.length;e++)c.push(u(s[e]));return l.apply(this,c),i[n]=o,o}}var t={},i={},f=!1;n.define=e;n.require=r})(amd||(amd={}));define=amd.define;require=amd.require;var _w=window,_d=document,sb_ie=window.ActiveXObject!==undefined,sb_i6=sb_ie&&!_w.XMLHttpRequest,_ge=function(n){return _d.getElementById(n)},_qs=function(n,t){return t=typeof t==\"undefined\"?_d:t,t.querySelector?t.querySelector(n):null},sb_st=function(n,t){return setTimeout(n,t)},sb_rst=sb_st,sb_ct=function(n){clearTimeout(n)},sb_gt=function(){return(new Date).getTime()},sj_gx=function(){return sb_i6?new ActiveXObject(\"MSXML2.XMLHTTP\"):new XMLHttpRequest};_w.sj_ce=function(n,t,i){var r=_d.createElement(n);return t&&(r.id=t),i&&(r.className=i),r};_w.sj_cook=_w.sj_cook||{get:function(n,t){var i=_d.cookie.match(new RegExp(\"\\\\\\\\b\"+n+\"=[^;]+\")),r;return t&&i?(r=i[0].match(new RegExp(\"\\\\\\\\b\"+t+\"=([^&]*)\")),r?r[1]:null):i?i[0]:null}};_w.sk_merge||(_w.sk_merge=function(n){_d.cookie=n});_w.ChatMergeLogHelper={getBotRequestId:function(n){var t=this.getChatJoinKeys(n);return t?t.rid:null},getConversationIg:function(n){var t=this.getChatJoinKeys(n);return t?t.ig:null},getChatJoinKeys:function(n){var i,r,u,t,o,f,e;return(function(n){n.Home=\"home\";n.Search=\"search\";n.Conversation=\"conversation\";n.OffStage=\"off-stage\";n.Notebook=\"notebook\";n.GPTCreator=\"gpt-creator\"}(u||(u={})),t=_w.GlobalInstTracker,o=null,typeof t!=\"undefined\"&&t&&t.convModeToJoinKeys&&typeof _w.CIB!=\"undefined\"&&((r=(i=_w.CIB)===null||i===void 0?void 0:i.vm)===null||r===void 0?void 0:r.mode)&&n)?(f=_w.CIB.vm.mode,f===u.Notebook?t.convModeToJoinKeys.get(f):t.convModeToJoinKeys.get(\"conversation\")):(e=location.href.match(new RegExp(\"[?&]IID=Codex-[^?&#]*\")))&&e[0]?{ig:_G.IG,rid:e[0].split(\"=Codex-\")[1]}:o}};_w.bbe=\"A:rms:answers:Shared:BingCore.Bundle\";define(\"fallback\",[\"require\",\"exports\"],function(n,t){function f(){return function(){for(var r,h,c,t=[],n=0;n<arguments.length;n++)t[n]=arguments[n];if(r=s(arguments.callee),u&&(h=e(r),h.toString()!=f().toString()))return h.apply(null,arguments);c=i[r].q;t[0]===\"onPP\"&&o();c.push(t)}}function s(n){for(var t in i)if(i[t].h===n)return t}function e(n,t){for(var u,e=n.split(\".\"),i=_w,r=0;r<e.length;r++)u=e[r],typeof i[u]==\"undefined\"&&t&&(i[u]=r===e.length-1?f():{}),i=i[u];return i}function o(){var e=i[\"rms.js\"].q,o,f,r,n,s,u,t;if(e.length>0)for(o=!1,f=0;f<e.length;f++){for(r=e[f],n=0;n<r.length;n++)if(s=_w.bbe,u=r[n][s],u||(u=r[n][\"A:rmsBu0\"]),u){t=_d.createElement(\"script\");t.setAttribute(\"data-rms\",\"1\");t.setAttribute(\"crossorigin\",\"anonymous\");t.src=u;t.type=\"text/javascript\";setTimeout(function(){_d.body.appendChild(t)},0);r.splice(n,1);o=!0;break}if(o)break}}function h(){var n,t,f;for(u=!1,n=0;n<r.length;n++)t=r[n],f=e(t,!0),i[t]={h:f,q:[]}}function c(){for(var t,n=0;n<r.length;n++){var o=r[n],s=i[o].q,h=e(o);for(t=0;t<s.length;t++)h.toString()!==f().toString()&&h.apply(null,s[t])}u=!0}function l(n,t,i,r){n&&((n===_w||n===_d||n===_d.body)&&t==\"load\"?_w.sj_evt.bind(\"onP1\",i,!0):n.addEventListener?n.addEventListener(t,i,r):n.attachEvent?n.attachEvent(\"on\"+t,i):n[\"on\"+t]=i)}t.__esModule=!0;t.replay=void 0;var r=[\"rms.js\",\"sj_evt.bind\",\"sj_evt.fire\",\"sj_jb\",\"sj_wf\",\"sj_cook.get\",\"sj_cook.set\",\"sj_pd\",\"sj_sp\",\"sj_be\",\"sj_go\",\"sj_ev\",\"sj_ue\",\"sj_evt.unbind\",\"sj_et\",\"Log.Log\",\"sj_mo\",\"sj_so\"],i={},u=!1;_w.fb_is=o;t.replay=c;h();_w.sj_be=l});function lb(){_w.si_sendCReq&&sb_st(_w.si_sendCReq,800);_w.lbc&&_w.lbc()};(function(){function n(n){n=sb_ie?_w.event:n;(!n.altKey||n.ctrlKey||n.shiftKey)&&(n.key&&n.key===\"Enter\"||n.keyCode&&n.keyCode===13)&&_w.si_ct(sb_ie?n.srcElement:n.target,!1,n,\"enter\")}sj_be(document,\"keydown\",n,!1)})();(function(){function n(n){_w.si_ct(sb_ie?_w.event.srcElement:n.target,!1,_w.event||n);sj_evt&&sj_evt.fire(\"cbksent\",n)}sj_be(document,\"mousedown\",n,!1)})();_w.si_sbwu=function(n){var u=_G.BQIG==null?_G.IG:_G.BQIG,r=\"/fd/ls/GLinkPingPost.aspx?\",t,i;if(r+=n.length>2&&n.substring(0,3)===\"IG=\"?n:\"IG=\"+u+n,t=\"sendBeacon\",i=!1,navigator&&navigator[t])try{navigator[t](r,\"\");i=!0}catch(f){}return i};ClTrCo={furl:!0};var ctcc=0,clc=_w.ClTrCo||{},SerpMode;(function(n){n.Home=\"home\";n.Search=\"search\";n.Conversation=\"conversation\";n.OffStage=\"off-stage\";n.Notebook=\"notebook\";n.GPTCreator=\"gpt-creator\"})(SerpMode||(SerpMode={}));_w.si_ct=function(n,t,i,r){var w,b,u,e,o,l,f,nt,a,k,c,p,d;if(clc.SharedClickSuppressed)return!0;u=\"getAttribute\";try{for(;n!==document.body;n=n.parentNode){if(!n||n===document||n[u](\"data-noct\"))break;if(e=(n.tagName===\"A\"||n[u](\"data-clicks\"))&&(n[u](\"h\")||n[u](\"data-h\")||n[u](\"data-cspi\"))||n[u](\"_ct\"),e){o=n[u](\"_ctf\");l=-1;i&&(i.type===\"keydown\"?l=-2:i.button!=null&&(l=i.button));o&&_w[o]||(o=\"si_T\");o===\"si_T\"&&(f=n[u](\"href\"),_G!==undefined&&_G.EF!==undefined&&_G.EF.newtabredironclicktracking===1&&f.indexOf(\"/newtabredir\")==0?(nt=new RegExp(\"[?&]?url=([^&]*)(&|$)\"),a=f.match(nt),a&&(f=f.indexOf(\"&be=1\")>=0?encodeURIComponent(atob(decodeURIComponent(a[1]))):a[1])):f=encodeURIComponent(n[u](\"href\")),clc.furl&&!n[u](\"data-private\")?e+=\"&url=\"+f:clc.mfurl&&(e+=\"&abc=\"+f));r&&(e+=\"&source=\"+r);k=\"\";clc.mc&&(k=\"&c=\"+ctcc++);var v=_w.ChatMergeLogHelper,y=_w.GlobalInstTracker,s,h=\"\";if(typeof v!=\"undefined\"&&v&&typeof v.getChatJoinKeys==\"function\"&&(c=v.getChatJoinKeys(!0),c&&typeof y!=\"undefined\"&&y&&typeof y.getRidFromInstTracker==\"function\"&&(p=null,typeof _w.CIB!=\"undefined\"&&((b=(w=_w.CIB)===null||w===void 0?void 0:w.vm)===null||b===void 0?void 0:b.mode)&&(p=_w.CIB.vm.mode),(d=e.match(new RegExp(\"ID=[^?&#]*\")))&&d[0]))){var tt=d[0].split(\"ID=\")[1].split(\",\"),g=tt[0].split(\"_\")[0],rt=tt[1].split(\".\")[0];(g.length>5&&g.substring(0,6)===\"Codex-\"||p===SerpMode.Notebook||p===SerpMode.Conversation)&&(s=y.getRidFromInstTracker(g,rt),s||(s=c.rid),c.ig&&(h+=\"IG=\"+c.ig))}h+=\"&\"+e+k;s&&(h+=\"&rid=\"+s);_w.si_sbwu(h)||_w[o]&&_w[o](h,n,i,l);break}if(t)break}}catch(it){_w.SharedLogHelper?SharedLogHelper.LogWarning(\"clickEX\",null,it):(new Image).src=_G.lsUrl+\\'&Type=Event.ClientInst&DATA=[{\"T\":\"CI.Warning\",\"FID\":\"CI\",\"Name\":\"JSWarning\",\"Text\":\\'+it.message+\"}]\"}return!0};_w.si_sbwu||(_w.si_sbwu=function(){return!1}),function(){_w._G&&(_G.si_ct_e=\"click\")}();\\n//]]></script><script type=\"text/javascript\" crossorigin=\"anonymous\" nonce=\"Fo1YRRy8jh1juov0SET/1ArnU6wTxonLrHZkmNV841s=\" src=\"/rp/v-9MDlZf3UpTm3z78CHvLGE8SMU.gz.js\"></script><script type=\"text/javascript\" nonce=\"Fo1YRRy8jh1juov0SET/1ArnU6wTxonLrHZkmNV841s=\">//<![CDATA[\\nvar wlc_d = 1500, wlc_t =63862255999;;var perf;(function(n){function f(n){return i.hasOwnProperty(n)?i[n]:n}function e(n){var t=\"S\";return n==0?t=\"P\":n==2&&(t=\"M\"),t}function o(n){for(var c,i=[],t={},r,l=0;l<n.length;l++){var a=n[l],o=a.v,s=a.t,h=a.k;s===0&&(h=f(h),o=o.toString(36));s===3?i.push(\"\".concat(h,\":\").concat(o)):(r=t[s]=t[s]||[],r.push(\"\".concat(h,\":\").concat(o)))}for(c in t)t.hasOwnProperty(c)&&(r=t[c],i.push(\"\".concat(e(+c),\\':\"\\').concat(r.join(\",\"),\\'\"\\')));return i.push(u),i}for(var r=[\"redirectStart\",\"redirectEnd\",\"fetchStart\",\"domainLookupStart\",\"domainLookupEnd\",\"connectStart\",\"secureConnectionStart\",\"connectEnd\",\"requestStart\",\"responseStart\",\"responseEnd\",\"domLoading\",\"domInteractive\",\"domContentLoadedEventStart\",\"domContentLoadedEventEnd\",\"domComplete\",\"loadEventStart\",\"loadEventEnd\",\"unloadEventStart\",\"unloadEventEnd\",\"firstChunkEnd\",\"secondChunkStart\",\"htmlEnd\",\"pageEnd\",\"msFirstPaint\"],u=\"v:1.1\",i={},t=0;t<r.length;t++)i[r[t]]=t;n.compress=o})(perf||(perf={}));window.perf=window.perf||{},function(n){n.log=function(t,i){var u=n.compress(t),e,r;u.push(\\'T:\"CI.Perf\",FID:\"CI\",Name:\"PerfV2\"\\');var s=\"/fd/ls/lsp.aspx?\",h=\"sendBeacon\",f=_w.ChatMergeLogHelper;typeof f!=\"undefined\"&&typeof f.getBotRequestId==\"function\"&&(e=f.getBotRequestId(),e&&u.push(\\'rid:\"\\'.concat(e,\\'\"\\')));var l=\"<E><T>Event.ClientInst<\\\\/T><IG>\".concat(_G.IG,\"<\\\\/IG><TS>\").concat(i,\"<\\\\/TS><D><![CDATA[{\").concat(u.join(\",\"),\"}]\\\\]><\\\\/D><\\\\/E>\"),c=\"<ClientInstRequest><Events>\".concat(l,\"<\\\\/Events><STS>\").concat(i,\"<\\\\/STS><\\\\/ClientInstRequest>\"),o=!_w.navigator||!navigator[h];if(!o)try{navigator[h](s,c)}catch(a){o=!0}o&&(r=sj_gx(),r.open(\"POST\",s,!0),r.setRequestHeader(\"Content-Type\",\"text/xml\"),r.send(c))}}(window.perf);var perf;(function(n){function a(){return c(Math.random()*1e4)}function o(){return y?c(f.now())+l:+new Date}function v(n,r,f){t.length===0&&i&&sb_st(u,1e3);t.push({k:n,v:r,t:f})}function p(n){return i||(r=n),!i}function w(n,t){t||(t=o());v(n,t,0)}function b(n,t){v(n,t,1)}function u(){var u,f;if(t.length){for(u=0;u<t.length;u++)f=t[u],f.t===0&&(f.v-=r);t.push({k:\"id\",v:e,t:3});n.log(t,o());t=[];i=!0}}function k(){r=o();e=a();i=!1;sj_evt.bind(\"onP1\",u)}var s=\"performance\",h=!!_w[s],f=_w[s],y=h&&!!f.now,c=Math.round,t=[],i=!1,l,r,e;h?l=r=f.timing.navigationStart:r=_w.si_ST?_w.si_ST:+new Date;e=a();n.setStartTime=p;n.mark=w;n.record=b;n.flush=u;n.reset=k;sj_be(window,\"load\",u,!1);sj_be(window,\"beforeunload\",u,!1)})(perf||(perf={}));_w.si_PP=function(n,t,i){var r,s,a,c,e,l,o,v;if(!_G.PPS){for(s=[\"FC\",\"BC\",\"SE\",\"TC\",\"H\",\"BP\",null];r=s.shift();)s.push(\\'\"\\'+r+\\'\":\\'+(_G[r+\"T\"]?_G[r+\"T\"]-_G.ST:-1));var u=_w.perf,h=\"navigation\",r,f=i||_w.performance&&_w.performance.timing;if(f&&u){if(a=f.navigationStart,u.setStartTime(a),a>=0){for(r in f)c=f[r],typeof c==\"number\"&&c>0&&r!==\"navigationStart\"&&r!==h&&u.mark(r,c);_G.FCT&&u.mark(\"FN\",_G.FCT);_G.BCT&&u.mark(\"BN\",_G.BCT)}u.record(\"nav\",h in f?f[h]:performance[h].type)}e=\"connection\";l=\"\";_w.navigator&&navigator[e]&&(l=\\',\"net\":\"\\'.concat(navigator[e].type,\\'\"\\'),navigator[e].downlinkMax&&(l+=\\',\"dlMax\":\"\\'.concat(navigator[e].downlinkMax,\\'\"\\')));o=_w.ChatMergeLogHelper;typeof o!=\"undefined\"&&o&&typeof o.getBotRequestId==\"function\"&&(v=o.getBotRequestId());_G.PPImg=new Image;_G.PPImg.src=_G.lsUrl+\\'&Type=Event.CPT&DATA={\"pp\":{\"S\":\"\\'+(t||\"L\")+\\'\",\\'+s.join(\",\")+\\',\"CT\":\\'+(n-_G.ST)+\\',\"IL\":\\'+_d.images.length+\"}\"+(_G.C1?\",\"+_G.C1:\"\")+l+(v?\\',\"rid\":\"\\'+v+\\'\"\\':\"\")+\"}\"+(_G.P?\"&P=\"+_G.P:\"\")+(_G.DA?\"&DA=\"+_G.DA:\"\")+(_G.MN?\"&MN=\"+_G.MN:\"\");_G.PPS=1;sb_st(function(){u&&u.flush();sj_evt.fire(\"onPP\");sj_evt.fire(_w.p1)},1)}};_w.onbeforeunload=function(){si_PP(new Date,\"A\")};sj_evt.bind(\"ajax.requestSent\",function(){window.perf&&perf.reset()});var RightRailMetricModule;(function(){var t,n;typeof _w.isFRPEvaluated==\"undefined\"&&(_w.isFRPEvaluated=!1);typeof _w.isRightRailPaintEvaluated==\"undefined\"&&(_w.isRightRailPaintEvaluated=!1);typeof PerformanceObserver!=\"undefined\"&&typeof PerformanceObserver==\"function\"&&(t=PerformanceObserver.supportedEntryTypes||[],t.indexOf(\"element\")>=0&&(n=new PerformanceObserver(function(t){t.getEntries().forEach(function(t){var r,i,u,f;typeof _w.frpPreviousEntry==\"undefined\"&&(_w.frpPreviousEntry=t);((r=t===null||t===void 0?void 0:t.identifier)===null||r===void 0?void 0:r.length)>0&&(i=t.identifier,i.startsWith(\"frp\")&&i!==\"frp.SearchBox\"&&(u=Math.round(Math.min(_w.frpPreviousEntry.renderTime,t.renderTime)),_G.frp=u,_w.perf&&!_w.isFRPEvaluated&&(_w.perf.record&&_w.perf.record(\"FRP\",u),_w.isFRPEvaluated=!0)),i===\"RightRailPaint\"&&(f=Math.round(t.renderTime),_G.RightRailPaint=f,_w.perf&&!_w.isRightRailPaintEvaluated&&(_w.perf.record&&_w.perf.record(\"RightRailPaint\",f),_w.isRightRailPaintEvaluated=!0)),_w.isFRPEvaluated&&_w.isRightRailPaintEvaluated&&n.disconnect())})}),n.observe({entryTypes:[\"element\"]})))})(RightRailMetricModule||(RightRailMetricModule={}));var sj_log=function(n,t,i){var e=new RegExp(\\'\"\\',\"g\"),r=_G.lsUrl+\\'&Type=Event.ClientInst&DATA=[{\"T\":\"\\'+n+\\'\",\"FID\":\"CI\",\"Name\":\"\\'+t+\\'\",\"Text\":\"\\'+escape(i.replace(e,\"\")),u=_w.ChatMergeLogHelper,f;typeof u!=\"undefined\"&&typeof u.getBotRequestId==\"function\"&&(f=u.getBotRequestId(),f&&(r+=\\'\",\"rid\":\"\\'+f));r+=\\'\"}]\\';(new Image).src=r};var BM=BM||{},adrule=\".\"+_G.adc+\" > ul\";BM.rules={\".b_scopebar\":[0,80,0],\".b_logo\":[-1,-1,0],\".b_searchboxForm\":[100,19,0],\"#id_h\":[-1,-1,0],\"#b_tween\":[-1,-1,1],\"#b_results\":[100,-1,1],\"#b_pole\":[-1,-1,1],\"#b_topw\":[-1,-1,0],\"#b_context\":[710,-1,1],\"#b_navheader\":[-1,-1,0],\"#bfb-answer\":[-1,-1,1],\".tab-menu > ul\":[-1,-1,1],\".b_footer\":[0,-1,0],\"#b_notificationContainer\":[-1,-1,0],\"#ajaxMaskLayer\":[-1,-1,0],\"img,div[data-src],.rms_img\":[-1,-1,0],iframe:[-1,-1,0]};BM.rules[adrule]=[-1,-1,1];var BM=BM||{};(function(n){function u(n,u){n in t||(t[n]=[]);!u.compute||n in r||(r[n]=u.compute);!u.unload||n in i||(i[n]=u.unload);u.load&&u.load()}function f(n,i){t[n].push({t:s(),i:i})}function e(n){return n in i&&i[n](),n in t?t[n]:void 0}function o(){for(var n in r)r[n]()}function s(){return window.performance&&performance.now?Math.round(performance.now()):new Date-window.si_ST}var t={},i={},r={};n.wireup=u;n.enqueue=f;n.dequeue=e;n.trigger=o})(BM);(function(n){function i(){var i=document.documentElement,r=document.body,u=\"innerWidth\"in window?window.innerWidth:i.clientWidth,f=\"innerHeight\"in window?window.innerHeight:i.clientHeight,e=window.pageXOffset||i.scrollLeft,o=window.pageYOffset||i.scrollTop,s=document.visibilityState||\"default\";n.enqueue(t,{x:e,y:o,w:u,h:f,dw:r.clientWidth,dh:r.clientHeight,v:s})}var t=\"V\";n.wireup(t,{load:null,compute:i,unload:null})})(BM);(function(n){function i(){var e,o,u,s,f,r;if(document.querySelector&&document.querySelectorAll){e=[];o=n.rules;for(u in o)for(s=o[u],u+=!s[2]?\"\":\" >*\",f=document.querySelectorAll(u),r=0;r<f.length;r++){var i=f[r],h=0,c=0,l=i.offsetWidth,a=i.offsetHeight;do h+=i.offsetLeft,c+=i.offsetTop;while(i=i.offsetParent);e.push({_e:f[r],x:h,y:c,w:l,h:a})}n.enqueue(t,e)}}var t=\"L\";n.wireup(t,{load:null,compute:i,unload:null})})(BM);(function(n){function f(){u(sj_be,r)}function e(){var n,i,t;typeof sj_cook!=\"undefined\"&&(n=sj_cook.get(\"_SS\",\"fldcp\"),n&&n==\"1\")||(i=\"\"+Math.round((new Date).getTime()/1e3),typeof sj_cook!=\"undefined\"&&sj_cook.set(\"SRCHHPGUSR\",\"HV\",i,!1,\"/\"),t=document.getElementById(\"b_content\"),t&&(t.style.visibility=\"hidden\"),_G&&_G.lsUrl&&((new Image).src=_G.lsUrl+\\'&Type=Event.ClientInst&DATA=[{\"T\":\"CI.BM\",\"FID\":\"CI\",\"Name\":\"HV\"}]\\'))}function r(i){return i&&n.enqueue(t,i),!0}function o(){u(sj_ue,r)}function u(n,t){for(var u,r=0;r<i.length;r++)u=i[r],n(u===\"resize\"?window:document,window.navigator.pointerEnabled?u.replace(\"mouse\",\"pointer\"):u,t,!1)}var t=\"EVT\",i=[\"click\",\"mousedown\",\"mouseup\",\"touchstart\",\"touchend\",\"mousemove\",\"touchmove\",\"scroll\",\"keydown\",\"resize\"];n.wireup(t,{load:f,compute:e,unload:o})})(BM);\\n//]]></script><script type=\"text/javascript\" crossorigin=\"anonymous\" nonce=\"Fo1YRRy8jh1juov0SET/1ArnU6wTxonLrHZkmNV841s=\" src=\"/rp/1gmjmpvgWPmAhvyoSodl64ZpUz8.gz.js\"></script><script type=\"text/javascript\" nonce=\"Fo1YRRy8jh1juov0SET/1ArnU6wTxonLrHZkmNV841s=\">//<![CDATA[\\nFallBackToDefaultProfilePic = function (e) { var new_element = document.createElement(\\'span\\'); new_element.setAttribute(\\'id\\', \\'id_p\\'); new_element.setAttribute(\\'class\\', \\'sw_spd id_avatar\\'); new_element.setAttribute(\\'aria-label\\', \"默认个人资料图片\"); new_element.setAttribute(\\'role\\', \\'link\\'); var p = e.parentNode; p && p.replaceChild(new_element, e); };var _d,sb_de;typeof _d==\"undefined\"&&(_d=document);sb_de=_d.documentElement;\\n//]]></script></head><body class=\"b_respl\"><span class=\"bdzm\" style=\"display:none\"><div class=\"toggle_item\"\\r\\n             id=\"bza_AutoZoom\" role=\"button\"\\r\\n             aria-pressed=\"true\"\\r\\n             aria-disabled=\"false\" data-appns=\"SERP\" data-k=\"5081.0\"><div class=\"bza_label toggle_label bza_tit\" id=\"bza_AutoZoom_label\">自适应缩放</div><div class=\"bza_val toggle_ctrl\"><div id=\"bza_AutoZoom_ctrl\" class=\"bza_img  toggle_on  toggle_img\" role=\"presentation\"><svg xmlns=\"http://www.w3.org/2000/svg\" viewBox=\"0 0 36 16\"><path d=\"M28 16H8A8 8 0 0 1 8 0h20a8 8 0 0 1 0 16z\" class=\"bg\"/><path d=\"M28 15.5H8a7.5 7.5 0 0 1 0-15h20a7.5 7.5 0 0 1 0 15z\" class=\"bgOverlay\"/><circle cx=\"28\" cy=\"8\" r=\"5\" fill=\"#fff\" class=\"indicator\"/></svg></div></div></div></span><header id=\"b_header\" role=\"banner\" class=\"\"><a id=\"b_skip_to_content\" data-priority=\"2\" href=\"#\" role=\"button\" tabindex=\"0\"><div class=\"text-back\"><div class=\"text\" href=\"#\">跳至内容</div></div></a><div id=\"est_switch\"><div id=\"est_cn\" class=\"est_selected\" tabindex=\"-1\" aria-label=国内版>国内版</div><div id=\"est_en\" class=\"est_unselected\" tabindex=\"0\" aria-label=国际版>国际版</div></div><form action=\"/search\" id=\"sb_form\" class=\"\"><a class=\"b_logoArea\" target=\"\" href=\"/?FORM=Z9FD1\" h=\"ID=SERP,5035.1\"><h1 class=\"b_logo\" title=\"返回到必应搜索\"></h1></a><div class=\"b_searchboxForm\" role=\"search\"><div id=\"sb_search\"><a tabindex=\"-1\" aria-label=\"“搜索”按钮\" href=\"javascript:void(0);\" h=\"ID=SERP,5036.1\"><div id=\"sb_go_par\"  data-sbtip=\\'搜索网页\\' ><div id=\"b_icon_spyglass\" class=\"sb_icon\"></div><input type=\"submit\" class=\"b_searchboxSubmit\" id=\"sb_form_go\" tabIndex=\"0\" name=\"go\" value=\"搜索\"/></div></a></div><input class=\"b_searchbox \" id=\"sb_form_q\" name=\"q\" aria-autocomplete=\"both\" aria-label=\"在此处输入你的搜索 — 输入时会显示搜索建议\" type=\"search\" value=\"遂宁职业学院\"\\r\\n                                                   maxlength=\"1000\"\\r\\n                                                   dir=\"\" autocapitalize=\"off\" autocorrect=\"off\" autocomplete=\"off\" spellcheck=\"false\"\\r\\n                                                   placeholder=\"有问题尽管问我...\" /><div id=\"sb_clt\" class=\"sb_clrhov\" data-second-sbtipx=\"清除\" data-sbtipx=\"清除\"><a id=\"sw_clx\" data-second-href=javascript:void(0) tabindex=\"0\" aria-label=\"清除本文\" role=\"button\"><div class=\"sw_close\"></div></a></div><input id=\"sa_qs\" name=\"qs\" value=\"ds\" type=\"hidden\" /><input type=\"hidden\" value=\"QBRE\" name=\"form\" /></div></form><div id=\"id_h\" role=\"complementary\" aria-label=\"帐户奖励和偏好设置\" data-priority=\"2\"><a id=\"id_l\" class=\"id_button\" aria-haspopup=\"true\" aria-controls=\"id_d\" data-clarity-mask=\"true\" href=\"javascript:void(0);\" h=\"ID=SERP,5042.1\"><div>  <span id=\"CBFC58_1_btn\" class=\"cbtn\" data-wire=\"I;button_init;; |\" data-appns=\"SERP\" data-k=\"5095.1\"><input type=\"submit\" name=\"submit\" id=\"id_a\" value=\"登录\" aria-label=\"\"/></span></div><span id=\"id_n\" style=\"display:none\" aria-hidden=\"true\"></span><img id=\"id_p\" class=\"id_avatar sw_spd\" style=\"display:none\" alt=\"个人资料图片\" data-alt=\"\" src=\"data:image/png;base64,iVBORw0KGgoAAAANSUhEUgAAAAEAAAABCAQAAAC1HAwCAAAAC0lEQVR42mNgYAAAAAMAASsJTYQAAAAASUVORK5CYII=\"/><div id=\"id_linkicon\"\\r\\n style=\"position:relative;vertical-align:top;margin-right:-10px;right:10px;display:none\"><svg class=\"id_linkicon_svg\" style=\"width:16px;height:16px;vertical-align:top;margin-top:27px;\" xmlns=\"http://www.w3.org/2000/svg\" width=\"16\" height=\"16\" fill=\"none\" viewBox=\"0 0 20 20\"><g filter=\"url(#a)\"><circle cx=\"10\" cy=\"9\" r=\"8\" fill=\"#fff\" /></g><path fill=\"#767676\" d=\"M8.2 6a.6.6 0 0 1 .07 1.196L8.2 7.2H7a1.8 1.8 0 0 0-.106 3.597L7 10.8h1.2a.6.6 0 0 1 .07 1.196L8.2 12H7a3 3 0 0 1-.13-5.997L7 6h1.2ZM13 6a3 3 0 0 1 .13 5.997L13 12h-1.2a.6.6 0 0 1-.07-1.196l.07-.004H13a1.8 1.8 0 0 0 .106-3.597L13 7.2h-1.2a.6.6 0 0 1-.07-1.196L11.8 6H13ZM7 8.4h6a.6.6 0 0 1 .07 1.196L13 9.6H7a.6.6 0 0 1-.07-1.196L7 8.4h6-6Z\" /><defs><filter id=\"a\" width=\"20\" height=\"20\" x=\"0\" y=\"0\" color-interpolation-filters=\"sRGB\" filterUnits=\"userSpaceOnUse\"><feFlood flood-opacity=\"0\" result=\"BackgroundImageFix\" /><feColorMatrix in=\"SourceAlpha\" result=\"hardAlpha\" values=\"0 0 0 0 0 0 0 0 0 0 0 0 0 0 0 0 0 0 127 0\" /><feOffset dy=\"1\" /><feGaussianBlur stdDeviation=\"1\" /><feComposite in2=\"hardAlpha\" operator=\"out\" /><feColorMatrix values=\"0 0 0 0 0 0 0 0 0 0 0 0 0 0 0 0 0 0 0.14 0\" /><feBlend in2=\"BackgroundImageFix\" result=\"effect1_dropShadow_1352_97902\" /><feBlend in=\"SourceGraphic\" in2=\"effect1_dropShadow_1352_97902\" result=\"shape\" /></filter></defs></svg></div></a><span id=\"id_d\" _iid=\"SERP.5061\"></span><a class=\"id_button toolTip\" id=\"id_rh\" aria-label=\"Microsoft Rewards \" role=\"button\" aria-expanded=\"false\" aria-haspopup=\"true\" aria-controls=\"bepfo\" href=\"javascript:void(0)\" h=\"ID=SERP,5050.1\"><span id=\"id_rc\" class=\"serp\" data-priority=\"\">Rewards</span><span id=\"rewards_header_icon serp\" class=\"rwds_svg serp pc\"><span class=\"rhlined serp\"></span><span class=\"rhfill serp\"></span><svg xmlns=\"http://www.w3.org/2000/svg\" id=\"rh_meter\"><circle cx=\"20\" cy=\"20\" r=\"14\" id=\"rh_animcrcl\" class=\"serp\" stroke-dasharray=\"88, 88\" transform=\"rotate(-90,20,20)\"></circle></svg></span></a><a class=\"b_hide\" id=\"id_rwl\" data-title=\"Microsoft Rewards\" href=\"/rewards/dashboard\" h=\"ID=SERP,5049.1\"></a><span id=\"nc_iid\" _IG=\"45B87FDA5E6D41CBB6139287D374208B\" _iid=\"SERP.5048\"></span><script type=\"text/javascript\" nonce=\"Fo1YRRy8jh1juov0SET/1ArnU6wTxonLrHZkmNV841s=\">//<![CDATA[\\nvar sj_b=_d.body;(function(n){var i,r,t;if(document.querySelector){i=[];r=\"ad\";function u(){var w=sb_gt(),l=document.documentElement,h=document.body,u=0,n=-1,b=l.clientHeight,a=[\"#b_results .\"+_G.adc,\".sb_adsWv2\",\".ads\"],t,f,o,p,c,s,r;if(h){t=0;f=document.querySelector(\"#b_pole .b_PolePAContainer\");f&&(t=f.offsetHeight,n=f?f.offsetTop:n);var v=document.querySelector(\"#b_results #productAdCarousel\"),e=document.querySelector(\"#b_results .pa_b_supertop\"),y=document.querySelector(\"#b_results .bn_wide\");for(e?(n=e?e.offsetTop:n,t=e.offsetHeight):y?t+=y.offsetHeight:v&&(t+=v.offsetHeight),u=t,o=0;o<a.length;o++)for(p=a[o],c=document.querySelectorAll(p),s=0;s<c.length;s++)r=c[s],r&&r.className.indexOf(\"b_adTop\")!==-1&&(u+=r.offsetHeight,n===-1&&(n=r?r.offsetTop:-1));u===0&&(u=-1);i=[n,u,l.clientWidth,b,h.offsetWidth,h.offsetHeight,sb_gt()-w]}}n?(t=n.onbeforefire,n.onbeforefire=function(){t&&t();u();n.mark(r,i)}):(t=si_PP,si_PP=function(){u();var n=\\'\"\\'+r+\\'\":[\\'+i.join()+\"]\";_G.C1=_G.C1?_G.C1+\",\"+n:n;t.apply(null,[].slice.apply(arguments))})}})(_w.pp);_w.AM=[\"live.com\",\"azureedge.net\",\"virtualearth.net\",\"windows.net\",\"onenote\",\"hexun.com\",\"dict.bing.com.cn\",\"msn.com\",\"variflight.com\",\"bing.net\",\"msftoffers.com\",\"chinacloudapp.cn\",\"cbsnews.com\",\"swx.cdn.skype.com\",\"swc.cdn.skype.com\",\"latest-swx.cdn.skype.com\",\"a.config.skype.com\",\"b.config.skype.com\",\"platform.bing.com\",\"microsofttranslator.com\",\"bing.com\",\"facebook.net\",\".delve.office.com\",\".uservoice.com\",\".cdn.office.net\",\"platform.twitter.com\",\"cdn.syndication.twimg.com\",\"spoprod-a.akamaihd.net\",\"bingstatic.com\",\"yahoo.co.jp\",\"youtube.com\",\"ytimg.com\",\"r.msftstatic.com\",\"rafd.bing.com\",\"rafd.staging-bing-int.com\",\"raka.bing.com\",\"r.bing.com\",\"r.staging-bing-int.com\",\"raka.staging-bing-int.com\",\"rcf.staging-bing-int.com\",\"rcf.bing.com\",\"s.cn.bing.net\",\"xpaycdn-int.azureedge.net\",\"xpaycdn.azureedge.net\",\"ssl.kaptcha.com\",\"tst.kaptcha.com\",\"snrproxy.binginternal.com\",\"snrproxyeast.binginternal.com\",\"snrproxync.binginternal.com\",\"snrproxysc.binginternal.com\",\"snrproxywest.binginternal.com\",\"cetonc.binginternal.com\",\"cetosc.binginternal.com\",\"cetoeast.binginternal.com\",\"cetowest.binginternal.com\",\"akam.bing.com\",\"akam.staging-bing-int.com\",\"ewlmaakam.staging-bing-int.com\",\"akamproxyeast.staging-bing-int.com\",\"akamproxync.staging-bing-int.com\",\"akamproxysc.staging-bing-int.com\",\"akamproxywest.staging-bing-int.com\",\"cjfdbemmaeeohgibnhdhlakiahifjjcf\",\"ewlmaakam.staging-bing-int.com\",\"bngpiglbalmenaabohcooocpnljgfemj\",\"rwww.bing.com\",\"vlscppe.microsoft.com\",\"ov-df.microsoft.com\",\"content.lifecycle.officeppe.net\",\"content.lifecycle.office.net\",\"pmservices.cp.microsoft.com\",\"paymentinstruments.mp.microsoft.com\",\"paymentinstruments-int.mp.microsoft.com\",\"edge.payments.microsoft.com\",\"uniblends.www.microsoft.com\",\"login.microsoftonline.com\",\"login.live.com\",\"fpt.microsoft.com\",\"cdn.fluidpreview.office.net\"];_w.APD=[\".delve.office.com\",\".uservoice.com\",\".cdn.office.net\",\"a.config.skype.com\",\"abcnews.go.com\",\"amazon.com\",\"apps.powerapps.com\",\"app.powerbi.com\",\"app.powerbi.cn\",\"app.powerbi.de\",\"app.powerbigov.us\",\"b.config.skype.com\",\"bfb\",\"bfb-int\",\"bing.com\",\"bing.net\",\"bing-int.com\",\"bingsandbox.com\",\"bingweathermap.azureedge.net\",\"bloomberg.com\",\"c.tenor.com\",\"cbsnews.com\",\"cdn.syndication.twimg.com\",\"channel9.msdn.com\",\"chinacloudapp.cn\",\"clarity.ms\",\"cnn.com\",\"covid19healthbot.cdc.gov\",\"covid19healthbot-dev.cdc.gov\",\"ctmbing.azurefd.net\",\"dailymotion.com\",\"dict.bing.com.cn\",\"downvids.com\",\"downvids.net\",\"edition.cnn.com\",\"embed.vevo.com\",\"euronews.com\",\"facebook.com\",\"fave.api.cnn.io\",\"hexun.com\",\"huffingtonpost.com\",\"idsync.rlcdn.com\",\"ign.com\",\"imdb.com\",\"latest-swx.cdn.skype.com\",\"live.com\",\"login.live-int.com\",\"mashable.com\",\"microsoft.com\",\"microsoftonline.com\",\"microsofttranslator.com\",\"mathsolver.microsoft.com\",\"msecnd.net\",\"msftoffers.com\",\"msit.powerbi.com\",\"msn.com\",\"mtv.com\",\"onenote\",\"photosynth.net\",\"platform.bing.com\",\"platform.twitter.com\",\"powerbi-df.analysis-df.windows.net\",\"r.msftstatic.com\",\"rafd.bing.com\",\"rafd.staging-bing-int.com\",\"raka.bing.com\",\"r.bing.com\",\"r.staging-bing-int.com\",\"raka.staging-bing-int.com\",\"rcf.staging-bing-int.com\",\"rcf.bing.com\",\"rottentomatoes.com\",\"s.cn.bing.net\",\"skype.com\",\"snrproxy.binginternal.com\",\"snrproxyeast.binginternal.com\",\"snrproxync.binginternal.com\",\"snrproxysc.binginternal.com\",\"snrproxywest.binginternal.com\",\"spoprod-a.akamaihd.net\",\"substrate.office.com\",\"swc.cdn.skype.com\",\"swx.cdn.skype.com\",\"variflight.com\",\"video.disney.com\",\"videoplayercdn.osi.office.net\",\"vimeo.com\",\"azureedge.net\",\"virtualearth.net\",\"web.powerapps.com\",\"widgets.icanbuy.com\",\"widgets.ign.com\",\"windows.net\",\"wsj.com\",\"xpaycdn-int.azureedge.net\",\"xpaycdn.azureedge.net\",\"ssl.kaptcha.com\",\"tst.kaptcha.com\",\"yahoo.co.jp\",\"youtube.com\",\"ytimg.com\",\"zdnet.com\",\"chrome-extension://haldlgldplgnggkjaafhelgiaglafanh\",\"player.twitch.tv\",\"mixer.com\",\"3pcookiecheck.azureedge.net\",\"cetonc.binginternal.com\",\"cetosc.binginternal.com\",\"cetoeast.binginternal.com\",\"cetowest.binginternal.com\",\"akam.bing.com\",\"akam.staging-bing-int.com\",\"ewlmaakam.staging-bing-int.com\",\"akamproxyeast.staging-bing-int.com\",\"akamproxync.staging-bing-int.com\",\"akamproxysc.staging-bing-int.com\",\"akamproxywest.staging-bing-int.com\",\"cjfdbemmaeeohgibnhdhlakiahifjjcf\",\"bngpiglbalmenaabohcooocpnljgfemj\",\"opentable.com\",\"wolframalpha.com\",\"mswolfram-staging-tm.office.net\",\"instacart.com\",\"kayak.com\",\"klarna.com\",\"redfin.com\",\"shopify.com\",\"zillow.com\",\"rwww.bing.com\",\"content.lifecycle.officeppe.net\",\"content.lifecycle.office.net\",\"pmservices.cp.microsoft.com\",\"paymentinstruments.mp.microsoft.com\",\"paymentinstruments-int.mp.microsoft.com\",\"edge.payments.microsoft.com\",\"uniblends.www.microsoft.com\",\"login.microsoftonline.com\",\"login.live.com\",\"fpt.microsoft.com\",\"challenges.cloudflare.com\"];_w.APC=[\"bm_\",\"fb_\",\"panelWrapper\",\"df_topAlAs\",\"df_playBut\",\"df_vidTime\",\"na_cai\",\"ckt_\",\"Light\",\"Dark\",\"taskbar\",\"ssSIV\",\"square_\",\"partial-det\",\"tall_\",\"item\",\"sw_\",\"syd_\",\"sb_\",\"sml\",\"ftrd\",\"sa_\",\"id_\",\"sc_\",\"flt_\",\"fc_\",\"cca\",\"tab-\",\"emb\",\"ctx\",\"dc_\",\"cipa\",\"dict\",\"btm\",\"wtr\",\"wpc\",\"fin\",\"sp-\",\"carousel\",\"vp_\",\"vid\",\"nav_\",\"vt\",\"va_\",\"avc\",\"cic\",\"sports\",\"lc_\",\"bing\",\"dmap_\",\"pvc_\",\"ans_\",\"mcd\",\"composite\",\"mt_\",\"irp\",\"iap\",\"tv\",\"aggtv\",\"irhc\",\"vrh\",\"det\",\"tit\",\"sub\",\"col\",\"card\",\"hlsel\",\"hlblk\",\"ovl\",\"ctpt\",\"bubble\",\"memodal\",\"meoverlay\",\"c_\",\"spl-\",\"microsoft\",\"skp\",\"saa\",\"unlockButton\",\"overlay\",\"obf\",\"MapPushpinBase\",\"pa_\",\"aa_\",\"skype_\",\"ftrSbR\",\"quizContainer\",\"alrt_\",\"st_\",\"expan\",\"word\",\"rpt_\",\"o_\",\"e_\",\"searchbar\",\"row\",\"Traffic\",\"tl\",\"gray\",\"bep\",\"wk_\",\"crs_\",\"w10\",\"personal\",\"fs3_\",\"ezp_\",\"hp\",\"post\",\"mc_\",\"fb\",\"lgb\",\"el_\",\"perf\",\"stb\",\"PP\",\"bw\",\"infobubble\",\"l_\",\"ms-\",\"NavBar_\",\"cmt_\",\"bottom\",\"Copyright\",\"upsell\",\"ab_\",\"w_\",\"hlig\",\"eachStep\",\"close_\",\"cGifIcon\",\"cThIcon\",\"autosuggest\",\"showtimesMovie\",\"sel\",\"dish\",\"formatShowtimes\",\"wp_\",\"hasExpandText\",\"forecast\",\"as_\",\"ecmp\",\"cmp\",\"comp\",\"userChat\",\"bot\",\"bTyp\",\"team\",\"serp\",\"preG\",\"option\",\"azBxInsert\",\"ec_\",\"cs_\",\"spin\",\"skype-conversation\",\"conversation\",\"fs_\",\"grammarly\",\"filterBar\",\"withFilters\",\"textanno\",\"mv_lm\",\"usagTpVsDosage\",\"trans_button_group\",\"algo_action_template\",\"meg_item\",\"ev_\",\"ol_\",\"offer\",\"embed\",\"videoplayercdn\",\"searchNearby\",\"directionsPanel\",\"dragOverlay\",\"infobox\",\"mss\",\"noneG\",\"usage\",\"drImp\",\"sf_\",\"dfindOverModal\",\"circuit\",\"swc\",\"CodeMirror\",\"cm-s-default\",\"msg msg-warning\",\"LogoContainer\",\"quadrantOverride\",\"ac-\",\"gc-\",\"fsmd-\",\"fsg-\",\"fsmf-\",\"msto_\",\"rq\",\"geoItm\",\"bqaq_quotes\",\"bqap_padding\",\"loc\",\"ent_cnt\",\"r_mf\",\"exp_\",\"btOverlay\",\"mnot_container\",\"info_C\",\"ev_talkbox_notification\",\"ev_talkbox_wrapper_min\",\"p_tr_\",\"slide\",\"bnc-\",\"itr_poi\",\"cg-\",\"elmlr_\",\"scrl\",\"gam-\",\"htv-\",\"genel-\",\"gs_\",\"qo_\",\"jss_\",\"mapsresp\",\"geochainContainer\",\"scaleBar\",\"ae-\",\"CalendarSync\",\"spl_\",\"adbDef\",\"layerFrame\",\"esp-\",\"elis-\",\"elcan-\",\"elec-\",\"sharegeneralcard\",\"edu_\",\"br-\",\"covt_dd\",\"covt_dd_sel\",\"msac_sel\",\"msac_ddi\",\"cov_tt_tr\",\"cov_tt_tn\",\"cov_\",\"dr_\",\"bt_\",\"epv_\",\"rich_card\",\"mf-item-cntr\",\"footer_mcp\",\"ntro-\",\"ntro_\",\"th-answer-explanation-wrapper\",\"th-questions-completed\",\"th-next-question\",\"th-modal-wrapper\",\"th-show-hint-wrapper\",\"th-show-hint-description\",\"th-show-hint-example\",\"th-word-carousel\",\"th-audio-player\",\"retail_btf\",\"na_\",\"news_\",\"nws_\",\"scs_\",\"scadt\",\"jb_\",\"peregrine-\",\"opalfeedblock\",\"expnd_c\",\"wfr_grid  ldeft\",\"rwgradienttitle\",\"azuremediaplayer\",\"amp-\",\"vjs-\",\"logo-title-row\",\"rwrl\",\"wpt_hdrs\",\"actionitem\",\"sl_\",\"ml_\",\"wc_\",\"rcld_\",\"pst_expand_btn\",\"pst_collapse_btn\",\"hdr_rating\",\"disambig-outline\",\"editor-\",\"sto_\",\"tt_\",\"nc_\",\"dr_\",\"pt_\",\"qna-\",\"qna_\",\"paahybrid_content\",\"b_floatrt\",\"pec_\",\"maplibregl\",\"atlas-map\",\"marker-collection-container\",\"popup-collection-container\",\"popup-container\",\"popup-content-container\",\"atlas-control-container\",\"fui-\",\"recharts\",\"edgwklg_\",\"dime-\",\"dm\",\"msalSilentIframe\",\"mw_\",\"scriptor-\",\"focus-container\",\"rd_tfil-ajaxLoad\",\"cf-turnstile-wrapper\"];_w.APC2=[\"-DS-\",\"obf\"];_w.APN=[\"fb_ovrly_cnt\",\"b_bfb\",\"b_bfb_context_ans\",\"b_mapOverlay\",\"m365ChatPromptLibraryDialogSurface\",\"dime-sdk\"];0;(function(){function t(t,i){var u=t.tagName;return(u===\"SCRIPT\"&&(n.href=t.src)||u===\"OBJECT\"&&t.type&&t.type.indexOf(\"flash\")>0&&(n.href=t.data))&&n.href.length>0&&n.hostname.length>0&&n.hostname!==location.hostname&&!e(n.hostname)?(sj_log(\"CI.AntiMalware\",i,u.substr(0,1)+\":\"+n.href.substr(0,r)),!1):(t.getAttribute&&(t.getAttribute(\"data-rms\")||t.getAttribute(\"data-bing-script\"))&&t.setAttribute(\"nonce\",o),!0)}function e(n){for(var t=0;t<i.length;t++)if(n.indexOf(i[t])>=0)return!0;return!1}var i=_w.AM,r=100,n=document.createElement(\"A\"),o=_G.IG.substr(0,6),u,f;document.write=function(n){n.length>0&&sj_log(\"CI.AntiMalware\",\"DW\",n.substr(0,r))};typeof Element!=\"undefined\"&&Element.prototype&&(u=Element.prototype.appendChild,Element.prototype.appendChild=function(n){return t(n,\"AC\")?u.apply(this,arguments):null},f=Element.prototype.insertBefore,Element.prototype.insertBefore=function(n){return t(n,\"IB\")?f.apply(this,arguments):null})})();_G!==undefined&&_G.EF!==undefined&&_G.EF.bmasynctrigger===1&&window.requestAnimationFrame!==undefined&&document.visibilityState!==undefined&&document.visibilityState===\"visible\"?requestAnimationFrame(function(){_G.EF.bmasynctrigger2===1?requestAnimationFrame(function(){BM.trigger()}):_G.EF.bmasynctrigger3===1?requestAnimationFrame(function(){setTimeout(function(){BM.trigger()},0)}):setTimeout(function(){BM.trigger()},0)}):BM.trigger();var NetworkPerformance;(function(){function n(){var r=window.navigator,n,t=0,i=0;typeof r!=\"undefined\"&&(n=r.connection);typeof n!=\"undefined\"&&(t=n.rtt||t,i=n.downlink||i,typeof Log!=\"undefined\"&&typeof Log.Log==typeof Function&&Log.Log(\"NetworkPerformance\",\"NetworkPerformanceDetails\",\"timinginfo\",!1,\"Rtt\",t.toString(),\"Downlink\",i.toString()))}sj_evt.bind(\"onPP\",n,!0)})(NetworkPerformance||(NetworkPerformance={}));var AwayTimeThreshold = 15; var AwayTimeThresholdCustomControl = false; var AwayTimeScrollTopPoleRS = false;;var bodyZoomParams ={\"bodyZoomValue\":\"1.05\",\"browserWidth\":1536,\"browserHeight\":736,\"isZoomOut\":false,\"muidCheckEnabled\":true,\"isNewMuid\":true};;var BodyZoomAdjust;(function(){function e(e){var c=sj_cook.get(t,n),l=e&&e.length>1?e[1]:c==null||c===\"1\",s,h;i&&(o&&l?(s=100,navigator.userAgent.match(/Mozilla\\\\/4\\\\.0/i)||navigator.userAgent.match(/Edge/)?_w.screen&&(s=Math.round(screen.deviceXDPI/screen.systemXDPI*100)):s=navigator.userAgent.match(/Trident/)?Math.round(_w.devicePixelRatio*100):Math.round(_w.outerWidth/_w.innerWidth*100),s>=98&&s<=102&&(h=bodyZoomParams.muidCheckEnabled&&f,Log&&Log.Log&&Log.Log(\"BodyZoomAdjust\",\"ZoomLevel\",bodyZoomParams.bodyZoomValue,!1,\"isNewMuid\",h?\"1\":\"0\",\"_w.innerWidth\",_w.innerWidth.toString(),\"_w.innerHeight\",_w.innerHeight.toString()),h&&sj_cook.set(r,\"NU\",\"1\",!0,\"/\"),sj_cook.set(t,n,\"1\",!1,\"/\",u),i.style.zoom=bodyZoomParams.bodyZoomValue)):(sj_cook.set(t,n,\"0\",!1,\"/\",u),e&&e.length>1&&!l&&(i.style.zoom=\"1\")))}var r=\"MUIDV\",u=43200,n=\"BZA\",t=\"SRCHHPGUSR\",i=_d.querySelector(\"body\"),f=bodyZoomParams.isNewMuid||sj_cook.get(r,\"NU\")==\"1\",o=(!bodyZoomParams.muidCheckEnabled||f)&&(bodyZoomParams.isZoomOut?_w.innerWidth<bodyZoomParams.browserWidth&&_w.innerHeight<bodyZoomParams.browserHeight:_w.innerWidth>bodyZoomParams.browserWidth&&_w.innerHeight>bodyZoomParams.browserHeight);e();sj_evt.bind(\"updateBodyZoomLevel\",function(n){e(n)})})(BodyZoomAdjust||(BodyZoomAdjust={}));var pinHeadConfig ={\"onDown\":true,\"gradAnim\":true,\"triggerHeight\":-1,\"triggerHeightPct\":0};;var Identity; (function(Identity) { Identity.sglid =false; Identity.orgIdPhotoUrl =\"https://business.bing.com/api/v3/search/person/photo?caller=IP\\\\u0026id={0}\"; Identity.setLoginPreference =false; Identity.isExplicitMsaSignIn =false; })(Identity || (Identity = {}));;var wlc_d =10, wlc_t =63862255999, wlc_wfa =false;;window.data_iid = \"SERP.5057\";;var DynScopesDropdownRE;(function(n){function v(n,t,r,e,s,h,c){var a,l,v;u||(i=n,f=e,o=c,sj_evt.fire(\"dynamicscopesrearranging\",t),o||(w(t,n,s,h),nt(r)),sj_evt.bind(\"onP1\",p),((a=_G===null||_G===void 0?void 0:_G.EF)===null||a===void 0?void 0:a.logforctl)===1&&(l=_ge(\"b_header\"),v=l===null||l===void 0?void 0:l.querySelector(\".b_logoArea\"),sj_be(v,\"click\",y)),u=!0)}function y(){var n=\"WebLogoClick\";document.querySelector(\"cib-serp[mode=\\'conversation\\']\")&&(n=\"ConversationLogoClick\");_w.sj_log&&sj_log(\"CI.HeaderMSLogo\",n,(_G===null||_G===void 0?void 0:_G.V)||\"other\")}function p(){if(sj_cook&&sj_cook.set&&sj_cook.clear){var n=\"dsc\";sj_cook.clear(n,\"/\");i&&sj_cook.set(n,\"order\",i,!1,\"/\")}}function w(n,t,i,r){var c=tt(),e,o,s,h,u;if(c){if(e=rt(c),b(e,i,r),n){var a=n.split(\",\"),v=e.length,l=[],y=[];for(u=0;u<a.length;u++)o=a[u].split(\":\"),o&&o.length==2&&(s=parseInt(o[0]),h=parseInt(o[1]),s<v&&h<v&&(l[h]=e[s].innerHTML,y[h]=e[s].id));for(u=0;u<l.length;u++)e[u].innerHTML=l[u],e[u].id=y[u]}f&&k(e);c.className=\"\"}}function b(n,t,i){var r,u;if(i)t?sessionStorage.setItem(\"RealEstateQuery\",t):sessionStorage.removeItem(\"RealEstateQuery\");else if(t)for(r=0;r<n.length;r++)n[r].id===a&&(u=n[r].innerHTML,n[r].innerHTML=u.replace(/href=\"[^\"]*\"/,\\'href=\"https://www.bing.com/homes/map?q=\\'+t+\\'&FORM=000060\"\\'))}function k(n){for(var i,u,f,t=0;t<n.length;t++)if(n[t].id===c||n[t].id===l){i=n.length-1;e&&r>0&&(i=r-1);t!=i&&(u=n[t].innerHTML,f=n[t].id,t<i?d(n,t,i):g(n,i,t),n[i].innerHTML=u,n[i].id=f,sj_evt.fire(\"dynamicchatscoperelocate\"));break}}function d(n,t,i){for(var r=t;r<i;r++)n[r].innerHTML=n[r+1].innerHTML,n[r].id=n[r+1].id}function g(n,t,i){for(var r=i;r>t;r--)n[r].innerHTML=n[r-1].innerHTML,n[r].id=n[r-1].id}function nt(n){var e,o,h,u,c,l,f,a,r,i;if(n&&(h=n.split(\":\"),u=it(),(e=u===null||u===void 0?void 0:u.children)===null||e===void 0?void 0:e.length))for(c=u.children,l=s(),f=0;f<h.length;f++){for(a=t+h[f],r=0;r<c.length;r++)if(i=c[r],i.id===a){u.removeChild(i);break}for(r=0;r<l.length;r++)if(i=l[r],i.id===a){(o=i===null||i===void 0?void 0:i.parentElement)===null||o===void 0?void 0:o.removeChild(i);break}}}function tt(){var n=_d.querySelectorAll(\".b_scopebar > .b_scopehide\");return n&&n.length>0?n[0]:null}function it(){var n=_d.querySelectorAll(\".b_scopebar\");return(n===null||n===void 0?void 0:n.length)?n[0].firstChild:null}function rt(n){for(var f,i=[],u=n.children,t=0;t<u.length;t++)u[t].id===h?(r=t,f=s(),i.push.apply(i,f),e=!0):i.push(u[t]);return i}function s(){var n=_d.querySelectorAll(\".b_scopebar #b-scopeListItem-menu .b_sp_over_menu .b_scopebar_item\");return Array.prototype.slice.call(n)}var u=!1,i,f=!1,e=!1,r=-1,o=!1,t=\"b-scopeListItem-\",h=t+\"menu\",c=t+\"conv\",l=t+\"convups\",a=t+\"realestate\";n.init=v})(DynScopesDropdownRE||(DynScopesDropdownRE={}));_G.AppVer=\"49718586\";\\n//]]></script><a id=\"id_mobile\" class=\"id_button\" role=\"button\" data-priority=\"2\" href=\"#\" h=\"ID=SERP,5063.1\"><span class=\"mobicontxt\">手机版</span><svg xmlns=\"http://www.w3.org/2000/svg\" width=\"33\" height=\"36\" viewBox=\"0 0 33 36\" fill=\"none\"><path d=\"M11.9219 5C10.3082 5 9 6.30817 9 7.92187V29.5781C9 31.1918 10.3082 32.5 11.9219 32.5H22.5781C24.1918 32.5 25.5 31.1918 25.5 29.5781V7.92187C25.5 6.30817 24.1918 5 22.5781 5H11.9219ZM10.7187 7.92187C10.7187 7.25741 11.2574 6.71875 11.9219 6.71875H22.5781C23.2426 6.71875 23.7812 7.25741 23.7812 7.92187V29.5781C23.7812 30.2426 23.2426 30.7812 22.5781 30.7812H11.9219C11.2574 30.7812 10.7187 30.2426 10.7187 29.5781V7.92187ZM15.3594 26.6562C14.8848 26.6562 14.5 27.041 14.5 27.5156C14.5 27.9902 14.8848 28.375 15.3594 28.375H19.1406C19.6152 28.375 20 27.9902 20 27.5156C20 27.041 19.6152 26.6562 19.1406 26.6562H15.3594Z\" /><circle class=\"b_hide\" cx=\"29.5\" cy=\"3.5\" r=\"3.5\" fill=\"#C80000\" /></svg></a><a id=\"id_sc\" class=\"idp_ham nohphbtop\" aria-label=\"设置和快速链接\" aria-expanded=\"false\" aria-controls=\"id_hbfo\" aria-haspopup=\"true\" role=\"button\" tabindex=\"0\" href=\"javascript:void(0);\" h=\"ID=SERP,5059.1\"></a><span id=\"id_hbfo\" _iid=\"SERP.5060\" class=\"slide_up nohpfo\" tabindex=\\'-1\\' aria-hidden=\"true\" aria-labelledby=\"id_sc\" role=\"menu\"></span></div><nav class=\"b_scopebar\" role=\"navigation\" aria-label=\"主菜单\"><ul class=\" b_scopehide\"><li class=\" b_active\" data-menuUrl=\"\"\\r\\n    id=\"b-scopeListItem-web\" data-query=\"\"><a class=\"\" aria-current=\"page\" href=\"/?scope=web&amp;FORM=HDRSC1\" h=\"ID=SERP,5027.1\">网页</a></li><li class=\"\" data-menuUrl=\"\"\\r\\n    id=\"b-scopeListItem-images\" data-query=\"\"><a class=\"\" aria-current=\"false\" href=\"/images/search?q=%e9%81%82%e5%ae%81%e8%81%8c%e4%b8%9a%e5%ad%a6%e9%99%a2&amp;FORM=HDRSC2\" h=\"ID=SERP,5028.1\">图片</a></li><li class=\"\" data-menuUrl=\"\"\\r\\n    id=\"b-scopeListItem-video\" data-query=\"\"><a class=\"\" aria-current=\"false\" href=\"/videos/search?q=%e9%81%82%e5%ae%81%e8%81%8c%e4%b8%9a%e5%ad%a6%e9%99%a2&amp;FORM=HDRSC3\" h=\"ID=SERP,5029.1\">视频</a></li><li class=\"\" data-menuUrl=\"\"\\r\\n    id=\"b-scopeListItem-academic\" data-query=\"\"><a class=\"\" aria-current=\"false\" href=\"/academic/search?q=%e9%81%82%e5%ae%81%e8%81%8c%e4%b8%9a%e5%ad%a6%e9%99%a2&amp;FORM=HDRSC4\" h=\"ID=SERP,5030.1\">学术</a></li><li class=\"\" data-menuUrl=\"\"\\r\\n    id=\"b-scopeListItem-dictionary\" data-query=\"\"><a class=\"\" aria-current=\"false\" href=\"/dict/search?q=%e9%81%82%e5%ae%81%e8%81%8c%e4%b8%9a%e5%ad%a6%e9%99%a2&amp;FORM=HDRSC6\" h=\"ID=SERP,5031.1\">词典</a></li><li class=\"\" data-menuUrl=\"\"\\r\\n    id=\"b-scopeListItem-local\" data-query=\"\"><a class=\"\" aria-current=\"false\" href=\"/maps?q=%e9%81%82%e5%ae%81%e8%81%8c%e4%b8%9a%e5%ad%a6%e9%99%a2&amp;FORM=HDRSC7\" h=\"ID=SERP,5032.1\">地图</a></li><li id=\"b-scopeListItem-menu\"><a target=\"_self\" aria-current=\"false\" href=\"javascript:void(0);\" tabindex=\"0\" aria-haspopup=\"true\" role=\"button\" aria-label=\"Dropdown Menu\"><span class=\"b_sp_menu_separ\"><svg focusable=\"false\" xmlns=\"http://www.w3.org/2000/svg\" viewBox=\"0 0 24 24\"><path d=\"M12 8c1.1 0 2-.9 2-2s-.9-2-2-2-2 .9-2 2 .9 2 2 2zm0 2c-1.1 0-2 .9-2 2s.9 2 2 2 2-.9 2-2-.9-2-2-2zm0 6c-1.1 0-2 .9-2 2s.9 2 2 2 2-.9 2-2-.9-2-2-2z\"></path></svg></span>更多</a><div class=\"b_sp_over_cont\"><ul class=\"b_sp_over_menu\"><li class=\" b_sp_over_item b_scopebar_item\" data-menuUrl=\"\"\\r\\n    id=\"b-scopeListItem-flights\" data-query=\"\"><a class=\"\" aria-current=\"false\" href=\"/travel/search?q=%e9%81%82%e5%ae%81%e8%81%8c%e4%b8%9a%e5%ad%a6%e9%99%a2&amp;m=flights&amp;FORM=FBSCOP\" h=\"ID=SERP,5033.1\">航班</a></li></ul></div></li><li id=\"b-scopeListItem-notebook\" class=\"\"><a href=\"javascript:void(0);\" h=\"ID=SERP,5041.1\"><svg xmlns=\"http://www.w3.org/2000/svg\" width=\"12\" height=\"16\" fill=\"none\"><path d=\"M3 .5a.5.5 0 0 0-1 0V1h-.5A1.5 1.5 0 0 0 0 2.5v12A1.5 1.5 0 0 0 1.5 16H7v-3.5A1.5 1.5 0 0 1 8.5 11H12V2.5A1.5 1.5 0 0 0 10.5 1H10V.5a.5.5 0 0 0-1 0V1H6.5V.5a.5.5 0 0 0-1 0V1H3zm0 5a.5.5 0 0 1 .5-.5h5a.5.5 0 0 1 0 1h-5a.5.5 0 0 1-.5-.5M3.5 8h5a.5.5 0 0 1 0 1h-5a.5.5 0 0 1 0-1M3 11.5a.5.5 0 0 1 .5-.5h2a.5.5 0 0 1 0 1h-2a.5.5 0 0 1-.5-.5m8.69.5H8.5a.5.5 0 0 0-.5.5v3.19q.077-.06.146-.13l3.415-3.414q.07-.07.128-.146\"/></svg>笔记本</a></li><li id=\"scope_tools_wrapper\" class=\"tools_scope b_hide\"><a href=\"javascript:void(0);\" h=\"ID=SERP,5040.1\">工具</a></li></ul></nav></header><script type=\"text/javascript\" nonce=\"Fo1YRRy8jh1juov0SET/1ArnU6wTxonLrHZkmNV841s=\" >//<![CDATA[\\r\\n_G.FCT=new Date;\\r\\n//]]></script><script type=\"text/javascript\" nonce=\"Fo1YRRy8jh1juov0SET/1ArnU6wTxonLrHZkmNV841s=\" >//<![CDATA[\\r\\n_G.BCT=new Date;\\r\\n//]]></script><link rel=\"stylesheet\" href=\"/rp/a6Hdfx0a52vGU2ZHLFnYM712ZDo.gz.css\" type=\"text/css\"/><link rel=\"stylesheet\" href=\"/rp/IB0Y1wqeADWAJvJHgJl7h22AC6U.gz.css\" type=\"text/css\"/><link rel=\"stylesheet\" href=\"/rp/auys0in9sWzt3EQQItQgqNENg6Q.gz.css\" type=\"text/css\"/><link rel=\"stylesheet\" href=\"/rp/twCKDC-TMSoc2D2IXZbW28nynvs.gz.css\" type=\"text/css\"/><link rel=\"stylesheet\" href=\"/rp/KHlB1rok4zvZvMchMo2CBBMejpE.gz.css\" type=\"text/css\"/><link rel=\"stylesheet\" href=\"/rp/bqYY66AT1PwV27dUDhKo1d_Sj2A.gz.css\" type=\"text/css\"/><link rel=\"stylesheet\" href=\"/rp/sxg9W89sQS7IDs1q9R4S4Dac0Fo.gz.css\" type=\"text/css\"/><link rel=\"stylesheet\" href=\"/rp/vnPDoLGUredJWpfAx9zW1Olm4II.gz.css\" type=\"text/css\"/><link rel=\"stylesheet\" href=\"/rp/tG4mYd_ER-Kjzy0OSJcYGs-clAY.gz.css\" type=\"text/css\"/><link rel=\"stylesheet\" href=\"/rp/MAcMxC-tp4-Oyxmu05tNWpl-5Dk.gz.css\" type=\"text/css\"/><link rel=\"stylesheet\" href=\"/rp/JwO8973_vO41dbX3--08T1KG73g.gz.css\" type=\"text/css\"/><link rel=\"stylesheet\" href=\"/rp/yFCtM_rBoFPzDs3gqt8y0ycUp2Q.gz.css\" type=\"text/css\"/><link rel=\"stylesheet\" href=\"/rp/vp58XrHzBM_DzT7hRyFp0n9K38c.gz.css\" type=\"text/css\"/><link rel=\"stylesheet\" href=\"/rp/GBqujhIMu7GScWWfq80hTwPtF8I.gz.css\" type=\"text/css\"/><link rel=\"stylesheet\" href=\"/rp/1iEyBfvcHv73ao-LanKPvOjFXFA.gz.css\" type=\"text/css\"/><link rel=\"stylesheet\" href=\"/rs/6s/4o/cc,nc/AMXGnaW6DcZhCS1RFU6K_U6siV8.css\" type=\"text/css\"/><link rel=\"stylesheet\" href=\"/rp/XDFYXIqMDzFKCvOGL0cs9belLz0.gz.css\" type=\"text/css\"/><link rel=\"stylesheet\" href=\"/rp/tOlbS9qmj0ZjJoU8Zr6L3FUbbZI.gz.css\" type=\"text/css\"/><link rel=\"stylesheet\" href=\"/rp/Q5jxF3safe97Q4W6l7ti3nJsnoc.gz.css\" type=\"text/css\"/><link rel=\"stylesheet\" href=\"/rb/3U/cc,nc/ZOYbVXpq18yLnUtuc0-dHAFFlHs.css?bu=AowDrQM\" type=\"text/css\"/><link rel=\"stylesheet\" href=\"/rp/CXAbhS0pFWsbDCqXSoWE0JqY8LY.gz.css\" type=\"text/css\"/><link rel=\"stylesheet\" href=\"/rp/GR0nIow4lqBXe77pz56IthfGxKg.gz.css\" type=\"text/css\"/><style type=\"text/css\">#b_results>li#mfa_root { padding: 40px; bottom: 0px; ; } #mfa_root .mfa_btn { background: #fff; width: 56px; height: 56px; } #b_results>li#mfa_root:not(.b_fabexp):focus-within { padding: 39px; }</style><link rel=\"stylesheet\" href=\"/rp/ePBWyYcXwJBx94QrnEnDhZdqR0Q.gz.css\" type=\"text/css\"/><link rel=\"stylesheet\" href=\"/rp/nQ8mJuHk1T6W5tnJiJWOBl8QzPU.gz.css\" type=\"text/css\"/><link rel=\"stylesheet\" href=\"/rp/OX3Mib82RiRLzZ3k6A0NfalVznY.gz.css\" type=\"text/css\"/><link rel=\"stylesheet\" href=\"/rb/5W/cc,nc/o7B3FK6ymEOn7sBfZSmifVTwxPk.css?bu=AXg\" type=\"text/css\"/><link rel=\"stylesheet\" href=\"/rp/3JT-GypYRRiYsGxeaoyj3SQssno.gz.css\" type=\"text/css\"/><script type=\"text/javascript\" nonce=\"Fo1YRRy8jh1juov0SET/1ArnU6wTxonLrHZkmNV841s=\">//<![CDATA[\\nif (typeof DynScopesDropdownRE !== \\'undefined\\') { DynScopesDropdownRE.init(\"\", \"\", \"marketplace\", false, \"\", false, false); } else if (typeof DynScopesDropdown !== \\'undefined\\') { DynScopesDropdown.init(\"\", \"\", \"marketplace\", false, false); };function ge_cl(n,t){var u,f,r,i;if(n){if(n.getElementsByClassName)return n.getElementsByClassName(t);for(u=n.getElementsByTagName(\"*\"),f=[],r=0;r<u.length;r++)i=u[r],i&&i.className&&i.className.indexOf(t)!==-1&&f.push(i);return f}return[]};function sa_cl(n,t,i){if(n&&t){var r=n.className;i?r.indexOf(t)==-1&&(r=r.concat(\" \",t)):r=r.replace(t,\"\");n.className=r}};\\n//]]></script><script type=\"text/javascript\" nonce=\"Fo1YRRy8jh1juov0SET/1ArnU6wTxonLrHZkmNV841s=\">//<![CDATA[\\nvar fab_config ={\"fabStyle\":1,\"fabSbAction\":\"FocusSearchBox\",\"fabSbActionHover\":\"None\",\"fabSbActionData\":\"None\",\"fabTooltip\":\"\",\"micFabAlwaysVisible\":false,\"fabClickNoAS\":false,\"FabAddSuggestions\":false,\"DisableAlsoTryWhenHasPoleRS\":false};;sj_be(_w, \"click\", function() { _G.UIWP = true; }, 1);;var EntityPreviewConfig = { featureList: \"\", testHooks: false };\\n//]]></script><div id=\"b_content\" class=\"\"><main aria-label=\"搜索结果\"><div id=\"b_tween\" class=\"\"><div id=\"b_tween_searchResults\"><span class=\"sb_count\">约 1,680,000 个结果</span></div><div id=\"b_tween_searchTools\" class=\"b_hide\"><span class=\"ftrB\"><a class=\"ftrH\" id=\"h20095\" role=\"button\" aria-label=\"按照 时间不限 筛选\" aria-expanded=\"false\" aria-controls=\"d20095\" aria-haspopup=\"true\" href=\"javascript:\" h=\"ID=SERP,5356.1\"><span class=\"fs_label\">时间不限</span><span class=\"sw_ddbk\"></span> </a></span></div></div><ol id=\"b_results\" class=\"\"><li class=\"b_algo\" data-id=\"\"  iid=\"\"><div class=\"b_tpcn\"><a class=\"tilk\" aria-label=\"baidu.com\" href=\"https://baike.baidu.com/item/%E9%81%82%E5%AE%81%E8%81%8C%E4%B8%9A%E5%AD%A6%E9%99%A2/61730843\" h=\"ID=SERP,5136.1\"><div class=\"tpic\"><div class=\"wr_fav blicon\" data-priority=\"2\"><div class=\"rms_iac\" style=\"height:16px;line-height:16px;width:16px;\" data-height=\"16\" data-width=\"16\" data-alt=\"全球 Web 图标\" data-class=\"rms_img\" data-src=\"/rp/85L1-RZzWZRkW4lItJd4onjGG2U.svg\"></div></div></div><div class=\"tptxt\"><div class=\"tptt\">baidu.com</div><div class=\"tpmeta\"><div class=\"b_attribution\" u=\"0|5100|4765206538420616|nkMlgjn-8nN29w-cgUpva3Llw3mtGVgD\" tabindex=\"0\"><cite>https://baike.baidu.com/item/遂宁职业学院</cite><span class=\"c_tlbxTrg\"><span class=\"c_tlbxH\" H=\"BASE:CACHEDPAGEDEFAULT\" K=\"SERP,5137.1\"></span></span></div></div></div></a></div><h2><a target=\"_blank\" href=\"https://baike.baidu.com/item/%E9%81%82%E5%AE%81%E8%81%8C%E4%B8%9A%E5%AD%A6%E9%99%A2/61730843\" h=\"ID=SERP,5136.2\"><strong>遂宁职业学院</strong> - 百度百科</a></h2><div class=\"b_caption\" role=\"contentinfo\"><p class=\"b_lineclamp4 b_algoSlug\"><span class=\"algoSlug_icon\" data-priority=\"2\">网页</span>2023年5月10日&ensp;&#0183;&ensp;<strong>遂宁职业学院</strong>（Suining Vocational College），位于 四川省 遂宁市，是经 四川省人民政府 批复成立、 教育部 备案的民办非营利性全日制高等职业学校。 学校秉承“明德至善、博学笃行”的办学理念，服务地方和国家发展战略，积极融入成渝地区双城经济圈建设，构建以专科层次为主体，职业培训、继续教育等协同发展的办学格局。 [11] 据2024 …</p></div><div elementtiming=frp.MiddleOfPage style=\"pointer-events:none;margin-top:-1px;height:1px;width:1px;font-size:1px;position:absolute;top:0;right:0;\" tabindex=\"-1\"> &nbsp; </div></li><li class=\"b_algo\" data-id=\"\"  iid=\"\"><div class=\"b_tpcn\"><a class=\"tilk\" aria-label=\"hebeedu.cn\" href=\"http://hebeedu.cn/School/school_about?uid=3046\" h=\"ID=SERP,5154.1\"><div class=\"tpic\"><div class=\"wr_fav blicon\" data-priority=\"2\"><div class=\"rms_iac\" style=\"height:16px;line-height:16px;width:16px;\" data-height=\"16\" data-width=\"16\" data-alt=\"全球 Web 图标\" data-class=\"rms_img\" data-src=\"/rp/85L1-RZzWZRkW4lItJd4onjGG2U.svg\"></div></div></div><div class=\"tptxt\"><div class=\"tptt\">hebeedu.cn</div><div class=\"tpmeta\"><div class=\"b_attribution\" u=\"1|5101|4810093239485903|pdLrTU7iD6KLYL_HLvvYuT_o7-gSPrpv\" tabindex=\"0\"><cite>http://hebeedu.cn/School/school_about?uid=3046</cite><span class=\"c_tlbxTrg\"><span class=\"c_tlbxH\" H=\"BASE:CACHEDPAGEDEFAULT\" K=\"SERP,5155.1\"></span></span></div></div></div></a></div><h2><a target=\"_blank\" href=\"http://hebeedu.cn/School/school_about?uid=3046\" h=\"ID=SERP,5154.2\"><strong>遂宁职业学院</strong></a></h2><div class=\"b_caption\" role=\"contentinfo\"><p class=\"b_lineclamp4 b_algoSlug\"><span class=\"algoSlug_icon\" data-priority=\"2\">网页</span>2023年4月20日&ensp;&#0183;&ensp;<strong>遂宁职业学院是</strong>十四五规划期间四川省人民政府批准设立的第一所高等职业学院，总投资15亿元，规划占地800亩 其中土地面积：已办理校园一期工程国土证面积649.38亩。</p></div></li><li class=\"b_algo\" data-id=\"\"  iid=\"\"><div class=\"b_tpcn\"><a class=\"tilk\" aria-label=\"chsi.com.cn\" href=\"https://gaokao.chsi.com.cn/sch/schoolInfo--schId-4695033304,categoryId-4695033308,mindex-1.dhtml\" h=\"ID=SERP,5171.1\"><div class=\"tpic\"><div class=\"wr_fav blicon\" data-priority=\"2\"><div class=\"rms_iac\" style=\"height:16px;line-height:16px;width:16px;\" data-height=\"16\" data-width=\"16\" data-alt=\"全球 Web 图标\" data-class=\"rms_img\" data-src=\"/rp/85L1-RZzWZRkW4lItJd4onjGG2U.svg\"></div></div></div><div class=\"tptxt\"><div class=\"tptt\">chsi.com.cn</div><div class=\"tpmeta\"><div class=\"b_attribution\" u=\"2|5102|4754847077592398|6BrGLFPa1vJyQWB7js_Jbi8efGq5Rjoj\" tabindex=\"0\"><cite>https://gaokao.chsi.com.cn/sch/schoolInfo--schId...</cite><span class=\"c_tlbxTrg\"><span class=\"c_tlbxH\" H=\"BASE:CACHEDPAGEDEFAULT\" K=\"SERP,5172.1\"></span></span></div></div></div></a></div><h2><a target=\"_blank\" href=\"https://gaokao.chsi.com.cn/sch/schoolInfo--schId-4695033304,categoryId-4695033308,mindex-1.dhtml\" h=\"ID=SERP,5171.2\"><strong>遂宁职业学院</strong>_院校信息库_阳光高考</a></h2><div class=\"b_caption\" role=\"contentinfo\"><p class=\"b_lineclamp2 b_algoSlug\"><span class=\"algoSlug_icon\" data-priority=\"2\">网页</span>2023年6月25日&ensp;&#0183;&ensp;客服热线：010-67410388 客服邮箱：kefu@chsi.com.cn</p></div></li><li class=\"b_algo\" data-id=\"\"  iid=\"\"><div class=\"b_tpcn\"><a class=\"tilk\" aria-label=\"baidu.com\" href=\"https://baike.baidu.com/item/%E9%81%82%E5%AE%81%E8%83%BD%E6%BA%90%E8%81%8C%E4%B8%9A%E5%AD%A6%E9%99%A2/62913878\" h=\"ID=SERP,5189.1\"><div class=\"tpic\"><div class=\"wr_fav blicon\" data-priority=\"2\"><div class=\"rms_iac\" style=\"height:16px;line-height:16px;width:16px;\" data-height=\"16\" data-width=\"16\" data-alt=\"全球 Web 图标\" data-class=\"rms_img\" data-src=\"/rp/85L1-RZzWZRkW4lItJd4onjGG2U.svg\"></div></div></div><div class=\"tptxt\"><div class=\"tptt\">baidu.com</div><div class=\"tpmeta\"><div class=\"b_attribution\" u=\"3|5103|4901047763148278|UorW0zETLkG0vXUvEFvtwwg0W3e545Xb\" tabindex=\"0\"><cite>https://baike.baidu.com/item/遂宁能源职业学院</cite><span class=\"c_tlbxTrg\"><span class=\"c_tlbxH\" H=\"BASE:CACHEDPAGEDEFAULT\" K=\"SERP,5190.1\"></span></span></div></div></div></a></div><h2><a target=\"_blank\" href=\"https://baike.baidu.com/item/%E9%81%82%E5%AE%81%E8%83%BD%E6%BA%90%E8%81%8C%E4%B8%9A%E5%AD%A6%E9%99%A2/62913878\" h=\"ID=SERP,5189.2\"><strong>遂宁</strong>能源<strong>职业学院</strong> - 百度百科</a></h2><div class=\"b_caption\" role=\"contentinfo\"><p class=\"b_lineclamp4 b_algoSlug\"><span class=\"algoSlug_icon\" data-priority=\"2\">网页</span>2023年4月20日&ensp;&#0183;&ensp;<strong>遂宁能源职业学院</strong>（ Suining Vocational College of Energy ）是中国四川省 遂宁市 境内民办高校，由 四川能投教育投资有限公司 举办，教育厅主管，办学投入由 四川能投教育投资有限公司 负责。</p></div></li><li class=\"b_algo\" data-id=\"\"  iid=\"\"><div class=\"b_tpcn\"><a class=\"tilk\" aria-label=\"gaokao.cn\" href=\"https://www.gaokao.cn/school/3678/introDetails\" h=\"ID=SERP,5206.1\"><div class=\"tpic\"><div class=\"wr_fav blicon\" data-priority=\"2\"><div class=\"rms_iac\" style=\"height:16px;line-height:16px;width:16px;\" data-height=\"16\" data-width=\"16\" data-alt=\"全球 Web 图标\" data-class=\"rms_img\" data-src=\"/rp/85L1-RZzWZRkW4lItJd4onjGG2U.svg\"></div></div></div><div class=\"tptxt\"><div class=\"tptt\">gaokao.cn</div><div class=\"tpmeta\"><div class=\"b_attribution\" tabindex=\"0\"><cite>https://www.gaokao.cn/school/3678/introDetails</cite></div></div></div></a></div><h2><a target=\"_blank\" href=\"https://www.gaokao.cn/school/3678/introDetails\" h=\"ID=SERP,5206.2\"><strong>遂宁职业学院</strong>介绍_办学历史-掌上高考</a></h2><div class=\"b_caption\" role=\"contentinfo\"><p class=\"b_lineclamp4 b_algoSlug\"><span class=\"algoSlug_icon\" data-priority=\"2\">网页</span>2024年3月27日&ensp;&#0183;&ensp;<strong>遂宁职业学院是</strong>十四五规划期间经四川省人民政府批准，国家教育部备案，面向全国招生的一所非营利性民办高等职业学院。 遂宁职业学院项目总投资 15 亿元，由华西教育集团投资兴建，依托全国重点大学西南交通大学、西南医科大学、重庆交通大学交通运 …</p></div></li><li class=\"b_algo\" data-id=\"\"  iid=\"\"><div class=\"b_tpcn\"><a class=\"tilk\" aria-label=\"snvce.edu.cn\" href=\"https://dxg.snvce.edu.cn/zsPortal/\" h=\"ID=SERP,5222.1\"><div class=\"tpic\"><div class=\"wr_fav blicon\" data-priority=\"2\"><div class=\"rms_iac\" style=\"height:16px;line-height:16px;width:16px;\" data-height=\"16\" data-width=\"16\" data-alt=\"全球 Web 图标\" data-class=\"rms_img\" data-src=\"/rp/85L1-RZzWZRkW4lItJd4onjGG2U.svg\"></div></div></div><div class=\"tptxt\"><div class=\"tptt\">snvce.edu.cn</div><div class=\"tpmeta\"><div class=\"b_attribution\" tabindex=\"0\"><cite>https://dxg.snvce.edu.cn/zsPortal</cite></div></div></div></a></div><h2><a target=\"_blank\" href=\"https://dxg.snvce.edu.cn/zsPortal/\" h=\"ID=SERP,5222.2\">招生网</a></h2><div class=\"b_caption\" role=\"contentinfo\"><p class=\"b_lineclamp4 b_algoSlug\"><span class=\"algoSlug_icon\" data-priority=\"2\">网页</span>2024年6月28日&ensp;&#0183;&ensp;<strong>学院</strong> 概况 招生动态 招生信息 新生须知 资料下载 在线留言 电话 : 028-86646880 邮箱 : snnyzyxyzsjy@163.com ... 电话 : 028-86646880 邮箱 : snnyzyxyzsjy@163.com 传真 : 0825-2215666 地址 : 四川省<strong>遂宁</strong>市河东新区科创西路9号 QQ群1 QQ群2 QQ群3 QQ群4 ...</p></div></li><li class=\"b_algo\" data-id=\"\"  iid=\"\"><div class=\"b_tpcn\"><a class=\"tilk\" aria-label=\"gaokao.cn\" href=\"https://www.gaokao.cn/school/3678/sturule\" h=\"ID=SERP,5239.1\"><div class=\"tpic\"><div class=\"wr_fav blicon\" data-priority=\"2\"><div class=\"rms_iac\" style=\"height:16px;line-height:16px;width:16px;\" data-height=\"16\" data-width=\"16\" data-alt=\"全球 Web 图标\" data-class=\"rms_img\" data-src=\"/rp/85L1-RZzWZRkW4lItJd4onjGG2U.svg\"></div></div></div><div class=\"tptxt\"><div class=\"tptt\">gaokao.cn</div><div class=\"tpmeta\"><div class=\"b_attribution\" u=\"6|5106|4735996464223053|TYYjBW7OE7Rpru_lcAUoVCPQGEPLkjTy\" tabindex=\"0\"><cite>https://www.gaokao.cn/school/3678/sturule</cite><span class=\"c_tlbxTrg\"><span class=\"c_tlbxH\" H=\"BASE:CACHEDPAGEDEFAULT\" K=\"SERP,5240.1\"></span></span></div></div></div></a></div><h2><a target=\"_blank\" href=\"https://www.gaokao.cn/school/3678/sturule\" h=\"ID=SERP,5239.2\"><strong>遂宁职业学院</strong>2025招生简章_章程-掌上高考</a></h2><div class=\"b_caption\" role=\"contentinfo\"><p class=\"b_lineclamp4 b_algoSlug\"><span class=\"algoSlug_icon\" data-priority=\"2\">网页</span>2024年6月13日&ensp;&#0183;&ensp;2023年普通高等学校招生工作规定已发布 2023-01-29. 教育部日前发布《2023年普通高等学校招生工作规定》，对考生电子档案、思想政治品德考核、身体健康状况检查、考试和录取都做了详细规定。 小编梳理了部分重点内容，一起来看. 2022年广东财贸职业学院在湖北省的招生计划？ 2023-01-12. 2022年广东财贸职业学院在湖北省有招生计 …</p></div></li><li class=\"b_algo\" data-id=\"\"  iid=\"\"><div class=\"b_tpcn\"><a class=\"tilk\" aria-label=\"gaokao.cn\" href=\"https://www.gaokao.cn/school/3678\" h=\"ID=SERP,5257.1\"><div class=\"tpic\"><div class=\"wr_fav blicon\" data-priority=\"2\"><div class=\"rms_iac\" style=\"height:16px;line-height:16px;width:16px;\" data-height=\"16\" data-width=\"16\" data-alt=\"全球 Web 图标\" data-class=\"rms_img\" data-src=\"/rp/85L1-RZzWZRkW4lItJd4onjGG2U.svg\"></div></div></div><div class=\"tptxt\"><div class=\"tptt\">gaokao.cn</div><div class=\"tpmeta\"><div class=\"b_attribution\" u=\"7|5107|4554851922677121|vlc1_ogim88XTovVmB4LeSI_nK17lqC7\" tabindex=\"0\"><cite>https://www.gaokao.cn/school/3678</cite><span class=\"c_tlbxTrg\"><span class=\"c_tlbxH\" H=\"BASE:CACHEDPAGEDEFAULT\" K=\"SERP,5258.1\"></span></span></div></div></div></a></div><h2><a target=\"_blank\" href=\"https://www.gaokao.cn/school/3678\" h=\"ID=SERP,5257.2\"><strong>遂宁职业学院</strong>-掌上高考</a></h2><div class=\"b_caption\" role=\"contentinfo\"><p class=\"b_lineclamp4 b_algoSlug\"><span class=\"algoSlug_icon\" data-priority=\"2\">网页</span>2024年5月10日&ensp;&#0183;&ensp;对于想要了解报考院校，学生可登录学校官网或相关公众号进行了. <strong>遂宁职业学院</strong>简介介绍,学校基本信息查询,院校类型,层次,含学校地址,大小占地面积,官方电话、招办电话,官方网址,特色信息等,遂宁职业学院排名,研究生招生,博士点、硕士点等全方面学院信息 …</p></div></li><li class=\"b_algo\" data-id=\"\"  iid=\"\"><div class=\"b_tpcn\"><a class=\"tilk\" aria-label=\"baidu.com\" href=\"https://baike.baidu.com/item/%E9%81%82%E5%AE%81%E5%B8%82%E8%81%8C%E4%B8%9A%E6%8A%80%E6%9C%AF%E5%AD%A6%E6%A0%A1/7671531\" h=\"ID=SERP,5274.1\"><div class=\"tpic\"><div class=\"wr_fav blicon\" data-priority=\"2\"><div class=\"rms_iac\" style=\"height:16px;line-height:16px;width:16px;\" data-height=\"16\" data-width=\"16\" data-alt=\"全球 Web 图标\" data-class=\"rms_img\" data-src=\"/rp/85L1-RZzWZRkW4lItJd4onjGG2U.svg\"></div></div></div><div class=\"tptxt\"><div class=\"tptt\">baidu.com</div><div class=\"tpmeta\"><div class=\"b_attribution\" u=\"8|5108|4569167047239748|l6KmM3JOGJcd0SzQsR47dhaQTHT2Db2S\" tabindex=\"0\"><cite>https://baike.baidu.com/item/遂宁市职业技术学校</cite><span class=\"c_tlbxTrg\"><span class=\"c_tlbxH\" H=\"BASE:CACHEDPAGEDEFAULT\" K=\"SERP,5275.1\"></span></span></div></div></div></a></div><h2><a target=\"_blank\" href=\"https://baike.baidu.com/item/%E9%81%82%E5%AE%81%E5%B8%82%E8%81%8C%E4%B8%9A%E6%8A%80%E6%9C%AF%E5%AD%A6%E6%A0%A1/7671531\" h=\"ID=SERP,5274.2\"><strong>遂宁</strong>市<strong>职业</strong>技术学校 - 百度百科</a></h2><div class=\"b_caption\" role=\"contentinfo\"><p class=\"b_lineclamp4 b_algoSlug\"><span class=\"algoSlug_icon\" data-priority=\"2\">网页</span><strong>遂宁市职业技术学校是</strong>在始建于1914年的百年名校（四川省遂宁师范学校）、省级重点职业学校（遂宁市职业中学）及原遂宁市经济中专校、四川大学成人教育学院遂宁分院等学校的基础上融合发展起来的集高等教育、职业教育、师范教育、成人教育为一体的公办</p></div></li><li class=\"b_algo\" data-id=\"\"  iid=\"\"><div class=\"b_tpcn\"><a class=\"tilk\" aria-label=\"hneeb.cn\" href=\"https://www.hneeb.cn/hnxxg/html/yxzc24/5183.html\" h=\"ID=SERP,5292.1\"><div class=\"tpic\"><div class=\"wr_fav blicon\" data-priority=\"2\"><div class=\"rms_iac\" style=\"height:16px;line-height:16px;width:16px;\" data-height=\"16\" data-width=\"16\" data-alt=\"全球 Web 图标\" data-class=\"rms_img\" data-src=\"/rp/85L1-RZzWZRkW4lItJd4onjGG2U.svg\"></div></div></div><div class=\"tptxt\"><div class=\"tptt\">hneeb.cn</div><div class=\"tpmeta\"><div class=\"b_attribution\" u=\"9|5109|4581192963872371|Y7QBCf0X0rcjSSFIKlvumiSZ6osIFQSC\" tabindex=\"0\"><cite>https://www.hneeb.cn/hnxxg/html/yxzc24/5183.html</cite><span class=\"c_tlbxTrg\"><span class=\"c_tlbxH\" H=\"BASE:CACHEDPAGEDEFAULT\" K=\"SERP,5293.1\"></span></span></div></div></div></a></div><h2><a target=\"_blank\" href=\"https://www.hneeb.cn/hnxxg/html/yxzc24/5183.html\" h=\"ID=SERP,5292.2\"><strong>遂宁职业学院</strong>2024年招生章程</a></h2><div class=\"b_caption\" role=\"contentinfo\"><p class=\"b_lineclamp4 b_algoSlug\"><span class=\"algoSlug_icon\" data-priority=\"2\">网页</span>2024年6月17日&ensp;&#0183;&ensp;<strong>遂宁职业学院</strong>2024年招生章程. 第一条 根据《中华人民共和国教育法》和《中华人民共和国高等教育法》等法律、法规的规定，为规范招生工作，确保学院招生工作的顺利进行，特制定本章程。. 第二条 学院招生工作遵循“公平竞争、公正选拔、公开程序，德智 …</p></div></li><li class=\"b_msg b_canvas\">为回应符合本地法律要求的通知，部分搜索结果未予显示。有关详细信息，请参阅<a href=\"http://go.microsoft.com/fwlink/?LinkID=617350\" h=\"ID=SERP,5098.1\">此处</a>。</li><li class=\"b_pag\"><nav role=\"navigation\" aria-label=\"遂宁职业学院 的更多搜索结果\"><h4 class=\"b_hide\">分页</h4><ul class=\"sb_pagF\"><li><a aria-label=\"第 1 页\" \\r\\n                                                class=\"sb_pagS sb_pagS_bp b_widePag sb_bp sb_pag_first\">1</a></li><li><a class=\"b_widePag sb_bp\" aria-label=\"第 2 页\" href=\"/search?q=%e9%81%82%e5%ae%81%e8%81%8c%e4%b8%9a%e5%ad%a6%e9%99%a2&amp;FPIG=45B87FDA5E6D41CBB6139287D374208B&amp;first=11&amp;FORM=PERE\" h=\"ID=SERP,5340.1\">2</a></li><li><a class=\"b_widePag sb_bp\" aria-label=\"第 3 页\" href=\"/search?q=%e9%81%82%e5%ae%81%e8%81%8c%e4%b8%9a%e5%ad%a6%e9%99%a2&amp;FPIG=45B87FDA5E6D41CBB6139287D374208B&amp;first=21&amp;FORM=PERE1\" h=\"ID=SERP,5341.1\">3</a></li><li><a class=\"b_widePag sb_bp\" aria-label=\"第 4 页\" href=\"/search?q=%e9%81%82%e5%ae%81%e8%81%8c%e4%b8%9a%e5%ad%a6%e9%99%a2&amp;FPIG=45B87FDA5E6D41CBB6139287D374208B&amp;first=31&amp;FORM=PERE2\" h=\"ID=SERP,5342.1\">4</a></li><li><a class=\"b_widePag sb_bp\" aria-label=\"第 5 页\" href=\"/search?q=%e9%81%82%e5%ae%81%e8%81%8c%e4%b8%9a%e5%ad%a6%e9%99%a2&amp;FPIG=45B87FDA5E6D41CBB6139287D374208B&amp;first=41&amp;FORM=PERE3\" h=\"ID=SERP,5343.1\">5</a></li><li><a class=\"sb_pagN sb_pagN_bp b_widePag sb_bp \" aria-label=\"下一页\" title=\"下一页\" href=\"/search?q=%e9%81%82%e5%ae%81%e8%81%8c%e4%b8%9a%e5%ad%a6%e9%99%a2&amp;FPIG=45B87FDA5E6D41CBB6139287D374208B&amp;first=11&amp;FORM=PORE\" h=\"ID=SERP,5344.1\"><div class=\"sw_next\">下一页</div></a></li></ul></nav></li><li id=\"mfa_root\" class=\"b_fabHide fabcolapse\" data-priority=\"2\"><div class=\"b_ds5\"><a role=\"button\" class=\"mfa_btn\" id=\"mfa_srch\" aria-label=\"搜索更多\" href=\"javascript:void(0);\" h=\"ID=SERP,5365.1\"><div class=\"fba_sbicn\" style=\"width: 40px; height: 40px;\"></div></a></div></li></ol></main><aside aria-label=\"更多结果\" class=><ol id=\"b_context\"></ol></aside><aside aria-label=\"浏览更多\"><ol id=\"b_dynRail\"></ol></aside></div><footer id=\"b_footer\" class=\"b_footer\" role=\"contentinfo\" aria-label=\"页脚\"><div id=\"b_footerItems\"><span>&#169; 2024 Microsoft</span><ul><li class=\"b_footerItems_icp\"><a id=\"sb_ICPLicenseText\" href=\"https://dxzhgl.miit.gov.cn/dxxzsp/xkz/xkzgl/resource/qiyereport.jsp?num=caf04fa4-bd8a-4d9e-80b6-2aa1b86c1509&amp;type=yreport\" h=\"ID=SERP,5069.1\">增值电信业务经营许可证：合字B2-20090007</a></li><li class=\"b_footerItems_icp\"><a id=\"sb_ICPFilingText\" href=\"https://beian.miit.gov.cn\" h=\"ID=SERP,5070.1\">京ICP备10036305号-7</a></li><li class=\"b_footerItems_icp\"><a id=\"sb_MMAIS\" href=\"http://www.beian.gov.cn/portal/registerSystemInfo?recordcode=11010802022657\" h=\"ID=SERP,5071.1\">京公网安备11010802022657号</a></li><br aria-hidden=\"true\" /><li><a id=\"sb_privacy\" href=\"http://go.microsoft.com/fwlink/?LinkId=521839\" h=\"ID=SERP,5072.1\">隐私声明和 Cookie</a></li><li><a id=\"sb_legal\" href=\"http://go.microsoft.com/fwlink/?LinkID=246338\" h=\"ID=SERP,5073.1\">法律声明</a></li><li><a id=\"sb_advertise\" href=\"https://go.microsoft.com/fwlink/?linkid=868922\" h=\"ID=SERP,5074.1\">广告</a></li><li><a id=\"sb_help\" target=\"_blank\" href=\"https://support.microsoft.com/topic/82d20721-2d6f-4012-a13d-d1910ccf203f&amp;clcid=0x04\" h=\"ID=SERP,5076.1\">帮助</a></li><li><a role=\"button\" id=\"sb_feedback\" href=\"#\" h=\"ID=SERP,5077.1\">反馈</a></li></ul></div><!--foo--><!--foo--></footer><link id=\"as-css-link\" rel=\"prefetch\" crossorigin=\"anonymous\" fetchpriority=\"low\" href=\"/rp/NvucapmJGbjJhtnUrilCmfp7uZs.gz.css\" type=\"text/css\" as=\"style\" /><div id=\"b_TriviaOverlay\"></div><div class=\"sb_hbop\"><div id=\"PromptDetails\" class=\"b_hide\" data-lat=\"0\" data-lon=\"0\" data-dist=\"0\" data-noRefresh=\"true\" data-check=\"true\"></div><div id=\"d20095\" class=\"b_hide b_dropdown\" role=\"menu\" data-filterkey=\"\"><div class=\"ftrD\" id=\"ftrD_时间不限\"><a class=\"b_toggle\" role=\"menuitem\" href=\"/search?q=%e9%81%82%e5%ae%81%e8%81%8c%e4%b8%9a%e5%ad%a6%e9%99%a2&amp;FORM=000017&amp;qpvt=%e9%81%82%e5%ae%81%e8%81%8c%e4%b8%9a%e5%ad%a6%e9%99%a2\" h=\"ID=SERP,5367.1\">全部</a><a class=\"b_toggle \" role=\"menuitem\" target=\"\" tabindex=\"-1\" href=\"/search?q=%e9%81%82%e5%ae%81%e8%81%8c%e4%b8%9a%e5%ad%a6%e9%99%a2&amp;filters=ex1%3a%22ez1%22&amp;FORM=000017\" h=\"ID=SERP,5368.1\">24 小时内</a><a class=\"b_toggle \" role=\"menuitem\" target=\"\" tabindex=\"-1\" href=\"/search?q=%e9%81%82%e5%ae%81%e8%81%8c%e4%b8%9a%e5%ad%a6%e9%99%a2&amp;filters=ex1%3a%22ez2%22&amp;FORM=000017\" h=\"ID=SERP,5369.1\">一周内</a><a class=\"b_toggle \" role=\"menuitem\" target=\"\" tabindex=\"-1\" href=\"/search?q=%e9%81%82%e5%ae%81%e8%81%8c%e4%b8%9a%e5%ad%a6%e9%99%a2&amp;filters=ex1%3a%22ez3%22&amp;FORM=000017\" h=\"ID=SERP,5370.1\">一个月内</a><a class=\"b_toggle \" role=\"menuitem\" target=\"\" tabindex=\"-1\" href=\"/search?q=%e9%81%82%e5%ae%81%e8%81%8c%e4%b8%9a%e5%ad%a6%e9%99%a2&amp;filters=ex1%3a%22ez5_19619_19984%22&amp;FORM=000017\" h=\"ID=SERP,5371.1\">去年</a><span id=\"drvph\" data-url=\"/control/tfcalendar?q=%E9%81%82%E5%AE%81%E8%81%8C%E4%B8%9A%E5%AD%A6%E9%99%A2&amp;IG=45B87FDA5E6D41CBB6139287D374208B&amp;StartDate=09%2f08%2f2024+19%3a33%3a19&amp;EndDate=09%2f18%2f2024+19%3a33%3a19&amp;IsApplied=False&amp;DisplayText=%e8%87%aa%e5%ae%9a%e4%b9%89%e8%8c%83%e5%9b%b4&amp;DateOffset=0&amp;FormCode=&amp;ApplyLinkUrl=%2fsearch%3fq%3d%25e9%2581%2582%25e5%25ae%2581%25e8%2581%258c%25e4%25b8%259a%25e5%25ad%25a6%25e9%2599%25a2%26filters%3dex1%253a%2522ez5_0_0%2522%26FORM%3d000017%26qpvt%3d%25e9%2581%2582%25e5%25ae%2581%25e8%2581%258c%25e4%25b8%259a%25e5%25ad%25a6%25e9%2599%25a2&amp;ApplyLinkText=ez5&amp;IID=SERP.20095\"></span></div></div></div><script type=\"text/javascript\" crossorigin=\"anonymous\" nonce=\"Fo1YRRy8jh1juov0SET/1ArnU6wTxonLrHZkmNV841s=\" src=\"/rp/HXEMBJVfF0wfONjz8nNkB93_2MU.gz.js\"></script><script type=\"text/javascript\" nonce=\"Fo1YRRy8jh1juov0SET/1ArnU6wTxonLrHZkmNV841s=\">//<![CDATA[\\nvar img_p = document.getElementById(\\'id_p\\'); img_p && img_p.addEventListener(\\'error\\', function() {FallBackToDefaultProfilePic(img_p) });;\\n//]]></script><script type=\"text/javascript\" crossorigin=\"anonymous\" nonce=\"Fo1YRRy8jh1juov0SET/1ArnU6wTxonLrHZkmNV841s=\" src=\"/rp/AT5pDU1dYEfNvwgqUeyhxh-3Ouk.gz.js\"></script><script type=\"text/javascript\" crossorigin=\"anonymous\" nonce=\"Fo1YRRy8jh1juov0SET/1ArnU6wTxonLrHZkmNV841s=\" src=\"/rp/iuYNUHE3kZrz6Jrb0_Mf0yBFZN0.gz.js\"></script><script type=\"text/javascript\" nonce=\"Fo1YRRy8jh1juov0SET/1ArnU6wTxonLrHZkmNV841s=\">//<![CDATA[\\nsa_loader=function(){_w.rms.js({\\'rms:answers:AutoSuggest:AutoSug\\':\\'\\\\/rp\\\\/ePYRLs9Vbdb66iuf33OVjC3YJhU.gz.js\\',d:1});};;function sa_preactloader(){_w.rms.js({\\'rms:answers:SharedStaticAssets:preact_libary\\':\\'\\\\/rp\\\\/WM1mCzARv_xNW-N4Psc0qxQ816c.gz.js\\',d:1});} function sa_preactcompsloader(){_w.rms.js({\\'rms:answers:AutoSuggest:AutoSuggestCsrComponents\\':\\'\\\\/rp\\\\/1vJkq3n7ggghS4zddP4lqtB8OJs.gz.js\\',d:1});};;_w.rms.js({\\'A:JavaScriptErrorHandler\\':\\'\\\\/rs\\\\/6s\\\\/fU\\\\/jnc,nj\\\\/tlifxqsNyCzxIJnRwtQKuZToQQw.js\\'},{\\'A:rms:answers:Shared:BingCore.ClientErrorHelper\\':\\'\\\\/rp\\\\/1t5WblfdcdCb2GDcl6sMXFXh4nA.gz.js\\'},{\\'A:0\\':0},{\\'A:rms:answers:Shared:mlibCssClass\\':\\'\\\\/rp\\\\/dLXNK3o3tyXzkXA3Jj8ciHATOYc.gz.js\\'},{\\'A:rms:answers:VisualSystem:QuickSearchCursor\\':\\'\\\\/rp\\\\/_LLFpE96tawkmTo1FFUGch69fzY.gz.js\\'},{\\'A:rms:answers:VisualSystem:FocusScrollToBTop\\':\\'\\\\/rp\\\\/31hq64axZnI2uTf5o05yP1QWkNQ.gz.js\\'},{\\'A:rms:answers:VisualSystem:BodyZoomToggle\\':\\'\\\\/rp\\\\/PYceceZoLSY8ryoHkWqBrhIsH3s.gz.js\\'},{\\'A:rms:answers:VisualSystem:SkipToContent\\':\\'\\\\/rp\\\\/SfyG2jshtt1H8FPLiMnzvQ-SWG0.gz.js\\'},{\\'A:rms:answers:Shared:EnglishSearchShared\\':\\'\\\\/rp\\\\/6w81-ZGNavU7VB1q6ZkKCG3keLk.gz.js\\'},{\\'A:rms:answers:Shared:mlibCssClassAfterContent\\':\\'\\\\/rp\\\\/dLXNK3o3tyXzkXA3Jj8ciHATOYc.gz.js\\'},{\\'A:rms:answers:VisualSystem:SwitchTab\\':\\'\\\\/rp\\\\/IGrAm9L0pW3Ugkl60RuzBrd5Ea0.gz.js\\'},{\\'A:rms:answers:VisualSystem:PinHeader\\':\\'\\\\/rp\\\\/JvlZjpUAydSDaFrLeO2J-jiyRnk.gz.js\\'},{\\'A:1\\':1},{\\'A:rms:answers:BingAtWork:SsoUtils\\':\\'\\\\/rp\\\\/t9AubO8wkPnh48_Y05cOFrDG0FI.gz.js\\'},{\\'A:rms:answers:Shared:WireUp\\':\\'\\\\/rb\\\\/4O\\\\/jnc,nj\\\\/WjC77O8uVx9--UZpQC4Qfpa7qaE.js?bu=A7w2vzbCNg\\'},{\\'A:rms:answers:Shared:Button\\':\\'\\\\/rp\\\\/6LohI2cpN0iIbSZNkT2e_TO1JTI.gz.js\\'},{\\'A:mlibCssClass\\':\\'\\\\/rs\\\\/6s\\\\/fU\\\\/jnc,nj\\\\/tlifxqsNyCzxIJnRwtQKuZToQQw.js\\'},{\\'A:2\\':2},{\\'A:rms:answers:Rewards:LightLogger\\':\\'\\\\/rp\\\\/bjrsBgLMT2dt5Ai4Vmi31ydUjAA.gz.js\\'},{\\'A:3\\':3},{\\'A:rms:answers:MeFramework:HamburgerServicesHeaderBootstrap\\':\\'\\\\/rp\\\\/D2h49Yt54MK5yexhnpgtYV9iFcw.gz.js\\'},{\\'A:rms:answers:VisualSystem:SearchBox\\':\\'\\\\/rp\\\\/eESxhEi2ORWrvpEGu0Djwt3IBJY.gz.js\\'},{\\'A:rms:answers:VisualSystem:ScopeBarTools\\':\\'\\\\/rp\\\\/fwZtx4JU0QXS6liXIGiy9HCAP3k.gz.js\\'},{\\'A:ClientOSLogging\\':\\'\\\\/rs\\\\/6s\\\\/fU\\\\/jnc,nj\\\\/tlifxqsNyCzxIJnRwtQKuZToQQw.js\\'},{\\'A:Client_UaMismatchLogging\\':\\'\\\\/rs\\\\/6s\\\\/fU\\\\/jnc,nj\\\\/tlifxqsNyCzxIJnRwtQKuZToQQw.js\\'},{\\'A:rms:answers:VisualSystem:DarkSchemeCookies\\':\\'\\\\/rp\\\\/jyU0hDSbsnQN4x1KqtQb4e9ynWs.gz.js\\'},{\\'A:rms:answers:VisualSystem:ClientWidth\\':\\'\\\\/rp\\\\/okEICPKIVqk4DGAl1c7kXieE-9M.gz.js\\'},{\\'A:ClientWidth\\':\\'\\\\/rs\\\\/6s\\\\/fU\\\\/jnc,nj\\\\/tlifxqsNyCzxIJnRwtQKuZToQQw.js\\'},{\\'A:rms:answers:VisualSystem:ClientDimensionNotSent\\':\\'\\\\/rp\\\\/GEPiQrCn4Rvkn_RTnifDdoMHZq8.gz.js\\'},{\\'A:4\\':4},{\\'A:rms:answers:Web:CheckContextRegion\\':\\'\\\\/rp\\\\/C2Jt1kNZ1LFxpDWOzw71G5fPF1o.gz.js\\'},{\\'A:5\\':5},{\\'A:rms:answers:Feedback:FeedbackAccessibility\\':\\'\\\\/rp\\\\/peNl4yUB4P3PwDM4J7NWGzi8hKM.gz.js\\'},{\\'A:rms:answers:Feedback:FeedbackBootstrapBundle\\':\\'\\\\/rp\\\\/aOA7a7jg_SiOo7Z1-2J6mbS36HE.gz.js\\'},{\\'A:6\\':6},{\\'A:rms:answers:AutoSuggest:AutoSuggestBootstrap\\':\\'\\\\/rp\\\\/2_lD0VYelhhfv1HO6rAFJ_7Uco8.gz.js\\'},{\\'A:rms:answers:MsnJVData:MsnShared\\':\\'\\\\/rp\\\\/Wdb8kMih_nF8s-nT5GGrd7-e_Ew.gz.js\\'},{\\'A:rms:answers:Shared:UrlLib\\':\\'\\\\/rp\\\\/FKyyHNRdmLGOV4sku-_1vBF3cJU.gz.js\\'},{\\'A:rms:answers:Geolocation:WriteLocationHelper\\':\\'\\\\/rp\\\\/YKzpREcKlcBa6Ba06Yu40jdIymA.gz.js\\'},{\\'A:rms:answers:Geolocation:LocationHelper\\':\\'\\\\/rp\\\\/KtpyjkyXbFdkAecF7WMPEncJ2XI.gz.js\\'},{\\'A:rms:answers:Geolocation:GetlocationHelper\\':\\'\\\\/rp\\\\/0HNuXH66w-Bg4LuNEid72lHsB_Y.gz.js\\'},{\\'A:rms:answers:Geolocation:PromptForUserLocation\\':\\'\\\\/rp\\\\/ZcBPMY4XbKarPACUeRWZBdyZQrE.gz.js\\'},{\\'A:RMSImageAfterOnLoadLoader\\':\\'\\\\/rs\\\\/6s\\\\/vh\\\\/jnc,nj\\\\/Qp5q6DtDal0Q6zp3EOeEQbFTsW0.js\\'},{\\'A:rms:answers:VisualSystem:QuickSearch\\':\\'\\\\/rp\\\\/3AuqmR1rGd-9n8jGdRiAunNFAZA.gz.js\\'},{\\'A:rms:answers:SharedStaticAssets:WebVitals\\':\\'\\\\/rp\\\\/P5sulAQsfW7QvKFqa824mIUEgnA.gz.js\\'},{\\'A:rms:answers:WebVitals:WebVitalsMetrics4\\':\\'\\\\/rp\\\\/che2X0IxFAhC4EPVbjgGPzsgr-c.gz.js\\'},{\\'A:rms:answers:Shared:ToggleControl\\':\\'\\\\/rp\\\\/UWay3HPxD-036Y9DRBGHMBvH094.gz.js\\'},{\\'A:7\\':7},{\\'A:rms:answers:Shared:mlibCssClassAfterOnLoad\\':\\'\\\\/rp\\\\/dLXNK3o3tyXzkXA3Jj8ciHATOYc.gz.js\\'},{\\'A:rms:answers:VisualSystem:DecorateHeaderWithAutosuggestState\\':\\'\\\\/rp\\\\/EUVQiETz_t4QxG8HSugjsOIUlBw.gz.js\\'},{\\'A:8\\':8},{\\'A:rms:answers:VisualSystem:LogQueryLength\\':\\'\\\\/rp\\\\/Iax5MMtdIUvr23kgs-KAoyUckVA.gz.js\\'},{\\'A:rms:answers:Web:ClearSearchBox\\':\\'\\\\/rp\\\\/Y806JrL6RagU8tqNI_iN1M1S1mA.gz.js\\'},{\\'A:rms:answers:Identity:BlueIdentityDropdownBootStrap\\':\\'\\\\/rp\\\\/yjXVFOxf6UdoTA2BOwEH6n4ClfI.gz.js\\'},{\\'A:rms:answers:Identity:BlueIdentityHeader\\':\\'\\\\/rp\\\\/ihC7RhTVhw2ULO_1rMUWydIu_rA.gz.js\\'},{\\'A:rms:answers:Identity:WindowsLiveConnect\\':\\'\\\\/rp\\\\/3kaLdUGF8ruB6UiNcDOjP75mSAM.gz.js\\'},{\\'A:rms:answers:Identity:SnrWindowsLiveConnectBootstrap\\':\\'\\\\/rp\\\\/cJksCHwhB_Z32I0ytWPMUDsybak.gz.js\\'},{\\'A:rms:answers:OrgId:SsoFrame\\':\\'\\\\/rp\\\\/PgVOrYqTvqK49IEnVEVlZVYfA1U.gz.js\\'},{\\'A:rms:answers:BingAtWork:SsoContent\\':\\'\\\\/rp\\\\/jYkYz7NXYQ59P1lMGYsnYUM_0m8.gz.js\\'},{\\'A:9\\':9},{\\'A:rms:answers:Identity:ProfilePicturePostLoader\\':\\'\\\\/rp\\\\/fDgf7Oh5R8mPygWLQcaNRoJGj5Q.gz.js\\'},{\\'A:rms:answers:Identity:AccountLinkLoadProfileIcon\\':\\'\\\\/rp\\\\/pXVzgohStRjQefcwyp3z6bhIArA.gz.js\\'},{\\'A:rms:answers:OrgId:AccountLink\\':\\'\\\\/rp\\\\/kzHfYwAwahpHm-ZU7kDOHkFbADU.gz.js\\'},{\\'A:10\\':10},{\\'A:rms:answers:Rewards:RewardsHeaderSVG\\':\\'\\\\/rp\\\\/GK9SuRKiu0QbKYnVgoAlgmuWrNU.gz.js\\'},{\\'A:AppendHTML\\':\\'\\\\/rs\\\\/6s\\\\/lA\\\\/nj\\\\/pxzfjFIjWTDQikh0A5aT_cguYyc.js\\'},{\\'A:rms:answers:Rewards:RewardsNcHeaderBootstrap\\':\\'\\\\/rp\\\\/5g-N9K-X1ykUl3QHEadPjpOM0Tc.gz.js\\'},{\\'A:RewardsReportActivity\\':\\'\\\\/rs\\\\/6s\\\\/xm\\\\/nj\\\\/nt6a1ZR520utsLoZmSYgwxdOPgI.js\\'},{\\'A:rms:answers:Rewards:RewardsCreditRefresh\\':\\'\\\\/rp\\\\/byLmVJQA1UzOFcrs9Jrvys4jXhM.gz.js\\'},{\\'A:rms:answers:Rewards:ModernReportActivity\\':\\'\\\\/rp\\\\/u93qydPo6yP4Ny61oszlrUc9z3k.gz.js\\'},{\\'A:rms:answers:Rewards:ReportActivityBootstrap\\':\\'\\\\/rp\\\\/SO02eTikN8ZV7bCSXFKur4CKSoQ.gz.js\\'},{\\'A:rms:answers:Identity:MobileIconScript\\':\\'\\\\/rp\\\\/g_4qq6lnTurRPYIwLTk--AUMc24.gz.js\\'},{\\'A:rms:answers:VisualSystem:ScopeBarAppShortcuts\\':\\'\\\\/rp\\\\/VMlMidaxpY_tY7ywmhfPF53xdoc.gz.js\\'},{\\'A:rms:answers:VisualSystem:NotebookScope\\':\\'\\\\/rp\\\\/rEyf5r6GntWGoi90dN9CzUTNUOc.gz.js\\'},{\\'A:rms:answers:VisualSystem:ScopeBarRankInst\\':\\'\\\\/rp\\\\/fHuyi8cU3N_FKljgNDAU8JiBqx0.gz.js\\'},{\\'A:rms:answers:VisualSystem:TextSpacing\\':\\'\\\\/rp\\\\/XgfcIOITpjTBhfAjZ2xBTy-gx60.gz.js\\'},{\\'A:11\\':11},{\\'A:rms:answers:VisualSystem:LogAccessibilityEventsCommon\\':\\'\\\\/rp\\\\/zhTN3mRvIUl6DeUkf-ScDREqMqI.gz.js\\'},{\\'A:rms:answers:VisualSystem:LogAccessibilityEvents\\':\\'\\\\/rp\\\\/sajeqQ-o1FtvXD1tFQh-v8BIIIE.gz.js\\'},{\\'A:rms:answers:VisualSystem:AccessibilityZoomDesktop\\':\\'\\\\/rp\\\\/RYLsQp6Ti_CctLG4466URn5qsq4.gz.js\\'},{\\'A:rms:answers:VisualSystem:LogTabCount\\':\\'\\\\/rp\\\\/WAAHGo-kP0xCDM16LGm9-alzHb8.gz.js\\'},{\\'A:rms:answers:Web:UetTag\\':\\'\\\\/rp\\\\/w1gdrM6p5Kmzh4Gi9fKcTaefJ1s.gz.js\\'},{\\'A:rms:answers:Web:UpdateDefaults\\':\\'\\\\/rp\\\\/NRudXMsXYtnM1BQyD6xvAZoudZM.gz.js\\'},{\\'A:rms:answers:Web:AlgoTitleColorOnMousedown\\':\\'\\\\/rp\\\\/f5M90q9eKVXkGU-DAv9Aa4jef2k.gz.js\\'},{\\'A:rms:answers:Web:CursorProgressOnClick_Rebind\\':\\'\\\\/rp\\\\/VLm4tyiMlywwyg4FgWjZITn5W48.gz.js\\'},{\\'A:rms:answers:Web:CursorProgressOnClick\\':\\'\\\\/rp\\\\/we5MTeTkjiic9oaBxzZpmSWxZ5k.gz.js\\'},{\\'A:AjaxLoad\\':\\'\\\\/rs\\\\/6s\\\\/lO\\\\/nj\\\\/EmG-XMIMCcq8zmcVBBO7jkFERAE.js\\'},{\\'A:rms:answers:SegmentFilters:DropDown\\':\\'\\\\/rp\\\\/U5G6p_Tev2pTiyx-qaKz78k-LeI.gz.js\\'},{\\'A:rms:answers:WebResult:WebResultToolbox\\':\\'\\\\/rp\\\\/dWoBZo5dRP3bgmUuN5Vqofu8kbo.gz.js\\'},{\\'A:rms:answers:Web:PaginationWithBFPRResults\\':\\'\\\\/rp\\\\/nzudpv-7ENzDE4_N0Zm8hByq2p4.gz.js\\'},{\\'A:rms:answers:VisualSystem:SearchFloatingActionButtonTriggering\\':\\'\\\\/rp\\\\/pMgv2IcGdINcYpOkU9rVe8Ez9FU.gz.js\\'},{\\'A:rms:answers:VisualSystem:FloatingActionButtonCore\\':\\'\\\\/rp\\\\/EbWMC3sa1kqKKLU2JpggRmK8hjs.gz.js\\'},{\\'A:rms:answers:VisualSystem:SearchFloatingActionButton\\':\\'\\\\/rp\\\\/XoQglz50MmFoPKPK7e4z9k7uOiQ.gz.js\\'},{\\'A:rms:answers:VisualSystem:LargerClickTarget\\':\\'\\\\/rp\\\\/Uwndwd-qWHEaU0qRminFp8JV8EI.gz.js\\'},{\\'A:rms:answers:VisualSystem:IPv6Test\\':\\'\\\\/rp\\\\/W8bLYGpay8IFp3H_SrUDKaBAn30.gz.js\\'},{\\'A:12\\':12},{\\'A:rms:answers:ThirdPartyCookieInstrumentation:LoadThirdPartyIframe\\':\\'\\\\/rp\\\\/CFWVFPAnteVwaOcT6bFMzQQrjh8.gz.js\\'},{\\'A:13\\':13},{\\'A:rms:answers:MsnJVData:OpenExternalLinkInNewWindow\\':\\'\\\\/rp\\\\/Oy4fWG3mAxxj_E6LQi-TmR-eHuw.gz.js\\'},{\\'A:rms:answers:Web:SerpKeyboardNavigation_Selector\\':\\'\\\\/rp\\\\/KWqNO2aZe6YJFeYtVL2of-Fv82o.gz.js\\'},{\\'A:rms:answers:Web:SerpKeyboardNavigation\\':\\'\\\\/rp\\\\/cTjovfJ8fuNtDtyC0VQH35vgAUI.gz.js\\'},{\\'A:14\\':14});;\\n//]]></script><div id=\"aRmsDefer\"><div style=\"display:none\" \"><!--//<![CDATA[\\nsj_be(_d.body, \\'load\\', function(){if(_w.lb)lb();}, false);;\\n//]]>--></div><div style=\"display:none\" \"><!--//<![CDATA[\\nvar Identity = Identity || {}; (function(i) { i.wlImgSm =\"https://storage.live.com/users/0x{0}/myprofile/expressionprofile/profilephoto:UserTileStatic/p?ck=1\\\\u0026ex=720\\\\u0026sid=24ED1DEF6EC063A5325209116F1262AB\\\\u0026fofoff=1\"; i.wlImgLg =\"https://storage.live.com/users/0x{0}/myprofile/expressionprofile/profilephoto:UserTileMedium/p?ck=1\\\\u0026ex=720\\\\u0026sid=24ED1DEF6EC063A5325209116F1262AB\\\\u0026fofoff=1\";i.popupLoginUrls = {\"WindowsLiveId\":\"https://login.live.com/login.srf?wa=wsignin1.0\\\\u0026rpsnv=11\\\\u0026ct=1726659199\\\\u0026rver=6.0.5286.0\\\\u0026wp=MBI_SSL\\\\u0026wreply=https:%2F%2fcn.bing.com%2Fsecure%2FPassport.aspx%3Fpopup%3D1%26ssl%3D1\\\\u0026lc=2052\\\\u0026id=264960\"}; })(Identity);;\\n//]]>--></div><div style=\"display:none\" \"><!--//<![CDATA[\\nsj_evt.bind(\"onP1\", function() { window[\"RewardsHeaderSVG\"] && RewardsHeaderSVG.fireDefaultEvent(); }, 1, 0);;var bepcfg = bepcfg || {};;bepcfg.wb =true? \\'1\\' : \\'0\\';;\\n//]]>--></div><div style=\"display:none\" \"><!--//<![CDATA[\\n_w[\"EnableSappUpsellSERPCN\"] =true; _w[\"IsHomepage\"] =false; _w[\"IsChatpage\"] =false; _w[\"IsSERP\"] =false; _w[\"IsImageCreatorPage\"] =false; _w[\"EnableSappUpsellFlyoutVid\"] =false; _w[\"EnableSappUpsellFlyoutVidL2\"] =false; _w[\"IsDarkMode\"] =false;;\\n//]]>--></div><div style=\"display:none\" \"><!--//<![CDATA[\\nif (typeof (performance) !== \\'undefined\\' && _G.BCT && performance.timing && performance.timing.navigationStart){ var SCArrivalTimeRelativeToNavStart = (_G.BCT - performance.timing.navigationStart); typeof (Log) !== \\'undefined\\' && Log && Log.Log && Log.Log(\"SCArrST\", \"SCArrST\", SCArrivalTimeRelativeToNavStart); };var ContextRegionPresent = false;;\\n//]]>--></div><div style=\"display:none\" \"><!--//<![CDATA[\\n_G.RGUID=\"72d412c9c1bb4946943734ac50aade91\";;sa_CTBConfig={\"CU\":\"http://cncc.bingj.com/cache.aspx?q=%e9%81%82%e5%ae%81%e8%81%8c%e4%b8%9a%e5%ad%a6%e9%99%a2\\\\u0026d={0}\\\\u0026mkt=zh-CN\\\\u0026setlang=zh-CN\\\\u0026w={1}\",\"CT\":\"已缓存\",\"NW\":\"1\",\"disableMetaData\":\"0\",\"GenCapString\":\"AI 生成的字幕\",\"useOffsetParent\":\"1\",\"TRGT\":\"此网站的操作\",\"selectedIconClass\":\"sw_ddw\",\"toolboxTriggerClassName\":\"c_tlbxTrg\",\"staticIconClass\":\"sw_ddgn\"};var webResultsUrls =[\"76F70F9C814A6F6B72E5C379AD195803\",\"8B60BFC72EFBD8B93FE8EFE8123EBA6F\",\"7241607B8ECFC96E2F1E7C6AB9463A23\",\"B4BD752F105BEDC308345B77B9E395DB\",\"65DABA1E09F6C619862CAD6E05C2137F\",\"C57C37933289660A62A197E7DFE73859\",\"69AEEFE57005285423D01843CB9234F2\",\"174E8BD5981E0B79223F9CAD7B96A0BB\",\"1DD12CD0B11E3B7616904C74F60DBD92\",\"234921482A5BEE9A2499EA8B08150482\"];var ipd = { ipt: \"4\", secall: true, pd: false };var fbpkgiid = fbpkgiid || {}; fbpkgiid.page = \\'SERP.5381\\';;\\n//]]>--></div><div style=\"display:none\" \"><!--//<![CDATA[\\nsj_evt.bind(\"ajax.feedback.initialized\", function(args) { args[1].debugCollector.setContextValue(\"FederationDebugInfo\", \"QueryID : a8d5f6bed1654024a1cfc26b17454784\"); });;sa_config={\"f\":\"sb_form\",\"i\":\"sb_form_q\",\"c\":\"sw_as\",\"zisParent\":\"sa_zis_parent\",\"aadManageHistoryUrl\":\"/profile/history?FORM=O2HV46\",\"u\":\"%2fAS%2fSuggestions%3fpt%3dpage.serp%26bq%3d%25E9%2581%2582%25E5%25AE%2581%25E8%2581%258C%25E4%25B8%259A%25E5%25AD%25A6%25E9%2599%25A2%26mkt%3dzh-cn%26ds%3dmobileweb%26qry%3d\",\"removeSuggUrl\":\"/historyHandler?oma=delete_matching_queries\\\\u0026qt=%7b0%7d\\\\u0026sig=24ED1DEF6EC063A5325209116F1262AB\\\\u0026response=json\\\\u0026FORM=ASRMHS\",\"searchHistoryUrl\":\"/profile/history?FORM=ASRMHP\",\"partner\":\"page.serp\",\"ghostingWithGreyText\":\"\",\"enableTabPrompt\":\"\",\"enabledSearchTypes\":[\"RS\",\"PASF\"],\"enabledDataSources\":[\"Web\"],\"eHC\":1,\"ePN\":1,\"fetchOnEmpty\":1,\"fetchOnDownArrowKey\":1,\"t\":1,\"enableSbUpdate\":1,\"ol\":1,\"isPathSearch\":1,\"asmobbacks\":1,\"longquery\":1,\"dsarialv\":1,\"aslogtel\":1,\"asszrdc\":1,\"eNw\":1,\"nwLim\":1,\"IsRequeryPresent\":1,\"ezis\":1,\"imeghmb\":1,\"leftIconOnSuggestions\":1,\"EnableHistoryIcon\":1,\"leftIconOnMsbSuggestions\":1,\"waitForCompositionEnd\":1,\"enableClientPerfLatencyCalc\":1,\"asLowNetworkScneario\":1,\"noNextWordTermination\":1,\"nextWordNFullSuggsOne\":1,\"enableAsPanelExpansion\":1,\"hitHighlightPaa\":1,\"backfillRichRequery\":1,\"rrboxshadow\":1,\"prioritizePAAInterrogative\":1,\"enableRichRequeryFitNFinish\":1,\"enableRichRequeryPerf\":1,\"enableEASE\":1,\"FastEntMulti\":1,\"logClickOnSuggestion\":1,\"CommonFooter\":1,\"ascsr\":1,\"csr_precompbootstrap\":1,\"rmHS\":1,\"firstSugEntity\":1,\"selectEntity\":1,\"asdsg\":1,\"asoptcss\":1,\"aspreinitcss\":1,\"ascssdis\":1,\"asbugfix\":1,\"easpm\":1,\"handleDuplicateFetch\":1,\"maxRSSuggLenLimitRichRequery\":48,\"maxPAASuggLenLimitRichRequery\":48,\"prioritizePAAMinWords\":3,\"easePI\":400,\"login\":4,\"d\":70,\"removeTextLength\":28,\"ascqsl\":100,\"zisr1\":5,\"msblmt\":4,\"maxSuggestionsForEmptyQuery\":10,\"maxSuggestionsToShow\":[3,5]};sa_loc= {\"Suggestions\":\"建议\",\"Feedback\":\"针对这些建议的反馈\",\"RemoveHistorySuggestion\":\"删除\",\"H_PN\":\"今日热点\",\"H_SSE\":\"与最近的搜索相关\",\"H_BingChat\":\"MICROSOFT 建议\",\"BC_Subtitle\":\"提出实际问题并获得完整的答案。\",\"BC_ZI_Text\":\"试用新版 Copilot\",\"WhySuggestionIsTrending\":\"为什么是趋势 {0} ?\",\"SearchRemoved\":\"此搜索已从%e搜索历史记录%E中删除\",\"ManageHistory\":\"%e管理搜索历史记录%E\",\"RelatedSearches\":\"相关搜索\",\"PeopleAlsoAsk\":\"其他用户还问了以下问题\",\"PeopleAlsoSearchFor\":\"人员还搜索\",\"SeeMore\":\"更多内容\",\"NudgesAStoChatClickthrough\":\"单击此项将重定向到 Copilot\",\"MsbBannerClickThrough\":\"单击此项将重定向到“垂直工作”\",\"SearchHistoryHeading\":\"历史记录\"};;\\n//]]>--></div><div style=\"display:none\" \"><!--//<![CDATA[\\nvar pinnedHeaderParams ={};;\\n//]]>--></div><div style=\"display:none\" \"><!--//<![CDATA[\\nBingAtWork.HeaderWithAutoSuggestState.init && BingAtWork.HeaderWithAutoSuggestState.init(false);;\\n//]]>--></div><div style=\"display:none\" \"><!--//<![CDATA[\\n(function() { var conditionalSignInParams ={\"notifEnabled\":true,\"notifFetchAsync\":false}; BingAtWork.ConditionalSignIn && BingAtWork.ConditionalSignIn.bindToConditionalSignIn && BingAtWork.ConditionalSignIn.bindToConditionalSignIn(conditionalSignInParams); })();;(function() { var config ={\"url\":\"https%3a%2f%2flogin.microsoftonline.com%2fcommon%2foauth2%2fauthorize%3fclient_id%3d9ea1ad79-fdb6-4f9a-8bc3-2b70f96e34c7%26response_type%3did_token%2bcode%26nonce%3db3796662-87c4-431e-beb8-0939e0d879ae%26redirect_uri%3dhttps%253a%252f%252fcn.bing.com%252forgid%252fidtoken%252fconditional%26scope%3dopenid%2520email%2520profile%25209ea1ad79-fdb6-4f9a-8bc3-2b70f96e34c7%2f.default%26response_mode%3dform_post%26instance_aware%3dtrue%26msafed%3d0%26prompt%3dnone%26state%3d%257b%2522ig%2522%253a%252245B87FDA5E6D41CBB6139287D374208B%2522%257d\",\"sandbox\":\"allow-forms allow-pointer-lock allow-popups allow-same-origin allow-scripts\",\"currentEpoch\":\"1726659199000\"}; sj_evt.fire(\\'ssoFrameExists\\', config); })();;(function () { var identityBtn = document.getElementById(\"id_l\"); if (identityBtn) { identityBtn.addEventListener(\"click\", function () { sj_log(\"CI.ICPopup\", \"popup\", \"1\"); }); } })();;\\n//]]>--></div><div style=\"display:none\" \"><!--//<![CDATA[\\n(function() { var accLinkParams ={\"accLinkRefreshEndPointUrl\":\"/orgid/acclink/refresh\",\"isAadAuthenticated\":false,\"refreshAccountLinkInfoTimeInSeconds\":3600,\"refreshAccountLinkInfoRetryTimeInSeconds\":600,\"correlationId\":\"66eaba7f774943cfa3e604a0f84f7be0\",\"hasActiveLinkedAccount\":false}; AccountLink.init(accLinkParams); })();;\\n//]]>--></div><div style=\"display:none\" \"><!--//<![CDATA[\\nTextSpacing.init(\"/rp/dHuJZPyruHWFebX_NFnCaeY1EYM.gz.css\");\\n//]]>--></div><div style=\"display:none\" \"><!--//<![CDATA[\\nwindow[\"fbk_12\"] = function() { Feedback.Bootstrap.InitializeFeedback({page:true},\"sb_feedback\",1,0,0); sj_evt.unbind(\"fdbkbtstrp_init\", window[\"fbk_12\"]); }; sj_evt.bind(\"fdbkbtstrp_init\", window[\"fbk_12\"], 1);;\\n//]]>--></div><div style=\"display:none\" \"><!--//<![CDATA[\\nLoadThirdPartyIframe.load();;(function loadAutoSuggestCss(){ if (document.getElementById(\"as-css-link\")) { document.getElementById(\"as-css-link\").rel = \"stylesheet\"; } }());;\\n//]]>--></div><div style=\"display:none\" \"><!--//<![CDATA[\\nsj_evt.bind(\"promptForUserLocationInit\", function() { SHPromptForUserLocation.init(true,\"24ED1DEF6EC063A5325209116F1262AB\"); }, 1);;\\n//]]>--></div></div><script type=\"text/javascript\" nonce=\"Fo1YRRy8jh1juov0SET/1ArnU6wTxonLrHZkmNV841s=\" >//<![CDATA[\\r\\n_G.HT=new Date;\\r\\n//]]></script></body></html>'"
      ]
     },
     "execution_count": 4,
     "metadata": {},
     "output_type": "execute_result"
    }
   ],
   "source": [
    "url = \"https://cn.bing.com/search\"  # 这里我们对比urllib中少写了一个问号，我们看能否访问到\n",
    "\n",
    "headers = {\n",
    "    'User-Agent':'Mozilla/5.0 (Windows NT 10.0; Win64; x64) AppleWebKit/537.36 (KHTML, like Gecko) Chrome/124.0.0.0 Safari/537.36'\n",
    "}\n",
    "\n",
    "data = {\n",
    "    'q': '遂宁职业学院'\n",
    "}\n",
    "\n",
    "# 2. 模拟浏览器访问服务器数据\n",
    "response = requests.get(url=url, params=data, headers=headers)\n",
    "# 3. 获取响应数据\n",
    "content = response.text\n",
    "content"
   ]
  },
  {
   "cell_type": "markdown",
   "id": "6af856ec-e4b5-4a7d-b530-b636357fccd9",
   "metadata": {},
   "source": [
    "可以看到我们确实访问到了这个网页，并且将内容输出了，这里我们的url和data的关系就跟之前学过的urllib不一样了，之前我们在讲urllib中的get请求时，我们的url是有地址和参数拼接起来进行访问的，并且还需要将参数编码后拼接。但是在requests中，不是这样的，url是url，正常给这个网站的地址即可，而访问请求的参数由我们单独传入对应的参数为params。headers还是一样的headers。"
   ]
  },
  {
   "cell_type": "markdown",
   "id": "3c34b719-1929-4a43-ad6f-56265d820de9",
   "metadata": {},
   "source": [
    "小结：\n",
    "1. 这里的参数使用params传递\n",
    "2. 参数无需urlencode编码\n",
    "3. 不需要请求对象的定制\n",
    "4. 请求资源路径中的？我们可以省略也可以加上"
   ]
  },
  {
   "cell_type": "markdown",
   "id": "b8270805-267e-4cb4-ac19-c44c53d1a22e",
   "metadata": {},
   "source": [
    "## POST请求"
   ]
  },
  {
   "cell_type": "markdown",
   "id": "365754d9-6c2e-432c-8a2d-1c27339bc50e",
   "metadata": {},
   "source": [
    "我们通过在百度翻译翻译爬虫，获取爬虫的英文意思为例子，来获取搜寻到的结果"
   ]
  },
  {
   "cell_type": "code",
   "execution_count": 5,
   "id": "fbaaae91-a593-426f-af2a-b7b4521672d2",
   "metadata": {},
   "outputs": [],
   "source": [
    "import json"
   ]
  },
  {
   "cell_type": "code",
   "execution_count": 10,
   "id": "79a0fa26-4ec2-419a-a4c7-96bb813280a3",
   "metadata": {},
   "outputs": [
    {
     "data": {
      "text/plain": [
       "'{\"errno\":0,\"data\":[{\"k\":\"\\\\u722c\\\\u866b\",\"v\":\"reptile\"}],\"logid\":618987641}'"
      ]
     },
     "execution_count": 10,
     "metadata": {},
     "output_type": "execute_result"
    }
   ],
   "source": [
    "url = \"https://fanyi.baidu.com/sug\"\n",
    "headers = {\n",
    "     'User-Agent':'Mozilla/5.0 (Windows NT 10.0; Win64; x64) AppleWebKit/537.36 (KHTML, like Gecko) Chrome/124.0.0.0 Safari/537.36'\n",
    "}\n",
    "data = {\n",
    "    'kw' : '爬虫'\n",
    "}\n",
    "\n",
    "response = requests.post(url=url, data=data,headers=headers)\n",
    "\n",
    "content = response.text\n",
    "content"
   ]
  },
  {
   "cell_type": "code",
   "execution_count": 11,
   "id": "dc306178-b4cd-427d-8f6d-b1e1a59e61f6",
   "metadata": {},
   "outputs": [
    {
     "data": {
      "text/plain": [
       "{'errno': 0, 'data': [{'k': '爬虫', 'v': 'reptile'}], 'logid': 618987641}"
      ]
     },
     "execution_count": 11,
     "metadata": {},
     "output_type": "execute_result"
    }
   ],
   "source": [
    "obj = json.loads(content)\n",
    "obj"
   ]
  },
  {
   "cell_type": "markdown",
   "id": "0024e5fe-18c9-424d-99d7-89e60477f4f5",
   "metadata": {},
   "source": [
    "总结\n",
    "1. post请求，是不需要编解码\n",
    "2. post请求中的参数是data不是params\n",
    "3. 不需要请求对象的定制"
   ]
  },
  {
   "cell_type": "markdown",
   "id": "91fd20c0-c919-4ef4-8b14-2bce2ddb8157",
   "metadata": {},
   "source": [
    "## requests代理\n",
    "\n",
    "在urllib中我们使用代理，需要使用handler对象进行，使用起来不方便。在requests中我们使用代理非常方便"
   ]
  },
  {
   "cell_type": "code",
   "execution_count": 12,
   "id": "fc2fee37-8b62-486a-afcf-bba55683fa01",
   "metadata": {},
   "outputs": [],
   "source": [
    "import requests"
   ]
  },
  {
   "cell_type": "code",
   "execution_count": 15,
   "id": "e5dfe808-ceab-4534-857b-1a0795362e5f",
   "metadata": {},
   "outputs": [],
   "source": [
    "url = 'http://www.baidu.com/s?'\n",
    "\n",
    "headers = {\n",
    "    'User-Agent': 'Mozilla/5.0 (Windows NT 10.0; Win64; x64) AppleWebKit/537.36 (KHTML, like Gecko) Chrome/124.0.0.0 Safari/537.36',\n",
    "}\n",
    "\n",
    "data = {\n",
    "    'wd':'ip'\n",
    "}\n",
    "\n",
    "# 代理服务器的ip地址和端口号\n",
    "proxy = {\n",
    "    'http':'127.0.0.1:33210'\n",
    "}\n",
    "\n",
    "response = requests.get(url = url,params=data,headers = headers,proxies = proxy)  # get方法里面有一个参数是proxies 专门用来实现代理的\n",
    "\n",
    "content = response.text\n",
    "\n",
    "with open('./data/daili.html','w',encoding='utf-8')as fp:\n",
    "    fp.write(content)"
   ]
  },
  {
   "cell_type": "markdown",
   "id": "0bfb2cfb-0f52-4293-83cf-071ff00c8853",
   "metadata": {},
   "source": [
    "同样多个代理ip也都可以放在proxy中，在使用时，get方法会选择其中一个，帮我们剩下了自己随机筛选的步骤"
   ]
  },
  {
   "cell_type": "markdown",
   "id": "16a4f855-a6e4-4d01-90f6-2bf5e6516321",
   "metadata": {},
   "source": [
    "## cookie定制"
   ]
  },
  {
   "cell_type": "markdown",
   "id": "12951130-0dbd-4f2b-93c4-5f624e156c12",
   "metadata": {},
   "source": [
    "我们使用一个例子，配置好cookie提供正确的密码，并提供验证码来进入登录页面。"
   ]
  },
  {
   "cell_type": "markdown",
   "id": "38c21ff7-4a38-4d71-8c46-59bae3d24784",
   "metadata": {},
   "source": [
    "访问一个古诗文网站"
   ]
  },
  {
   "cell_type": "markdown",
   "id": "9f6ddce4-b5fc-4543-8a14-52d0b68ff2cb",
   "metadata": {},
   "source": [
    "我们通过错误的密码得到了发送登录请求的API，可以看到我们发送给服务器的内容有：\n",
    "通过找登陆接口我们发现 登陆的时候需要的参数很多\n",
    "\n",
    "    __VIEWSTATE: 439otpk9npQg/IVPQMyfgU2S9aNW1QEUs5ovrXW8v1uRYPg3Eb7laQkgEIL75IWbodMVmMZTLwHpijtWfplI77AnSSdjvDFkADpPYCb+pISPl2gsoL0xVMThARL2pZZT26vyl+YHHB6TsENE+y2gk/y43r0=\n",
    "    __VIEWSTATEGENERATOR: C93BE1AE\n",
    "    from: http://www.gushiwen.cn/user/collect.aspx\n",
    "    email: 2640981244@qq.com\n",
    "    pwd: 123456\n",
    "    code: URST\n",
    "    denglu: 登录"
   ]
  },
  {
   "cell_type": "code",
   "execution_count": 3,
   "id": "3ddac74e-c488-41ec-8d98-7910c3d4cbe5",
   "metadata": {},
   "outputs": [],
   "source": [
    "import requests\n",
    "from lxml import etree"
   ]
  },
  {
   "cell_type": "code",
   "execution_count": 5,
   "id": "118ac7ea-887e-4fdb-a53c-b96a33b57502",
   "metadata": {
    "scrolled": true
   },
   "outputs": [
    {
     "data": {
      "text/plain": [
       "'\\n<!DOCTYPE html PUBLIC \"-//W3C//DTD XHTML 1.0 Transitional//EN\" \"http://www.w3.org/TR/xhtml1/DTD/xhtml1-transitional.dtd\">\\n<html xmlns=\"http://www.w3.org/1999/xhtml\" id=\"html\">\\n<head><meta http-equiv=\"Cache-Control\" content=\"no-siteapp\" /><meta http-equiv=\"Cache-Control\" content=\"no-transform \" /><meta http-equiv=\"Content-Type\" content=\"text/html; charset=UTF-8\" /><title>\\n登录古诗文网\\n</title>\\n<script type=\"text/javascript\">if ((navigator.userAgent.match(/(phone|pad|pod|iPhone|iPod|ios|iPad|Android|Mobile|BlackBerry|IEMobile|MQQBrowser|JUC|Fennec|wOSBrowser|BrowserNG|WebOS|Symbian|Windows Phone)/i))) {window.location.href =\"https://m.gushiwen.cn/app/DefaultGwd.aspx\";} else {}\\n</script>\\n<link href=\"/user/reg.css\" rel=\"stylesheet\" type=\"text/css\" />\\n<script src=\"/js/Code.js\" type=\"text/javascript\"></script>\\n<script src=\"/js/jquery-3.2.1.min.js\" type=\"text/javascript\"></script>\\n<style type=\"text/css\">.hide-centerlogin{width:258px;height:250px;right:0;left:0;bottom:0;top:0;margin:auto;z-index:1;}.hide-centerlogin #formhead{width:220px;height:52px;margin:0;padding-top:12px;padding-bottom:-30px;border-top-left-radius:10px;border-top-right-radius:10px;background-color:#ffffff;}.hide-centerlogin #formhead-title{float:left;height:24px;color:#44b449;font-size:18px;font-weight:bold;margin-left:10px;margin-top:5px;}.hide-centerlogin #formbody{width:220px;height:210px;background-color:#1e1e1e;border-bottom-left-radius:10px;border-bottom-right-radius:10px;background-color:#ffffff;}.hide-centerlogin #formbody img{float:left;margin-left:10px;border-bottom-left-radius:10px;border-bottom-right-radius:10px;}</style>\\n<link href=\"/css/skinSo240518.css?time=240903\" rel=\"stylesheet\" type=\"text/css\" /><link href=\"/css/layui.css\" rel=\"stylesheet\" type=\"text/css\" />\\n<script src=\"/Js/jquery-3.2.1.min.js\" type=\"text/javascript\"></script>\\n<script src=\"/js/layui.js\" type=\"text/javascript\"></script>\\n<script type=\"text/javascript\">function deleteCookie(name,domain) {document.cookie =name + \\'=; expires=Thu, 01 Jan 1970 00:00:01 GMT; domain=\\' + domain + \\'; path=/\\';}\\ndeleteCookie(\"gsw2017user\",\"gushiwen.cn\");deleteCookie(\"wxopenid\",\"gushiwen.cn\");deleteCookie(\"ticketStr\",\"gushiwen.cn\");deleteCookie(\"gswEmail\",\"gushiwen.cn\");deleteCookie(\"gswPhone\",\"gushiwen.cn\");deleteCookie(\"idsAuthor2017\",\"gushiwen.cn\");deleteCookie(\"idsGuji2017\",\"gushiwen.cn\");deleteCookie(\"idsMingju2017\",\"gushiwen.cn\");deleteCookie(\"idsShiwen2017\",\"gushiwen.cn\");function getCookie(name) {var arr,reg =new RegExp(\"(^| )\" + name + \"=([^;]*)(;|$)\");if (arr =document.cookie.match(reg))\\nreturn unescape(arr[2]);else\\nreturn null;}\\n function selectLike(id) {document.getElementById(\\'likeImg\\' + id).name =parseInt(document.getElementById(\\'likeImg\\' + id).name) + 1;if (document.getElementById(\\'likeImg\\' + id).name ==\\'1\\') {var idsShigeLaiyo =getCookie(\\'idsShiwen2017\\');if (idsShigeLaiyo !=null &&idsShigeLaiyo !=\\'\\') {var ids =idsShigeLaiyo.split(\\',\\');for (var i =0;i < ids.length;i++) {if (ids[i] ==id) {document.getElementById(\\'likeImg\\' + id).src =\\'https://ziyuan.guwendao.net/siteimg/shou-cangok.png\\';document.getElementById(\\'likeImg\\' + id).alt =\\'已收藏\\';break;}\\n}\\n}\\n}\\n}\\n function selectLikeMingju(id) {document.getElementById(\\'likeImg\\' + id).name =parseInt(document.getElementById(\\'likeImg\\' + id).name) + 1;if (document.getElementById(\\'likeImg\\' + id).name ==\\'1\\') {var idsShigeLaiyo =getCookie(\\'idsMingju2017\\');if (idsShigeLaiyo !=null &&idsShigeLaiyo !=\\'\\') {var ids =idsShigeLaiyo.split(\\',\\');for (var i =0;i < ids.length;i++) {if (ids[i] ==id) {document.getElementById(\\'likeImg\\' + id).src =\\'https://ziyuan.guwendao.net/siteimg/shou-cangok.png\\';document.getElementById(\\'likeImg\\' + id).alt =\\'已收藏\\';break;}\\n}\\n}\\n}\\n}\\n function selectLikeAuthor(id) {document.getElementById(\\'likeImg\\' + id).name =parseInt(document.getElementById(\\'likeImg\\' + id).name) + 1;if (document.getElementById(\\'likeImg\\' + id).name ==\\'1\\') {var idsShigeLaiyo =getCookie(\\'idsAuthor2017\\');if (idsShigeLaiyo !=null &&idsShigeLaiyo !=\\'\\') {var ids =idsShigeLaiyo.split(\\',\\');for (var i =0;i < ids.length;i++) {if (ids[i] ==id) {document.getElementById(\\'likeImg\\' + id).src =\\'https://ziyuan.guwendao.net/siteimg/shou-cangok.png\\';document.getElementById(\\'likeImg\\' + id).alt =\\'已收藏\\';break;}\\n}\\n}\\n}\\n}\\n function selectLikeGuwen(id) {document.getElementById(\\'likeImg\\' + id).name =parseInt(document.getElementById(\\'likeImg\\' + id).name) + 1;if (document.getElementById(\\'likeImg\\' + id).name ==\\'1\\') {var idsShigeLaiyo =getCookie(\\'idsGuji2017\\');if (idsShigeLaiyo !=null &&idsShigeLaiyo !=\\'\\') {var ids =idsShigeLaiyo.split(\\',\\');for (var i =0;i < ids.length;i++) {if (ids[i] ==id) {document.getElementById(\\'likeImg\\' + id).src =\\'https://ziyuan.guwendao.net/siteimg/shou-cangok.png\\';document.getElementById(\\'likeImg\\' + id).alt =\\'已收藏\\';break;}\\n}\\n}\\n}\\n}\\n</script>\\n<script>var _hmt =_hmt ||[];(function () {var hm =document.createElement(\"script\");hm.src =\"//hm.baidu.com/hm.js?9007fab6814e892d3020a64454da5a55\";var s =document.getElementsByTagName(\"script\")[0];s.parentNode.insertBefore(hm,s);})();</script>\\n</head>\\n<body onclick=\"closeshowBos()\">\\n<div class=\"maintopbc\" style=\" height:45px; background:url(https://ziyuan.guwendao.net/siteimg/24jie/%e7%99%bd%e9%9c%b2small.jpg) top center no-repeat; background-size:cover;\">\\n<div class=\"maintop\" style=\"opacity:0.94;\">\\n<div class=\"cont\">\\n<div class=\"left\">\\n<a href=\"/\">古诗文网</a>\\n</div>\\n<div class=\"right\">\\n<div class=\"son1\">\\n<a style=\"margin-left:1px;\" href=\"/\">推荐</a>\\n<a href=\"/shiwens/\" style=\"border-bottom:3px solid #5D6146; font-weight:bold; line-height:45px; height:43px;\">诗文</a>\\n<a href=\"/mingjus/\">名句</a>\\n<a href=\"/authors/\">作者</a>\\n<a href=\"/guwen/\">古籍</a>\\n<a href=\"/user/collect.aspx\" rel=\"nofollow\" style=\"border-bottom:3px solid #5D6146; font-weight:bold; line-height:45px; height:43px;\">我的</a>\\n<a style=\"width:65px;\" href=\"/app/DefaultGwd.aspx\" target=\"_blank\">APP</a>\\n</div>\\n<div class=\"son2\">\\n<div class=\"search\">\\n<form action=\"/search.aspx\" onsubmit=\"return selectSearch()\" contentType=\"text/html; charset=utf-8\">\\n<input onkeydown=\"noajaxkeyUp()\" oninput=\"goshowBos()\" id=\"txtKey\" name=\"value\" type=\"text\" value=\"\" maxlength=\"40\" autocomplete=\"off\" style=\"height:25px; line-height:25px; float:left; padding-left:10px; width:255px; font-size:14px; clear:left; border:0px;\" />\\n<input style=\" display:none;\" id=\\'valuej\\' name=\"valuej\" value=\"\" />\\n<input type=\"submit\" style=\"float:right; width:23px; height:23px; clear:right; margin-top:2px; margin-right:4px; background-image:url(https://ziyuan.guwendao.net/siteimg/docSearch230511.png); background-repeat:no-repeat; background-size:23px 23px; border:0px;cursor:pointer;\" value=\"\" />\\n<input id=\"b\" style=\"display:none;\" type=\"text\" />\\n</form>\\n</div>\\n</div>\\n</div>\\n</div>\\n</div>\\n<div class=\"main3\">\\n<div style=\"width:300px; float:right;\">\\n<div id=\"box\"></div>\\n</div>\\n</div>\\n</div>\\n<form name=\"aspnetForm\" method=\"post\" action=\"./login.aspx?from=http%3a%2f%2fwww.gushiwen.cn%2fuser%2fcollect.aspx\" id=\"aspnetForm\" onsubmit=\"return testFrom()\">\\n<div>\\n<input type=\"hidden\" name=\"__VIEWSTATE\" id=\"__VIEWSTATE\" value=\"WesLQp1io2isCJkJmJE8nu8mkLOAzSxVJNF7v+xWL5KP+fVjZiZc4jQ7wr3IbJpDYbg8s+Vp1pK9gouN6JyC5lF/AvURzFck3iUKhFtRdjyhMbcXtjNnUOqGkzjmjfq8mZHlYxhWWNQDkej4FI4nkIMQ+ng=\" />\\n</div>\\n<div>\\n<input type=\"hidden\" name=\"__VIEWSTATEGENERATOR\" id=\"__VIEWSTATEGENERATOR\" value=\"C93BE1AE\" />\\n</div>\\n<div class=\"mainreg\"><span><b>快捷登录古诗文网（需启用cookie保存登录状态）</b></span>\\n</div>\\n<div class=\"mainreg2\">\\n<div id=\"leftLogin\" style=\" width:240px; height:300px; clear:both;margin-top:10px; float:left; margin-right:10px;\">\\n<div id=\"gzherweima\" class=\"overCurtain\"></div>\\n<div class=\"hide-centerlogin\">\\n<div id=\"formhead\">\\n<div id=\"formhead-title\">\\n<span style=\" font-size:18px; margin-left:45px;\">微信扫码登录</span>\\n<span style=\" clear:both; color:#999999; font-weight:normal; font-size:12px;margin-left:51px;\">首次需关注公众号</span>\\n</div>\\n</div>\\n<div id=\"formbody\">\\n<img width=\"200\" height=\"200\" src=\"https://mp.weixin.qq.com/cgi-bin/showqrcode?ticket=gQFU8DwAAAAAAAAAAS5odHRwOi8vd2VpeGluLnFxLmNvbS9xLzAyMXA4WlJybGVkN2kxZVdYaXhEMUEAAgS6butmAwQAjScA\" alt=\"\" />\\n</div>\\n</div>\\n<script>var timesRun =0;var intervalErweima =setInterval(\"selectErweima()\",\"3000\");function selectErweima() {timesRun =timesRun + 1;if (timesRun ==30) {$(\"#leftLogin\").fadeOut(\"slow\")\\nclearInterval(intervalErweima);intervalErweima =null;}\\n if (getCookie(\\'ticketStr\\') !=null &&getCookie(\\'ticketStr\\').indexOf(\"|\") >0) {var xmlhttp;if (window.XMLHttpRequest) {xmlhttp =new XMLHttpRequest();}\\nelse {xmlhttp =new ActiveXObject(\"Microsoft.XMLHTTP\");}\\nxmlhttp.onreadystatechange =function () {if (xmlhttp.readyState ==4 &&xmlhttp.status ==200) {if (xmlhttp.responseText ==\"1\") {window.location.href =\"http://www.gushiwen.cn/user/collect.aspx\";}\\n}\\n}\\nxmlhttp.open(\"POST\",\"/user/getEventLogin.aspx?scene_id=204977992\",false);xmlhttp.send();}\\n}\\n</script>\\n</div>\\n<div class=\"mainreg2\" style=\" width:600px; float:left;margin:auto;margin-top:10px; clear:none;\">\\n<span>账\\u3000号</span>\\n<input style=\"display:none;\" type=\"text\" id=\"from\" name=\"from\" value=\"http://www.gushiwen.cn/user/collect.aspx\" />\\n<input type=\"text\" id=\"email\" name=\"email\" onblur=\"testEmail()\" onfocus=\"onEmial()\" style=\" height:25px; width:250px; font-size:14px; line-height:25px; padding-left:5px; margin-left:10px; float:left;\" maxlength=\"50\" value=\"邮箱 / 手机号\" />\\n<span id=\"emailNo\" style=\"color:Red; margin-left:5px; display:none;\">ㄨ Email或手机号格式不正确</span>\\n</div>\\n<div class=\"mainreg2\" style=\" width:600px; float:left;margin:auto;margin-top:10px; clear:none;\">\\n<span>密\\u3000码</span>\\n<input type=\"password\" id=\"pwd\" name=\"pwd\" onblur=\"testPwd()\" onfocus=\"onPwd()\" style=\" height:25px; width:250px; font-size:14px; line-height:25px; padding-left:5px; margin-left:10px; float:left;\" maxlength=\"20\" value=\"\" />\\n<span id=\"pwdNo\" style=\"color:Red; margin-left:5px; display:none;\">ㄨ 长度为6~20个字符</span>\\n</div>\\n<div class=\"mainreg2\" style=\" width:600px; float:left;margin:auto;margin-top:10px; clear:none;\">\\n<span>验证码</span>\\n<input type=\"text\" id=\"code\" name=\"code\" style=\" height:25px; width:52px; font-size:14px; line-height:25px; padding-left:5px; margin-left:10px; float:left;\" maxlength=\"4\" value=\"\" />\\n<img id=\"imgCode\" style=\"cursor: pointer; float:left; margin-left:5px; margin-top:1px;\" width=\"60\" height=\"27\" src=\"/RandCode.ashx\" onclick=\"GetCodeImg()\" alt=\"看不清，换一张\" />\\n</div>\\n<div class=\"mainreg2\" style=\" width:600px; float:left;margin:auto;margin-top:10px; clear:none;\">\\n<span style=\"color:#E1E0C7;\">\\u3000\\u3000\\u3000</span>\\n<a href=\"/user/findpwd.aspx?from=http%3a%2f%2fwww.gushiwen.cn%2fuser%2fcollect.aspx\" style=\"float:left; margin-top:2px; margin-left:10px; font-size:12px; color:#676767;\">忘记密码</a>\\n<a style=\"float:left; margin-top:1px; margin-left:10px; font-size:12px; color:#676767;\">|</a>\\n<a href=\"/user/register.aspx?from=http%3a%2f%2fwww.gushiwen.cn%2fuser%2fcollect.aspx\" style=\"float:left; margin-top:2px; margin-left:10px; font-size:12px; color:#676767;\">马上注册</a>\\n</div>\\n<div class=\"mainreg2\" style=\" width:600px; float:left;margin:auto;margin-top:10px; clear:none;\">\\n<span style=\"color:#E1E0C7;\">\\u3000\\u3000\\u3000</span>\\n<input type=\"submit\" id=\"denglu\" name=\"denglu\" style=\" height:27px; border:0px; width:58px; font-size:14px; line-height:18px; margin-left:10px; float:left; cursor:pointer;background-color:#5d6146;color:#fff;-moz-border-radius:3px;-webkit-border-radius:3px;border-radius:3px;\" value=\"登录\" />\\n</div>\\n</div>\\n</form>\\n<script type=\"text/javascript\">var zhanghao =document.getElementById(\\'email\\');if (zhanghao.value ==\\'邮箱 / 手机号\\') {zhanghao.style.color =\\'#999999\\';}\\nfunction testEmail() {if (zhanghao.value ==\\'\\') {zhanghao.value =\\'邮箱 / 手机号\\';zhanghao.style.color =\\'#999999\\';}\\nvar str =document.getElementById(\\'email\\').value;var reg =/^([a-zA-Z0-9]+[_|\\\\_|\\\\.|\\\\-]?)*[a-zA-Z0-9]+@([a-zA-Z0-9]+[_|\\\\_|\\\\.|\\\\-]?)*[a-zA-Z0-9]+\\\\.[a-zA-Z]{2,3}$/;var reg2 =/^0?1[0-9][0-9]\\\\d{8}$/i;if (reg.test(str) ||reg2.test(str)) {document.getElementById(\\'emailNo\\').style.display =\\'none\\';}\\nelse {document.getElementById(\\'emailNo\\').style.display =\\'block\\';}\\n}\\nfunction onEmial() {zhanghao =document.getElementById(\\'email\\');if (zhanghao.value ==\\'邮箱 / 手机号\\') {zhanghao.value =\\'\\';zhanghao.style.color =\\'#0F0F0F\\';}\\ndocument.getElementById(\\'emailNo\\').style.display =\\'none\\';}\\nfunction testPwd() {var str =document.getElementById(\\'pwd\\').value;if (str.length < 6) {document.getElementById(\\'pwdNo\\').style.display =\\'block\\';}\\nelse {document.getElementById(\\'pwdNo\\').style.display =\\'none\\';}\\n}\\nfunction onPwd() {document.getElementById(\\'pwdNo\\').style.display =\\'none\\';}\\nfunction testFrom() {var str =document.getElementById(\\'email\\').value;var reg =/^([a-zA-Z0-9]+[_|\\\\_|\\\\.|\\\\-]?)*[a-zA-Z0-9]+@([a-zA-Z0-9]+[_|\\\\_|\\\\.|\\\\-]?)*[a-zA-Z0-9]+\\\\.[a-zA-Z]{2,3}$/;var reg2 =/^0?1[0-9][0-9]\\\\d{8}$/i;if (reg.test(str)==false &&reg2.test(str)==false) {document.getElementById(\\'emailNo\\').style.display =\\'block\\';return false;}\\nstr =document.getElementById(\\'pwd\\').value;if (str.length < 6) {document.getElementById(\\'pwdNo\\').style.display =\\'block\\';return false;}\\n}\\n</script>\\n<div class=\"main4\">\\n© 2024 <a href=\"/\">古诗文网</a> | <a href=\"/shiwens/\">诗文</a> | <a href=\"/mingjus/\">名句</a> | <a href=\"/authors/\">作者</a> | <a href=\"/guwen/\">古籍</a> | <a href=\"/jiucuo.aspx?u=\" target=\"_blank\" rel=\"nofollow\">纠错</a>\\n</div>\\n<script type=\"text/javascript\">window.onload =function () {setIframeHeight(document.getElementById(\\'external-frame\\'));};if (getCookie(\\'gsw2017user\\') !=null &&getCookie(\\'gsw2017user\\').split(\\'|\\').length >=3) {var userDate =getCookie(\\'gsw2017user\\').split(\\'|\\')[2];var myDate =new Date(userDate);var now =new Date();if (myDate >=now) {for (var i =0;i < document.getElementsByClassName(\"abcd\").length;i++) {document.getElementsByClassName(\"abcd\")[i].style.display =\\'none\\';}\\n}\\nif (getCookie(\\'gsw2017user\\').split(\\'|\\').length >=4) {userDate =getCookie(\\'gsw2017user\\').split(\\'|\\')[3];myDate =new Date(userDate);if (myDate >=now) {for (var i =0;i < document.getElementsByClassName(\"abcd\").length;i++) {document.getElementsByClassName(\"abcd\")[i].style.display =\\'none\\';}\\n}\\n}\\n}\\n</script>\\n<script defer=\"defer\" src=\"/js/skinwww240229.js?time=20240726\" type=\"text/javascript\"></script>\\n<script defer=\"defer\" src=\"/js/listenerPlay.js?time=20240726\" type=\"text/javascript\"></script>\\n</body>\\n</html>\\n'"
      ]
     },
     "execution_count": 5,
     "metadata": {},
     "output_type": "execute_result"
    }
   ],
   "source": [
    "\n",
    "# 登录界面的url\n",
    "url = 'https://www.gushiwen.cn/user/login.aspx?from=http://www.gushiwen.cn/user/collect.aspx'\n",
    "\n",
    "headers = {\n",
    "    'User-Agent':'Mozilla/5.0 (Windows NT 10.0; Win64; x64) AppleWebKit/537.36 (KHTML, like Gecko) Chrome/124.0.0.0 Safari/537.36'\n",
    "}\n",
    "\n",
    "# data = {\n",
    "    \n",
    "# }\n",
    "\n",
    "response = requests.post(url=url, headers=headers)\n",
    "content = response.text\n",
    "content"
   ]
  },
  {
   "cell_type": "code",
   "execution_count": 8,
   "id": "6c4ee542-8ea7-40ea-b631-e55353b6f3cf",
   "metadata": {},
   "outputs": [
    {
     "data": {
      "text/plain": [
       "'WesLQp1io2isCJkJmJE8nu8mkLOAzSxVJNF7v+xWL5KP+fVjZiZc4jQ7wr3IbJpDYbg8s+Vp1pK9gouN6JyC5lF/AvURzFck3iUKhFtRdjyhMbcXtjNnUOqGkzjmjfq8mZHlYxhWWNQDkej4FI4nkIMQ+ng='"
      ]
     },
     "execution_count": 8,
     "metadata": {},
     "output_type": "execute_result"
    }
   ],
   "source": [
    "tree = etree.HTML(content)\n",
    "view_state = tree.xpath('//input[@id=\"__VIEWSTATE\"]/@value')[0]\n",
    "view_state"
   ]
  },
  {
   "cell_type": "code",
   "execution_count": 9,
   "id": "84ebe5e7-b880-4736-bdbe-c4383a7a36fc",
   "metadata": {},
   "outputs": [
    {
     "data": {
      "text/plain": [
       "['C93BE1AE']"
      ]
     },
     "execution_count": 9,
     "metadata": {},
     "output_type": "execute_result"
    }
   ],
   "source": [
    "view_state_generator = tree.xpath('//input[@id=\"__VIEWSTATEGENERATOR\"]/@value')\n",
    "view_state_generator"
   ]
  },
  {
   "cell_type": "markdown",
   "id": "aa12a3dc-89ea-4d54-b24e-138f714f01d0",
   "metadata": {},
   "source": [
    "其它的信息就是固定的了，这里我们使用了一个错误的密码，在用程序发送请求的时候，把pwd改成正确的密码即可\n",
    "\n",
    "    from: http://www.gushiwen.cn/user/collect.aspx\n",
    "    email: 2640981244@qq.com\n",
    "    pwd: 123456\n",
    "    code: URST\n",
    "    denglu: 登录\n"
   ]
  },
  {
   "cell_type": "code",
   "execution_count": 11,
   "id": "66717988-76b6-4ced-a95a-c1895f64086c",
   "metadata": {},
   "outputs": [],
   "source": [
    "# 登录请求需要的数据\n",
    "data_post = {\n",
    "    '__VIEWSTATE':view_state,\n",
    "    '__VIEWSTATEGENERATOR':view_state_generator,\n",
    "    'from': 'http://www.gushiwen.cn/user/collect.aspx',\n",
    "    'email': '2640981244@qq.com',\n",
    "    'pwd': 'adminadmin',  # 这是正确的密码\n",
    "    'code': '',  # 这里是验证码的位置\n",
    "    'denglu': '登录'\n",
    "}"
   ]
  },
  {
   "cell_type": "markdown",
   "id": "40ee2cb8-98b8-4faa-bfda-645c7c6517f5",
   "metadata": {},
   "source": [
    "在登录请求的数据中，我们只差验证码信息，就可以获取完整的登录请求的数据了，我们可以通过解析源代码，将该验证码图片下载下来，然后查看后填写验证码传入程序中"
   ]
  },
  {
   "cell_type": "code",
   "execution_count": 23,
   "id": "3b309cf3-b19b-4512-ad50-8fb95a1e95b8",
   "metadata": {},
   "outputs": [
    {
     "data": {
      "text/plain": [
       "'https://www.gushiwen.cn/RandCode.ashx'"
      ]
     },
     "execution_count": 23,
     "metadata": {},
     "output_type": "execute_result"
    }
   ],
   "source": [
    "code_jpg = tree.xpath('//img[@id=\"imgCode\"]/@src')[0]\n",
    "\n",
    "url_code = 'https://www.gushiwen.cn' + code_jpg\n",
    "url_code"
   ]
  },
  {
   "cell_type": "markdown",
   "id": "e8588c79-9871-4c2e-944f-2ff117a4ab02",
   "metadata": {},
   "source": [
    "获取了验证码图片的url地址后，我们就可以发送请求把图片下载下来，然后查看验证码，并填写code，就可完整的得到登录请求的数据(这是错误的，但是我们也要尝试)"
   ]
  },
  {
   "cell_type": "code",
   "execution_count": 31,
   "id": "c1bf1c8b-1ae8-4884-8140-db9866705de3",
   "metadata": {},
   "outputs": [
    {
     "name": "stdout",
     "output_type": "stream",
     "text": [
      "验证码下载成功\n"
     ]
    }
   ],
   "source": [
    "response_code= requests.get(url=url_code, headers=headers)\n",
    "try:\n",
    "    with open('./data/古诗文网验证码.jpg','wb') as fp:\n",
    "        fp.write(response_code.content)\n",
    "    print(\"验证码下载成功\")\n",
    "except Exception as e:\n",
    "    print(\"验证码下载失败\")\n",
    "    print(\"错误信息为：\" + str(e))"
   ]
  },
  {
   "cell_type": "code",
   "execution_count": 32,
   "id": "a91ee039-9e83-4ecc-b5da-a784092e04c4",
   "metadata": {},
   "outputs": [
    {
     "name": "stdin",
     "output_type": "stream",
     "text": [
      "请输入验证码： BHCV\n"
     ]
    }
   ],
   "source": [
    "code = str(input(\"请输入验证码：\"))"
   ]
  },
  {
   "cell_type": "code",
   "execution_count": 33,
   "id": "26c8126f-92c2-43b0-819c-97e54db24136",
   "metadata": {},
   "outputs": [],
   "source": [
    "# 登录请求需要的数据完整\n",
    "data_post = {\n",
    "    '__VIEWSTATE':view_state,\n",
    "    '__VIEWSTATEGENERATOR':view_state_generator,\n",
    "    'from': 'http://www.gushiwen.cn/user/collect.aspx',\n",
    "    'email': '2640981244@qq.com',\n",
    "    'pwd': 'adminadmin',  # 这是正确的密码\n",
    "    'code': code,  # 这里是验证码的位置\n",
    "    'denglu': '登录'\n",
    "}"
   ]
  },
  {
   "cell_type": "code",
   "execution_count": 34,
   "id": "bd5a01b1-2a2e-431e-8462-d122154c2de0",
   "metadata": {
    "scrolled": true
   },
   "outputs": [
    {
     "data": {
      "text/plain": [
       "'\\n<!DOCTYPE html PUBLIC \"-//W3C//DTD XHTML 1.0 Transitional//EN\" \"http://www.w3.org/TR/xhtml1/DTD/xhtml1-transitional.dtd\">\\n<html xmlns=\"http://www.w3.org/1999/xhtml\" id=\"html\">\\n<head><meta http-equiv=\"Cache-Control\" content=\"no-siteapp\" /><meta http-equiv=\"Cache-Control\" content=\"no-transform \" /><meta http-equiv=\"Content-Type\" content=\"text/html; charset=UTF-8\" /><title>\\n登录古诗文网\\n</title>\\n<script type=\"text/javascript\">if ((navigator.userAgent.match(/(phone|pad|pod|iPhone|iPod|ios|iPad|Android|Mobile|BlackBerry|IEMobile|MQQBrowser|JUC|Fennec|wOSBrowser|BrowserNG|WebOS|Symbian|Windows Phone)/i))) {window.location.href =\"https://m.gushiwen.cn/app/DefaultGwd.aspx\";} else {}\\n</script>\\n<link href=\"/user/reg.css\" rel=\"stylesheet\" type=\"text/css\" />\\n<script src=\"/js/Code.js\" type=\"text/javascript\"></script>\\n<script src=\"/js/jquery-3.2.1.min.js\" type=\"text/javascript\"></script>\\n<style type=\"text/css\">.hide-centerlogin{width:258px;height:250px;right:0;left:0;bottom:0;top:0;margin:auto;z-index:1;}.hide-centerlogin #formhead{width:220px;height:52px;margin:0;padding-top:12px;padding-bottom:-30px;border-top-left-radius:10px;border-top-right-radius:10px;background-color:#ffffff;}.hide-centerlogin #formhead-title{float:left;height:24px;color:#44b449;font-size:18px;font-weight:bold;margin-left:10px;margin-top:5px;}.hide-centerlogin #formbody{width:220px;height:210px;background-color:#1e1e1e;border-bottom-left-radius:10px;border-bottom-right-radius:10px;background-color:#ffffff;}.hide-centerlogin #formbody img{float:left;margin-left:10px;border-bottom-left-radius:10px;border-bottom-right-radius:10px;}</style>\\n<link href=\"/css/skinSo240518.css?time=240903\" rel=\"stylesheet\" type=\"text/css\" /><link href=\"/css/layui.css\" rel=\"stylesheet\" type=\"text/css\" />\\n<script src=\"/Js/jquery-3.2.1.min.js\" type=\"text/javascript\"></script>\\n<script src=\"/js/layui.js\" type=\"text/javascript\"></script>\\n<script type=\"text/javascript\">function deleteCookie(name,domain) {document.cookie =name + \\'=; expires=Thu, 01 Jan 1970 00:00:01 GMT; domain=\\' + domain + \\'; path=/\\';}\\ndeleteCookie(\"gsw2017user\",\"gushiwen.cn\");deleteCookie(\"wxopenid\",\"gushiwen.cn\");deleteCookie(\"ticketStr\",\"gushiwen.cn\");deleteCookie(\"gswEmail\",\"gushiwen.cn\");deleteCookie(\"gswPhone\",\"gushiwen.cn\");deleteCookie(\"idsAuthor2017\",\"gushiwen.cn\");deleteCookie(\"idsGuji2017\",\"gushiwen.cn\");deleteCookie(\"idsMingju2017\",\"gushiwen.cn\");deleteCookie(\"idsShiwen2017\",\"gushiwen.cn\");function getCookie(name) {var arr,reg =new RegExp(\"(^| )\" + name + \"=([^;]*)(;|$)\");if (arr =document.cookie.match(reg))\\nreturn unescape(arr[2]);else\\nreturn null;}\\n function selectLike(id) {document.getElementById(\\'likeImg\\' + id).name =parseInt(document.getElementById(\\'likeImg\\' + id).name) + 1;if (document.getElementById(\\'likeImg\\' + id).name ==\\'1\\') {var idsShigeLaiyo =getCookie(\\'idsShiwen2017\\');if (idsShigeLaiyo !=null &&idsShigeLaiyo !=\\'\\') {var ids =idsShigeLaiyo.split(\\',\\');for (var i =0;i < ids.length;i++) {if (ids[i] ==id) {document.getElementById(\\'likeImg\\' + id).src =\\'https://ziyuan.guwendao.net/siteimg/shou-cangok.png\\';document.getElementById(\\'likeImg\\' + id).alt =\\'已收藏\\';break;}\\n}\\n}\\n}\\n}\\n function selectLikeMingju(id) {document.getElementById(\\'likeImg\\' + id).name =parseInt(document.getElementById(\\'likeImg\\' + id).name) + 1;if (document.getElementById(\\'likeImg\\' + id).name ==\\'1\\') {var idsShigeLaiyo =getCookie(\\'idsMingju2017\\');if (idsShigeLaiyo !=null &&idsShigeLaiyo !=\\'\\') {var ids =idsShigeLaiyo.split(\\',\\');for (var i =0;i < ids.length;i++) {if (ids[i] ==id) {document.getElementById(\\'likeImg\\' + id).src =\\'https://ziyuan.guwendao.net/siteimg/shou-cangok.png\\';document.getElementById(\\'likeImg\\' + id).alt =\\'已收藏\\';break;}\\n}\\n}\\n}\\n}\\n function selectLikeAuthor(id) {document.getElementById(\\'likeImg\\' + id).name =parseInt(document.getElementById(\\'likeImg\\' + id).name) + 1;if (document.getElementById(\\'likeImg\\' + id).name ==\\'1\\') {var idsShigeLaiyo =getCookie(\\'idsAuthor2017\\');if (idsShigeLaiyo !=null &&idsShigeLaiyo !=\\'\\') {var ids =idsShigeLaiyo.split(\\',\\');for (var i =0;i < ids.length;i++) {if (ids[i] ==id) {document.getElementById(\\'likeImg\\' + id).src =\\'https://ziyuan.guwendao.net/siteimg/shou-cangok.png\\';document.getElementById(\\'likeImg\\' + id).alt =\\'已收藏\\';break;}\\n}\\n}\\n}\\n}\\n function selectLikeGuwen(id) {document.getElementById(\\'likeImg\\' + id).name =parseInt(document.getElementById(\\'likeImg\\' + id).name) + 1;if (document.getElementById(\\'likeImg\\' + id).name ==\\'1\\') {var idsShigeLaiyo =getCookie(\\'idsGuji2017\\');if (idsShigeLaiyo !=null &&idsShigeLaiyo !=\\'\\') {var ids =idsShigeLaiyo.split(\\',\\');for (var i =0;i < ids.length;i++) {if (ids[i] ==id) {document.getElementById(\\'likeImg\\' + id).src =\\'https://ziyuan.guwendao.net/siteimg/shou-cangok.png\\';document.getElementById(\\'likeImg\\' + id).alt =\\'已收藏\\';break;}\\n}\\n}\\n}\\n}\\n</script>\\n<script>var _hmt =_hmt ||[];(function () {var hm =document.createElement(\"script\");hm.src =\"//hm.baidu.com/hm.js?9007fab6814e892d3020a64454da5a55\";var s =document.getElementsByTagName(\"script\")[0];s.parentNode.insertBefore(hm,s);})();</script>\\n</head>\\n<body onclick=\"closeshowBos()\">\\n<div class=\"maintopbc\" style=\" height:45px; background:url(https://ziyuan.guwendao.net/siteimg/24jie/%e7%99%bd%e9%9c%b2small.jpg) top center no-repeat; background-size:cover;\">\\n<div class=\"maintop\" style=\"opacity:0.94;\">\\n<div class=\"cont\">\\n<div class=\"left\">\\n<a href=\"/\">古诗文网</a>\\n</div>\\n<div class=\"right\">\\n<div class=\"son1\">\\n<a style=\"margin-left:1px;\" href=\"/\">推荐</a>\\n<a href=\"/shiwens/\" style=\"border-bottom:3px solid #5D6146; font-weight:bold; line-height:45px; height:43px;\">诗文</a>\\n<a href=\"/mingjus/\">名句</a>\\n<a href=\"/authors/\">作者</a>\\n<a href=\"/guwen/\">古籍</a>\\n<a href=\"/user/collect.aspx\" rel=\"nofollow\" style=\"border-bottom:3px solid #5D6146; font-weight:bold; line-height:45px; height:43px;\">我的</a>\\n<a style=\"width:65px;\" href=\"/app/DefaultGwd.aspx\" target=\"_blank\">APP</a>\\n</div>\\n<div class=\"son2\">\\n<div class=\"search\">\\n<form action=\"/search.aspx\" onsubmit=\"return selectSearch()\" contentType=\"text/html; charset=utf-8\">\\n<input onkeydown=\"noajaxkeyUp()\" oninput=\"goshowBos()\" id=\"txtKey\" name=\"value\" type=\"text\" value=\"\" maxlength=\"40\" autocomplete=\"off\" style=\"height:25px; line-height:25px; float:left; padding-left:10px; width:255px; font-size:14px; clear:left; border:0px;\" />\\n<input style=\" display:none;\" id=\\'valuej\\' name=\"valuej\" value=\"\" />\\n<input type=\"submit\" style=\"float:right; width:23px; height:23px; clear:right; margin-top:2px; margin-right:4px; background-image:url(https://ziyuan.guwendao.net/siteimg/docSearch230511.png); background-repeat:no-repeat; background-size:23px 23px; border:0px;cursor:pointer;\" value=\"\" />\\n<input id=\"b\" style=\"display:none;\" type=\"text\" />\\n</form>\\n</div>\\n</div>\\n</div>\\n</div>\\n</div>\\n<div class=\"main3\">\\n<div style=\"width:300px; float:right;\">\\n<div id=\"box\"></div>\\n</div>\\n</div>\\n</div>\\n<form name=\"aspnetForm\" method=\"post\" action=\"./login.aspx?from=http%3a%2f%2fwww.gushiwen.cn%2fuser%2fcollect.aspx\" id=\"aspnetForm\" onsubmit=\"return testFrom()\">\\n<div>\\n<input type=\"hidden\" name=\"__VIEWSTATE\" id=\"__VIEWSTATE\" value=\"6yjTiDwT3B7pdcDmeF0TT5g4LoZxkMtqfITOf741AkMU5BX7tqLCkns5Xy6SsQZ5lMNZ4Hp49ckLpUXHu4gbQQUH3UOUP5y2JX7vQ5ZVcyRrzwtAhXngdtkEepCE8M6rkna0rrQWpKUDSCZoTI6xoeT0quM=\" />\\n</div>\\n<div>\\n<input type=\"hidden\" name=\"__VIEWSTATEGENERATOR\" id=\"__VIEWSTATEGENERATOR\" value=\"C93BE1AE\" />\\n</div>\\n<div class=\"mainreg\"><span><b>快捷登录古诗文网</b></span>\\n</div>\\n<div class=\"mainreg2\">\\n<div id=\"leftLogin\" style=\" width:240px; height:300px; clear:both;margin-top:10px; float:left; margin-right:10px;\">\\n</div>\\n<div class=\"mainreg2\" style=\" width:600px; float:left;margin:auto;margin-top:10px; clear:none;\">\\n<span>账\\u3000号</span>\\n<input style=\"display:none;\" type=\"text\" id=\"from\" name=\"from\" value=\"http://www.gushiwen.cn/user/collect.aspx\" />\\n<input type=\"text\" id=\"email\" name=\"email\" onblur=\"testEmail()\" onfocus=\"onEmial()\" style=\" height:25px; width:250px; font-size:14px; line-height:25px; padding-left:5px; margin-left:10px; float:left;\" maxlength=\"50\" value=\"\" />\\n<span id=\"emailNo\" style=\"color:Red; margin-left:5px; display:none;\">ㄨ Email或手机号格式不正确</span>\\n</div>\\n<div class=\"mainreg2\" style=\" width:600px; float:left;margin:auto;margin-top:10px; clear:none;\">\\n<span>密\\u3000码</span>\\n<input type=\"password\" id=\"pwd\" name=\"pwd\" onblur=\"testPwd()\" onfocus=\"onPwd()\" style=\" height:25px; width:250px; font-size:14px; line-height:25px; padding-left:5px; margin-left:10px; float:left;\" maxlength=\"20\" value=\"\" />\\n<span id=\"pwdNo\" style=\"color:Red; margin-left:5px; display:none;\">ㄨ 长度为6~20个字符</span>\\n</div>\\n<div class=\"mainreg2\" style=\" width:600px; float:left;margin:auto;margin-top:10px; clear:none;\">\\n<span>验证码</span>\\n<input type=\"text\" id=\"code\" name=\"code\" style=\" height:25px; width:52px; font-size:14px; line-height:25px; padding-left:5px; margin-left:10px; float:left;\" maxlength=\"4\" value=\"\" />\\n<img id=\"imgCode\" style=\"cursor: pointer; float:left; margin-left:5px; margin-top:1px;\" width=\"60\" height=\"27\" src=\"/RandCode.ashx\" onclick=\"GetCodeImg()\" alt=\"看不清，换一张\" />\\n</div>\\n<div class=\"mainreg2\" style=\" width:600px; float:left;margin:auto;margin-top:10px; clear:none;\">\\n<span style=\"color:#E1E0C7;\">\\u3000\\u3000\\u3000</span>\\n<a href=\"/user/findpwd.aspx?from=http%3a%2f%2fwww.gushiwen.cn%2fuser%2fcollect.aspx\" style=\"float:left; margin-top:2px; margin-left:10px; font-size:12px; color:#676767;\">忘记密码</a>\\n<a style=\"float:left; margin-top:1px; margin-left:10px; font-size:12px; color:#676767;\">|</a>\\n<a href=\"/user/register.aspx?from=http%3a%2f%2fwww.gushiwen.cn%2fuser%2fcollect.aspx\" style=\"float:left; margin-top:2px; margin-left:10px; font-size:12px; color:#676767;\">马上注册</a>\\n</div>\\n<div class=\"mainreg2\" style=\" width:600px; float:left;margin:auto;margin-top:10px; clear:none;\">\\n<span style=\"color:#E1E0C7;\">\\u3000\\u3000\\u3000</span>\\n<input type=\"submit\" id=\"denglu\" name=\"denglu\" style=\" height:27px; border:0px; width:58px; font-size:14px; line-height:18px; margin-left:10px; float:left; cursor:pointer;background-color:#5d6146;color:#fff;-moz-border-radius:3px;-webkit-border-radius:3px;border-radius:3px;\" value=\"登录\" />\\n</div>\\n</div>\\n<script>alert(\\'提交失败，您输入的验证码有误！\\');history.back();</script></form>\\n<script type=\"text/javascript\">var zhanghao =document.getElementById(\\'email\\');if (zhanghao.value ==\\'邮箱 / 手机号\\') {zhanghao.style.color =\\'#999999\\';}\\nfunction testEmail() {if (zhanghao.value ==\\'\\') {zhanghao.value =\\'邮箱 / 手机号\\';zhanghao.style.color =\\'#999999\\';}\\nvar str =document.getElementById(\\'email\\').value;var reg =/^([a-zA-Z0-9]+[_|\\\\_|\\\\.|\\\\-]?)*[a-zA-Z0-9]+@([a-zA-Z0-9]+[_|\\\\_|\\\\.|\\\\-]?)*[a-zA-Z0-9]+\\\\.[a-zA-Z]{2,3}$/;var reg2 =/^0?1[0-9][0-9]\\\\d{8}$/i;if (reg.test(str) ||reg2.test(str)) {document.getElementById(\\'emailNo\\').style.display =\\'none\\';}\\nelse {document.getElementById(\\'emailNo\\').style.display =\\'block\\';}\\n}\\nfunction onEmial() {zhanghao =document.getElementById(\\'email\\');if (zhanghao.value ==\\'邮箱 / 手机号\\') {zhanghao.value =\\'\\';zhanghao.style.color =\\'#0F0F0F\\';}\\ndocument.getElementById(\\'emailNo\\').style.display =\\'none\\';}\\nfunction testPwd() {var str =document.getElementById(\\'pwd\\').value;if (str.length < 6) {document.getElementById(\\'pwdNo\\').style.display =\\'block\\';}\\nelse {document.getElementById(\\'pwdNo\\').style.display =\\'none\\';}\\n}\\nfunction onPwd() {document.getElementById(\\'pwdNo\\').style.display =\\'none\\';}\\nfunction testFrom() {var str =document.getElementById(\\'email\\').value;var reg =/^([a-zA-Z0-9]+[_|\\\\_|\\\\.|\\\\-]?)*[a-zA-Z0-9]+@([a-zA-Z0-9]+[_|\\\\_|\\\\.|\\\\-]?)*[a-zA-Z0-9]+\\\\.[a-zA-Z]{2,3}$/;var reg2 =/^0?1[0-9][0-9]\\\\d{8}$/i;if (reg.test(str)==false &&reg2.test(str)==false) {document.getElementById(\\'emailNo\\').style.display =\\'block\\';return false;}\\nstr =document.getElementById(\\'pwd\\').value;if (str.length < 6) {document.getElementById(\\'pwdNo\\').style.display =\\'block\\';return false;}\\n}\\n</script>\\n<div class=\"main4\">\\n© 2024 <a href=\"/\">古诗文网</a> | <a href=\"/shiwens/\">诗文</a> | <a href=\"/mingjus/\">名句</a> | <a href=\"/authors/\">作者</a> | <a href=\"/guwen/\">古籍</a> | <a href=\"/jiucuo.aspx?u=\" target=\"_blank\" rel=\"nofollow\">纠错</a>\\n</div>\\n<script type=\"text/javascript\">window.onload =function () {setIframeHeight(document.getElementById(\\'external-frame\\'));};if (getCookie(\\'gsw2017user\\') !=null &&getCookie(\\'gsw2017user\\').split(\\'|\\').length >=3) {var userDate =getCookie(\\'gsw2017user\\').split(\\'|\\')[2];var myDate =new Date(userDate);var now =new Date();if (myDate >=now) {for (var i =0;i < document.getElementsByClassName(\"abcd\").length;i++) {document.getElementsByClassName(\"abcd\")[i].style.display =\\'none\\';}\\n}\\nif (getCookie(\\'gsw2017user\\').split(\\'|\\').length >=4) {userDate =getCookie(\\'gsw2017user\\').split(\\'|\\')[3];myDate =new Date(userDate);if (myDate >=now) {for (var i =0;i < document.getElementsByClassName(\"abcd\").length;i++) {document.getElementsByClassName(\"abcd\")[i].style.display =\\'none\\';}\\n}\\n}\\n}\\n</script>\\n<script defer=\"defer\" src=\"/js/skinwww240229.js?time=20240726\" type=\"text/javascript\"></script>\\n<script defer=\"defer\" src=\"/js/listenerPlay.js?time=20240726\" type=\"text/javascript\"></script>\\n</body>\\n</html>\\n'"
      ]
     },
     "execution_count": 34,
     "metadata": {},
     "output_type": "execute_result"
    }
   ],
   "source": [
    "# 发送登录请求的url\n",
    "url_post = 'https://www.gushiwen.cn/user/login.aspx?from=http%3a%2f%2fwww.gushiwen.cn%2fuser%2fcollect.aspx'\n",
    "\n",
    "response = requests.post(url=url_post, headers=headers, data=data_post)\n",
    "content = response.text\n",
    "content"
   ]
  },
  {
   "cell_type": "markdown",
   "id": "1d42b988-152a-4c4a-958d-56429e892758",
   "metadata": {},
   "source": [
    "通过上述获取到的源码，我们能看到，我们并没有进去，我们这个提交失败了，说我们的验证码有误，那为什么有误"
   ]
  },
  {
   "cell_type": "markdown",
   "id": "0518628d-8883-4bc0-a0d7-e94ec588467b",
   "metadata": {},
   "source": [
    "分析：由于我们获取验证码是单独发送的一次请求，而验证码每次发送请求返回的图片都不一样，所以我们单独发送一次请求和我们实际登录发送的请求是不一样的，实际登录发送的请求里面的验证码跟单独发送获取的验证码不一样，所以会出现验证码有误的情况。\n",
    "\n",
    "所以上述方式是无法访问的，我们需要借助requests里面的一个session方法，它可以将请求变成一个对象，就能保证我们登录发送的请求和获取验证码的请求是同一个请求"
   ]
  },
  {
   "cell_type": "code",
   "execution_count": 30,
   "id": "8f171044-d76b-440d-a3dd-7ad37575740c",
   "metadata": {},
   "outputs": [
    {
     "data": {
      "text/plain": [
       "<requests.sessions.Session at 0x230e1bbf250>"
      ]
     },
     "execution_count": 30,
     "metadata": {},
     "output_type": "execute_result"
    }
   ],
   "source": [
    "session = requests.session()  # 一个请求对象\n",
    "session"
   ]
  },
  {
   "cell_type": "code",
   "execution_count": 36,
   "id": "edec3c5e-9135-4604-ab2e-0a2d8d48d851",
   "metadata": {},
   "outputs": [
    {
     "name": "stdout",
     "output_type": "stream",
     "text": [
      "验证码下载成功\n"
     ]
    }
   ],
   "source": [
    "response_code = session.get(url=url_code, headers=headers)\n",
    "try:\n",
    "    with open('./data/古诗文网验证码.jpg','wb') as fp:\n",
    "        fp.write(response_code.content)\n",
    "    print('验证码下载成功')\n",
    "except Exception as e:\n",
    "    print(\"验证码下载失败，错误信息为\" + str(e))"
   ]
  },
  {
   "cell_type": "code",
   "execution_count": 37,
   "id": "c58f0882-816b-49e5-b079-ceef7e4d4e07",
   "metadata": {},
   "outputs": [
    {
     "name": "stdin",
     "output_type": "stream",
     "text": [
      "请输入验证码： CF8U\n"
     ]
    }
   ],
   "source": [
    "code = str(input(\"请输入验证码：\"))"
   ]
  },
  {
   "cell_type": "code",
   "execution_count": 38,
   "id": "16fb072b-1a50-4ace-b1ec-6b2fce224a09",
   "metadata": {},
   "outputs": [],
   "source": [
    "# 登录请求需要的数据完整\n",
    "data_post = {\n",
    "    '__VIEWSTATE':view_state,\n",
    "    '__VIEWSTATEGENERATOR':view_state_generator,\n",
    "    'from': 'http://www.gushiwen.cn/user/collect.aspx',\n",
    "    'email': '2640981244@qq.com',\n",
    "    'pwd': 'adminadmin',  # 这是正确的密码\n",
    "    'code': code,  # 这里是验证码的位置\n",
    "    'denglu': '登录'\n",
    "}"
   ]
  },
  {
   "cell_type": "code",
   "execution_count": 39,
   "id": "81c4e044-ac71-456d-acd9-060277ace055",
   "metadata": {},
   "outputs": [
    {
     "data": {
      "text/plain": [
       "'\\n<!DOCTYPE html PUBLIC \"-//W3C//DTD XHTML 1.0 Transitional//EN\" \"http://www.w3.org/TR/xhtml1/DTD/xhtml1-transitional.dtd\">\\n<html xmlns=\"http://www.w3.org/1999/xhtml\" id=\"html\">\\n<head><meta http-equiv=\"Cache-Control\" content=\"no-siteapp\" /><meta http-equiv=\"Cache-Control\" content=\"no-transform \" /><meta http-equiv=\"Content-Type\" content=\"text/html; charset=UTF-8\" /><title>\\n我的收藏_古诗文网\\n</title>\\n<script src=\"/js/jquery-3.2.1.min.js\" type=\"text/javascript\"></script>\\n<style type=\"text/css\">.mainshoucang{width:870px;height:34px;line-height:34px;border-bottom:1px solid #d7d5bc;overflow:hidden;float:left;clear:left;}.mainshoucang span{float:right;margin-top:15px;margin-left:5px;color:#65645F;}.mainshoucang a{float:right;margin-top:15px;margin-left:5px;}</style>\\n<link href=\"/css/skinSo240518.css?time=240903\" rel=\"stylesheet\" type=\"text/css\" /><link href=\"/css/layui.css\" rel=\"stylesheet\" type=\"text/css\" />\\n<script src=\"/Js/jquery-3.2.1.min.js\" type=\"text/javascript\"></script>\\n<script src=\"/js/layui.js\" type=\"text/javascript\"></script>\\n<script type=\"text/javascript\">function deleteCookie(name,domain) {document.cookie =name + \\'=; expires=Thu, 01 Jan 1970 00:00:01 GMT; domain=\\' + domain + \\'; path=/\\';}\\ndeleteCookie(\"gsw2017user\",\"gushiwen.cn\");deleteCookie(\"wxopenid\",\"gushiwen.cn\");deleteCookie(\"ticketStr\",\"gushiwen.cn\");deleteCookie(\"gswEmail\",\"gushiwen.cn\");deleteCookie(\"gswPhone\",\"gushiwen.cn\");deleteCookie(\"idsAuthor2017\",\"gushiwen.cn\");deleteCookie(\"idsGuji2017\",\"gushiwen.cn\");deleteCookie(\"idsMingju2017\",\"gushiwen.cn\");deleteCookie(\"idsShiwen2017\",\"gushiwen.cn\");function getCookie(name) {var arr,reg =new RegExp(\"(^| )\" + name + \"=([^;]*)(;|$)\");if (arr =document.cookie.match(reg))\\nreturn unescape(arr[2]);else\\nreturn null;}\\n function selectLike(id) {document.getElementById(\\'likeImg\\' + id).name =parseInt(document.getElementById(\\'likeImg\\' + id).name) + 1;if (document.getElementById(\\'likeImg\\' + id).name ==\\'1\\') {var idsShigeLaiyo =getCookie(\\'idsShiwen2017\\');if (idsShigeLaiyo !=null &&idsShigeLaiyo !=\\'\\') {var ids =idsShigeLaiyo.split(\\',\\');for (var i =0;i < ids.length;i++) {if (ids[i] ==id) {document.getElementById(\\'likeImg\\' + id).src =\\'https://ziyuan.guwendao.net/siteimg/shou-cangok.png\\';document.getElementById(\\'likeImg\\' + id).alt =\\'已收藏\\';break;}\\n}\\n}\\n}\\n}\\n function selectLikeMingju(id) {document.getElementById(\\'likeImg\\' + id).name =parseInt(document.getElementById(\\'likeImg\\' + id).name) + 1;if (document.getElementById(\\'likeImg\\' + id).name ==\\'1\\') {var idsShigeLaiyo =getCookie(\\'idsMingju2017\\');if (idsShigeLaiyo !=null &&idsShigeLaiyo !=\\'\\') {var ids =idsShigeLaiyo.split(\\',\\');for (var i =0;i < ids.length;i++) {if (ids[i] ==id) {document.getElementById(\\'likeImg\\' + id).src =\\'https://ziyuan.guwendao.net/siteimg/shou-cangok.png\\';document.getElementById(\\'likeImg\\' + id).alt =\\'已收藏\\';break;}\\n}\\n}\\n}\\n}\\n function selectLikeAuthor(id) {document.getElementById(\\'likeImg\\' + id).name =parseInt(document.getElementById(\\'likeImg\\' + id).name) + 1;if (document.getElementById(\\'likeImg\\' + id).name ==\\'1\\') {var idsShigeLaiyo =getCookie(\\'idsAuthor2017\\');if (idsShigeLaiyo !=null &&idsShigeLaiyo !=\\'\\') {var ids =idsShigeLaiyo.split(\\',\\');for (var i =0;i < ids.length;i++) {if (ids[i] ==id) {document.getElementById(\\'likeImg\\' + id).src =\\'https://ziyuan.guwendao.net/siteimg/shou-cangok.png\\';document.getElementById(\\'likeImg\\' + id).alt =\\'已收藏\\';break;}\\n}\\n}\\n}\\n}\\n function selectLikeGuwen(id) {document.getElementById(\\'likeImg\\' + id).name =parseInt(document.getElementById(\\'likeImg\\' + id).name) + 1;if (document.getElementById(\\'likeImg\\' + id).name ==\\'1\\') {var idsShigeLaiyo =getCookie(\\'idsGuji2017\\');if (idsShigeLaiyo !=null &&idsShigeLaiyo !=\\'\\') {var ids =idsShigeLaiyo.split(\\',\\');for (var i =0;i < ids.length;i++) {if (ids[i] ==id) {document.getElementById(\\'likeImg\\' + id).src =\\'https://ziyuan.guwendao.net/siteimg/shou-cangok.png\\';document.getElementById(\\'likeImg\\' + id).alt =\\'已收藏\\';break;}\\n}\\n}\\n}\\n}\\n</script>\\n<script>var _hmt =_hmt ||[];(function () {var hm =document.createElement(\"script\");hm.src =\"//hm.baidu.com/hm.js?9007fab6814e892d3020a64454da5a55\";var s =document.getElementsByTagName(\"script\")[0];s.parentNode.insertBefore(hm,s);})();</script>\\n</head>\\n<body onclick=\"closeshowBos()\">\\n<div class=\"maintopbc\" style=\" height:45px; background:url(https://ziyuan.guwendao.net/siteimg/24jie/%e7%99%bd%e9%9c%b2small.jpg) top center no-repeat; background-size:cover;\">\\n<div class=\"maintop\" style=\"opacity:0.94;\">\\n<div class=\"cont\">\\n<div class=\"left\">\\n<a href=\"/\">古诗文网</a>\\n</div>\\n<div class=\"right\">\\n<div class=\"son1\">\\n<a style=\"margin-left:1px;\" href=\"/\">推荐</a>\\n<a href=\"/shiwens/\">诗文</a>\\n<a href=\"/mingjus/\">名句</a>\\n<a href=\"/authors/\">作者</a>\\n<a href=\"/guwen/\">古籍</a>\\n<a href=\"/user/collect.aspx\" rel=\"nofollow\" style=\"border-bottom:3px solid #5D6146; font-weight:bold; line-height:45px; height:43px;\">我的</a>\\n<a style=\"width:65px;\" href=\"/app/DefaultGwd.aspx\" target=\"_blank\">APP</a>\\n</div>\\n<div class=\"son2\">\\n<div class=\"search\">\\n<form action=\"/search.aspx\" onsubmit=\"return selectSearch()\" contentType=\"text/html; charset=utf-8\">\\n<input onkeydown=\"noajaxkeyUp()\" oninput=\"goshowBos()\" id=\"txtKey\" name=\"value\" type=\"text\" value=\"\" maxlength=\"40\" autocomplete=\"off\" style=\"height:25px; line-height:25px; float:left; padding-left:10px; width:255px; font-size:14px; clear:left; border:0px;\" />\\n<input style=\" display:none;\" id=\\'valuej\\' name=\"valuej\" value=\"\" />\\n<input type=\"submit\" style=\"float:right; width:23px; height:23px; clear:right; margin-top:2px; margin-right:4px; background-image:url(https://ziyuan.guwendao.net/siteimg/docSearch230511.png); background-repeat:no-repeat; background-size:23px 23px; border:0px;cursor:pointer;\" value=\"\" />\\n<input id=\"b\" style=\"display:none;\" type=\"text\" />\\n</form>\\n</div>\\n</div>\\n</div>\\n</div>\\n</div>\\n<div class=\"main3\">\\n<div style=\"width:300px; float:right;\">\\n<div id=\"box\"></div>\\n</div>\\n</div>\\n</div>\\n<div style=\"width: 1200px; clear: both; margin-left: auto; margin-right: auto; margin-top: 20px; overflow: hidden;\">\\n<div class=\"mainshoucang\">\\n<span style=\"height: 34px; line-height: 34px; font-size: 18px; font-weight: bold; float: left; margin: 0px; color: #0F0F0F;\">我的收藏</span>\\n<span style=\"height: 34px; line-height: 34px; font-size: 18px; font-weight: bold; float: left; margin: 0px; color: #0F0F0F; margin-left: 10px; margin-right: 10px;\">/</span>\\n<a style=\"height: 34px; line-height: 34px; font-size: 18px; font-weight: bold; float: left; margin: 0px;\" href=\"/user/collectbei.aspx?sort=t\">我的背诵</a>\\n<a href=\"/user/collect.aspx?type=s&id=6463512&sort=z\">字母排序</a>\\n<span>/</span>\\n<span>时间排序</span>\\n</div>\\n<div style=\"width: 300px; height: 34px; line-height: 34px; border-bottom: 1px solid #C5C5C5; overflow: hidden; clear: right; float: right; font-size: 14px;\">\\n账号管理\\n</div>\\n</div>\\n<div id=\"mainSearch\" class=\"mainSearch\">\\n<div class=\"searchleft\">\\n<a style=\"color: #FFFFFF; background-image: url(https://ziyuan.guwendao.net/siteimg/seachimg.jpg); background-repeat: no-repeat;\">诗文</a>\\n<a href=\"/user/collect.aspx?type=m&id=6463512&sort=t\">名句</a>\\n<a href=\"/user/collect.aspx?type=a&id=6463512&sort=t\">作者</a>\\n<a href=\"/user/collect.aspx?type=d&id=6463512&sort=t\">古籍</a>\\n</div>\\n<div class=\"left\">\\n<img src=\"shoucangdemo.jpg\" style=\"margin-top: 20px;\" alt=\"收藏教程\" width=\"620\" height=\"556\" />\\n<form id=\"FromPage\" method=\"get\" action=\"/user/collect.aspx\" onsubmit=\"return PageSubmit()\">\\n<div class=\"pagesright\">\\n<a class=\"amore\" style=\"color: #808080; background-color: #e7e6d8; width: 685px;\">下一页</a>\\n<a style=\"color: #808080; background-color: #e7e6d8;\">上一页</a>\\n<label id=\"temppage\" style=\"display: none;\">1</label>\\n<input type=\"hidden\" name=\"sort\" value=\"t\" />\\n<input type=\"hidden\" name=\"id\" value=\"6463512\" />\\n</div>\\n</form>\\n</div>\\n<div class=\"right\">\\n<div class=\"shisoncont\">\\n<div class=\"line\" style=\"display:block\">\\n<a href=\"/app/\">纯净模式</a><span>\\n免广告</span>\\n</div>\\n<div class=\"line\">\\n<a href=\"/app/\">金紫会员</a><span>\\n享特权</span>\\n</div>\\n<div class=\"line\">\\n<a href=\"/user/modifypwd.aspx?from=http://www.gushiwen.cn/user/collect.aspx\">\\n修改密码\\n</a>\\n</div>\\n<div class=\"line\"><a href=\"/user/bandemail.aspx?from=http://www.gushiwen.cn/user/collect.aspx\">绑定邮箱</a><span>*****81244@qq.com</span></div>\\n<div class=\"line\"><a href=\"/user/bandphone.aspx?from=http://www.gushiwen.cn/user/collect.aspx\">绑定手机号</a><span>未绑定</span></div>\\n<div class=\"line\"><a id=\"bwxhao\" style=\"cursor: pointer;\">绑定公众号</a><span id=\"bwxbool\"></span></div>\\n<div class=\"line\"><a href=\"/user/loginlose.aspx?from=http://www.gushiwen.cn/user/collect.aspx\">退出登录</a></div>\\n<div class=\"line\" style=\"border-bottom: 0px;\"><a href=\"/user/userDel.aspx\">删除账号</a></div>\\n</div>\\n<div id=\"threeWeixin\" style=\"display: none; height: 100%; width: 100%; left: 0; top: 0; bottom: 0; position: fixed; background: rgba(0, 0, 0, 0.5); filter: alpha(opacity = 50);\">\\n<div class=\"hide-center\" id=\"hide-center\">\\n<div id=\"formhead\">\\n<div id=\"formhead-title\">\\n<span style=\"float: left; font-size: 18px; margin-left: 65px; margin-top: 5px;\">绑定公众号</span>\\n<span style=\"float: left; clear: both; color: #999999; font-weight: normal; font-size: 12px; margin-left: 68px; margin-top: 10px;\">关注后自动绑定</span>\\n</div>\\n<button type=\"button\" id=\"close\">X</button>\\n</div>\\n<div id=\"formbody\">\\n<img id=\"erweimaCanshu\" width=\"200\" height=\"200\" src=\"\" alt=\"\" />\\n</div>\\n</div>\\n</div>\\n<script type=\"text/javascript\">function getCookie(name) {var arr,reg =new RegExp(\"(^| )\" + name + \"=([^;]*)(;|$)\");if (arr =document.cookie.match(reg))\\nreturn unescape(arr[2]);else\\nreturn null;}\\n$(\"#close\").click(function () {$(\"#threeWeixin\").fadeOut(\"slow\");clearInterval(intervalErweima);intervalErweima =null;})\\nvar timesRun =0;var scene_id =Math.floor((Math.random() *9999999) + 200000000);var intervalErweima =null;var wxopenid =getCookie(\\'wxopenid\\');if (wxopenid =null) {document.getElementById(\\'bwxbool\\').innerHTML =\\'未绑定\\'\\n}\\nelse {document.getElementById(\\'bwxbool\\').innerHTML =\\'已绑定\\'\\n}\\nvar threeWeixinID =document.getElementById(\\'threeWeixin\\');var erweimaShow =0;$(\"#bwxhao\").click(function () {if (threeWeixinID.style.display !=\\'none\\') {return;}\\nshowErweima();})\\nfunction showErweima() {if (getCookie(\\'ticketStr\\') !=null &&getCookie(\\'ticketStr\\').indexOf(\"|\") >0) {var ticketStr =getCookie(\\'ticketStr\\').split(\\'|\\');scene_id =ticketStr[0];if (ticketStr[1].length >5) {document.getElementById(\\'erweimaCanshu\\').src =\"https://mp.weixin.qq.com/cgi-bin/showqrcode?ticket=\" + ticketStr[1];$(\"#threeWeixin\").fadeIn(\"slow\");timesRun =0;intervalErweima =setInterval(\"selectErweima()\",\"3000\");}\\n}\\nelse {var xmlhttp;if (window.XMLHttpRequest) {xmlhttp =new XMLHttpRequest();}\\nelse {xmlhttp =new ActiveXObject(\"Microsoft.XMLHTTP\");}\\nxmlhttp.onreadystatechange =function () {if (xmlhttp.readyState ==4 &&xmlhttp.status ==200) {if (xmlhttp.responseText.length >5) {document.getElementById(\\'erweimaCanshu\\').src =\"https://mp.weixin.qq.com/cgi-bin/showqrcode?ticket=\" + xmlhttp.responseText;$(\"#threeWeixin\").fadeIn(\"slow\");timesRun =0;intervalErweima =setInterval(\"selectErweima()\",\"3000\");}\\n}\\n}\\nxmlhttp.open(\"GET\",\"/getTicket.aspx?scene_id=\" + scene_id,false);xmlhttp.send();}\\n}\\nfunction selectErweima() {timesRun =timesRun + 1;if (timesRun >60) {$(\"#threeWeixin\").fadeOut(\"slow\");clearInterval(intervalErweima);intervalErweima =null;}\\nvar xmlhttp;if (window.XMLHttpRequest) {xmlhttp =new XMLHttpRequest();}\\nelse {xmlhttp =new ActiveXObject(\"Microsoft.XMLHTTP\");}\\nxmlhttp.onreadystatechange =function () {if (xmlhttp.readyState ==4 &&xmlhttp.status ==200) {if (xmlhttp.responseText !=\"未扫码\") {$(\"#threeWeixin\").fadeOut(\"slow\");erweimaShow =1;clearInterval(intervalErweima);intervalErweima =null;}\\n}\\n}\\nxmlhttp.open(\"POST\",\"/getEventKey.aspx?&scene_id=\" + scene_id,false);xmlhttp.send();}\\n</script>\\n<div class=\"juzioncont\">\\n<img style=\"float: left; margin: 10px; margin-right: 0px;\" src=\"https://ziyuan.guwendao.net/siteimg/app/appdownGwd2021.png\" width=\"80\" height=\"80\" /><p>\\n<center style=\"font-size: 18px; margin-top: 14px;\">扫码下载</center>\\n</p>\\n<p>\\n<center style=\"font-size: 18px; margin-top: 5px;\">客户端会员免广告</center>\\n</p>\\n</div>\\n</div>\\n</div>\\n<div class=\"main4\">\\n© 2024 <a href=\"/\">古诗文网</a> | <a href=\"/shiwens/\">诗文</a> | <a href=\"/mingjus/\">名句</a> | <a href=\"/authors/\">作者</a> | <a href=\"/guwen/\">古籍</a> | <a href=\"/jiucuo.aspx?u=\" target=\"_blank\" rel=\"nofollow\">纠错</a>\\n</div>\\n<script type=\"text/javascript\">window.onload =function () {setIframeHeight(document.getElementById(\\'external-frame\\'));};if (getCookie(\\'gsw2017user\\') !=null &&getCookie(\\'gsw2017user\\').split(\\'|\\').length >=3) {var userDate =getCookie(\\'gsw2017user\\').split(\\'|\\')[2];var myDate =new Date(userDate);var now =new Date();if (myDate >=now) {for (var i =0;i < document.getElementsByClassName(\"abcd\").length;i++) {document.getElementsByClassName(\"abcd\")[i].style.display =\\'none\\';}\\n}\\nif (getCookie(\\'gsw2017user\\').split(\\'|\\').length >=4) {userDate =getCookie(\\'gsw2017user\\').split(\\'|\\')[3];myDate =new Date(userDate);if (myDate >=now) {for (var i =0;i < document.getElementsByClassName(\"abcd\").length;i++) {document.getElementsByClassName(\"abcd\")[i].style.display =\\'none\\';}\\n}\\n}\\n}\\n</script>\\n<script defer=\"defer\" src=\"/js/skinwww240229.js?time=20240726\" type=\"text/javascript\"></script>\\n<script defer=\"defer\" src=\"/js/listenerPlay.js?time=20240726\" type=\"text/javascript\"></script>\\n</body>\\n</html>\\n'"
      ]
     },
     "execution_count": 39,
     "metadata": {},
     "output_type": "execute_result"
    }
   ],
   "source": [
    "# 发送登录请求的url\n",
    "url_post = 'https://www.gushiwen.cn/user/login.aspx?from=http%3a%2f%2fwww.gushiwen.cn%2fuser%2fcollect.aspx'\n",
    "\n",
    "response_post = session.post(url=url_post, headers=headers, data=data_post)\n",
    "content_post = response_post.text\n",
    "content_post"
   ]
  },
  {
   "cell_type": "markdown",
   "id": "fc95b24c-b335-4203-970e-e1ca79f6b1fb",
   "metadata": {},
   "source": [
    "这里我们就登录进去了，然后我们就可以通过这里面去获取我们想要的信息了"
   ]
  },
  {
   "cell_type": "markdown",
   "id": "ffb8756c-d51d-4047-af42-d4ed03ddf61f",
   "metadata": {},
   "source": [
    "总结：本次实战案例有一定的难度，主要难度在1.隐藏域和2.验证码的处理。\n",
    "\n",
    "解决第一个难点：我们可以通过一次错误的登录看到该请求需要哪些参数，根据这些参数来推测哪些是隐藏域，如果不是我们传入的信息，一般情况下在页面中是可以找到的，如果是服务器的数据，不会显示出来让我们发送请求这些数据，所以他一般情况下是在页面上的，我们可以通过参数的名字找到它（当然我们也可以通过其它方式找到）\n",
    "\n",
    "解决第二个难点：第二个难点主要在于验证码的获取，一般情况下，我们想到的方法是发送一次请求去获取验证码的照片，但是后面发现因为每次发送请求时的验证码是不一样的，所以到我们发送实际登录请求时，会发现验证码不匹配，所以我们需要保证获取验证码和发送登录的请求是一个请求，这里就需要借助我们requests库中的一个方法为session，这个方法可以将请求变成一个对象，我们可以通过这个对象去保证获取验证码和发送登录的是同一个请求"
   ]
  },
  {
   "cell_type": "markdown",
   "id": "883348bd-32c3-43ea-8a97-b11be4e82653",
   "metadata": {},
   "source": [
    "因为这里的目的是为了获取一些数据，验证码我们是可以手动识别填写的，但是在我们实际实战过程中，我们会使用工具帮我们识别，这里我们可以在网上搜索一下打码平台就会有对应的文档和收费标准"
   ]
  },
  {
   "cell_type": "code",
   "execution_count": null,
   "id": "2db11ea2-9ea3-4e18-afe9-1cdb9399fc67",
   "metadata": {},
   "outputs": [],
   "source": []
  }
 ],
 "metadata": {
  "kernelspec": {
   "display_name": "Python 3 (ipykernel)",
   "language": "python",
   "name": "python3"
  },
  "language_info": {
   "codemirror_mode": {
    "name": "ipython",
    "version": 3
   },
   "file_extension": ".py",
   "mimetype": "text/x-python",
   "name": "python",
   "nbconvert_exporter": "python",
   "pygments_lexer": "ipython3",
   "version": "3.8.5"
  }
 },
 "nbformat": 4,
 "nbformat_minor": 5
}
