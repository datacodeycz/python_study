{
 "cells": [
  {
   "cell_type": "markdown",
   "id": "3d80ce9a",
   "metadata": {
    "editable": true,
    "slideshow": {
     "slide_type": "slide"
    },
    "tags": []
   },
   "source": [
    "# 函数的基本使用"
   ]
  },
  {
   "cell_type": "markdown",
   "id": "2a2df824",
   "metadata": {
    "editable": true,
    "slideshow": {
     "slide_type": "slide"
    },
    "tags": []
   },
   "source": [
    "## 函数的定义\n",
    "def 函数名 (\\[参数\\]):<br>\n",
    "&emsp;函数体（使用该函数时执行的代码块）<br>\n",
    "&emsp;\\[return\\](返回值)<br>\n",
    "\n",
    "ps:<br>\n",
    "1.\\[\\]表示选填，说明在创建一个函数时，可以没有参数，也可以没有返回值<br>\n",
    "2.我们要使用一个函数的时候，首先它得被创建出来，我们才可以使用\n",
    "参数是什么？返回值是什么？？<br>"
   ]
  },
  {
   "cell_type": "code",
   "execution_count": 1,
   "id": "c6111864",
   "metadata": {
    "editable": true,
    "slideshow": {
     "slide_type": "slide"
    },
    "tags": []
   },
   "outputs": [
    {
     "name": "stdout",
     "output_type": "stream",
     "text": [
      "hello world\n"
     ]
    }
   ],
   "source": [
    "# 实例\n",
    "# 定义一个函数，函数名为sayHello,函数的功能是 Hello world\n",
    "def sayHello():\n",
    "    print(\"hello world\")\n",
    "    \n",
    "\n",
    "# 当我们写完一个函数的使用，我们应该怎样使用它啦  函数名([参数]，……)\n",
    "\n",
    "# 调用这个函数\n",
    "sayHello()"
   ]
  },
  {
   "cell_type": "markdown",
   "id": "e6e7463b",
   "metadata": {
    "slideshow": {
     "slide_type": "slide"
    }
   },
   "source": [
    "## 函数的参数和返回值\n",
    "函数的参数就像我们的输入设备一样，函数的返回值就像我们的输出设备一样<br>\n",
    "首先我们来模拟打印机的整个流程<br>\n",
    "首先打印机的功能是：通过A4纸打印文本或是图片信息<br>\n",
    "打印机的输入：我们需要打印一个信息，就需要传给打印机我们要打印的东西，这样打印机才会给我们打印<br>\n",
    "打印机的输出：输出我们打印的文本或是图片信息，通过A4纸的方式<br>\n",
    "<br>\n",
    "<br>\n",
    "映射到我们学习的函数<br>\n",
    "参数就是这个函数的执行功能的输入，我们有时候需要有输入信息，函数才能实现该功能（比如 只有我们给打印机传文本或图片信息，打印机还会去执行打印的功能）。同理，返回值就是这个函数执行结束的输出结果，有时候我们执行某个功能需要有输出结果（比如：我们给打印机打印东西，就是希望打印机给我们输出我们要打印的信息）\n",
    "\n",
    "问题：那为什么参数和返回值是选填的？"
   ]
  },
  {
   "cell_type": "code",
   "execution_count": 2,
   "id": "296010fd",
   "metadata": {
    "slideshow": {
     "slide_type": "slide"
    }
   },
   "outputs": [
    {
     "name": "stdout",
     "output_type": "stream",
     "text": [
      "1 + 2 = 3\n",
      "12 + 12 = 1212\n"
     ]
    }
   ],
   "source": [
    "# 传入参数\n",
    "# 参数的参数是形参，只作用于该函数块中\n",
    "# 实现两个数相加的操作\n",
    "def add(a,b):\n",
    "    result = a + b\n",
    "    print(f\"{a} + {b} = {result}\")\n",
    "    \n",
    "add(1,2)\n",
    "\n",
    "'''\n",
    "在函数定义中，提供了a和b，称为形式参数，表示函数声明将要使用2个参数，参数之间使用逗号进行分隔\n",
    "在我们使用函数的时候，提供的5和6，称之为：实际参数，表示函数执行时真正使用的参数值\n",
    "\n",
    "通过变量在内存中的存储来讲\n",
    "\n",
    "'''\n",
    "\n",
    "# 提问1：我们这里写了函数需要传两个参数，那如果我们传多了或是传少了会发生什么\n",
    "# add(1)  # 如果我们传少了，会报错，argument b 没有赋值\n",
    "# add(1,2,3)  # 如果我们船舵了，也会报错，我们需要两个参数，但是你传了3个参数进来\n",
    "\n",
    "# ps: 这里跟js不一样\n",
    "\n",
    "# 提问2：这里是进行了加法运算，那如果我们传 字符串或是其他的非数字类型会发生什么\n",
    "add(\"12\",\"12\")  # 如果我们传了两个字符串进行，这里的+ 就会变成字符串拼接，所以我们得到的结果并不是我们创建这个函数的初衷，所以我们应该怎么办\n",
    "# add(\"12\",12)  # 这里我们传了一个字符串，传了一个数字，会报错，这里的报错的主要原因是因为 非字符串之间不能进行拼接，有非数字也不能执行算术运算"
   ]
  },
  {
   "cell_type": "code",
   "execution_count": 8,
   "id": "f2386871",
   "metadata": {
    "slideshow": {
     "slide_type": "slide"
    }
   },
   "outputs": [
    {
     "name": "stdout",
     "output_type": "stream",
     "text": [
      "3\n",
      "<class 'int'>\n",
      "None\n"
     ]
    }
   ],
   "source": [
    "# 指定返回值\n",
    "# 当我们指定了返回值，返回值是我们指定的值，如果没有指定返回值，返回值为none\n",
    "# 实例 实现两个数相加，将结果进行返回，不要打印到控制台，\n",
    "def add(a,b):\n",
    "    result = a + b\n",
    "    return result\n",
    "    result = result + 1  # 没有执行,没有意义\n",
    "\n",
    "result = add(1,2)  # 返回值就是我们执行完某个功能后的结果，这个结果就是函数使用结束后进行返回，所以有时候我们需要有一个变量去接收这个返回值\n",
    "\n",
    "print(result)\n",
    "print(type(result))\n",
    "\n",
    "# 问题1：返回值就是我们执行完某个功能的结果，那如果我们在return返回值后面再去做一些计算，会进行后面的计算吗，还是说直接会报错\n",
    "# 通过上述的代码，能得到结果，不报错，但是也不会执行后面的代码，如果执行了后面的代码，那么结果应该是4\n",
    "\n",
    "# 问题2：如果没有使用return返回值关键字，是没有返回值，还是说返回值一个其他指定的数据类型\n",
    "def sub(a,b):\n",
    "    result = a - b\n",
    "    \n",
    "print(sub(1,2))  # 将结果进行输出 显然我们的返回值是none，那这个none是什么类型的啦\n",
    "# print(type(sub(1,2)) # NoneType，会报错"
   ]
  },
  {
   "cell_type": "code",
   "execution_count": 3,
   "id": "a5694e63",
   "metadata": {
    "slideshow": {
     "slide_type": "slide"
    }
   },
   "outputs": [],
   "source": [
    "# None的应用场景\n",
    "# None的数据类型为 NoneType，翻译过来就是无类型的意思，但是无类型也是一种类型\n",
    "'''\n",
    "None是一个字面量，主要用于表示空，无意义\n",
    "应用\n",
    "1.在if语句中，None等同于False，一般情况下，可以通过函数返回None和if语句进行配合使用\n",
    "2.当定义变量的时候，如果不知道该变量是有什么具体的类型值，就可以使用None来代替\n",
    "'''\n",
    "a = None  # 记得区分大小写"
   ]
  },
  {
   "cell_type": "code",
   "execution_count": 4,
   "id": "e5beb4d3-94bf-43fa-a3ea-f6b93dd07f8d",
   "metadata": {},
   "outputs": [],
   "source": [
    "a = None # 声明需要赋值\n",
    "# 如果我需要声明一个变量,必须要给这个变量进行赋值"
   ]
  },
  {
   "cell_type": "code",
   "execution_count": 5,
   "id": "374d47ea-4619-496b-9111-3271602be05d",
   "metadata": {},
   "outputs": [
    {
     "name": "stdout",
     "output_type": "stream",
     "text": [
      "函数的返回值为None\n"
     ]
    }
   ],
   "source": [
    "def add(a,b):\n",
    "    result = a + b\n",
    "if(add(1,2)):\n",
    "    print(\"函数有返回值\")\n",
    "else:\n",
    "    print(\"函数的返回值为None\")"
   ]
  },
  {
   "cell_type": "markdown",
   "id": "1f03ecdd",
   "metadata": {
    "slideshow": {
     "slide_type": "slide"
    }
   },
   "source": [
    "## 函数的注释\n",
    "通过上述传入参数的问题，我们可以得出，python并不像java，c那样严谨，创建函数的使用需要指定参数的数据类型，这样就能确保调用函数的时候，传入的参数一定是需要的数据类型，而在python中不存在这种情况，我们只能人为的提醒用户在调用该函数的时候，记得参数的数据类型，并且告诉用户，这个函数的功能是什么，所以我们就需要给函数写注释，来提醒用户，并且可以帮助自己记忆代码"
   ]
  },
  {
   "cell_type": "code",
   "execution_count": 6,
   "id": "6d7cd22b",
   "metadata": {},
   "outputs": [
    {
     "data": {
      "text/plain": [
       "30"
      ]
     },
     "execution_count": 6,
     "metadata": {},
     "output_type": "execute_result"
    }
   ],
   "source": [
    "# 实例\n",
    "def add(a,b):\n",
    "    \"\"\"\n",
    "    功能两数相加\n",
    "    :param a: 进行算术相加的数字，参数1\n",
    "    :param b: 进行算术相加的数字，参数2\n",
    "    :return: 返回进行算术相加的结果\n",
    "    \"\"\"\n",
    "    return a + b\n",
    "\n",
    "add(10, 20)"
   ]
  },
  {
   "cell_type": "markdown",
   "id": "60cf4370",
   "metadata": {
    "slideshow": {
     "slide_type": "slide"
    }
   },
   "source": [
    "## 函数的嵌套使用\n",
    "函数的嵌套使用就是在一个函数中又调用了另外一个函数（这个函数并非需要在外层函数中创建），这就是函数的嵌套使用"
   ]
  },
  {
   "cell_type": "code",
   "execution_count": 7,
   "id": "ee740b76",
   "metadata": {
    "code_folding": [],
    "slideshow": {
     "slide_type": "slide"
    }
   },
   "outputs": [
    {
     "name": "stdout",
     "output_type": "stream",
     "text": [
      "2 1 2 3 4\n"
     ]
    }
   ],
   "source": [
    "# 实例测试\n",
    "\n",
    "def add(a,b):\n",
    "    return a + b\n",
    "\n",
    "def sub(a,b):\n",
    "    return a - b\n",
    "\n",
    "def compute(a,b):\n",
    "    \"\"\"\n",
    "    功能：进行加减运算运算\n",
    "    :param a: 进行算术运算的数字1\n",
    "    :param b: 进行算术运算的数字2\n",
    "    :return : 返回进行算术运算的结果\n",
    "    \"\"\"\n",
    "    result_add = add(a,b) # 3\n",
    "    result_sub = sub(a,b) # -1\n",
    "    result = add(result_add,result_sub); # 2\n",
    "    return result,1,2,3,4\n",
    "\n",
    "# ps: 在python中支持多返回值\n",
    "# result_add,result_sub = compute(10,20)\n",
    "# print(result_add)\n",
    "# print(result_sub)\n",
    "result,a,b,c,d = compute(1,2)\n",
    "print(result,a,b,c,d)\n",
    "\n",
    "# ps: 讲讲函数调用的执行顺序，这样方便学生理解栈"
   ]
  }
 ],
 "metadata": {
  "celltoolbar": "Slideshow",
  "kernelspec": {
   "display_name": "Python 3 (ipykernel)",
   "language": "python",
   "name": "python3"
  },
  "language_info": {
   "codemirror_mode": {
    "name": "ipython",
    "version": 3
   },
   "file_extension": ".py",
   "mimetype": "text/x-python",
   "name": "python",
   "nbconvert_exporter": "python",
   "pygments_lexer": "ipython3",
   "version": "3.10.15"
  },
  "toc": {
   "base_numbering": 1,
   "nav_menu": {},
   "number_sections": true,
   "sideBar": true,
   "skip_h1_title": false,
   "title_cell": "Table of Contents",
   "title_sidebar": "Contents",
   "toc_cell": false,
   "toc_position": {
    "height": "calc(100% - 180px)",
    "left": "10px",
    "top": "150px",
    "width": "234.773px"
   },
   "toc_section_display": true,
   "toc_window_display": true
  }
 },
 "nbformat": 4,
 "nbformat_minor": 5
}
