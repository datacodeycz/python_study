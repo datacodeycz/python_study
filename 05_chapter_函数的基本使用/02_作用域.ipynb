{
 "cells": [
  {
   "cell_type": "markdown",
   "id": "4ed084d2-98b6-4c09-aa4c-3e05ab52737d",
   "metadata": {},
   "source": [
    "# 作用域\n",
    "全局作用域和局部作用域\n",
    "局部作用域\n",
    "    函数作用域\n",
    "    包作用域\n",
    "就目前而言，我们主要学习局部作用域中的函数作用域和全局作用域<br>\n",
    "作用域：顾名思义，作用域就是变量或是对象作用的一个范围。\n",
    "全局作用域：当前脚本的最外层，就是我们写python代码的部分\n",
    "局部作用域：就目前而言，局部作用域就是局部一小步作用的范围，调用一个函数时，函数内部就是一个局部作用域。\n",
    "全局作用域创建出来的变量，叫全局变量，在全局都可以使用，包括局部作用域中，也是可以使用的\n",
    "局部作用域创建出来的变量，叫局部变量，只能在自己的局部中进行使用，在外层是使用不了的\n",
    "\n",
    "问题1：在局部和全局作用域中创建出来了一样的变量名，那在局部作用域中使用局部变量还是全局变量\n",
    "\n",
    "\n",
    "问题2：如果函数中有一个函数创建，那么内层函数能不能使用外层函数的变量，外层函数的变量能不能使用内层函数的变量\n",
    "\n",
    "ps：作用域链"
   ]
  },
  {
   "cell_type": "code",
   "execution_count": 1,
   "id": "b4653eb3-b333-45b1-b6a0-054342dbc44e",
   "metadata": {},
   "outputs": [
    {
     "name": "stdout",
     "output_type": "stream",
     "text": [
      "全局变量\n"
     ]
    }
   ],
   "source": [
    "# 实例代码\n",
    "\n",
    "name = \"全局变量\"\n",
    "# 情况1\n",
    "def fn1():\n",
    "    print(name)\n",
    "    return None\n",
    "\n",
    "fn1()"
   ]
  },
  {
   "cell_type": "code",
   "execution_count": 3,
   "id": "7a55c8e4-3d9e-4798-a9f0-06b0dd15251b",
   "metadata": {},
   "outputs": [
    {
     "name": "stdout",
     "output_type": "stream",
     "text": [
      "fn2中的变量\n"
     ]
    }
   ],
   "source": [
    "name = \"全局变量\"\n",
    "# 情况2\n",
    "def fn2():\n",
    "    name = \"fn2中的变量\"\n",
    "    print(name)\n",
    "\n",
    "fn2()"
   ]
  },
  {
   "cell_type": "code",
   "execution_count": 4,
   "id": "41f0eea2-bd31-438e-8fd1-0e59bd72f9cf",
   "metadata": {},
   "outputs": [
    {
     "name": "stdout",
     "output_type": "stream",
     "text": [
      "None\n"
     ]
    }
   ],
   "source": [
    "# 情况3\n",
    "name = \"全局变量\"\n",
    "def fn3(name):\n",
    "    print(name)\n",
    "\n",
    "fn3(None)"
   ]
  },
  {
   "cell_type": "code",
   "execution_count": 8,
   "id": "45c094cb-ee2b-4728-88e3-7ce27cbfbfa0",
   "metadata": {},
   "outputs": [
    {
     "name": "stdout",
     "output_type": "stream",
     "text": [
      "全局变量\n"
     ]
    }
   ],
   "source": [
    "name = \"全局变量\"\n",
    "\n",
    "\n",
    "'''\n",
    "词法作用域\n",
    "    函数创建的时候就已经决定函数的作用域\n",
    "'''\n",
    "\n",
    "def fn1():\n",
    "    print(name)\n",
    "\n",
    "def fn2():\n",
    "    name = \"fn2的局部变量\"\n",
    "    fn1()\n",
    "\n",
    "fn2() "
   ]
  },
  {
   "cell_type": "code",
   "execution_count": 9,
   "id": "dfed6f20-4671-4519-8877-669866f55500",
   "metadata": {},
   "outputs": [
    {
     "name": "stdout",
     "output_type": "stream",
     "text": [
      "全局变量\n"
     ]
    }
   ],
   "source": [
    "# 实例代码 （很抽象）\n",
    "# 情况1 \n",
    "name = \"全局变量\"\n",
    "def fn1():\n",
    "    print(name)\n",
    "\n",
    "def fn2():\n",
    "    name = \"fn2中的变量\"\n",
    "    fn1()\n",
    "\n",
    "fn2()"
   ]
  },
  {
   "cell_type": "code",
   "execution_count": 10,
   "id": "0ec6154a-f980-4e39-b553-ecf844337ad7",
   "metadata": {},
   "outputs": [
    {
     "name": "stdout",
     "output_type": "stream",
     "text": [
      "fn1中的变量\n"
     ]
    }
   ],
   "source": [
    "# 情况2\n",
    "name = \"全局变量\"\n",
    "def fn1():\n",
    "    name = \"fn1中的变量\"\n",
    "    def fn2():\n",
    "        print(name)\n",
    "    fn2()\n",
    "fn1()\n",
    "\n",
    "# 引入词法作用域"
   ]
  },
  {
   "cell_type": "markdown",
   "id": "04419791-3975-4157-b631-be8f5c4d0812",
   "metadata": {},
   "source": [
    "## 在局部作用域中定义全局变量\n",
    "使用global关键字，就可以在局部作用域中创建（使用）全局变量"
   ]
  },
  {
   "cell_type": "code",
   "execution_count": 11,
   "id": "8c886027-6026-400f-917f-86f438df0251",
   "metadata": {},
   "outputs": [
    {
     "name": "stdout",
     "output_type": "stream",
     "text": [
      "全局变量\n",
      "我现在是在局部作用域中操作全局变量，修改全局变量name的值\n",
      "我现在是在局部作用域中操作全局变量，修改全局变量name的值\n"
     ]
    }
   ],
   "source": [
    "# 实例代码\n",
    "\n",
    "name = \"全局变量\"\n",
    "\n",
    "def fn2():\n",
    "    print(name)\n",
    "    \n",
    "def fn1():\n",
    "    global name \n",
    "    name = \"我现在是在局部作用域中操作全局变量，修改全局变量name的值\"\n",
    "\n",
    "fn2()  # 全局变量\n",
    "fn1() # 只进行了修改操作  没有输出\n",
    "fn2() # 我现在是在局部作用域中操作全局变量，修改全局变量name的值\n",
    "print(name)  # 我现在是在局部作用域中操作全局变量，修改全局变量name的值"
   ]
  },
  {
   "cell_type": "markdown",
   "id": "977c1f7f-60c2-44c5-9862-7302708f3e4d",
   "metadata": {},
   "source": [
    "练习题1：计算阶乘\n",
    "编写一个函数 factorial(n)，接受一个整数 n 并返回其阶乘。如果 n 小于 0，则返回 None。\n",
    "\n",
    "提示： 阶乘的定义是 n! = n * (n-1) * ... * 1，其中 0! = 1。\n",
    "\n",
    "练习题2：计算斐波那契数列\n",
    "编写一个函数 fibonacci(n)，接受一个整数 n 并返回第 n 个斐波那契数。斐波那契数列的定义是：F(0) = 0, F(1) = 1，且对于所有 n >= 2，F(n) = F(n-1) + F(n-2)。\n",
    "\n",
    "练习题3：检查素数\n",
    "编写一个函数 is_prime(n)，接受一个整数 n 并返回 True 如果 n 是素数，否则返回 False。素数是大于 1 且只能被 1 和自身整除的数。\n",
    "\n",
    "练习题4：计算幂\n",
    "编写一个函数 power(base, exponent)，接受两个整数 base 和 exponent，并返回 base 的 exponent 次幂。如果 exponent 为负数，返回 None。\n",
    "\n",
    "练习题5：求和\n",
    "编写一个函数 sum_numbers(n)，接受一个整数 n 并返回从 1 到 n 的所有整数之和。如果 n 小于 1，则返回 None。"
   ]
  },
  {
   "cell_type": "code",
   "execution_count": 12,
   "id": "b033741b-4014-47a7-8f74-6176881685f2",
   "metadata": {},
   "outputs": [
    {
     "name": "stdout",
     "output_type": "stream",
     "text": [
      "15\n",
      "13\n",
      "True\n",
      "8\n",
      "15\n"
     ]
    }
   ],
   "source": [
    "# 练习题1\n",
    "def factorial(n):\n",
    "    if n < 0:\n",
    "        return None\n",
    "    result = 1\n",
    "    for i in range(2, n + 1):\n",
    "        result += i\n",
    "    return result\n",
    "\n",
    "print(factorial(5))  # 输出 120\n",
    "\n",
    "# 练习题2\n",
    "def fibonacci(n):\n",
    "    if n == 0:\n",
    "        return 0\n",
    "    elif n == 1:\n",
    "        return 1\n",
    "    a, b = 0, 1\n",
    "    for _ in range(2, n + 1):\n",
    "        a, b = b, a + b\n",
    "    return b\n",
    "\n",
    "print(fibonacci(7))  # 输出 13\n",
    "\n",
    "# 练习题3\n",
    "def is_prime(n):\n",
    "    if n <= 1:\n",
    "        return False\n",
    "    for i in range(2, int(n ** 0.5) + 1):\n",
    "        if n % i == 0:\n",
    "            return False\n",
    "    return True\n",
    "\n",
    "print(is_prime(7))  # 输出 True\n",
    "\n",
    "# 练习题4\n",
    "def power(base, exponent):\n",
    "    if exponent < 0:\n",
    "        return None\n",
    "    result = 1\n",
    "    for _ in range(exponent):\n",
    "        result *= base\n",
    "    return result\n",
    "\n",
    "print(power(2, 3))  # 输出 8\n",
    "\n",
    "# 练习题5\n",
    "def sum_numbers(n):\n",
    "    if n < 1:\n",
    "        return None\n",
    "    return sum(range(1, n + 1))\n",
    "\n",
    "print(sum_numbers(5))  # 输出 15\n"
   ]
  },
  {
   "cell_type": "code",
   "execution_count": null,
   "id": "b2477935-bda1-44f9-a26f-a4d8810363c3",
   "metadata": {},
   "outputs": [],
   "source": []
  }
 ],
 "metadata": {
  "kernelspec": {
   "display_name": "Python 3 (ipykernel)",
   "language": "python",
   "name": "python3"
  },
  "language_info": {
   "codemirror_mode": {
    "name": "ipython",
    "version": 3
   },
   "file_extension": ".py",
   "mimetype": "text/x-python",
   "name": "python",
   "nbconvert_exporter": "python",
   "pygments_lexer": "ipython3",
   "version": "3.10.15"
  }
 },
 "nbformat": 4,
 "nbformat_minor": 5
}
