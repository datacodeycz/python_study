{
 "cells": [
  {
   "cell_type": "markdown",
   "id": "9acbd93a-11bb-4d25-9f59-ba118407cc06",
   "metadata": {},
   "source": [
    "# 函数\n",
    "函数是什么<br>\n",
    "为什么要用函数<br>\n",
    "函数怎么来用<br>\n",
    "\n",
    "```函数是```将一个功能代码块进行封装的代码段落<br>\n",
    "```为什么要使用函数```：在我们编写代码的过程中，我们可能会重复的使用某一个功能，如果没有将该功能进行封装使用，就需要每次使用时都完整的写这个功能的代码块，显然这样是不方便的，所以我们想一个办法，将这个功能封装起来，要使用的时候就直接拿出来用，就不需要再次写该代码。就可以减少我们代码的重复率，也可以提高我们程序的复用性。<br>\n",
    "函数要怎么来用？"
   ]
  },
  {
   "cell_type": "code",
   "execution_count": null,
   "id": "a188946f-24a9-44c9-91fc-2eef469fe1ec",
   "metadata": {},
   "outputs": [],
   "source": []
  }
 ],
 "metadata": {
  "kernelspec": {
   "display_name": "Python 3 (ipykernel)",
   "language": "python",
   "name": "python3"
  },
  "language_info": {
   "codemirror_mode": {
    "name": "ipython",
    "version": 3
   },
   "file_extension": ".py",
   "mimetype": "text/x-python",
   "name": "python",
   "nbconvert_exporter": "python",
   "pygments_lexer": "ipython3",
   "version": "3.10.15"
  }
 },
 "nbformat": 4,
 "nbformat_minor": 5
}
