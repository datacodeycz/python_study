{
 "cells": [
  {
   "cell_type": "markdown",
   "id": "9acbd93a-11bb-4d25-9f59-ba118407cc06",
   "metadata": {},
   "source": [
    "# 函数\n",
    "\n",
    "函数是程序设计中不可或缺的一部分，用于封装功能代码块，简化代码结构、减少重复代码和提高代码复用性。通过本章的学习，你将了解以下内容：\n",
    "1. **什么是函数**：了解函数的定义和基本概念。\n",
    "2. **为什么要使用函数**：通过实例说明函数如何减少重复代码，提高程序的可维护性和复用性。\n",
    "3. **如何使用函数**：学习如何定义函数、传递参数以及返回结果。\n",
    "\n",
    "## 日常实例\n",
    "### 函数的必要性\n",
    "- **计算两数之和的例子**：\n",
    "  - 如果没有函数，重复编写代码会显得冗长：\n",
    "    ```python\n",
    "    a = 10\n",
    "    b = 20\n",
    "    print(a + b)\n",
    "\n",
    "    c = 15\n",
    "    d = 25\n",
    "    print(c + d)\n",
    "    ```\n",
    "  - 使用函数后，代码更简洁：\n",
    "    ```python\n",
    "    def add_numbers(x, y):\n",
    "        return x + y\n",
    "\n",
    "    print(add_numbers(10, 20))  # 输出 30\n",
    "    print(add_numbers(15, 25))  # 输出 40\n",
    "    ```\n",
    "\n",
    "### 函数的复用性\n",
    "- **重复调用封装功能**：\n",
    "  - 假设需要多次计算平均值，使用函数可以避免重复编写代码：\n",
    "    ```python\n",
    "    def calculate_average(numbers):\n",
    "        return sum(numbers) / len(numbers)\n",
    "\n",
    "    print(calculate_average([1, 2, 3]))  # 输出 2.0\n",
    "    print(calculate_average([10, 20, 30]))  # 输出 20.0\n",
    "    ```\n",
    "\n",
    "通过这些实例，你将体会到函数在程序开发中的重要性。\n",
    "\n",
    "## 目录\n",
    "- [01_函数的基本使用](01_函数的基本使用.ipynb)  \n",
    "  学习如何定义和调用函数，掌握参数和返回值的用法。\n",
    "\n",
    "- [02_作用域](02_作用域.ipynb)  \n",
    "  理解局部变量和全局变量的概念，学习如何管理变量的作用范围。\n"
   ]
  },
  {
   "cell_type": "code",
   "execution_count": null,
   "id": "a188946f-24a9-44c9-91fc-2eef469fe1ec",
   "metadata": {},
   "outputs": [],
   "source": []
  }
 ],
 "metadata": {
  "kernelspec": {
   "display_name": "Python 3 (ipykernel)",
   "language": "python",
   "name": "python3"
  },
  "language_info": {
   "codemirror_mode": {
    "name": "ipython",
    "version": 3
   },
   "file_extension": ".py",
   "mimetype": "text/x-python",
   "name": "python",
   "nbconvert_exporter": "python",
   "pygments_lexer": "ipython3",
   "version": "3.10.15"
  }
 },
 "nbformat": 4,
 "nbformat_minor": 5
}
