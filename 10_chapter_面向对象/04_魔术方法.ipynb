{
 "cells": [
  {
   "cell_type": "markdown",
   "id": "40f69bbd-4185-48d7-9ad0-c664d9342450",
   "metadata": {},
   "source": [
    "## 魔术方法\n",
    "\n",
    "魔术方法就是在一个类自带的一些方法，有各自的特殊功能，主要是对象在进行各种各样的操作，会调用的方法\n",
    "\n",
    "`__init__`:构造方法\n",
    "\n",
    "`__str__`: 字符串方法\n",
    "\n",
    "`__lt__`: `<` 小于，大于符号比较方法\n",
    "\n",
    "`__le__`: `<=` 小于等于，大于等于符号比较方法\n",
    "\n",
    "`__eq__`: `==`  符号比较"
   ]
  },
  {
   "cell_type": "markdown",
   "id": "625e5921-3aa1-4835-9c69-4cd6079f75c2",
   "metadata": {},
   "source": [
    "### `__str__()`方法\n",
    "\n",
    "在之前我们使用`print()`输出语句输出一个对象时，我们能得到它的内存地址，但是有时候我们并不想得到它的内存地址，我们得到其他的信息，例如：完整对象属性的信息\n",
    "\n",
    "这里我们就可以借助`__str__()`方法实现"
   ]
  },
  {
   "cell_type": "code",
   "execution_count": 1,
   "id": "adf93442-b74e-4b6e-9e47-94612bca2c3b",
   "metadata": {},
   "outputs": [
    {
     "name": "stdout",
     "output_type": "stream",
     "text": [
      "student类对象，stu_name = 小明，stu_id = 20230101\n",
      "student类对象，stu_name = 小明，stu_id = 20230101\n"
     ]
    }
   ],
   "source": [
    "class Student:\n",
    "    stu_name = None\n",
    "    stu_id = None\n",
    "    \n",
    "    def __init__(self, stu_name, stu_id):\n",
    "        self.stu_name = stu_name\n",
    "        self.stu_id = stu_id\n",
    "\n",
    "    def __str__(self):\n",
    "        return f\"student类对象，stu_name = {self.stu_name}，stu_id = {self.stu_id}\"\n",
    "\n",
    "xiaoming = Student(\"小明\",\"20230101\")\n",
    "\n",
    "print(xiaoming)  # 默认：<__main__.Student object at 0x00000153F8F53070>\n",
    "print(xiaoming)  # student类对象，stu_name = 小明，stu_id = 20230101"
   ]
  },
  {
   "cell_type": "markdown",
   "id": "ea37317a-6b29-4cdc-b120-09da6f01aa6b",
   "metadata": {},
   "source": [
    "通过上述代码，我们可以看出`__str__()`决定了对象的返回值，这个返回值内容是由我们决定了，我们完全可以输出其他信息\n",
    "\n",
    "如果我们不写`__str__()`方法时，对象也是有返回值的，所以这是python类的内置方法，会自动给我们创建一个，返回值为对象的内存地址"
   ]
  },
  {
   "cell_type": "markdown",
   "id": "d1094e74-1d01-4ed9-8c51-b8e42c75fe0f",
   "metadata": {},
   "source": [
    "### `__lt__()`方法 小于符号比较方法\n",
    "\n",
    "当我们直接去比较两个对象时，是无法进行比较的，会报错，对象没有所谓的逻辑比较关系\n",
    "\n",
    "但有时候我们需要比较对象中的某一个值，比如年龄age，正常操作，我们可以使用对象.age的方法获取到年龄的值，然后进行比较，\n",
    "\n",
    "但是我们也可以通过`__lt__()`方法实现，通过比较对象，然后达到比较年龄age的效果"
   ]
  },
  {
   "cell_type": "code",
   "execution_count": 2,
   "id": "1c58519f-13d9-48f0-a6be-6ded4526f9ec",
   "metadata": {},
   "outputs": [
    {
     "name": "stdout",
     "output_type": "stream",
     "text": [
      "False\n",
      "True\n"
     ]
    }
   ],
   "source": [
    "class Student:\n",
    "    stu_name = None\n",
    "    stu_age = None\n",
    "    \n",
    "    def __init__(self, stu_name, stu_age):\n",
    "        self.stu_name = stu_name\n",
    "        self.stu_age = stu_age\n",
    "\n",
    "    def __lt__(self,other):\n",
    "        '''self 为自身对象，other为另外一个对象（必须是同类的）'''\n",
    "        return self.stu_age < other.stu_age\n",
    "\n",
    "xiaoming = Student(\"小明\",21)\n",
    "xiaomei = Student(\"小美\",20)\n",
    "\n",
    "print(xiaoming < xiaomei)  # False\n",
    "\n",
    "print(xiaoming > xiaomei)  # True\n",
    "        "
   ]
  },
  {
   "cell_type": "markdown",
   "id": "74c2ae13-504a-4b68-8f73-0892f2a72313",
   "metadata": {},
   "source": [
    "还有一个比较大于符号的魔术方法`__gt__`，实现了`__lt__`就没有必要实现`__gt__`了，因为都是同一类进行比较，当使用`>`比较时，另外一个对象反过来就是`<`了"
   ]
  },
  {
   "cell_type": "markdown",
   "id": "afff116c-ad5b-4a43-a9ca-1b04cad06aae",
   "metadata": {},
   "source": [
    "### `__le__()`小于等于比较符号方法"
   ]
  },
  {
   "cell_type": "code",
   "execution_count": 3,
   "id": "2f04e53f-e2e2-4399-9e31-ce8887d7b70e",
   "metadata": {},
   "outputs": [
    {
     "name": "stdout",
     "output_type": "stream",
     "text": [
      "False\n",
      "True\n"
     ]
    }
   ],
   "source": [
    "class Student:\n",
    "    def __init__(self, stu_name, stu_age):\n",
    "        self.stu_name = stu_name\n",
    "        self.stu_age = stu_age\n",
    "\n",
    "    def __le__(self,other):\n",
    "        '''self 为自身对象，other为另外一个对象（必须是同类的）'''\n",
    "        return self.stu_age <= other.stu_age\n",
    "\n",
    "xiaoming = Student(\"小明\",21)\n",
    "xiaomei = Student(\"小美\",20)\n",
    "\n",
    "print(xiaoming <= xiaomei)  # False\n",
    "\n",
    "print(xiaoming >= xiaomei)  # True"
   ]
  },
  {
   "cell_type": "markdown",
   "id": "e3b58026-9774-4fb6-a0c9-2c85c9e7f034",
   "metadata": {},
   "source": [
    "还有一个比较大于符号的魔术方法`__ge__`，实现了`__le__`就没有必要实现`__ge__`了，因为都是同一类进行比较，当使用`>=`比较时，另外一个对象反过来就是`<=`了"
   ]
  },
  {
   "cell_type": "markdown",
   "id": "1d762964-50ce-4d94-94b4-dd938bb798e9",
   "metadata": {},
   "source": [
    "### `__eq__()`，比较运算符实现方法\n",
    "\n",
    "该方法同样是类自带的方法，主要是实现对象与对象之间的比较，通过上述学习，可以看出对象与对象之间的比较，在使用`<`或`<=`时，如果没有去实现对应的方法，会报错\n",
    "\n",
    "`__eq__`方法\n",
    "\n",
    "- 不实现`__eq__`方法时，对象与对象之间可以使用`==`符号进行比较，但是比较的是内存地址，而我们是创建的两个不同的对象，所以内存地址一定不同，所以返回值一定是False\n",
    "- 实现`__eq__`方法时，对象与对象之间使用`==`符号进行比较，比较的逻辑根据实现的`__eq__`方法中的内容进行判断"
   ]
  },
  {
   "cell_type": "code",
   "execution_count": 4,
   "id": "d083b75b-2fbc-49fb-a680-8e84d10a96b0",
   "metadata": {},
   "outputs": [
    {
     "name": "stdout",
     "output_type": "stream",
     "text": [
      "False\n"
     ]
    }
   ],
   "source": [
    "class Student:\n",
    "    def __init__(self, stu_name, stu_age):\n",
    "        self.stu_name = stu_name\n",
    "        self.stu_age = stu_age\n",
    "\n",
    "    def __eq__(self,other):\n",
    "        '''self 为自身对象，other为另外一个对象（必须是同类的）'''\n",
    "        return self.stu_age == other.stu_age\n",
    "\n",
    "xiaoming = Student(\"小明\",21)\n",
    "xiaomei = Student(\"小美\",20)\n",
    "\n",
    "print(xiaoming == xiaomei)  # False"
   ]
  },
  {
   "cell_type": "markdown",
   "id": "f42fe4e0-1632-4598-a668-ff696e10b354",
   "metadata": {},
   "source": [
    "实现`__eq__`方法后，其中的比较逻辑由你自行编写，我们可以比较name属性，也可以比较age属性，当然也可以比较name和age属性"
   ]
  },
  {
   "cell_type": "markdown",
   "id": "d904ef52-f751-4915-98bc-ee06be3555d7",
   "metadata": {},
   "source": [
    "### 总结\n",
    "| 方法|功能|\n",
    "| ---- | ----|\n",
    "|  __init__ |  构造方法，可用于创建类对象的时候设置初始化行为 |\n",
    "|  __str__   |  用于实现类对象转字符串的行为    |\n",
    "|  __lt__    |   用于2个类对象进行小于或大于比较   |\n",
    "|  __le__    |   用于2个类对象进行小于等于或大于等于比较   |\n",
    "|  __eq__    |    用于2个类对象进行相等比较  |"
   ]
  },
  {
   "cell_type": "code",
   "execution_count": null,
   "id": "261b3472-6cdd-4bb1-877d-8bdc593bc334",
   "metadata": {},
   "outputs": [],
   "source": []
  }
 ],
 "metadata": {
  "kernelspec": {
   "display_name": "Python 3 (ipykernel)",
   "language": "python",
   "name": "python3"
  },
  "language_info": {
   "codemirror_mode": {
    "name": "ipython",
    "version": 3
   },
   "file_extension": ".py",
   "mimetype": "text/x-python",
   "name": "python",
   "nbconvert_exporter": "python",
   "pygments_lexer": "ipython3",
   "version": "3.10.15"
  }
 },
 "nbformat": 4,
 "nbformat_minor": 5
}
