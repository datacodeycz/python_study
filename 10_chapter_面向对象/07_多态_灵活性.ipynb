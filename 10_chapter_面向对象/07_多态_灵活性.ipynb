{
 "cells": [
  {
   "cell_type": "markdown",
   "id": "f973d876-4ff5-432d-9720-b08bc8d0e272",
   "metadata": {},
   "source": [
    "## 多态\n",
    "\n",
    "多态是：指多种状态，即完成某个行为时，使用不同的对象会得到不同的状态"
   ]
  },
  {
   "cell_type": "code",
   "execution_count": 4,
   "id": "a5801f4c-8cde-4384-82d0-75f610bce8d4",
   "metadata": {},
   "outputs": [],
   "source": [
    "class Animal:\n",
    "    def speak(self):\n",
    "        pass\n",
    "\n",
    "\n",
    "class Dog(Animal):\n",
    "    def speak(self):\n",
    "        print(\"汪汪汪\")\n",
    "\n",
    "class Cat(Animal):\n",
    "    def speak(self):\n",
    "        print(\"喵喵喵\")"
   ]
  },
  {
   "cell_type": "code",
   "execution_count": 5,
   "id": "b5194c99-16f6-4e66-8b7a-7de4336d2f03",
   "metadata": {},
   "outputs": [
    {
     "name": "stdout",
     "output_type": "stream",
     "text": [
      "喵喵喵\n",
      "汪汪汪\n"
     ]
    }
   ],
   "source": [
    "def make_noise(animal: Animal):\n",
    "    animal.speak()\n",
    "\n",
    "cat = Cat()\n",
    "dog = Dog()\n",
    "\n",
    "make_noise(cat)\n",
    "make_noise(dog)"
   ]
  },
  {
   "cell_type": "markdown",
   "id": "a7ea1162-0cef-4e4b-88cc-1666587e6664",
   "metadata": {},
   "source": [
    "同样的行为(函数)，传入不同的对象，得到不同的状态"
   ]
  },
  {
   "cell_type": "code",
   "execution_count": null,
   "id": "0d00a387-9e92-4eb7-86b6-c44fecbab206",
   "metadata": {},
   "outputs": [],
   "source": []
  }
 ],
 "metadata": {
  "kernelspec": {
   "display_name": "Python 3 (ipykernel)",
   "language": "python",
   "name": "python3"
  },
  "language_info": {
   "codemirror_mode": {
    "name": "ipython",
    "version": 3
   },
   "file_extension": ".py",
   "mimetype": "text/x-python",
   "name": "python",
   "nbconvert_exporter": "python",
   "pygments_lexer": "ipython3",
   "version": "3.10.14"
  },
  "widgets": {
   "application/vnd.jupyter.widget-state+json": {
    "state": {},
    "version_major": 2,
    "version_minor": 0
   }
  }
 },
 "nbformat": 4,
 "nbformat_minor": 5
}
