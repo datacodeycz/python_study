{
 "cells": [
  {
   "cell_type": "markdown",
   "id": "ea78cc1f-69af-4d48-acfc-d61fea6658e8",
   "metadata": {},
   "source": [
    "## 面向对象的三大特性\n",
    "`封装`、`继承`、`多态`\n",
    "\n",
    "`封装` --> 安全性\n",
    "\n",
    "`继承` --> 扩展性\n",
    "\n",
    "`多态` --> 灵活性"
   ]
  },
  {
   "cell_type": "markdown",
   "id": "b5ea8e26-decf-43fd-803c-b95298037059",
   "metadata": {},
   "source": [
    "## 封装\n",
    "在我们创建一个类的过程中，我们不希望有些变量和方法被访问，例如：当我们填写学生的基本信息时，我们并不希望学生去随意的更改`school` 学校这个变量，那我们就要将这个变量私有化，让创建出来的对象无法访问这个变量，但会引出一个问题，我不设置这个变量不行吗，反正对象也无法访问，但有时候我们在其他成员方法中可能需要访问，例如有一个方法是输出学校信息。**而不被类对象访问和修改的方法是私有成员变量**\n",
    "\n",
    "同样成员方法也是一样的，会有**私有成员方法**\n",
    "\n",
    "定义私有成员\n",
    "\n",
    "私有成员变量：变量名以__开头\n",
    "\n",
    "私有成员方法：方法名以__开头"
   ]
  },
  {
   "cell_type": "markdown",
   "id": "9fb1d7fc-6732-4f17-b6b5-8aaa519031c6",
   "metadata": {},
   "source": [
    "注意：私有成员变量或是方法都可以在类中（其他成员方法中）进行访问，只是不能被实例化出来的对象进行访问"
   ]
  },
  {
   "cell_type": "code",
   "execution_count": 5,
   "id": "4bf74b4c-809d-46ce-b094-4dee61200e33",
   "metadata": {},
   "outputs": [],
   "source": [
    "class Student:\n",
    "    stu_name = None\n",
    "\n",
    "    def __init__(self,stu_name):\n",
    "        self.stu_name = stu_name\n",
    "        # stu_school 就是一个私有成员变量\n",
    "        self.__stu_school = \"遂职院\"\n",
    "        \n",
    "    def visit_school(self):\n",
    "        '''通过其他成员方法访问私有成员变量'''\n",
    "        print(f\"你的学校是{self.__stu_school}\")\n",
    "\n",
    "xiaoming = Student(\"小明\")\n",
    "\n",
    "# xiaoming.__stu_school 无法访问这个成员变量"
   ]
  },
  {
   "cell_type": "markdown",
   "id": "e30fec1b-8f2d-4119-9ca6-7df8e3d52767",
   "metadata": {},
   "source": [
    "通过上述的方法我们能看出来，当一个对象中有一个属性时，这以为着这个对象有了两个权限，`访问这个属性` 和 `修改这个属性`, 那现在将这个变量私有化之后，就没有这两个权限了，但是我可以通过公开的方法（非私有方法）进行访问"
   ]
  },
  {
   "cell_type": "code",
   "execution_count": 8,
   "id": "be88260a-5ebe-467f-8ec7-2dde3e153f5b",
   "metadata": {},
   "outputs": [
    {
     "name": "stdout",
     "output_type": "stream",
     "text": [
      "你的学校是遂职院\n"
     ]
    }
   ],
   "source": [
    "class Student:\n",
    "    stu_name = None\n",
    "\n",
    "    def __init__(self,stu_name):\n",
    "        self.stu_name = stu_name\n",
    "        # stu_school 就是一个私有成员变量\n",
    "        self.__stu_school = \"遂职院\"\n",
    "        \n",
    "    def visit_school(self):\n",
    "        '''通过其他成员方法访问私有成员变量'''\n",
    "        print(f\"你的学校是{self.__stu_school}\")\n",
    "\n",
    "    def set_chool(self, school):\n",
    "        self.__stu_school = school\n",
    "\n",
    "xiaoming = Student(\"小明\")\n",
    "xiaoming.visit_school()"
   ]
  },
  {
   "cell_type": "code",
   "execution_count": 9,
   "id": "8f66ceea-5150-4a2a-82ff-28e2351a2145",
   "metadata": {},
   "outputs": [
    {
     "name": "stdout",
     "output_type": "stream",
     "text": [
      "你的学校是遂宁职业学院\n"
     ]
    }
   ],
   "source": [
    "xiaoming.set_chool(\"遂宁职业学院\")\n",
    "xiaoming.visit_school()"
   ]
  },
  {
   "cell_type": "markdown",
   "id": "7705d982-dbb6-47b3-9a72-95e66f139f27",
   "metadata": {},
   "source": [
    "上述的方式就将这个成员变量私有化了，通过公开的方法进行访问或修改，同样的方式，我们可以将方法私有化，然后通过公开的方法进行访问"
   ]
  },
  {
   "cell_type": "code",
   "execution_count": 14,
   "id": "a689cc32-9f96-4630-b60a-8c449f6bfd3d",
   "metadata": {},
   "outputs": [
    {
     "data": {
      "text/plain": [
       "'小明哐哐吃用筷子'"
      ]
     },
     "execution_count": 14,
     "metadata": {},
     "output_type": "execute_result"
    }
   ],
   "source": [
    "class Student:\n",
    "    stu_name = None\n",
    "\n",
    "    def __init__(self,stu_name):\n",
    "        self.stu_name = stu_name\n",
    "        # stu_school 就是一个私有成员变量\n",
    "        self.__stu_school = \"遂职院\"\n",
    "        \n",
    "    def __eat(self):\n",
    "       return f\"{self.stu_name}哐哐吃\"\n",
    "       \n",
    "    def obj_eat(self,using):\n",
    "       return self.__eat() + f'用{using}'\n",
    "\n",
    "\n",
    "xiaoming = Student(\"小明\")\n",
    "xiaoming.obj_eat('筷子')"
   ]
  },
  {
   "cell_type": "markdown",
   "id": "c4568ca3-bbed-4f3e-8b94-1ce27dcdc6d2",
   "metadata": {},
   "source": [
    "上述的代码，其实已经实现了成员变量或成员方法的封装，但是我现在希望通过`对象.属性`的方式访问，`对象.属性 = 属性值`的方式修改，我需要怎么操作"
   ]
  },
  {
   "cell_type": "markdown",
   "id": "41630783-3c53-433e-a826-a556d914ac8c",
   "metadata": {},
   "source": [
    "其实通过`对象.属性`的方式访问，`对象.属性 = 属性值`的方式修改的方式是最常用的，我们来改写一下代码，通过访问类属性的方式来操作"
   ]
  },
  {
   "cell_type": "code",
   "execution_count": 15,
   "id": "7b23a551-d1cf-43e5-bd41-bdb1501ac14e",
   "metadata": {},
   "outputs": [],
   "source": [
    "class Student:\n",
    "    stu_name = None\n",
    "\n",
    "    def __init__(self,stu_name):\n",
    "        self.stu_name = stu_name\n",
    "        # stu_school 就是一个私有成员变量\n",
    "        self.__stu_school = \"遂职院\"\n",
    "        \n",
    "    def get_school(self):\n",
    "        '''通过其他成员方法访问私有成员变量'''\n",
    "        return f\"你的学校是{self.__stu_school}\"\n",
    "    \n",
    "    def set_school(self,school):\n",
    "        self.__stu_school = school\n",
    "    # 写一个类属性，这个类属性是property类型的，当访问时，会调用fget参数的方法，当修改时，会调用fset参数的方法\n",
    "    stu_school = property(fget=get_school, fset=set_school)"
   ]
  },
  {
   "cell_type": "code",
   "execution_count": 16,
   "id": "928565ff-7c6e-4035-97f4-5c3021a51308",
   "metadata": {},
   "outputs": [
    {
     "name": "stdout",
     "output_type": "stream",
     "text": [
      "你的学校是遂职院\n",
      "你的学校是遂宁职业学院\n"
     ]
    }
   ],
   "source": [
    "stu_1 = Student('小明')\n",
    "print(stu_1.stu_school)\n",
    "stu_1.stu_school = \"遂宁职业学院\"\n",
    "print(stu_1.stu_school)"
   ]
  },
  {
   "cell_type": "markdown",
   "id": "3c187c30-8817-49dd-bc51-eceb5d4c0456",
   "metadata": {},
   "source": [
    "通过上述的方式，能够实现我们想要的效果"
   ]
  },
  {
   "cell_type": "markdown",
   "id": "201a87a8-96b6-46ca-9efd-9a3710ba70de",
   "metadata": {},
   "source": [
    "这里我们还可以通过装饰器进行修改"
   ]
  },
  {
   "cell_type": "code",
   "execution_count": 17,
   "id": "e503e403-4c93-4937-b053-7483dceaff2b",
   "metadata": {},
   "outputs": [],
   "source": [
    "class Student:\n",
    "    stu_name = None\n",
    "\n",
    "    def __init__(self,stu_name):\n",
    "        self.stu_name = stu_name\n",
    "        # stu_school 就是一个私有成员变量\n",
    "        self.__stu_school = \"遂职院\"\n",
    "    @property    \n",
    "    def stu_school(self):\n",
    "        '''通过其他成员方法访问私有成员变量'''\n",
    "        return f\"你的学校是{self.__stu_school}\"\n",
    "    @stu_school.setter\n",
    "    def stu_school(self,school):\n",
    "        self.__stu_school = school"
   ]
  },
  {
   "cell_type": "code",
   "execution_count": 18,
   "id": "d594e44e-6ca9-4a97-872d-c3db5b73c9db",
   "metadata": {},
   "outputs": [
    {
     "name": "stdout",
     "output_type": "stream",
     "text": [
      "你的学校是遂职院\n",
      "你的学校是遂宁职业学院\n"
     ]
    }
   ],
   "source": [
    "stu_1 = Student('小明')\n",
    "print(stu_1.stu_school)\n",
    "stu_1.stu_school = \"遂宁职业学院\"\n",
    "print(stu_1.stu_school)"
   ]
  },
  {
   "cell_type": "markdown",
   "id": "df38b8ce-b10b-4c8e-a932-9da438e24641",
   "metadata": {},
   "source": [
    "上述的代码仍然可以用"
   ]
  },
  {
   "cell_type": "code",
   "execution_count": null,
   "id": "c98319af-ba51-4bae-b7ee-e2f41ad3e61b",
   "metadata": {},
   "outputs": [],
   "source": []
  }
 ],
 "metadata": {
  "kernelspec": {
   "display_name": "Python 3 (ipykernel)",
   "language": "python",
   "name": "python3"
  },
  "language_info": {
   "codemirror_mode": {
    "name": "ipython",
    "version": 3
   },
   "file_extension": ".py",
   "mimetype": "text/x-python",
   "name": "python",
   "nbconvert_exporter": "python",
   "pygments_lexer": "ipython3",
   "version": "3.10.15"
  }
 },
 "nbformat": 4,
 "nbformat_minor": 5
}
