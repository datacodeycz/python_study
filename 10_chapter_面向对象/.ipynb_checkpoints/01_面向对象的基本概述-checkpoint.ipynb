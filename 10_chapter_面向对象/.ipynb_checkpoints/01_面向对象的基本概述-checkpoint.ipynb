{
 "cells": [
  {
   "cell_type": "markdown",
   "id": "3cd0ea2f-b85c-4a25-8fcf-fddaa29a6cb9",
   "metadata": {
    "editable": true,
    "slideshow": {
     "slide_type": "slide"
    },
    "tags": []
   },
   "source": [
    "# 面向对象（OOP）\n",
    "## 面向对象的基本概述\n",
    "python是一种面向对象的编程语言，而python中几乎所有东西都是对象，拥有属性和方法。\n",
    "\n",
    "问题：\n",
    "\n",
    "1. 什么是面向对象编程\n",
    "   - 计算机程序是干什么的\n",
    "      - 程序就是对象现实世界的抽象\n",
    "   - 对象是干什么的\n",
    "      - 一个事物抽象到程序中后就变成了对象\n",
    "      - 在程序的世界中，一切皆对象 \n",
    "   - 面向对象编程是什么\n",
    "        - 面向对象的编程就是指，程序中的所有操作都是通过对象来完成的\n",
    "        - 做任何事情之前都需要先找到它的对象，然后通过对象来完成各种操作\n",
    "\n",
    "2. 为什么要有面向对象\n",
    "\n",
    "      \n",
    "3. 怎么来使用面向对象编程"
   ]
  },
  {
   "cell_type": "markdown",
   "id": "1546ba78-539c-42a4-a328-f6eae4e9899b",
   "metadata": {
    "editable": true,
    "slideshow": {
     "slide_type": "slide"
    },
    "tags": []
   },
   "source": [
    "## 对象\n",
    "一个事物抽象到程序就变成了对象，对象中包含了特征（属性）和行为（方法）\n",
    "\n",
    "例如：一个大二的学生\n",
    "\n",
    "有哪些特征：学号、姓名、班级、成绩等\n",
    "\n",
    "有哪些行为：上课、吃饭、睡觉等\n",
    "\n",
    "\n",
    "我们是无法将这个大二的学生的所有特征和行为都写出来的，但是我们可以写常见的和我们要使用到的，这就将一个实体抽象成了一个程序中的一个对象"
   ]
  },
  {
   "cell_type": "code",
   "execution_count": 2,
   "id": "e0082163-e683-4f58-820f-274145f21597",
   "metadata": {
    "editable": true,
    "slideshow": {
     "slide_type": "slide"
    },
    "tags": []
   },
   "outputs": [],
   "source": [
    "# 引入对象\n",
    "\n",
    "stu_id = \"20230101\"\n",
    "stu_name = \"小明\"\n",
    "stu_class = \"软件技术1班\"\n",
    "stu_score = {\"计算机网络\": \"99\",\n",
    "             \"python\":\"100\",\n",
    "             \"linux\":\"99\",\n",
    "            \"javaWeb\":\"100\"};"
   ]
  },
  {
   "cell_type": "markdown",
   "id": "77b00102-3c2d-480e-ad76-04a4ef83fd28",
   "metadata": {
    "editable": true,
    "slideshow": {
     "slide_type": ""
    },
    "tags": []
   },
   "source": [
    "上述这些数据都是属于小明的，但怎么确定是小明的啦\n",
    "\n",
    "我们可不可以借助对象来表示这些都是小明这个对象的特征"
   ]
  },
  {
   "cell_type": "code",
   "execution_count": 3,
   "id": "9af70793-8a07-4dc2-9f72-a8c11d66dc48",
   "metadata": {
    "editable": true,
    "slideshow": {
     "slide_type": "slide"
    },
    "tags": []
   },
   "outputs": [],
   "source": [
    "# 创建对象\n",
    "\n",
    "# 在python中创建对象之前，需要有一个创建该对象的模板（蓝图） ----> 类"
   ]
  },
  {
   "cell_type": "markdown",
   "id": "7db27deb-c2ad-4d94-915d-84426f8a9e3b",
   "metadata": {},
   "source": [
    "类：创建对象的模板。\n",
    "\n",
    "上述的数据虽然都属于小明的，但是每一个大二的学生都有那些特征，只是特征对应的数据不一样。\n",
    "\n",
    "所以我们可以创建一个 `创建对象的模板--->类`，然后再通过这个类来创建对象，给这个对象填写属于自己的属性（特征）"
   ]
  },
  {
   "cell_type": "code",
   "execution_count": null,
   "id": "ba8be0ae-7e39-4e7c-990f-9550e51d27cd",
   "metadata": {
    "editable": true,
    "slideshow": {
     "slide_type": "slide"
    },
    "tags": []
   },
   "outputs": [
    {
     "name": "stdout",
     "output_type": "stream",
     "text": [
      "<__main__.Student object at 0x00000153F8F51870>\n"
     ]
    }
   ],
   "source": [
    "# 创建类的格式为\n",
    "'''\n",
    "class 类名:\n",
    "    属性\n",
    "    方法\n",
    "'''\n",
    "\n",
    "# 创建Student类\n",
    "class Student:\n",
    "    stu_name = None\n",
    "    stu_id = None\n",
    "    stu_class = None\n",
    "    stu_score = None\n",
    "\n",
    "\n",
    "# 通过类创建对象\n",
    "xiaoming = Student()\n",
    "\n",
    "# 给xiaoming这个对象的属性增加属性值\n",
    "# 1.对象.属性 = 属性值\n",
    "# 2.访问对象的属性： 对象.属性\n",
    "xiaoming.stu_name = \"小明\"\n",
    "xiaoming.stu_id = \"20230101\"\n",
    "xiaoming.stu_class  = \"软件技术1班\"\n",
    "xiaoming.stu_score = {\"计算机网络\": \"99\",\n",
    "             \"python\":\"100\",\n",
    "             \"linux\":\"99\",\n",
    "            \"javaWeb\":\"100\"};\n",
    "\n",
    "print(xiaoming)  # <__main__.Student object at 0x000002049A3121A0> 看到的是对象存储的地址 后续通过魔术方法 __str__()会学到\n",
    "\n",
    "# 上述这种方式就将属于小明的属性对应的属性值对应上了，就可以通过操作对象的方式来访问或修改小明的属性"
   ]
  },
  {
   "cell_type": "markdown",
   "id": "1691edf0-300d-4c55-9d2b-d877cc28a249",
   "metadata": {},
   "source": [
    "注意：在python中，所有我们之前学过的数据类型都是对象"
   ]
  },
  {
   "cell_type": "markdown",
   "id": "6e5d4c89-c63f-4818-a206-874b9279cec7",
   "metadata": {},
   "source": [
    "## 面向对象的三大特性\n",
    "`封装`、`继承`、`多态`\n",
    "\n",
    "`封装` --> 安全性\n",
    "\n",
    "`继承` --> 扩展性\n",
    "\n",
    "`多态` --> 灵活性"
   ]
  },
  {
   "cell_type": "markdown",
   "id": "5fe96928-ef15-423e-b0ce-1e6cd1b9af00",
   "metadata": {},
   "source": [
    "### 封装\n",
    "在我们创建一个类的过程中，我们不希望有些变量和方法被访问，例如：当我们填写学生的基本信息时，我们并不希望学生去随意的更改`school` 学校这个变量，那我们就要将这个变量私有化，让创建出来的对象无法访问这个变量，但会引出一个问题，我不设置这个变量不行吗，反正对象也无法访问，但有时候我们在其他成员方法中可能需要访问，例如有一个方法是输出学校信息。**而不被类对象访问和修改的方法是私有成员变量**\n",
    "\n",
    "同样成员方法也是一样的，会有**私有成员方法**\n",
    "\n",
    "定义私有成员\n",
    "\n",
    "私有成员变量：变量名以__开头\n",
    "\n",
    "私有成员方法：方法名以__开头"
   ]
  },
  {
   "cell_type": "markdown",
   "id": "ce57c5f4-164e-4e18-a322-d0c6c6537920",
   "metadata": {},
   "source": [
    "注意：私有成员变量或是方法都可以在其他成员方法中进行访问，只是不能被实例化出来的对象进行访问"
   ]
  },
  {
   "cell_type": "code",
   "execution_count": null,
   "id": "a1ae53c9-63b9-430b-9ff5-d47f05f10ae0",
   "metadata": {},
   "outputs": [
    {
     "name": "stdout",
     "output_type": "stream",
     "text": [
      "你的学校是遂职院\n",
      "你的学校是遂职院\n"
     ]
    }
   ],
   "source": [
    "class Student:\n",
    "    stu_name = None\n",
    "    # 表示私有成员变量\n",
    "    __stu_school = \"遂宁职业学院\"\n",
    "\n",
    "    def __init__(self,stu_name,__stu_school):\n",
    "        self.stu_name = stu_name\n",
    "        # 能在创建对象的时候设置吗\n",
    "        self.__stu_school = __stu_school\n",
    "        \n",
    "    def visit_school(self):\n",
    "        '''通过其他成员方法访问私有成员变量'''\n",
    "        print(f\"你的学校是{self.__stu_school}\")\n",
    "\n",
    "    \n",
    "\n",
    "xiaoming = Student(\"小明\",\"遂职院\")\n",
    "xiaoming.visit_school()  # 你的学校是遂职院\n",
    "# print(xiaoming.__stu_school)  # 'Student' object has no attribute '__stu_school'\n",
    "xiaoming.__stu_school = \"遂宁职业学院\"  # 并没有报错\n",
    "\n",
    "# 我们可以通过成员方法查看该变量的值是否发生了改变\n",
    "xiaoming.visit_school()  # 你的学校是遂职院 并没有发生改变，"
   ]
  },
  {
   "cell_type": "markdown",
   "id": "44a509bb-7835-46b6-9412-e859fffa0788",
   "metadata": {},
   "source": [
    "上述代码说明，在创建对象的时候可以设置私有成员变量的值，但是后续就无法访问和修改了\n",
    "\n",
    "访问私有成员变量时，会报错 **不存在改成员变量**\n",
    "\n",
    "修改私有成员变量时，不会报错，**结果无效**\n"
   ]
  },
  {
   "cell_type": "markdown",
   "id": "72c52674-a96a-409b-97a2-3769e411535d",
   "metadata": {},
   "source": [
    "练习：设计带有私有成员的手机\n",
    "设计一个手机类，内部包含：\n",
    "- 私有成员变量：__is_5g_enable，类型bool，True表示开启5g，False表示关闭5g\n",
    "- 私有成员方法：__check_5g()，会判断私有成员__is_5g_enable的值\n",
    "    - 若为True，打印输出：5g开启\n",
    "    - 若为False，打印输出：5g关闭，使用4g网络\n",
    "- 公开成员方法：call_by_5g()，调用它会执行\n",
    "    - 调用私有成员方法：__check_5g()，判断5g网络状态\n",
    "    - 打印输出：正在通话中\n",
    "运行结果：\n",
    "\n",
    "通过完成这个类的设计和使用，体会封装中私有成员的作用\n",
    "- 对用户公开的，call_by_5g()方法\n",
    "- 对用户隐藏的，__is_5g_enable私有变量和__check_5g私有成员\n"
   ]
  },
  {
   "cell_type": "markdown",
   "id": "9ecba38b-d01a-499c-a79c-33e41e1efb5d",
   "metadata": {},
   "source": [
    "在类中提供仅供内部使用的属性和方法，而不对外开放（类对象无法使用）\n",
    "\n",
    "如果我们需要访问属性或是，我们可以借助调用成员对象的方式来访问"
   ]
  },
  {
   "cell_type": "code",
   "execution_count": null,
   "id": "cb13ca92-1517-4d75-8c29-0b386d873c56",
   "metadata": {},
   "outputs": [
    {
     "name": "stdout",
     "output_type": "stream",
     "text": [
      "name:小明,id:199\n",
      "小明\n"
     ]
    }
   ],
   "source": [
    "# 实例\n",
    "\n",
    "# Student类\n",
    "class Student:\n",
    "    __name = None\n",
    "    __id = None\n",
    "\n",
    "    # 初始化方法\n",
    "    def __init__(self,name,id):\n",
    "        self.__name = name\n",
    "        self.__id = id\n",
    "\n",
    "    # 设置name的属性值\n",
    "    def set_name(self,name):\n",
    "        self.__name = name\n",
    "\n",
    "    def get_name(self):\n",
    "        return self.__name\n",
    "\n",
    "    def __str__(self):\n",
    "        return f\"name:{self.__name},id:{self.__id}\"\n",
    "\n",
    "xiaoming = Student(\"小明1\",\"199\")\n",
    "xiaoming.set_name(\"小明\")  # 修改成功\n",
    "print(xiaoming)\n",
    "print(xiaoming.get_name())  # 访问成功"
   ]
  },
  {
   "cell_type": "markdown",
   "id": "17ddd386-ab00-4234-84b2-501cfd3f4e62",
   "metadata": {},
   "source": [
    "### 继承\n",
    "\n",
    "当我们创建一个Student类的时候，我们还可以进一步的抽象这个类，学生类进一步抽象可以抽象为人类，而人类里面有 人的姓名和年龄和身份证号码等属性，和吃饭，睡觉等一些行为方法，我们创建一个人类，并编写这个类后。当我们再创建一个学生类还需要再写一遍，我们可不可以不写学生的姓名和年龄等属性，因为我们这个Person类是由学生类进一步抽象得到的，Person类中的属性和方法都是Student类中应该有的，是不是我们可以通过某种方式将Person类中的方法复制给Student类中，我们在创建Student类时就不需要再写这些属性和方法了，这个方式就是**继承**"
   ]
  },
  {
   "cell_type": "code",
   "execution_count": null,
   "id": "2a713aa3-9a83-4c4b-9a0c-0657bd809935",
   "metadata": {},
   "outputs": [
    {
     "name": "stdout",
     "output_type": "stream",
     "text": [
      "Person:xiaoming,19,2023\n"
     ]
    }
   ],
   "source": [
    "# 继承的实例\n",
    "\n",
    "class Person:\n",
    "    name = None\n",
    "    age = None\n",
    "    __id = None\n",
    "    \n",
    "    def __init__(self,name,age,id):\n",
    "        self.name = name\n",
    "        self.age = age\n",
    "        self.__id = id\n",
    "\n",
    "    def __str__(self):\n",
    "        return f\"Person:{self.name},{self.age},{self.__id}\"\n",
    "\n",
    "    def eat(self):\n",
    "        print(\"吃饭\")\n",
    "\n",
    "\n",
    "class Student(Person):\n",
    "    pass\n",
    "\n",
    "student = Student(\"xiaoming\",\"19\",\"2023\")\n",
    "\n",
    "print(student)"
   ]
  },
  {
   "cell_type": "markdown",
   "id": "3c818ffc-ef59-4d3b-8183-0e07bc350343",
   "metadata": {},
   "source": [
    "所谓的继承，类似于将父类中的代码复制一份给子类，子类就可以使用父类的属性和方法，但是注意，父类中私有属性和私有方法是无法复制过来的"
   ]
  },
  {
   "cell_type": "code",
   "execution_count": null,
   "id": "dd08df81-b3e5-453a-8d13-3a30402abb26",
   "metadata": {},
   "outputs": [],
   "source": [
    "# student.__id  # 'Student' object has no attribute '__id'"
   ]
  },
  {
   "cell_type": "markdown",
   "id": "e43f7b88-876f-4ae2-8370-f919d1af2c4e",
   "metadata": {},
   "source": [
    "在我们将父类中的属性和方法复制给子类时，我们有可能实现的方法是不同的"
   ]
  },
  {
   "cell_type": "code",
   "execution_count": null,
   "id": "80d63d53-d5cc-43f8-bbf3-bd2b877af646",
   "metadata": {},
   "outputs": [],
   "source": [
    "class Animal:\n",
    "    name = None\n",
    "    age = None\n",
    "\n",
    "    def __init__(self,name,age):\n",
    "        self.name = name\n",
    "        self.age = age\n",
    "\n",
    "    def __str__(self):\n",
    "        return f\"name : {self.name}, age : {self.age}\"\n",
    "\n",
    "    def say(self):\n",
    "        print(\"动物叫\")\n",
    "\n",
    "\n",
    "# Cat继承Animal\n",
    "\n",
    "class Cat(Animal):\n",
    "\n",
    "    # 将Animal的属性和方法都继承过来了，但是小猫的叫声是喵喵叫，不是动物叫，所以我们需要复写这个方法\n",
    "    def say(self):\n",
    "        print(\"喵喵叫\")"
   ]
  },
  {
   "cell_type": "markdown",
   "id": "47a4e47a-5fae-4a4a-9f72-96a15c40dbab",
   "metadata": {},
   "source": [
    "问题：现在相当于Cat类中有两个say方法，类对象调用`say`方法，会调用自己的还是父类的方法"
   ]
  },
  {
   "cell_type": "code",
   "execution_count": null,
   "id": "385a5489-43e0-4f40-91b7-9a30101fafe8",
   "metadata": {},
   "outputs": [
    {
     "name": "stdout",
     "output_type": "stream",
     "text": [
      "喵喵叫\n"
     ]
    }
   ],
   "source": [
    "cat = Cat(\"xiaomiao\",\"3\")\n",
    "cat.say()  # 喵喵叫"
   ]
  },
  {
   "cell_type": "markdown",
   "id": "7e7f5c27-6eae-429e-8bfa-f23b0d35029a",
   "metadata": {},
   "source": [
    "我们能看到cat类对象调用say方法，调用的是自己，我们可以得出，首先我们会在自己这个类中循环是否有这个属性或方法，如果有这个方法就使用自己的，如果没有这个方法就去父类找这个方法，如果能找到就使用父类的方法，如果找不到，就继续向父类的父类找，最终都没有找到的到，就报错"
   ]
  },
  {
   "cell_type": "markdown",
   "id": "81508af7-3770-4968-b778-4cd68c37ff4c",
   "metadata": {},
   "source": [
    "上述的过程叫做`复写`:子类继承父类的成员属性和方法后，如果对其不满足自己的需求，就可以进行`复写`，即在子类中重新定义同名的属性或方法即可"
   ]
  },
  {
   "cell_type": "markdown",
   "id": "ab23022c-502e-42e3-b350-b965f60966c8",
   "metadata": {},
   "source": [
    "有时候，我们的子类会比父类多一些属性或方法，例如：在Animal类中，只有name和age属性，但是我希望我的Cat类中有一个格外的属性`breed`,我可以在创建Cat类的使用直接添加一个`breed`属性，但这个属性目前就属于Cat类，不会属于Animal类"
   ]
  },
  {
   "cell_type": "code",
   "execution_count": null,
   "id": "c74d8fec-31b5-4c88-96d0-2a32d865c0b2",
   "metadata": {},
   "outputs": [
    {
     "name": "stdout",
     "output_type": "stream",
     "text": [
      "name:小咪,age:3,breed:狸花猫\n"
     ]
    }
   ],
   "source": [
    "class Cat(Animal):\n",
    "    breed = None\n",
    "\n",
    "    def __init__(self,name,age,breed):\n",
    "        self.name = name\n",
    "        self.age = age\n",
    "        self.breed = breed\n",
    "\n",
    "    def __str__(self):\n",
    "        return f\"name:{self.name},age:{self.age},breed:{self.breed}\"\n",
    "\n",
    "    def say(self):\n",
    "        print(\"喵喵叫\")\n",
    "\n",
    "\n",
    "cat_obj = Cat(\"小咪\",\"3\",\"狸花猫\")\n",
    "\n",
    "print(cat_obj)  # name:小咪,age:3,breed:狸花猫"
   ]
  },
  {
   "cell_type": "markdown",
   "id": "778ff5ee-ac37-41c9-bef2-fe6201ff2845",
   "metadata": {},
   "source": [
    "上述代码的过程就是对对象的`扩展`，这也是继承的一个特点\n",
    "\n",
    "注意：在子类中写的属性或方法，都只属于子类或是子类的父类（私有成员除外）"
   ]
  },
  {
   "cell_type": "markdown",
   "id": "1af9770f-3c4a-4cd4-bfc2-48172d0aa808",
   "metadata": {},
   "source": [
    "有时候我们会在子类中使用到父类的方法，在子类中我们使用父类的方法需要特殊的调用方式\n",
    "\n",
    "方式1：调用父类成员\n",
    "\n",
    "`使用成员变量：父类名.成员变量`</br>\n",
    "`使用成员方法：父类名.成员方法(self)`\n",
    "\n",
    "方式2：使用super()调用父类成员\n",
    "\n",
    "`使用成员变量：super().成员变量`</br>\n",
    "`使用成员方法：super().成员方法()`"
   ]
  },
  {
   "cell_type": "code",
   "execution_count": null,
   "id": "e778dc3d-30d3-41ae-a0c4-e12152751310",
   "metadata": {},
   "outputs": [],
   "source": [
    "# 动物类\n",
    "class Animal:\n",
    "    name = None  # 姓名\n",
    "    id = None  # id\n",
    "\n",
    "    def __init__(self,name,id):\n",
    "        self.name = name\n",
    "        self.id = id\n",
    "    \n",
    "    def sayHello(self):\n",
    "        print(\"动物叫\")\n",
    "\n",
    "    def eat(self):\n",
    "        print(\"吃饭\")"
   ]
  },
  {
   "cell_type": "code",
   "execution_count": null,
   "id": "7fffd59e-ba54-4002-841e-1553c98885fe",
   "metadata": {},
   "outputs": [
    {
     "name": "stdout",
     "output_type": "stream",
     "text": [
      "动物叫\n",
      "吃饭\n"
     ]
    }
   ],
   "source": [
    "# Cat类\n",
    "\n",
    "class Cat(Animal):\n",
    "\n",
    "    def eat_cat(self):\n",
    "        super().eat()\n",
    "\n",
    "    def say_hello_cat(self):\n",
    "        Animal.sayHello(self)\n",
    "\n",
    "cat = Cat(\"小米\",\"2023\")\n",
    "cat.say_hello_cat()\n",
    "cat.eat_cat()"
   ]
  },
  {
   "cell_type": "markdown",
   "id": "5780e281-94bc-41fa-8662-0fe10dc32e8a",
   "metadata": {},
   "source": [
    "注意：只可以在子类内部调用父类的同名成员，子类的实体类对象调用默认是调用子类复写的"
   ]
  },
  {
   "cell_type": "markdown",
   "id": "ec862b1a-3a2f-4a6f-9123-b4ca0990f3d0",
   "metadata": {},
   "source": [
    "### 多态\n",
    "\n",
    "多态是：指多种状态，即完成某个行为时，使用不同的对象会得到不同的状态"
   ]
  },
  {
   "cell_type": "code",
   "execution_count": null,
   "id": "80b5cd6b-4225-4de1-b314-d4a381047715",
   "metadata": {},
   "outputs": [],
   "source": [
    "class Animal:\n",
    "    def speak(self):\n",
    "        pass\n",
    "\n",
    "\n",
    "class Dog(Animal):\n",
    "    def speak(self):\n",
    "        print(\"汪汪汪\")\n",
    "\n",
    "class Cat(Animal):\n",
    "    def speak(self):\n",
    "        print(\"喵喵喵\")\n"
   ]
  },
  {
   "cell_type": "code",
   "execution_count": null,
   "id": "779aff35-5aca-4a6b-855f-fee9cda555b0",
   "metadata": {},
   "outputs": [
    {
     "name": "stdout",
     "output_type": "stream",
     "text": [
      "喵喵喵\n",
      "汪汪汪\n"
     ]
    }
   ],
   "source": [
    "def make_noise(animal: Animal):\n",
    "    animal.speak()\n",
    "\n",
    "cat = Cat()\n",
    "dog = Dog()\n",
    "\n",
    "make_noise(cat)\n",
    "make_noise(dog)"
   ]
  },
  {
   "cell_type": "markdown",
   "id": "1eba316d-4c3d-4143-90a3-b283a58005b6",
   "metadata": {},
   "source": [
    "同样的行为(函数)，传入不同的对象，得到不同的状态"
   ]
  },
  {
   "cell_type": "code",
   "execution_count": null,
   "id": "9d49970d-1b90-4b0b-9c91-c7264ef192f6",
   "metadata": {},
   "outputs": [],
   "source": []
  }
 ],
 "metadata": {
  "kernelspec": {
   "display_name": "Python 3 (ipykernel)",
   "language": "python",
   "name": "python3"
  },
  "language_info": {
   "codemirror_mode": {
    "name": "ipython",
    "version": 3
   },
   "file_extension": ".py",
   "mimetype": "text/x-python",
   "name": "python",
   "nbconvert_exporter": "python",
   "pygments_lexer": "ipython3",
   "version": "3.10.15"
  }
 },
 "nbformat": 4,
 "nbformat_minor": 5
}
