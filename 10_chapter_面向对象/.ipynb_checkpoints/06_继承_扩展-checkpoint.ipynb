{
 "cells": [
  {
   "cell_type": "markdown",
   "id": "ab4fbb3c-08c0-4419-8cc3-08f6a20a62b7",
   "metadata": {},
   "source": [
    "## 继承\n",
    "\n",
    "当我们创建一个Student类的时候，我们还可以进一步的抽象这个类，学生类进一步抽象可以抽象为人类，而人类里面有 人的姓名和年龄和身份证号码等属性，和吃饭，睡觉等一些行为方法，我们创建一个人类，并编写这个类后。当我们再创建一个学生类还需要再写一遍，我们可不可以不写学生的姓名和年龄等属性，因为我们这个Person类是由学生类进一步抽象得到的，Person类中的属性和方法都是Student类中应该有的，是不是我们可以通过某种方式将Person类中的方法复制给Student类中，我们在创建Student类时就不需要再写这些属性和方法了，这个方式就是**继承**"
   ]
  },
  {
   "cell_type": "code",
   "execution_count": 2,
   "id": "92344557-020d-4f3f-95d4-cf4b488ce4cd",
   "metadata": {},
   "outputs": [
    {
     "name": "stdout",
     "output_type": "stream",
     "text": [
      "Person:xiaoming,19,2023\n"
     ]
    }
   ],
   "source": [
    "# 继承的实例\n",
    "\n",
    "class Person:\n",
    "    name = None\n",
    "    age = None\n",
    "    __id = None\n",
    "    \n",
    "    def __init__(self,name,age,id):\n",
    "        self.name = name\n",
    "        self.age = age\n",
    "        self.__id = id\n",
    "\n",
    "    def __str__(self):\n",
    "        return f\"Person:{self.name},{self.age},{self.__id}\"\n",
    "\n",
    "    def eat(self):\n",
    "        print(\"吃饭\")\n",
    "\n",
    "\n",
    "class Student(Person):\n",
    "    pass\n",
    "\n",
    "student = Student(\"xiaoming\",\"19\",\"2023\")\n",
    "\n",
    "print(student)"
   ]
  },
  {
   "cell_type": "markdown",
   "id": "ada13eb5-094d-41f1-8bca-3071b17d8110",
   "metadata": {},
   "source": [
    "所谓的继承，类似于将父类中的代码复制一份给子类，子类就可以使用父类的属性和方法，但是注意，父类中私有属性和私有方法是无法复制过来的"
   ]
  },
  {
   "cell_type": "markdown",
   "id": "dadc105e-3a89-4051-b98a-7366d35ddd7c",
   "metadata": {},
   "source": [
    "在我们将父类中的属性和方法复制给子类时，我们有可能实现的方法是不同的"
   ]
  },
  {
   "cell_type": "code",
   "execution_count": 3,
   "id": "66818129-6404-4023-8ca7-897bb3e3a0a0",
   "metadata": {},
   "outputs": [],
   "source": [
    "class Animal:\n",
    "    name = None\n",
    "    age = None\n",
    "\n",
    "    def __init__(self,name,age):\n",
    "        self.name = name\n",
    "        self.age = age\n",
    "\n",
    "    def __str__(self):\n",
    "        return f\"name : {self.name}, age : {self.age}\"\n",
    "\n",
    "    def say(self):\n",
    "        print(\"动物叫\")\n",
    "\n",
    "\n",
    "# Cat继承Animal\n",
    "\n",
    "class Cat(Animal):\n",
    "\n",
    "    # 将Animal的属性和方法都继承过来了，但是小猫的叫声是喵喵叫，不是动物叫，所以我们需要复写这个方法\n",
    "    def say(self):\n",
    "        print(\"喵喵叫\")"
   ]
  },
  {
   "cell_type": "code",
   "execution_count": 4,
   "id": "440c8683-7c71-4c08-98c7-335e9696d0a6",
   "metadata": {},
   "outputs": [
    {
     "name": "stdout",
     "output_type": "stream",
     "text": [
      "喵喵叫\n"
     ]
    }
   ],
   "source": [
    "cat = Cat(\"xiaomiao\",\"3\")\n",
    "cat.say()  # 喵喵叫"
   ]
  },
  {
   "cell_type": "markdown",
   "id": "238eb045-7703-4ac0-aac1-df02f09927d3",
   "metadata": {},
   "source": [
    "我们能看到cat类对象调用say方法，调用的是自己，我们可以得出，首先我们会在自己这个类中循环是否有这个属性或方法，如果有这个方法就使用自己的，如果没有这个方法就去父类找这个方法，如果能找到就使用父类的方法，如果找不到，就继续向父类的父类找，最终都没有找到的到，就报错\n",
    "\n",
    "而上述的过程叫做`重写`:子类继承父类的成员属性和方法后，如果对其不满足自己的需求，就可以进行`重写`，即在子类中重新定义同名的属性或方法即可"
   ]
  },
  {
   "cell_type": "markdown",
   "id": "ec9e49db-e43c-400b-8b8c-99282016c31b",
   "metadata": {},
   "source": [
    "有时候，我们的子类会比父类多一些属性或方法，例如：在Animal类中，只有name和age属性，但是我希望我的Cat类中有一个格外的属性`breed`,我可以在创建Cat类的使用直接添加一个`breed`属性，但这个属性目前就属于Cat类，不会属于Animal类"
   ]
  },
  {
   "cell_type": "code",
   "execution_count": 5,
   "id": "8da820ba-f62c-4e54-8ab8-4bdfc4246ad6",
   "metadata": {},
   "outputs": [
    {
     "name": "stdout",
     "output_type": "stream",
     "text": [
      "name:小咪,age:3,breed:狸花猫\n"
     ]
    }
   ],
   "source": [
    "class Cat(Animal):\n",
    "    breed = None\n",
    "\n",
    "    def __init__(self,name,age,breed):\n",
    "        self.name = name\n",
    "        self.age = age\n",
    "        self.breed = breed\n",
    "\n",
    "    def __str__(self):\n",
    "        return f\"name:{self.name},age:{self.age},breed:{self.breed}\"\n",
    "\n",
    "    def say(self):\n",
    "        print(\"喵喵叫\")\n",
    "\n",
    "\n",
    "cat_obj = Cat(\"小咪\",\"3\",\"狸花猫\")\n",
    "\n",
    "print(cat_obj)  # name:小咪,age:3,breed:狸花猫"
   ]
  },
  {
   "cell_type": "markdown",
   "id": "e13bccd9-3ac2-4647-add7-cd02792d4d1b",
   "metadata": {},
   "source": [
    "上述代码的过程就是对对象的扩展，这也是继承的一个特点\n",
    "\n",
    "注意：在子类中写的属性或方法，都只属于子类或是子类的父类（私有成员除外）"
   ]
  },
  {
   "cell_type": "markdown",
   "id": "7fb1e5b4-af46-45bc-9bdc-e4cf44de82da",
   "metadata": {},
   "source": [
    "有时候我们会在子类中使用到父类的方法，在子类中我们使用父类的方法需要特殊的调用方式\n",
    "\n",
    "方式1：调用父类成员\n",
    "\n",
    "`使用成员变量：父类名.成员变量`</br>\n",
    "`使用成员方法：父类名.成员方法(self)`\n",
    "\n",
    "方式2：使用super()调用父类成员\n",
    "\n",
    "`使用成员变量：super().成员变量`</br>\n",
    "`使用成员方法：super().成员方法()`"
   ]
  },
  {
   "cell_type": "code",
   "execution_count": 7,
   "id": "9ec737fc-1a5a-4ad3-9b88-3de7696b13be",
   "metadata": {},
   "outputs": [],
   "source": [
    "# 动物类\n",
    "class Animal:\n",
    "    name = None  # 姓名\n",
    "    id = None  # id\n",
    "\n",
    "    def __init__(self,name,id):\n",
    "        self.name = name\n",
    "        self.id = id\n",
    "    \n",
    "    def sayHello(self):\n",
    "        print(\"动物叫\")\n",
    "\n",
    "    def eat(self):\n",
    "        print(\"吃饭\")"
   ]
  },
  {
   "cell_type": "code",
   "execution_count": 8,
   "id": "9b51784d-9421-481a-97db-8a569c8c99e1",
   "metadata": {},
   "outputs": [
    {
     "name": "stdout",
     "output_type": "stream",
     "text": [
      "动物叫\n",
      "吃饭\n"
     ]
    }
   ],
   "source": [
    "# Cat类\n",
    "\n",
    "class Cat(Animal):\n",
    "\n",
    "    def eat_cat(self):\n",
    "        super().eat()\n",
    "\n",
    "    def say_hello_cat(self):\n",
    "        Animal.sayHello(self)\n",
    "\n",
    "cat = Cat(\"小米\",\"2023\")\n",
    "cat.say_hello_cat()\n",
    "cat.eat_cat()"
   ]
  },
  {
   "cell_type": "markdown",
   "id": "5cc79884-e465-4297-a864-8c8540700de7",
   "metadata": {},
   "source": [
    "注意：只可以在子类内部调用父类的同名成员，子类的实体类对象调用默认是调用子类复写的"
   ]
  },
  {
   "cell_type": "markdown",
   "id": "c76d6f9b-7eb1-44c3-9777-2f7c79e7ff91",
   "metadata": {},
   "source": [
    "在之前，我们使用`isinstance` 判断某一个对象是否属于某一个类型\\\n",
    "我们可以使用` issubclass ` 判断某个类是否属于某一个子类"
   ]
  },
  {
   "cell_type": "code",
   "execution_count": 9,
   "id": "5dcd5ee4-b1eb-4421-ba0c-5dca619e5e8c",
   "metadata": {},
   "outputs": [
    {
     "data": {
      "text/plain": [
       "True"
      ]
     },
     "execution_count": 9,
     "metadata": {},
     "output_type": "execute_result"
    }
   ],
   "source": [
    "issubclass(Cat, Animal)"
   ]
  },
  {
   "cell_type": "markdown",
   "id": "dbaf9a58-c794-4a44-88b9-2ad313fcea6c",
   "metadata": {},
   "source": [
    "### 多继承\n",
    "\n",
    "在很多编程语言中，其实是没有多继承的，其实多继承是比较麻烦的，有很多规则需要定义，所以像java这种语言，就把多继承禁止了，但是在python中是有多继承的,而且定义了一些规则，我们这里最主要是讲重要的规则。"
   ]
  },
  {
   "cell_type": "code",
   "execution_count": 16,
   "id": "0d487364-27cf-4a4d-9a65-4a5ad446dde1",
   "metadata": {},
   "outputs": [],
   "source": [
    "class Date:\n",
    "    def __init__(self, year, month, day):\n",
    "        self.year = year\n",
    "        self.month = month\n",
    "        self.day = day\n",
    "    def __str__(self):\n",
    "        return f'{self.year}-{self.month}-{self.day}'\n",
    "    pass\n",
    "\n",
    "class Time:\n",
    "    def __init__(self, hour, min, sec):\n",
    "        self.hour = hour\n",
    "        self.min = min\n",
    "        self.sec = sec\n",
    "    def __str__(self):\n",
    "        return f'{self.hour}-{self.min}-{self.sec}'\n",
    "    pass"
   ]
  },
  {
   "cell_type": "code",
   "execution_count": 17,
   "id": "bd1a6eec-c131-4fa6-a927-2d858a6311fc",
   "metadata": {},
   "outputs": [],
   "source": [
    "# 通过这样的方式是实现了多继承\n",
    "# Datetime继承Date和Time\n",
    "class DateTime(Date, Time):\n",
    "    pass"
   ]
  },
  {
   "cell_type": "markdown",
   "id": "a24d831f-3087-4264-92e3-2fe990f6a83d",
   "metadata": {},
   "source": [
    "当我们这个子类没有写任何内容的时候，通过DateTime创建出来的对象,调用的Date类的`__init__`还是Time类的`__init__`的方法啦"
   ]
  },
  {
   "cell_type": "code",
   "execution_count": 18,
   "id": "71a27408-9710-464b-ab34-4e6f8e2b0886",
   "metadata": {},
   "outputs": [
    {
     "name": "stdout",
     "output_type": "stream",
     "text": [
      "2024-12-15\n"
     ]
    }
   ],
   "source": [
    "dt = DateTime('2024', '12', '15')\n",
    "print(dt)"
   ]
  },
  {
   "cell_type": "markdown",
   "id": "6d1a6e41-3c05-4fe2-a106-c0b54f172e8a",
   "metadata": {},
   "source": [
    "通过上述的代码，其实我们能够看出，我们调用的是Date类中的`__init__`方法，这是因为Date类写在前面的，所以多继承中，我们的查找顺序是，先在自己的类中查找是否有这个方法，然后再找第一个父类，再找第二个父类这种格式"
   ]
  },
  {
   "cell_type": "code",
   "execution_count": null,
   "id": "0a354cfe-6fd2-435e-87c2-680b257da920",
   "metadata": {},
   "outputs": [],
   "source": []
  }
 ],
 "metadata": {
  "kernelspec": {
   "display_name": "Python 3 (ipykernel)",
   "language": "python",
   "name": "python3"
  },
  "language_info": {
   "codemirror_mode": {
    "name": "ipython",
    "version": 3
   },
   "file_extension": ".py",
   "mimetype": "text/x-python",
   "name": "python",
   "nbconvert_exporter": "python",
   "pygments_lexer": "ipython3",
   "version": "3.10.15"
  }
 },
 "nbformat": 4,
 "nbformat_minor": 5
}
