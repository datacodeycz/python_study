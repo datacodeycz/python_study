{
 "cells": [
  {
   "cell_type": "markdown",
   "id": "3cd0ea2f-b85c-4a25-8fcf-fddaa29a6cb9",
   "metadata": {
    "editable": true,
    "slideshow": {
     "slide_type": "slide"
    },
    "tags": []
   },
   "source": [
    "# 面向对象（OOP）\n",
    "## 面向对象的基本概述\n",
    "python是一种面向对象的编程语言，而python中几乎所有东西都是对象，拥有属性和方法。\n",
    "\n",
    "问题：\n",
    "\n",
    "1. 什么是面向对象编程\n",
    "   - 计算机程序是干什么的\n",
    "      - 程序就是对象现实世界的抽象\n",
    "   - 对象是干什么的\n",
    "      - 一个事物抽象到程序中后就变成了对象\n",
    "      - 在程序的世界中，一切皆对象 \n",
    "   - 面向对象编程是什么\n",
    "        - 面向对象的编程就是指，程序中的所有操作都是通过对象来完成的\n",
    "        - 做任何事情之前都需要先找到它的对象，然后通过对象来完成各种操作\n",
    "\n",
    "2. 为什么要有面向对象\n",
    "\n",
    "      \n",
    "3. 怎么来使用面向对象编程"
   ]
  },
  {
   "cell_type": "markdown",
   "id": "1546ba78-539c-42a4-a328-f6eae4e9899b",
   "metadata": {
    "editable": true,
    "slideshow": {
     "slide_type": "slide"
    },
    "tags": []
   },
   "source": [
    "## 对象\n",
    "一个事物抽象到程序就变成了对象，对象中包含了特征（属性）和行为（方法）\n",
    "\n",
    "例如：一个大二的学生\n",
    "\n",
    "有哪些特征：学号、姓名、班级、成绩等\n",
    "\n",
    "有哪些行为：上课、吃饭、睡觉等\n",
    "\n",
    "\n",
    "我们是无法将这个大二的学生的所有特征和行为都写出来的，但是我们可以写常见的和我们要使用到的，这就将一个实体抽象成了一个程序中的一个对象"
   ]
  },
  {
   "cell_type": "code",
   "execution_count": 39,
   "id": "e0082163-e683-4f58-820f-274145f21597",
   "metadata": {
    "editable": true,
    "slideshow": {
     "slide_type": "slide"
    },
    "tags": []
   },
   "outputs": [],
   "source": [
    "# 引入对象\n",
    "\n",
    "stu_id = \"20230101\"\n",
    "stu_name = \"小明\"\n",
    "stu_class = \"软件技术1班\"\n",
    "stu_score = {\"计算机网络\": \"99\",\n",
    "             \"python\":\"100\",\n",
    "             \"linux\":\"99\",\n",
    "            \"javaWeb\":\"100\"};"
   ]
  },
  {
   "cell_type": "markdown",
   "id": "77b00102-3c2d-480e-ad76-04a4ef83fd28",
   "metadata": {
    "editable": true,
    "slideshow": {
     "slide_type": ""
    },
    "tags": []
   },
   "source": [
    "上述这些数据都是属于小明的，但怎么确定是小明的啦\n",
    "\n",
    "我们可不可以借助对象来表示这些都是小明这个对象的特征"
   ]
  },
  {
   "cell_type": "code",
   "execution_count": 40,
   "id": "9af70793-8a07-4dc2-9f72-a8c11d66dc48",
   "metadata": {
    "editable": true,
    "slideshow": {
     "slide_type": "slide"
    },
    "tags": []
   },
   "outputs": [],
   "source": [
    "# 创建对象\n",
    "\n",
    "# 在python中创建对象之前，需要有一个创建该对象的模板（蓝图） ----> 类"
   ]
  },
  {
   "cell_type": "markdown",
   "id": "7db27deb-c2ad-4d94-915d-84426f8a9e3b",
   "metadata": {},
   "source": [
    "类：创建对象的模板。\n",
    "\n",
    "上述的数据虽然都属于小明的，但是每一个大二的学生都有那些特征，只是特征对应的数据不一样。\n",
    "\n",
    "所以我们可以创建一个 `创建对象的模板--->类`，然后再通过这个类来创建对象，给这个对象填写属于自己的属性（特征）"
   ]
  },
  {
   "cell_type": "code",
   "execution_count": 14,
   "id": "ba8be0ae-7e39-4e7c-990f-9550e51d27cd",
   "metadata": {
    "editable": true,
    "slideshow": {
     "slide_type": "slide"
    },
    "tags": []
   },
   "outputs": [
    {
     "name": "stdout",
     "output_type": "stream",
     "text": [
      "<__main__.Student object at 0x00000153F8F51870>\n"
     ]
    }
   ],
   "source": [
    "# 创建类的格式为\n",
    "'''\n",
    "class 类名:\n",
    "    属性\n",
    "    方法\n",
    "'''\n",
    "\n",
    "# 创建Student类\n",
    "class Student:\n",
    "    stu_name = None\n",
    "    stu_id = None\n",
    "    stu_class = None\n",
    "    stu_score = None\n",
    "\n",
    "\n",
    "# 通过类创建对象\n",
    "xiaoming = Student()\n",
    "\n",
    "# 给xiaoming这个对象的属性增加属性值\n",
    "# 1.对象.属性 = 属性值\n",
    "# 2.访问对象的属性： 对象.属性\n",
    "xiaoming.stu_name = \"小明\"\n",
    "xiaoming.stu_id = \"20230101\"\n",
    "xiaoming.stu_class  = \"软件技术1班\"\n",
    "xiaoming.stu_score = {\"计算机网络\": \"99\",\n",
    "             \"python\":\"100\",\n",
    "             \"linux\":\"99\",\n",
    "            \"javaWeb\":\"100\"};\n",
    "\n",
    "print(xiaoming)  # <__main__.Student object at 0x000002049A3121A0> 看到的是对象存储的地址 后续通过魔术方法 __str__()会学到\n",
    "\n",
    "# 上述这种方式就将属于小明的属性对应的属性值对应上了，就可以通过操作对象的方式来访问或修改小明的属性"
   ]
  },
  {
   "cell_type": "markdown",
   "id": "1691edf0-300d-4c55-9d2b-d877cc28a249",
   "metadata": {},
   "source": [
    "注意：在python中，所有我们之前学过的数据类型都是对象"
   ]
  },
  {
   "cell_type": "markdown",
   "id": "60a5581d-e26d-4e69-8151-25f4e8a84eeb",
   "metadata": {},
   "source": [
    "## 成员变量和成员方法\n",
    "对象中定义的属性（变量），我们称之为：成员变量\n",
    "\n",
    "类中定义的行为（方法），我们称之为：成员方法"
   ]
  },
  {
   "cell_type": "markdown",
   "id": "67cb9268-f8ff-4f79-b5a8-e221661d8289",
   "metadata": {},
   "source": [
    "成员变量上述已经讲述，接下来我们来讲述成员方法"
   ]
  },
  {
   "cell_type": "code",
   "execution_count": 42,
   "id": "4212dc85-23cd-4dc2-8cb3-6765fb7fa310",
   "metadata": {
    "editable": true,
    "slideshow": {
     "slide_type": ""
    },
    "tags": []
   },
   "outputs": [
    {
     "name": "stdout",
     "output_type": "stream",
     "text": [
      "xiaoming去上课\n"
     ]
    }
   ],
   "source": [
    "# 创建一个Student类\n",
    "class Student:\n",
    "    stu_name = None\n",
    "    stu_id = None\n",
    "    # 定义该对象模板的方法\n",
    "    def attend_class(self):\n",
    "        print(self.stu_name + \"去上课\")\n",
    "\n",
    "xiaoming = Student()\n",
    "# 给该对象的属性设置对应的数据\n",
    "xiaoming.stu_id = \"20230101\"\n",
    "xiaoming.stu_name = \"xiaoming\"\n",
    "\n",
    "# 调用对象中的attend_class方法\n",
    "xiaoming.attend_class()  # xiaoming去上课\n",
    "\n",
    "# 我们通过创建类能看到我们给attend_calss方法设置了一个参数，\n",
    "# 按道理来说，我调用这个方法的时候，必须要给这个方法传一个参数，不然会报错，但是这里为什么没有报错啦，并且还使用了对象中stu_name的属性值"
   ]
  },
  {
   "cell_type": "markdown",
   "id": "350036d8-9b3d-4f62-9c46-14b6198dd792",
   "metadata": {},
   "source": [
    "在类中定义成员方法和定义函数是基本一致的，但是有一个区别就是：\n",
    "`def 方法名(self, 形参1, ……,形参n):`\n",
    "\n",
    "在定义成员方法时，有一个self关键字时必须填写的，并且是第一个参数，它不会作为我们调用方法时手动传入的参数，而是由python自动传入\n",
    "\n",
    "self关键字的注意事项：\n",
    "1. self可以不是这个单词，它可以是任意的单词名字，但是必须是第一个参数\n",
    "2. 它用来表示类对象自身 上述就表示`xiaoming`这个对象\n",
    "3. 在方法的内部，如果我们想要访问类的成员变量，那必须使用self关键字\n",
    "4. 它不需要我们手动传入，它是自动传入的"
   ]
  },
  {
   "cell_type": "code",
   "execution_count": 1,
   "id": "07febb2c-cebd-4ca7-b307-d66016e6a8d2",
   "metadata": {},
   "outputs": [
    {
     "name": "stdout",
     "output_type": "stream",
     "text": [
      "xiaoming去上课\n"
     ]
    }
   ],
   "source": [
    "# self关键字的使用\n",
    "\n",
    "# 创建一个Student类\n",
    "class Student:\n",
    "    stu_name = None\n",
    "    stu_id = None\n",
    "    # 定义该对象模板的方法\n",
    "    def attend_class(this):\n",
    "        print(this.stu_name + \"去上课\")\n",
    "\n",
    "\n",
    "xiaoming = Student()\n",
    "# 给该对象的属性设置对应的数据\n",
    "xiaoming.stu_id = \"20230101\"\n",
    "xiaoming.stu_name = \"xiaoming\"\n",
    "\n",
    "# 调用对象中的attend_class方法\n",
    "xiaoming.attend_class()  # xiaoming去上课\n"
   ]
  },
  {
   "cell_type": "code",
   "execution_count": 3,
   "id": "cfe8a639-fc81-4cec-8d5c-3ee1d025077c",
   "metadata": {},
   "outputs": [
    {
     "name": "stdout",
     "output_type": "stream",
     "text": [
      "None\n"
     ]
    }
   ],
   "source": [
    "print(Student.stu_name)"
   ]
  },
  {
   "cell_type": "markdown",
   "id": "3cdcda51-14c2-42ed-ba46-6fa9274f3ff5",
   "metadata": {},
   "source": [
    "上述的方法中，第一个参数名为this，也是可以使用的，跟self有着一样的作用，所以self可以不是这个单词，它可以是任意的单词名字，但是必须是第一个参数\n",
    "\n",
    "建议使用self做为关键字表示"
   ]
  },
  {
   "cell_type": "markdown",
   "id": "69d2742e-7165-45d1-8a3c-7a6bab8cd636",
   "metadata": {},
   "source": [
    "## 构造方法\n",
    "\n",
    "通过前面的学习，我们知道了怎么创建类，怎么通过类创建对象，怎么给对象中的属性赋值，但是我们通过`对象.属性 = 属性值`的方法给对象中的属性赋值太麻烦了，如果有一万个属性需要赋值，那就需要写一万条语句，就很麻烦，那可不可以使用更高效的方法，通过一行代码就实现赋值操作啦\n",
    "\n",
    "在我们通过类创建对象的时候，使用的是 `变量 = 类()`--->`xiaoming = Student()`这种方法，那可不可以通过创建对象的同时对属性赋值啦------>第一个魔术方法 构造方法 `__init__()`"
   ]
  },
  {
   "cell_type": "code",
   "execution_count": 45,
   "id": "9e97f2ae-2444-4e49-8daf-9f0d66aa9498",
   "metadata": {},
   "outputs": [
    {
     "name": "stdout",
     "output_type": "stream",
     "text": [
      "20230101\n",
      "小明\n"
     ]
    }
   ],
   "source": [
    "# __init__()构造方法的使用\n",
    "class Student:\n",
    "    stu_name = None\n",
    "    stu_id = None\n",
    "    # 定义构造方法\n",
    "    def __init__(self,stu_name,stu_id):\n",
    "        self.stu_id = stu_id\n",
    "        self.stu_name = stu_name\n",
    "        \n",
    "    # 定义该对象模板的方法\n",
    "    def attend_class(this):\n",
    "        print(this.stu_name + \"去上课\")\n",
    "\n",
    "# 通过类创建对象\n",
    "xiaoming = Student(\"小明\",\"20230101\")\n",
    "print(xiaoming.stu_id)  # 20230101\n",
    "print(xiaoming.stu_name)  # 小明"
   ]
  },
  {
   "cell_type": "markdown",
   "id": "5226d658-b41a-469c-9c9e-b9d529e4a544",
   "metadata": {},
   "source": [
    "在python类中，`__init__()`方法，称之为构造方法\n",
    "\n",
    "在我们通过类创建对象的过程中，会自动执行该方法，即使没有这个方法也会自动生成一个\n",
    "\n",
    "而我们通过类创建对象中使用的`Student(参数1, 参数2)`，会将传入的参数自动传递给__init__方法使用\n",
    "\n",
    "需要我们只需要在__init__方法中 将参数赋值给对象对应的属性"
   ]
  },
  {
   "cell_type": "markdown",
   "id": "0f4f794a-b483-4a7d-bbd2-113ca75ca640",
   "metadata": {},
   "source": [
    "注意：这里我们需要抛出一个之前上述的错误的概念：\n",
    "\n",
    "1. 在Python中，类也是一个对象，所以会有类属性（类变量）和类方法\n",
    "2. 我们上述的方式，创建出来的属性其实是类属性，并不是对象的属性，\n",
    "3. 当这个对象里面没有这个属性时，会使用类的属性"
   ]
  },
  {
   "cell_type": "markdown",
   "id": "e537ecb1-a5af-4dd9-87ad-82ef760ffc49",
   "metadata": {},
   "source": [
    "## 类属性和类方法和静态方法\n",
    "\n",
    "类属性和类方法和静态方法的创建"
   ]
  },
  {
   "cell_type": "code",
   "execution_count": 3,
   "id": "446e02eb-0c1a-443d-85a9-fdadde30a47b",
   "metadata": {},
   "outputs": [
    {
     "name": "stdout",
     "output_type": "stream",
     "text": [
      "None\n",
      "<__main__.Student object at 0x000001A691845510>\n",
      "Hello 静态\n"
     ]
    }
   ],
   "source": [
    "class Student:\n",
    "    # 这里变量就是类变量\n",
    "    class_id = None\n",
    "\n",
    "    # 创建一个类方法\n",
    "    @classmethod\n",
    "    def create_student(cls):  # 自动传入参数，这里的cls参数指向了Student这个类\n",
    "        \"\"\"这是一个类方法，这个类方法的目的是创建Student对象\"\"\"\n",
    "        return cls()\n",
    "    # 创建一个静态方法\n",
    "    @staticmethod\n",
    "    def sayHello():\n",
    "        return \"Hello 静态\"\n",
    "\n",
    "\n",
    "# 通过类对象使用属性和方法\n",
    "print(Student.class_id)\n",
    "print(Student.create_student())\n",
    "print(Student.sayHello())  # 这里跟类方法使用的方式是一样的，区别就在于没有一个自动传入的参数"
   ]
  },
  {
   "cell_type": "markdown",
   "id": "09dcb93b-ac26-4768-8d6d-da290dbcf10f",
   "metadata": {},
   "source": [
    "注意：通过上述的代码，能够看到类属性和类方法和静态方法的创建，其实这些东西就相当于封装到一个类里面的，**所以通过这个类创建出来的对象，都可以使用类属性，类方法和静态方法**"
   ]
  },
  {
   "cell_type": "code",
   "execution_count": 4,
   "id": "2888c749-238d-4ae8-8a1b-c01af4b66d1a",
   "metadata": {},
   "outputs": [
    {
     "name": "stdout",
     "output_type": "stream",
     "text": [
      "None\n",
      "<__main__.Student object at 0x000001A691D0BD00>\n",
      "Hello 静态\n"
     ]
    }
   ],
   "source": [
    "stu_1 = Student()\n",
    "print(stu_1.class_id)\n",
    "print(stu_1.create_student())\n",
    "print(stu_1.sayHello())"
   ]
  },
  {
   "cell_type": "markdown",
   "id": "7dad144d-fc6b-48bb-ac86-6084422c90bf",
   "metadata": {},
   "source": [
    "通过上述的方式，我们知道了什么是类属性和类方法和静态方法，哪怎么才能算是对象的属性和方法啦"
   ]
  },
  {
   "cell_type": "code",
   "execution_count": null,
   "id": "52cec8e5-94e0-4b7c-9a7b-1318f8a9c3fd",
   "metadata": {},
   "outputs": [],
   "source": [
    "class Student:\n",
    "    # 类属性\n",
    "    class_id = None\n",
    "\n",
    "    def __init__(self, name, age, sex):\n",
    "        # 对象的属性 (成员变量)\n",
    "        self.name = name\n",
    "        self.age = age\n",
    "        self.sex = sex\n",
    "        # 怎么才能算 对象的属性，通过对象.属性 = 属性值 才算对象的属性\n",
    "\n",
    "    # 这个方法就是对象的方法 (成员方法)  \n",
    "    def eat(self):\n",
    "        print(f'{self.name}框框吃')\n",
    "\n",
    "    # 类方法\n",
    "    @classmethod\n",
    "    def create_student(cls):\n",
    "        return cls()\n",
    "\n",
    "    # 静态方法\n",
    "    @staticmethod\n",
    "    def sayHello():\n",
    "        print(\"hello world\")"
   ]
  },
  {
   "cell_type": "markdown",
   "id": "d7b0dd31-571f-4ebc-968e-9de67179de79",
   "metadata": {},
   "source": [
    "上述的方式就是一个完整的 `类变量`和`类方法`和`成员变量`和`成员方法`和`静态方法`"
   ]
  },
  {
   "cell_type": "markdown",
   "id": "d4f355b0-b722-4e9b-b70b-a9b8a02f7b0c",
   "metadata": {},
   "source": [
    "练习：学生信息录入\n",
    "\n",
    "设计一个类，记录学生的`姓名`、`学号`、`班级`、`家庭地址`、`成绩`\n",
    "- 通过for循环，配合input输入语句，并使用构造方法，完成学生的信息的录入\n",
    "- 输入完成后，使用print语句，完成信息的输出"
   ]
  },
  {
   "cell_type": "code",
   "execution_count": 5,
   "id": "2a92081d-5abd-41a4-8444-4361388cb1a8",
   "metadata": {},
   "outputs": [],
   "source": [
    "# 设计一个学生类\n",
    "class Student:\n",
    "    stu_name = None\n",
    "    stu_id = None\n",
    "    stu_class  = None\n",
    "    stu_address = None\n",
    "    stu_score = None\n",
    "\n",
    "    def __init__(self, stu_name, stu_id, stu_class, stu_address, stu_score):\n",
    "        self.stu_name = stu_name\n",
    "        self.stu_id = stu_id\n",
    "        self.stu_class = stu_class\n",
    "        self.stu_address = stu_address\n",
    "        self.stu_score = stu_score\n",
    "\n",
    "def input_stu_information():\n",
    "    for x in range(1,11):\n",
    "        print(f\"当前录入第{x}位学生信息，总共需要录入10位学生信息\")\n",
    "        stu_name = input(\"请输入学生的姓名:\")\n",
    "        stu_id = input(\"请输入学生的id\")\n",
    "        stu_class = input(\"请输入学生的班级:\")\n",
    "        stu_address = input(\"请输入学生的家庭地址\")\n",
    "        stu_score = eval(input(\"请输入学生的成绩（科目:分数）:\"))  # {'java': 100, 'mysql': 100}\n",
    "        student = Student(stu_name, stu_id, stu_class, stu_address, stu_score)\n",
    "        print(f\"学生{x}信息录入完成，信息为：姓名为：{student.stu_name}，学号为：{student.stu_id}，班级为：{student.stu_class}，\"\n",
    "                  + f\"地址为：{student.stu_address}，成绩为：{student.stu_score}\")\n",
    "\n",
    "    return 0\n",
    "\n",
    "\n",
    "# input_stu_information()"
   ]
  },
  {
   "cell_type": "markdown",
   "id": "43840de5-7cd2-427c-bbc2-aa7ed3ce6a01",
   "metadata": {},
   "source": [
    "eval()函数的使用\n",
    "\n",
    "- eval() 函数用来执行一个字符串表达式，并返回表达式的值。\n",
    "- 语法格式\n",
    "    - `eval(expression[, globals[, locals]])`\n",
    "- 参数\n",
    "    - expression -- 表达式。\n",
    "    - globals -- 变量作用域，全局命名空间，如果被提供，则必须是一个字典对象。\n",
    "    - locals -- 变量作用域，局部命名空间，如果被提供，可以是任何映射对象。\n",
    "\n",
    "注意：eval() 函数将字符串 expression 解析为 Python 表达式，并在指定的命名空间中执行它。\n",
    "\n",
    "- 返回值\n",
    "    - eval() 函数将字符串转换为相应的对象，并返回表达式的结果。\n",
    " \n",
    "- 注意： eval() 函数执行的代码具有潜在的安全风险。如果使用不受信任的字符串作为表达式，则可能导致代码注入漏洞，因此，应谨慎使用 eval() 函数，并确保仅执行可信任的字符串表达式。"
   ]
  },
  {
   "cell_type": "markdown",
   "id": "9aa7a801-7cef-4dbf-a295-ed28a62b743c",
   "metadata": {},
   "source": [
    "## 其他魔术方法\n",
    "魔术方法就是在一个类自带的一些方法，有各自的特殊功能\n",
    "\n",
    "`__init__`:构造方法\n",
    "\n",
    "`__str__`: 字符串方法\n",
    "\n",
    "`__lt__`: 小于，大于符号比较方法\n",
    "\n",
    "`__le__`: 小于等于，大于等于符号比较方法\n",
    "\n",
    "`__eq__`: == 符号比较"
   ]
  },
  {
   "cell_type": "markdown",
   "id": "56bedacb-d660-4c2e-820d-4cbb1d0cfe15",
   "metadata": {},
   "source": [
    "### `__str__()`方法\n",
    "\n",
    "在之前我们使用`print()`输出语句输出一个对象时，我们能得到它的内存地址，但是有时候我们并不想得到它的内存地址，我们得到其他的信息，例如：完整对象属性的信息\n",
    "\n",
    "这里我们就可以借助`__str__()`方法实现"
   ]
  },
  {
   "cell_type": "code",
   "execution_count": 17,
   "id": "fdaadff8-6c1c-4c39-888c-ccf131729363",
   "metadata": {},
   "outputs": [
    {
     "name": "stdout",
     "output_type": "stream",
     "text": [
      "student类对象，stu_name = 小明，stu_id = 20230101\n",
      "student类对象，stu_name = 小明，stu_id = 20230101\n"
     ]
    }
   ],
   "source": [
    "class Student:\n",
    "    stu_name = None\n",
    "    stu_id = None\n",
    "    \n",
    "    def __init__(self, stu_name, stu_id):\n",
    "        self.stu_name = stu_name\n",
    "        self.stu_id = stu_id\n",
    "\n",
    "    def __str__(self):\n",
    "        return f\"student类对象，stu_name = {self.stu_name}，stu_id = {self.stu_id}\"\n",
    "\n",
    "xiaoming = Student(\"小明\",\"20230101\")\n",
    "\n",
    "print(xiaoming)  # 默认：<__main__.Student object at 0x00000153F8F53070>\n",
    "print(xiaoming)  # student类对象，stu_name = 小明，stu_id = 20230101"
   ]
  },
  {
   "cell_type": "markdown",
   "id": "a5f1c4d3-09d3-4ae8-8085-d1c371ed5676",
   "metadata": {},
   "source": [
    "通过上述代码，我们可以看出`__str__()`决定了对象的返回值，这个返回值内容是由我们决定了，我们完全可以输出其他信息"
   ]
  },
  {
   "cell_type": "markdown",
   "id": "ed054b77-8860-45e2-a34e-fa8acdb31ef5",
   "metadata": {},
   "source": [
    "如果我们不写`__str__()`方法时，对象也是有返回值的，所以这是python类的内置方法，会自动给我们创建一个，返回值为对象的内存地址"
   ]
  },
  {
   "cell_type": "markdown",
   "id": "357462eb-690d-4ff9-aab1-bb4a7cc194a5",
   "metadata": {},
   "source": [
    "### `__lt__()`方法 小于符号比较方法\n",
    "\n",
    "当我们直接去比较两个对象时，是无法进行比较的，会报错，对象没有所谓的逻辑比较关系\n",
    "\n",
    "但有时候我们需要比较对象中的某一个值，比如年龄age，正常操作，我们可以使用对象.age的方法获取到年龄的值，然后进行比较，\n",
    "\n",
    "但是我们也可以通过`__lt__()`方法实现，通过比较对象，然后达到比较年龄age的效果"
   ]
  },
  {
   "cell_type": "code",
   "execution_count": 24,
   "id": "48f98082-fe9c-468c-88b0-75f1b896ffc2",
   "metadata": {},
   "outputs": [
    {
     "name": "stdout",
     "output_type": "stream",
     "text": [
      "False\n",
      "True\n"
     ]
    }
   ],
   "source": [
    "class Student:\n",
    "    stu_name = None\n",
    "    stu_age = None\n",
    "    \n",
    "    def __init__(self, stu_name, stu_age):\n",
    "        self.stu_name = stu_name\n",
    "        self.stu_age = stu_age\n",
    "\n",
    "    def __lt__(self,other):\n",
    "        '''self 为自身对象，other为另外一个对象（必须是同类的）'''\n",
    "        return self.stu_age < other.stu_age\n",
    "\n",
    "xiaoming = Student(\"小明\",21)\n",
    "xiaomei = Student(\"小美\",20)\n",
    "\n",
    "print(xiaoming < xiaomei)  # False\n",
    "\n",
    "print(xiaoming > xiaomei)  # True\n",
    "        "
   ]
  },
  {
   "cell_type": "markdown",
   "id": "9498303d-23db-4e95-90e1-553cbf6ae1d9",
   "metadata": {},
   "source": [
    "还有一个比较大于符号的魔术方法`__gt__`，实现了`__lt__`就没有必要实现`__gt__`了，因为都是同一类进行比较，当使用`>`比较时，另外一个对象反过来就是`<`了"
   ]
  },
  {
   "cell_type": "markdown",
   "id": "5659ea26-ce90-4a38-9acd-b7318067c1e0",
   "metadata": {},
   "source": [
    "### `__le__()`小于等于比较符号方法"
   ]
  },
  {
   "cell_type": "code",
   "execution_count": 25,
   "id": "141dbc72-61e5-4c38-844c-e9a7eab0b986",
   "metadata": {},
   "outputs": [
    {
     "name": "stdout",
     "output_type": "stream",
     "text": [
      "False\n",
      "True\n"
     ]
    }
   ],
   "source": [
    "class Student:\n",
    "    def __init__(self, stu_name, stu_age):\n",
    "        self.stu_name = stu_name\n",
    "        self.stu_age = stu_age\n",
    "\n",
    "    def __le__(self,other):\n",
    "        '''self 为自身对象，other为另外一个对象（必须是同类的）'''\n",
    "        return self.stu_age <= other.stu_age\n",
    "\n",
    "xiaoming = Student(\"小明\",21)\n",
    "xiaomei = Student(\"小美\",20)\n",
    "\n",
    "print(xiaoming <= xiaomei)  # False\n",
    "\n",
    "print(xiaoming >= xiaomei)  # True"
   ]
  },
  {
   "cell_type": "markdown",
   "id": "70678dc7-ea54-4840-87a9-a277cf1855cd",
   "metadata": {},
   "source": [
    "还有一个比较大于符号的魔术方法`__ge__`，实现了`__le__`就没有必要实现`__ge__`了，因为都是同一类进行比较，当使用`>=`比较时，另外一个对象反过来就是`<=`了"
   ]
  },
  {
   "cell_type": "markdown",
   "id": "72707532-1e79-481e-8682-27b6e5dac50e",
   "metadata": {},
   "source": [
    "### `__eq__()`，比较运算符实现方法\n",
    "\n",
    "该方法同样是类自带的方法，主要是实现对象与对象之间的比较，通过上述学习，可以看出对象与对象之间的比较，在使用`<`或`<=`时，如果没有去实现对应的方法，会报错\n",
    "\n",
    "`__eq__`方法\n",
    "\n",
    "- 不实现`__eq__`方法时，对象与对象之间可以使用`==`符号进行比较，但是比较的是内存地址，而我们是创建的两个不同的对象，所以内存地址一定不同，所以返回值一定是False\n",
    "- 实现`__eq__`方法时，对象与对象之间使用`==`符号进行比较，比较的逻辑根据实现的`__eq__`方法中的内容进行判断"
   ]
  },
  {
   "cell_type": "code",
   "execution_count": 27,
   "id": "ff2f305d-af40-45aa-b2cc-73e8b7145d3c",
   "metadata": {},
   "outputs": [
    {
     "name": "stdout",
     "output_type": "stream",
     "text": [
      "False\n"
     ]
    }
   ],
   "source": [
    "class Student:\n",
    "    def __init__(self, stu_name, stu_age):\n",
    "        self.stu_name = stu_name\n",
    "        self.stu_age = stu_age\n",
    "\n",
    "    def __eq__(self,other):\n",
    "        '''self 为自身对象，other为另外一个对象（必须是同类的）'''\n",
    "        return self.stu_age == other.stu_age\n",
    "\n",
    "xiaoming = Student(\"小明\",21)\n",
    "xiaomei = Student(\"小美\",20)\n",
    "\n",
    "print(xiaoming == xiaomei)  # False"
   ]
  },
  {
   "cell_type": "markdown",
   "id": "bee844b1-25fe-480f-a92b-f46818bbf9b8",
   "metadata": {},
   "source": [
    "实现`__eq__`方法后，其中的比较逻辑由你自行编写，我们可以比较name属性，也可以比较age属性，当然也可以比较name和age属性"
   ]
  },
  {
   "attachments": {},
   "cell_type": "markdown",
   "id": "fe412229-c3c1-489b-863d-e027e7eddbac",
   "metadata": {},
   "source": [
    "| 方法|功能|\n",
    "| ---- | ----|\n",
    "|  __init__ |  构造方法，可用于创建类对象的时候设置初始化行为 |\n",
    "|  __str__   |  用于实现类对象转字符串的行为    |\n",
    "|  __lt__    |   用于2个类对象进行小于或大于比较   |\n",
    "|  __le__    |   用于2个类对象进行小于等于或大于等于比较   |\n",
    "|  __eq__    |    用于2个类对象进行相等比较  |"
   ]
  }
 ],
 "metadata": {
  "kernelspec": {
   "display_name": "Python 3 (ipykernel)",
   "language": "python",
   "name": "python3"
  },
  "language_info": {
   "codemirror_mode": {
    "name": "ipython",
    "version": 3
   },
   "file_extension": ".py",
   "mimetype": "text/x-python",
   "name": "python",
   "nbconvert_exporter": "python",
   "pygments_lexer": "ipython3",
   "version": "3.10.14"
  },
  "widgets": {
   "application/vnd.jupyter.widget-state+json": {
    "state": {},
    "version_major": 2,
    "version_minor": 0
   }
  }
 },
 "nbformat": 4,
 "nbformat_minor": 5
}
