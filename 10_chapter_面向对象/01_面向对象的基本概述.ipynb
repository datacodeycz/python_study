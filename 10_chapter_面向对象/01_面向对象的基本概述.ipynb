{
 "cells": [
  {
   "cell_type": "markdown",
   "id": "3cd0ea2f-b85c-4a25-8fcf-fddaa29a6cb9",
   "metadata": {
    "editable": true,
    "slideshow": {
     "slide_type": "slide"
    },
    "tags": []
   },
   "source": [
    "# 面向对象（OOP）\n",
    "## 面向对象的基本概述\n",
    "python是一种面向对象的编程语言，而python中几乎所有东西都是对象，拥有属性和方法。\n",
    "\n",
    "问题：\n",
    "\n",
    "1. 什么是面向对象编程\n",
    "   - 计算机程序是干什么的\n",
    "      - 程序就是对象现实世界的抽象\n",
    "   - 对象是干什么的\n",
    "      - 一个事物抽象到程序中后就变成了对象\n",
    "      - 在程序的世界中，一切皆对象 \n",
    "   - 面向对象编程是什么\n",
    "        - 面向对象的编程就是指，程序中的所有操作都是通过对象来完成的\n",
    "        - 做任何事情之前都需要先找到它的对象，然后通过对象来完成各种操作\n",
    "\n",
    "2. 为什么要有面向对象\n",
    "\n",
    "      \n",
    "3. 怎么来使用面向对象编程"
   ]
  },
  {
   "cell_type": "markdown",
   "id": "1546ba78-539c-42a4-a328-f6eae4e9899b",
   "metadata": {
    "editable": true,
    "slideshow": {
     "slide_type": "slide"
    },
    "tags": []
   },
   "source": [
    "## 对象\n",
    "一个事物抽象到程序就变成了对象，对象中包含了特征（属性）和行为（方法）\n",
    "\n",
    "例如：一个大二的学生\n",
    "\n",
    "有哪些特征：学号、姓名、班级、成绩等\n",
    "\n",
    "有哪些行为：上课、吃饭、睡觉等\n",
    "\n",
    "\n",
    "我们是无法将这个大二的学生的所有特征和行为都写出来的，但是我们可以写常见的和我们要使用到的，这就将一个实体抽象成了一个程序中的一个对象"
   ]
  },
  {
   "cell_type": "code",
   "execution_count": 2,
   "id": "e0082163-e683-4f58-820f-274145f21597",
   "metadata": {
    "editable": true,
    "slideshow": {
     "slide_type": "slide"
    },
    "tags": []
   },
   "outputs": [],
   "source": [
    "# 引入对象\n",
    "\n",
    "stu_id = \"20230101\"\n",
    "stu_name = \"小明\"\n",
    "stu_class = \"软件技术1班\"\n",
    "stu_score = {\"计算机网络\": \"99\",\n",
    "             \"python\":\"100\",\n",
    "             \"linux\":\"99\",\n",
    "            \"javaWeb\":\"100\"};"
   ]
  },
  {
   "cell_type": "markdown",
   "id": "77b00102-3c2d-480e-ad76-04a4ef83fd28",
   "metadata": {
    "editable": true,
    "slideshow": {
     "slide_type": ""
    },
    "tags": []
   },
   "source": [
    "上述这些数据都是属于小明的，但怎么确定是小明的啦\n",
    "\n",
    "我们可不可以借助对象来表示这些都是小明这个对象的特征"
   ]
  },
  {
   "cell_type": "code",
   "execution_count": 3,
   "id": "9af70793-8a07-4dc2-9f72-a8c11d66dc48",
   "metadata": {
    "editable": true,
    "slideshow": {
     "slide_type": "slide"
    },
    "tags": []
   },
   "outputs": [],
   "source": [
    "# 创建对象\n",
    "\n",
    "# 在python中创建对象之前，需要有一个创建该对象的模板（蓝图） ----> 类"
   ]
  },
  {
   "cell_type": "markdown",
   "id": "7db27deb-c2ad-4d94-915d-84426f8a9e3b",
   "metadata": {},
   "source": [
    "类：创建对象的模板。\n",
    "\n",
    "上述的数据虽然都属于小明的，但是每一个大二的学生都有那些特征，只是特征对应的数据不一样。\n",
    "\n",
    "所以我们可以创建一个 `创建对象的模板--->类`，然后再通过这个类来创建对象，给这个对象填写属于自己的属性（特征）"
   ]
  },
  {
   "cell_type": "code",
   "execution_count": null,
   "id": "ba8be0ae-7e39-4e7c-990f-9550e51d27cd",
   "metadata": {
    "editable": true,
    "slideshow": {
     "slide_type": "slide"
    },
    "tags": []
   },
   "outputs": [
    {
     "name": "stdout",
     "output_type": "stream",
     "text": [
      "<__main__.Student object at 0x00000153F8F51870>\n"
     ]
    }
   ],
   "source": [
    "# 创建类的格式为\n",
    "'''\n",
    "class 类名:\n",
    "    属性\n",
    "    方法\n",
    "'''\n",
    "\n",
    "# 创建Student类\n",
    "class Student:\n",
    "    stu_name = None\n",
    "    stu_id = None\n",
    "    stu_class = None\n",
    "    stu_score = None\n",
    "\n",
    "\n",
    "# 通过类创建对象\n",
    "xiaoming = Student()\n",
    "\n",
    "# 给xiaoming这个对象的属性增加属性值\n",
    "# 1.对象.属性 = 属性值\n",
    "# 2.访问对象的属性： 对象.属性\n",
    "xiaoming.stu_name = \"小明\"\n",
    "xiaoming.stu_id = \"20230101\"\n",
    "xiaoming.stu_class  = \"软件技术1班\"\n",
    "xiaoming.stu_score = {\"计算机网络\": \"99\",\n",
    "             \"python\":\"100\",\n",
    "             \"linux\":\"99\",\n",
    "            \"javaWeb\":\"100\"};\n",
    "\n",
    "print(xiaoming)  # <__main__.Student object at 0x000002049A3121A0> 看到的是对象存储的地址 后续通过魔术方法 __str__()会学到\n",
    "\n",
    "# 上述这种方式就将属于小明的属性对应的属性值对应上了，就可以通过操作对象的方式来访问或修改小明的属性"
   ]
  }
 ],
 "metadata": {
  "kernelspec": {
   "display_name": "Python 3 (ipykernel)",
   "language": "python",
   "name": "python3"
  },
  "language_info": {
   "codemirror_mode": {
    "name": "ipython",
    "version": 3
   },
   "file_extension": ".py",
   "mimetype": "text/x-python",
   "name": "python",
   "nbconvert_exporter": "python",
   "pygments_lexer": "ipython3",
   "version": "3.10.15"
  }
 },
 "nbformat": 4,
 "nbformat_minor": 5
}
