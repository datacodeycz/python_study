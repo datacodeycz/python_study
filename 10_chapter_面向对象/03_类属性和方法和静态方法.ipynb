{
 "cells": [
  {
   "cell_type": "markdown",
   "id": "7711e38d-d33e-464f-91f4-f5f941dcee51",
   "metadata": {},
   "source": [
    "## 类属性和类方法和静态方法\n",
    "\n",
    "类属性：属于类对象的属性，**类属性可以通过实例化（就是通过类创建出来的对象）对象进行访问**，也可以通过类对象访问\n",
    "\n",
    "类方法：属于类的方法，可以通过类对象方法这个方法，但同样的也**可以通过实例化对象进行访问**\n"
   ]
  },
  {
   "cell_type": "markdown",
   "id": "54475e69-06ea-45ee-9568-f1d4749453aa",
   "metadata": {},
   "source": [
    "### 类属性的创建"
   ]
  },
  {
   "cell_type": "code",
   "execution_count": 4,
   "id": "ec3d1d8b-7d05-4093-9b19-0905627d8951",
   "metadata": {},
   "outputs": [],
   "source": [
    "class Student:\n",
    "    # 这里变量就是类变量\n",
    "    class_id = '1'\n",
    "    name = None"
   ]
  },
  {
   "cell_type": "markdown",
   "id": "078b19c8-f292-4afd-a917-7c8f6e298ace",
   "metadata": {},
   "source": [
    "上述的属性，类对象也是可以访问的，同样也可以由实例化对象访问（但注意，实例化对象首先查找自己是否有这个属性，有就访问自己的，没有就访问类的）"
   ]
  },
  {
   "cell_type": "code",
   "execution_count": 6,
   "id": "b81a0005-1268-40a0-a284-cd511e361f12",
   "metadata": {},
   "outputs": [
    {
     "name": "stdout",
     "output_type": "stream",
     "text": [
      "1\n",
      "1\n"
     ]
    }
   ],
   "source": [
    "stu_1 = Student()\n",
    "print(stu_1.class_id)\n",
    "print(Student.class_id)"
   ]
  },
  {
   "cell_type": "markdown",
   "id": "becebce7-9e04-4b18-b342-6db47c990463",
   "metadata": {},
   "source": [
    "### 类方法的创建"
   ]
  },
  {
   "cell_type": "code",
   "execution_count": 7,
   "id": "e85fc7b5-aaea-4fc9-8a1c-e59dfd08e2e6",
   "metadata": {},
   "outputs": [],
   "source": [
    "class Student:\n",
    "    # 这里变量就是类变量\n",
    "    class_id = None\n",
    "\n",
    "    # 创建一个类方法\n",
    "    @classmethod\n",
    "    def create_student(cls):  # 自动传入参数，这里的cls参数指向了Student这个类\n",
    "        \"\"\"这是一个类方法，这个类方法的目的是创建Student对象\"\"\"\n",
    "        return cls()"
   ]
  },
  {
   "cell_type": "code",
   "execution_count": 8,
   "id": "fba113b7-46e2-495f-80c8-014a23bb73b4",
   "metadata": {},
   "outputs": [
    {
     "name": "stdout",
     "output_type": "stream",
     "text": [
      "<__main__.Student object at 0x7f42008ec4c0>\n",
      "<__main__.Student object at 0x7f42008ec5b0>\n"
     ]
    }
   ],
   "source": [
    "stu_1 = Student()\n",
    "print(stu_1.create_student())\n",
    "print(Student.create_student())"
   ]
  },
  {
   "cell_type": "markdown",
   "id": "e33047b0-c1cc-4675-9b32-19a61a0ab3c8",
   "metadata": {},
   "source": [
    "### 静态方法的创建"
   ]
  },
  {
   "cell_type": "markdown",
   "id": "aed6150e-620e-476c-a97d-66dae121580f",
   "metadata": {},
   "source": [
    "静态方法就相当于封装到类里面的一个方法，我们可以通过`类.静态方法`:访问这个方法，也可以通过`对象.静态方法`：访问这个方法，静态方法最主要是在类里面进行使用的，这里就有一个注意事项：**类里面的所有东西，在类里面都可以任意使用**"
   ]
  },
  {
   "cell_type": "code",
   "execution_count": 9,
   "id": "37d1f554-42c3-461a-9153-234012c90c04",
   "metadata": {},
   "outputs": [],
   "source": [
    "class Student:\n",
    "    # 创建一个静态方法\n",
    "    @staticmethod\n",
    "    def sayHello():\n",
    "        return \"Hello 静态\""
   ]
  },
  {
   "cell_type": "code",
   "execution_count": 10,
   "id": "a0e3e52d-d6bf-4bf6-90aa-407840b4571f",
   "metadata": {},
   "outputs": [
    {
     "name": "stdout",
     "output_type": "stream",
     "text": [
      "Hello 静态\n",
      "Hello 静态\n"
     ]
    }
   ],
   "source": [
    "stu_1 = Student()\n",
    "print(stu_1.sayHello())\n",
    "print(Student.sayHello())"
   ]
  },
  {
   "cell_type": "markdown",
   "id": "8ec9746f-11ea-40c1-af9a-b8dd9459eb2f",
   "metadata": {},
   "source": [
    "注意：通过上述的代码，能够看到类属性和类方法和静态方法的创建，其实这些东西就相当于封装到一个类里面的，**所以通过这个类创建出来的对象，都可以使用类属性，类方法和静态方法**"
   ]
  },
  {
   "cell_type": "markdown",
   "id": "b16621da-a991-4565-b973-138f6123e71f",
   "metadata": {},
   "source": [
    "以下是一个完整的属性和方法和静态方法的描述"
   ]
  },
  {
   "cell_type": "code",
   "execution_count": 11,
   "id": "652778a8-e775-4bb3-812a-6a5e3336367f",
   "metadata": {},
   "outputs": [],
   "source": [
    "class Student:\n",
    "    # 类属性\n",
    "    class_id = None\n",
    "\n",
    "    def __init__(self, name, age, sex):\n",
    "        # 对象的属性 (成员变量)\n",
    "        self.name = name\n",
    "        self.age = age\n",
    "        self.sex = sex\n",
    "        # 怎么才能算 对象的属性，通过对象.属性 = 属性值 才算对象的属性\n",
    "\n",
    "    # 这个方法就是对象的方法 (成员方法)  \n",
    "    def eat(self):\n",
    "        print(f'{self.name}框框吃')\n",
    "\n",
    "    # 类方法\n",
    "    @classmethod\n",
    "    def create_student(cls):\n",
    "        return cls()\n",
    "\n",
    "    # 静态方法\n",
    "    @staticmethod\n",
    "    def sayHello():\n",
    "        print(\"hello world\")"
   ]
  },
  {
   "cell_type": "code",
   "execution_count": null,
   "id": "a041928a-0f35-4087-bf6f-c0e9f15f8c33",
   "metadata": {},
   "outputs": [],
   "source": []
  }
 ],
 "metadata": {
  "kernelspec": {
   "display_name": "Python 3 (ipykernel)",
   "language": "python",
   "name": "python3"
  },
  "language_info": {
   "codemirror_mode": {
    "name": "ipython",
    "version": 3
   },
   "file_extension": ".py",
   "mimetype": "text/x-python",
   "name": "python",
   "nbconvert_exporter": "python",
   "pygments_lexer": "ipython3",
   "version": "3.10.15"
  }
 },
 "nbformat": 4,
 "nbformat_minor": 5
}
