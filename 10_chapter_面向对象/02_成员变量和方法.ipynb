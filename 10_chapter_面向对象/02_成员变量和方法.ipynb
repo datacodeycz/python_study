{
 "cells": [
  {
   "cell_type": "markdown",
   "id": "b97c7881-be23-47d0-a6a8-e85108125a7b",
   "metadata": {},
   "source": [
    "## 成员变量和成员方法\n",
    "\n",
    "类中定义的属性（变量），我们称之为：成员变量\n",
    "\n",
    "类中定义的行为（方法），我们称之为：成员方法"
   ]
  },
  {
   "cell_type": "markdown",
   "id": "60f56ffe-fc9e-44b3-9111-b5d04521cd99",
   "metadata": {},
   "source": [
    "成员变量也就是我们之前讲过的对象的属性，成员变量是`对象.属性 = 属性值`的方式给创建属性或给属性重新赋值，在`01_面向对象的基本概述`中讲过，在后面再进行详细描述"
   ]
  },
  {
   "cell_type": "code",
   "execution_count": 1,
   "id": "ea901351-89d9-4dd1-9fda-07b0e09eb3f4",
   "metadata": {},
   "outputs": [
    {
     "name": "stdout",
     "output_type": "stream",
     "text": [
      "xiaoming去上课\n"
     ]
    }
   ],
   "source": [
    "# 创建一个Student类\n",
    "class Student:\n",
    "    stu_name = None\n",
    "    stu_id = None\n",
    "    # 定义该对象模板的方法\n",
    "    def attend_class(self):\n",
    "        print(self.stu_name + \"去上课\")\n",
    "\n",
    "xiaoming = Student()\n",
    "# 给该对象的属性设置对应的数据\n",
    "xiaoming.stu_id = \"20230101\"\n",
    "xiaoming.stu_name = \"xiaoming\"\n",
    "\n",
    "# 调用对象中的attend_class方法\n",
    "xiaoming.attend_class()  # xiaoming去上课\n",
    "\n",
    "# 我们通过创建类能看到我们给attend_calss方法设置了一个参数，\n",
    "# 按道理来说，我调用这个方法的时候，必须要给这个方法传一个参数，不然会报错，但是这里为什么没有报错啦，并且还使用了对象中stu_name的属性值"
   ]
  },
  {
   "cell_type": "markdown",
   "id": "aa3a8ab9-09ab-4940-be4e-806483cab0a0",
   "metadata": {},
   "source": [
    "在类中定义成员方法和定义函数是基本一致的，但是有一个区别就是：\n",
    "`def 方法名(self, 形参1, ……,形参n):`\n",
    "\n",
    "在定义成员方法时，有一个self关键字时必须填写的，并且是第一个参数，它不会作为我们调用方法时手动传入的参数，而是由python自动传入\n",
    "\n",
    "self关键字的注意事项：\n",
    "1. self可以不是这个单词，它可以是任意的单词名字，但是必须是第一个参数\n",
    "2. 它用来表示类对象自身 上述就表示`xiaoming`这个对象\n",
    "3. 在方法的内部，如果我们想要访问类的成员变量，那必须使用self关键字\n",
    "4. 它不需要我们手动传入，它是自动传入的"
   ]
  },
  {
   "cell_type": "code",
   "execution_count": 2,
   "id": "677d74f8-5c78-4ecc-82bd-b4fe6d2ae441",
   "metadata": {},
   "outputs": [
    {
     "name": "stdout",
     "output_type": "stream",
     "text": [
      "xiaoming去上课\n"
     ]
    }
   ],
   "source": [
    "# self关键字的使用\n",
    "\n",
    "# 创建一个Student类\n",
    "class Student:\n",
    "    stu_name = None\n",
    "    stu_id = None\n",
    "    # 定义该对象模板的方法\n",
    "    def attend_class(this):\n",
    "        print(this.stu_name + \"去上课\")\n",
    "\n",
    "\n",
    "xiaoming = Student()\n",
    "# 给该对象的属性设置对应的数据\n",
    "xiaoming.stu_id = \"20230101\"\n",
    "xiaoming.stu_name = \"xiaoming\"\n",
    "\n",
    "# 调用对象中的attend_class方法\n",
    "xiaoming.attend_class()  # xiaoming去上课"
   ]
  },
  {
   "cell_type": "markdown",
   "id": "f6145ad1-19fc-4c03-bc99-44da470ddade",
   "metadata": {},
   "source": [
    "上述的方法中，第一个参数名为this，也是可以使用的，跟self有着一样的作用，所以self可以不是这个单词，它可以是任意的单词名字，但是必须是第一个参数\n",
    "\n",
    "建议使用self做为关键字表示"
   ]
  },
  {
   "cell_type": "markdown",
   "id": "11309069-6e54-4ee9-95fb-d8fc84323f14",
   "metadata": {},
   "source": [
    "## 构造方法\n",
    "\n",
    "通过前面的学习，我们知道了怎么创建类，怎么通过类创建对象，怎么给对象中的属性赋值，但是我们通过`对象.属性 = 属性值`的方法给对象中的属性赋值太麻烦了，如果有一万个属性需要赋值，那就需要写一万条语句，就很麻烦，那可不可以使用更高效的方法，通过一行代码就实现赋值操作啦\n",
    "\n",
    "在我们通过类创建对象的时候，使用的是 `变量 = 类()`--->`xiaoming = Student()`这种方法，那可不可以通过创建对象的同时对属性赋值啦------>第一个魔术方法 构造方法 `__init__()`"
   ]
  },
  {
   "cell_type": "code",
   "execution_count": 3,
   "id": "362030a2-b5a0-484d-9528-84e147321524",
   "metadata": {},
   "outputs": [
    {
     "name": "stdout",
     "output_type": "stream",
     "text": [
      "20230101\n",
      "小明\n"
     ]
    }
   ],
   "source": [
    "# __init__()构造方法的使用\n",
    "class Student:\n",
    "    stu_name = None\n",
    "    stu_id = None\n",
    "    # 定义构造方法\n",
    "    def __init__(self,stu_name,stu_id):\n",
    "        self.stu_id = stu_id\n",
    "        self.stu_name = stu_name\n",
    "        \n",
    "    # 定义该对象模板的方法\n",
    "    def attend_class(this):\n",
    "        print(this.stu_name + \"去上课\")\n",
    "\n",
    "# 通过类创建对象\n",
    "xiaoming = Student(\"小明\",\"20230101\")\n",
    "print(xiaoming.stu_id)  # 20230101\n",
    "print(xiaoming.stu_name)  # 小明"
   ]
  },
  {
   "cell_type": "markdown",
   "id": "76a9a454-2d63-441b-88b2-69ca4a8b327f",
   "metadata": {},
   "source": [
    "在python类中，`__init__()`方法，称之为构造方法\n",
    "\n",
    "在我们通过类创建对象的过程中，会自动执行该方法，即使没有这个方法也会自动生成一个\n",
    "\n",
    "而我们通过类创建对象中使用的`Student(参数1, 参数2)`，会将传入的参数自动传递给__init__方法使用\n",
    "\n",
    "需要我们只需要在__init__方法中 将参数赋值给对象对应的属性"
   ]
  },
  {
   "cell_type": "markdown",
   "id": "397760b1-eab6-49f8-9310-f4943df963d0",
   "metadata": {},
   "source": [
    "注意：这里我们需要抛出一个之前上述的错误的概念：\n",
    "\n",
    "1. 在Python中，类也是一个对象，所以会有类属性（类变量）和类方法\n",
    "2. 我们上述的方式，创建出来的属性其实是类属性，并不是对象的属性，\n",
    "3. 当这个对象里面没有这个属性时，会使用类的属性"
   ]
  },
  {
   "cell_type": "markdown",
   "id": "dfcde1b0-a58d-496f-8d8c-4a7cdc77457e",
   "metadata": {},
   "source": [
    "## 成员变量和成员方法\n",
    "\n",
    "成员变量:通过`对象.属性 = 属性值`创建出来的属性是成员变量\n",
    "\n",
    "成员方法：在类中创建出来的方法，`def 函数名(self):` 表示为成员方法"
   ]
  },
  {
   "cell_type": "code",
   "execution_count": 6,
   "id": "a1a02831-4f41-4ae3-87e7-aa284e0685e4",
   "metadata": {},
   "outputs": [],
   "source": [
    "class Student:\n",
    "    def __init__(self, name, age, sex):\n",
    "        # 对象的属性 (成员变量)\n",
    "        self.name = name\n",
    "        self.age = age\n",
    "        self.sex = sex\n",
    "    # 这个方法就是对象的方法 (成员方法)  \n",
    "    def eat(self):\n",
    "        print(f'{self.name}框框吃')"
   ]
  },
  {
   "cell_type": "code",
   "execution_count": 7,
   "id": "2f6604d3-4f07-4dc5-a2af-ceb81c7aeb70",
   "metadata": {},
   "outputs": [
    {
     "name": "stdout",
     "output_type": "stream",
     "text": [
      "小明\n",
      "18\n",
      "nan\n",
      "小明框框吃\n"
     ]
    }
   ],
   "source": [
    "stu_1 = Student(\"小明\", '18', 'nan')\n",
    "print(stu_1.name)\n",
    "print(stu_1.age)\n",
    "print(stu_1.sex)\n",
    "stu_1.eat()"
   ]
  },
  {
   "cell_type": "markdown",
   "id": "0ba4f0bd-b795-4140-85a1-018e0c0794ff",
   "metadata": {},
   "source": [
    "练习：学生信息录入\n",
    "\n",
    "设计一个类，记录学生的`姓名`、`学号`、`班级`、`家庭地址`、`成绩`\n",
    "- 通过for循环，配合input输入语句，并使用构造方法，完成学生的信息的录入\n",
    "- 输入完成后，使用print语句，完成信息的输出"
   ]
  },
  {
   "cell_type": "code",
   "execution_count": 8,
   "id": "6ba0e618-ab7d-4ffd-ad59-e9395c0d76ac",
   "metadata": {},
   "outputs": [],
   "source": [
    "# 设计一个学生类\n",
    "class Student:\n",
    "    def __init__(self, stu_name, stu_id, stu_class, stu_address, stu_score):\n",
    "        self.stu_name = stu_name\n",
    "        self.stu_id = stu_id\n",
    "        self.stu_class = stu_class\n",
    "        self.stu_address = stu_address\n",
    "        self.stu_score = stu_score\n",
    "\n",
    "def input_stu_information():\n",
    "    for x in range(1,11):\n",
    "        print(f\"当前录入第{x}位学生信息，总共需要录入10位学生信息\")\n",
    "        stu_name = input(\"请输入学生的姓名:\")\n",
    "        stu_id = input(\"请输入学生的id\")\n",
    "        stu_class = input(\"请输入学生的班级:\")\n",
    "        stu_address = input(\"请输入学生的家庭地址\")\n",
    "        stu_score = eval(input(\"请输入学生的成绩（科目:分数）:\"))  # {'java': 100, 'mysql': 100}\n",
    "        student = Student(stu_name, stu_id, stu_class, stu_address, stu_score)\n",
    "        print(f\"学生{x}信息录入完成，信息为：姓名为：{student.stu_name}，学号为：{student.stu_id}，班级为：{student.stu_class}，\"\n",
    "                  + f\"地址为：{student.stu_address}，成绩为：{student.stu_score}\")\n",
    "    return 0"
   ]
  },
  {
   "cell_type": "code",
   "execution_count": null,
   "id": "c6be2087-34e7-45c5-a050-385d7481f6b1",
   "metadata": {},
   "outputs": [],
   "source": []
  }
 ],
 "metadata": {
  "kernelspec": {
   "display_name": "Python 3 (ipykernel)",
   "language": "python",
   "name": "python3"
  },
  "language_info": {
   "codemirror_mode": {
    "name": "ipython",
    "version": 3
   },
   "file_extension": ".py",
   "mimetype": "text/x-python",
   "name": "python",
   "nbconvert_exporter": "python",
   "pygments_lexer": "ipython3",
   "version": "3.10.15"
  }
 },
 "nbformat": 4,
 "nbformat_minor": 5
}
