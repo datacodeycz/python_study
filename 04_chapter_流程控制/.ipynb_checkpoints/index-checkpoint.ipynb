{
 "cells": [
  {
   "cell_type": "markdown",
   "id": "59feaa23-5e02-4500-bdd8-12af43298996",
   "metadata": {},
   "source": [
    "# 流程控制语句\n",
    "1.流程控制语句是什么<br>\n",
    "2.为什么要用使用流程控制语句<br>\n",
    "3.怎么使用流程控制语句<br>\n",
    "<br>\n",
    "写的代码都会有一个执行的顺序<br>\n",
    "在我们写代码的时候，我们的执行顺序是怎样的 从上至下<br>\n",
    "python 正常的执行顺序也是从上至下<br>\n",
    "通过日常生活的实例：会发现，我们需要做选择，选中某一个，都需要执行某个的事情<br>\n",
    "<br>\n",
    "<br>\n",
    "现在在进行专升本的备考，进行了考试，考试成绩出来，你报考的那个学校360 你才能报考<br>\n",
    "小帅：378<br>\n",
    "小美：359<br>\n",
    "378 > 360 ? 正确<br>\n",
    "359 > 360 ? 错误<br>\n",
    "当你的成绩大于360  就正常专升本成功<br>\n",
    "当你的成绩小于360  就专升本失败<br>\n",
    "<br>\n",
    "<br>\n",
    "当小刚 考了190，专升本失败了<br>\n",
    "上班了-----进厂了------干流水线的工作<br>\n",
    "流水线的工作是需要干嘛：<br>\n",
    "9-12点—----打螺丝 这个动作是干嘛的  重复执行打螺丝这个动作<br>\n",
    "9-12点之间都是在循环的执行某一个事情，当12点一到，就结束了<br>\n",
    "\n",
    "\n",
    ":begin_tab:toc\n",
    " - [01_判断语句](01_判断语句.ipynb)\n",
    " - [02_循环语句](02_循环语句.ipynb)\n",
    "\n",
    ":end_tab:"
   ]
  },
  {
   "cell_type": "code",
   "execution_count": null,
   "id": "48ecb48c-09cd-4f53-b751-93c524cf1375",
   "metadata": {},
   "outputs": [],
   "source": []
  }
 ],
 "metadata": {
  "kernelspec": {
   "display_name": "Python 3 (ipykernel)",
   "language": "python",
   "name": "python3"
  },
  "language_info": {
   "codemirror_mode": {
    "name": "ipython",
    "version": 3
   },
   "file_extension": ".py",
   "mimetype": "text/x-python",
   "name": "python",
   "nbconvert_exporter": "python",
   "pygments_lexer": "ipython3",
   "version": "3.10.15"
  }
 },
 "nbformat": 4,
 "nbformat_minor": 5
}
