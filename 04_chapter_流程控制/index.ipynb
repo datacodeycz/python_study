{
 "cells": [
  {
   "cell_type": "markdown",
   "id": "59feaa23-5e02-4500-bdd8-12af43298996",
   "metadata": {},
   "source": [
    "# 流程控制语句\n",
    "\n",
    "流程控制语句是程序执行中不可或缺的部分，用于控制代码的执行顺序和逻辑。通过本章的学习，你将了解以下内容：\n",
    "1. **什么是流程控制语句**：定义流程控制的概念。\n",
    "2. **为什么要使用流程控制语句**：通过真实案例展示流程控制语句的必要性。\n",
    "3. **如何使用流程控制语句**：结合条件判断和循环的实际应用，掌握其使用方法。\n",
    "\n",
    "## 日常实例\n",
    "### 条件判断\n",
    "- **专升本考试案例**：\n",
    "  - 小帅成绩：378，满足条件 `378 > 360`，专升本成功。\n",
    "  - 小美成绩：359，不满足条件 `359 > 360`，专升本失败。\n",
    "  - 当分数大于 360 时，输出 \"专升本成功\"；否则输出 \"专升本失败\"。\n",
    "\n",
    "### 循环语句\n",
    "- **流水线工作案例**：\n",
    "  - 小刚考试失败后，进入工厂从事流水线工作。\n",
    "  - **时间段**：9 点到 12 点。\n",
    "  - **任务**：重复执行 \"打螺丝\" 的动作。\n",
    "  - **逻辑**：当时间小于 12 点时，继续循环；到 12 点时，循环结束。\n",
    "\n",
    "通过这些实例，可以深入理解条件判断和循环语句的应用。\n",
    "\n",
    "## 目录\n",
    "- [01_判断语句](01_判断语句.ipynb)  \n",
    "  学习如何使用 `if` 条件判断语句，结合实际案例掌握判断逻辑。\n",
    "\n",
    "- [02_循环语句](02_循环语句.ipynb)  \n",
    "  掌握 `for` 和 `while` 循环语句的用法，学习如何通过循环简化重复任务。\n"
   ]
  },
  {
   "cell_type": "code",
   "execution_count": null,
   "id": "48ecb48c-09cd-4f53-b751-93c524cf1375",
   "metadata": {},
   "outputs": [],
   "source": []
  }
 ],
 "metadata": {
  "kernelspec": {
   "display_name": "Python 3 (ipykernel)",
   "language": "python",
   "name": "python3"
  },
  "language_info": {
   "codemirror_mode": {
    "name": "ipython",
    "version": 3
   },
   "file_extension": ".py",
   "mimetype": "text/x-python",
   "name": "python",
   "nbconvert_exporter": "python",
   "pygments_lexer": "ipython3",
   "version": "3.10.15"
  }
 },
 "nbformat": 4,
 "nbformat_minor": 5
}
