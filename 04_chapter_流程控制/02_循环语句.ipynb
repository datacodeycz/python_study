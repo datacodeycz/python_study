{
 "cells": [
  {
   "cell_type": "markdown",
   "id": "502f7e88-bd57-4005-90a9-7fae9b8f2a00",
   "metadata": {},
   "source": [
    "#  循环语句\n",
    "什么是循环，为什么要有循环，循环怎么用<br>\n",
    "1.什么是循环<br>\n",
    "循环就是重复是执行某一件事，就比如说流水线的工人，重复的执行某个事情，这个就叫循环<br>\n",
    "2.为什么要有循环<br>\n",
    "在计算机中，循环是一种流程控制，当我们有需求需要重复的执行某一段代码的时候，就可以借助循环一直执行某一个代码块<br>\n",
    "3.循环可以干什么？<br>\n",
    "讲完之后回答<br>\n",
    "\n"
   ]
  },
  {
   "cell_type": "markdown",
   "id": "5de4517e-3e37-4401-9662-a08ef5620fe4",
   "metadata": {},
   "source": [
    "## while循环\n",
    "while循环的基本结构<br>\n",
    "<br>\n",
    "```\n",
    "while 条件:\n",
    "    条件为真时，执行的代码块\n",
    "    （代码块执行完，就再次判断条件)\n",
    "```\n",
    "<br>\n",
    "ps：1.当条件一直为真时，会无限循环执行，而无限循环并不是我们想要的，所以就提出一个问题<br>\n",
    "问题1：怎么写才能使我们不执行无限循环，换句话说，我们需要设置终止的条件，保证不无限执行<br>\n",
    "答：当我们的需求是执行50次循环，或是找到一个值时就结束循环，只有将我们的代码块跟条件关联的时候，才能不执行无限循环。<br>"
   ]
  },
  {
   "cell_type": "code",
   "execution_count": 2,
   "id": "646e493b-7883-41e5-a577-9c508554bf01",
   "metadata": {},
   "outputs": [
    {
     "name": "stdout",
     "output_type": "stream",
     "text": [
      "工人们正在工作\n",
      "工人们正在工作\n",
      "工人们正在工作\n"
     ]
    }
   ],
   "source": [
    "# 实例while 流水线的工人，从早上9点开始要工作到12点，每一个小时进行记录\n",
    "# time 表示时间\n",
    "time = 9\n",
    "while time < 12:\n",
    "    print(\"工人们正在工作\")\n",
    "    time = time + 1"
   ]
  },
  {
   "cell_type": "code",
   "execution_count": 3,
   "id": "d260eb63-c66f-4b94-ab96-78c4c83a13bb",
   "metadata": {},
   "outputs": [
    {
     "name": "stdout",
     "output_type": "stream",
     "text": [
      "153\n",
      "370\n",
      "371\n",
      "407\n"
     ]
    }
   ],
   "source": [
    "# 练习1 在100-999中找一个三位数，满足其各位数字的立方和确好等于该数本身\n",
    "i = 100\n",
    "while  i < 999:\n",
    "    h = int(i / 100)\n",
    "    ten = int(i / 10 % 10)\n",
    "    u = int(i % 10)\n",
    "    result = h ** 3 + ten ** 3 + u ** 3\n",
    "#     print(result)\n",
    "    if( result == i):\n",
    "        print(i)\n",
    "    i = i + 1"
   ]
  },
  {
   "cell_type": "code",
   "execution_count": 4,
   "id": "775d6715-b589-400d-9e05-503bcc9f6435",
   "metadata": {},
   "outputs": [
    {
     "name": "stdout",
     "output_type": "stream",
     "text": [
      "5050\n",
      "====================\n",
      "2\n",
      "4\n",
      "6\n",
      "8\n",
      "10\n",
      "12\n",
      "14\n",
      "16\n",
      "18\n",
      "20\n"
     ]
    }
   ],
   "source": [
    "# 练习2 求1-100的和，并输出\n",
    "# 存储我们计算的结果\n",
    "sum = 0\n",
    "# 进行循环的标识，作为控制我们循环次数的一个标识\n",
    "i = 1\n",
    "while i <= 100:\n",
    "    sum = sum + i\n",
    "    i = i + 1\n",
    "print(sum)\n",
    "print(\"====================\")\n",
    "# 练习3 在1-20找到偶数，并输出\n",
    "j = 1\n",
    "while j <= 20:\n",
    "    if j % 2 == 0:\n",
    "        print(j)\n",
    "    j = j + 1"
   ]
  },
  {
   "cell_type": "code",
   "execution_count": 5,
   "id": "72a86ebf-4f39-4305-915c-170011f371b4",
   "metadata": {},
   "outputs": [
    {
     "name": "stdin",
     "output_type": "stream",
     "text": [
      "请输入一个1-100的随机数: 50\n"
     ]
    },
    {
     "name": "stdout",
     "output_type": "stream",
     "text": [
      "不好意思,你猜小了\n"
     ]
    },
    {
     "name": "stdin",
     "output_type": "stream",
     "text": [
      "请输入一个1-100的随机数: 75\n"
     ]
    },
    {
     "name": "stdout",
     "output_type": "stream",
     "text": [
      "不好意思,你猜大了\n"
     ]
    },
    {
     "name": "stdin",
     "output_type": "stream",
     "text": [
      "请输入一个1-100的随机数: 62\n"
     ]
    },
    {
     "name": "stdout",
     "output_type": "stream",
     "text": [
      "不好意思,你猜小了\n"
     ]
    },
    {
     "name": "stdin",
     "output_type": "stream",
     "text": [
      "请输入一个1-100的随机数: 70\n"
     ]
    },
    {
     "name": "stdout",
     "output_type": "stream",
     "text": [
      "不好意思,你猜大了\n"
     ]
    },
    {
     "name": "stdin",
     "output_type": "stream",
     "text": [
      "请输入一个1-100的随机数: 69\n"
     ]
    },
    {
     "name": "stdout",
     "output_type": "stream",
     "text": [
      "不好意思,你猜大了\n"
     ]
    },
    {
     "name": "stdin",
     "output_type": "stream",
     "text": [
      "请输入一个1-100的随机数: 65\n"
     ]
    },
    {
     "name": "stdout",
     "output_type": "stream",
     "text": [
      "恭喜你猜对了\n"
     ]
    }
   ],
   "source": [
    "# 进阶练习：设置一个1-100的随机数，然后猜这个随机数，没猜对重新猜，猜对结束\n",
    "# 第一步\n",
    "import random\n",
    "\n",
    "# 设置一个1-100的随机数\n",
    "# (x,y)\n",
    "# n * (y - x) + x\n",
    "random_1_100 = random.randint(1,101) # 获得了一个1-100随机整数\n",
    "while True:\n",
    "    num = int(input(\"请输入一个1-100的随机数:\"))\n",
    "    if random_1_100 > num:\n",
    "        print(\"不好意思,你猜小了\")\n",
    "    elif random_1_100 < num:\n",
    "        print(\"不好意思,你猜大了\")\n",
    "    else:\n",
    "        print(\"恭喜你猜对了\")\n",
    "        break"
   ]
  },
  {
   "cell_type": "markdown",
   "id": "77e83629-0c62-4eb3-8232-7cfcbc931183",
   "metadata": {},
   "source": [
    "### while循环语句的嵌套使用基本格式\n",
    "在循环中，又进入了一个循环，就是循环的嵌套\n",
    "\n",
    "在需求设计中，有时候我们会有这样的需求，在这一个月里，流水线的工人都需要在9-12点之间工作，并且每一个小时会检查一次"
   ]
  },
  {
   "cell_type": "code",
   "execution_count": 7,
   "id": "61aff48a-4953-4865-9e40-cbd669df3939",
   "metadata": {
    "scrolled": true
   },
   "outputs": [
    {
     "name": "stdout",
     "output_type": "stream",
     "text": [
      "day1,9点工人正在正常工作\n",
      "day1,10点工人正在正常工作\n",
      "day1,11点工人正在正常工作\n",
      "day2,9点工人正在正常工作\n",
      "day2,10点工人正在正常工作\n",
      "day2,11点工人正在正常工作\n",
      "day3,9点工人正在正常工作\n",
      "day3,10点工人正在正常工作\n",
      "day3,11点工人正在正常工作\n",
      "day4,9点工人正在正常工作\n",
      "day4,10点工人正在正常工作\n",
      "day4,11点工人正在正常工作\n",
      "day5,9点工人正在正常工作\n",
      "day5,10点工人正在正常工作\n",
      "day5,11点工人正在正常工作\n",
      "day6,9点工人正在正常工作\n",
      "day6,10点工人正在正常工作\n",
      "day6,11点工人正在正常工作\n",
      "day7,9点工人正在正常工作\n",
      "day7,10点工人正在正常工作\n",
      "day7,11点工人正在正常工作\n",
      "day8,9点工人正在正常工作\n",
      "day8,10点工人正在正常工作\n",
      "day8,11点工人正在正常工作\n",
      "day9,9点工人正在正常工作\n",
      "day9,10点工人正在正常工作\n",
      "day9,11点工人正在正常工作\n",
      "day10,9点工人正在正常工作\n",
      "day10,10点工人正在正常工作\n",
      "day10,11点工人正在正常工作\n",
      "day11,9点工人正在正常工作\n",
      "day11,10点工人正在正常工作\n",
      "day11,11点工人正在正常工作\n",
      "day12,9点工人正在正常工作\n",
      "day12,10点工人正在正常工作\n",
      "day12,11点工人正在正常工作\n",
      "day13,9点工人正在正常工作\n",
      "day13,10点工人正在正常工作\n",
      "day13,11点工人正在正常工作\n",
      "day14,9点工人正在正常工作\n",
      "day14,10点工人正在正常工作\n",
      "day14,11点工人正在正常工作\n",
      "day15,9点工人正在正常工作\n",
      "day15,10点工人正在正常工作\n",
      "day15,11点工人正在正常工作\n",
      "day16,9点工人正在正常工作\n",
      "day16,10点工人正在正常工作\n",
      "day16,11点工人正在正常工作\n",
      "day17,9点工人正在正常工作\n",
      "day17,10点工人正在正常工作\n",
      "day17,11点工人正在正常工作\n",
      "day18,9点工人正在正常工作\n",
      "day18,10点工人正在正常工作\n",
      "day18,11点工人正在正常工作\n",
      "day19,9点工人正在正常工作\n",
      "day19,10点工人正在正常工作\n",
      "day19,11点工人正在正常工作\n",
      "day20,9点工人正在正常工作\n",
      "day20,10点工人正在正常工作\n",
      "day20,11点工人正在正常工作\n",
      "day21,9点工人正在正常工作\n",
      "day21,10点工人正在正常工作\n",
      "day21,11点工人正在正常工作\n",
      "day22,9点工人正在正常工作\n",
      "day22,10点工人正在正常工作\n",
      "day22,11点工人正在正常工作\n",
      "day23,9点工人正在正常工作\n",
      "day23,10点工人正在正常工作\n",
      "day23,11点工人正在正常工作\n",
      "day24,9点工人正在正常工作\n",
      "day24,10点工人正在正常工作\n",
      "day24,11点工人正在正常工作\n",
      "day25,9点工人正在正常工作\n",
      "day25,10点工人正在正常工作\n",
      "day25,11点工人正在正常工作\n",
      "day26,9点工人正在正常工作\n",
      "day26,10点工人正在正常工作\n",
      "day26,11点工人正在正常工作\n",
      "day27,9点工人正在正常工作\n",
      "day27,10点工人正在正常工作\n",
      "day27,11点工人正在正常工作\n",
      "day28,9点工人正在正常工作\n",
      "day28,10点工人正在正常工作\n",
      "day28,11点工人正在正常工作\n",
      "day29,9点工人正在正常工作\n",
      "day29,10点工人正在正常工作\n",
      "day29,11点工人正在正常工作\n",
      "day30,9点工人正在正常工作\n",
      "day30,10点工人正在正常工作\n",
      "day30,11点工人正在正常工作\n"
     ]
    }
   ],
   "source": [
    "# while循环的嵌套的案例\n",
    "\n",
    "day = 1\n",
    "while day <= 30:\n",
    "    # 工作天数\n",
    "    time = 9\n",
    "    while time < 12:\n",
    "        # 时间\n",
    "        print(f\"day{day},{time}点工人正在正常工作\")\n",
    "        time = time + 1 \n",
    "    day = day + 1"
   ]
  },
  {
   "cell_type": "code",
   "execution_count": 8,
   "id": "062e6bda-6b47-401f-8938-0d1e65881cdf",
   "metadata": {},
   "outputs": [
    {
     "name": "stdout",
     "output_type": "stream",
     "text": [
      "1 * 1 = 1\t\t\n",
      "1 * 2 = 2\t2 * 2 = 4\t\t\n",
      "1 * 3 = 3\t2 * 3 = 6\t3 * 3 = 9\t\t\n",
      "1 * 4 = 4\t2 * 4 = 8\t3 * 4 = 12\t4 * 4 = 16\t\t\n",
      "1 * 5 = 5\t2 * 5 = 10\t3 * 5 = 15\t4 * 5 = 20\t5 * 5 = 25\t\t\n",
      "1 * 6 = 6\t2 * 6 = 12\t3 * 6 = 18\t4 * 6 = 24\t5 * 6 = 30\t6 * 6 = 36\t\t\n",
      "1 * 7 = 7\t2 * 7 = 14\t3 * 7 = 21\t4 * 7 = 28\t5 * 7 = 35\t6 * 7 = 42\t7 * 7 = 49\t\t\n",
      "1 * 8 = 8\t2 * 8 = 16\t3 * 8 = 24\t4 * 8 = 32\t5 * 8 = 40\t6 * 8 = 48\t7 * 8 = 56\t8 * 8 = 64\t\t\n",
      "1 * 9 = 9\t2 * 9 = 18\t3 * 9 = 27\t4 * 9 = 36\t5 * 9 = 45\t6 * 9 = 54\t7 * 9 = 63\t8 * 9 = 72\t9 * 9 = 81\t\t\n"
     ]
    }
   ],
   "source": [
    "# 练习  九九乘法表\n",
    "i = 1\n",
    "while i <= 9:\n",
    "    j = 1\n",
    "    while j <= i:\n",
    "        print(f\"{j} * {i} = {i * j}\\t\",end=\"\")\n",
    "        j = j + 1\n",
    "    print(\"\\t\")\n",
    "    i = i + 1"
   ]
  },
  {
   "cell_type": "markdown",
   "id": "b824f57f-b631-47bb-9401-162cdddcb10f",
   "metadata": {},
   "source": [
    "## for循环\n",
    "for循环的结构，\n",
    "```\n",
    "for 临时变量 in 待处理的数据集:\n",
    "    循环执行的代码块\n",
    "```\n",
    "python中的for循环更多的是作为的一个循环遍历的功能，在其他语言中，for循环可以像while循环一样去使用，但是在python中更多的是去遍历一个容器的元素"
   ]
  },
  {
   "cell_type": "code",
   "execution_count": 10,
   "id": "d65bfb04-19bc-455b-862b-9b4a96a41fd8",
   "metadata": {},
   "outputs": [
    {
     "name": "stdout",
     "output_type": "stream",
     "text": [
      "math-model"
     ]
    }
   ],
   "source": [
    "# 实例\n",
    "\n",
    "# 这里的字符串，就是像JavaScript中的一个数组，首先按照这种方式理解，后续会继续讲解\n",
    "str_1 = \"math-model\"\n",
    "for x in str_1:\n",
    "    print(x,end=\"\")"
   ]
  },
  {
   "cell_type": "markdown",
   "id": "005239b9-38c6-419e-887b-5d1e7424e8d5",
   "metadata": {},
   "source": [
    "通过上述代码我们能看出来，for循环更多的实现的是一个遍历容器元素的操作 所有我们需要学到后面才会讲解，这里我们主要通过range()函数生成一个简单的数字序列进行讲解<br>\n",
    "range()<br>\n",
    "&emsp; 功能：生成一个数字序列，生成的范围由参数决定<br>\n",
    "&emsp; 输入（参数）：<br>\n",
    "&emsp; &emsp; 参数1：（1）当只有参数1的时候，获取一个从0开始，到参数1结束的数字序列；（2）当有两个参数时，参数1表示起始位置<br>\n",
    "&emsp; &emsp; 参数2：表示数字序列中的终点位置（不包括参数2）<br>\n",
    "&emsp; &emsp; 参数3：表示数字之间的步长，未输入参数3时，默认为1<br>\n",
    "&emsp; &emsp;  步长：数字与数字之间的间隔，例如1和3之间的步长就是2<br>\n",
    "&emsp;输出（返回值）：返回上述范围的数字序列<br>\n",
    "<br>\n",
    "注意：range()返回的是一个可迭代对象（类型是对象），而不是列表类型， 所以打印的时候不会打印列表"
   ]
  },
  {
   "cell_type": "code",
   "execution_count": 12,
   "id": "1c456307-6818-4bd5-b058-ef0f78cdeb38",
   "metadata": {},
   "outputs": [
    {
     "name": "stdout",
     "output_type": "stream",
     "text": [
      "range(0, 5)\n",
      "0 1 2 3 4 "
     ]
    }
   ],
   "source": [
    "# range()函数的使用\n",
    "sum = range(5)  # 表示[0,5)之间的数字序列\n",
    "print(sum)\n",
    "for x in sum:\n",
    "    print(f\"{x} \",end=\"\")"
   ]
  },
  {
   "cell_type": "code",
   "execution_count": 13,
   "id": "d4d8e720-81f3-46a7-9759-bf1c06cdfbd9",
   "metadata": {},
   "outputs": [
    {
     "name": "stdout",
     "output_type": "stream",
     "text": [
      "1 2 3 4 5 6 7 8 9 "
     ]
    }
   ],
   "source": [
    "# 两个参数的时候\n",
    "sum = range(1,10) # 1-9\n",
    "for x in sum:\n",
    "    print(f\"{x} \",end=\"\")"
   ]
  },
  {
   "cell_type": "code",
   "execution_count": 14,
   "id": "c96ca242-e640-4263-8b43-e776dfea3ad2",
   "metadata": {},
   "outputs": [
    {
     "name": "stdout",
     "output_type": "stream",
     "text": [
      "1 3 5 7 9 "
     ]
    }
   ],
   "source": [
    "# 三个参数的时候\n",
    "for x in range(1,10,2):\n",
    "    print(f\"{x} \",end=\"\")"
   ]
  },
  {
   "cell_type": "code",
   "execution_count": 15,
   "id": "b3a70c49-1376-4f72-bef1-800de0e8e0f5",
   "metadata": {},
   "outputs": [
    {
     "name": "stdout",
     "output_type": "stream",
     "text": [
      "range(0, 5)\n",
      "0 1 2 3 4 \n",
      "1\t2\t3\t4\t\n",
      "1\t3\t5\t7\t9\t"
     ]
    }
   ],
   "source": [
    "# range()函数的使用\n",
    "sum = range(5)  # 表示[0,5)之间的数字序列\n",
    "print(sum)\n",
    "for x in sum:\n",
    "    print(f\"{x} \",end=\"\")\n",
    "sum1 = range(1,5)  # 表示 (1,5)之间的数字序列\n",
    "print()\n",
    "for x in sum1:\n",
    "    print(f\"{x}\\t\",end=\"\")\n",
    "# print(sum1)\n",
    "\n",
    "print(\"\")\n",
    "sum2 = range(1,10,2)\n",
    "for x in sum2:\n",
    "    print(f\"{x}\\t\",end=\"\")"
   ]
  },
  {
   "cell_type": "markdown",
   "id": "4d7c9caf-d3ed-49d3-8937-ea824645a391",
   "metadata": {},
   "source": [
    "小插曲：python中的作用域\\\n",
    "在python中首先目前为止我们只需要探讨全局作用域和局部作用域\n",
    "在Python中，只有模块，类以及函数才会引入新的作用域，像我们上述代码中写的x，在其他语言中，i是在for循环这个块作用域的，我们在全局中是无法使用这个变量的，但是在python中它仍然处于当前的作用域，我们外部是可以使用x这个变量"
   ]
  },
  {
   "cell_type": "code",
   "execution_count": 17,
   "id": "fa32c00c-a5a9-4e5e-bba9-33f28ceb5c3a",
   "metadata": {},
   "outputs": [
    {
     "name": "stdout",
     "output_type": "stream",
     "text": [
      "1\n",
      "2\n",
      "3\n",
      "4\n",
      "外面的x=4\n"
     ]
    }
   ],
   "source": [
    "# 作用域测试\n",
    "for x in range(1,5):\n",
    "    print(x)\n",
    "    \n",
    "print('外面的x=' + str(x))  # 4 就是访问到数字序列中的最后一个元素\n",
    "# 在正常开发过程中，我们按照编程规范来表示，在一个代码块中的变量，我们的外层就尽量不要使用"
   ]
  },
  {
   "cell_type": "markdown",
   "id": "e57d3153-81f4-45ac-b716-e3da27688446",
   "metadata": {},
   "source": [
    "### for循环的嵌套使用\n",
    "for循环中的嵌套使用其实跟while循环的逻辑是一样的，在for循环嵌套使用中我们得从线变成面"
   ]
  },
  {
   "cell_type": "code",
   "execution_count": 18,
   "id": "e4f4dc1a-98be-41b1-83ff-0eaae9296aab",
   "metadata": {
    "scrolled": true
   },
   "outputs": [
    {
     "name": "stdout",
     "output_type": "stream",
     "text": [
      "day1,9点工人正在正常工作\n",
      "day1,10点工人正在正常工作\n",
      "day1,11点工人正在正常工作\n",
      "day2,9点工人正在正常工作\n",
      "day2,10点工人正在正常工作\n",
      "day2,11点工人正在正常工作\n",
      "day3,9点工人正在正常工作\n",
      "day3,10点工人正在正常工作\n",
      "day3,11点工人正在正常工作\n",
      "day4,9点工人正在正常工作\n",
      "day4,10点工人正在正常工作\n",
      "day4,11点工人正在正常工作\n",
      "day5,9点工人正在正常工作\n",
      "day5,10点工人正在正常工作\n",
      "day5,11点工人正在正常工作\n",
      "day6,9点工人正在正常工作\n",
      "day6,10点工人正在正常工作\n",
      "day6,11点工人正在正常工作\n",
      "day7,9点工人正在正常工作\n",
      "day7,10点工人正在正常工作\n",
      "day7,11点工人正在正常工作\n",
      "day8,9点工人正在正常工作\n",
      "day8,10点工人正在正常工作\n",
      "day8,11点工人正在正常工作\n",
      "day9,9点工人正在正常工作\n",
      "day9,10点工人正在正常工作\n",
      "day9,11点工人正在正常工作\n",
      "day10,9点工人正在正常工作\n",
      "day10,10点工人正在正常工作\n",
      "day10,11点工人正在正常工作\n",
      "day11,9点工人正在正常工作\n",
      "day11,10点工人正在正常工作\n",
      "day11,11点工人正在正常工作\n",
      "day12,9点工人正在正常工作\n",
      "day12,10点工人正在正常工作\n",
      "day12,11点工人正在正常工作\n",
      "day13,9点工人正在正常工作\n",
      "day13,10点工人正在正常工作\n",
      "day13,11点工人正在正常工作\n",
      "day14,9点工人正在正常工作\n",
      "day14,10点工人正在正常工作\n",
      "day14,11点工人正在正常工作\n",
      "day15,9点工人正在正常工作\n",
      "day15,10点工人正在正常工作\n",
      "day15,11点工人正在正常工作\n",
      "day16,9点工人正在正常工作\n",
      "day16,10点工人正在正常工作\n",
      "day16,11点工人正在正常工作\n",
      "day17,9点工人正在正常工作\n",
      "day17,10点工人正在正常工作\n",
      "day17,11点工人正在正常工作\n",
      "day18,9点工人正在正常工作\n",
      "day18,10点工人正在正常工作\n",
      "day18,11点工人正在正常工作\n",
      "day19,9点工人正在正常工作\n",
      "day19,10点工人正在正常工作\n",
      "day19,11点工人正在正常工作\n",
      "day20,9点工人正在正常工作\n",
      "day20,10点工人正在正常工作\n",
      "day20,11点工人正在正常工作\n",
      "day21,9点工人正在正常工作\n",
      "day21,10点工人正在正常工作\n",
      "day21,11点工人正在正常工作\n",
      "day22,9点工人正在正常工作\n",
      "day22,10点工人正在正常工作\n",
      "day22,11点工人正在正常工作\n",
      "day23,9点工人正在正常工作\n",
      "day23,10点工人正在正常工作\n",
      "day23,11点工人正在正常工作\n",
      "day24,9点工人正在正常工作\n",
      "day24,10点工人正在正常工作\n",
      "day24,11点工人正在正常工作\n",
      "day25,9点工人正在正常工作\n",
      "day25,10点工人正在正常工作\n",
      "day25,11点工人正在正常工作\n",
      "day26,9点工人正在正常工作\n",
      "day26,10点工人正在正常工作\n",
      "day26,11点工人正在正常工作\n",
      "day27,9点工人正在正常工作\n",
      "day27,10点工人正在正常工作\n",
      "day27,11点工人正在正常工作\n",
      "day28,9点工人正在正常工作\n",
      "day28,10点工人正在正常工作\n",
      "day28,11点工人正在正常工作\n",
      "day29,9点工人正在正常工作\n",
      "day29,10点工人正在正常工作\n",
      "day29,11点工人正在正常工作\n",
      "day30,9点工人正在正常工作\n",
      "day30,10点工人正在正常工作\n",
      "day30,11点工人正在正常工作\n"
     ]
    }
   ],
   "source": [
    "# 在这一个月里，流水线的工人都需要在9-12点之间工作，并且每一个小时会检查一次\n",
    "for day in range(1,31):\n",
    "    for time in range(9,12):\n",
    "        print(f\"day{day},{time}点工人正在正常工作\")"
   ]
  },
  {
   "cell_type": "code",
   "execution_count": 19,
   "id": "d1713472-a9ab-48df-a810-2653dc5206ef",
   "metadata": {},
   "outputs": [
    {
     "name": "stdout",
     "output_type": "stream",
     "text": [
      "1 * 1 = 1\t\t\n",
      "1 * 2 = 2\t2 * 2 = 4\t\t\n",
      "1 * 3 = 3\t2 * 3 = 6\t3 * 3 = 9\t\t\n",
      "1 * 4 = 4\t2 * 4 = 8\t3 * 4 = 12\t4 * 4 = 16\t\t\n",
      "1 * 5 = 5\t2 * 5 = 10\t3 * 5 = 15\t4 * 5 = 20\t5 * 5 = 25\t\t\n",
      "1 * 6 = 6\t2 * 6 = 12\t3 * 6 = 18\t4 * 6 = 24\t5 * 6 = 30\t6 * 6 = 36\t\t\n",
      "1 * 7 = 7\t2 * 7 = 14\t3 * 7 = 21\t4 * 7 = 28\t5 * 7 = 35\t6 * 7 = 42\t7 * 7 = 49\t\t\n",
      "1 * 8 = 8\t2 * 8 = 16\t3 * 8 = 24\t4 * 8 = 32\t5 * 8 = 40\t6 * 8 = 48\t7 * 8 = 56\t8 * 8 = 64\t\t\n",
      "1 * 9 = 9\t2 * 9 = 18\t3 * 9 = 27\t4 * 9 = 36\t5 * 9 = 45\t6 * 9 = 54\t7 * 9 = 63\t8 * 9 = 72\t9 * 9 = 81\t\t\n"
     ]
    }
   ],
   "source": [
    "# 练习：使用for循环打印九九乘法表\n",
    "for i in range(1,10):\n",
    "    for j in range(1,i + 1):\n",
    "        print(f\"{j} * {i} = {i * j}\\t\",end=\"\",sep=\"\\t\")\n",
    "    print(\"\\t\")"
   ]
  },
  {
   "cell_type": "markdown",
   "id": "48398f10-78cf-4b99-a9fa-a2bf5e5f73ed",
   "metadata": {},
   "source": [
    "## 循环中断\n",
    "有时候我们也有这样的需求，当我们去循环查找一个元素的时候，当找到这个元素的时候，我们就不需要继续执行该循环，就需要中断循环，而中断循环又会出现两种情况：<br>\n",
    "（1）流水线上的某个工人在某一天请假的，他就未正常工作，但是他其他时间都正常工作了。（跳出某一次循环） continue<br>\n",
    "（2）流水线上的某个工人在干到第28天的时候，辞职不干了，后面都不会来了。（跳出整个循环）break<br>"
   ]
  },
  {
   "cell_type": "markdown",
   "id": "5a5eefb7-604c-482f-87d7-56b58811b7c1",
   "metadata": {},
   "source": [
    "### break\n",
    "退出整个循环  相当于辞职了，后面的工作都不干了"
   ]
  },
  {
   "cell_type": "code",
   "execution_count": 20,
   "id": "519e79f8-ac8c-456d-a810-ee2d6e2d8ea0",
   "metadata": {},
   "outputs": [
    {
     "name": "stdout",
     "output_type": "stream",
     "text": [
      "第一个偶数是4\n"
     ]
    }
   ],
   "source": [
    "# 实例练习\n",
    "# 在3-100中找一个数，这个数是一个偶数，当我们找到第一个偶数就退出\n",
    "\n",
    "for x in range(3,101):\n",
    "    if(x % 2 == 0):\n",
    "        print(f\"第一个偶数是{x}\")\n",
    "        break"
   ]
  },
  {
   "cell_type": "markdown",
   "id": "7b6a9768-8034-4d0a-af7b-d59de99a5cb3",
   "metadata": {},
   "source": [
    "### continue \n",
    "退出某一次循环，相当于有一天，请假了，后面的工作还是要继续的干"
   ]
  },
  {
   "cell_type": "code",
   "execution_count": 22,
   "id": "570a51c1-2e80-4d4f-bb0b-5a5cb19a9cd6",
   "metadata": {},
   "outputs": [
    {
     "name": "stdout",
     "output_type": "stream",
     "text": [
      "2\n",
      "4\n",
      "6\n",
      "8\n",
      "10\n",
      "12\n",
      "14\n",
      "16\n",
      "18\n",
      "20\n"
     ]
    }
   ],
   "source": [
    "for x in range(1,21):\n",
    "    if(x % 2 != 0):\n",
    "        continue\n",
    "    print(x)"
   ]
  },
  {
   "cell_type": "code",
   "execution_count": 23,
   "id": "7fdd6cc8-daf6-4376-8542-a04d7129e1af",
   "metadata": {
    "scrolled": true
   },
   "outputs": [
    {
     "name": "stdout",
     "output_type": "stream",
     "text": [
      "2\n",
      "4\n",
      "6\n",
      "8\n",
      "10\n",
      "12\n",
      "14\n",
      "16\n",
      "18\n",
      "20\n"
     ]
    }
   ],
   "source": [
    "# 实例练习\n",
    "# 在1-20中找到偶数，并且偶数输出，要求使用continue\n",
    "for x in range(1,21):\n",
    "    if(x % 2 != 0):\n",
    "        continue\n",
    "    print(f\"{x}\")"
   ]
  },
  {
   "cell_type": "code",
   "execution_count": 24,
   "id": "bc6c12b1-bfa4-4546-a490-a6fa1b35a172",
   "metadata": {
    "scrolled": true
   },
   "outputs": [
    {
     "name": "stdout",
     "output_type": "stream",
     "text": [
      "1\n",
      "2\n",
      "3\n",
      "4\n",
      "5\n",
      "6\n",
      "7\n",
      "8\n",
      "9\n",
      "10\n",
      "11\n",
      "12\n",
      "13\n",
      "14\n",
      "15\n",
      "16\n",
      "17\n",
      "18\n",
      "19\n",
      "20\n",
      "21\n",
      "22\n",
      "23\n",
      "24\n",
      "25\n",
      "26\n"
     ]
    }
   ],
   "source": [
    "# 注意\n",
    "# 当程序中出现了break，break后面即使有代码 也不会执行\n",
    "for x in range(1,101):\n",
    "    if(x == 27):\n",
    "        break\n",
    "        print(x)\n",
    "    print(x)"
   ]
  },
  {
   "cell_type": "markdown",
   "id": "5a56ab6e-ed85-4c51-9a99-fca109e301ea",
   "metadata": {},
   "source": [
    "小结：<br>\n",
    "```break```可以退出整个循环<br> \n",
    "```continue```只能退出某一次循环，在使用过程中，一般情况下我们会结合着分支语句进行使用<br>"
   ]
  },
  {
   "cell_type": "code",
   "execution_count": 26,
   "id": "4cd7ca93-502f-4774-a1f6-8d918fe2c2a2",
   "metadata": {},
   "outputs": [
    {
     "name": "stdin",
     "output_type": "stream",
     "text": [
      " 9\n"
     ]
    },
    {
     "name": "stdout",
     "output_type": "stream",
     "text": [
      "1 1 2 3 5 8 13 21 34 "
     ]
    }
   ],
   "source": [
    "# 综合练习\n",
    "# 1.编写一个程序，接受用户输入的一个数字，然后判断该数字是奇数还是偶数。\n",
    "\n",
    "# 2.编写一个程序，接受用户输入的一个年份，然后判断该年份是否为闰年。\n",
    "\n",
    "# 3.编写一个程序，生成斐波那契数列的前 n 项，其中 n 由用户输入。\n",
    "n = int(input())\n",
    "a,b = 0,1\n",
    "for i in range(n):\n",
    "    a,b =b,a+b\n",
    "    print(a,end=\" \")\n",
    "# 4.编写一个程序，计算用户输入的一个数字的阶乘。\n"
   ]
  },
  {
   "cell_type": "code",
   "execution_count": null,
   "id": "cbc17629-d9ae-49a4-8d06-57bbdcbcd780",
   "metadata": {},
   "outputs": [],
   "source": []
  }
 ],
 "metadata": {
  "kernelspec": {
   "display_name": "Python 3 (ipykernel)",
   "language": "python",
   "name": "python3"
  },
  "language_info": {
   "codemirror_mode": {
    "name": "ipython",
    "version": 3
   },
   "file_extension": ".py",
   "mimetype": "text/x-python",
   "name": "python",
   "nbconvert_exporter": "python",
   "pygments_lexer": "ipython3",
   "version": "3.10.15"
  }
 },
 "nbformat": 4,
 "nbformat_minor": 5
}
