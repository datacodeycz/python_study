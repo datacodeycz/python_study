{
 "cells": [
  {
   "cell_type": "markdown",
   "id": "9a133221-8f03-4a20-b7d1-ec93eed09a4d",
   "metadata": {},
   "source": [
    "# 输入与输出\n",
    "\n",
    "这里主要是讲解print函数和input函数的使用"
   ]
  },
  {
   "cell_type": "markdown",
   "id": "8683d629-1618-49f5-a0a1-9b1726c9d15a",
   "metadata": {},
   "source": [
    "## 字符串的基础使用\n",
    "\n",
    "创建字符串的方式\n",
    "1. `‘’`\n",
    "2. `“”`\n",
    "3. `''' '''`\n",
    "4. `\"\"\" \"\"\"`"
   ]
  },
  {
   "cell_type": "code",
   "execution_count": 1,
   "id": "0fa7273e-a175-4560-9b3e-f0fbfed005bd",
   "metadata": {},
   "outputs": [
    {
     "name": "stdout",
     "output_type": "stream",
     "text": [
      "hello\n"
     ]
    }
   ],
   "source": [
    "# 创建字符串\n",
    "# 1. ''\n",
    "# 'hello'\n",
    "# 2. \"\"\n",
    "\"hello\"\n",
    "# 3. '''\n",
    "# '''\n",
    "a = '''hello'''\n",
    "print(a)\n",
    "# str1 = 'hello'  # 1.单引号\n",
    "# str2 = \"world\" # 2.双引号\n",
    "# str3 = '''python''' # 3.三个单引号\n",
    "# str1,str2,str3"
   ]
  },
  {
   "cell_type": "markdown",
   "id": "89c1b06e-dfab-4a81-8164-8ac7dad4177e",
   "metadata": {},
   "source": [
    "问题1.在使用双引号的字符串中我想要保留字符串中的双引号怎么办<br>\n",
    "答：借助`\\`转义字符来表示"
   ]
  },
  {
   "cell_type": "code",
   "execution_count": 2,
   "id": "7b9df2a1-61f0-4e99-8a96-0d46a6c4276a",
   "metadata": {},
   "outputs": [
    {
     "data": {
      "text/plain": [
       "'老师告诉我们：\"我们应该认真学习python\"'"
      ]
     },
     "execution_count": 2,
     "metadata": {},
     "output_type": "execute_result"
    }
   ],
   "source": [
    "# 实例\n",
    "str1 =  \"老师告诉我们：\\\"我们应该认真学习python\\\"\"\n",
    "str1\n",
    "# ps:单引号也可以借助转义字符来保留字符串中的单引号"
   ]
  },
  {
   "cell_type": "code",
   "execution_count": 3,
   "id": "393c024c-a8cb-4805-8f11-400e6c33a4d2",
   "metadata": {},
   "outputs": [
    {
     "data": {
      "text/plain": [
       "'我是一名18岁的大学生'"
      ]
     },
     "execution_count": 3,
     "metadata": {},
     "output_type": "execute_result"
    }
   ],
   "source": [
    "# 字符串的拼接\n",
    "# python可以通过 + 对字符串进行拼接 这里的+号就不是进行算术运算了\n",
    "str2 =\"balabala\" \n",
    "str1 + \" \" + str2\n",
    "# 一般情况下，字符串的拼接会将变量和非字符串类型的字面量进行拼接 当发生在这种情况的时候，我们需要将非字符串类型的字面量转换成字符串即可\n",
    "age = 18\n",
    "\"我是一名\" + str(age) + \"岁的大学生\""
   ]
  },
  {
   "cell_type": "code",
   "execution_count": 7,
   "id": "545fbd5e-478a-4ddd-b7e9-375cdf06dcba",
   "metadata": {},
   "outputs": [
    {
     "data": {
      "text/plain": [
       "'hello worldhello world'"
      ]
     },
     "execution_count": 7,
     "metadata": {},
     "output_type": "execute_result"
    }
   ],
   "source": [
    "# 多行表示输出字符串\n",
    "str1 = 'hello world'\\\n",
    "        'hello world'\n",
    "str1  # 没有换行操作 "
   ]
  },
  {
   "cell_type": "markdown",
   "id": "0d1180b0-ae52-40a5-b709-439e2f491dbd",
   "metadata": {},
   "source": [
    "## print语句\n",
    "\n",
    "print函数用于输出在控制台的内容\n",
    "\n",
    "print语句的格式\\\n",
    "print(*objects, sep=' ', end='\\n', file=sys.stdout, flush=False)\\\n",
    "objects -- 复数，表示可以一次输出多个对象。输出多个对象时，需要用 , 分隔。\\\n",
    "sep -- 用来间隔多个对象，默认值是一个空格。\\\n",
    "end -- 用来设定以什么结尾。默认值是换行符 \\n，我们可以换成其他字符串。\\\n",
    "file -- 要写入的文件对象。\\\n",
    "flush -- 输出是否被缓存通常决定于 file，但如果 flush 关键字参数为 True，流会被强制刷新。"
   ]
  },
  {
   "cell_type": "code",
   "execution_count": 8,
   "id": "a78a9cb2-6c37-4559-9db2-4d8b93f11023",
   "metadata": {},
   "outputs": [
    {
     "name": "stdout",
     "output_type": "stream",
     "text": [
      "12$3 4\n"
     ]
    }
   ],
   "source": [
    "print(1,2,sep=\"\",end=\"$\")\n",
    "print(3,4)"
   ]
  },
  {
   "cell_type": "markdown",
   "id": "43f2e713-7ccd-4fa5-ae09-267f759bd1ff",
   "metadata": {},
   "source": [
    "`sep`和`end`参数一定要用关键字传入参数"
   ]
  },
  {
   "cell_type": "markdown",
   "id": "8d000626-594c-4765-88c9-414e443c2edc",
   "metadata": {},
   "source": [
    "## input\n",
    "input()函数：\\\n",
    "功能：获取我们的输入内容\\\n",
    "输入（参数）：展示在控制台中的内容\\\n",
    "输出（返回值）：我们输入的内容 注意：返回值默认是字符串类型的\\\n",
    "注意：由于input()的返回值（控制台获取的内容）是字符串，但是有时候我们想用其他数据类型的，就需要借助我们上面上述的数据类型之间的转换\n",
    "int() float()等等"
   ]
  },
  {
   "cell_type": "code",
   "execution_count": 11,
   "id": "5b1da1fd-3865-4571-be5e-653cc4b3947b",
   "metadata": {},
   "outputs": [
    {
     "name": "stdin",
     "output_type": "stream",
     "text": [
      "请输入你的三门的专业课成绩 100,100,100\n"
     ]
    },
    {
     "name": "stdout",
     "output_type": "stream",
     "text": [
      "你的平均成绩是100.0\n"
     ]
    }
   ],
   "source": [
    "# 在控制台输入你的三门专业课的成绩，计算平均成绩，并输出\n",
    "\n",
    "\n",
    "# sorce_java = int(input(\"请输入你的java成绩\"))\n",
    "# sorce_js = int(input(\"请输入你的js成绩\"))\n",
    "# sorce_mysql = int(input(\"请输入你的mysql成绩\"))\n",
    "# result = (sorce_java + sorce_js + sorce_mysql) / 3\n",
    "# print(f\"你的平均成绩是{result}\")\n",
    "\n",
    "\n",
    "# 以下是正常使用，但是有些东西没有讲过，先尝试给一个变量赋值为输入的值\n",
    "sorce_java,sorce_js,sorce_mysql = input(\"请输入你的三门的专业课成绩\").split(\",\")\n",
    "result = (int(sorce_java) + int(sorce_js) + int(sorce_mysql)) / 3\n",
    "print(f\"你的平均成绩是{result}\")"
   ]
  },
  {
   "cell_type": "code",
   "execution_count": null,
   "id": "11afdc4a-23f8-409d-8708-5f9d9f13b5f1",
   "metadata": {},
   "outputs": [],
   "source": []
  }
 ],
 "metadata": {
  "kernelspec": {
   "display_name": "Python 3 (ipykernel)",
   "language": "python",
   "name": "python3"
  },
  "language_info": {
   "codemirror_mode": {
    "name": "ipython",
    "version": 3
   },
   "file_extension": ".py",
   "mimetype": "text/x-python",
   "name": "python",
   "nbconvert_exporter": "python",
   "pygments_lexer": "ipython3",
   "version": "3.10.15"
  }
 },
 "nbformat": 4,
 "nbformat_minor": 5
}
