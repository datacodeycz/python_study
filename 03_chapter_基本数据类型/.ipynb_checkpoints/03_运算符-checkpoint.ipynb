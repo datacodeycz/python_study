{
 "cells": [
  {
   "cell_type": "markdown",
   "id": "69354bb2-7568-494d-ae60-174b0d1461df",
   "metadata": {},
   "source": [
    "# 运算符\n",
    "在 Python 中，运算符（Operator）是用于执行操作的符号或关键字。运算符作用于操作数（Operands），可以实现各种运算和操作。"
   ]
  },
  {
   "cell_type": "markdown",
   "id": "f52bd54a-790e-453e-a98b-13438e61cfe0",
   "metadata": {},
   "source": [
    "## 算术运算符\n",
    "常见的算数运算符：\\\n",
    "加（+）:两个对象相加；\\\n",
    "减（-）：两个对象相减；\\\n",
    "乘（*）：两个对象相乘；\\\n",
    "除（/):（两个对象相除，且被除数不能为0）；\\\n",
    "取整除（//）：返回商的整数部分；\\\n",
    "取余（%）：返回除法的余数部分；\\\n",
    "指数（\\**）：幂运算; \n",
    "\n",
    "ps:\n",
    "1. 算数运算一定是在两个对象都是数字类型的时候才可以正常运算\n",
    "2. 加法可以做字符串的拼接，那里的+不表示算数运算"
   ]
  },
  {
   "cell_type": "code",
   "execution_count": 1,
   "id": "2736e803-8d6f-4c62-8203-9d51d7e1ab6f",
   "metadata": {},
   "outputs": [
    {
     "name": "stdout",
     "output_type": "stream",
     "text": [
      "30 -10 200 2.0\n"
     ]
    },
    {
     "data": {
      "text/plain": [
       "8"
      ]
     },
     "execution_count": 1,
     "metadata": {},
     "output_type": "execute_result"
    }
   ],
   "source": [
    "# 测试\n",
    "a = 10\n",
    "b = 20\n",
    "c = 12\n",
    "print(a + b, a - b, a * b, b / a)\n",
    "b // c\n",
    "b % c\n",
    "2 ** 3"
   ]
  },
  {
   "cell_type": "code",
   "execution_count": 2,
   "id": "2c23141a-31c1-4fba-b29b-ff35d0815a2d",
   "metadata": {},
   "outputs": [
    {
     "data": {
      "text/plain": [
       "(3.0, 1.0, 2.0, 2.0, 2.0, 0.0)"
      ]
     },
     "execution_count": 2,
     "metadata": {},
     "output_type": "execute_result"
    }
   ],
   "source": [
    "a = 2.0\n",
    "b = 1\n",
    "a + b, a - b, a * b, a / b, a // b, a % b"
   ]
  },
  {
   "cell_type": "markdown",
   "id": "c734eb90-1949-40ab-b24d-2d4bbaf583d4",
   "metadata": {},
   "source": [
    "注意：\n",
    "1. 有浮点数参加的运算，结果都是浮点数\n",
    "2. 除法的结果一定的浮点数（不管是否整除）"
   ]
  },
  {
   "cell_type": "markdown",
   "id": "24d03b49-2792-421a-b6b8-f647dc5cc405",
   "metadata": {},
   "source": [
    "## 赋值运算符\n",
    "`=` 符号：表示把 `=`左右的值赋值给左边的变量"
   ]
  },
  {
   "cell_type": "code",
   "execution_count": 3,
   "id": "d664b46e-e08a-4192-a6cc-2821bfa0e197",
   "metadata": {},
   "outputs": [
    {
     "data": {
      "text/plain": [
       "40"
      ]
     },
     "execution_count": 3,
     "metadata": {},
     "output_type": "execute_result"
    }
   ],
   "source": [
    "a =20\n",
    "b = 40\n",
    "a = b\n",
    "a"
   ]
  },
  {
   "cell_type": "markdown",
   "id": "d4e30b78-2a96-4a99-8ab2-8dec4e68d6c4",
   "metadata": {},
   "source": [
    "在python中可以实现多变量进行赋值"
   ]
  },
  {
   "cell_type": "code",
   "execution_count": 4,
   "id": "ea363a17-9c3d-45b2-b5cf-cdad8e92cdf0",
   "metadata": {},
   "outputs": [
    {
     "data": {
      "text/plain": [
       "(10, 'hello', 10.2, True)"
      ]
     },
     "execution_count": 4,
     "metadata": {},
     "output_type": "execute_result"
    }
   ],
   "source": [
    "a,b,c,d = 10, 'hello', 10.2, True\n",
    "a,b,c,d"
   ]
  },
  {
   "cell_type": "markdown",
   "id": "84ebfc57-d96a-41bf-978b-0a428c25d31d",
   "metadata": {},
   "source": [
    "## 复合赋值运算符\n",
    "`+=`: 实例 a += b ===> a = a + b\\\n",
    "`-=`: 实例 a -= b ===> a = a - b\\\n",
    "`*=`: 实例 a * = b ====> a = a * b\\\n",
    "`/=`: 实例 a /= b ====> a = a / b\\\n",
    "`%=`: 实例 a %= b ====> a = % b\\\n",
    "`**=`: 实例 a \\**= b ===> a = a ** b\n",
    "\n",
    "ps:python中没有a++和a--"
   ]
  },
  {
   "cell_type": "code",
   "execution_count": 5,
   "id": "17a2c254-6a58-49e4-8c38-a1b5ff27a2a4",
   "metadata": {},
   "outputs": [
    {
     "data": {
      "text/plain": [
       "30"
      ]
     },
     "execution_count": 5,
     "metadata": {},
     "output_type": "execute_result"
    }
   ],
   "source": [
    "a = 10\n",
    "b = 20\n",
    "a+= b\n",
    "a"
   ]
  },
  {
   "cell_type": "code",
   "execution_count": 6,
   "id": "c81d8b39-c044-4e45-a7e4-b64745f5867d",
   "metadata": {},
   "outputs": [
    {
     "data": {
      "text/plain": [
       "-10"
      ]
     },
     "execution_count": 6,
     "metadata": {},
     "output_type": "execute_result"
    }
   ],
   "source": [
    "a = 10\n",
    "b = 20\n",
    "a-=b\n",
    "a"
   ]
  },
  {
   "cell_type": "code",
   "execution_count": 7,
   "id": "edf669ea-d9f0-46fd-bc1c-6285ed72ddd8",
   "metadata": {},
   "outputs": [
    {
     "data": {
      "text/plain": [
       "200"
      ]
     },
     "execution_count": 7,
     "metadata": {},
     "output_type": "execute_result"
    }
   ],
   "source": [
    "a = 10\n",
    "b = 20\n",
    "a*= b\n",
    "a"
   ]
  },
  {
   "cell_type": "code",
   "execution_count": 8,
   "id": "45feb6e0-1d9c-4f14-bf67-58178caa62bd",
   "metadata": {},
   "outputs": [
    {
     "data": {
      "text/plain": [
       "0.5"
      ]
     },
     "execution_count": 8,
     "metadata": {},
     "output_type": "execute_result"
    }
   ],
   "source": [
    "a = 10\n",
    "b = 20\n",
    "a /= b\n",
    "a"
   ]
  },
  {
   "cell_type": "code",
   "execution_count": 9,
   "id": "b7714b0f-d3f3-4083-995f-de0ae326a791",
   "metadata": {},
   "outputs": [
    {
     "data": {
      "text/plain": [
       "10"
      ]
     },
     "execution_count": 9,
     "metadata": {},
     "output_type": "execute_result"
    }
   ],
   "source": [
    "a = 10\n",
    "b = 20\n",
    "a %=b\n",
    "a"
   ]
  },
  {
   "cell_type": "code",
   "execution_count": 10,
   "id": "05fe8bf0-d257-46ba-8e71-2637bf9fa474",
   "metadata": {},
   "outputs": [
    {
     "data": {
      "text/plain": [
       "100000000000000000000"
      ]
     },
     "execution_count": 10,
     "metadata": {},
     "output_type": "execute_result"
    }
   ],
   "source": [
    "a **=b\n",
    "a"
   ]
  },
  {
   "cell_type": "markdown",
   "id": "a0b8fed0-b290-4f57-83de-e2e36162c5c0",
   "metadata": {},
   "source": [
    "## 比较运算符\n",
    "比较运算符，主要是用于变量与变量，或是变量与字面量进行比较，比较的结果为boolean类型（True-真，False-假）<br>\n",
    "`==`：比较变量（字面量）之间是否相等\\\n",
    "`>`：左变量（字面量）是否大于右变量（字面量）\\\n",
    "`<`：左变量（字面量）是否小于右变量（字面量）\\\n",
    "`>=`：左变量（字面量）是否大于等于右变量（字面量）\\\n",
    "`<=`：左变量（字面量）是否小于等于右变量（字面量）\\\n",
    "`!=`：比较左右变量（字面量）是否不相等"
   ]
  },
  {
   "cell_type": "code",
   "execution_count": 11,
   "id": "bb4d1351-25a8-408e-b3b6-ab944b280ebe",
   "metadata": {},
   "outputs": [
    {
     "data": {
      "text/plain": [
       "(False, True, True)"
      ]
     },
     "execution_count": 11,
     "metadata": {},
     "output_type": "execute_result"
    }
   ],
   "source": [
    "a = 10\n",
    "b = 20\n",
    "a > b, a < b, a != b"
   ]
  },
  {
   "cell_type": "markdown",
   "id": "98ac0449-cb15-4b54-b1e4-eb945ef79b10",
   "metadata": {},
   "source": [
    "## 逻辑运算符\n",
    "\n",
    "Python的逻辑运算符包括and（与）、or（或）、not（非）3种，与C/C++、Java等语言不同的是，Python中逻辑运算的返回值不一定是布尔值。\n",
    "\n",
    "| **运算符** | **含** **义** | **举** **例** | **说** **明**                                          |\n",
    "| ---------- | ------------- | ------------- | ------------------------------------------------------ |\n",
    "| **and**    | 与            | x and y       | 如果x为False，无需计算y的值，返回值为x；否则返回y的值  |\n",
    "| **or**     | 或            | x or y        | 如果x为True，无需计算y的值，返回值为x；否则返回y的值   |\n",
    "| **not**    | 非            | not x         | 如果x为True，返回值为False；如果x为False，返回值为True |\n",
    "\n",
    "\n",
    "ps:在Python中，当参与逻辑运算的数值为0时，则把它看作逻辑“假”，而将所有非0的数值都看作逻辑“真”。"
   ]
  },
  {
   "cell_type": "code",
   "execution_count": 12,
   "id": "1d4803ee-6a45-422b-9bd7-405f22c15387",
   "metadata": {},
   "outputs": [
    {
     "name": "stdout",
     "output_type": "stream",
     "text": [
      "True\n",
      "False\n",
      "False\n"
     ]
    }
   ],
   "source": [
    "print(True and True)\n",
    "print(True and False)\n",
    "print(False and False)"
   ]
  },
  {
   "cell_type": "code",
   "execution_count": 13,
   "id": "8c7b44bf-d462-4857-bdbb-a19a266f6a13",
   "metadata": {},
   "outputs": [
    {
     "name": "stdout",
     "output_type": "stream",
     "text": [
      "True\n",
      "True\n",
      "True\n"
     ]
    }
   ],
   "source": [
    "print(True or True)\n",
    "print(True or True)\n",
    "print(True or True)"
   ]
  },
  {
   "cell_type": "code",
   "execution_count": 14,
   "id": "4de551bb-2f1a-4696-ae19-b83c4071ff67",
   "metadata": {},
   "outputs": [
    {
     "name": "stdout",
     "output_type": "stream",
     "text": [
      "False\n"
     ]
    }
   ],
   "source": [
    "print(not True)"
   ]
  },
  {
   "cell_type": "markdown",
   "id": "383cdf36-023c-4fb0-a13e-98bf841d4c66",
   "metadata": {},
   "source": [
    "上述的程序输出都是跟其它语言是一样的，当逻辑运算符的左右都是bool类型时，返回的结果也是布尔类型，下面的程序我们来尝试使用非bool类型的字面量参加运算，结果看一下是否仍然是布尔类型"
   ]
  },
  {
   "cell_type": "code",
   "execution_count": 15,
   "id": "4f6ff20d-44fe-4d9b-b0e1-81325e83d874",
   "metadata": {},
   "outputs": [
    {
     "name": "stdout",
     "output_type": "stream",
     "text": [
      "1\n",
      "0\n"
     ]
    }
   ],
   "source": [
    "# and的使用\n",
    "# 当第一个为True时，直接输出第二个的值\n",
    "print(2 and 1)  # 1\n",
    "\n",
    "# 当第一个为False时，直接输出第一个的值\n",
    "print(0 and 1)  # 0 \n"
   ]
  },
  {
   "cell_type": "markdown",
   "id": "2c89099a-7156-465c-8105-c22da6af7582",
   "metadata": {},
   "source": [
    "注意：在python中，非0的数都表示True，只有0表示False"
   ]
  },
  {
   "cell_type": "code",
   "execution_count": 16,
   "id": "700e1bec-d282-4677-917e-99648ef75ec6",
   "metadata": {},
   "outputs": [
    {
     "name": "stdout",
     "output_type": "stream",
     "text": [
      "1\n",
      "2\n"
     ]
    }
   ],
   "source": [
    "# or的使用\n",
    "# 当第一个为False，直接输出第二个的值\n",
    "print(0 or 1)  # 1\n",
    "\n",
    "# 当第一个为True，直接输出第一个的值\n",
    "print(2 or 1)  # 2"
   ]
  },
  {
   "cell_type": "markdown",
   "id": "1daeedab-bda3-4de6-a8e4-83f47c769bc9",
   "metadata": {},
   "source": [
    "## 成员运算符\n",
    "\n",
    "成员运算符用于判断一个元素是否在某个序列中，如字符串、列表、元组等。 在这里我们先用字符串举例，后续讲到数据容器会再提到。\n",
    "\n",
    "| **运算符** | **举** **例** | **说** **明**                           |\n",
    "| ---------- | ------------- | --------------------------------------- |\n",
    "| **in**     | x in y        | 在y中找到x的值返回True，否则返回False   |\n",
    "| **not in** | x not in y    | 在y中未找到x的值返回True，否则返回False |"
   ]
  },
  {
   "cell_type": "code",
   "execution_count": 17,
   "id": "c2d92ce5-25b7-417f-b165-36dbedb12309",
   "metadata": {},
   "outputs": [
    {
     "name": "stdout",
     "output_type": "stream",
     "text": [
      "True\n",
      "False\n"
     ]
    }
   ],
   "source": [
    "a = 1\n",
    "b = 2\n",
    "list_test = [1, 2, 3, 4, 5]\n",
    "print(a in list_test)\n",
    "print(b not in list_test)"
   ]
  },
  {
   "cell_type": "markdown",
   "id": "c42d855d-2baf-4cfa-8f5a-c554762e5b07",
   "metadata": {},
   "source": [
    "## 身份运算符\n",
    "身份运算符用来判断两个变量的引用对象是否只想同一个内存对象\n",
    "\n",
    "| **运算符** | **举** **例** | **说** **明**                                         |\n",
    "| ---------- | ------------- | ----------------------------------------------------- |\n",
    "| **is**     | x is y        | 如果x和y引用的是同一个对象则返回True，否则返回False   |\n",
    "| **is not** | x is not y    | 如果x和y引用的不是同一个对象则返回True，否则返回False |"
   ]
  },
  {
   "cell_type": "code",
   "execution_count": 18,
   "id": "620f2f2c-3606-45e5-aff0-0ca94264ee0f",
   "metadata": {},
   "outputs": [
    {
     "data": {
      "text/plain": [
       "False"
      ]
     },
     "execution_count": 18,
     "metadata": {},
     "output_type": "execute_result"
    }
   ],
   "source": [
    "a = 10\n",
    "b = 20\n",
    "a is b"
   ]
  },
  {
   "cell_type": "code",
   "execution_count": 19,
   "id": "8540a992-88cb-41dd-bf1b-611f3dfce7ee",
   "metadata": {},
   "outputs": [
    {
     "data": {
      "text/plain": [
       "True"
      ]
     },
     "execution_count": 19,
     "metadata": {},
     "output_type": "execute_result"
    }
   ],
   "source": [
    "a is not b"
   ]
  },
  {
   "cell_type": "code",
   "execution_count": 20,
   "id": "b8018a8e-b20a-4a4c-a069-56b39e9a2838",
   "metadata": {},
   "outputs": [
    {
     "data": {
      "text/plain": [
       "True"
      ]
     },
     "execution_count": 20,
     "metadata": {},
     "output_type": "execute_result"
    }
   ],
   "source": [
    "b = 10\n",
    "a is b"
   ]
  },
  {
   "cell_type": "markdown",
   "id": "3933c141-3a41-453d-9f67-960a532a64ef",
   "metadata": {},
   "source": [
    "## 位运算符\n",
    "位运算是指进行二进制位的运算\n",
    "\n",
    "| **运算符** | **名** **称** | **说** **明**                                                |\n",
    "| ---------- | ------------- | ------------------------------------------------------------ |\n",
    "| **&**      | 按位与        | 只有对应的两个二进制位均为1时，结果才为1，否则为0            |\n",
    "| **\\|**     | 按位或        | 只要对应的两个二进制位有一个为1时，结果就为1                 |\n",
    "| **^**      | 按位异或      | 对应的两个二进制位不同时，结果为1，否则为0                   |\n",
    "| **~**      | 取反          | 对每个二进制位取反                                           |\n",
    "| **<<**     | 左移          | 左操作数的二进制位全部左移，由右操作数决定移动的位数，移出位删掉，移进的位补零 |\n",
    "| **>>**     | 右移          | 左操作数的二进制位全部右移，由右操作数决定移动的位数，移出位删掉，移进的位补零 |\n",
    "\n",
    "ps:在计算机中，我们一般使用补码的形式进行存储，所以在计算时，我们要转换为补码"
   ]
  },
  {
   "cell_type": "code",
   "execution_count": 21,
   "id": "cc691198-21e9-46ee-a628-574df39871f1",
   "metadata": {},
   "outputs": [
    {
     "data": {
      "text/plain": [
       "10"
      ]
     },
     "execution_count": 21,
     "metadata": {},
     "output_type": "execute_result"
    }
   ],
   "source": [
    "a = 10  # 1010\n",
    "b = 14  # 1110\n",
    "a & b"
   ]
  },
  {
   "cell_type": "code",
   "execution_count": 22,
   "id": "d94303c4-4c8f-4fdd-a4ce-614eabfef1db",
   "metadata": {},
   "outputs": [
    {
     "data": {
      "text/plain": [
       "-14"
      ]
     },
     "execution_count": 22,
     "metadata": {},
     "output_type": "execute_result"
    }
   ],
   "source": [
    "a = -10  # 1,0110\n",
    "b = -14  # 1,0010\n",
    "a & b  # 1,0010 ---> 1,1110 = -14"
   ]
  },
  {
   "cell_type": "markdown",
   "id": "47e0fb18-ce6b-4a60-8190-cccb0cd4928d",
   "metadata": {},
   "source": [
    "## 运算符优先级\n",
    "\n",
    "| **优先级顺序** | **运算符**               | **说** **明**            |\n",
    "| -------------- | ------------------------ | ------------------------ |\n",
    "| **1**          | **                       | 指数（次幂）运算         |\n",
    "| **2**          | ~ + -                    | 取反、正号运算和负号运算 |\n",
    "| **3**          | * / % //                 | 乘，除，取模和取整除     |\n",
    "| **4**          | + -                      | 加法、减法               |\n",
    "| **5**          | >> <<                    | 右移，左移位运算符       |\n",
    "| **6**          | &                        | 按位与                   |\n",
    "| **7**          | ^ \\|                     | 按位异或和按位或         |\n",
    "| **8**          | <= < > >=                | 比较运算符               |\n",
    "| **9**          | == !=                    | 等于和不等于运算符       |\n",
    "| **10**         | = %= /= //= -= += *= **= | 赋值运算符               |\n",
    "| **11**         | is is not                | 身份运算符               |\n",
    "| **12**         | in not in                | 成员运算符               |\n",
    "| **13**         | not or and               | 逻辑运算符               |\n",
    "\n",
    "这个不用死记硬背，我们在实际开发过程中，如果区分不了，可以使用小括号进行优先级的排序"
   ]
  },
  {
   "cell_type": "code",
   "execution_count": null,
   "id": "bd0428cc-6d98-4dc2-9dec-7108bc61ef33",
   "metadata": {},
   "outputs": [],
   "source": []
  }
 ],
 "metadata": {
  "kernelspec": {
   "display_name": "Python 3 (ipykernel)",
   "language": "python",
   "name": "python3"
  },
  "language_info": {
   "codemirror_mode": {
    "name": "ipython",
    "version": 3
   },
   "file_extension": ".py",
   "mimetype": "text/x-python",
   "name": "python",
   "nbconvert_exporter": "python",
   "pygments_lexer": "ipython3",
   "version": "3.10.15"
  }
 },
 "nbformat": 4,
 "nbformat_minor": 5
}
