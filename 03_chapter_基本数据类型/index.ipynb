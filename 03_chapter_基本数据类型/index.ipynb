{
 "cells": [
  {
   "cell_type": "markdown",
   "id": "7d4b2f38-2e7a-4ab8-9911-22959fe35b0e",
   "metadata": {},
   "source": [
    "# 变量和基本数据类型\n",
    "\n",
    "本章节的内容主要讲解以下内容：\n",
    "- 字面量和变量之间的关系。\n",
    "- 如何创建变量。\n",
    "- 变量的数据类型及其基本操作。\n",
    "- 常见运算符的使用。\n",
    "- Python 中的输入和输出操作。\n",
    "\n",
    "## 目录\n",
    "- [01_字面量和变量](01_字面量和变量.ipynb)  \n",
    "  介绍字面量与变量的概念，以及如何定义和使用变量。\n",
    "  \n",
    "- [02_基本数据类型](02_基本数据类型.ipynb)  \n",
    "  讲解 Python 的基本数据类型，如整数、浮点数、字符串、布尔值等。\n",
    "\n",
    "- [03_运算符](03_运算符.ipynb)  \n",
    "  说明各种运算符的功能，包括算术运算、逻辑运算和比较运算。\n",
    "\n",
    "- [04_输入与输出](04_输入与输出.ipynb)  \n",
    "  演示如何在程序中使用 `input` 和 `print` 实现交互操作。\n"
   ]
  },
  {
   "cell_type": "code",
   "execution_count": null,
   "id": "efbfc83a-4463-4f3c-9bb7-ba77fd42a995",
   "metadata": {},
   "outputs": [],
   "source": []
  }
 ],
 "metadata": {
  "kernelspec": {
   "display_name": "Python 3 (ipykernel)",
   "language": "python",
   "name": "python3"
  },
  "language_info": {
   "codemirror_mode": {
    "name": "ipython",
    "version": 3
   },
   "file_extension": ".py",
   "mimetype": "text/x-python",
   "name": "python",
   "nbconvert_exporter": "python",
   "pygments_lexer": "ipython3",
   "version": "3.10.15"
  }
 },
 "nbformat": 4,
 "nbformat_minor": 5
}
