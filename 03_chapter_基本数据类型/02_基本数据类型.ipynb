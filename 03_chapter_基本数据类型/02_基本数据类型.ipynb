{
 "cells": [
  {
   "cell_type": "markdown",
   "id": "46b78cf0-e979-4816-bd1c-ae1536d64cc8",
   "metadata": {},
   "source": [
    "# 基本数据类型\n",
    "常用的数据类型<br>\n",
    "数字（number）\n",
    "    **1.整数（int）\n",
    "    2.浮点数（float）**\n",
    "    3.复数（complex）\n",
    "    4.布尔（bool）<br>\n",
    "**字符串（str）：描述文本的一种数据类型，由字符组成<br>\n",
    "列表（list）：有序的可变序列<br>\n",
    "元组（tuple）：有序的不可变序列<br>\n",
    "集合（set）：无序不重复集合<br>\n",
    "字典（dict）：无序key—value集合**<br>"
   ]
  },
  {
   "cell_type": "code",
   "execution_count": 1,
   "id": "a533c600-d75d-455c-9579-ab6d84055725",
   "metadata": {},
   "outputs": [
    {
     "data": {
      "text/plain": [
       "(10, 3.14, 'String', (3+4j))"
      ]
     },
     "execution_count": 1,
     "metadata": {},
     "output_type": "execute_result"
    }
   ],
   "source": [
    "# 数据类型\n",
    "a = 10  # int\n",
    "b = 3.14 # float\n",
    "s = \"String\" #string\n",
    "complex1 = 3 + 4j\n",
    "a,b,s, complex1"
   ]
  },
  {
   "cell_type": "markdown",
   "id": "d63d9e86-8ce2-4a0e-90c9-8fbe60250f59",
   "metadata": {},
   "source": [
    "注意：数字类型有几种表现形式：二进制，八进制，十进制（默认），十六进制"
   ]
  },
  {
   "cell_type": "code",
   "execution_count": 2,
   "id": "56c69728-0019-4f44-a7b3-333b82e195d2",
   "metadata": {},
   "outputs": [
    {
     "data": {
      "text/plain": [
       "(5, 511, 2748)"
      ]
     },
     "execution_count": 2,
     "metadata": {},
     "output_type": "execute_result"
    }
   ],
   "source": [
    "# 创建一个二进制的整数\n",
    "int_bin = 0b101\n",
    "# 创建一个八进制的整数\n",
    "int_oct = 0o777\n",
    "# 创建一个十六进制的整数\n",
    "int_hex = 0xabc\n",
    "\n",
    "int_bin, int_oct, int_hex"
   ]
  },
  {
   "cell_type": "markdown",
   "id": "fea8d88b-aec7-49ad-9386-5b498dfe353f",
   "metadata": {},
   "source": [
    "注意：我们这里输出的是转换好的十进制，如果我们要输出二进制，八进制，十六进制要使用对应的方法"
   ]
  },
  {
   "cell_type": "code",
   "execution_count": 4,
   "id": "ab2cd382-574a-439b-b377-af80313b194a",
   "metadata": {},
   "outputs": [
    {
     "name": "stdout",
     "output_type": "stream",
     "text": [
      "0b1010\n",
      "0o12\n",
      "0xa\n"
     ]
    }
   ],
   "source": [
    "print(bin(10))  # bin函数转换为二进制\n",
    "print(oct(10))  # oct函数转换为八进制\n",
    "print(hex(10))  # hex函数转换为十六进制"
   ]
  },
  {
   "cell_type": "markdown",
   "id": "b389986b-ba21-48d2-8c0c-f4ac298de689",
   "metadata": {},
   "source": [
    "浮点数也有两种表现形式：小数的形式，科学计数法的形式"
   ]
  },
  {
   "cell_type": "code",
   "execution_count": 5,
   "id": "83f043a7-486e-4b33-bde0-6bbd1bff5a1b",
   "metadata": {},
   "outputs": [
    {
     "name": "stdout",
     "output_type": "stream",
     "text": [
      "1.82\n",
      "18200.0\n"
     ]
    }
   ],
   "source": [
    "# 创建一个科学计数法的形式\n",
    "float_test01 = 18.2e-1  # 等价于 18.2 * 10 ** -1\n",
    "float_test02 = 18.2e3  # 等价于 18.2 * 10 ** 3\n",
    "print(float_test01)  # 输出会给我们转换为小数的形式\n",
    "print(float_test02)  # 输出会给我们转换为小数的形式"
   ]
  },
  {
   "cell_type": "markdown",
   "id": "d598fd5d-db41-4937-aee4-0e9373d4894b",
   "metadata": {},
   "source": [
    "注意：有可能我们使用科学计数法的形式导致小数点后面不够输出，会直接输出科学计数法的格式"
   ]
  },
  {
   "cell_type": "markdown",
   "id": "8e93f583-ef2a-4c24-90fc-3f81be4a2fa3",
   "metadata": {},
   "source": [
    "## 变量和数据类型的关系\n",
    "变量是一个未知的，分配好空间的一个量\\\n",
    "数据类型是指字面量的数据类型，\\\n",
    "当我们使用赋值操作 ` a = 字面量`时，是将字面量存储的地址赋给了a，a执行这个变量的地址，a本身没有数据类型，当我们对a做一些非赋值的操作时，实际是操作的字面量"
   ]
  },
  {
   "cell_type": "code",
   "execution_count": 6,
   "id": "2a0358ea-5499-4232-b105-c8ab7a225ab9",
   "metadata": {},
   "outputs": [
    {
     "name": "stdout",
     "output_type": "stream",
     "text": [
      "<class 'int'>\n"
     ]
    }
   ],
   "source": [
    "# a # 变量\n",
    "10 # 字面量\n",
    "a = 10 # 将a实际上等于10的地址\n",
    "\n",
    "# type()函数，查看变量的数据类型--->实际上是查看a存储地址的那个字面量的数据类型，这里以后我们都统称为变量的数据类型\n",
    "print(type(a))"
   ]
  },
  {
   "cell_type": "markdown",
   "id": "63a33508-dfef-4910-9b10-fdf73389259c",
   "metadata": {},
   "source": [
    "## 数据类型转换\n",
    "\n",
    "在python中，数据类型的转换，python给我们提供了对应的函数转换为对应的数据类型，该函数的名字为数据类型对应的英文\\\n",
    "例如\n",
    "\n",
    "    要转换为int类型 使用int函数\n",
    "    要转换为float类型 使用float函数\n",
    "    要转换为bool类型 使用bool函数"
   ]
  },
  {
   "cell_type": "code",
   "execution_count": 7,
   "id": "0caab263-813c-427e-b66d-5641586b3f15",
   "metadata": {},
   "outputs": [
    {
     "name": "stdout",
     "output_type": "stream",
     "text": [
      "1020\n",
      "<class 'int'>\n",
      "<class 'int'>\n",
      "30\n",
      "<class 'int'>\n",
      "<class 'str'>\n"
     ]
    }
   ],
   "source": [
    "\n",
    "# 使用的函数 int\n",
    "a = \"10\"\n",
    "b = \"20\"\n",
    "c = \"非数字\"\n",
    "# 需求：将a与b进行算数加法运算\n",
    "result = a + b\n",
    "print(result)  #进行了字符串的拼接，将10和20拼接起来了\n",
    "# int()\n",
    "'''\n",
    "功能：将传进来的值转换成整数\n",
    "输入：要转换的变量\n",
    "输出：转换为整数的结果\n",
    "'''\n",
    "a_int = int(a)\n",
    "print(type(a_int))\n",
    "b_int = int(b)\n",
    "print(type(b_int))\n",
    "result = int(a) + int(b) # 实现了a 与b的算术加法运算\n",
    "print(result)\n",
    "print(type(int(a)))\n",
    "print(type(a))\n",
    "\n",
    "# 当变量中存储的是非数字，那么是无法转换的，并且会报错\n",
    "# print(int(c))"
   ]
  },
  {
   "cell_type": "code",
   "execution_count": 9,
   "id": "f2359ddd-675c-4ce9-a1be-414d4c998421",
   "metadata": {},
   "outputs": [
    {
     "name": "stdout",
     "output_type": "stream",
     "text": [
      "100分\n",
      "<class 'str'>\n"
     ]
    }
   ],
   "source": [
    "# 使用的函数 str()\n",
    "'''\n",
    "str()\n",
    "功能：将传进来的值转换成文本\n",
    "输入：要转换的变量或字面量\n",
    "输出：转换为文本的结果\n",
    "\n",
    "你好 python3\n",
    "'''\n",
    "# 将a转换成字符串，并且实现a 与 b的字符串的拼接\n",
    "a = 100\n",
    "b = \"分\"\n",
    "print(str(a) + \"分\")\n",
    "print(type(str(a)))"
   ]
  },
  {
   "cell_type": "code",
   "execution_count": 10,
   "id": "cfb9a46b-c4fa-45bd-9421-43476eb30720",
   "metadata": {},
   "outputs": [
    {
     "data": {
      "text/plain": [
       "3.0"
      ]
     },
     "execution_count": 10,
     "metadata": {},
     "output_type": "execute_result"
    }
   ],
   "source": [
    "# 使用函数 float()\n",
    "a = 3\n",
    "b = 4.98\n",
    "float(a) # 当int类型转换成float类型时，直接将小数部分去掉，不会进行四舍五入"
   ]
  },
  {
   "cell_type": "code",
   "execution_count": 11,
   "id": "d5284e30-b3db-419e-b46f-10bdcebcb5ff",
   "metadata": {},
   "outputs": [
    {
     "name": "stdout",
     "output_type": "stream",
     "text": [
      "(10+0j)\n",
      "(10.2+0j)\n"
     ]
    }
   ],
   "source": [
    "# 实数转换为复数\n",
    "\n",
    "int_test = 10\n",
    "print(complex(int_test))\n",
    "\n",
    "float_test = 10.2\n",
    "print(complex(float_test))"
   ]
  },
  {
   "cell_type": "code",
   "execution_count": 12,
   "id": "bb9567b2-c89b-4d31-ba59-83b968338ca7",
   "metadata": {},
   "outputs": [],
   "source": [
    "# 复数转换为实数(会报错，不能转)\n",
    "complex_test = 10 + 2j\n",
    "# print(int(complex_test))  # 会报错"
   ]
  },
  {
   "cell_type": "code",
   "execution_count": 13,
   "id": "aead980a-593e-4cd6-9341-acd07385ef01",
   "metadata": {},
   "outputs": [
    {
     "name": "stdout",
     "output_type": "stream",
     "text": [
      "10\n",
      "<class 'str'>\n"
     ]
    }
   ],
   "source": [
    "# 其它数据类型转换为字符串\n",
    "int_test = 10\n",
    "print(str(int_test))\n",
    "print(type(str(int_test)))"
   ]
  },
  {
   "cell_type": "code",
   "execution_count": 14,
   "id": "29d27ebe-2f84-4a11-b630-9fca48191734",
   "metadata": {},
   "outputs": [
    {
     "name": "stdout",
     "output_type": "stream",
     "text": [
      "10.2\n",
      "<class 'str'>\n"
     ]
    }
   ],
   "source": [
    "float_test = 10.2\n",
    "print(str(float_test))\n",
    "print(type(str(float_test)))"
   ]
  },
  {
   "cell_type": "code",
   "execution_count": 15,
   "id": "8096c79b-fd7a-4570-8a0d-cc2023900e37",
   "metadata": {},
   "outputs": [
    {
     "name": "stdout",
     "output_type": "stream",
     "text": [
      "(1+2j)\n",
      "<class 'str'>\n"
     ]
    }
   ],
   "source": [
    "# 复数转换为字符串\n",
    "complex_1 = 1 + 2j\n",
    "print(str(complex_1))\n",
    "print(type(str(complex_1)))"
   ]
  },
  {
   "cell_type": "markdown",
   "id": "f996edef-84dc-4525-ad6a-f5ea9dc6d62d",
   "metadata": {},
   "source": [
    "注意：这里复数的内容是(1+2j),是包括小括号的，转换为字符串，小括号也是在里面的"
   ]
  },
  {
   "cell_type": "code",
   "execution_count": 16,
   "id": "8936c9d8-dbdc-4d6a-bcd9-055d9583d008",
   "metadata": {},
   "outputs": [
    {
     "data": {
      "text/plain": [
       "'('"
      ]
     },
     "execution_count": 16,
     "metadata": {},
     "output_type": "execute_result"
    }
   ],
   "source": [
    "str(complex_1)[0]"
   ]
  },
  {
   "cell_type": "markdown",
   "id": "45e34395-e3a9-4e20-a11e-1eb770c1bca5",
   "metadata": {},
   "source": [
    "注意：其它的数据类型转换为字符串时，原始值不变，只是将数据类型转换成了字符串类型的"
   ]
  },
  {
   "cell_type": "code",
   "execution_count": 17,
   "id": "8e1ce789-385d-4e7a-9f8d-17346e5d4885",
   "metadata": {},
   "outputs": [
    {
     "name": "stdout",
     "output_type": "stream",
     "text": [
      "10\n"
     ]
    }
   ],
   "source": [
    "# 字符串转换为其它数据类型\n",
    "\n",
    "# 字符串转换为int类型\n",
    "str_test = '10'\n",
    "print(int(str_test))"
   ]
  },
  {
   "cell_type": "code",
   "execution_count": 18,
   "id": "93fc322e-fa8f-4989-a26c-bfdb2b21c292",
   "metadata": {},
   "outputs": [],
   "source": [
    "str_int_bin = '0b111'\n",
    "# print(int(str_int_bin))  # 这里会报错，我们识别不了字符串中的其它进制的表现形式"
   ]
  },
  {
   "cell_type": "code",
   "execution_count": 19,
   "id": "cd839de0-ae19-4c11-b05e-bcc46bad1bd7",
   "metadata": {},
   "outputs": [
    {
     "name": "stdout",
     "output_type": "stream",
     "text": [
      "12.0\n"
     ]
    }
   ],
   "source": [
    "# 字符串转换为float类型\n",
    "str_float = '12.0'\n",
    "print(float(str_float))"
   ]
  },
  {
   "cell_type": "code",
   "execution_count": 20,
   "id": "b9a10c96-006f-4fc4-b375-a2e624d78df3",
   "metadata": {},
   "outputs": [
    {
     "name": "stdout",
     "output_type": "stream",
     "text": [
      "1.2\n"
     ]
    }
   ],
   "source": [
    "str_float_01 = '12e-1'\n",
    "print(float(str_float_01))"
   ]
  },
  {
   "cell_type": "markdown",
   "id": "cb343d84-c56d-4518-bc4e-1298980510c9",
   "metadata": {},
   "source": [
    "在浮点数中，可以识别到浮点数的其它表现形式"
   ]
  },
  {
   "cell_type": "code",
   "execution_count": 21,
   "id": "26691e53-c3e5-4f93-9f96-79f44dacecf4",
   "metadata": {},
   "outputs": [
    {
     "name": "stdout",
     "output_type": "stream",
     "text": [
      "(1+2j)\n"
     ]
    }
   ],
   "source": [
    "# 字符串转换为复数\n",
    "str_complex = '1+2j'\n",
    "print(complex(str_complex))"
   ]
  },
  {
   "cell_type": "code",
   "execution_count": 22,
   "id": "c58893ea-917a-49e7-befb-5d62c412731b",
   "metadata": {},
   "outputs": [
    {
     "name": "stdout",
     "output_type": "stream",
     "text": [
      "(1+2j)\n"
     ]
    }
   ],
   "source": [
    "# 当字符串中加上小括号 也是可以的\n",
    "str_complex = '(1+2j)'\n",
    "print(complex(str_complex))"
   ]
  },
  {
   "cell_type": "code",
   "execution_count": 23,
   "id": "3bcc275b-8a40-47e0-a448-ff8eca846f17",
   "metadata": {},
   "outputs": [
    {
     "name": "stdout",
     "output_type": "stream",
     "text": [
      "True\n"
     ]
    }
   ],
   "source": [
    "# 字符串转换为布尔类型\n",
    "str_bool = 'True'\n",
    "print(bool(str_bool))"
   ]
  },
  {
   "cell_type": "code",
   "execution_count": 24,
   "id": "efed0d25-c7ce-41e9-9102-bea5001cdd95",
   "metadata": {},
   "outputs": [
    {
     "name": "stdout",
     "output_type": "stream",
     "text": [
      "True\n"
     ]
    }
   ],
   "source": [
    "# 字符串中是小写的布尔类型\n",
    "str_bool01 = 'true'\n",
    "print(bool(str_bool01))  # bool函数能识别到字符串中的小写"
   ]
  },
  {
   "cell_type": "markdown",
   "id": "2a35fb90-facd-441e-a777-f5a979193c82",
   "metadata": {},
   "source": [
    "**总结**：\n",
    "1. 字符串转换为其它数据类型的时候，字符串中的实数的其它进制的表现形式无法识别\n",
    "2. float函数可以识别字符串中的科学计数法的形式\n",
    "3. 字符转换为复数时，有()没()都可以\n",
    "4. bool函数能识别到字符串中小写的True和False"
   ]
  },
  {
   "cell_type": "code",
   "execution_count": null,
   "id": "ac0de1a0-dc0e-46b3-b053-412f05670887",
   "metadata": {},
   "outputs": [],
   "source": []
  }
 ],
 "metadata": {
  "kernelspec": {
   "display_name": "Python 3 (ipykernel)",
   "language": "python",
   "name": "python3"
  },
  "language_info": {
   "codemirror_mode": {
    "name": "ipython",
    "version": 3
   },
   "file_extension": ".py",
   "mimetype": "text/x-python",
   "name": "python",
   "nbconvert_exporter": "python",
   "pygments_lexer": "ipython3",
   "version": "3.10.15"
  }
 },
 "nbformat": 4,
 "nbformat_minor": 5
}
