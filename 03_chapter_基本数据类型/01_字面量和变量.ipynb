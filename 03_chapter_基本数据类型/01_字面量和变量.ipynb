{
 "cells": [
  {
   "cell_type": "markdown",
   "id": "a9ba1cc0",
   "metadata": {
    "slideshow": {
     "slide_type": "slide"
    },
    "tags": []
   },
   "source": [
    "# 字面量\n",
    "字面量的概念就是存储的是什么"
   ]
  },
  {
   "cell_type": "code",
   "execution_count": 1,
   "id": "dd1ecddf",
   "metadata": {
    "slideshow": {
     "slide_type": ""
    },
    "tags": []
   },
   "outputs": [
    {
     "data": {
      "text/plain": [
       "300"
      ]
     },
     "execution_count": 1,
     "metadata": {},
     "output_type": "execute_result"
    }
   ],
   "source": [
    "# 例如\n",
    "300"
   ]
  },
  {
   "cell_type": "code",
   "execution_count": 2,
   "id": "f28064d4",
   "metadata": {},
   "outputs": [
    {
     "data": {
      "text/plain": [
       "100.0"
      ]
     },
     "execution_count": 2,
     "metadata": {},
     "output_type": "execute_result"
    }
   ],
   "source": [
    "100.0"
   ]
  },
  {
   "cell_type": "code",
   "execution_count": 3,
   "id": "423a2ad0",
   "metadata": {
    "slideshow": {
     "slide_type": ""
    },
    "tags": []
   },
   "outputs": [
    {
     "data": {
      "text/plain": [
       "'yuanchengzhi'"
      ]
     },
     "execution_count": 3,
     "metadata": {},
     "output_type": "execute_result"
    }
   ],
   "source": [
    "\"yuanchengzhi\""
   ]
  },
  {
   "cell_type": "markdown",
   "id": "3dd5a4f2",
   "metadata": {
    "slideshow": {
     "slide_type": "slide"
    },
    "tags": []
   },
   "source": [
    "python是一门解释性语言，所以没有编译的过程，边执行边解释，而java是一门编译型语言，写好的代码需要先编译，然后生成class文件，才可以运行，所以Java的性能比python的性能更好一点，我们可以通过之前学过的js来理解python，浏览器给我们提供了一个js的交互性功能，我们可以直接在浏览器中的控制台进行js代码的交互，通过python解释器也为我提供了交互的功能。"
   ]
  },
  {
   "cell_type": "markdown",
   "id": "5e81928e",
   "metadata": {
    "slideshow": {
     "slide_type": "slide"
    },
    "tags": []
   },
   "source": [
    "# 变量\n",
    "在python中的变量不需要声明，每个变量在使用前都必须赋值，变量赋值以后该变量才会被创建，并且在python中，变量就是变量，它没有类型，所谓的类型是指变量所指内存中的对象的类型。"
   ]
  },
  {
   "cell_type": "code",
   "execution_count": 1,
   "id": "9d0aa272",
   "metadata": {},
   "outputs": [
    {
     "data": {
      "text/plain": [
       "100"
      ]
     },
     "execution_count": 1,
     "metadata": {},
     "output_type": "execute_result"
    }
   ],
   "source": [
    "a = 100\n",
    "a"
   ]
  },
  {
   "cell_type": "code",
   "execution_count": 2,
   "id": "ada0da47",
   "metadata": {},
   "outputs": [],
   "source": [
    "a = \"hello world\""
   ]
  },
  {
   "cell_type": "code",
   "execution_count": 3,
   "id": "3e7d7e56",
   "metadata": {},
   "outputs": [
    {
     "data": {
      "text/plain": [
       "'hello world'"
      ]
     },
     "execution_count": 3,
     "metadata": {},
     "output_type": "execute_result"
    }
   ],
   "source": [
    "a"
   ]
  },
  {
   "cell_type": "code",
   "execution_count": 1,
   "id": "73fb2e1d",
   "metadata": {},
   "outputs": [
    {
     "name": "stdout",
     "output_type": "stream",
     "text": [
      "null\n"
     ]
    }
   ],
   "source": [
    "b = \"null\"\n",
    "print(b)"
   ]
  }
 ],
 "metadata": {
  "celltoolbar": "Slideshow",
  "kernelspec": {
   "display_name": "Python 3 (ipykernel)",
   "language": "python",
   "name": "python3"
  },
  "language_info": {
   "codemirror_mode": {
    "name": "ipython",
    "version": 3
   },
   "file_extension": ".py",
   "mimetype": "text/x-python",
   "name": "python",
   "nbconvert_exporter": "python",
   "pygments_lexer": "ipython3",
   "version": "3.10.15"
  },
  "toc": {
   "base_numbering": 1,
   "nav_menu": {},
   "number_sections": true,
   "sideBar": true,
   "skip_h1_title": false,
   "title_cell": "Table of Contents",
   "title_sidebar": "Contents",
   "toc_cell": false,
   "toc_position": {},
   "toc_section_display": true,
   "toc_window_display": false
  }
 },
 "nbformat": 4,
 "nbformat_minor": 5
}
