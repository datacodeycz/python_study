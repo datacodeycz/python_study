{
 "cells": [
  {
   "cell_type": "markdown",
   "id": "a2099f01-3270-4f4e-9f95-8fdc53aac149",
   "metadata": {},
   "source": [
    "# 异常处理\n",
    "\n",
    "在程序运行过程中，难免会遇到错误或异常。异常处理是 Python 提供的强大机制，用于捕获和处理程序中的错误，确保程序的稳定性。本章将带你学习如何使用异常处理机制，内容包括：\n",
    "1. **捕获异常**：学习如何使用 `try-except` 块捕获和处理运行时异常。\n",
    "2. **手动抛出异常**：了解如何通过 `raise` 手动抛出自定义异常，以便在特定场景中进行错误控制。\n",
    "\n",
    "## 目录\n",
    "- [捕获异常](01_捕获异常.ipynb)  \n",
    "  学习使用 `try-except` 块捕获异常，并通过 `else` 和 `finally` 进一步控制程序逻辑。\n",
    "\n",
    "- [手动抛出异常](02_手动抛出异常.ipynb)  \n",
    "  掌握使用 `raise` 关键字手动抛出异常，以及如何自定义异常类型以适应不同的开发场景。"
   ]
  },
  {
   "cell_type": "code",
   "execution_count": null,
   "id": "d84b30bc-34b7-4a2f-811d-83391d7c8a2c",
   "metadata": {},
   "outputs": [],
   "source": []
  }
 ],
 "metadata": {
  "kernelspec": {
   "display_name": "Python 3 (ipykernel)",
   "language": "python",
   "name": "python3"
  },
  "language_info": {
   "codemirror_mode": {
    "name": "ipython",
    "version": 3
   },
   "file_extension": ".py",
   "mimetype": "text/x-python",
   "name": "python",
   "nbconvert_exporter": "python",
   "pygments_lexer": "ipython3",
   "version": "3.10.15"
  }
 },
 "nbformat": 4,
 "nbformat_minor": 5
}
