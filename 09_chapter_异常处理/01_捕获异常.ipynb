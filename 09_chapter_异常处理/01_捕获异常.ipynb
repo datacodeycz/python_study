{
 "cells": [
  {
   "cell_type": "markdown",
   "id": "ce294478-d68e-4781-bd8e-8178834a8d56",
   "metadata": {},
   "source": [
    "# 异常处理\n",
    "\n",
    "异常处理是什么：在正式了解异常处理之前，首先我们需要了解一下什么是异常，异常就是我们的程序在运行过程中出现了错误。而异常处理就是对这一些导致我们程序出错的程序进行处理，这里的处理不是说把程序修改正常，而且合理的处理程序，有时候我们需要让计算机给我们抛出异常，举例说明：当我们取钱的时候，我们明明还没有取到钱，但是我们的账号就已经把钱扣走了，这就是异常，那这时候我们就需要计算机给我们抛出异常，然后我们针对这个异常进行处理，这个就是把钱恢复到取之前的状态。\n",
    "\n",
    "为什么要有异常处理：程序是很难有完美的程序，任何程序在运行过程中都有可能出错，这使得我们不得不去对可能出现的问题进行提前的准备和处理。\n",
    "\n",
    "怎么进行异常处理？<br>\n",
    "在进行异常处理之前，首先我们得捕获到异常，只能捕获到异常，我们才能对异常进行处理。而我们捕获异常不是说去修改，而是做好提前准备，当真的出现异常得时候，可以有后续手段"
   ]
  },
  {
   "cell_type": "markdown",
   "id": "8de227f2-641a-49a2-acc0-3b767741ad08",
   "metadata": {},
   "source": [
    "## 捕获常规异常\n",
    "基本语法格式：\n",
    "```\n",
    "try:\n",
    "    可能发生错误的代码\n",
    "except:\n",
    "    如果出现异常，执行的代码\n",
    "```"
   ]
  },
  {
   "cell_type": "code",
   "execution_count": 2,
   "id": "1d89a4d9-83f5-491a-8381-6ca38d8dabac",
   "metadata": {},
   "outputs": [
    {
     "name": "stdout",
     "output_type": "stream",
     "text": [
      "下标为0\n"
     ]
    }
   ],
   "source": [
    "try:\n",
    "    print(1 / 0)\n",
    "except:\n",
    "    print(\"下标为0\")"
   ]
  },
  {
   "cell_type": "markdown",
   "id": "b205a9c7-d182-4883-96a8-90396fd905bd",
   "metadata": {},
   "source": [
    "### 捕获指定的异常\n",
    "```\n",
    "try:\n",
    "    print(name)\n",
    "except NameError as e:\n",
    "    print('')\n",
    "```"
   ]
  },
  {
   "cell_type": "markdown",
   "id": "e341227d-8b6b-44fe-bb3e-d2fd656cb3ee",
   "metadata": {},
   "source": [
    "在捕获指定的异常之前，我们需要了解我们常见的有哪些异常"
   ]
  },
  {
   "cell_type": "markdown",
   "id": "6bdcac8e-a062-4915-bc20-13cfe533ed06",
   "metadata": {},
   "source": [
    "我们都通过Exception去延申异常\n",
    "    \n",
    "Exception类型\n",
    "\n",
    "    NameError: 变量名异常\n",
    "    ZeroDivisionError  除数为0异常\n",
    "    TypeError 类型异常\n",
    "    AttributeError 对象属性异常\n",
    "    SyntaxError 语法异常\n",
    "\n",
    "上述的5个异常类型都属于 Exception类型的异常"
   ]
  },
  {
   "cell_type": "code",
   "execution_count": 4,
   "id": "e30f0d00-8d67-48de-a95e-5bb58e3a2772",
   "metadata": {},
   "outputs": [
    {
     "ename": "NameError",
     "evalue": "name 'prin' is not defined",
     "output_type": "error",
     "traceback": [
      "\u001b[0;31m---------------------------------------------------------------------------\u001b[0m",
      "\u001b[0;31mNameError\u001b[0m                                 Traceback (most recent call last)",
      "Cell \u001b[0;32mIn[4], line 1\u001b[0m\n\u001b[0;32m----> 1\u001b[0m \u001b[43mprin\u001b[49m(a)\n",
      "\u001b[0;31mNameError\u001b[0m: name 'prin' is not defined"
     ]
    }
   ],
   "source": [
    "prin(a)"
   ]
  },
  {
   "cell_type": "code",
   "execution_count": 5,
   "id": "ea8d4d4b-adff-42b9-8ade-7573bedba412",
   "metadata": {},
   "outputs": [
    {
     "ename": "ZeroDivisionError",
     "evalue": "division by zero",
     "output_type": "error",
     "traceback": [
      "\u001b[0;31m---------------------------------------------------------------------------\u001b[0m",
      "\u001b[0;31mZeroDivisionError\u001b[0m                         Traceback (most recent call last)",
      "Cell \u001b[0;32mIn[5], line 1\u001b[0m\n\u001b[0;32m----> 1\u001b[0m \u001b[38;5;28mprint\u001b[39m(\u001b[38;5;241;43m1\u001b[39;49m\u001b[38;5;241;43m/\u001b[39;49m\u001b[43m \u001b[49m\u001b[38;5;241;43m0\u001b[39;49m)\n",
      "\u001b[0;31mZeroDivisionError\u001b[0m: division by zero"
     ]
    }
   ],
   "source": [
    "print(1/ 0)"
   ]
  },
  {
   "cell_type": "code",
   "execution_count": 6,
   "id": "aa0ae291-2d39-4280-9632-3142df9e6f8e",
   "metadata": {},
   "outputs": [
    {
     "ename": "TypeError",
     "evalue": "unsupported operand type(s) for +: 'int' and 'str'",
     "output_type": "error",
     "traceback": [
      "\u001b[0;31m---------------------------------------------------------------------------\u001b[0m",
      "\u001b[0;31mTypeError\u001b[0m                                 Traceback (most recent call last)",
      "Cell \u001b[0;32mIn[6], line 1\u001b[0m\n\u001b[0;32m----> 1\u001b[0m \u001b[38;5;28mprint\u001b[39m(\u001b[38;5;241;43m1\u001b[39;49m\u001b[43m \u001b[49m\u001b[38;5;241;43m+\u001b[39;49m\u001b[43m \u001b[49m\u001b[38;5;124;43m'\u001b[39;49m\u001b[38;5;124;43m1\u001b[39;49m\u001b[38;5;124;43m'\u001b[39;49m)\n",
      "\u001b[0;31mTypeError\u001b[0m: unsupported operand type(s) for +: 'int' and 'str'"
     ]
    }
   ],
   "source": [
    "print(1 + '1')"
   ]
  },
  {
   "cell_type": "code",
   "execution_count": 7,
   "id": "a789e1ca-cea4-401a-833a-f7c6ae6cef46",
   "metadata": {},
   "outputs": [
    {
     "ename": "AttributeError",
     "evalue": "'list' object has no attribute 'add'",
     "output_type": "error",
     "traceback": [
      "\u001b[0;31m---------------------------------------------------------------------------\u001b[0m",
      "\u001b[0;31mAttributeError\u001b[0m                            Traceback (most recent call last)",
      "Cell \u001b[0;32mIn[7], line 2\u001b[0m\n\u001b[1;32m      1\u001b[0m list_1 \u001b[38;5;241m=\u001b[39m [\u001b[38;5;241m1\u001b[39m, \u001b[38;5;241m2\u001b[39m, \u001b[38;5;241m3\u001b[39m, \u001b[38;5;241m4\u001b[39m]\n\u001b[0;32m----> 2\u001b[0m \u001b[43mlist_1\u001b[49m\u001b[38;5;241;43m.\u001b[39;49m\u001b[43madd\u001b[49m()\n",
      "\u001b[0;31mAttributeError\u001b[0m: 'list' object has no attribute 'add'"
     ]
    }
   ],
   "source": [
    "list_1 = [1, 2, 3, 4]\n",
    "list_1.add()"
   ]
  },
  {
   "cell_type": "code",
   "execution_count": 8,
   "id": "d29e6d59-672c-436f-9145-0c252460d8ef",
   "metadata": {},
   "outputs": [
    {
     "ename": "SyntaxError",
     "evalue": "invalid syntax (1317659341.py, line 1)",
     "output_type": "error",
     "traceback": [
      "\u001b[0;36m  Cell \u001b[0;32mIn[8], line 1\u001b[0;36m\u001b[0m\n\u001b[0;31m    if :\u001b[0m\n\u001b[0m       ^\u001b[0m\n\u001b[0;31mSyntaxError\u001b[0m\u001b[0;31m:\u001b[0m invalid syntax\n"
     ]
    }
   ],
   "source": [
    "if :"
   ]
  },
  {
   "cell_type": "markdown",
   "id": "0bd6c9a8-c391-4f19-b922-82a98815318d",
   "metadata": {},
   "source": [
    "上述是一些我们常见的异常类型，报错信息左边表示异常类型，`:`后面表示对这个异常的详细描述"
   ]
  },
  {
   "cell_type": "markdown",
   "id": "83c1ac38-3f3c-4b8d-a819-bd9b4181e96d",
   "metadata": {},
   "source": [
    "我们来尝试捕获NameError异常"
   ]
  },
  {
   "cell_type": "code",
   "execution_count": 9,
   "id": "246fc7af-d40b-4e12-ae95-d1bd21fcaf38",
   "metadata": {},
   "outputs": [
    {
     "name": "stdout",
     "output_type": "stream",
     "text": [
      "name变量名称未定义错误\n"
     ]
    }
   ],
   "source": [
    "try:\n",
    "    print(name)\n",
    "except NameError as e:\n",
    "    print('name变量名称未定义错误')"
   ]
  },
  {
   "cell_type": "markdown",
   "id": "f10906ff-282d-47e5-8f0e-a52cba3ac6be",
   "metadata": {},
   "source": [
    "注意：\n",
    "1. 如果我们尝试执行的代码的异常类型和要捕获的异常类型不一致，则无法捕获异常\n",
    "2. 一般情况下，我们如果使用这种方式try下面最好只放一行尝试代码即可"
   ]
  },
  {
   "cell_type": "markdown",
   "id": "8ee5b699-a802-4dfb-8f52-151571fdfca3",
   "metadata": {},
   "source": [
    "### 捕获多个异常\n",
    "\n",
    "格式为：\n",
    "```\n",
    "try:\n",
    "    print(name)\n",
    "except (NameError, ……)as e:\n",
    "    print('')\n",
    "```\n",
    "\n"
   ]
  },
  {
   "cell_type": "code",
   "execution_count": 11,
   "id": "4921d6ea-5531-4b48-9334-e11673ba20c8",
   "metadata": {},
   "outputs": [
    {
     "name": "stdout",
     "output_type": "stream",
     "text": [
      "下标为0\n"
     ]
    }
   ],
   "source": [
    "try:\n",
    "    print(1 / 0)\n",
    "except(NameError, ZeroDivisionError):\n",
    "    print(\"下标为0\")"
   ]
  },
  {
   "cell_type": "code",
   "execution_count": 12,
   "id": "804c9ee4-6ac3-4368-adfc-9863f73e99b7",
   "metadata": {},
   "outputs": [
    {
     "name": "stdout",
     "output_type": "stream",
     "text": [
      "division by zero\n"
     ]
    }
   ],
   "source": [
    "try:\n",
    "    print(1 / 0)\n",
    "except(NameError, ZeroDivisionError) as e:\n",
    "    print(e)"
   ]
  },
  {
   "cell_type": "markdown",
   "id": "27bd9487-4c59-42d6-b04e-3e843c33cb88",
   "metadata": {},
   "source": [
    "### 异常else\n",
    "else表示如果没有异常要执行的代码"
   ]
  },
  {
   "cell_type": "code",
   "execution_count": 13,
   "id": "0a08ac71-8919-41a3-8117-dbde5622b8f8",
   "metadata": {},
   "outputs": [
    {
     "name": "stdout",
     "output_type": "stream",
     "text": [
      "1\n",
      "一切正常 over\n"
     ]
    }
   ],
   "source": [
    "try:\n",
    "    print(1)\n",
    "except(NameError, ZeroDivisionError) as e:\n",
    "    print(e)\n",
    "else:\n",
    "    print(\"一切正常 over\")"
   ]
  },
  {
   "cell_type": "markdown",
   "id": "e864e0c7-eab9-4bdf-8bb7-b454cfbe9db5",
   "metadata": {},
   "source": [
    "### 异常的finally\n",
    "finally表示的是无论是否异常都要执行的代码"
   ]
  },
  {
   "cell_type": "code",
   "execution_count": 14,
   "id": "1fd1f4b9-ba10-47a9-8cd1-7426fc11391a",
   "metadata": {},
   "outputs": [
    {
     "name": "stdout",
     "output_type": "stream",
     "text": [
      "1\n",
      "一切正常 over\n",
      "测试结束 over\n"
     ]
    }
   ],
   "source": [
    "try:\n",
    "    print(1)\n",
    "except(NameError, ZeroDivisionError) as e:\n",
    "    print(e)\n",
    "else:\n",
    "    print(\"一切正常 over\")\n",
    "\n",
    "finally:\n",
    "    print(\"测试结束 over\")"
   ]
  },
  {
   "cell_type": "markdown",
   "id": "bcce8a58-ec6f-4fcb-851f-9c9bd937b5de",
   "metadata": {},
   "source": [
    "上述这种情况，我们主要是在文件操作处理中使用，下面要讲的是我们最常用的语句。"
   ]
  },
  {
   "cell_type": "code",
   "execution_count": null,
   "id": "4581f89e-e91f-45e1-a77e-a3720c445967",
   "metadata": {},
   "outputs": [],
   "source": []
  }
 ],
 "metadata": {
  "kernelspec": {
   "display_name": "Python 3 (ipykernel)",
   "language": "python",
   "name": "python3"
  },
  "language_info": {
   "codemirror_mode": {
    "name": "ipython",
    "version": 3
   },
   "file_extension": ".py",
   "mimetype": "text/x-python",
   "name": "python",
   "nbconvert_exporter": "python",
   "pygments_lexer": "ipython3",
   "version": "3.10.15"
  }
 },
 "nbformat": 4,
 "nbformat_minor": 5
}
