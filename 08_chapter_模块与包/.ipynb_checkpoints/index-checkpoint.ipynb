{
 "cells": [
  {
   "cell_type": "markdown",
   "id": "2adff8d1-ae49-42ed-9ff4-2a907d89e77e",
   "metadata": {},
   "source": [
    "# 模块与包\n",
    "\n",
    "模块和包是 Python 提供的强大工具，用于组织代码、复用功能以及管理项目结构。本章将帮助你深入理解模块与包的概念及其使用方法，内容包括：\n",
    "1. **模块和包的基本概念**：学习如何创建和导入模块与包。\n",
    "2. **常用内置模块**：掌握 Python 内置模块的使用，如 `random`、`math`、`time` 和 `datetime` 等。\n",
    "3. **模块与包的应用场景**：了解模块和包如何在实际开发中简化代码结构和提高效率。\n",
    "\n",
    "## 目录\n",
    "- [模块和包](01_模块和包.ipynb)  \n",
    "  学习模块和包的基本概念，掌握模块的创建与导入，以及如何使用包组织代码。\n",
    "\n",
    "- [random 随机数](02_random_随机数.ipynb)  \n",
    "  学习 `random` 模块的使用，包括生成随机数、随机选择、洗牌等常见操作。\n",
    "\n",
    "- [math 常用数学公式](03_math_常用数学公式.ipynb)  \n",
    "  掌握 `math` 模块提供的数学函数，如三角函数、对数函数和常量。\n",
    "\n",
    "- [time 模块](04_time模块.ipynb)  \n",
    "  了解 `time` 模块的使用方法，学习如何获取当前时间、格式化时间以及实现延迟。\n",
    "\n",
    "- [datetime 日期和时间](05_datatime_日期和时间.ipynb)  \n",
    "  深入学习 `datetime` 模块，掌握日期和时间的表示、计算和格式化方法。\n"
   ]
  },
  {
   "cell_type": "code",
   "execution_count": null,
   "id": "240b2b45-db7b-4f26-8027-5965dd0bbabb",
   "metadata": {},
   "outputs": [],
   "source": []
  }
 ],
 "metadata": {
  "kernelspec": {
   "display_name": "Python 3 (ipykernel)",
   "language": "python",
   "name": "python3"
  },
  "language_info": {
   "codemirror_mode": {
    "name": "ipython",
    "version": 3
   },
   "file_extension": ".py",
   "mimetype": "text/x-python",
   "name": "python",
   "nbconvert_exporter": "python",
   "pygments_lexer": "ipython3",
   "version": "3.10.15"
  }
 },
 "nbformat": 4,
 "nbformat_minor": 5
}
