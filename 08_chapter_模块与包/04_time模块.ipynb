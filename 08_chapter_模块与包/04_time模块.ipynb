{
 "cells": [
  {
   "cell_type": "markdown",
   "id": "28af7524-3665-4a11-b5bb-5ab66d5794a2",
   "metadata": {},
   "source": [
    "# time\n",
    "\n",
    "1. 时间戳\n",
    "2. 结构化时间对象\n",
    "3. 格式化时间字符串"
   ]
  },
  {
   "cell_type": "markdown",
   "id": "2eabb07e-cf29-43de-8366-b417c4cd9362",
   "metadata": {},
   "source": [
    "## 时间戳\n",
    "- **`time.time()`**：获取当前时间戳（1970 年 1 月 1 日以来的秒数）。\n",
    "- **时间戳用途**：记录精确时间、性能测试。"
   ]
  },
  {
   "cell_type": "code",
   "execution_count": 13,
   "id": "51a2a86f-f8ae-4031-8d50-803e1f420b0e",
   "metadata": {},
   "outputs": [],
   "source": [
    "import time"
   ]
  },
  {
   "cell_type": "code",
   "execution_count": 14,
   "id": "13519bcc-c9aa-4e44-80f1-c86196ef59c3",
   "metadata": {},
   "outputs": [
    {
     "name": "stdout",
     "output_type": "stream",
     "text": [
      "当前时间戳：1732466406.3379683\n"
     ]
    }
   ],
   "source": [
    "timestamp = time.time()\n",
    "print(f\"当前时间戳：{timestamp}\")"
   ]
  },
  {
   "cell_type": "markdown",
   "id": "a694a994-4ed0-4f26-a095-9068e2588437",
   "metadata": {},
   "source": [
    "### 延迟执行\n",
    "**`time.sleep(seconds)`**：延迟程序执行。"
   ]
  },
  {
   "cell_type": "code",
   "execution_count": 3,
   "id": "ffb97530-09ad-4083-9f88-2ffcb9d53e83",
   "metadata": {},
   "outputs": [
    {
     "name": "stdout",
     "output_type": "stream",
     "text": [
      "开始倒计时...\n",
      "倒计时结束！\n"
     ]
    }
   ],
   "source": [
    "print(\"开始倒计时...\")\n",
    "time.sleep(3)\n",
    "print(\"倒计时结束！\")"
   ]
  },
  {
   "cell_type": "markdown",
   "id": "6ba305b5-3639-4b81-b058-9977107d68ca",
   "metadata": {},
   "source": [
    "## 获取结构化对象\n",
    "- **`time.localtime()`**：返回本地时间。\n",
    "- **`time.gmtime()`**：返回 UTC 时间。"
   ]
  },
  {
   "cell_type": "code",
   "execution_count": 16,
   "id": "b9c5c33b-6efa-4d4c-a9bd-d5373bcf617a",
   "metadata": {},
   "outputs": [
    {
     "name": "stdout",
     "output_type": "stream",
     "text": [
      "本地时间：time.struct_time(tm_year=2024, tm_mon=11, tm_mday=25, tm_hour=0, tm_min=41, tm_sec=4, tm_wday=0, tm_yday=330, tm_isdst=0)\n",
      "<class 'time.struct_time'>\n"
     ]
    }
   ],
   "source": [
    "local_time = time.localtime()\n",
    "print(f\"本地时间：{local_time}\")  \n",
    "print(type(local_time)) # time.struct_time类型的格式化"
   ]
  },
  {
   "cell_type": "code",
   "execution_count": 17,
   "id": "ad839981-765d-4e1e-9de2-4218cbc65020",
   "metadata": {},
   "outputs": [
    {
     "name": "stdout",
     "output_type": "stream",
     "text": [
      "time.struct_time(tm_year=2024, tm_mon=11, tm_mday=24, tm_hour=16, tm_min=42, tm_sec=48, tm_wday=6, tm_yday=329, tm_isdst=0)\n"
     ]
    }
   ],
   "source": [
    "print(time.gmtime())  # 返回UTC时间（国际标准时间）"
   ]
  },
  {
   "cell_type": "markdown",
   "id": "e3f0b69e-a021-404c-90a7-448308509f05",
   "metadata": {},
   "source": [
    "注意：结构化对象本质上是一个tuple（可迭代对象，所以我们可以使用下标去访问）\n",
    "\n",
    "一共有9个元素"
   ]
  },
  {
   "cell_type": "code",
   "execution_count": 23,
   "id": "4717854c-0576-4b84-8a52-ce5442e9950c",
   "metadata": {},
   "outputs": [
    {
     "name": "stdout",
     "output_type": "stream",
     "text": [
      "今天是2024年，11月25日0时41分4秒，今天星期1，今天是今年的330天\n"
     ]
    }
   ],
   "source": [
    "print(f\"今天是{local_time[0]}年，{local_time[1]}月{local_time[2]}日{local_time[3]}\\\n",
    "时{local_time[4]}分{local_time[5]}秒，今天星期{local_time[6] + 1}，今天是今年的{local_time[7]}天\")"
   ]
  },
  {
   "cell_type": "markdown",
   "id": "0a75246c-6bd7-489e-9d57-aa8b00070169",
   "metadata": {},
   "source": [
    "注意：星期是从0开始的，星期一为0,星期天为6"
   ]
  },
  {
   "cell_type": "markdown",
   "id": "9c6b88f3-be20-4959-a414-5c162a75102e",
   "metadata": {},
   "source": [
    "### 结构化对象的实例属性（可读）"
   ]
  },
  {
   "cell_type": "code",
   "execution_count": 26,
   "id": "c7918966-a388-4719-b3a7-8883bfdd6df5",
   "metadata": {},
   "outputs": [
    {
     "name": "stdout",
     "output_type": "stream",
     "text": [
      "2024\n",
      "11\n",
      "25\n",
      "0\n",
      "41\n",
      "4\n",
      "0\n",
      "330\n"
     ]
    }
   ],
   "source": [
    "print(local_time.tm_year)\n",
    "print(local_time.tm_mon)\n",
    "print(local_time.tm_mday)\n",
    "print(local_time.tm_hour)\n",
    "print(local_time.tm_min)\n",
    "print(local_time.tm_sec)\n",
    "print(local_time.tm_wday)\n",
    "print(local_time.tm_yday)"
   ]
  },
  {
   "cell_type": "markdown",
   "id": "e81a3754-8c51-407a-be8e-a8fa2bd0c1ae",
   "metadata": {},
   "source": [
    "## 格式化时间字符串\n",
    "- **`time.ctime()`**：返回本地时间 返回的类型为字符串。"
   ]
  },
  {
   "cell_type": "code",
   "execution_count": 21,
   "id": "ad59a913-ac1b-4b58-b3fb-bc59c8b2db78",
   "metadata": {},
   "outputs": [
    {
     "name": "stdout",
     "output_type": "stream",
     "text": [
      "Mon Nov 25 00:44:46 2024\n",
      "<class 'str'>\n"
     ]
    }
   ],
   "source": [
    "str_time = time.ctime()\n",
    "print(str_time)\n",
    "print(type(str_time))"
   ]
  },
  {
   "cell_type": "markdown",
   "id": "2312c7e1-be88-463d-a2af-30a06e0be86f",
   "metadata": {},
   "source": [
    "## 三种格式之间的转换\n",
    "- **`time.strftime(format, struct_time)`**：`结构化时间对象`转换为`格式化时间字符串`。  注意：这里需要格式类型\n",
    "- **`time.strptime(string, format)`**：`格式化时间字符串`转换为`结构化时间对象`。注意：这里也需要通过格式类型\n",
    "- **`time.localtime(timestamp)`**：`时间戳`转换为`结构化时间对象` 这个就是返回本地时间的方法，传入一个时间戳。\n",
    "- **`time.gmtime(timestamp)`**：`时间戳`转换为`结构化时间对象` 这个就是返回国际时间的方法，传入一个时间戳。\n",
    "- **`time.mktime(struct_time)`**：`结构化时间对象`转换为`时间戳` 。"
   ]
  },
  {
   "cell_type": "code",
   "execution_count": 6,
   "id": "2b876349-3a00-42fe-a8e6-fc99095b59ce",
   "metadata": {},
   "outputs": [
    {
     "name": "stdout",
     "output_type": "stream",
     "text": [
      "格式化时间：2024-11-24 22:06:06\n",
      "<class 'str'>\n"
     ]
    }
   ],
   "source": [
    "# 转换为字符串类型\n",
    "formatted_time = time.strftime(\"%Y-%m-%d %H:%M:%S\", time.localtime())\n",
    "print(f\"格式化时间：{formatted_time}\")\n",
    "print(type(formatted_time))"
   ]
  },
  {
   "cell_type": "code",
   "execution_count": 7,
   "id": "0a34f022-5157-48d0-875e-7692457d974c",
   "metadata": {},
   "outputs": [
    {
     "name": "stdout",
     "output_type": "stream",
     "text": [
      "格式化时间：time.struct_time(tm_year=2023, tm_mon=11, tm_mday=15, tm_hour=14, tm_min=30, tm_sec=0, tm_wday=2, tm_yday=319, tm_isdst=-1)\n",
      "<class 'time.struct_time'>\n"
     ]
    }
   ],
   "source": [
    "parsed_time = time.strptime('2023-11-15 14:30:00',\"%Y-%m-%d %H:%M:%S\")\n",
    "print(f\"格式化时间：{parsed_time}\")\n",
    "print(type(parsed_time))"
   ]
  },
  {
   "cell_type": "code",
   "execution_count": 27,
   "id": "e559ea77-4a4c-44b2-8719-f369a2b15167",
   "metadata": {},
   "outputs": [
    {
     "data": {
      "text/plain": [
       "time.struct_time(tm_year=2024, tm_mon=11, tm_mday=25, tm_hour=0, tm_min=57, tm_sec=44, tm_wday=0, tm_yday=330, tm_isdst=0)"
      ]
     },
     "execution_count": 27,
     "metadata": {},
     "output_type": "execute_result"
    }
   ],
   "source": [
    "time.localtime(time.time())"
   ]
  },
  {
   "cell_type": "code",
   "execution_count": 28,
   "id": "e727a0a6-9559-45df-a178-a382de92c5f0",
   "metadata": {},
   "outputs": [
    {
     "data": {
      "text/plain": [
       "1732467678.0"
      ]
     },
     "execution_count": 28,
     "metadata": {},
     "output_type": "execute_result"
    }
   ],
   "source": [
    "time.mktime(time.localtime())"
   ]
  },
  {
   "cell_type": "markdown",
   "id": "0f9e11be-e923-48c3-ae2a-02cec14b8be6",
   "metadata": {},
   "source": [
    "## 应用"
   ]
  },
  {
   "cell_type": "markdown",
   "id": "ac6076e7-cc19-482b-9135-641fb4ae13c8",
   "metadata": {},
   "source": [
    "案例 1：定时任务"
   ]
  },
  {
   "cell_type": "code",
   "execution_count": 8,
   "id": "fd2f2250-2e92-4d1b-8762-d6c09bd4ef8a",
   "metadata": {},
   "outputs": [
    {
     "name": "stdout",
     "output_type": "stream",
     "text": [
      "倒计时：5\n",
      "倒计时：4\n",
      "倒计时：3\n",
      "倒计时：2\n",
      "倒计时：1\n",
      "任务开始！\n"
     ]
    }
   ],
   "source": [
    "import time\n",
    "\n",
    "for i in range(5, 0, -1):\n",
    "    print(f\"倒计时：{i}\")\n",
    "    time.sleep(1)\n",
    "print(\"任务开始！\")"
   ]
  }
 ],
 "metadata": {
  "kernelspec": {
   "display_name": "Python 3 (ipykernel)",
   "language": "python",
   "name": "python3"
  },
  "language_info": {
   "codemirror_mode": {
    "name": "ipython",
    "version": 3
   },
   "file_extension": ".py",
   "mimetype": "text/x-python",
   "name": "python",
   "nbconvert_exporter": "python",
   "pygments_lexer": "ipython3",
   "version": "3.10.15"
  }
 },
 "nbformat": 4,
 "nbformat_minor": 5
}
