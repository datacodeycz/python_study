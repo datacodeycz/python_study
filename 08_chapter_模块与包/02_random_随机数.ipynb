{
 "cells": [
  {
   "cell_type": "markdown",
   "id": "71a42eb5",
   "metadata": {},
   "source": [
    "# random模块的学习\n",
    "random模块主要是用于生成随机数，通过不同的需求生成不同的随机数\\\n",
    "如果要使用random模块首先需要要导入random模块"
   ]
  },
  {
   "cell_type": "code",
   "execution_count": 1,
   "id": "0afe0895-5453-4c47-9b41-9a7832ffbafd",
   "metadata": {},
   "outputs": [],
   "source": [
    "# 导入random模块\n",
    "import random"
   ]
  },
  {
   "cell_type": "markdown",
   "id": "9d45b3e4",
   "metadata": {},
   "source": [
    "## 基本随机数生成\n",
    "- **`random.random()`**：生成一个 `[0.0, 1.0)` 范围内的随机浮点数。\n",
    "- **`random.uniform(a, b)`**：生成一个 `[a, b]` 范围内的随机浮点数。"
   ]
  },
  {
   "cell_type": "code",
   "execution_count": 26,
   "id": "4a25da7e",
   "metadata": {},
   "outputs": [
    {
     "name": "stdout",
     "output_type": "stream",
     "text": [
      "0.21098284358632646\n"
     ]
    },
    {
     "data": {
      "text/plain": [
       "0.9429097143350544"
      ]
     },
     "execution_count": 26,
     "metadata": {},
     "output_type": "execute_result"
    }
   ],
   "source": [
    "# 1.random()方法\n",
    "'''\n",
    "功能：返回一个随机浮点数\n",
    "输入（参数）：无\n",
    "    \n",
    "输出（返回值）：\n",
    "    返回随机生成的一个实数，范围在[0,1)内\n",
    "'''\n",
    "# 使用random()方法\n",
    "a = random.random() # 因为这个random方法是random模块中的，所以在使用是需要random.方法名() \n",
    "print(a)\n",
    "random.random()"
   ]
  },
  {
   "cell_type": "code",
   "execution_count": 27,
   "id": "815a6d9b-905a-4952-b606-35588874462f",
   "metadata": {},
   "outputs": [
    {
     "name": "stdout",
     "output_type": "stream",
     "text": [
      "8.88730863825402\n"
     ]
    }
   ],
   "source": [
    "# 从范围内生成随机数\n",
    "print(random.uniform(1, 10))"
   ]
  },
  {
   "cell_type": "code",
   "execution_count": 11,
   "id": "8ebedd1a",
   "metadata": {},
   "outputs": [
    {
     "name": "stdout",
     "output_type": "stream",
     "text": [
      "7.6037655956945995\n"
     ]
    }
   ],
   "source": [
    "# 练习\n",
    "# 我们现在需要生成一个1-10的随机数 0-1 * 9 + 1\n",
    "a = 9 * random.random() + 1\n",
    "a\n",
    "\n",
    "#  我们现在需要生成一个x-y的随机数\n",
    "'''\n",
    "random.random * (y - x) + x\n",
    "'''\n",
    "print(a)"
   ]
  },
  {
   "cell_type": "markdown",
   "id": "a12b9506-93ed-4720-a0c8-e7b35aded1e1",
   "metadata": {},
   "source": [
    "## 整数随机生成\n",
    "- **`random.randint(a, b)`**：生成一个 `[a, b]` 范围内的随机整数。\n",
    "- **`random.randrange(start, stop[, step])`**：从 `range(start, stop, step)` 中随机返回一个数。"
   ]
  },
  {
   "cell_type": "code",
   "execution_count": 7,
   "id": "d4112e20",
   "metadata": {},
   "outputs": [
    {
     "data": {
      "text/plain": [
       "8"
      ]
     },
     "execution_count": 7,
     "metadata": {},
     "output_type": "execute_result"
    }
   ],
   "source": [
    "# 2.randint(a, b)\n",
    "'''\n",
    "功能：返回随机整数，整数的范围有参数决定\n",
    "输入（参数）\n",
    "    1.随机整数的左区间值\n",
    "    2.随机整数的右区间值\n",
    "    例如：randint(a,b) 表示范围为 [a,b]\n",
    "输出（返回值）\n",
    "    返回 由参数决定的区域之间 随机生成的一个整数\n",
    "'''\n",
    "# 实例\n",
    "a = random.randint(2,10)  # 随机获取2-10之间的整数 \n",
    "a"
   ]
  },
  {
   "cell_type": "code",
   "execution_count": 8,
   "id": "d6563e94-d55f-4091-b52a-7243cd58860d",
   "metadata": {},
   "outputs": [
    {
     "name": "stdout",
     "output_type": "stream",
     "text": [
      "1\n"
     ]
    }
   ],
   "source": [
    "# 从范围内生成随机数\n",
    "print(random.randrange(1, 10, 2))    # 如：3 （范围：1, 3, 5, 7, 9）"
   ]
  },
  {
   "cell_type": "markdown",
   "id": "60630dba-17df-4a04-ab55-45169f5a8cad",
   "metadata": {},
   "source": [
    "## 随机选择与打乱\n",
    "- **`random.choice(seq)`**：从序列 `seq` 中随机选择一个元素。\n",
    "- **`random.choices(population, weights=None, k=1)`**：从 `population` 中随机选择 `k` 个元素，可以指定权重。\n",
    "- **`random.sample(population, k)`**：从 `population` 中随机抽取 `k` 个不重复元素。\n",
    "- **`random.shuffle(seq)`**：将序列 `seq` 中的元素随机打乱。"
   ]
  },
  {
   "cell_type": "code",
   "execution_count": 13,
   "id": "a77b306c-48fb-47eb-9126-c477c32d9a80",
   "metadata": {},
   "outputs": [
    {
     "name": "stdout",
     "output_type": "stream",
     "text": [
      "e\n"
     ]
    }
   ],
   "source": [
    "# 随机选择\n",
    "items = ['a', 'b', 'c', 'd', 'e', 'f']\n",
    "print(random.choice(items))         "
   ]
  },
  {
   "cell_type": "code",
   "execution_count": 14,
   "id": "b07dc9ac-f6f4-48b9-b896-a5be1256e2b2",
   "metadata": {},
   "outputs": [
    {
     "name": "stdout",
     "output_type": "stream",
     "text": [
      "['f', 'd']\n"
     ]
    }
   ],
   "source": [
    "# 随机选择多个\n",
    "print(random.choices(items, k=2))"
   ]
  },
  {
   "cell_type": "code",
   "execution_count": 15,
   "id": "96df3a52-8ff5-496d-99b3-ba8353b2dacb",
   "metadata": {},
   "outputs": [
    {
     "name": "stdout",
     "output_type": "stream",
     "text": [
      "['c', 'f']\n"
     ]
    }
   ],
   "source": [
    "# 随机抽取不重复的\n",
    "print(random.sample(items, 2))"
   ]
  },
  {
   "cell_type": "code",
   "execution_count": 16,
   "id": "094b36b7-cccb-4062-9cf4-27a5a67c5ee2",
   "metadata": {},
   "outputs": [
    {
     "name": "stdout",
     "output_type": "stream",
     "text": [
      "['c', 'e', 'f', 'd', 'a', 'b']\n"
     ]
    }
   ],
   "source": [
    "# 打乱顺序\n",
    "random.shuffle(items)\n",
    "print(items) "
   ]
  },
  {
   "cell_type": "markdown",
   "id": "d8d03b9e-0095-4a88-95e5-6069eb27a63b",
   "metadata": {},
   "source": [
    "## 随机分布\n",
    "\n",
    "- **`random.gauss(mu, sigma)`**：生成一个符合正态分布的随机数。\n",
    "- **`random.expovariate(lambd)`**：生成一个符合指数分布的随机数。\n",
    "- **`random.uniform(a, b)`**：生成均匀分布的随机数（之前提到）。"
   ]
  },
  {
   "cell_type": "code",
   "execution_count": 18,
   "id": "54794e3f-4d79-4920-8b33-e52ca055baa6",
   "metadata": {},
   "outputs": [
    {
     "name": "stdout",
     "output_type": "stream",
     "text": [
      "-0.557233819083832\n"
     ]
    }
   ],
   "source": [
    "# 正态分布\n",
    "print(random.gauss(0, 1))  # 均值 0，标准差 1"
   ]
  },
  {
   "cell_type": "code",
   "execution_count": 19,
   "id": "17c64529-0297-4224-92b0-dcba63a4db14",
   "metadata": {},
   "outputs": [
    {
     "name": "stdout",
     "output_type": "stream",
     "text": [
      "1.2168295491261059\n"
     ]
    }
   ],
   "source": [
    "# 指数分布\n",
    "print(random.expovariate(1.5))"
   ]
  },
  {
   "cell_type": "markdown",
   "id": "e9448143-efa3-4a7d-9ce0-907347dab7e4",
   "metadata": {},
   "source": [
    "## 随机种子\n",
    "`random.seed(a=None)`：初始化随机数生成器的种子, a 是种子值。\n",
    "- **用途**：使随机结果可重复，方便调试。"
   ]
  },
  {
   "cell_type": "code",
   "execution_count": 20,
   "id": "ce45af5a-55c4-4ca4-b7bc-a69457f8c44b",
   "metadata": {},
   "outputs": [
    {
     "name": "stdout",
     "output_type": "stream",
     "text": [
      "0.6394267984578837\n",
      "0.6394267984578837\n"
     ]
    }
   ],
   "source": [
    "# 使用种子\n",
    "random.seed(42)\n",
    "print(random.random())  # 如：0.6394267984578837\n",
    "random.seed(42)\n",
    "print(random.random())  # 重复同样结果：0.6394267984578837"
   ]
  },
  {
   "cell_type": "markdown",
   "id": "370ce36f",
   "metadata": {},
   "source": [
    "## 种子的概念\n",
    "在python的内部有一个随机种子，它决定了生成的随机数是什么，当我们没有人为去改变我们的种子时，随机种子会根据当前的系统时间做为默认值，而当前系统的时间正常情况下，是不一样的，所以我们获取到的随机数是不一样的，但是有时候我们需要使用相等的随机数做测试，所以我们需要指定随机种子的值，这样就可以保证该随机种子下产生的随机数是一样的，测试结果与预期结果也能一致"
   ]
  },
  {
   "cell_type": "markdown",
   "id": "cc2a22ec-87ae-4e2f-8b46-46c008bb72cc",
   "metadata": {},
   "source": [
    "## **应用案例**"
   ]
  },
  {
   "cell_type": "markdown",
   "id": "3db3c564-f5ca-4dd1-8093-4b2c4fdb3d87",
   "metadata": {},
   "source": [
    "### **随机抽奖程序**"
   ]
  },
  {
   "cell_type": "code",
   "execution_count": 21,
   "id": "69d9084e-d605-4bf6-9f40-93cfd39ff87a",
   "metadata": {},
   "outputs": [
    {
     "name": "stdout",
     "output_type": "stream",
     "text": [
      "恭喜 Alice 获得大奖！\n"
     ]
    }
   ],
   "source": [
    "participants = ['Alice', 'Bob', 'Charlie', 'Diana']\n",
    "\n",
    "# 抽取一个幸运者\n",
    "winner = random.choice(participants)\n",
    "print(f\"恭喜 {winner} 获得大奖！\")"
   ]
  },
  {
   "cell_type": "markdown",
   "id": "d963723a-a072-4c21-9a97-ec43cdbd55ec",
   "metadata": {},
   "source": [
    "### **模拟抛硬币** "
   ]
  },
  {
   "cell_type": "code",
   "execution_count": 22,
   "id": "ca6fd757-ca1c-4e26-871e-52a781cd2eac",
   "metadata": {},
   "outputs": [
    {
     "name": "stdout",
     "output_type": "stream",
     "text": [
      "反面\n"
     ]
    }
   ],
   "source": [
    "def coin_toss():\n",
    "    return random.choice(['正面', '反面'])\n",
    "\n",
    "print(coin_toss())  # 如：'正面'"
   ]
  },
  {
   "cell_type": "markdown",
   "id": "7201f8cf-cd24-445f-9ea3-10025b67b849",
   "metadata": {},
   "source": [
    "### **打乱一副扑克牌**"
   ]
  },
  {
   "cell_type": "code",
   "execution_count": 25,
   "id": "56f7acbb-6d10-430e-b1b4-fc5d385c3307",
   "metadata": {},
   "outputs": [
    {
     "name": "stdout",
     "output_type": "stream",
     "text": [
      "['K♦', 'K♥', '5♥', '4♥', '6♣']\n"
     ]
    }
   ],
   "source": [
    "cards = [f\"{rank}{suit}\" for rank in \"23456789JQKA\" for suit in \"♠♥♦♣\"]\n",
    "random.shuffle(cards)\n",
    "print(cards[:5])  # 随机输出前 5 张牌"
   ]
  }
 ],
 "metadata": {
  "kernelspec": {
   "display_name": "Python 3 (ipykernel)",
   "language": "python",
   "name": "python3"
  },
  "language_info": {
   "codemirror_mode": {
    "name": "ipython",
    "version": 3
   },
   "file_extension": ".py",
   "mimetype": "text/x-python",
   "name": "python",
   "nbconvert_exporter": "python",
   "pygments_lexer": "ipython3",
   "version": "3.10.15"
  }
 },
 "nbformat": 4,
 "nbformat_minor": 5
}
