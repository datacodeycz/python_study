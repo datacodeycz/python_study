{
 "cells": [
  {
   "cell_type": "markdown",
   "id": "f412d1ad-5235-4b38-9f35-c9a28db1401b",
   "metadata": {},
   "source": [
    "# datetime\n",
    "\n",
    "我们主要是学习datetime模块中的4个类，通过这四个类一步步熟悉datetime模块\n",
    "1. datetime.date\n",
    "2. datetime.time\n",
    "3. datetime.datetime\n",
    "4. datetime.timedelta"
   ]
  },
  {
   "cell_type": "code",
   "execution_count": 1,
   "id": "6bf76635-7b36-4b11-a904-d446a1ada09f",
   "metadata": {},
   "outputs": [],
   "source": [
    "import datetime"
   ]
  },
  {
   "cell_type": "markdown",
   "id": "2157304f-6d15-4924-93f8-d4e5312abeac",
   "metadata": {},
   "source": [
    "## datetime.date"
   ]
  },
  {
   "cell_type": "markdown",
   "id": "ea403a1e-fd6b-47a4-b6a6-46dc1bea764b",
   "metadata": {},
   "source": [
    "### 生成日期\n",
    "- **`datetime.date(year, month, day)`**：创建制定的日期。\n",
    "- **`datetime.date.today()`**：获取当前日期。\n",
    "- **`datetime.date.fromtimestamp(timestamp)`**：通过时间戳转换为日期\n",
    "\n",
    "注意：生成的所有的日期都是`datetime.date`类型的"
   ]
  },
  {
   "cell_type": "code",
   "execution_count": 55,
   "id": "27e9e2db-533c-4c3d-9b7d-ad1b7eade8b5",
   "metadata": {},
   "outputs": [
    {
     "name": "stdout",
     "output_type": "stream",
     "text": [
      "2024-11-11 <class 'datetime.date'>\n"
     ]
    }
   ],
   "source": [
    "d = datetime.date(2024, 11, 11)\n",
    "print(d, type(d))"
   ]
  },
  {
   "cell_type": "code",
   "execution_count": 56,
   "id": "94c5feb0-3129-408b-991b-ddef86974c5f",
   "metadata": {},
   "outputs": [
    {
     "name": "stdout",
     "output_type": "stream",
     "text": [
      "2024-11-25 <class 'datetime.date'>\n"
     ]
    }
   ],
   "source": [
    "d = datetime.date.today()\n",
    "print(d, type(d))"
   ]
  },
  {
   "cell_type": "code",
   "execution_count": 57,
   "id": "3d52f60b-0d21-47ac-8222-86acc52614ad",
   "metadata": {},
   "outputs": [],
   "source": [
    "import time"
   ]
  },
  {
   "cell_type": "code",
   "execution_count": 58,
   "id": "efb58272-7977-42ae-bfe6-4219e33e4fc3",
   "metadata": {},
   "outputs": [
    {
     "name": "stdout",
     "output_type": "stream",
     "text": [
      "2024-11-25 <class 'datetime.date'>\n"
     ]
    }
   ],
   "source": [
    "d = datetime.date.fromtimestamp(time.time())\n",
    "print(d, type(d))"
   ]
  },
  {
   "cell_type": "markdown",
   "id": "08fbaff4-14c1-4d4a-a7ed-1fa9f92c97a9",
   "metadata": {},
   "source": [
    "### datetime.date类属性\n",
    "- **`datetime.date.min`**：能填写的最小日期\n",
    "- **`datetime.date.max`**：能填写的最大日期\n",
    "- **`datetime.date.resolution`**：日期差（先不管 后面学到datetime.timedelta）"
   ]
  },
  {
   "cell_type": "code",
   "execution_count": 59,
   "id": "b750c3a9-0163-406a-a793-a1e702bf49a0",
   "metadata": {},
   "outputs": [
    {
     "name": "stdout",
     "output_type": "stream",
     "text": [
      "0001-01-01\n",
      "9999-12-31\n",
      "1 day, 0:00:00\n"
     ]
    }
   ],
   "source": [
    "print(datetime.date.min)\n",
    "print(datetime.date.max)\n",
    "print(datetime.date.resolution)"
   ]
  },
  {
   "cell_type": "markdown",
   "id": "7f94394a-5265-4d55-bc2c-361cb19aac39",
   "metadata": {},
   "source": [
    "### datetime.date 实例属性\n",
    "\n",
    "实例属性就是这个对象的属性 不是这个类对象的属性，上面的是类对象的属性\n",
    "- **`d.year`**：返回这个对象的年\n",
    "- **`d.month`**：返回这个对象的月份\n",
    "- **`d.day`**：返回这个对象的天"
   ]
  },
  {
   "cell_type": "code",
   "execution_count": 60,
   "id": "fe762722-e1c8-424a-82d4-4c7d95f1d096",
   "metadata": {},
   "outputs": [
    {
     "name": "stdout",
     "output_type": "stream",
     "text": [
      "2024\n",
      "11\n",
      "25\n"
     ]
    }
   ],
   "source": [
    "d = datetime.date.today()\n",
    "print(d.year)\n",
    "print(d.month)\n",
    "print(d.day)"
   ]
  },
  {
   "cell_type": "markdown",
   "id": "680f8491-6b73-4c9f-bfc9-3fbc567ebc77",
   "metadata": {},
   "source": [
    "### datetime.date实例方法\n",
    "- **`replace(year,month,day)`**：指定的year、month或day替换当前日期的值，返回新的datetime.date对象\n",
    "- **`toordinal()`**：返回当前日期的公历序数，表示从公元 1 年 1 月 1 日开始的天数。\n",
    "- **`weekday()`**：返回星期几，0 表示周一，6 表示周日。\n",
    "- **`isoweekday()`**：返回 ISO 标准下的星期几，1 表示周一，7 表示周日。\n",
    "- **`isoformat()`**：返回日期的 ISO 8601 格式化字符串，格式为`YYYY-MM-DD`\n",
    "- **`strftime(format)`**：根据指定的格式字符串，返回格式化后的日期字符串。"
   ]
  },
  {
   "cell_type": "code",
   "execution_count": 61,
   "id": "ae14f548-5d88-4a00-875c-37945c90e394",
   "metadata": {},
   "outputs": [
    {
     "name": "stdout",
     "output_type": "stream",
     "text": [
      "2025-11-25\n"
     ]
    }
   ],
   "source": [
    "d = datetime.date.today()\n",
    "print(d.replace(year=2025))"
   ]
  },
  {
   "cell_type": "code",
   "execution_count": 62,
   "id": "6dde377f-df0e-48ad-bd38-4e6880b1776e",
   "metadata": {},
   "outputs": [
    {
     "data": {
      "text/plain": [
       "739215"
      ]
     },
     "execution_count": 62,
     "metadata": {},
     "output_type": "execute_result"
    }
   ],
   "source": [
    "d.toordinal()"
   ]
  },
  {
   "cell_type": "code",
   "execution_count": 63,
   "id": "d1b359e7-8af0-4093-8bb9-e2704150629b",
   "metadata": {},
   "outputs": [
    {
     "data": {
      "text/plain": [
       "0"
      ]
     },
     "execution_count": 63,
     "metadata": {},
     "output_type": "execute_result"
    }
   ],
   "source": [
    "d.weekday()"
   ]
  },
  {
   "cell_type": "code",
   "execution_count": 64,
   "id": "7c9ddf7c-b77a-475d-be23-6c8a96046819",
   "metadata": {},
   "outputs": [
    {
     "data": {
      "text/plain": [
       "1"
      ]
     },
     "execution_count": 64,
     "metadata": {},
     "output_type": "execute_result"
    }
   ],
   "source": [
    "d.isoweekday()"
   ]
  },
  {
   "cell_type": "code",
   "execution_count": 65,
   "id": "d232553c-0ec4-4160-8f3c-48e2fbe982df",
   "metadata": {},
   "outputs": [
    {
     "data": {
      "text/plain": [
       "'2024-11-25'"
      ]
     },
     "execution_count": 65,
     "metadata": {},
     "output_type": "execute_result"
    }
   ],
   "source": [
    "d.isoformat()"
   ]
  },
  {
   "cell_type": "code",
   "execution_count": 67,
   "id": "efa754bc-ac26-40a3-a67c-459747828b0b",
   "metadata": {},
   "outputs": [
    {
     "data": {
      "text/plain": [
       "'2024年11月25日 (Monday)'"
      ]
     },
     "execution_count": 67,
     "metadata": {},
     "output_type": "execute_result"
    }
   ],
   "source": [
    "d.strftime(\"%Y年%m月%d日 (%A)\")  # A表示星期"
   ]
  },
  {
   "cell_type": "markdown",
   "id": "e165aaa3-ff31-4a25-b5c7-b1577de76d9c",
   "metadata": {},
   "source": [
    "## datetime.time类"
   ]
  },
  {
   "cell_type": "markdown",
   "id": "8130c225-9de2-4136-94c3-e5d57c14694b",
   "metadata": {},
   "source": [
    "### 生成时间\n",
    "- **`datetime.time(hour, minute, second， ms)`**：创建指定日期。"
   ]
  },
  {
   "cell_type": "code",
   "execution_count": 68,
   "id": "4c728bf6-9085-4a28-9681-d4e85a61cd00",
   "metadata": {},
   "outputs": [
    {
     "data": {
      "text/plain": [
       "datetime.time(0, 0)"
      ]
     },
     "execution_count": 68,
     "metadata": {},
     "output_type": "execute_result"
    }
   ],
   "source": [
    "datetime.time()"
   ]
  },
  {
   "cell_type": "markdown",
   "id": "91f89502-834e-49bc-a4bc-8961c92fca4f",
   "metadata": {},
   "source": [
    "注意：当我们不给这个类传入任何参数时，结果是一个datetime.time对象 但是时间并不是当前时间，而是0-0"
   ]
  },
  {
   "cell_type": "code",
   "execution_count": 72,
   "id": "b4a3da36-2ce9-4b24-bc51-65463384ebc3",
   "metadata": {},
   "outputs": [
    {
     "data": {
      "text/plain": [
       "datetime.time(23, 45, 24, 8888)"
      ]
     },
     "execution_count": 72,
     "metadata": {},
     "output_type": "execute_result"
    }
   ],
   "source": [
    "datetime.time(23, 45, 24, 8888)"
   ]
  },
  {
   "cell_type": "markdown",
   "id": "bec1a1bb-2890-42b6-9a2a-ad002b81158f",
   "metadata": {},
   "source": [
    "### 类属性（这个类对象的属性, 我这个类可以直接使用的属性，不需要实例化对象就可以使用的）\n",
    "- **`datetime.time.min`**：能记录的最小时间。\n",
    "- **`datetime.time.max`**：能记录的最大时间。\n",
    "- **`datetime.time.resolution`**：时间的差值。"
   ]
  },
  {
   "cell_type": "code",
   "execution_count": 74,
   "id": "0d1ee2d9-22f8-41aa-bd59-c3be98d1a7eb",
   "metadata": {},
   "outputs": [
    {
     "name": "stdout",
     "output_type": "stream",
     "text": [
      "00:00:00\n",
      "23:59:59.999999\n",
      "0:00:00.000001\n"
     ]
    }
   ],
   "source": [
    "print(datetime.time.min)\n",
    "print(datetime.time.max)\n",
    "print(datetime.time.resolution)"
   ]
  },
  {
   "cell_type": "markdown",
   "id": "5d924672-f0de-40bd-a0ea-f4fcd50e7444",
   "metadata": {},
   "source": [
    "### 实例属性（要实例化对象才可以使用的属性）\n",
    "- **`t.hour`**：返回这个对象的小时\n",
    "- **`t.minute`**：返回这个对象的分钟\n",
    "- **`t.second`**：返回这个对象的秒\n",
    "- **`t.microsecond`**：返回这个对象的毫秒"
   ]
  },
  {
   "cell_type": "code",
   "execution_count": 75,
   "id": "452aff3c-42dd-4b2e-9cf3-468a2ee24173",
   "metadata": {},
   "outputs": [
    {
     "name": "stdout",
     "output_type": "stream",
     "text": [
      "23\n",
      "45\n",
      "24\n",
      "8888\n"
     ]
    }
   ],
   "source": [
    "t = datetime.time(23, 45, 24, 8888)\n",
    "print(t.hour)\n",
    "print(t.minute)\n",
    "print(t.second)\n",
    "print(t.microsecond)"
   ]
  },
  {
   "cell_type": "markdown",
   "id": "414bca91-2f53-4db2-8d12-13bedaf6d7a1",
   "metadata": {},
   "source": [
    "### 实例方法\n",
    "- **`isoformat`**：返回日期的 ISO 8601 格式化字符串，格式为HH:MM:SS.f\n",
    "- **`strftime(format)`**：根据指定的格式字符串，返回格式化后的时间字符串。"
   ]
  },
  {
   "cell_type": "code",
   "execution_count": 76,
   "id": "9949af31-9728-4043-967c-f1028c45e3c6",
   "metadata": {},
   "outputs": [
    {
     "name": "stdout",
     "output_type": "stream",
     "text": [
      "23:45:24.008888 <class 'str'>\n"
     ]
    }
   ],
   "source": [
    "t = datetime.time(23, 45, 24, 8888)\n",
    "print(t.isoformat(),type(t.isoformat()))"
   ]
  },
  {
   "cell_type": "code",
   "execution_count": 78,
   "id": "dbddb91d-4dc0-4f1b-9515-b8e157bbb3ab",
   "metadata": {},
   "outputs": [
    {
     "name": "stdout",
     "output_type": "stream",
     "text": [
      "23:45:24.008888(微秒)\n"
     ]
    }
   ],
   "source": [
    "print(t.strftime(\"%H:%M:%S.%f(微秒)\"))"
   ]
  },
  {
   "cell_type": "markdown",
   "id": "aafc7dc0-b70c-4b24-9869-6bca9202ea31",
   "metadata": {},
   "source": [
    "## datetime.datetime"
   ]
  },
  {
   "cell_type": "markdown",
   "id": "011aa7ce-7701-408f-b204-7f05c8e06314",
   "metadata": {},
   "source": [
    "### 生成日期时间\n",
    "- **`datetime.datetime()`**：创建一个指定的日期和时间对象。\n",
    "- **`datetime.datetime.today()`**：返回当前本地日期和时间，精确到秒。\n",
    "- **`datetime.datetime.now()`**：返回当前本地日期和时间，可以接受 tz 参数指定时区。\n",
    "- **`datetime.datetime.utcnow()`**：返回当前的 UTC 时间。\n",
    "- **`datetime.datetime.fromtimestamp()`**：根据时间戳（从 1970 年 1 月 1 日 00:00:00 UTC 开始的秒数）返回本地时间的日期和时间对象。\n",
    "- **`datetime.datetime.utcfromtimestamp()`**：根据时间戳返回 UTC 时间的日期和时间对象。\n",
    "- **`datetime.datetime.strptime()`**：将一个日期字符串解析为 datetime 对象。\n",
    "- **`datetime.datetime.combine(date,time)`**：将一个date对象和time对象组成一个datetime对象。"
   ]
  },
  {
   "cell_type": "code",
   "execution_count": 79,
   "id": "10ce1a5d-9292-4753-aa67-947ad67beb0c",
   "metadata": {},
   "outputs": [
    {
     "name": "stdout",
     "output_type": "stream",
     "text": [
      "2020-08-20 13:22:34.888888 <class 'datetime.datetime'>\n"
     ]
    }
   ],
   "source": [
    "# 创建指定的日期和时间\n",
    "dt = datetime.datetime(2020, 8, 20, 13, 22, 34, 888888)\n",
    "print(dt, type(dt))  # 输出：2020-08-20 13:22:34.888888 <class 'datetime.datetime'>"
   ]
  },
  {
   "cell_type": "code",
   "execution_count": 80,
   "id": "ff1a6258-6d9b-4524-85f5-1055caf00df8",
   "metadata": {},
   "outputs": [
    {
     "name": "stdout",
     "output_type": "stream",
     "text": [
      "2024-11-25 01:49:16.929170 <class 'datetime.datetime'>\n"
     ]
    }
   ],
   "source": [
    "# 获取当前本地日期和时间\n",
    "dt = datetime.datetime.today()\n",
    "print(dt, type(dt))  # 输出：当前本地时间"
   ]
  },
  {
   "cell_type": "code",
   "execution_count": 82,
   "id": "e8f098a8-d1d7-4c6c-bc7e-70b02486f430",
   "metadata": {},
   "outputs": [
    {
     "name": "stdout",
     "output_type": "stream",
     "text": [
      "2024-11-25 01:49:50.153017 <class 'datetime.datetime'>\n"
     ]
    }
   ],
   "source": [
    "# 获取当前时间（默认本地时区）\n",
    "dt = datetime.datetime.now()\n",
    "print(dt, type(dt))"
   ]
  },
  {
   "cell_type": "code",
   "execution_count": 84,
   "id": "5333a0f0-6636-4467-b71a-c479a0ead701",
   "metadata": {},
   "outputs": [
    {
     "name": "stdout",
     "output_type": "stream",
     "text": [
      "2024-11-24 17:51:38.045218 <class 'datetime.datetime'>\n"
     ]
    }
   ],
   "source": [
    "# 获取当前 UTC 时间\n",
    "dt = datetime.datetime.utcnow()\n",
    "print(dt, type(dt))"
   ]
  },
  {
   "cell_type": "code",
   "execution_count": 86,
   "id": "8c5811b5-24c9-4073-abfb-a80bafdae5bd",
   "metadata": {},
   "outputs": [
    {
     "name": "stdout",
     "output_type": "stream",
     "text": [
      "2024-11-25 01:52:01.540170 <class 'datetime.datetime'>\n"
     ]
    }
   ],
   "source": [
    "import time\n",
    "# 根据当前时间戳创建日期和时间对象\n",
    "timestamp = time.time()\n",
    "dt = datetime.datetime.fromtimestamp(timestamp)\n",
    "print(dt, type(dt))  # 输出：当前时间对应的本地时间对象"
   ]
  },
  {
   "cell_type": "code",
   "execution_count": 89,
   "id": "0a36fceb-1566-4e32-990b-62ef152c3578",
   "metadata": {},
   "outputs": [
    {
     "name": "stdout",
     "output_type": "stream",
     "text": [
      "2024-11-24 17:52:18.535865 <class 'datetime.datetime'>\n"
     ]
    }
   ],
   "source": [
    "# 根据时间戳创建 UTC 时间\n",
    "timestamp = time.time()\n",
    "dt = datetime.datetime.utcfromtimestamp(timestamp)\n",
    "print(dt, type(dt))  # 输出：当前时间对应的 UTC 时间对象"
   ]
  },
  {
   "cell_type": "code",
   "execution_count": 91,
   "id": "5ad8e92a-c3eb-48aa-8ed1-d66305e2ee77",
   "metadata": {},
   "outputs": [
    {
     "name": "stdout",
     "output_type": "stream",
     "text": [
      "2020-07-14 03:13:46 <class 'datetime.datetime'>\n"
     ]
    }
   ],
   "source": [
    "# 解析日期字符串为 datetime 对象\n",
    "date_str = \"2020-07-14 03:13:46\"\n",
    "dt = datetime.datetime.strptime(date_str, \"%Y-%m-%d %H:%M:%S\")\n",
    "print(dt, type(dt))  # 输出：2020-07-14 03:13:46 <class 'datetime.datetime'>"
   ]
  },
  {
   "cell_type": "code",
   "execution_count": 93,
   "id": "d53ef57c-689b-476b-8e81-7f3209206c5a",
   "metadata": {},
   "outputs": [
    {
     "name": "stdout",
     "output_type": "stream",
     "text": [
      "2024-11-25 13:26:49.888888 <class 'datetime.datetime'>\n"
     ]
    }
   ],
   "source": [
    "d = datetime.date.today()\n",
    "t = datetime.time(13,26, 49, 888888)\n",
    "date_time = datetime.datetime.combine(d, t)\n",
    "print(date_time, type(date_time))"
   ]
  },
  {
   "cell_type": "markdown",
   "id": "b613fe0e-d6cb-4aee-ada8-93ce01fe9cd8",
   "metadata": {},
   "source": [
    "### 实例属性\n",
    "- **`dt.year`**：返回这个对象的年\n",
    "- **`dt.month`**：返回这个对象的月份\n",
    "- **`dt.day`**：返回这个对象的天\n",
    "- **`dt.hour`**：返回这个对象的小时\n",
    "- **`dt.minute`**：返回这个对象的分钟\n",
    "- **`dt.second`**：返回这个对象的秒\n",
    "- **`dt.microsecond`**：返回这个对象的毫秒"
   ]
  },
  {
   "cell_type": "code",
   "execution_count": 94,
   "id": "69315097-4efa-4535-a75a-cc2e212eb0a8",
   "metadata": {},
   "outputs": [
    {
     "name": "stdout",
     "output_type": "stream",
     "text": [
      "2024\n",
      "11\n",
      "25\n",
      "1\n",
      "58\n",
      "6\n",
      "287433\n"
     ]
    }
   ],
   "source": [
    "dt = datetime.datetime.now()\n",
    "print(dt.year)\n",
    "print(dt.month)\n",
    "print(dt.day)\n",
    "print(dt.hour)\n",
    "print(dt.minute)\n",
    "print(dt.second)\n",
    "print(dt.microsecond)"
   ]
  },
  {
   "cell_type": "markdown",
   "id": "d8f0f44b-e325-4ec6-b17d-1f8a4f7ee478",
   "metadata": {},
   "source": [
    "### 实例方法\n",
    "- **`replace()`**：指定的日期和时间替换日期和时间的值，返回新的datetime.datetime对象"
   ]
  },
  {
   "cell_type": "code",
   "execution_count": 2,
   "id": "477ed978-82ac-465b-ad20-ac9969ca2ea0",
   "metadata": {},
   "outputs": [],
   "source": [
    "dt = datetime.datetime.now()"
   ]
  },
  {
   "cell_type": "code",
   "execution_count": 4,
   "id": "30cef7d4-2241-4eee-82f8-ed29d6ac8a99",
   "metadata": {},
   "outputs": [
    {
     "name": "stdout",
     "output_type": "stream",
     "text": [
      "2024-11-20 12:24:57.384183\n"
     ]
    }
   ],
   "source": [
    "print(dt.replace(second=57, day=20))"
   ]
  },
  {
   "cell_type": "markdown",
   "id": "ef9e7962-8f29-4491-ab39-ddaa525d8e4f",
   "metadata": {},
   "source": [
    "### datetime和结构化对象和时间戳和格式化字符串相互转换\n",
    "\n",
    "1. datetime\n",
    "2. 结构化对象\n",
    "3. 时间戳\n",
    "4. 格式化字符串\n",
    "</br>\n",
    "\n",
    "1. `datetime`转换为`结构化对象`\n",
    "    `td.timetuple()`\n",
    "3. `datetime`转换为`时间戳`\n",
    "    `td.timestamp()`\n",
    "5. `datetime`转换为`格式化字符串`\n",
    "    `dt.strftime(format)`\n",
    "</br>\n",
    "\n",
    "1. `时间戳`转换为`datetime`\n",
    "   `datetime.datetime.fromtimestamp(timestamp)`\n",
    "3. `格式化对象`转换为`datetime`\n",
    "   `datetime.datetime.strptime(str, format)`\n",
    "5. `结构化对象`转换为`datetime`\n",
    "   `datetime.datetime.fromtimestamp(time.mktime(time.localtime()))`"
   ]
  },
  {
   "cell_type": "code",
   "execution_count": 5,
   "id": "b7756983-5fed-4995-b8d1-4518ba17d5e4",
   "metadata": {},
   "outputs": [
    {
     "name": "stdout",
     "output_type": "stream",
     "text": [
      "time.struct_time(tm_year=2024, tm_mon=11, tm_mday=25, tm_hour=12, tm_min=29, tm_sec=39, tm_wday=0, tm_yday=330, tm_isdst=-1)\n"
     ]
    }
   ],
   "source": [
    "dt = datetime.datetime.now()\n",
    "# datetime转换为结构化对象\n",
    "print(dt.timetuple())"
   ]
  },
  {
   "cell_type": "code",
   "execution_count": 6,
   "id": "721496b6-5b71-4975-abec-650a291dc48d",
   "metadata": {},
   "outputs": [
    {
     "name": "stdout",
     "output_type": "stream",
     "text": [
      "1732508979.098888\n"
     ]
    }
   ],
   "source": [
    "# `datetime`转换为`时间戳`\n",
    "print(dt.timestamp())"
   ]
  },
  {
   "cell_type": "code",
   "execution_count": 7,
   "id": "816de85e-fcab-4b86-8b02-76d9e6580685",
   "metadata": {},
   "outputs": [
    {
     "name": "stdout",
     "output_type": "stream",
     "text": [
      "2024-11-25, 12:29:39 098888\n"
     ]
    }
   ],
   "source": [
    "# `datetime`转换为`格式化字符串`\n",
    "print(dt.strftime('%Y-%m-%d, %H:%M:%S %f'))"
   ]
  },
  {
   "cell_type": "code",
   "execution_count": 11,
   "id": "2f3eedfd-f092-4a8a-98c2-284026d827aa",
   "metadata": {},
   "outputs": [],
   "source": [
    "import time"
   ]
  },
  {
   "cell_type": "code",
   "execution_count": 12,
   "id": "8fc5948c-c26a-4b82-a07b-e8a62a740444",
   "metadata": {},
   "outputs": [
    {
     "name": "stdout",
     "output_type": "stream",
     "text": [
      "2024-11-25 12:31:43.029112\n"
     ]
    }
   ],
   "source": [
    "# `时间戳`转换为`datetime`\n",
    "print(datetime.datetime.fromtimestamp(time.time()))"
   ]
  },
  {
   "cell_type": "code",
   "execution_count": 13,
   "id": "5a0a91f2-3e9e-4f46-8179-2b50f69d1a6f",
   "metadata": {},
   "outputs": [
    {
     "name": "stdout",
     "output_type": "stream",
     "text": [
      "2024-11-25 12:29:39\n"
     ]
    }
   ],
   "source": [
    "# `格式化对象`转换为`datetime`\n",
    "print(datetime.datetime.strptime(\"2024-11-25, 12:29:39\", \"%Y-%m-%d, %H:%M:%S\"))"
   ]
  },
  {
   "cell_type": "code",
   "execution_count": 14,
   "id": "8e19d709-8bc6-4e83-86fc-615c5db16139",
   "metadata": {},
   "outputs": [
    {
     "name": "stdout",
     "output_type": "stream",
     "text": [
      "2024-11-25 12:33:16\n"
     ]
    }
   ],
   "source": [
    "# `结构化对象`转换为`datetime`\n",
    "print(datetime.datetime.fromtimestamp(time.mktime(time.localtime())))"
   ]
  },
  {
   "cell_type": "markdown",
   "id": "ec759117-6e3c-43db-8ee0-d170b674fdca",
   "metadata": {},
   "source": [
    "## datetime.timedelta"
   ]
  },
  {
   "cell_type": "markdown",
   "id": "337c7cc1-c23c-4347-8986-fee87547374d",
   "metadata": {},
   "source": [
    "### 生成时间差\n",
    "- **`datetime.timedelta(days=0, seconds=0, microseconds=0, milliseconds=0,hours=0,weeks=0)`**：返回这个对象的毫秒"
   ]
  },
  {
   "cell_type": "code",
   "execution_count": 16,
   "id": "27ea5e8e-2bbf-428c-b930-96dbe05dfe64",
   "metadata": {},
   "outputs": [
    {
     "name": "stdout",
     "output_type": "stream",
     "text": [
      "10 days, 0:00:00 <class 'datetime.timedelta'>\n"
     ]
    }
   ],
   "source": [
    "td = datetime.timedelta(days=10)\n",
    "print(td, type(td))  # 时间差为10天"
   ]
  },
  {
   "cell_type": "code",
   "execution_count": 17,
   "id": "07ead46d-e235-4ff0-96bd-e4edb5920bff",
   "metadata": {},
   "outputs": [
    {
     "name": "stdout",
     "output_type": "stream",
     "text": [
      "10 days, 5:00:00 <class 'datetime.timedelta'>\n"
     ]
    }
   ],
   "source": [
    "td = datetime.timedelta(days=10, hours=5)\n",
    "print(td, type(td))"
   ]
  },
  {
   "cell_type": "code",
   "execution_count": 19,
   "id": "5f95e362-5e96-4231-be8a-583d59422275",
   "metadata": {},
   "outputs": [
    {
     "name": "stdout",
     "output_type": "stream",
     "text": [
      "-10 days, 0:00:00 <class 'datetime.timedelta'>\n"
     ]
    }
   ],
   "source": [
    "td = datetime.timedelta(days=-10)\n",
    "print(td, type(td)) # 时间差为-10天"
   ]
  },
  {
   "cell_type": "code",
   "execution_count": 22,
   "id": "f0a3af3d-cf56-4c0f-9988-50ac2ab2b1c3",
   "metadata": {},
   "outputs": [
    {
     "name": "stdout",
     "output_type": "stream",
     "text": [
      "-11 days, 16:00:00 <class 'datetime.timedelta'>\n"
     ]
    }
   ],
   "source": [
    "td = datetime.timedelta(days=-10, hours=-8)\n",
    "print(td, type(td)) # 时间差为-11天  hour计算在里面"
   ]
  },
  {
   "cell_type": "code",
   "execution_count": 23,
   "id": "c6ddb053-fa8b-4bfd-a653-15ac5b0bf877",
   "metadata": {},
   "outputs": [
    {
     "name": "stdout",
     "output_type": "stream",
     "text": [
      "3 days, 3:00:00 <class 'datetime.timedelta'>\n"
     ]
    }
   ],
   "source": [
    "td = datetime.timedelta(hours=75)\n",
    "print(td, type(td)) # 时间差为3天"
   ]
  },
  {
   "cell_type": "code",
   "execution_count": 24,
   "id": "92f42d2c-09ec-47fd-8f13-da20aa3de930",
   "metadata": {},
   "outputs": [
    {
     "name": "stdout",
     "output_type": "stream",
     "text": [
      "14 days, 0:00:00 <class 'datetime.timedelta'>\n"
     ]
    }
   ],
   "source": [
    "td = datetime.timedelta(weeks=2)\n",
    "print(td, type(td)) # 时间差为2周"
   ]
  },
  {
   "cell_type": "markdown",
   "id": "b6958cd1-3419-4bda-bd3c-c9765f69c1bb",
   "metadata": {},
   "source": [
    "## 计算目标日期"
   ]
  },
  {
   "cell_type": "code",
   "execution_count": 27,
   "id": "924d07fd-d88b-4196-9f65-bfd593e2872b",
   "metadata": {},
   "outputs": [
    {
     "name": "stdout",
     "output_type": "stream",
     "text": [
      "现在是 2024年11月25日 12时44分57秒\n",
      "十天后是 24年12月05日 12时44分57秒\n"
     ]
    }
   ],
   "source": [
    "dt = datetime.datetime.today()\n",
    "print(\"现在是 {}\".format(dt.strftime('%Y年%m月%d日 %H时%M分%S秒')))\n",
    "delta = datetime.timedelta(days=10)\n",
    "target = dt + delta\n",
    "print(\"十天后是 {}\".format(target.strftime('%y年%m月%d日 %H时%M分%S秒')))"
   ]
  },
  {
   "cell_type": "code",
   "execution_count": 28,
   "id": "a5fb2ab6-7133-4d8d-b161-57a64152cb63",
   "metadata": {},
   "outputs": [
    {
     "name": "stdout",
     "output_type": "stream",
     "text": [
      "现在是 2024年11月25日 12时47分16秒\n",
      "十天后是 24年12月02日 12时47分16秒\n"
     ]
    }
   ],
   "source": [
    "dt = datetime.datetime.today()\n",
    "print(\"现在是 {}\".format(dt.strftime('%Y年%m月%d日 %H时%M分%S秒')))\n",
    "delta = datetime.timedelta(weeks=1)\n",
    "target = dt + delta\n",
    "print(\"一周后是 {}\".format(target.strftime('%y年%m月%d日 %H时%M分%S秒')))"
   ]
  },
  {
   "cell_type": "code",
   "execution_count": 30,
   "id": "6390255e-8973-40e2-8c5a-258ef7c22e0f",
   "metadata": {},
   "outputs": [
    {
     "name": "stdout",
     "output_type": "stream",
     "text": [
      "现在是 2024年11月25日 12时47分45秒\n",
      "5小时前是 24年11月25日 07时47分45秒\n"
     ]
    }
   ],
   "source": [
    "dt = datetime.datetime.today()\n",
    "print(\"现在是 {}\".format(dt.strftime('%Y年%m月%d日 %H时%M分%S秒')))\n",
    "delta = datetime.timedelta(hours=-5)\n",
    "target = dt + delta\n",
    "print(\"5小时前是 {}\".format(target.strftime('%y年%m月%d日 %H时%M分%S秒')))"
   ]
  },
  {
   "cell_type": "code",
   "execution_count": 31,
   "id": "f34a4bd8-0b79-4033-b05e-4d727b82236a",
   "metadata": {},
   "outputs": [
    {
     "name": "stdout",
     "output_type": "stream",
     "text": [
      "7:59:59.999964\n"
     ]
    }
   ],
   "source": [
    "# 计算时间差\n",
    "dt1 = datetime.datetime.today()\n",
    "dt2 = datetime.datetime.utcnow()\n",
    "td = dt1 - dt2\n",
    "print(td)"
   ]
  },
  {
   "cell_type": "code",
   "execution_count": null,
   "id": "23b7ba40-d31c-4750-a5e7-3e2766a8d619",
   "metadata": {},
   "outputs": [],
   "source": []
  }
 ],
 "metadata": {
  "kernelspec": {
   "display_name": "Python 3 (ipykernel)",
   "language": "python",
   "name": "python3"
  },
  "language_info": {
   "codemirror_mode": {
    "name": "ipython",
    "version": 3
   },
   "file_extension": ".py",
   "mimetype": "text/x-python",
   "name": "python",
   "nbconvert_exporter": "python",
   "pygments_lexer": "ipython3",
   "version": "3.10.15"
  }
 },
 "nbformat": 4,
 "nbformat_minor": 5
}
