{
 "cells": [
  {
   "cell_type": "markdown",
   "id": "955c3d7c-694e-48e9-bbd8-5afb652596e0",
   "metadata": {},
   "source": [
    "# math"
   ]
  },
  {
   "cell_type": "markdown",
   "id": "d552dd18-cc1d-4533-97ae-bea9fe78c968",
   "metadata": {},
   "source": [
    "要使用这些属性和方法，首先得导入math模块"
   ]
  },
  {
   "cell_type": "code",
   "execution_count": 7,
   "id": "8701efed-27f6-4e39-8958-537e3926bd52",
   "metadata": {},
   "outputs": [],
   "source": [
    "import math"
   ]
  },
  {
   "cell_type": "markdown",
   "id": "bd50edeb-b073-4fe4-a35b-c0f232e9e656",
   "metadata": {},
   "source": [
    "## 数学常数\n",
    "- **`math.pi`**：表示圆周率，值约为 3.14159。\n",
    "- **`math.e`**：表示自然对数的底，值约为 2.71828"
   ]
  },
  {
   "cell_type": "code",
   "execution_count": 8,
   "id": "78976734-1953-4ada-beda-77fc14206977",
   "metadata": {},
   "outputs": [
    {
     "data": {
      "text/plain": [
       "3.141592653589793"
      ]
     },
     "execution_count": 8,
     "metadata": {},
     "output_type": "execute_result"
    }
   ],
   "source": [
    "math.pi"
   ]
  },
  {
   "cell_type": "code",
   "execution_count": 9,
   "id": "9973a7e1-3a52-4c63-a1a7-43f99aba8c4c",
   "metadata": {},
   "outputs": [
    {
     "data": {
      "text/plain": [
       "2.718281828459045"
      ]
     },
     "execution_count": 9,
     "metadata": {},
     "output_type": "execute_result"
    }
   ],
   "source": [
    "math.e"
   ]
  },
  {
   "cell_type": "markdown",
   "id": "44a74275-06f3-43f3-ab29-489b32035730",
   "metadata": {},
   "source": [
    "应用"
   ]
  },
  {
   "cell_type": "code",
   "execution_count": 10,
   "id": "4e98c2c4-7ea2-49f6-8c0f-a8f8962b75af",
   "metadata": {},
   "outputs": [
    {
     "data": {
      "text/plain": [
       "31.006276680299816"
      ]
     },
     "execution_count": 10,
     "metadata": {},
     "output_type": "execute_result"
    }
   ],
   "source": [
    "# 圆的面积\n",
    "r = 5\n",
    "s = math.pi * math.pi ** 2\n",
    "s"
   ]
  },
  {
   "cell_type": "code",
   "execution_count": 11,
   "id": "835832ce-ec4a-4e48-89db-df4c7cc5d740",
   "metadata": {},
   "outputs": [
    {
     "name": "stdout",
     "output_type": "stream",
     "text": [
      "e 的平方：7.3890560989306495\n"
     ]
    }
   ],
   "source": [
    "# 计算e的平方\n",
    "result = math.e ** 2\n",
    "print(f\"e 的平方：{result}\")"
   ]
  },
  {
   "cell_type": "markdown",
   "id": "258b2838-7db6-45e0-ae28-245128a6d905",
   "metadata": {},
   "source": [
    "## 舍入与绝对值\n",
    "\n",
    "- **`math.ceil(x)`**：返回大于等于 `x` 的最小整数（向上取整）。\n",
    "- **`math.floor(x)`**：返回小于等于 `x` 的最大整数（向下取整）。\n",
    "- **`math.fabs(x)`**：返回 `x` 的绝对值（可以是浮点数）。\n",
    "- **`math.trunc(x)`**：返回 `x` 的整数部分（截断）。"
   ]
  },
  {
   "cell_type": "code",
   "execution_count": 12,
   "id": "07a67f28-eea2-4175-afd2-1f9877bb4741",
   "metadata": {},
   "outputs": [
    {
     "name": "stdout",
     "output_type": "stream",
     "text": [
      "5\n",
      "4\n"
     ]
    }
   ],
   "source": [
    "# 向上取整和向下取整\n",
    "print(math.ceil(4.3))   # 输出：5\n",
    "print(math.floor(4.7))  # 输出：4"
   ]
  },
  {
   "cell_type": "code",
   "execution_count": 13,
   "id": "88073998-3e75-45e0-8480-35f0b50af0b9",
   "metadata": {},
   "outputs": [
    {
     "name": "stdout",
     "output_type": "stream",
     "text": [
      "5.3\n"
     ]
    }
   ],
   "source": [
    "# 绝对值\n",
    "print(math.fabs(-5.3))  # 输出：5.3"
   ]
  },
  {
   "cell_type": "code",
   "execution_count": 14,
   "id": "f76e12c4-2c26-48cc-91b8-7b90d16b477a",
   "metadata": {},
   "outputs": [
    {
     "name": "stdout",
     "output_type": "stream",
     "text": [
      "4\n"
     ]
    }
   ],
   "source": [
    "# 截断\n",
    "print(math.trunc(4.9))  # 输出：4"
   ]
  },
  {
   "cell_type": "markdown",
   "id": "bb349920-0186-417e-8a90-79283fedcb18",
   "metadata": {},
   "source": [
    "## 幂运算与对数\n",
    "- **`math.pow(x, y)`**：返回 `x` 的 `y` 次幂（结果是浮点数）。\n",
    "- **`math.sqrt(x)`**：返回 `x` 的平方根。\n",
    "- **`math.log(x[, base])`**：计算以 `base` 为底的对数，默认是自然对数。\n",
    "- **`math.log10(x)`**：返回以 10 为底的对数。\n",
    "- **`math.exp(x)`**：返回 `e` 的 `x` 次幂。"
   ]
  },
  {
   "cell_type": "code",
   "execution_count": 15,
   "id": "4ffcaf9a-8f7e-41be-9732-eb13ccc3514b",
   "metadata": {},
   "outputs": [
    {
     "name": "stdout",
     "output_type": "stream",
     "text": [
      "8.0\n",
      "4.0\n"
     ]
    }
   ],
   "source": [
    "# 幂运算与平方根\n",
    "print(math.pow(2, 3))   # 输出：8.0\n",
    "print(math.sqrt(16))    # 输出：4.0"
   ]
  },
  {
   "cell_type": "code",
   "execution_count": 16,
   "id": "0b8c1ab6-44cd-40e1-9541-ef03546e628d",
   "metadata": {},
   "outputs": [
    {
     "name": "stdout",
     "output_type": "stream",
     "text": [
      "3.0\n",
      "2.0\n"
     ]
    }
   ],
   "source": [
    "# 对数运算\n",
    "print(math.log(8, 2))   # 输出：3.0\n",
    "print(math.log10(100))  # 输出：2.0"
   ]
  },
  {
   "cell_type": "code",
   "execution_count": 17,
   "id": "5c227a6a-a002-4299-8222-77f6ff75b2d7",
   "metadata": {},
   "outputs": [
    {
     "name": "stdout",
     "output_type": "stream",
     "text": [
      "7.38905609893065\n"
     ]
    }
   ],
   "source": [
    "# 指数函数\n",
    "print(math.exp(2)) "
   ]
  },
  {
   "cell_type": "markdown",
   "id": "26e0ba1f-6743-4cff-84eb-a03a713108fe",
   "metadata": {},
   "source": [
    "## 三角函数\n",
    "- **`math.sin(x)`**：返回 `x` 弧度的正弦值。\n",
    "- **`math.cos(x)`**：返回 `x` 弧度的余弦值。\n",
    "- **`math.tan(x)`**：返回 `x` 弧度的正切值。\n",
    "- **`math.asin(x)`**、**`math.acos(x)`**、**`math.atan(x)`**：分别返回反正弦、反余弦、反正切值。\n",
    "- **`math.degrees(x)`**：将弧度转换为角度。\n",
    "- **`math.radians(x)`**：将角度转换为弧度。"
   ]
  },
  {
   "cell_type": "code",
   "execution_count": 21,
   "id": "41a535f2-adb1-4518-beca-f205058af2d6",
   "metadata": {},
   "outputs": [
    {
     "name": "stdout",
     "output_type": "stream",
     "text": [
      "0.49999999999999994\n",
      "0.8660254037844387\n",
      "0.5773502691896257\n"
     ]
    }
   ],
   "source": [
    "# 正弦、余弦、正切\n",
    "print(math.sin(math.pi/6))    # 输出：0.49999999999999994\n",
    "print(math.cos(math.pi/6))    # 输出：0.8660254037844387\n",
    "print(math.tan(math.pi/6))    # 输出：0.5773502691896257"
   ]
  },
  {
   "cell_type": "code",
   "execution_count": 23,
   "id": "40f46298-7bb3-4701-86b4-af310b009ca5",
   "metadata": {},
   "outputs": [
    {
     "name": "stdout",
     "output_type": "stream",
     "text": [
      "90.0\n"
     ]
    }
   ],
   "source": [
    "# 角度与弧度互换\n",
    "print(math.degrees(math.pi / 2))  # 输出：90.0"
   ]
  },
  {
   "cell_type": "code",
   "execution_count": 24,
   "id": "76382341-21c4-4388-bc8e-cc49f997e035",
   "metadata": {},
   "outputs": [
    {
     "name": "stdout",
     "output_type": "stream",
     "text": [
      "0.5235987755982988\n"
     ]
    }
   ],
   "source": [
    "print(math.radians(30))  # 将 30 度转换为弧度  pi / 6"
   ]
  },
  {
   "cell_type": "markdown",
   "id": "7be632bb-1dee-473b-a259-5595967f7b11",
   "metadata": {},
   "source": [
    "## 组合与阶乘\n",
    "- **`math.factorial(x)`**：返回 `x` 的阶乘（`x` 必须为非负整数）。\n",
    "- **`math.comb(n, k)`**：返回从 `n` 个元素中选取 `k` 个元素的组合数。\n",
    "- **`math.perm(n, k)`**：返回从 `n` 个元素中选取 `k` 个元素的排列数。\n"
   ]
  },
  {
   "cell_type": "code",
   "execution_count": 25,
   "id": "ed72631f-242a-4a33-9e45-56fb1005aca2",
   "metadata": {},
   "outputs": [
    {
     "name": "stdout",
     "output_type": "stream",
     "text": [
      "120\n"
     ]
    }
   ],
   "source": [
    "# 阶乘\n",
    "print(math.factorial(5))  # 输出：120"
   ]
  },
  {
   "cell_type": "code",
   "execution_count": 27,
   "id": "2d78d60c-2727-40fa-b52c-3fe48635ef75",
   "metadata": {},
   "outputs": [
    {
     "name": "stdout",
     "output_type": "stream",
     "text": [
      "10\n",
      "20\n"
     ]
    }
   ],
   "source": [
    "# 组合数和排列数\n",
    "print(math.comb(5, 2))    # 输出：10  组合\n",
    "print(math.perm(5, 2))    # 输出：20  排序"
   ]
  },
  {
   "cell_type": "markdown",
   "id": "63c7095c-f757-4d49-829b-f8f8bde2ebda",
   "metadata": {},
   "source": [
    "## 数学特殊函数\n",
    "- **`math.gcd(a, b)`**：返回 `a` 和 `b` 的最大公约数。\n",
    "- **`math.lcm(a, b)`**：返回 `a` 和 `b` 的最小公倍数（Python 3.9+）。\n",
    "- **`math.isqrt(x)`**：返回 `x` 的整数平方根（比 `math.sqrt` 更快）。"
   ]
  },
  {
   "cell_type": "code",
   "execution_count": 29,
   "id": "c41935ac-b91a-4b49-89a1-ab8c430c1b6a",
   "metadata": {},
   "outputs": [
    {
     "name": "stdout",
     "output_type": "stream",
     "text": [
      "3\n",
      "60\n"
     ]
    }
   ],
   "source": [
    "# 最大公约数和最小公倍数\n",
    "print(math.gcd(12, 15))  # 输出：3  最大公约数\n",
    "print(math.lcm(12, 15))  # 输出：60  最小公倍数"
   ]
  },
  {
   "cell_type": "code",
   "execution_count": 31,
   "id": "ff59c51a-f564-4af4-a78e-b44921897fdc",
   "metadata": {},
   "outputs": [
    {
     "name": "stdout",
     "output_type": "stream",
     "text": [
      "3\n"
     ]
    }
   ],
   "source": [
    "# 整数平方根\n",
    "print(math.isqrt(15))    # 输出：3 只取整数部分"
   ]
  },
  {
   "cell_type": "code",
   "execution_count": null,
   "id": "2de37e4b-b663-487d-9ca8-3c85bc389340",
   "metadata": {},
   "outputs": [],
   "source": []
  }
 ],
 "metadata": {
  "kernelspec": {
   "display_name": "Python 3 (ipykernel)",
   "language": "python",
   "name": "python3"
  },
  "language_info": {
   "codemirror_mode": {
    "name": "ipython",
    "version": 3
   },
   "file_extension": ".py",
   "mimetype": "text/x-python",
   "name": "python",
   "nbconvert_exporter": "python",
   "pygments_lexer": "ipython3",
   "version": "3.10.15"
  }
 },
 "nbformat": 4,
 "nbformat_minor": 5
}
