{
 "cells": [
  {
   "cell_type": "markdown",
   "id": "c1585313-4734-4449-b413-9b2cf160cb43",
   "metadata": {},
   "source": [
    "## 序列的切片操作（非常重要）\n",
    "序列是指：内容连续、有序、可使用下标索引的一类数据容器，就是我们上述学到的列表、元组、字符串、均可以视为序列<br>\n",
    "序列的常用操作-切片<br>\n",
    "\n",
    "    切片的意思是：在原序列中切出一个子序列\n",
    "    切片的语法格式是：序列[起始下标:结束下标:步长]\n",
    "    起始下标：开始分割（切片）的起点，表示从这个位置开始，包含这个元素。不填默认第一个元素\n",
    "    结束下标：结束分割（切片）的终点，表示从这个位置结束，但不包括这个元素。不填默认到最后一个元素，但包含最后一个元素\n",
    "    步长：元素与元素之间的差值。不填默认为1\n",
    "       当步长为正时，从左往右进行切片\n",
    "       当步长为负时，从右往左进行切片\n",
    "\n",
    "注意：\n",
    "    \n",
    "    1.起始下标和结束下标都是对应的下标。\n",
    "    2.起始下标和结束下标即可以使用正下标,也可以使用负下标"
   ]
  },
  {
   "cell_type": "code",
   "execution_count": 2,
   "id": "52a07f2d-61d8-4576-8935-46ad31dd2335",
   "metadata": {},
   "outputs": [
    {
     "data": {
      "text/plain": [
       "[2, 4, 6]"
      ]
     },
     "execution_count": 2,
     "metadata": {},
     "output_type": "execute_result"
    }
   ],
   "source": [
    "# 实例代码\n",
    "# 列表序列\n",
    "test_list = [1,2,3,4,5,6]\n",
    "new_test_list = test_list[1:2]\n",
    "new_test_list1 = test_list[1::2]\n",
    "new_test_list1"
   ]
  },
  {
   "cell_type": "code",
   "execution_count": 3,
   "id": "0dc8afd8-a97b-4da8-9979-0a1566555457",
   "metadata": {},
   "outputs": [
    {
     "name": "stdout",
     "output_type": "stream",
     "text": [
      "(2, 3, 4, 5) (2, 4)\n"
     ]
    }
   ],
   "source": [
    "# 实例代码\n",
    "# 元组序列\n",
    "test_tuple = (1,2,3,4,5,6)\n",
    "new_test_tuple = test_tuple[1:-1]\n",
    "new_test_tuple1 = test_tuple[1:-1:2]\n",
    "print(new_test_tuple,new_test_tuple1)"
   ]
  },
  {
   "cell_type": "code",
   "execution_count": 4,
   "id": "68dd6179-47db-4e6b-a0a2-692f0a491c32",
   "metadata": {},
   "outputs": [
    {
     "name": "stdout",
     "output_type": "stream",
     "text": [
      "bcde bd\n"
     ]
    }
   ],
   "source": [
    "# 实例代码\n",
    "# 字符串\n",
    "test_str = \"abcdef\"\n",
    "new_test_str = test_str[1:-1]\n",
    "new_test_str1 = test_str[1:-1:2]\n",
    "print(new_test_str,new_test_str1)"
   ]
  },
  {
   "cell_type": "code",
   "execution_count": 5,
   "id": "c10ce6dc-2782-4f83-8c8a-dde8b8d6a737",
   "metadata": {},
   "outputs": [
    {
     "data": {
      "text/plain": [
       "[6, 5, 4, 3, 2, 1]"
      ]
     },
     "execution_count": 5,
     "metadata": {},
     "output_type": "execute_result"
    }
   ],
   "source": [
    "# 步长为负时\n",
    "test_list = [1,2,3,4,5,6]\n",
    "test_list[::-1]  # 从右往左进行切片  第一个元素默认为从右往左的起点 "
   ]
  },
  {
   "cell_type": "code",
   "execution_count": 6,
   "id": "a207a710-a3a9-491e-927c-7109ffa930b9",
   "metadata": {},
   "outputs": [
    {
     "data": {
      "text/plain": [
       "[6, 5]"
      ]
     },
     "execution_count": 6,
     "metadata": {},
     "output_type": "execute_result"
    }
   ],
   "source": [
    "test_list[-1:-3:-1]  # 使用负下标"
   ]
  },
  {
   "cell_type": "code",
   "execution_count": 7,
   "id": "935005af-ac6c-442a-982b-df9fb0cb91dd",
   "metadata": {},
   "outputs": [
    {
     "data": {
      "text/plain": [
       "[2, 3, 4, 5]"
      ]
     },
     "execution_count": 7,
     "metadata": {},
     "output_type": "execute_result"
    }
   ],
   "source": [
    "test_list[1:-1:1]  # 负下标和正下标结合使用"
   ]
  },
  {
   "cell_type": "markdown",
   "id": "2b194bec-d802-4932-ad7a-e690622671b7",
   "metadata": {},
   "source": [
    "### 总结\n",
    "1.切片是针对序列的操作，序列是有下标的数据容器（列表、元组、字符串）\\\n",
    "2.切片语法: 序列`[start:end:step]`\n",
    "\n",
    "具体含义为：\\\n",
    "start: 切片开始的索引下标（包含），默认从第一个元素开始\\\n",
    "end: 切片结束的索引下标（不包含），默认到最后一个元素结束（包含）\\\n",
    "step: 切片步长（元素下标之间的差值）\\\n",
    "\t步长为正时，从左往右进行切片\\\n",
    "\t步长为负时，从右往左进行切片\n",
    "\n",
    "做题技巧：先判断步长为正还是为负，然后再去找起点和终点下标"
   ]
  },
  {
   "cell_type": "code",
   "execution_count": null,
   "id": "ed5b15d7-0668-4e57-82d4-0eae3997e99c",
   "metadata": {},
   "outputs": [],
   "source": []
  }
 ],
 "metadata": {
  "kernelspec": {
   "display_name": "Python 3 (ipykernel)",
   "language": "python",
   "name": "python3"
  },
  "language_info": {
   "codemirror_mode": {
    "name": "ipython",
    "version": 3
   },
   "file_extension": ".py",
   "mimetype": "text/x-python",
   "name": "python",
   "nbconvert_exporter": "python",
   "pygments_lexer": "ipython3",
   "version": "3.10.15"
  }
 },
 "nbformat": 4,
 "nbformat_minor": 5
}
