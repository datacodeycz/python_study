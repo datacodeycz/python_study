{
 "cells": [
  {
   "cell_type": "markdown",
   "id": "1d055401-494d-41bb-a985-ae047942393b",
   "metadata": {},
   "source": [
    "## 数据容器-set(集合)\n",
    "通过上述学习到的三个数据容器，我们能看出来，它们都可以支持重复元素的，但是有时候我们的需求，是希望一个容器里面存放唯一的元素，就是没有重复的元素，这个数据容器就是set集合，在set集合中，是不允许出现重复元素的\n",
    "\n",
    "集合的特点：\n",
    "1. 无序（没有下标）\n",
    "2. 存储不同类型的元素（只能存储不可修改的数据类型的元素）\n",
    "3. 存储唯一的元素（如果存储了一样的元素 会自动过滤掉）\n",
    "4. 可以被修改"
   ]
  },
  {
   "cell_type": "markdown",
   "id": "5eb7f93d-ba09-4de2-af0d-0846df9df1e8",
   "metadata": {},
   "source": [
    "### 集合的创建\n",
    "集合的创建主要是借助{}实现的，{}中存放元素，元素之间用逗号分开\n",
    "\n",
    "注意：如果需要创建一个空的集合，只能`set`"
   ]
  },
  {
   "cell_type": "code",
   "execution_count": 1,
   "id": "705c5877-eba1-4fe5-a2ad-9232998da950",
   "metadata": {},
   "outputs": [
    {
     "name": "stdout",
     "output_type": "stream",
     "text": [
      "{1, 2, 3, 4}\n",
      "set()\n"
     ]
    }
   ],
   "source": [
    "# 实例代码\n",
    "# 集合的创建\n",
    "# 创建一个字面量的集合\n",
    "{1,2,3,4}\n",
    "{}  # 空的集合字面量\n",
    "# 创建一个用变量指向的集合\n",
    "test_set = {1,2,3,4}\n",
    "test_set1 = set()  # 该方式只能将其他数据容器的类型转换成集合，不能用于创建有数集合，只能创建一个空集合\n",
    "print(test_set)\n",
    "print(test_set1)"
   ]
  },
  {
   "cell_type": "code",
   "execution_count": 2,
   "id": "dd4f8c55-c218-4f40-b9c0-7835d67b01c1",
   "metadata": {},
   "outputs": [
    {
     "name": "stdout",
     "output_type": "stream",
     "text": [
      "{1, 2}\n"
     ]
    }
   ],
   "source": [
    "# 测试 - 在创建集合的过程中 如果出现了重复的元素， 会发生什么\n",
    "a = {1,2,2,1}\n",
    "print(a)  # 通过结果能看出来，该集合中的元素直接将重复的元素去除掉了，并没有报错"
   ]
  },
  {
   "cell_type": "markdown",
   "id": "d41d8185-2f4e-4198-b62c-648457635de3",
   "metadata": {},
   "source": [
    "### 集合的操作\n",
    "1.由于集合是无序的（元素之间没有对应的索引），所以集合是不支持下标索引访问的<br>\n",
    "2.集合和列表一样，里面的元素是允许被修改的<br>\n",
    "<br>\n",
    "修改的一些操作<br>\n",
    "1.添加指定元素`set.add(元素)`，如果集合中存在该元素，不会保证，正常执行，只是不会添加进去<br>\n",
    "2.删除指定元素，`set.remove(元素)`，,返回值为None，就是说明只是单纯的删了，如果集合中不存在该元素，则删除失败 并报错<br>\n",
    "3.从集合中随机取出元素`set.pop()` 从集合中随机取出一个元素，这个元素会在该集合中被删除，需要一个变量去接收这个被取出的元素<br>\n",
    "4.清空集合`set.clear()`<br>"
   ]
  },
  {
   "cell_type": "code",
   "execution_count": 3,
   "id": "53eb21df-db87-4c67-ac56-ae9edb94ece1",
   "metadata": {},
   "outputs": [
    {
     "name": "stdout",
     "output_type": "stream",
     "text": [
      "{1, 2, 3, 4, 5}\n"
     ]
    }
   ],
   "source": [
    "# 实例练习\n",
    "test_set = {1,2,3,4}\n",
    "# 添加指定元素add()\n",
    "test_set.add(1)  # 在集合中存在了，正常执行，但不会添加进去了\n",
    "test_set.add(5)  # 将5添加进去了\n",
    "print(test_set)  "
   ]
  },
  {
   "cell_type": "code",
   "execution_count": 4,
   "id": "6faa9a1e-d6b3-48a1-b35e-e5e5ba4893bf",
   "metadata": {},
   "outputs": [
    {
     "name": "stdout",
     "output_type": "stream",
     "text": [
      "None\n",
      "{2, 3, 4, 5}\n"
     ]
    }
   ],
   "source": [
    "# 删除指定元素\n",
    "print(test_set.remove(1))  # 删除一个集合中存在的元素\n",
    "print(test_set)\n",
    "# test_set.remove(6)  # 删除一个集合中不存在的元素 和删除失败并报错"
   ]
  },
  {
   "cell_type": "code",
   "execution_count": 5,
   "id": "011ccc41-113f-49c8-b5c1-b2f9ed7623e6",
   "metadata": {},
   "outputs": [
    {
     "name": "stdout",
     "output_type": "stream",
     "text": [
      "1\n",
      "{2, 3, 4}\n"
     ]
    }
   ],
   "source": [
    "# 随机取出元素\n",
    "test_set = {1,2,3,4}\n",
    "set_num = test_set.pop()\n",
    "print(set_num)\n",
    "print(test_set)\n",
    "\n",
    "# 问题：如果集合中没有元素了，怎么办 还能取出来吗\n",
    "test_set1 = {}\n",
    "# test_set1.pop()  # 当集合中没有元素后，如果再向集合中取元素，会报错"
   ]
  },
  {
   "cell_type": "code",
   "execution_count": 6,
   "id": "2ecbb7c4-fbee-406c-a183-c7c6534a4d37",
   "metadata": {},
   "outputs": [
    {
     "name": "stdout",
     "output_type": "stream",
     "text": [
      "set()\n"
     ]
    }
   ],
   "source": [
    "# 清空集合\n",
    "test_set2 = {1,2,3,4,5}\n",
    "test_set2.clear()  # 清空集合中的元素\n",
    "print(test_set2)"
   ]
  },
  {
   "cell_type": "markdown",
   "id": "22882e00-b6be-46a1-8138-380131a1936a",
   "metadata": {},
   "source": [
    "集合特有的运算操作\n",
    "\n",
    "|操作符| 描述|\n",
    "|-----|-----|\n",
    "|S&T |交集，返回一个新集合，包括同时在集合S和T中的元素|\n",
    "|S\\|T |并集，返回一个新集合，包括集合S和T中的所有元素|\n",
    "|S-T |差集，返回一个新集合，包括在集合S中但不在集合T中的元素操作|\n",
    "|S^T |补集，返回一个新集合，包括集合S和T中的元素，但不包括同时在集合S和T中的元素|\n",
    "|S<=T| 如果S与T相同或S是T的子集，返回True，否则返回False，可以用S<T判断S是否是T的真子集|\n",
    "|S>=T| 如果S与T相同或S是T的超集，返回True，否则返回False，可以用S>T判断S是否是T的真超集|"
   ]
  },
  {
   "cell_type": "code",
   "execution_count": 2,
   "id": "4be2ee21-866a-453e-8dc2-d3aa5fd32795",
   "metadata": {},
   "outputs": [
    {
     "name": "stdout",
     "output_type": "stream",
     "text": [
      "{1, 2}\n",
      "{1, 2, 3, 4}\n",
      "{3}\n",
      "{3, 4}\n",
      "False\n",
      "True\n"
     ]
    }
   ],
   "source": [
    "set01 = {1,2,3}\n",
    "set02 = {1,2,4}\n",
    "print(set01 & set02) # 交集 {1, 2}\n",
    "print(set01 | set02) # 并集 {1, 2, 3, 4}\n",
    "print(set01 - set02) # set01关于set02的差集 {3}\n",
    "print(set01 ^ set02) # set01 & set02 的补集\n",
    "print(set01 <= set02) # set02是否包含于set01\n",
    "set03 = {1,2}\n",
    "print(set03 <= set02)"
   ]
  },
  {
   "cell_type": "markdown",
   "id": "30cac22d-b26f-443c-8c5c-c15051d7e1f7",
   "metadata": {},
   "source": [
    "常用的方法\n",
    "\n",
    "1.获取两个集合的差集：`集合1.difference(集合2)`<br>\n",
    "&emsp;功能：取出集合1和集合2的差集（集合1中有的 集合2中没有的）<br>\n",
    "&emsp;输入（参数）：1.要进行差集的集合<br>\n",
    "&emsp;输出（返回）：返回一个进行差集的结果，集合1和集合2不变<br>\n",
    "2.删除2个集合中的差集：`集合1.difference_update(集合2)`<br>\n",
    "&emsp;功能：删除集合1中和集合2相同的元素<br>\n",
    "&emsp;输入：进行比较的集合<br>\n",
    "&emsp;输出：None<br>\n",
    "3.获取两个集合的并集`集合1.union(集合2)`<br>\n",
    "&emsp;功能：集合1和集合2合并成新的集合<br>\n",
    "&emsp;输入：需要合并的集合<br>\n",
    "&emsp;输出：返回合并后的集合，原集合不变<br>\n",
    "访问的一些操作<br>\n",
    "4.`len(set)`:统计集合内有多少元素<br>"
   ]
  },
  {
   "cell_type": "code",
   "execution_count": 3,
   "id": "5227d0c1-c64e-4aae-a848-dfba85ddc36e",
   "metadata": {},
   "outputs": [
    {
     "name": "stdout",
     "output_type": "stream",
     "text": [
      "{3, 4}\n"
     ]
    }
   ],
   "source": [
    "# set.difference()\n",
    "test_set1 = {1,2,3,4}\n",
    "test_set2 = {1,2,5,6}\n",
    "new_test_set = test_set1.difference(test_set2)\n",
    "print(new_test_set)  # set1中有的，set2中没有的"
   ]
  },
  {
   "cell_type": "code",
   "execution_count": 8,
   "id": "6ff3f847-1569-431d-ae35-873ba5e14546",
   "metadata": {},
   "outputs": [
    {
     "name": "stdout",
     "output_type": "stream",
     "text": [
      "{3, 4} {1, 2, 5, 6}\n"
     ]
    }
   ],
   "source": [
    "# set.difference_update()\n",
    "test_set1 = {1,2,3,4}\n",
    "test_set2 = {1,2,5,6}\n",
    "test_set1.difference_update(test_set2)  # 删除了集合1中与集合2中重复的元素，集合2不变\n",
    "print(test_set1,test_set2) "
   ]
  },
  {
   "cell_type": "code",
   "execution_count": 9,
   "id": "f0be0d04-872e-451f-8aef-a646b882add6",
   "metadata": {},
   "outputs": [
    {
     "name": "stdout",
     "output_type": "stream",
     "text": [
      "{1, 2, 3, 4, 5, 6}\n",
      "{1, 2, 3, 4}\n",
      "{1, 2, 5, 6}\n"
     ]
    }
   ],
   "source": [
    "# set.union()\n",
    "test_set1 = {1,2,3,4}\n",
    "test_set2 = {1,2,5,6}\n",
    "new_test_set = test_set1.union(test_set2)\n",
    "print(new_test_set)\n",
    "print(test_set1)\n",
    "print(test_set2)\n",
    "\n",
    "# 上述代码表示进行了合并，但是并没有去改变集合1和集合2中的元素"
   ]
  },
  {
   "cell_type": "code",
   "execution_count": 10,
   "id": "a0875e00-ccd5-445d-9fca-8b7084f0629c",
   "metadata": {},
   "outputs": [
    {
     "name": "stdout",
     "output_type": "stream",
     "text": [
      "5\n"
     ]
    }
   ],
   "source": [
    "# len()\n",
    "test_set1 = {1,2,3,4,5}\n",
    "print(len(test_set1))"
   ]
  },
  {
   "cell_type": "markdown",
   "id": "94a1d5f6-cb00-45b5-87e6-f5f2dd8fabc7",
   "metadata": {},
   "source": [
    "### 集合的遍历\n",
    "由于for循环遍历是从容器中取元素，所以我们可以使用for循环进行遍历。<br>\n",
    "但是while循环遍历是我们借助索引下标进行遍历，集合没有索引下标，所以不能直接实现遍历，但是我们可不可以间接实现遍历啦？"
   ]
  },
  {
   "cell_type": "code",
   "execution_count": 11,
   "id": "820c9f59-fe56-46e0-ab50-86e15699194a",
   "metadata": {},
   "outputs": [
    {
     "name": "stdout",
     "output_type": "stream",
     "text": [
      "abyl"
     ]
    }
   ],
   "source": [
    "# for循环遍历\n",
    "test_set_for = {\"a\",\"b\",\"y\",\"l\"};\n",
    "for x in test_set_for:\n",
    "    print(x,end=\"\")"
   ]
  },
  {
   "cell_type": "code",
   "execution_count": 12,
   "id": "f5446a78-cfb7-4b7c-88c5-e05f2972331c",
   "metadata": {},
   "outputs": [
    {
     "name": "stdout",
     "output_type": "stream",
     "text": [
      "1\n",
      "2\n",
      "3\n",
      "4\n"
     ]
    }
   ],
   "source": [
    "# while循环遍历  高级\n",
    "\n",
    "test_set_while = {1,2,3,4}\n",
    "while True:\n",
    "    if(len(test_set_while) == 0):\n",
    "        break\n",
    "    print(test_set_while.pop())"
   ]
  },
  {
   "cell_type": "markdown",
   "id": "4f4f8779-5f48-4fd9-9c11-55806ceb8d2e",
   "metadata": {},
   "source": [
    "### 集合小结\n",
    "1.集合中可以容器多个数据<br>\n",
    "2.集合中可以容纳不同类型的数据<br>\n",
    "3.数据是无序存储的（不支持下标索引）<br>\n",
    "4.集合中的元素都是唯一的，没有重复元素<br>\n",
    "5.集合是可以被修改的<br>"
   ]
  },
  {
   "cell_type": "markdown",
   "id": "2e622d38-6e36-4009-abd3-2b53d601c453",
   "metadata": {},
   "source": [
    "## 数据容器-dict(字典)\n",
    "字典这里容器，我们可以通过生活中的字典来讲述，字典中有很多字，每一个字都应对着不同的意思，“字”跟“字的意思”是一一对应的关系，同样在我们字典容器一样，我们有一个字”对应着“字的意思”，就比如说我们的成绩，你的学号或是姓名，对应着你的成绩，都是一一对应的，虽然说我们的成绩可能一致，但是这个成绩属于不同学生的成绩。<br>"
   ]
  },
  {
   "cell_type": "markdown",
   "id": "1dded2fe-4e90-46d8-af13-28623fd6fc2e",
   "metadata": {},
   "source": [
    "### 字典的创建\n",
    "字典的概念：<br>\n",
    "&emsp;字典的存储方式是以键值对的方式存储的，key-value\n",
    "字典的定义：<br>\n",
    "&emsp;使用{}，存储的元素是键值对（一对一对的形式）"
   ]
  },
  {
   "cell_type": "code",
   "execution_count": 14,
   "id": "76c48e77-0725-467c-a7de-3ab865685725",
   "metadata": {},
   "outputs": [
    {
     "name": "stdout",
     "output_type": "stream",
     "text": [
      "{'ycz': 100, 'qwe': 98, 'asd': 90}\n",
      "{}\n"
     ]
    }
   ],
   "source": [
    "# 实例\n",
    "test_dict = {\"ycz\":100,\"qwe\":98,\"asd\":90}\n",
    "print(test_dict)\n",
    "\n",
    "'''\n",
    "ps:\n",
    "1.key - value 可以是任意类型的数据，但是key不能是一个字典\n",
    "2.key不可重复，重复会对原数据覆盖\n",
    "'''\n",
    "test_dict1 = dict()  # 使用dict()函数可以创建一个空的字典\n",
    "print(test_dict1)"
   ]
  },
  {
   "cell_type": "markdown",
   "id": "19e922da-4303-4f56-acb7-aca479e310ef",
   "metadata": {},
   "source": [
    "### 字典的操作\n",
    "说明：由于字典也没有索引下标，所以不能使用下标索引来获得对应的值，但是可以通过key来找到对应的value值<br>\n",
    "1.使用key找到对应的value `dict[key]`<br>\n",
    "2.新增元素`dict[字典中不存在的key] = value`  注意：key不可重复，所以如果使用了字典中存在的key，会将之前的key对应的value覆盖掉<br>\n",
    "3.删除元素`dict.pop(key)`通过key找到对应的value，删除该键值对<br>\n",
    "4.清空元素`dict.clear()` 字典被修改，元素被清空<br>\n",
    "5.获取字典中所有的key值 `dict.keys()`,返回字典中的全部key<br>\n",
    "6.获取字典中全部元素的数量`len(dict)`<br>"
   ]
  },
  {
   "cell_type": "code",
   "execution_count": 15,
   "id": "d9b78a62-3292-402a-8113-2dd52a0fc88c",
   "metadata": {},
   "outputs": [
    {
     "data": {
      "text/plain": [
       "{'java': 100, 'mysql': 100, 'js': 100}"
      ]
     },
     "execution_count": 15,
     "metadata": {},
     "output_type": "execute_result"
    }
   ],
   "source": [
    "# 实例代码\n",
    "# 1.使用key找到对应的value  这里的key就很像之前学习的列表的下标，只是列表的下标只能是0，1 这种， 这里的key可以是任意值（除了字典）\n",
    "test_dict = {\n",
    "    \"yuanchengzhi\":{\n",
    "        \"java\":100,\n",
    "        \"mysql\":100,\n",
    "        \"js\":100\n",
    "    }\n",
    "}\n",
    "test_dict[\"yuanchengzhi\"]"
   ]
  },
  {
   "cell_type": "code",
   "execution_count": 16,
   "id": "b57fec5c-f04f-4f7f-affa-a129a043b06a",
   "metadata": {},
   "outputs": [
    {
     "name": "stdout",
     "output_type": "stream",
     "text": [
      "{'yuanchengzhi': {'java': 100, 'mysql': 100, 'js': 100}, 'qwe': {'java': 90, 'mysql': 89, 'js': 90}}\n"
     ]
    }
   ],
   "source": [
    "# 增加一个新的元素\n",
    "test_dict = {\n",
    "    \"yuanchengzhi\":{\n",
    "        \"java\":100,\n",
    "        \"mysql\":100,\n",
    "        \"js\":100\n",
    "    }\n",
    "}\n",
    "test_dict[\"qwe\"] = {\n",
    "    \"java\":90,\n",
    "    \"mysql\":89,\n",
    "    \"js\":90\n",
    "}\n",
    "print(test_dict)"
   ]
  },
  {
   "cell_type": "code",
   "execution_count": 17,
   "id": "808ba977-9007-4989-a484-1f38fef96679",
   "metadata": {},
   "outputs": [
    {
     "name": "stdout",
     "output_type": "stream",
     "text": [
      "{'yuanchengzhi': {'java': 100, 'mysql': 100, 'js': 100}}\n"
     ]
    }
   ],
   "source": [
    "# 删除元素\n",
    "test_dict = {\n",
    "    'yuanchengzhi': {\n",
    "        'java': 100, \n",
    "        'mysql': 100, \n",
    "        'js': 100\n",
    "    }, \n",
    "    'qwe': {\n",
    "        'java': 90, \n",
    "        'mysql': 89, \n",
    "        'js': 90\n",
    "    }\n",
    "}\n",
    "test_dict.pop(\"qwe\");\n",
    "print(test_dict)"
   ]
  },
  {
   "cell_type": "code",
   "execution_count": 18,
   "id": "7e49537f-4b3b-41ae-94cb-600879d413a6",
   "metadata": {},
   "outputs": [
    {
     "name": "stdout",
     "output_type": "stream",
     "text": [
      "{}\n"
     ]
    }
   ],
   "source": [
    "# 清空字典中的元素\n",
    "test_dict = {\"yuanchengzhi\":{\"age\" : 18}}\n",
    "test_dict.clear()\n",
    "print(test_dict) # 清空字典中的元素"
   ]
  },
  {
   "cell_type": "code",
   "execution_count": 19,
   "id": "c1a2e0d3-d32d-4bb2-ad44-99be29a64042",
   "metadata": {},
   "outputs": [
    {
     "name": "stdout",
     "output_type": "stream",
     "text": [
      "1\n"
     ]
    }
   ],
   "source": [
    "# 计算字典内的元素数量（注意：判断哪个字典就计算的哪个字典内元素的数量，只有字典中的字典数量不在考虑范围内）\n",
    "test_dict = {\"yuanchengzhi\":{\"age\" : 18}}\n",
    "print(len(test_dict));  # 1"
   ]
  },
  {
   "cell_type": "markdown",
   "id": "64a69f41-e6df-4665-aa9b-a8741ae59c3d",
   "metadata": {},
   "source": [
    "### 字典的遍历\n",
    "字典的遍历一般主要是借助key去遍历，通过key去遍历value，或是直接遍历key</br>"
   ]
  },
  {
   "cell_type": "code",
   "execution_count": 21,
   "id": "001b0cbc-e88b-4b86-b084-c9e41f6e70bd",
   "metadata": {},
   "outputs": [
    {
     "name": "stdout",
     "output_type": "stream",
     "text": [
      "01\n",
      "02\n",
      "03\n",
      "01:qwe\n",
      "02:asd\n",
      "03:zxc\n"
     ]
    }
   ],
   "source": [
    "# 使用for循环进行遍历\n",
    "test_dict = {\n",
    "    \"01\": \"qwe\",\n",
    "    \"02\": \"asd\",\n",
    "    \"03\": \"zxc\"\n",
    "}\n",
    "'''\n",
    "注意：由于只能通过key来找到value，而在不知道key值的时候，是无法找到key-value的，并且key的遍历只能通过for循环，\n",
    "所以字典不能使用while来实现\n",
    "'''\n",
    "\n",
    "# 下面的方式x获取的是字典中key，可以通过这种方式来遍历key，然后通过key找到value\n",
    "for x in test_dict:\n",
    "    '''遍历key'''\n",
    "    print(x)\n",
    "\n",
    "for x in test_dict:\n",
    "    '''遍历key:value'''\n",
    "    print(f\"{x}:{test_dict[x]}\")\n",
    "\n"
   ]
  },
  {
   "cell_type": "markdown",
   "id": "739a42c3-0e8b-438c-a406-4c61d5d49040",
   "metadata": {},
   "source": [
    "### 字典的特点\n",
    "1. 可以容纳多个数据\n",
    "2. 可以容纳不同类型的数据（注意key不能是字典类型的）\n",
    "3. 每一份数据都是key-value键值对类型的\n",
    "4. 可以通过key来获取vlaue，且key不可重复（当输入了重复的key，会覆盖之前的value）\n",
    "5. 不支持下标索引\n",
    "6. 可以修改（增加或删除修改元素）\n",
    "7. 可以通过for循环遍历，但是不能通过while循环遍历\n"
   ]
  },
  {
   "cell_type": "markdown",
   "id": "7599f73e-5369-4a73-8773-3ac913afbd56",
   "metadata": {},
   "source": [
    "## 各数据容器的比较\n",
    "\n",
    "\n",
    "|列表|元组|字符串|集合|字典|\n",
    "|----|----|----|-----|------|\n",
    "|元素数量| 支持多个|支持多个|支持多个|支持多个|支持多个|\n",
    "|下标索引| 支持|支持|支持|不支持|不支持|\n",
    "|重复元素| 支持|支持|支持|不支持|不支持|\n",
    "|可修改| 可以|不可以|不可以|可以|可以|\n",
    "|数据是否有序| 是|是|是|否|否|\n",
    "|使用场景| 可修改、可重复的一批数据记录场景 | 不可以修改、可重复的一批数据记录场景 | 一串字符的记录不可重复的数据记录场景 | 以Key检索Value的数据记录场景"
   ]
  }
 ],
 "metadata": {
  "kernelspec": {
   "display_name": "Python 3 (ipykernel)",
   "language": "python",
   "name": "python3"
  },
  "language_info": {
   "codemirror_mode": {
    "name": "ipython",
    "version": 3
   },
   "file_extension": ".py",
   "mimetype": "text/x-python",
   "name": "python",
   "nbconvert_exporter": "python",
   "pygments_lexer": "ipython3",
   "version": "3.10.15"
  }
 },
 "nbformat": 4,
 "nbformat_minor": 5
}
