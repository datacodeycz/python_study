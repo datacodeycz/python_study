{
 "cells": [
  {
   "cell_type": "markdown",
   "id": "023f9c23-2890-45a3-bf02-7f723202eb14",
   "metadata": {},
   "source": [
    "## 数据容器-str(字符串)\n",
    "在python中字符串也是一个数据容器，它主要存放的是字符，一个字符串可以存放任意数量的字符"
   ]
  },
  {
   "cell_type": "markdown",
   "id": "3eb6a5ac-7bd7-4be0-a2e3-984e55d20c68",
   "metadata": {},
   "source": [
    "### 字符串的创建\n",
    "在之前我们已经学过了字符串的创建，可以使用``''``,``\"\"``,```''''''```,`\"\"\"\"\"\"`,str函数这五种方式创建，同样的我们之前在学习其他数据类型转换成字符串的时候就学过str()方法，所以这里就不细讲"
   ]
  },
  {
   "cell_type": "code",
   "execution_count": 1,
   "id": "3f3230dd-93d0-48c0-8a67-6cd04355afde",
   "metadata": {},
   "outputs": [
    {
     "name": "stdout",
     "output_type": "stream",
     "text": [
      "\n",
      "\n",
      " \n",
      "\n",
      "\n"
     ]
    }
   ],
   "source": [
    "str_test = ''\n",
    "print(str_test)\n",
    "\n",
    "str_test = \"\"\n",
    "print(str_test)\n",
    "\n",
    "str_test = ''' '''\n",
    "print(str_test)\n",
    "\n",
    "str_test = \"\"\"\"\"\"\n",
    "print(str_test)\n",
    "\n",
    "str_test = str()\n",
    "print(str_test)"
   ]
  },
  {
   "cell_type": "code",
   "execution_count": 2,
   "id": "119d4746-42a6-4048-bab7-78f40efbb17d",
   "metadata": {},
   "outputs": [
    {
     "data": {
      "text/plain": [
       "'helloworld'"
      ]
     },
     "execution_count": 2,
     "metadata": {},
     "output_type": "execute_result"
    }
   ],
   "source": [
    "str_test = 'helloworld'\n",
    "str_test"
   ]
  },
  {
   "cell_type": "code",
   "execution_count": 3,
   "id": "c0ae7440-8dd1-4825-89fd-f2b05a6b470a",
   "metadata": {},
   "outputs": [
    {
     "data": {
      "text/plain": [
       "'[1, 2, 3]'"
      ]
     },
     "execution_count": 3,
     "metadata": {},
     "output_type": "execute_result"
    }
   ],
   "source": [
    "# 使用str函数将其他类型转换为字符串\n",
    "str_test = str([1,2,3])  # 所有的数据类型都可以转换为字符串类型 但是要注意数据类型的格式化问题\n",
    "str_test"
   ]
  },
  {
   "cell_type": "markdown",
   "id": "beb49985-297b-4184-a5cb-3e97a9d7fa4d",
   "metadata": {},
   "source": [
    "### 字符串的操作\n",
    "字符串跟之前学过的列表和元组一样，都有元素对应的下标，可以通过元素对应的下标去找到对应的元素，这里的字符串存储的主要是一个个字符，可以理解成将一个字符串拆分成了多个字符，以一个容器的形式进行存储。我们可以简单的给出字符串的特点：1.有序；2.存储重复的元素；3.不可被修改\n",
    "\n",
    "操作:\n",
    "\n",
    "    1.通过下标访问对应的字符\n",
    "    2.str.index():通过给定字符返回第一个匹配的下标\n",
    "    3.str.replace(字符串1，字符串2):将字符串内的全部字符串1中的字符串，全部替换为字符串2，该操作是非破坏性，会得到一个新的字符串\n",
    "    4.str.split(字符串):按照指定的分隔符将字符串划分为多个字符串，并存入一个新的列表对象中，进行返回，非破坏性\n",
    "    5.str.strip(字符串):移除首尾指定的字符串，会以一个新的字符串进行返回；注意：如果没有参数，表示移除空格字符,\n",
    "    6.str.count(字符串):返回该参数字符串出现的次数\n",
    "    7.len(字符串)：返回字符串的字符个数\n",
    "    8.'拼接的字符'.join(str)\n",
    "    9.str.lower():将str中的所有大写转换为小写字母\n",
    "    10.str.upper()：将str中的所有小写转换为大写字母"
   ]
  },
  {
   "cell_type": "code",
   "execution_count": 5,
   "id": "207a2f49-c028-4aac-b3f9-f328ee6aad40",
   "metadata": {},
   "outputs": [
    {
     "name": "stdout",
     "output_type": "stream",
     "text": [
      "l\n"
     ]
    }
   ],
   "source": [
    "# 实例代码\n",
    "test_str = \"helloworld\"\n",
    "# 1.通过下标访问对应的字符\n",
    "print(test_str[2])"
   ]
  },
  {
   "cell_type": "code",
   "execution_count": 6,
   "id": "709abe0e-7693-42b7-ad7b-403e9248240e",
   "metadata": {},
   "outputs": [
    {
     "name": "stdout",
     "output_type": "stream",
     "text": [
      "4\n"
     ]
    }
   ],
   "source": [
    "# 2.通过给定字符返回第一个匹配的下标\n",
    "print(test_str.index(\"o\"))"
   ]
  },
  {
   "cell_type": "code",
   "execution_count": 7,
   "id": "3afecfbc-fc72-4087-9213-b4203d777c89",
   "metadata": {},
   "outputs": [
    {
     "data": {
      "text/plain": [
       "'yczchengycz'"
      ]
     },
     "execution_count": 7,
     "metadata": {},
     "output_type": "execute_result"
    }
   ],
   "source": [
    "# 3.replace方法\n",
    "test_str = 'yuanchengyuan'\n",
    "test_str1 = test_str.replace(\"yuan\",\"ycz\")\n",
    "test_str1"
   ]
  },
  {
   "cell_type": "code",
   "execution_count": 8,
   "id": "cebc9958-e66a-4ddc-ba00-32f0929255c4",
   "metadata": {},
   "outputs": [
    {
     "name": "stdout",
     "output_type": "stream",
     "text": [
      "123world\n",
      "helloworld\n"
     ]
    }
   ],
   "source": [
    "# 字符串中的指定部分替换为其他字符串\n",
    "test_str = \"helloworld\"\n",
    "print(test_str.replace(\"hello\",\"123\"))\n",
    "print(test_str)  # 没有破坏原字符串"
   ]
  },
  {
   "cell_type": "code",
   "execution_count": 9,
   "id": "3be4fdf7-a721-4c3e-ae54-e3ee04bebb13",
   "metadata": {},
   "outputs": [
    {
     "name": "stdout",
     "output_type": "stream",
     "text": [
      "['hell', ' w', 'rld']\n",
      "['hello', 'world']\n"
     ]
    }
   ],
   "source": [
    "# 4.split方法，按照指定的分隔符进行分隔\n",
    "test_str = \"hello world\"\n",
    "\n",
    "print(test_str.split(\"o\"))  # 将切割好后的结果，以列表的形式返回\n",
    "print(test_str.split())  # 默认参数为空格，使用空格进行切割"
   ]
  },
  {
   "cell_type": "code",
   "execution_count": 11,
   "id": "28baa9af-90d5-4982-a046-bd3c406652d5",
   "metadata": {},
   "outputs": [
    {
     "name": "stdin",
     "output_type": "stream",
     "text": [
      "请输入你的java，python，linux，network的成绩（中间用逗号隔开） 100,100,100,100\n"
     ]
    },
    {
     "data": {
      "text/plain": [
       "('100', '100', '100', '100')"
      ]
     },
     "execution_count": 11,
     "metadata": {},
     "output_type": "execute_result"
    }
   ],
   "source": [
    "# 应用\n",
    "'''\n",
    "在之前的课中，我们讲过input的返回值是一个字符串，不管我们在控制台输入什么，最终都是以字符串的形式返回的，那我们可不可以将那个返回\n",
    "的字符串进行分隔,使用多个变量来接收被分割后的字符串啦\n",
    "'''\n",
    "result = input(\"请输入你的java，python，linux，network的成绩（中间用逗号隔开）\")\n",
    "java,python,linux,network = result.split(',')\n",
    "java,python,linux,network"
   ]
  },
  {
   "cell_type": "code",
   "execution_count": 12,
   "id": "f769ea43-4bda-49b3-bc1b-a27a75463581",
   "metadata": {},
   "outputs": [
    {
     "name": "stdout",
     "output_type": "stream",
     "text": [
      "hello123world123  \n",
      "123hello123world123  \n"
     ]
    }
   ],
   "source": [
    "# 5.str.strip()\n",
    "test_str = \"123hello123world123  \"\n",
    "test_str1 = test_str.strip('123')  # 把首尾的123字符串删除了\n",
    "print(test_str1)  \n",
    "print(test_str)  # 没有破坏原字符串"
   ]
  },
  {
   "cell_type": "code",
   "execution_count": 13,
   "id": "5c521e9d-e24c-4d74-9a84-d0e2b3c5d4a9",
   "metadata": {},
   "outputs": [
    {
     "data": {
      "text/plain": [
       "'hello   world'"
      ]
     },
     "execution_count": 13,
     "metadata": {},
     "output_type": "execute_result"
    }
   ],
   "source": [
    "test_str = ' hello   world  '\n",
    "test_str.strip()  # 默认参数为空格"
   ]
  },
  {
   "cell_type": "code",
   "execution_count": 14,
   "id": "d5d9ae9e-bb21-4643-8a6a-696ae305b2b0",
   "metadata": {},
   "outputs": [
    {
     "name": "stdout",
     "output_type": "stream",
     "text": [
      "2\n"
     ]
    }
   ],
   "source": [
    "# 6.str.count()\n",
    "test_str = 'helloworld  '\n",
    "\n",
    "print(test_str.count(\"o\"))"
   ]
  },
  {
   "cell_type": "code",
   "execution_count": 15,
   "id": "a1fa274d-48f6-4cd4-a9e5-187495fe79b4",
   "metadata": {},
   "outputs": [
    {
     "name": "stdout",
     "output_type": "stream",
     "text": [
      "12\n"
     ]
    }
   ],
   "source": [
    "# 7.len(字符串)\n",
    "print(len(test_str))"
   ]
  },
  {
   "cell_type": "code",
   "execution_count": 16,
   "id": "d204e35c-6878-41d4-aeb7-de9570f84447",
   "metadata": {},
   "outputs": [
    {
     "data": {
      "text/plain": [
       "'a$b$c'"
      ]
     },
     "execution_count": 16,
     "metadata": {},
     "output_type": "execute_result"
    }
   ],
   "source": [
    "# 8.join\n",
    "# join方法\n",
    "str_test = 'abc'\n",
    "'$'.join(str_test)"
   ]
  },
  {
   "cell_type": "code",
   "execution_count": 17,
   "id": "72277a68-c3f4-4e86-bb8d-d84a8846b90f",
   "metadata": {},
   "outputs": [
    {
     "name": "stdout",
     "output_type": "stream",
     "text": [
      "hello world\n",
      "HELLO WORLD\n"
     ]
    }
   ],
   "source": [
    "# 9.lower 下降  大写转换为小写\n",
    "str_test = 'Hello World'\n",
    "print(str_test.lower())\n",
    "\n",
    "# 10.upper 上升  小写转换为大写\n",
    "print(str_test.upper())"
   ]
  },
  {
   "cell_type": "markdown",
   "id": "7346f8b2-ee14-45d4-864b-90e566f27a57",
   "metadata": {},
   "source": [
    "### 字符串的遍历\n",
    "字符串跟列表和元组一样，都可以使用while和for循环通过下标进行遍历<br>\n",
    "while循环遍历<br>\n",
    "for循环遍历<br>"
   ]
  },
  {
   "cell_type": "code",
   "execution_count": 18,
   "id": "1fa9c1d8-9b2b-4030-8e47-88f70d13dc28",
   "metadata": {},
   "outputs": [
    {
     "name": "stdout",
     "output_type": "stream",
     "text": [
      "yuanchengzhi"
     ]
    }
   ],
   "source": [
    "# while循环遍历\n",
    "test_str = \"yuanchengzhi\"\n",
    "index = 0\n",
    "while index < len(test_str):\n",
    "    print(test_str[index],end=\"\")\n",
    "    index = index + 1"
   ]
  },
  {
   "cell_type": "code",
   "execution_count": 19,
   "id": "657332cd-d1b3-41db-9a37-16cb71213e34",
   "metadata": {},
   "outputs": [
    {
     "name": "stdout",
     "output_type": "stream",
     "text": [
      "yuanchengzhi"
     ]
    }
   ],
   "source": [
    "# for循环遍历\n",
    "for x in test_str:\n",
    "    print(x,end=\"\")"
   ]
  },
  {
   "cell_type": "markdown",
   "id": "0f9b6ae7-7a01-4c9f-9114-e43fedd01d25",
   "metadata": {},
   "source": [
    "### 字符串的扩展\n",
    "1. `f'{变量} {变量} {字面量}'`，我们可以使用这种方式去实现拼接字符串的效果。\n",
    "2. `'%xx  %xx '%(变量1,变量2)`，通过使用这种方式我们可以将其格式化输出\n",
    "\n",
    "       %xx表示为：\n",
    "        %x.y[d f s]\n",
    "        x:表示占多少位置（字符）\n",
    "        y:表示保留小数点后几位\n",
    "        格式化输出\n",
    "        %d  格式化输出整数\n",
    "        %f  格式化输出浮点数\n",
    "        %s  格式化输出字符串\n",
    "       例如 2.1%f表示占2个字符，保留1位小数，输出格式为浮点数\n",
    "\n",
    "3.`'{} {} {}'.format(参数1,参数2,参数3)`：该方式是上述两个方式的结合\n",
    "\n",
    "        默认情况从左往右占位符{}与参数一一对应。"
   ]
  },
  {
   "cell_type": "code",
   "execution_count": 20,
   "id": "ba020842-e733-4d97-815f-fe2695ea9b19",
   "metadata": {},
   "outputs": [
    {
     "data": {
      "text/plain": [
       "'我叫xiaoming，今年18岁，我有100.29块钱'"
      ]
     },
     "execution_count": 20,
     "metadata": {},
     "output_type": "execute_result"
    }
   ],
   "source": [
    "name = 'xiaoming'\n",
    "age = 18\n",
    "money = 100.29\n",
    "result = '我叫' + name + '，今年' + str(age) + '岁，我有'+ str(money) +'块钱'\n",
    "result"
   ]
  },
  {
   "cell_type": "code",
   "execution_count": 21,
   "id": "580b1b59-f16a-41af-9418-298411880457",
   "metadata": {},
   "outputs": [
    {
     "data": {
      "text/plain": [
       "'我叫xiaoming，今年18岁，我有100.29块钱'"
      ]
     },
     "execution_count": 21,
     "metadata": {},
     "output_type": "execute_result"
    }
   ],
   "source": [
    "# 方式2\n",
    "result = '我叫%1s，今年%d岁，我有%.2f块钱'%(name, age, money)\n",
    "'''\n",
    "注意：1.一般情况下，我们是对应的格式化输出，整数使用整数的格式化输出，浮点数使用浮点数的格式化输出，\n",
    "但是如果你想用其他的格式化输出，满足转换的情况即可（例如：整数使用浮点数输出，浮点数使用整数输出等等）\n",
    "2.x不填写的默认值为刚好存下该变量的字符大小，如果填写的小于该变量字符的大小，则会扩到刚好存下\n",
    "3.y不填写的默认值为6。\n",
    "'''\n",
    "result"
   ]
  },
  {
   "cell_type": "code",
   "execution_count": 22,
   "id": "dc8db187-f277-41f4-ab82-5397a2303150",
   "metadata": {},
   "outputs": [
    {
     "data": {
      "text/plain": [
       "'我身上有100.50块'"
      ]
     },
     "execution_count": 22,
     "metadata": {},
     "output_type": "execute_result"
    }
   ],
   "source": [
    "# 方式3\n",
    "# 格式如下\n",
    "name = \"xiaoming\"\n",
    "age = \"18\"\n",
    "address = \"四川遂宁\"\n",
    "money = 100.5\n",
    "# {} 表示 占位符\n",
    "# 1. 正常情况下，第一个{}匹配第一个变量，依次类推，匹配多个变量\n",
    "\"我的名字是：{}，我今年{}岁了，我家在{}\".format(name,age,address)  # 可以通过该方法灵活的书写字符串中的信息，将字符串进行格式化\n",
    "# 2.可以在{}中填写信息来指定匹配的变量是哪一个，在format()方法中，第一个变量表示0\n",
    "\"我的名字是{0},我今年{1}岁了，再次说明我的名字是{0}\".format(name,age)  # 使用数字的方式进行匹配\n",
    "# 3.{}中该可以指定要匹配变量的格式，例如你想让money匹配的结果是一个浮点数\n",
    "\"我身上有{:.2f}块\".format(money)  # 表示输出的格式为小数点后两位，注意这里只是改变输出的格式，并没有改变原变量"
   ]
  },
  {
   "cell_type": "markdown",
   "id": "96b2a71e-9e73-4c3b-895f-01728dc37f4c",
   "metadata": {},
   "source": [
    "format中的格式表示\n",
    "\n",
    "`^`,` <`, `>` 分别是居中、左对齐、右对齐，后面带宽度， : 号后面带填充的字符，只能是一个字符，不指定则默认是用空格填充。\n",
    "\n",
    "`+` 表示在正数前显示 `+`，负数前显示 `-`；  （空格）表示在正数前加空格\n",
    "\n",
    "`b`、`d`、`o`、`x` 分别是二进制、十进制、八进制、十六进制。"
   ]
  },
  {
   "cell_type": "markdown",
   "id": "9e24457d-6374-4d6a-b36f-42ee5760985b",
   "metadata": {},
   "source": [
    "### 字符串小结\n",
    "1.只可以存储字符串<br>\n",
    "2.长度任意<br>\n",
    "3.字符串中的字符有对应的下标<br>\n",
    "4.允许重复字符串的存在<br>\n",
    "5.**不可以修改** 只能重新赋值，重新赋值不是修改，而是新的字面量<br>\n",
    "6.可以使用for循环进行遍历字符元素<br>\n",
    "\n",
    "与列表的区别：1.不可修改；2.只能存储字符串，不能存储其他数据类型<br>\n",
    "与元组的区别：1.只能存储字符串，不能存储其他数据类型<br>"
   ]
  },
  {
   "cell_type": "code",
   "execution_count": null,
   "id": "a2cc6ebb-85c2-49ee-b0d4-b5a0b99f73d1",
   "metadata": {},
   "outputs": [],
   "source": []
  }
 ],
 "metadata": {
  "kernelspec": {
   "display_name": "Python 3 (ipykernel)",
   "language": "python",
   "name": "python3"
  },
  "language_info": {
   "codemirror_mode": {
    "name": "ipython",
    "version": 3
   },
   "file_extension": ".py",
   "mimetype": "text/x-python",
   "name": "python",
   "nbconvert_exporter": "python",
   "pygments_lexer": "ipython3",
   "version": "3.10.15"
  }
 },
 "nbformat": 4,
 "nbformat_minor": 5
}
