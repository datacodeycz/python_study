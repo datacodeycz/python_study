{
 "cells": [
  {
   "cell_type": "code",
   "execution_count": null,
   "id": "e154f270-33c3-431e-adcf-0d9dfb9f9660",
   "metadata": {},
   "outputs": [],
   "source": []
  }
 ],
 "metadata": {
  "kernelspec": {
   "display_name": "Python 3 (ipykernel)",
   "language": "python",
   "name": "python3"
  },
  "language_info": {
   "name": ""
  }
 },
 "nbformat": 4,
 "nbformat_minor": 5
}
