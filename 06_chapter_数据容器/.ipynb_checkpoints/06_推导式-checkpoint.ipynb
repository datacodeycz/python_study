{
 "cells": [
  {
   "cell_type": "markdown",
   "id": "cdd63cc9-2bf1-4755-95eb-f05e311470c8",
   "metadata": {},
   "source": [
    "## 推导式\n",
    "\n",
    "Python 推导式是一种独特的数据处理方式，可以从一个数据序列构建另一个新的数据序列的结构体。\n",
    "\n",
    "Python 推导式是一种强大且简洁的语法，适用于生成列表、字典、集合和生成器。\n",
    "\n",
    "在使用推导式时，需要注意可读性，尽量保持表达式简洁，以免影响代码的可读性和可维护性。\n",
    "\n",
    "Python 支持各种数据结构的推导式：\n",
    "\n",
    "    列表(list)推导式\n",
    "    字典(dict)推导式\n",
    "    集合(set)推导式\n",
    "    元组(tuple)生成器（推导式）"
   ]
  },
  {
   "cell_type": "markdown",
   "id": "06af43ee-7112-44e4-bb4d-ff28c7989268",
   "metadata": {},
   "source": [
    "### 列表(list)推导式\n",
    "\n",
    "[表达式 for 变量 in 列表] \\\n",
    "[out_exp_res for out_exp in input_list]\n",
    "\n",
    "或者 \n",
    "\n",
    "[表达式 for 变量 in 列表 if 条件]\\\n",
    "[out_exp_res for out_exp in input_list if condition]\n",
    "\n",
    "out_exp_res：列表生成元素表达式，可以是有返回值的函数。\\\n",
    "for out_exp in input_list：迭代 input_list 将 out_exp 传入到 out_exp_res 表达式中。\\\n",
    "if condition：条件语句，可以过滤列表中不符合条件的值。"
   ]
  },
  {
   "cell_type": "markdown",
   "id": "81bc98d6-bfae-4548-b7be-b7fc7976ce3c",
   "metadata": {},
   "source": [
    "我们先写一个完整for循环的写法"
   ]
  },
  {
   "cell_type": "code",
   "execution_count": 9,
   "id": "fcba8277-e73b-4857-966c-0cbd5633dc18",
   "metadata": {},
   "outputs": [
    {
     "name": "stdout",
     "output_type": "stream",
     "text": [
      "['a', 'b', 'c', 'd', 'e']\n"
     ]
    }
   ],
   "source": [
    "list_test = []\n",
    "list1 = ['a', 'b', 'c', 'd', 'e']\n",
    "for x in list1:\n",
    "    # x在列表中拿元素\n",
    "    list_test.append(x)\n",
    "\n",
    "print(list_test)"
   ]
  },
  {
   "cell_type": "markdown",
   "id": "de1de66e-67bd-4b09-94f3-f0906fac0543",
   "metadata": {},
   "source": [
    "我们通过推导式来编写上述的逻辑"
   ]
  },
  {
   "cell_type": "code",
   "execution_count": 10,
   "id": "61025324-bb4b-464d-80aa-94429104fc46",
   "metadata": {},
   "outputs": [
    {
     "name": "stdout",
     "output_type": "stream",
     "text": [
      "['a', 'b', 'c', 'd', 'e']\n"
     ]
    }
   ],
   "source": [
    "list1 = ['a', 'b', 'c', 'd', 'e']\n",
    "list_test = [x for x in list1]\n",
    "print(list_test)"
   ]
  },
  {
   "cell_type": "markdown",
   "id": "4ad82146-6022-48bd-b60f-31e848374e7b",
   "metadata": {},
   "source": [
    "这里我们来解析一下这个结构， 首先就是`for x in list1` x从list1中那元素，然后给前面的表达式（这里的表达式就是x），相当于每次遍历就产生了一个结果（关于表达式的 这里是x）所以相当于表达式通过遍历就得到了 `'a','b','c','d','e'`这几个元素，然后这几个元素就组成了一个列表 变量list_test就指向这个列表"
   ]
  },
  {
   "cell_type": "markdown",
   "id": "16c73684-970b-4e9e-85ab-fdc0bf5e6ef8",
   "metadata": {},
   "source": [
    "我们再来看有if的一种表达形式"
   ]
  },
  {
   "cell_type": "code",
   "execution_count": 24,
   "id": "fe0c2082-141d-4c25-b58a-ec42b8099286",
   "metadata": {},
   "outputs": [
    {
     "name": "stdout",
     "output_type": "stream",
     "text": [
      "函数执行时间: 0.11379075050354004 秒\n"
     ]
    }
   ],
   "source": [
    "import time\n",
    "# 需求，现在有一个list1列表里面有奇数 偶数，现在我只想要偶数\n",
    "# 常规写法\n",
    "def test_list1():\n",
    "    list_result = []\n",
    "    for x in range(900000):\n",
    "        if x % 2 == 0:\n",
    "            list_result.append(x)\n",
    "    return list_result\n",
    "start_time = time.time()\n",
    "test_list1()\n",
    "end_time = time.time()\n",
    "execution_time = end_time - start_time\n",
    "print(f\"函数执行时间: {execution_time} 秒\")"
   ]
  },
  {
   "cell_type": "code",
   "execution_count": 25,
   "id": "683c71fb-9da2-46ac-9e4c-3231b5ac7488",
   "metadata": {},
   "outputs": [
    {
     "name": "stdout",
     "output_type": "stream",
     "text": [
      "函数执行时间: 0.09164929389953613 秒\n"
     ]
    }
   ],
   "source": [
    "# 推导式\n",
    "def test_list1():\n",
    "    return [x for x in range(900000) if x % 2 == 0]\n",
    "start_time = time.time()\n",
    "test_list1()\n",
    "end_time = time.time()\n",
    "execution_time = end_time - start_time\n",
    "print(f\"函数执行时间: {execution_time} 秒\")"
   ]
  },
  {
   "cell_type": "markdown",
   "id": "353e1533-f70f-4fb4-a94a-23ce8da26af7",
   "metadata": {},
   "source": [
    "通过上述代码，我们其实可以发现会有一定的提升，但是不多，主要还是方便"
   ]
  },
  {
   "cell_type": "markdown",
   "id": "4563ad12-5974-46d9-b7c6-84a6bb25393c",
   "metadata": {},
   "source": [
    "### 集合推导式\n",
    "\n",
    "后面的推导式其实跟列表推导式一样的，同样我们写一个题来看一下"
   ]
  },
  {
   "cell_type": "code",
   "execution_count": 1,
   "id": "85c027ed-1cb6-4649-9bf4-615798be36f2",
   "metadata": {},
   "outputs": [
    {
     "name": "stdout",
     "output_type": "stream",
     "text": [
      "{2, 4, 6, 8, 10, 12, 14, 16, 18, 20, 22, 24, 26, 28, 30, 32, 34, 36, 38, 40, 42, 44, 46, 48, 50, 52, 54, 56, 58, 60, 62, 64, 66, 68, 70, 72, 74, 76, 78, 80, 82, 84, 86, 88, 90, 92, 94, 96, 98, 100}\n"
     ]
    }
   ],
   "source": [
    "# 在一个空集合中增加1-100的元素，并且只允许增加偶数，不能增加奇数\n",
    "set_1 = set()  # 一个空的集合\n",
    "for x in range(1, 101):\n",
    "    if x % 2 == 0:\n",
    "        set_1.add(x)\n",
    "\n",
    "print(set_1)"
   ]
  },
  {
   "cell_type": "code",
   "execution_count": 2,
   "id": "8ec5140b-5b1a-46b0-a4de-d2e380407e30",
   "metadata": {},
   "outputs": [
    {
     "name": "stdout",
     "output_type": "stream",
     "text": [
      "{2, 4, 6, 8, 10, 12, 14, 16, 18, 20, 22, 24, 26, 28, 30, 32, 34, 36, 38, 40, 42, 44, 46, 48, 50, 52, 54, 56, 58, 60, 62, 64, 66, 68, 70, 72, 74, 76, 78, 80, 82, 84, 86, 88, 90, 92, 94, 96, 98, 100}\n"
     ]
    }
   ],
   "source": [
    "# 使用推导式的方式实现\n",
    "set_1 = {x for x in range(1, 101) if x % 2 == 0}\n",
    "print(set_1)"
   ]
  },
  {
   "cell_type": "markdown",
   "id": "39cb294b-0e01-4f2a-b9f1-776bd769c380",
   "metadata": {},
   "source": [
    "上面的写法都是一样的 只是符号不一样 列表用`[]` 集合用`{}`"
   ]
  },
  {
   "cell_type": "markdown",
   "id": "42cd8bb1-6a42-4030-a445-0d5f7bef02df",
   "metadata": {},
   "source": [
    "### 字典推导式\n",
    "字典增加的元素是一个key:value的形式，所以我们在字典中增加的元素应该得是key:value  表达式的结果也应该是key:value的形式"
   ]
  },
  {
   "cell_type": "code",
   "execution_count": 3,
   "id": "a9dda421-b7c4-4bfd-85cb-03f9bf5a27ca",
   "metadata": {},
   "outputs": [
    {
     "name": "stdout",
     "output_type": "stream",
     "text": [
      "{2: 4, 4: 8, 6: 12, 8: 16, 10: 20, 12: 24, 14: 28, 16: 32, 18: 36, 20: 40, 22: 44, 24: 48, 26: 52, 28: 56, 30: 60, 32: 64, 34: 68, 36: 72, 38: 76, 40: 80, 42: 84, 44: 88, 46: 92, 48: 96, 50: 100, 52: 104, 54: 108, 56: 112, 58: 116, 60: 120, 62: 124, 64: 128, 66: 132, 68: 136, 70: 140, 72: 144, 74: 148, 76: 152, 78: 156, 80: 160, 82: 164, 84: 168, 86: 172, 88: 176, 90: 180, 92: 184, 94: 188, 96: 192, 98: 196, 100: 200}\n"
     ]
    }
   ],
   "source": [
    "# 在一个空的字典中增加key为1-100，value为1-100的2倍时 key为偶数，\n",
    "dict_1 = {x:2 * x for x in range(1, 101) if x % 2 == 0}\n",
    "print(dict_1)"
   ]
  },
  {
   "cell_type": "markdown",
   "id": "8ae01be4-3d40-444b-88a1-0eb72ad9f775",
   "metadata": {},
   "source": [
    "注意：这里就跟之前不一样了，我们的形式是 {`表达式1:表达式2` for 临时变量 in 可迭代对象 if 条件}"
   ]
  },
  {
   "cell_type": "markdown",
   "id": "2eacb6bd-c028-4f1b-abd0-01ab9280e28f",
   "metadata": {},
   "source": [
    "### 元组生成器(推导式)\n",
    "在python中是没有元组推导式的，我们使用上述的方式，得到的是一个生成器，而不是元组推导式，这个生成器也是一个可迭代的对象，所以我们可以使用`tuple`方法转换为元组"
   ]
  },
  {
   "cell_type": "code",
   "execution_count": 6,
   "id": "5c5f87cf-cbba-4a9a-8798-d8a795e88161",
   "metadata": {},
   "outputs": [
    {
     "name": "stdout",
     "output_type": "stream",
     "text": [
      "<generator object <genexpr> at 0x000001B976585460> <class 'generator'>\n"
     ]
    }
   ],
   "source": [
    "gen = (x for x in range(1, 101) if x % 2 == 0)\n",
    "\n",
    "print(gen, type(gen))  # generator生成器"
   ]
  },
  {
   "cell_type": "code",
   "execution_count": 7,
   "id": "4788d335-a2b6-497d-9430-4d9e07939537",
   "metadata": {},
   "outputs": [
    {
     "name": "stdout",
     "output_type": "stream",
     "text": [
      "(2, 4, 6, 8, 10, 12, 14, 16, 18, 20, 22, 24, 26, 28, 30, 32, 34, 36, 38, 40, 42, 44, 46, 48, 50, 52, 54, 56, 58, 60, 62, 64, 66, 68, 70, 72, 74, 76, 78, 80, 82, 84, 86, 88, 90, 92, 94, 96, 98, 100) <class 'tuple'>\n"
     ]
    }
   ],
   "source": [
    "tuple_1 = tuple(gen)\n",
    "print(tuple_1, type(tuple_1))  # 元组类型"
   ]
  },
  {
   "cell_type": "markdown",
   "id": "fa7b5061-dfab-4c3b-a814-4e00ae825dc6",
   "metadata": {},
   "source": [
    "注意：这里我们没有讲过生成器，但是本质其实就是迭代器，所以我们用tuple方法转换为元组类型后，已经迭代到最后一个元素了，再运行这个代码会出现空的情况，所以我们尽可能一起写"
   ]
  },
  {
   "cell_type": "code",
   "execution_count": 8,
   "id": "a8f8fc20-4d42-4b9b-957f-c9d8b812a9d1",
   "metadata": {},
   "outputs": [
    {
     "name": "stdout",
     "output_type": "stream",
     "text": [
      "(2, 4, 6, 8, 10, 12, 14, 16, 18, 20, 22, 24, 26, 28, 30, 32, 34, 36, 38, 40, 42, 44, 46, 48, 50, 52, 54, 56, 58, 60, 62, 64, 66, 68, 70, 72, 74, 76, 78, 80, 82, 84, 86, 88, 90, 92, 94, 96, 98, 100)\n"
     ]
    }
   ],
   "source": [
    "tuple_1 = tuple((x for x in range(1, 101) if x % 2 == 0))\n",
    "print(tuple_1)"
   ]
  }
 ],
 "metadata": {
  "celltoolbar": "Slideshow",
  "kernelspec": {
   "display_name": "Python 3 (ipykernel)",
   "language": "python",
   "name": "python3"
  },
  "language_info": {
   "codemirror_mode": {
    "name": "ipython",
    "version": 3
   },
   "file_extension": ".py",
   "mimetype": "text/x-python",
   "name": "python",
   "nbconvert_exporter": "python",
   "pygments_lexer": "ipython3",
   "version": "3.10.14"
  },
  "toc": {
   "base_numbering": 1,
   "nav_menu": {},
   "number_sections": true,
   "sideBar": true,
   "skip_h1_title": false,
   "title_cell": "Table of Contents",
   "title_sidebar": "Contents",
   "toc_cell": false,
   "toc_position": {
    "height": "calc(100% - 180px)",
    "left": "10px",
    "top": "150px",
    "width": "261.5px"
   },
   "toc_section_display": true,
   "toc_window_display": true
  },
  "widgets": {
   "application/vnd.jupyter.widget-state+json": {
    "state": {},
    "version_major": 2,
    "version_minor": 0
   }
  }
 },
 "nbformat": 4,
 "nbformat_minor": 5
}
