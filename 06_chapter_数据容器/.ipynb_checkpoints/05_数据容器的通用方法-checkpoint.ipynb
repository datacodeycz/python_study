{
 "cells": [
  {
   "cell_type": "markdown",
   "id": "8224765f-2f36-4f51-93cc-bc44124e792f",
   "metadata": {},
   "source": [
    "## 数据容器的通用功能"
   ]
  },
  {
   "cell_type": "markdown",
   "id": "7a8059f2-e5e9-4421-9d76-4fb53638ca2e",
   "metadata": {},
   "source": [
    "`len()`：返回容器中的元素个数。\\\n",
    "适用于：list、tuple、str、dict、set\n",
    "\n",
    "`max()`：返回容器中的最大值。\\\n",
    "适用于：list、tuple、str、set（字典需要指定 key 或 value）\n",
    "\n",
    "`min()`：返回容器中的最小值。\\\n",
    "适用于：list、tuple、str、set（字典需要指定 key 或 value）\n",
    "\n",
    "`sum()`：返回容器中所有数值元素的和。\\\n",
    "适用于：list、tuple、set（元素需为数值类型）\n",
    "\n",
    "`type()`：返回对象的类型。\\\n",
    "适用于：所有数据类型\n",
    "\n",
    "`list()`、`tuple()`、`set()`、`str()`、`dict()`：将数据转换为指定类型。\\\n",
    "适用于：支持相互转换的类型，例如 list 可以转换为 tuple、set 等。\n",
    "\n",
    "`sorted()`：返回排序后的新列表。\\\n",
    "适用于：list、tuple、str、set（字典需要指定排序依据）\n",
    "\n",
    "`enumerate()`：返回一个枚举对象，通常用于 for 循环中获得元素的索引和值。\\\n",
    "适用于：list、tuple、str\n",
    "\n",
    "`zip()`：将多个可迭代对象的元素逐个配对。\\\n",
    "适用于：list、tuple、str 等可迭代对象\n",
    "\n",
    "`isinstance()`：判断该变量是否为xx数据类型\\\n",
    "适用于：list、tuple、str、dict、set"
   ]
  },
  {
   "cell_type": "code",
   "execution_count": 5,
   "id": "4e01bc5f-26e8-426e-9dd6-c861964ea9db",
   "metadata": {},
   "outputs": [
    {
     "name": "stdout",
     "output_type": "stream",
     "text": [
      "5\n"
     ]
    }
   ],
   "source": [
    "# 获取数据容器的长度 len\n",
    "print(len([1,2,3,4,5]))  # 5"
   ]
  },
  {
   "cell_type": "code",
   "execution_count": 19,
   "id": "4318d5d5-916a-468e-89e4-8d8bdabaa652",
   "metadata": {},
   "outputs": [
    {
     "data": {
      "text/plain": [
       "5"
      ]
     },
     "execution_count": 19,
     "metadata": {},
     "output_type": "execute_result"
    }
   ],
   "source": [
    "# 上述的的max() min() len()方法都以列表为例子讲解\n",
    "test_list = [1,2,3,4,5]\n",
    "test_list1 = [\"a\",\"z\",\"b\",1]\n",
    "\n",
    "# max()\n",
    "print(max(test_list))  # 得到结果为 5\n",
    "\n",
    "# min()\n",
    "print(min(test_list))  # 得到结果为 1\n",
    "\n",
    "# len()\n",
    "print(len(test_list))  # 得到数量为5"
   ]
  },
  {
   "cell_type": "code",
   "execution_count": 23,
   "id": "b876f19b-d856-4b97-a26c-1430c9b8bb6d",
   "metadata": {},
   "outputs": [
    {
     "name": "stdout",
     "output_type": "stream",
     "text": [
      "w\n",
      "d\n"
     ]
    }
   ],
   "source": [
    "# 当要判断最大值和最小值的数据容器(除字符串外)中有非数字类型，还可以判断吗\n",
    "test_list = [\"a\",\"z\",\"b\",1]\n",
    "# max(test_list)  # 报错\n",
    "# min(test_list)  # 报错\n",
    "\n",
    "# 当数据容器是字符串的时候，不会报错，会按照ASCII码进行判断大小，字符都有对应的数字，\n",
    "# 将字符按照ASCII码转换为数字然后再判断大小 \n",
    "test_str = \"helloworld\"\n",
    "print(max(test_str))\n",
    "print(min(test_str))"
   ]
  },
  {
   "cell_type": "code",
   "execution_count": 25,
   "id": "d0d934d1-6e7e-45f1-a040-99631ddad2d6",
   "metadata": {},
   "outputs": [
    {
     "name": "stdout",
     "output_type": "stream",
     "text": [
      "False\n"
     ]
    }
   ],
   "source": [
    "# 扩展：字符串的比较\n",
    "# 字符串的比较是按位比较，也就是一位一位的比较，只要有一位大，纳闷整体大\n",
    "test_str1 = \"abc\"\n",
    "test_str2 = \"abd\"\n",
    "print(test_str1 > test_str2)  # False  c < d"
   ]
  },
  {
   "cell_type": "code",
   "execution_count": 8,
   "id": "a980f68c-999d-4ace-87d9-9c08ee7e8d60",
   "metadata": {},
   "outputs": [
    {
     "name": "stdout",
     "output_type": "stream",
     "text": [
      "<class 'list'>\n",
      "<class 'tuple'>\n",
      "<class 'int'>\n"
     ]
    }
   ],
   "source": [
    "# 返回对象的类型 type\n",
    "print(type([1,2,3]))  # <class 'list'>\n",
    "print(type((1,2,3)))  # <class 'tuple'>\n",
    "print(type((1)))  # <class 'int'>"
   ]
  },
  {
   "cell_type": "code",
   "execution_count": 9,
   "id": "2711f2cf-db84-4a35-8328-439e4a07ddf0",
   "metadata": {},
   "outputs": [],
   "source": [
    "# list()、tuple()、set()、str()、dict() 进行数据类型之间的转换\n",
    "list_1 = [1, 2, 3, 4]\n",
    "tuple_1 = ('a', 'b', 'c')\n",
    "str_1 = 'hellworld'\n",
    "set_1 = {1, 2, 3, 4, 5}\n",
    "dict_1 = {'a':1, 'b':2, 'c': 3}"
   ]
  },
  {
   "cell_type": "code",
   "execution_count": 10,
   "id": "53347e26-2006-4013-9822-763b383ed27a",
   "metadata": {},
   "outputs": [
    {
     "name": "stdout",
     "output_type": "stream",
     "text": [
      "['a', 'b', 'c']\n",
      "['h', 'e', 'l', 'l', 'w', 'o', 'r', 'l', 'd']\n",
      "[1, 2, 3, 4, 5]\n",
      "['a', 'b', 'c']\n"
     ]
    }
   ],
   "source": [
    "# 转换为列表 list()\n",
    "print(list(tuple_1))\n",
    "print(list(str_1))\n",
    "print(list(set_1))\n",
    "print(list(dict_1))"
   ]
  },
  {
   "cell_type": "markdown",
   "id": "0a21a32f-aaf6-4bbc-98e9-4cde247d1b63",
   "metadata": {},
   "source": [
    "注意：除了字典其他几个更很好理解，都是将数据容器中的元素放到列表中，形成一个新的列表，但是字典不一样，这里字典使用的key值放到列表中，形成一个新的列表"
   ]
  },
  {
   "cell_type": "code",
   "execution_count": 11,
   "id": "dc5b0944-8255-40aa-9fd8-6c4556150081",
   "metadata": {},
   "outputs": [
    {
     "name": "stdout",
     "output_type": "stream",
     "text": [
      "(1, 2, 3, 4)\n",
      "('h', 'e', 'l', 'l', 'w', 'o', 'r', 'l', 'd')\n",
      "(1, 2, 3, 4, 5)\n",
      "('a', 'b', 'c')\n"
     ]
    }
   ],
   "source": [
    "# 转换为元组 tuple()\n",
    "print(tuple(list_1))\n",
    "print(tuple(str_1))\n",
    "print(tuple(set_1))\n",
    "print(tuple(dict_1))"
   ]
  },
  {
   "cell_type": "markdown",
   "id": "eab89e01-89fc-48f1-8a02-2297242282fd",
   "metadata": {},
   "source": [
    "跟上述一致，字典都是使用的key值放到元组中，形成一个新的元组"
   ]
  },
  {
   "cell_type": "code",
   "execution_count": 12,
   "id": "958e7c13-b960-402d-a461-8385cf1c7893",
   "metadata": {},
   "outputs": [
    {
     "name": "stdout",
     "output_type": "stream",
     "text": [
      "[1, 2, 3, 4]\n",
      "('a', 'b', 'c')\n",
      "{1, 2, 3, 4, 5}\n",
      "{'a': 1, 'b': 2, 'c': 3}\n"
     ]
    }
   ],
   "source": [
    "# 转换为字符串 str()\n",
    "print(str(list_1))\n",
    "print(str(tuple_1))\n",
    "print(str(set_1))\n",
    "print(str(dict_1))"
   ]
  },
  {
   "cell_type": "markdown",
   "id": "f5112237-9045-44b2-be8d-664ebc6d4d5f",
   "metadata": {},
   "source": [
    "注意：转换为字符串一定要注意的是，数据容器中的格式也会被转换成字符串，例如`[]` `()`,所以使用时一定要注意"
   ]
  },
  {
   "cell_type": "code",
   "execution_count": 13,
   "id": "827ab0c9-7e90-49ad-a924-d43fd523992f",
   "metadata": {},
   "outputs": [
    {
     "name": "stdout",
     "output_type": "stream",
     "text": [
      "[1, 2, 3, 4]\n",
      "('a', 'b', 'c')\n",
      "{1, 2, 3, 4, 5}\n",
      "{'a': 1, 'b': 2, 'c': 3}\n"
     ]
    }
   ],
   "source": [
    "# 转换为集合类型(会自动过滤掉重复的)\n",
    "print(str(list_1))\n",
    "print(str(tuple_1))\n",
    "print(str(set_1))\n",
    "print(str(dict_1)) "
   ]
  },
  {
   "cell_type": "markdown",
   "id": "0996f82b-4524-480c-9e2a-60e2123c6558",
   "metadata": {},
   "source": [
    "注意：转换为集合类型，相同的元素会被自动过滤掉"
   ]
  },
  {
   "cell_type": "code",
   "execution_count": 15,
   "id": "32c90d29-b61b-4296-9081-c869e2df70ea",
   "metadata": {},
   "outputs": [
    {
     "name": "stdout",
     "output_type": "stream",
     "text": [
      "{'a': 1, 'b': 2, 'c': 3}\n"
     ]
    }
   ],
   "source": [
    "# 接下来是转换为字典\n",
    "list_1 = [\n",
    "    ['a', 1],\n",
    "    ['b', 2],\n",
    "    ['c', 3]\n",
    "]\n",
    "print(dict(list_1))"
   ]
  },
  {
   "cell_type": "markdown",
   "id": "62953309-5067-4d63-bb33-516a759f647b",
   "metadata": {},
   "source": [
    "注意：上述我只用了列表举例，一定要注意的是，其他类型转换为字典类型一定是二维的"
   ]
  },
  {
   "cell_type": "code",
   "execution_count": 19,
   "id": "3947fd40-4ddb-40a2-8cfb-66586ec348c3",
   "metadata": {},
   "outputs": [
    {
     "name": "stdout",
     "output_type": "stream",
     "text": [
      "<zip object at 0x0000018B83D3A700>\n",
      "[(1,), (2,), (3,)]\n",
      "[(1, 4), (2, 5), (3, 6)]\n",
      "[(1, 4, 7), (2, 5, 8), (3, 6, 9)]\n"
     ]
    }
   ],
   "source": [
    "# zip 将多个数据容器压缩到一个zip对象中\n",
    "list_1 = [1, 2, 3]\n",
    "list_2 = [4, 5, 6]\n",
    "list_3 = [7, 8, 9]\n",
    "print(zip(list_1)) # 返回的结果是一个zip对象 这是一个可迭代对象，我们可以转换为列表类型\n",
    "print(list(zip(list_1)))  # 当只传入一个参数时，分成len(list_1)个元组，每个元组中只有一个元素\n",
    "print(list(zip(list_1, list_2))) # 当只传入两个参数时，分成min(len(list_1),len(list_2))个元组，每个元组中只有2个元素\n",
    "print(list(zip(list_1, list_2, list_3))) # 当只传入三个参数时，分成min(len(list_1),len(list_2), len(list_3))个元组，每个元组中只有3个元素"
   ]
  },
  {
   "cell_type": "code",
   "execution_count": 23,
   "id": "1311a6a8-08b0-4b20-9067-9a1d0ed3aebd",
   "metadata": {},
   "outputs": [
    {
     "name": "stdout",
     "output_type": "stream",
     "text": [
      "<enumerate object at 0x0000018B83B7EA80>\n",
      "[(0, 1), (1, 2), (2, 3)]\n"
     ]
    }
   ],
   "source": [
    "# enumerate 获取数据容器的枚举和元素\n",
    "print(enumerate([1,2,3]))  # 这是一个枚举对象 也是一个可迭代对象\n",
    "print(list(enumerate([1,2,3])))  "
   ]
  },
  {
   "cell_type": "markdown",
   "id": "8e8e97c5-27b5-4d85-bc27-9985e7e48ece",
   "metadata": {},
   "source": [
    "我们通过上述的结果可以看到，枚举和元素进行匹配，形成一个元组，然后放在枚举对象中，我们通过通过数据类型的转换 转换为列表，当然我们也可以使用for循环进行迭代"
   ]
  },
  {
   "cell_type": "code",
   "execution_count": 24,
   "id": "df95139c-16f9-488b-bb49-cd355f90f353",
   "metadata": {},
   "outputs": [
    {
     "name": "stdout",
     "output_type": "stream",
     "text": [
      "0 1\n",
      "1 2\n",
      "2 3\n"
     ]
    }
   ],
   "source": [
    "for x, y in enumerate([1, 2, 3]):\n",
    "    print(x, y)"
   ]
  },
  {
   "cell_type": "code",
   "execution_count": 29,
   "id": "fcab5895-773e-4f1e-a21e-5783bfd6f41b",
   "metadata": {},
   "outputs": [
    {
     "name": "stdout",
     "output_type": "stream",
     "text": [
      "[2, 4, 5, 6]\n",
      "[6, 5, 4, 2]\n"
     ]
    }
   ],
   "source": [
    "# sorted 方法 这里我们先考虑排序的问题，这个函数后面还会学习\n",
    "\n",
    "list_sort = sorted((5,4,6,2))\n",
    "print(list_sort)  # 返回一个新的列表 默认是升序 reverse默认为False\n",
    "list_sort = sorted((5,4,6,2),reverse=True)  # 当reverse参数改为True 结果就是倒序\n",
    "print(list_sort)"
   ]
  },
  {
   "cell_type": "code",
   "execution_count": 31,
   "id": "f7657529-7c08-43ee-b8f6-f0492c5de5d7",
   "metadata": {},
   "outputs": [
    {
     "name": "stdout",
     "output_type": "stream",
     "text": [
      "True\n",
      "False\n"
     ]
    }
   ],
   "source": [
    "# isinstance 方法， 判断某个对象是否属于xx类型\n",
    "print(isinstance([1,2,3], list))  # 这条语句的意思是 判断[1,2,3] 这个对象是否属于list类型\n",
    "print(isinstance([1,2,3], tuple)) # 这条语句的意思是 判断[1,2,3] 这个对象是否属于tuple类型"
   ]
  },
  {
   "cell_type": "markdown",
   "id": "a4ac605c-519e-4ad5-b184-fcb320b6e698",
   "metadata": {},
   "source": [
    "返回的结果是布尔类型"
   ]
  }
 ],
 "metadata": {
  "celltoolbar": "Slideshow",
  "kernelspec": {
   "display_name": "Python 3 (ipykernel)",
   "language": "python",
   "name": "python3"
  },
  "language_info": {
   "codemirror_mode": {
    "name": "ipython",
    "version": 3
   },
   "file_extension": ".py",
   "mimetype": "text/x-python",
   "name": "python",
   "nbconvert_exporter": "python",
   "pygments_lexer": "ipython3",
   "version": "3.10.14"
  },
  "toc": {
   "base_numbering": 1,
   "nav_menu": {},
   "number_sections": true,
   "sideBar": true,
   "skip_h1_title": false,
   "title_cell": "Table of Contents",
   "title_sidebar": "Contents",
   "toc_cell": false,
   "toc_position": {
    "height": "calc(100% - 180px)",
    "left": "10px",
    "top": "150px",
    "width": "261.5px"
   },
   "toc_section_display": true,
   "toc_window_display": true
  },
  "widgets": {
   "application/vnd.jupyter.widget-state+json": {
    "state": {},
    "version_major": 2,
    "version_minor": 0
   }
  }
 },
 "nbformat": 4,
 "nbformat_minor": 5
}
