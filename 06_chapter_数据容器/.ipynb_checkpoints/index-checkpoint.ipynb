{
 "cells": [
  {
   "cell_type": "markdown",
   "id": "28c14946-f66b-443c-b573-2d3acca1b73a",
   "metadata": {},
   "source": [
    "# 数据容器\n",
    "当我们学习一个新的名词的时候，应该提出三个问题<br>\n",
    "1.为什么要用数据容器<br>\n",
    "在我们的程序中，有时候我需要将一个学生的数据放到一起，怎么显示，通过字面量来实现吗？ 不 我们得通过一个容器来实现，并实现对应的关系<br>\n",
    "2.数据容器是什么<br>\n",
    "在python中 数据容器是一个可以容纳多份数据的数据类型的一个容器，主要是用来存放我们的数据。<br>\n",
    "3.数据容器怎么用？<br>\n",
    "学完回答这个问题<br>\n",
    "\n",
    "我们的数据容器包括：列表（list）、元组（tuple）、字符串（str）、集合（set）、字典（dict）；<br>\n",
    "主要是根据每一种容器的不同特性来定义每一种容器的，有些容器中的数据不可修改，有些容器中的数据不允许重复，有些容器中的数据是有序的有些和无序的等等。<br>\n",
    "\n",
    "\n",
    ":begin_tab:toc\n",
    " - [01_列表与元组](01_列表与元组.ipynb)\n",
    " - [02_字符串](02_字符串.ipynb)\n",
    " - [03_切片操作](03_切片操作.ipynb)\n",
    " - [04_集合与字典](04_集合与字典.ipynb)\n",
    " - [05_数据容器的通用方法](05_数据容器的通用方法.ipynb)\n",
    " - [06_推导式](06_推导式.ipynb)\n",
    "\n",
    ":end_tab:"
   ]
  },
  {
   "cell_type": "code",
   "execution_count": null,
   "id": "df7a61b7-ffbb-4749-9b85-1cb403dc57fc",
   "metadata": {},
   "outputs": [],
   "source": []
  }
 ],
 "metadata": {
  "kernelspec": {
   "display_name": "Python 3 (ipykernel)",
   "language": "python",
   "name": "python3"
  },
  "language_info": {
   "codemirror_mode": {
    "name": "ipython",
    "version": 3
   },
   "file_extension": ".py",
   "mimetype": "text/x-python",
   "name": "python",
   "nbconvert_exporter": "python",
   "pygments_lexer": "ipython3",
   "version": "3.10.15"
  }
 },
 "nbformat": 4,
 "nbformat_minor": 5
}
