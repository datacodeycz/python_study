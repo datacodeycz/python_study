{
 "cells": [
  {
   "cell_type": "markdown",
   "id": "f68c372a-8973-4d7c-b68b-15c1a6684442",
   "metadata": {},
   "source": [
    "## 数据容器-list(列表)\n",
    "列表是什么：列表是一种数据容器\n",
    "\n",
    "列表的特点：1.有序；2.可以存储重复的元素；3.可以存储不同类型的元素；4.可以被修改"
   ]
  },
  {
   "cell_type": "markdown",
   "id": "b9b08ae6-1828-44db-ba79-309f99edc391",
   "metadata": {},
   "source": [
    "### 列表的创建\n",
    "首先列表作为一个容器，肯定是需要存放数据的，需要创建列表，用来存放数据"
   ]
  },
  {
   "cell_type": "code",
   "execution_count": 2,
   "id": "fd1a9f57-efff-4cd7-800b-7c269d8b762f",
   "metadata": {},
   "outputs": [
    {
     "name": "stdout",
     "output_type": "stream",
     "text": [
      "[]\n",
      "[]\n",
      "[]\n",
      "[1, 2, 3, 4, 5]\n"
     ]
    }
   ],
   "source": [
    "# 创建列表操作\n",
    "print([])\n",
    "a = []\n",
    "print(a)\n",
    "a = list()\n",
    "print(a)\n",
    "\n",
    "# 创建列表时，就给a容器存放数据\n",
    "a = [1,2,3,4,5]\n",
    "print(a)\n",
    "# a = list(1,2,3,4,5)  # 会报错\n",
    "\n",
    "# list() 主要用处，是将其他的数据容器转换成列表容器\n",
    "# list() 创建容器，只能创建空的列表。"
   ]
  },
  {
   "cell_type": "code",
   "execution_count": 3,
   "id": "30836eb7-231a-4c8a-bdff-1982b5b8a929",
   "metadata": {},
   "outputs": [
    {
     "name": "stdout",
     "output_type": "stream",
     "text": [
      "[]\n",
      "[1, 2, 3, 4]\n",
      "[]\n",
      "[1, 2, '3', 'a', 'c', True]\n",
      "[[1, 2, 3], [4, 5, 6], [7, 8, 9]]\n"
     ]
    }
   ],
   "source": [
    "# 列表的创建\n",
    "# 1. 使用[]创建列表\n",
    "[]  # 这是一个字面量形式的空列表，如果我们要在各个地方使用它，就需要一个变量指向这个列表\n",
    "a = []  # a 指向这个空列表\n",
    "\n",
    "# 在列表中增加元素  注意：在列表中的数据叫做元素，一个个元素\n",
    "b = [1,2,3,4]  # 增加元素通过逗号分开 这行代码表示列表中有4个元素，分别是1，2，3，4\n",
    "print(a)\n",
    "print(b)\n",
    "# 2. 使用list()创建空列表 \n",
    "c = list()  # 使用list()创建一个空列表\n",
    "# ps：list()函数用于将不同类型的可迭代对象转换为列表形式，所以如果要使用list()函数去创建列表，那只能创建一个空的列表\n",
    "print(c)\n",
    "\n",
    "d = [1,2,\"3\",\"a\",\"c\",True]\n",
    "print(d)\n",
    "\n",
    "# 注意 列表可以一次性存储多个数据，并且可以为不同的数据类型，所以列表中的元素也可以是一个列表，即二维列表\n",
    "\n",
    "# 二维列表  当然也可以多维列表，这里就不一一举例了\n",
    "e = [\n",
    "    [1,2,3],\n",
    "    [4,5,6],\n",
    "    [7,8,9]\n",
    "]\n",
    "print(e)"
   ]
  },
  {
   "cell_type": "code",
   "execution_count": 4,
   "id": "ba7c8879-fccb-448a-ad9b-a1fca3773224",
   "metadata": {},
   "outputs": [
    {
     "name": "stdout",
     "output_type": "stream",
     "text": [
      "[1, 'qwe', True]\n",
      "[[1, 2, 3], [4, 5, 6]]\n"
     ]
    }
   ],
   "source": [
    "a = [1,\"qwe\",True]\n",
    "print(a)\n",
    "# 问题：列表本身就是一个数据类型，我们可不可以在列表中存一个列表\n",
    "a = [\n",
    "    [1,2,3],\n",
    "    [4,5,6],\n",
    "]\n",
    "print(a)\n",
    "\n",
    "# 三维列表\n",
    "a = [\n",
    "    [\n",
    "        [1,2,3],\n",
    "        [4,5,6]\n",
    "    ],\n",
    "    \n",
    "    [\n",
    "        [7,8,9],\n",
    "        [10,11,12]\n",
    "    ]\n",
    "]\n"
   ]
  },
  {
   "cell_type": "markdown",
   "id": "50748212-e3f7-45b1-94a4-f8e293b93e44",
   "metadata": {},
   "source": [
    "### 列表的操作\n",
    "\n",
    "1.访问列表的中的元素\\\n",
    "```列表名[num]``` \\\n",
    "注意：表中存储的每一个元素都有对应的索引，我们可以通过索引去访问对应的元素 索引是 开始到末尾是从0开始到length-1，而末尾到开始是从-1到-length\\\n",
    "2.修改列表中对应的元素-- 通过下标去修改列表中对应的元素\\\n",
    " ``列表名[num] = 需要修改的值``\\\n",
    "3.新增元素<br>\n",
    "(1)```列表名.insert(参数1，参数2)``` 在指定的下标位置，插入指定的元素\\\n",
    "(2)```列表名.append(元素)``` 将指定元素，增加到列表的尾部\\\n",
    "(3)```列表名.extend(容器)```将参数容器的内容依次取出，插入到列表的尾部\\\n",
    "4.删除元素<br>\n",
    "(1)``del 列表名[下标]``\\\n",
    "(2)``列表名.pop[下标]``\\\n",
    "(3)```列表.remove(元素)``` 从正方向，删除出现的第一个元素\\\n",
    "5.清空元素<\\\n",
    "```列表名.clear()``` 清空列表\\\n",
    "6.统计元素个数\\\n",
    "```len(列表名)```\\\n",
    "7.通过元素值查找元素对应的下标--注意返回的是正下标\\\n",
    "```列表名.index(元素值)```\\\n",
    "8.统计某个元素在列表中出现的次数\\\n",
    "```列表名.count```"
   ]
  },
  {
   "cell_type": "code",
   "execution_count": 13,
   "id": "4f686fab-b6cf-4921-8b7b-ee14b76a1ccb",
   "metadata": {},
   "outputs": [
    {
     "name": "stdout",
     "output_type": "stream",
     "text": [
      "[1, 2, 3, 4]\n"
     ]
    }
   ],
   "source": [
    "# 列表的操作\n",
    "\n",
    "test_list = [1,2,3,4]\n",
    "test_list1 = [\"a\",\"b\",\"c\"]\n",
    "# 1.访问列表的中的元素\n",
    "print(test_list)"
   ]
  },
  {
   "cell_type": "code",
   "execution_count": 14,
   "id": "326a5113-a80b-4c05-bcdd-85d3a1902842",
   "metadata": {},
   "outputs": [
    {
     "name": "stdout",
     "output_type": "stream",
     "text": [
      "[1, 2, 5, 4]\n"
     ]
    }
   ],
   "source": [
    "# 2.通过下标修改列表中对应的元素\n",
    "test_list[2] = 5\n",
    "print(test_list)"
   ]
  },
  {
   "cell_type": "code",
   "execution_count": 15,
   "id": "9bd50108-b4a8-4b48-833f-fbb824e61fa4",
   "metadata": {},
   "outputs": [
    {
     "name": "stdout",
     "output_type": "stream",
     "text": [
      "[1, 'a', 2, 5, 4]\n"
     ]
    }
   ],
   "source": [
    "# 3. 增加元素\n",
    "# 3.1 在指定的下标位置增加元素\n",
    "test_list.insert(1,\"a\") \n",
    "'''\n",
    "insert()方法\n",
    "功能：在指定下标位置插入元素\n",
    "输入：\n",
    "    1.要插入的位置下标\n",
    "    2.要插入的元素\n",
    "输出：\n",
    "    None\n",
    "\n",
    "'''\n",
    "print(test_list)"
   ]
  },
  {
   "cell_type": "code",
   "execution_count": 16,
   "id": "f6a86652-1eb7-43d9-978f-483147802d9c",
   "metadata": {},
   "outputs": [
    {
     "name": "stdout",
     "output_type": "stream",
     "text": [
      "[1, 'a', 2, 5, 4, 1]\n"
     ]
    }
   ],
   "source": [
    "# 3.2在列表末尾增加元素\n",
    "test_list.append(1)\n",
    "'''\n",
    "append()方法\n",
    "功能：在列表末尾增加元素 只能增加一个指定元素\n",
    "输入：\n",
    "    1.要增加的元素\n",
    "输出：\n",
    "    None\n",
    "'''\n",
    "print(test_list)"
   ]
  },
  {
   "cell_type": "code",
   "execution_count": 17,
   "id": "824189d6-76bc-4f0e-b64e-a483fb7a4191",
   "metadata": {},
   "outputs": [
    {
     "name": "stdout",
     "output_type": "stream",
     "text": [
      "[1, 'a', 2, 5, 4, 1, 1, 2, 3]\n"
     ]
    }
   ],
   "source": [
    "# 3.3 在列表末尾增加一组元素\n",
    "test_list.extend([1,2,3])\n",
    "'''\n",
    "extend()方法\n",
    "功能：在列表末尾增加一组元素\n",
    "输入：\n",
    "    1.要增加的一组元素（以数据容器的方式写入）\n",
    "输出：\n",
    "    None\n",
    "'''\n",
    "print(test_list)"
   ]
  },
  {
   "cell_type": "code",
   "execution_count": 18,
   "id": "97e17e2b-3b11-4b9d-9faf-e344ac17ef39",
   "metadata": {},
   "outputs": [
    {
     "name": "stdout",
     "output_type": "stream",
     "text": [
      "['a', 2, 5, 4, 1, 1, 2, 3]\n"
     ]
    }
   ],
   "source": [
    "# 4. 删除元素\n",
    "# 4.1使用del 删除指定下标元素\n",
    "del test_list[0]  # 注意：执行多少次都会删除下标为0的元素，而当列表中的下标为0的元素被删除后，元素下标会更新，总会有下标为0的元素\n",
    "print(test_list)"
   ]
  },
  {
   "cell_type": "code",
   "execution_count": 19,
   "id": "8a4f3e7e-d134-4609-951e-a57e349c4da9",
   "metadata": {},
   "outputs": [
    {
     "name": "stdout",
     "output_type": "stream",
     "text": [
      "['a', 5, 4, 1, 1, 2, 3]\n"
     ]
    }
   ],
   "source": [
    "# 4.2 使用pop()删除列表中的指定元素\n",
    "test_list.pop(1)\n",
    "print(test_list)"
   ]
  },
  {
   "cell_type": "code",
   "execution_count": 20,
   "id": "d998a0bb-467a-436d-9937-fc01da99b808",
   "metadata": {},
   "outputs": [
    {
     "name": "stdout",
     "output_type": "stream",
     "text": [
      "['a', 'c']\n"
     ]
    }
   ],
   "source": [
    "# 4.3 使用remove删除列表中第一个匹配到的元素\n",
    "test_list1.remove(\"b\")\n",
    "print(test_list1)  # 注意：4.1，4.2的方法中的参数是下标，而这里的参数是元素值"
   ]
  },
  {
   "cell_type": "code",
   "execution_count": 21,
   "id": "7d1791f0-58d8-4e0b-a8b0-4c52982beb51",
   "metadata": {},
   "outputs": [
    {
     "name": "stdout",
     "output_type": "stream",
     "text": [
      "[]\n"
     ]
    }
   ],
   "source": [
    "# 5. 清空列表\n",
    "test_list.clear()\n",
    "print(test_list)"
   ]
  },
  {
   "cell_type": "code",
   "execution_count": 22,
   "id": "1c9683ec-d3f8-4355-b187-d502076f4eeb",
   "metadata": {},
   "outputs": [
    {
     "name": "stdout",
     "output_type": "stream",
     "text": [
      "0\n"
     ]
    }
   ],
   "source": [
    "# 6.统计元素的个数\n",
    "print(len(test_list))"
   ]
  },
  {
   "cell_type": "code",
   "execution_count": 23,
   "id": "1c131582-ad78-4e07-b778-b6a064d0b13e",
   "metadata": {},
   "outputs": [
    {
     "data": {
      "text/plain": [
       "0"
      ]
     },
     "execution_count": 23,
     "metadata": {},
     "output_type": "execute_result"
    }
   ],
   "source": [
    "# 7.通过元素值查找元素对应的下标\n",
    "test_list = [1,2,3]\n",
    "test_list.index(1)"
   ]
  },
  {
   "cell_type": "code",
   "execution_count": 24,
   "id": "0eac2b61-ed72-4c57-9014-95e0aa0fdd0d",
   "metadata": {},
   "outputs": [
    {
     "data": {
      "text/plain": [
       "1"
      ]
     },
     "execution_count": 24,
     "metadata": {},
     "output_type": "execute_result"
    }
   ],
   "source": [
    "# 8.统计某个元素在列表中出现的次数\n",
    "test_list.count(1)  # 这里的参数也是元素值"
   ]
  },
  {
   "cell_type": "markdown",
   "id": "a4fed1e8-77b2-4e10-9316-873a1374f985",
   "metadata": {},
   "source": [
    "### 列表的遍历\n",
    "1. 使用while循环，遍历列表中的元素\n",
    "2. 使用for循环，遍历列表中的元素"
   ]
  },
  {
   "cell_type": "code",
   "execution_count": 25,
   "id": "f0c0c854-d8e0-42b4-9238-5273bc5f5f9a",
   "metadata": {},
   "outputs": [
    {
     "name": "stdout",
     "output_type": "stream",
     "text": [
      "3\n",
      "1\n",
      "4\n",
      "2\n",
      "5\n",
      "3\n",
      "2\n"
     ]
    }
   ],
   "source": [
    "# while\n",
    "list1 = [3,1,4,2,5,3,2]\n",
    "\n",
    "index = 0\n",
    "while index < len(list1):\n",
    "    print(list1[index]);\n",
    "    index = index + 1"
   ]
  },
  {
   "cell_type": "code",
   "execution_count": 26,
   "id": "b8317954-c779-4245-8d60-ccacc6d0644c",
   "metadata": {},
   "outputs": [
    {
     "name": "stdout",
     "output_type": "stream",
     "text": [
      "3\n",
      "1\n",
      "4\n",
      "2\n",
      "5\n",
      "3\n",
      "2\n"
     ]
    }
   ],
   "source": [
    "# 使用while循环遍历\n",
    "list1 = [3,1,4,2,5,3,2]\n",
    "\n",
    "# index为下标\n",
    "index = 0\n",
    "while index < len(list1):\n",
    "    # 在控制台输出下标为index的元素\n",
    "    print(list1[index])\n",
    "    # 控制index往后 + 1 \n",
    "    index = index + 1"
   ]
  },
  {
   "cell_type": "code",
   "execution_count": 27,
   "id": "22fbaaeb-8483-45ad-a525-f98b73c8905f",
   "metadata": {},
   "outputs": [
    {
     "name": "stdout",
     "output_type": "stream",
     "text": [
      "2\n",
      "3\n",
      "123\n",
      "12\n",
      "43\n",
      "4\n"
     ]
    }
   ],
   "source": [
    "# 使用for循环遍历\n",
    "list2 = [2,3,123,12,43,4]\n",
    "for x in list2:\n",
    "    # 输出x从list2中获取到的元素\n",
    "    print(x)"
   ]
  },
  {
   "cell_type": "markdown",
   "id": "f00cc6db-e408-4730-91fa-2c67354d00d4",
   "metadata": {},
   "source": [
    "小结：\n",
    "1. 使用while循环可以人为的控制条件并输出的结果，例如 我可以控制输出下标为奇数对应的元素，只需要将 index = 1  index = index + 2即可\n",
    "2. 使用for循环，更简单，更直观的体现了遍历的过程，并且只能将所有元素进行遍历，但是这不妨碍for循环控制输出的结果，可以借助if语句和continue关键字"
   ]
  },
  {
   "cell_type": "markdown",
   "id": "9085e416-1488-4010-934e-c18130a3a8ae",
   "metadata": {},
   "source": [
    "### 列表小结\n",
    "通过学习，我们可以总结列表的一些特点，到最后我们学完所有容器，再做一次总结\\\n",
    "1.列表可以容纳多个元素，上限为2^63 - 1\\\n",
    "2.列表可以容纳不同数据类型的元素（跟Java作比较）\\\n",
    "3.列表中的数据都是有下标，按照下标的顺序排列\\\n",
    "4.列表中的数据是可以重复出现的\\\n",
    "5.列表中的数据是可以被修改的"
   ]
  },
  {
   "cell_type": "markdown",
   "id": "b44ddcfb-a32d-4078-8a06-e6713066a734",
   "metadata": {},
   "source": [
    "## 数据容器-tuple(元组)\n",
    "有时候我们需要一个容器来存放重要的数据，这个重要的数据是不允许被修改的，如果我们还用列表的话，列表中的元素是会被修改的，所以我们要引入一个新的数据容器-元组，**元组中的元素一旦定义确定后，是不可被修改的**\n",
    "\n",
    "元组的特点：1.有序；2.可以存储重复的元素；3.可以存储不同类型的元素；4.不可被修改"
   ]
  },
  {
   "cell_type": "markdown",
   "id": "df082032-5385-45e9-840b-451da9c210a1",
   "metadata": {},
   "source": [
    "### 元组的创建\n",
    "定义元组使用小括号，并且使用逗号隔开各个数据，数据**可以是不同数据类型**"
   ]
  },
  {
   "cell_type": "code",
   "execution_count": 28,
   "id": "cf99017c-8f76-421f-8626-54e029d6c0a6",
   "metadata": {},
   "outputs": [
    {
     "name": "stdout",
     "output_type": "stream",
     "text": [
      "()\n",
      "(1, 2, 3, 4)\n",
      "(1, 2, 3)\n",
      "[1, 2, 3, 4]\n"
     ]
    }
   ],
   "source": [
    "# 创建空元组\n",
    "()  # 空元组\n",
    "\n",
    "print(tuple())  # 空元组\n",
    "\n",
    "a = ()\n",
    "\n",
    "# 创建时给元组增加元素\n",
    "\n",
    "a = (1,2,3,4)\n",
    "print(a)\n",
    "\n",
    "a= tuple([1,2,3])  # 用于创建空元组,可以将其他的数据容器中的数据存储到元组中\n",
    "print(a)\n",
    "\n",
    "# 通过list() 将元组中的元素存放到列表\n",
    "\n",
    "b = list((1,2,3,4))\n",
    "print(b)"
   ]
  },
  {
   "cell_type": "code",
   "execution_count": 29,
   "id": "b77bdb43-0633-4c92-bc56-c9eb5b1a5fc6",
   "metadata": {},
   "outputs": [
    {
     "name": "stdout",
     "output_type": "stream",
     "text": [
      "('a', 'b', 3, 4)\n"
     ]
    }
   ],
   "source": [
    "# 元组的创建\n",
    "# 1.定义一个没有变量指向的字面量\n",
    "(1,2,3,4)\n",
    "\n",
    "# 用一个变量指向元组这个字面量\n",
    "a = ()\n",
    "a = (\"a\",\"b\",3,4)\n",
    "print(a)"
   ]
  },
  {
   "cell_type": "code",
   "execution_count": 30,
   "id": "1f9eb11f-6383-4c16-80c3-abc4772d8b01",
   "metadata": {},
   "outputs": [
    {
     "name": "stdout",
     "output_type": "stream",
     "text": [
      "('a', 'b', 3, 4)\n",
      "()\n"
     ]
    }
   ],
   "source": [
    "# 2. 使用tuple()函数创建空元组容器\n",
    "\n",
    "b = tuple()  # tuple()函数主要是将其他数据容器转换成元组容器，所以如果直接通过基本数据类型字面量的方式是无法将元素写入到元组中的\n",
    "print(a)\n",
    "print(b)"
   ]
  },
  {
   "cell_type": "markdown",
   "id": "21dc79b1-9a13-43e1-a9d4-98ac11bf86be",
   "metadata": {},
   "source": [
    "### 元组的操作\n",
    "由于元组在创建的时候就已经确定的元组中的元素，所以无法进行增删改的操作，只能进行查找操作<br>\n",
    "操作有<br>\n",
    "1.元组名\\[num\\]:访问元组中对应下标的元素值<br>\n",
    "2.index():查找某个元素，返回对应的下标，如果不存在会报错<br>\n",
    "3.count()：统计某个元素在当前元组中出现的次数<br>\n",
    "4.len(元组):统计元组内的元素个数<br>"
   ]
  },
  {
   "cell_type": "code",
   "execution_count": 32,
   "id": "b9e657c1-fff9-4ec7-8868-b8367bde1549",
   "metadata": {},
   "outputs": [
    {
     "name": "stdout",
     "output_type": "stream",
     "text": [
      "2\n",
      "1\n",
      "3\n",
      "7\n"
     ]
    }
   ],
   "source": [
    "test_tuple = (1,2,3,4,5,1,1)\n",
    "\n",
    "# 1.访问元素值\n",
    "print(test_tuple[1])\n",
    "# 2.index()\n",
    "print(test_tuple.index(2))\n",
    "# 3.count()\n",
    "print(test_tuple.count(1))\n",
    "# 4.len()\n",
    "print(len(test_tuple))"
   ]
  },
  {
   "cell_type": "markdown",
   "id": "41de930e-9d29-482a-9af5-1733db5ef3b9",
   "metadata": {},
   "source": [
    "## 元组的遍历\n",
    "while循环语句<br>\n",
    "for循环语句<br>"
   ]
  },
  {
   "cell_type": "code",
   "execution_count": 33,
   "id": "a9871790-7be4-49a9-9718-c9856f904ce5",
   "metadata": {},
   "outputs": [
    {
     "name": "stdout",
     "output_type": "stream",
     "text": [
      "1\n",
      "2\n",
      "3\n",
      "4\n",
      "5\n",
      "1\n",
      "1\n"
     ]
    }
   ],
   "source": [
    "# while循环语句\n",
    "index = 0\n",
    "while index < len(test_tuple):\n",
    "    print(test_tuple[index])\n",
    "    index = index + 1"
   ]
  },
  {
   "cell_type": "code",
   "execution_count": 34,
   "id": "61a55cf9-080e-476d-bdf7-51d0cd0d54af",
   "metadata": {},
   "outputs": [
    {
     "name": "stdout",
     "output_type": "stream",
     "text": [
      "1\n",
      "2\n",
      "3\n",
      "4\n",
      "5\n",
      "1\n",
      "1\n"
     ]
    }
   ],
   "source": [
    "# for循环遍历\n",
    "for x in test_tuple:\n",
    "    print(x)"
   ]
  },
  {
   "cell_type": "markdown",
   "id": "59412b1d-9648-4a03-8382-ad9f385838ad",
   "metadata": {},
   "source": [
    "### 元组小结\n",
    "1.可以存储多个数据<br>\n",
    "2.可以存放不同数据类型的数据<br>\n",
    "3.元组中的数据都是有对应的下标的<br>\n",
    "4.允许出现重复的数据<br>\n",
    "5.**不可以被修改**<br>\n",
    "6.可以使用for循环遍历查找<br>"
   ]
  },
  {
   "cell_type": "code",
   "execution_count": null,
   "id": "909d79e2-79ee-4935-938f-8f2ebf05b5e5",
   "metadata": {},
   "outputs": [],
   "source": []
  }
 ],
 "metadata": {
  "kernelspec": {
   "display_name": "Python 3 (ipykernel)",
   "language": "python",
   "name": "python3"
  },
  "language_info": {
   "codemirror_mode": {
    "name": "ipython",
    "version": 3
   },
   "file_extension": ".py",
   "mimetype": "text/x-python",
   "name": "python",
   "nbconvert_exporter": "python",
   "pygments_lexer": "ipython3",
   "version": "3.10.15"
  }
 },
 "nbformat": 4,
 "nbformat_minor": 5
}
