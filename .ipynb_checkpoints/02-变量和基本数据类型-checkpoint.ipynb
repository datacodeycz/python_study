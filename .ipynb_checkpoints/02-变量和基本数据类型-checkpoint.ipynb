{
 "cells": [
  {
   "cell_type": "markdown",
   "id": "a9ba1cc0",
   "metadata": {
    "editable": true,
    "slideshow": {
     "slide_type": "slide"
    },
    "tags": []
   },
   "source": [
    "# 字面量\n",
    "字面量的概念就是存储的是什么"
   ]
  },
  {
   "cell_type": "code",
   "execution_count": 1,
   "id": "dd1ecddf",
   "metadata": {
    "editable": true,
    "slideshow": {
     "slide_type": ""
    },
    "tags": []
   },
   "outputs": [
    {
     "data": {
      "text/plain": [
       "300"
      ]
     },
     "execution_count": 1,
     "metadata": {},
     "output_type": "execute_result"
    }
   ],
   "source": [
    "# 例如\n",
    "300"
   ]
  },
  {
   "cell_type": "code",
   "execution_count": 2,
   "id": "f28064d4",
   "metadata": {},
   "outputs": [
    {
     "data": {
      "text/plain": [
       "100.0"
      ]
     },
     "execution_count": 2,
     "metadata": {},
     "output_type": "execute_result"
    }
   ],
   "source": [
    "100.0"
   ]
  },
  {
   "cell_type": "code",
   "execution_count": 3,
   "id": "423a2ad0",
   "metadata": {
    "editable": true,
    "slideshow": {
     "slide_type": ""
    },
    "tags": []
   },
   "outputs": [
    {
     "data": {
      "text/plain": [
       "'yuanchengzhi'"
      ]
     },
     "execution_count": 3,
     "metadata": {},
     "output_type": "execute_result"
    }
   ],
   "source": [
    "\"yuanchengzhi\""
   ]
  },
  {
   "cell_type": "markdown",
   "id": "3dd5a4f2",
   "metadata": {
    "editable": true,
    "slideshow": {
     "slide_type": "slide"
    },
    "tags": []
   },
   "source": [
    "python是一门解释性语言，所以没有编译的过程，边执行边解释，而java是一门编译型语言，写好的代码需要先编译，然后生成class文件，才可以运行，所以Java的性能比python的性能更好一点，我们可以通过之前学过的js来理解python，浏览器给我们提供了一个js的交互性功能，我们可以直接在浏览器中的控制台进行js代码的交互，通过python解释器也为我提供了交互的功能。"
   ]
  },
  {
   "cell_type": "markdown",
   "id": "5e81928e",
   "metadata": {
    "editable": true,
    "slideshow": {
     "slide_type": "slide"
    },
    "tags": []
   },
   "source": [
    "# 变量\n",
    "在python中的变量不需要声明，每个变量在使用前都必须赋值，变量赋值以后该变量才会被创建，并且在python中，变量就是变量，它没有类型，所谓的类型是指变量所指内存中的对象的类型。"
   ]
  },
  {
   "cell_type": "code",
   "execution_count": 1,
   "id": "9d0aa272",
   "metadata": {},
   "outputs": [
    {
     "data": {
      "text/plain": [
       "100"
      ]
     },
     "execution_count": 1,
     "metadata": {},
     "output_type": "execute_result"
    }
   ],
   "source": [
    "a = 100\n",
    "a"
   ]
  },
  {
   "cell_type": "code",
   "execution_count": 2,
   "id": "ada0da47",
   "metadata": {},
   "outputs": [],
   "source": [
    "a = \"hello world\""
   ]
  },
  {
   "cell_type": "code",
   "execution_count": 3,
   "id": "3e7d7e56",
   "metadata": {},
   "outputs": [
    {
     "data": {
      "text/plain": [
       "'hello world'"
      ]
     },
     "execution_count": 3,
     "metadata": {},
     "output_type": "execute_result"
    }
   ],
   "source": [
    "a"
   ]
  },
  {
   "cell_type": "code",
   "execution_count": 1,
   "id": "73fb2e1d",
   "metadata": {},
   "outputs": [
    {
     "name": "stdout",
     "output_type": "stream",
     "text": [
      "null\n"
     ]
    }
   ],
   "source": [
    "b = \"null\"\n",
    "print(b)"
   ]
  },
  {
   "cell_type": "markdown",
   "id": "a81f9641",
   "metadata": {
    "editable": true,
    "slideshow": {
     "slide_type": "slide"
    },
    "tags": []
   },
   "source": [
    "# 数据类型\n",
    "常用的数据类型<br>\n",
    "数字（Number）\n",
    "    **1.整数（int）\n",
    "    2.浮点数（float）**\n",
    "    3.复数（complex）\n",
    "    4.布尔（bool）<br>\n",
    "**字符串（String）：描述文本的一种数据类型，由字符组成<br>\n",
    "列表（list）：有序的可变序列<br>\n",
    "元组（Tuple）：有序的不可变序列<br>\n",
    "集合（set）：无序不重复集合<br>\n",
    "字典（Dict）：无序key—value集合**<br>"
   ]
  },
  {
   "cell_type": "code",
   "execution_count": 3,
   "id": "94ec5016",
   "metadata": {},
   "outputs": [
    {
     "data": {
      "text/plain": [
       "(10, 3.14, 'String')"
      ]
     },
     "execution_count": 3,
     "metadata": {},
     "output_type": "execute_result"
    }
   ],
   "source": [
    "# 数据类型\n",
    "a = 10  # int\n",
    "b = 3.14 # float\n",
    "s = \"String\" #string\n",
    "a,b,s"
   ]
  },
  {
   "cell_type": "markdown",
   "id": "e0ad05dc",
   "metadata": {
    "editable": true,
    "slideshow": {
     "slide_type": "slide"
    },
    "tags": []
   },
   "source": [
    "# 变量和数据类型的关系\n",
    "变量是一个未知的，分配好空间的一个量<br>\n",
    "数据类型是指字面量的数据类型，<br>\n",
    "当我们使用赋值操作 ` a = 字面量`时，是将字面量存储的地址赋给了a，a执行这个变量的地址，a本身没有数据类型，当我们对a做一些非赋值的操作时，实际是操作的字面量<br>"
   ]
  },
  {
   "cell_type": "code",
   "execution_count": 6,
   "id": "307e2802",
   "metadata": {},
   "outputs": [
    {
     "name": "stdout",
     "output_type": "stream",
     "text": [
      "<class 'int'>\n"
     ]
    }
   ],
   "source": [
    "# a # 变量\n",
    "10 # 字面量\n",
    "a = 10 # 将a实际上等于10的地址\n",
    "\n",
    "# type()函数，查看变量的数据类型--->实际上是查看a存储地址的那个字面量的数据类型，这里以后我们都统称为变量的数据类型\n",
    "print(type(a))"
   ]
  },
  {
   "cell_type": "markdown",
   "id": "1741b731",
   "metadata": {
    "editable": true,
    "slideshow": {
     "slide_type": "slide"
    },
    "tags": []
   },
   "source": [
    "# 数据类型转换\n",
    "应用：在进行算术运算的时候，需要两个数都是数字类型，但是有时候得到的两个数都是其他数据类型的，就需要借助数据类型转换来实现转换成数字类型，这里不需要想java一样考虑 高转低 还是 低转高，直接使用即可"
   ]
  },
  {
   "cell_type": "code",
   "execution_count": 9,
   "id": "b80a0103",
   "metadata": {},
   "outputs": [
    {
     "name": "stdout",
     "output_type": "stream",
     "text": [
      "1020\n",
      "<class 'int'>\n",
      "<class 'int'>\n",
      "30\n",
      "<class 'int'>\n",
      "<class 'str'>\n"
     ]
    }
   ],
   "source": [
    "\n",
    "# 使用的函数 int()\n",
    "a = \"10\"\n",
    "b = \"20\"\n",
    "c = \"非数字\"\n",
    "# 需求：将a与b进行算数加法运算\n",
    "result = a + b\n",
    "print(result)  #进行了字符串的拼接，将10和20拼接起来了\n",
    "# int()\n",
    "'''\n",
    "功能：将传进来的值转换成整数\n",
    "输入：要转换的变量\n",
    "输出：转换为整数的结果\n",
    "'''\n",
    "a_int = int(a)\n",
    "print(type(a_int))\n",
    "b_int = int(b)\n",
    "print(type(b_int))\n",
    "result = int(a) + int(b) # 实现了a 与b的算术加法运算\n",
    "print(result)\n",
    "print(type(int(a)))\n",
    "print(type(a))\n",
    "\n",
    "# 当变量中存储的是非数字，那么是无法转换的，并且会报错\n",
    "# print(int(c))"
   ]
  },
  {
   "cell_type": "code",
   "execution_count": 7,
   "id": "a9876bfd",
   "metadata": {
    "editable": true,
    "slideshow": {
     "slide_type": "slide"
    },
    "tags": []
   },
   "outputs": [
    {
     "name": "stdout",
     "output_type": "stream",
     "text": [
      "100分\n",
      "<class 'str'>\n"
     ]
    }
   ],
   "source": [
    "# 使用的函数 str()\n",
    "'''\n",
    "str()\n",
    "功能：将传进来的值转换成文本\n",
    "输入：要转换的变量或字面量\n",
    "输出：转换为文本的结果\n",
    "\n",
    "你好 python3\n",
    "'''\n",
    "# 将a转换成字符串，并且实现a 与 b的字符串的拼接\n",
    "a = 100\n",
    "b = \"分\"\n",
    "print(str(a) + \"分\")\n",
    "print(type(str(a)))"
   ]
  },
  {
   "cell_type": "code",
   "execution_count": 9,
   "id": "965d8e58",
   "metadata": {
    "editable": true,
    "slideshow": {
     "slide_type": ""
    },
    "tags": []
   },
   "outputs": [
    {
     "data": {
      "text/plain": [
       "3.0"
      ]
     },
     "execution_count": 9,
     "metadata": {},
     "output_type": "execute_result"
    }
   ],
   "source": [
    "# 使用函数 float()\n",
    "a = 3\n",
    "b = 4.98\n",
    "float(a) # 当int类型转换成float类型时，直接将小数部分去掉，不会进行四舍五入"
   ]
  },
  {
   "cell_type": "markdown",
   "id": "a3ee999a",
   "metadata": {
    "editable": true,
    "slideshow": {
     "slide_type": "slide"
    },
    "tags": []
   },
   "source": [
    "# 运算符\n",
    "## 算术运算符\n",
    "常见的算数运算符：加（+）:两个对象相加；<br>减（-）：两个对象相减；<br>乘（*）：两个对象相乘；<br>除（/）（两个对象相除，且被除数不能为0）；<br>取整除（//）：返回商的整数部分；<br>取余（%）：返回除法的余数部分；<br>指数（\\**）：幂运算; <br>\n",
    "ps:算数运算一定是在两个对象都是数字类型的时候才可以正常运算<br>\n",
    "加法可以做字符串的拼接，那里的+不表示算数运算"
   ]
  },
  {
   "cell_type": "code",
   "execution_count": 14,
   "id": "ee70e76e",
   "metadata": {},
   "outputs": [
    {
     "name": "stdout",
     "output_type": "stream",
     "text": [
      "30 -10 200 0.5\n"
     ]
    },
    {
     "data": {
      "text/plain": [
       "8"
      ]
     },
     "execution_count": 14,
     "metadata": {},
     "output_type": "execute_result"
    }
   ],
   "source": [
    "# 测试\n",
    "a = 10\n",
    "b = 20\n",
    "c = 12\n",
    "print(a + b, a - b, a * b, a / b)\n",
    "b // c\n",
    "b % c\n",
    "2 ** 3"
   ]
  },
  {
   "cell_type": "markdown",
   "id": "9991217c",
   "metadata": {},
   "source": [
    "## 赋值运算符\n",
    "`=` 符号：表示把 `=`左右的值赋值给左边的变量"
   ]
  },
  {
   "cell_type": "code",
   "execution_count": 15,
   "id": "05f6204a",
   "metadata": {
    "editable": true,
    "slideshow": {
     "slide_type": "slide"
    },
    "tags": []
   },
   "outputs": [
    {
     "data": {
      "text/plain": [
       "40"
      ]
     },
     "execution_count": 15,
     "metadata": {},
     "output_type": "execute_result"
    }
   ],
   "source": [
    "a =20\n",
    "b = 40\n",
    "a = b\n",
    "a"
   ]
  },
  {
   "cell_type": "markdown",
   "id": "1a32ded8",
   "metadata": {
    "editable": true,
    "slideshow": {
     "slide_type": "slide"
    },
    "tags": []
   },
   "source": [
    "## 复合赋值运算符\n",
    "`+=`: 实例 a += b ===> a = a + b<br>\n",
    "`-=`: 实例 a -= b ===> a = a - b<br>\n",
    "`*=`: 实例 a * = b ====> a = a * b<br>\n",
    "`/=`: 实例 a /= b ====> a = a / b<br>\n",
    "`%=`: 实例 a %= b ====> a = % b<br>\n",
    "`**=`: 实例 a \\**= b ===> a = a ** b<br>"
   ]
  },
  {
   "cell_type": "code",
   "execution_count": 36,
   "id": "3402571e",
   "metadata": {
    "editable": true,
    "slideshow": {
     "slide_type": "slide"
    },
    "tags": []
   },
   "outputs": [
    {
     "data": {
      "text/plain": [
       "30"
      ]
     },
     "execution_count": 36,
     "metadata": {},
     "output_type": "execute_result"
    }
   ],
   "source": [
    "a = 10\n",
    "b = 20\n",
    "a+= b\n",
    "a"
   ]
  },
  {
   "cell_type": "code",
   "execution_count": 37,
   "id": "a12a4ef8",
   "metadata": {
    "editable": true,
    "slideshow": {
     "slide_type": "slide"
    },
    "tags": []
   },
   "outputs": [
    {
     "data": {
      "text/plain": [
       "-10"
      ]
     },
     "execution_count": 37,
     "metadata": {},
     "output_type": "execute_result"
    }
   ],
   "source": [
    "a = 10\n",
    "b = 20\n",
    "a-=b\n",
    "a"
   ]
  },
  {
   "cell_type": "code",
   "execution_count": 38,
   "id": "9718da9b",
   "metadata": {
    "editable": true,
    "slideshow": {
     "slide_type": "slide"
    },
    "tags": []
   },
   "outputs": [
    {
     "data": {
      "text/plain": [
       "200"
      ]
     },
     "execution_count": 38,
     "metadata": {},
     "output_type": "execute_result"
    }
   ],
   "source": [
    "a = 10\n",
    "b = 20\n",
    "a*= b\n",
    "a"
   ]
  },
  {
   "cell_type": "code",
   "execution_count": 39,
   "id": "d6c223a2",
   "metadata": {
    "editable": true,
    "slideshow": {
     "slide_type": "slide"
    },
    "tags": []
   },
   "outputs": [
    {
     "data": {
      "text/plain": [
       "0.5"
      ]
     },
     "execution_count": 39,
     "metadata": {},
     "output_type": "execute_result"
    }
   ],
   "source": [
    "a = 10\n",
    "b = 20\n",
    "a /= b\n",
    "a"
   ]
  },
  {
   "cell_type": "code",
   "execution_count": 40,
   "id": "1bc40c51",
   "metadata": {
    "editable": true,
    "slideshow": {
     "slide_type": "slide"
    },
    "tags": []
   },
   "outputs": [
    {
     "data": {
      "text/plain": [
       "10"
      ]
     },
     "execution_count": 40,
     "metadata": {},
     "output_type": "execute_result"
    }
   ],
   "source": [
    "a = 10\n",
    "b = 20\n",
    "a %=b\n",
    "a"
   ]
  },
  {
   "cell_type": "code",
   "execution_count": 41,
   "id": "16f2494e",
   "metadata": {
    "editable": true,
    "slideshow": {
     "slide_type": ""
    },
    "tags": []
   },
   "outputs": [
    {
     "data": {
      "text/plain": [
       "100000000000000000000"
      ]
     },
     "execution_count": 41,
     "metadata": {},
     "output_type": "execute_result"
    }
   ],
   "source": [
    "a **=b\n",
    "a"
   ]
  },
  {
   "cell_type": "markdown",
   "id": "4eca8cd9",
   "metadata": {
    "editable": true,
    "slideshow": {
     "slide_type": "slide"
    },
    "tags": []
   },
   "source": [
    "## 比较运算符\n",
    "比较运算符，主要是用于变量与变量，或是变量与字面量进行比较，比较的结果为boolean类型（True-真，False-假）<br>\n",
    "`==`：比较变量（字面量）之间是否相等<br>\n",
    "`>`：左变量（字面量）是否大于右变量（字面量）<br>\n",
    "`<`：左变量（字面量）是否小于右变量（字面量）<br>\n",
    "`>=`：左变量（字面量）是否大于等于右变量（字面量）<br>\n",
    "`<=`：左变量（字面量）是否小于等于右变量（字面量）<br>\n",
    "`!=`：比较左右变量（字面量）是否不相等<br>"
   ]
  },
  {
   "attachments": {},
   "cell_type": "markdown",
   "id": "f9deba38-1579-40c5-8dac-2d69b845d2d8",
   "metadata": {},
   "source": [
    "## 成员运算符\n",
    "\n",
    "成员运算符用于判断一个元素是否在某个序列中，如字符串、列表、元组等。 在这里我们先用字符串举例，后续讲到数据容器会再提到\n",
    "\n",
    "</table>\n",
    "<ul>\n",
    "    <ul>运算符</ul>\n",
    "    <ul>in</ul>\n",
    "    <ul>not in</ul>\n",
    "</ul>\n",
    "<ul>\n",
    "    <ul>举例</ul>\n",
    "    <ul>x in y</ul>\n",
    "    <ul>x not in y</ul>\n",
    "</ul>\n",
    "<ul>\n",
    "    <ul>说明</ul>\n",
    "    <ul>在y中找到x的值返回True，否则返回False</ul>\n",
    "    <ul>在y中未找到x的值返回True，否则返回False</ul>\n",
    "</ul>\n",
    "\t\t\n",
    "\t\t\n",
    "\t\t\n",
    "</table>\n"
   ]
  },
  {
   "cell_type": "markdown",
   "id": "0e537090-faec-4f57-b9a1-69b485685983",
   "metadata": {},
   "source": [
    "## 身份运算符"
   ]
  },
  {
   "cell_type": "markdown",
   "id": "c96b7ead-35dd-407b-a40c-b4e6d95b1dbc",
   "metadata": {},
   "source": [
    "## 位运算符"
   ]
  },
  {
   "cell_type": "markdown",
   "id": "dbb85410",
   "metadata": {
    "editable": true,
    "slideshow": {
     "slide_type": "slide"
    },
    "tags": []
   },
   "source": [
    "# 字符串的基础使用"
   ]
  },
  {
   "cell_type": "code",
   "execution_count": 19,
   "id": "7d0537ac",
   "metadata": {
    "editable": true,
    "slideshow": {
     "slide_type": ""
    },
    "tags": []
   },
   "outputs": [
    {
     "name": "stdout",
     "output_type": "stream",
     "text": [
      "hello\n"
     ]
    }
   ],
   "source": [
    "# 创建字符串\n",
    "# 1. ''\n",
    "# 'hello'\n",
    "# 2. \"\"\n",
    "\"hello\"\n",
    "# 3. '''\n",
    "# '''\n",
    "a = '''hello'''\n",
    "print(a)\n",
    "# str1 = 'hello'  # 1.单引号\n",
    "# str2 = \"world\" # 2.双引号\n",
    "# str3 = '''python''' # 3.三个单引号\n",
    "# str1,str2,str3"
   ]
  },
  {
   "cell_type": "markdown",
   "id": "6a5d6a96",
   "metadata": {
    "editable": true,
    "slideshow": {
     "slide_type": "slide"
    },
    "tags": []
   },
   "source": [
    "问题1.在使用双引号的字符串中我想要保留字符串中的双引号怎么办<br>\n",
    "答：借助`\\`转义字符来表示"
   ]
  },
  {
   "cell_type": "code",
   "execution_count": 1,
   "id": "19eb3b2c",
   "metadata": {
    "editable": true,
    "slideshow": {
     "slide_type": "slide"
    },
    "tags": []
   },
   "outputs": [
    {
     "data": {
      "text/plain": [
       "'老师告诉我们：\"我们应该认真学习python\"'"
      ]
     },
     "execution_count": 1,
     "metadata": {},
     "output_type": "execute_result"
    }
   ],
   "source": [
    "# 实例\n",
    "str1 =  \"老师告诉我们：\\\"我们应该认真学习python\\\"\"\n",
    "str1\n",
    "# ps:单引号也可以借助转义字符来保留字符串中的单引号"
   ]
  },
  {
   "cell_type": "code",
   "execution_count": 24,
   "id": "974c3c18",
   "metadata": {
    "editable": true,
    "slideshow": {
     "slide_type": "slide"
    },
    "tags": []
   },
   "outputs": [
    {
     "data": {
      "text/plain": [
       "'我是一名18岁的大学生'"
      ]
     },
     "execution_count": 24,
     "metadata": {},
     "output_type": "execute_result"
    }
   ],
   "source": [
    "# 字符串的拼接\n",
    "# python可以通过 + 对字符串进行拼接 这里的+号就不是进行算术运算了\n",
    "str2 =\"balabala\" \n",
    "str1 + \" \" + str2\n",
    "# 一般情况下，字符串的拼接会将变量和非字符串类型的字面量进行拼接 当发生在这种情况的时候，我们需要将非字符串类型的字面量转换成字符串即可\n",
    "age = 18\n",
    "\"我是一名\" + str(age) + \"岁的大学生\""
   ]
  },
  {
   "cell_type": "markdown",
   "id": "3dc67ee9",
   "metadata": {
    "editable": true,
    "slideshow": {
     "slide_type": "slide"
    },
    "tags": []
   },
   "source": [
    "## 字符串格式化(print()函数进行)\n",
    "通过上面的描述，我们发现了问题，我们在进行字符串拼接的过程中，如果把所有非字符串类型的变量或是字面量都转换成字符串，是很麻烦的一件事情，可不可以通过其他的方式将字符串拼接起来，这里虽然说的是字符串的格式化，但实际是由print()函数提供的功能，它可以支持将字符串进行格式化从而输出\n",
    "### print(\"  %d[占位符]  \"%(占位符的内容))"
   ]
  },
  {
   "cell_type": "code",
   "execution_count": 27,
   "id": "2ef979ab",
   "metadata": {},
   "outputs": [
    {
     "name": "stdout",
     "output_type": "stream",
     "text": [
      "我的名字是ycz，我今年18岁，我来自四川\n"
     ]
    },
    {
     "data": {
      "text/plain": [
       "'\\nps:\\nprint()函数只是将我们要展示的内容转换成对应的格式，并没有将我们变量的本身转换成改格式，\\n\\n常用的格式符号有\\n%s ：将展示的内容转换成字符串 放到占位符中\\n%d：将展示的内容转换成整数 放到占位符中\\n%f：将展示的内容转换成浮点型 放到占位符中\\n\\n注意：格式字符串中的转换符号一定要与后满的每一项一一对应，例如 第一个%s 对应 name变量的值\\n\\n'"
      ]
     },
     "execution_count": 27,
     "metadata": {},
     "output_type": "execute_result"
    }
   ],
   "source": [
    "name =\"ycz\"\n",
    "age = \"18\"\n",
    "address = \"四川\"\n",
    "print(\"我的名字是%s，我今年%s岁，我来自%s\"%(name,age,address))\n",
    "\n",
    "'''\n",
    "ps:\n",
    "print()函数只是将我们要展示的内容转换成对应的格式，并没有将我们变量的本身转换成改格式，\n",
    "\n",
    "常用的格式符号有\n",
    "%s ：将展示的内容转换成字符串 放到占位符中\n",
    "%d：将展示的内容转换成整数 放到占位符中\n",
    "%f：将展示的内容转换成浮点型 放到占位符中\n",
    "\n",
    "注意：格式字符串中的转换符号一定要与后满的每一项一一对应，例如 第一个%s 对应 name变量的值\n",
    "\n",
    "'''"
   ]
  },
  {
   "cell_type": "code",
   "execution_count": 38,
   "id": "8c0930e2",
   "metadata": {
    "editable": true,
    "slideshow": {
     "slide_type": "slide"
    },
    "tags": []
   },
   "outputs": [
    {
     "name": "stdout",
     "output_type": "stream",
     "text": [
      "我的余额还剩 90.0\n"
     ]
    }
   ],
   "source": [
    "# 引入\n",
    "money = 100\n",
    "money = money - 10.90 # 第一次消费\n",
    "money = money - 26.87 # 第二次消费\n",
    "money = 89.99\n",
    "print(\"我的余额还剩 %.1f\"%money)"
   ]
  },
  {
   "cell_type": "code",
   "execution_count": 37,
   "id": "08990684",
   "metadata": {
    "editable": true,
    "slideshow": {
     "slide_type": "slide"
    },
    "tags": []
   },
   "outputs": [
    {
     "name": "stdout",
     "output_type": "stream",
     "text": [
      "我的余额还剩62.230000\n"
     ]
    }
   ],
   "source": [
    "# 通过上述的结果，我们能看出，我们的余额应该还剩62.23块，但是它自动给我们在后面补了0，但是我们并不想要这种格式 怎么办\n",
    "\n",
    "# 我们可以通过吗 %m.nf(d,s)\n",
    "# 修改\n",
    "print(\"我的余额还剩%2f\"%money)"
   ]
  },
  {
   "cell_type": "markdown",
   "id": "d54fd8fb",
   "metadata": {
    "editable": true,
    "slideshow": {
     "slide_type": "slide"
    },
    "tags": []
   },
   "source": [
    "使用总结：我们借助辅助符号\"m.n\"来控制数据的宽度和小数点后面的位数<br>\n",
    "m表示该占位符应该要占用多少长度。 注意：设置的宽度如果小于自身的长度，不生效<br>\n",
    "n表示该内容小数点后面的位数，上述就是.2表示小数点后面只有两位。 注意会进行小数的四舍五入<br>"
   ]
  },
  {
   "cell_type": "markdown",
   "id": "fa501525",
   "metadata": {
    "editable": true,
    "slideshow": {
     "slide_type": "slide"
    },
    "tags": []
   },
   "source": [
    "### print(f\"我的姓名是{name},我的年龄是{age}\") "
   ]
  },
  {
   "cell_type": "code",
   "execution_count": 40,
   "id": "0d4411cb",
   "metadata": {
    "editable": true,
    "slideshow": {
     "slide_type": ""
    },
    "tags": []
   },
   "outputs": [
    {
     "name": "stdout",
     "output_type": "stream",
     "text": [
      "我的姓名是yuanchengzhi，我的年龄是18,我有20.2块钱\n"
     ]
    }
   ],
   "source": [
    "# 我们可以通过print()函数另外一种方式来进行字符串格式化\n",
    "name = \"yuanchengzhi\"\n",
    "age = 18\n",
    "money = 20.2\n",
    "print(f\"我的姓名是{name}，我的年龄是{age},我有{money}块钱\")  # 会按照原封不懂的值进行输出  对精度没有要求"
   ]
  },
  {
   "cell_type": "markdown",
   "id": "9a6f291d",
   "metadata": {
    "editable": true,
    "slideshow": {
     "slide_type": "slide"
    },
    "tags": []
   },
   "source": [
    "### print语句的格式\n",
    "print(*objects, sep=' ', end='\\n', file=sys.stdout, flush=False)<br>\n",
    "objects -- 复数，表示可以一次输出多个对象。输出多个对象时，需要用 , 分隔。<br>\n",
    "sep -- 用来间隔多个对象，默认值是一个空格。<br>\n",
    "end -- 用来设定以什么结尾。默认值是换行符 \\n，我们可以换成其他字符串。<br>\n",
    "file -- 要写入的文件对象。<br>\n",
    "flush -- 输出是否被缓存通常决定于 file，但如果 flush 关键字参数为 True，流会被强制刷新。<br>"
   ]
  },
  {
   "cell_type": "code",
   "execution_count": 45,
   "id": "b935a4d6-7ad7-4a6f-b22a-e291866f3182",
   "metadata": {},
   "outputs": [
    {
     "name": "stdout",
     "output_type": "stream",
     "text": [
      "12$3 4\n"
     ]
    }
   ],
   "source": [
    "print(1,2,sep=\"\",end=\"$\")\n",
    "print(3,4)"
   ]
  },
  {
   "cell_type": "markdown",
   "id": "7b98077e",
   "metadata": {
    "editable": true,
    "slideshow": {
     "slide_type": "slide"
    },
    "tags": []
   },
   "source": [
    "# input\n",
    "input()函数：<br>\n",
    "功能：获取我们的输入内容<br>\n",
    "输入（参数）：展示在控制台中的内容<br>\n",
    "输出（返回值）：我们输入的内容 注意：返回值默认是字符串类型的<br>\n",
    "\n",
    "注意：由于input()的返回值（控制台获取的内容）是字符串，但是有时候我们想用其他数据类型的，就需要借助我们上面上述的数据类型之间的转换\n",
    "int() float()等等"
   ]
  },
  {
   "cell_type": "code",
   "execution_count": 50,
   "id": "cba11b41-682e-4a6e-b770-3d8f7f13c626",
   "metadata": {},
   "outputs": [
    {
     "name": "stdin",
     "output_type": "stream",
     "text": [
      "请输入你的成绩 100\n"
     ]
    },
    {
     "data": {
      "text/plain": [
       "int"
      ]
     },
     "execution_count": 50,
     "metadata": {},
     "output_type": "execute_result"
    }
   ],
   "source": [
    "# input()\n",
    "\n",
    "a = int(input(\"请输入你的成绩\"))\n",
    "type(a)"
   ]
  },
  {
   "cell_type": "code",
   "execution_count": 51,
   "id": "88ddbefc",
   "metadata": {
    "editable": true,
    "slideshow": {
     "slide_type": "slide"
    },
    "tags": []
   },
   "outputs": [
    {
     "name": "stdin",
     "output_type": "stream",
     "text": [
      "请输入你的java成绩 100\n",
      "请输入你的js成绩 100\n",
      "请输入你的mysql成绩 100\n"
     ]
    },
    {
     "name": "stdout",
     "output_type": "stream",
     "text": [
      "你的平均成绩是100.0\n"
     ]
    }
   ],
   "source": [
    "# 在控制台输入你的三门专业课的成绩，计算平均成绩，并输出\n",
    "\n",
    "\n",
    "# sorce_java = int(input(\"请输入你的java成绩\"))\n",
    "# sorce_js = int(input(\"请输入你的js成绩\"))\n",
    "# sorce_mysql = int(input(\"请输入你的mysql成绩\"))\n",
    "# result = (sorce_java + sorce_js + sorce_mysql) / 3\n",
    "# print(f\"你的平均成绩是{result}\")\n",
    "\n",
    "\n",
    "# 以下是正常使用，但是有些东西没有讲过，先尝试给一个变量赋值为输入的值\n",
    "sorce_java,sorce_js,sorce_mysql = input(\"请输入你的三门的专业课成绩\").split(\",\")\n",
    "result = (int(sorce_java) + int(sorce_js) + int(sorce_mysql)) / 3\n",
    "print(f\"你的平均成绩是{result}\")"
   ]
  },
  {
   "cell_type": "markdown",
   "id": "9073fe49",
   "metadata": {},
   "source": []
  },
  {
   "cell_type": "code",
   "execution_count": null,
   "id": "a9618a8d",
   "metadata": {},
   "outputs": [],
   "source": []
  }
 ],
 "metadata": {
  "celltoolbar": "Slideshow",
  "kernelspec": {
   "display_name": "Python 3 (ipykernel)",
   "language": "python",
   "name": "python3"
  },
  "language_info": {
   "codemirror_mode": {
    "name": "ipython",
    "version": 3
   },
   "file_extension": ".py",
   "mimetype": "text/x-python",
   "name": "python",
   "nbconvert_exporter": "python",
   "pygments_lexer": "ipython3",
   "version": "3.8.5"
  },
  "toc": {
   "base_numbering": 1,
   "nav_menu": {},
   "number_sections": true,
   "sideBar": true,
   "skip_h1_title": false,
   "title_cell": "Table of Contents",
   "title_sidebar": "Contents",
   "toc_cell": false,
   "toc_position": {},
   "toc_section_display": true,
   "toc_window_display": false
  }
 },
 "nbformat": 4,
 "nbformat_minor": 5
}
