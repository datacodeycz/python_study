{
 "cells": [
  {
   "cell_type": "markdown",
   "id": "3cd0ea2f-b85c-4a25-8fcf-fddaa29a6cb9",
   "metadata": {
    "editable": true,
    "slideshow": {
     "slide_type": "slide"
    },
    "tags": []
   },
   "source": [
    "# 面向对象（OOP）\n",
    "## 面向对象的基本概述\n",
    "python是一种面向对象的编程语言，而python中几乎所有东西都是对象，拥有属性和方法。\n",
    "\n",
    "问题：\n",
    "\n",
    "1. 什么是面向对象编程\n",
    "   - 计算机程序是干什么的\n",
    "      - 程序就是对象现实世界的抽象\n",
    "   - 对象是干什么的\n",
    "      - 一个事物抽象到程序中后就变成了对象\n",
    "      - 在程序的世界中，一切皆对象 \n",
    "   - 面向对象编程是什么\n",
    "        - 面向对象的编程就是指，程序中的所有操作都是通过对象来完成的\n",
    "        - 做任何事情之前都需要先找到它的对象，然后通过对象来完成各种操作\n",
    "\n",
    "2. 为什么要有面向对象\n",
    "\n",
    "      \n",
    "3. 怎么来使用面向对象编程"
   ]
  },
  {
   "cell_type": "markdown",
   "id": "1546ba78-539c-42a4-a328-f6eae4e9899b",
   "metadata": {
    "editable": true,
    "slideshow": {
     "slide_type": "slide"
    },
    "tags": []
   },
   "source": [
    "## 对象\n",
    "一个事物抽象到程序就变成了对象，对象中包含了特征（属性）和行为（方法）\n",
    "\n",
    "例如：一个大二的学生\n",
    "\n",
    "有哪些特征：学号、姓名、班级、成绩等\n",
    "\n",
    "有哪些行为：上课、吃饭、睡觉等\n",
    "\n",
    "\n",
    "我们是无法将这个大二的学生的所有特征和行为都写出来的，但是我们可以写常见的和我们要使用到的，这就将一个实体抽象成了一个程序中的一个对象"
   ]
  },
  {
   "cell_type": "code",
   "execution_count": 39,
   "id": "e0082163-e683-4f58-820f-274145f21597",
   "metadata": {
    "editable": true,
    "slideshow": {
     "slide_type": "slide"
    },
    "tags": []
   },
   "outputs": [],
   "source": [
    "# 引入对象\n",
    "\n",
    "stu_id = \"20230101\"\n",
    "stu_name = \"小明\"\n",
    "stu_class = \"软件技术1班\"\n",
    "stu_score = {\"计算机网络\": \"99\",\n",
    "             \"python\":\"100\",\n",
    "             \"linux\":\"99\",\n",
    "            \"javaWeb\":\"100\"};"
   ]
  },
  {
   "cell_type": "markdown",
   "id": "77b00102-3c2d-480e-ad76-04a4ef83fd28",
   "metadata": {
    "editable": true,
    "slideshow": {
     "slide_type": ""
    },
    "tags": []
   },
   "source": [
    "上述这些数据都是属于小明的，但怎么确定是小明的啦\n",
    "\n",
    "我们可不可以借助对象来表示这些都是小明这个对象的特征"
   ]
  },
  {
   "cell_type": "code",
   "execution_count": 40,
   "id": "9af70793-8a07-4dc2-9f72-a8c11d66dc48",
   "metadata": {
    "editable": true,
    "slideshow": {
     "slide_type": "slide"
    },
    "tags": []
   },
   "outputs": [],
   "source": [
    "# 创建对象\n",
    "\n",
    "# 在python中创建对象之前，需要有一个创建该对象的模板（蓝图） ----> 类"
   ]
  },
  {
   "cell_type": "markdown",
   "id": "7db27deb-c2ad-4d94-915d-84426f8a9e3b",
   "metadata": {},
   "source": [
    "类：创建对象的模板。\n",
    "\n",
    "上述的数据虽然都属于小明的，但是每一个大二的学生都有那些特征，只是特征对应的数据不一样。\n",
    "\n",
    "所以我们可以创建一个 `创建对象的模板--->类`，然后再通过这个类来创建对象，给这个对象填写属于自己的属性（特征）"
   ]
  },
  {
   "cell_type": "code",
   "execution_count": 14,
   "id": "ba8be0ae-7e39-4e7c-990f-9550e51d27cd",
   "metadata": {
    "editable": true,
    "slideshow": {
     "slide_type": "slide"
    },
    "tags": []
   },
   "outputs": [
    {
     "name": "stdout",
     "output_type": "stream",
     "text": [
      "<__main__.Student object at 0x00000153F8F51870>\n"
     ]
    }
   ],
   "source": [
    "# 创建类的格式为\n",
    "'''\n",
    "class 类名:\n",
    "    属性\n",
    "    方法\n",
    "'''\n",
    "\n",
    "# 创建Student类\n",
    "class Student:\n",
    "    stu_name = None\n",
    "    stu_id = None\n",
    "    stu_class = None\n",
    "    stu_score = None\n",
    "\n",
    "\n",
    "# 通过类创建对象\n",
    "xiaoming = Student()\n",
    "\n",
    "# 给xiaoming这个对象的属性增加属性值\n",
    "# 1.对象.属性 = 属性值\n",
    "# 2.访问对象的属性： 对象.属性\n",
    "xiaoming.stu_name = \"小明\"\n",
    "xiaoming.stu_id = \"20230101\"\n",
    "xiaoming.stu_class  = \"软件技术1班\"\n",
    "xiaoming.stu_score = {\"计算机网络\": \"99\",\n",
    "             \"python\":\"100\",\n",
    "             \"linux\":\"99\",\n",
    "            \"javaWeb\":\"100\"};\n",
    "\n",
    "print(xiaoming)  # <__main__.Student object at 0x000002049A3121A0> 看到的是对象存储的地址 后续通过魔术方法 __str__()会学到\n",
    "\n",
    "# 上述这种方式就将属于小明的属性对应的属性值对应上了，就可以通过操作对象的方式来访问或修改小明的属性"
   ]
  },
  {
   "cell_type": "markdown",
   "id": "1691edf0-300d-4c55-9d2b-d877cc28a249",
   "metadata": {},
   "source": [
    "注意：在python中，所有我们之前学过的数据类型都是对象"
   ]
  },
  {
   "cell_type": "markdown",
   "id": "60a5581d-e26d-4e69-8151-25f4e8a84eeb",
   "metadata": {},
   "source": [
    "## 成员变量和成员方法\n",
    "类中定义的属性（变量），我们称之为：成员变量\n",
    "\n",
    "类中定义的行为（方法），我们称之为：成员方法"
   ]
  },
  {
   "cell_type": "markdown",
   "id": "67cb9268-f8ff-4f79-b5a8-e221661d8289",
   "metadata": {},
   "source": [
    "成员变量上述已经讲述，接下来我们来讲述成员方法"
   ]
  },
  {
   "cell_type": "code",
   "execution_count": 42,
   "id": "4212dc85-23cd-4dc2-8cb3-6765fb7fa310",
   "metadata": {
    "editable": true,
    "slideshow": {
     "slide_type": ""
    },
    "tags": []
   },
   "outputs": [
    {
     "name": "stdout",
     "output_type": "stream",
     "text": [
      "xiaoming去上课\n"
     ]
    }
   ],
   "source": [
    "# 创建一个Student类\n",
    "class Student:\n",
    "    stu_name = None\n",
    "    stu_id = None\n",
    "    # 定义该对象模板的方法\n",
    "    def attend_class(self):\n",
    "        print(self.stu_name + \"去上课\")\n",
    "\n",
    "xiaoming = Student()\n",
    "# 给该对象的属性设置对应的数据\n",
    "xiaoming.stu_id = \"20230101\"\n",
    "xiaoming.stu_name = \"xiaoming\"\n",
    "\n",
    "# 调用对象中的attend_class方法\n",
    "xiaoming.attend_class()  # xiaoming去上课\n",
    "\n",
    "# 我们通过创建类能看到我们给attend_calss方法设置了一个参数，\n",
    "# 按道理来说，我调用这个方法的时候，必须要给这个方法传一个参数，不然会报错，但是这里为什么没有报错啦，并且还使用了对象中stu_name的属性值"
   ]
  },
  {
   "cell_type": "markdown",
   "id": "350036d8-9b3d-4f62-9c46-14b6198dd792",
   "metadata": {},
   "source": [
    "在类中定义成员方法和定义函数是基本一致的，但是有一个区别就是：\n",
    "`def 方法名(self, 形参1, ……,形参n):`\n",
    "\n",
    "在定义成员方法时，有一个self关键字时必须填写的，并且是第一个参数，它不会作为我们调用方法时手动传入的参数，而是由python自动传入\n",
    "\n",
    "self关键字的注意事项：\n",
    "1. self可以不是这个单词，它可以是任意的单词名字，但是必须是第一个参数\n",
    "2. 它用来表示类对象自身 上述就表示`xiaoming`这个对象\n",
    "3. 在方法的内部，如果我们想要访问类的成员变量，那必须使用self关键字\n",
    "4. 它不需要我们手动传入，它是自动传入的"
   ]
  },
  {
   "cell_type": "code",
   "execution_count": 46,
   "id": "07febb2c-cebd-4ca7-b307-d66016e6a8d2",
   "metadata": {},
   "outputs": [
    {
     "name": "stdout",
     "output_type": "stream",
     "text": [
      "xiaoming去上课\n"
     ]
    }
   ],
   "source": [
    "# self关键字的使用\n",
    "\n",
    "# 创建一个Student类\n",
    "class Student:\n",
    "    stu_name = None\n",
    "    stu_id = None\n",
    "    # 定义该对象模板的方法\n",
    "    def attend_class(this):\n",
    "        print(this.stu_name + \"去上课\")\n",
    "\n",
    "\n",
    "xiaoming = Student()\n",
    "# 给该对象的属性设置对应的数据\n",
    "xiaoming.stu_id = \"20230101\"\n",
    "xiaoming.stu_name = \"xiaoming\"\n",
    "\n",
    "# 调用对象中的attend_class方法\n",
    "xiaoming.attend_class()  # xiaoming去上课\n"
   ]
  },
  {
   "cell_type": "markdown",
   "id": "3cdcda51-14c2-42ed-ba46-6fa9274f3ff5",
   "metadata": {},
   "source": [
    "上述的方法中，第一个参数名为this，也是可以使用的，跟self有着一样的作用，所以self可以不是这个单词，它可以是任意的单词名字，但是必须是第一个参数\n",
    "\n",
    "建议使用self做为关键字表示"
   ]
  },
  {
   "cell_type": "markdown",
   "id": "69d2742e-7165-45d1-8a3c-7a6bab8cd636",
   "metadata": {},
   "source": [
    "## 构造方法\n",
    "\n",
    "通过前面的学习，我们知道了怎么创建类，怎么通过类创建对象，怎么给对象中的属性赋值，但是我们通过`对象.属性 = 属性值`的方法给对象中的属性赋值太麻烦了，如果有一万个属性需要赋值，那就需要写一万条语句，就很麻烦，那可不可以使用更高效的方法，通过一行代码就实现赋值操作啦\n",
    "\n",
    "在我们通过类创建对象的时候，使用的是 `变量 = 类()`--->`xiaoming = Student()`这种方法，那可不可以通过创建对象的同时对属性赋值啦------>第一个魔术方法 构造方法 `__init__()`"
   ]
  },
  {
   "cell_type": "code",
   "execution_count": 45,
   "id": "9e97f2ae-2444-4e49-8daf-9f0d66aa9498",
   "metadata": {},
   "outputs": [
    {
     "name": "stdout",
     "output_type": "stream",
     "text": [
      "20230101\n",
      "小明\n"
     ]
    }
   ],
   "source": [
    "# __init__()构造方法的使用\n",
    "class Student:\n",
    "    stu_name = None\n",
    "    stu_id = None\n",
    "    # 定义构造方法\n",
    "    def __init__(self,stu_name,stu_id):\n",
    "        self.stu_id = stu_id\n",
    "        self.stu_name = stu_name\n",
    "        \n",
    "    # 定义该对象模板的方法\n",
    "    def attend_class(this):\n",
    "        print(this.stu_name + \"去上课\")\n",
    "\n",
    "# 通过类创建对象\n",
    "xiaoming = Student(\"小明\",\"20230101\")\n",
    "print(xiaoming.stu_id)  # 20230101\n",
    "print(xiaoming.stu_name)  # 小明"
   ]
  },
  {
   "cell_type": "markdown",
   "id": "5226d658-b41a-469c-9c9e-b9d529e4a544",
   "metadata": {},
   "source": [
    "在python类中，`__init__()`方法，称之为构造方法\n",
    "\n",
    "在我们通过类创建对象的过程中，会自动执行该方法，即使没有这个方法也会自动生成一个\n",
    "\n",
    "而我们通过类创建对象中使用的`Student(参数1, 参数2)`，会将传入的参数自动传递给__init__方法使用\n",
    "\n",
    "需要我们只需要在__init__方法中 将参数赋值给对象对应的属性"
   ]
  },
  {
   "cell_type": "markdown",
   "id": "d4f355b0-b722-4e9b-b70b-a9b8a02f7b0c",
   "metadata": {},
   "source": [
    "练习：学生信息录入\n",
    "\n",
    "设计一个类，记录学生的`姓名`、`学号`、`班级`、`家庭地址`、`成绩`\n",
    "- 通过for循环，配合input输入语句，并使用构造方法，完成学生的信息的录入\n",
    "- 输入完成后，使用print语句，完成信息的输出"
   ]
  },
  {
   "cell_type": "code",
   "execution_count": 13,
   "id": "2a92081d-5abd-41a4-8444-4361388cb1a8",
   "metadata": {},
   "outputs": [],
   "source": [
    "# 设计一个学生类\n",
    "class Student:\n",
    "    stu_name = None\n",
    "    stu_id = None\n",
    "    stu_class  = None\n",
    "    stu_address = None\n",
    "    stu_score = None\n",
    "\n",
    "    def __init__(self, stu_name, stu_id, stu_class, stu_address, stu_score):\n",
    "        self.stu_name = stu_name\n",
    "        self.stu_id = stu_id\n",
    "        self.stu_class = stu_class\n",
    "        self.stu_address = stu_address\n",
    "        self.stu_score = stu_score\n",
    "\n",
    "def input_stu_information():\n",
    "    for x in range(1,11):\n",
    "        print(f\"当前录入第{x}位学生信息，总共需要录入10位学生信息\")\n",
    "        stu_name = input(\"请输入学生的姓名:\")\n",
    "        stu_id = input(\"请输入学生的id\")\n",
    "        stu_class = input(\"请输入学生的班级:\")\n",
    "        stu_address = input(\"请输入学生的家庭地址\")\n",
    "        stu_score = eval(input(\"请输入学生的成绩（科目:分数）:\"))  # {'java': 100, 'mysql': 100}\n",
    "        student = Student(stu_name, stu_id, stu_class, stu_address, stu_score)\n",
    "        print(f\"学生{x}信息录入完成，信息为：姓名为：{student.stu_name}，学号为：{student.stu_id}，班级为：{student.stu_class}，\"\n",
    "                  + f\"地址为：{student.stu_address}，成绩为：{student.stu_score}\")\n",
    "\n",
    "    return 0\n",
    "\n",
    "\n",
    "# input_stu_information()"
   ]
  },
  {
   "cell_type": "markdown",
   "id": "43840de5-7cd2-427c-bbc2-aa7ed3ce6a01",
   "metadata": {},
   "source": [
    "eval()函数的使用\n",
    "\n",
    "- eval() 函数用来执行一个字符串表达式，并返回表达式的值。\n",
    "- 语法格式\n",
    "    - `eval(expression[, globals[, locals]])`\n",
    "- 参数\n",
    "    - expression -- 表达式。\n",
    "    - globals -- 变量作用域，全局命名空间，如果被提供，则必须是一个字典对象。\n",
    "    - locals -- 变量作用域，局部命名空间，如果被提供，可以是任何映射对象。\n",
    "\n",
    "注意：eval() 函数将字符串 expression 解析为 Python 表达式，并在指定的命名空间中执行它。\n",
    "\n",
    "- 返回值\n",
    "    - eval() 函数将字符串转换为相应的对象，并返回表达式的结果。\n",
    " \n",
    "- 注意： eval() 函数执行的代码具有潜在的安全风险。如果使用不受信任的字符串作为表达式，则可能导致代码注入漏洞，因此，应谨慎使用 eval() 函数，并确保仅执行可信任的字符串表达式。"
   ]
  },
  {
   "cell_type": "markdown",
   "id": "9aa7a801-7cef-4dbf-a295-ed28a62b743c",
   "metadata": {},
   "source": [
    "## 其他魔术方法\n",
    "魔术方法就是在一个类自带的一些方法，有各自的特殊功能\n",
    "\n",
    "`__init__`:构造方法\n",
    "\n",
    "`__str__`: 字符串方法\n",
    "\n",
    "`__lt__`: 小于，大于符号比较方法\n",
    "\n",
    "`__le__`: 小于等于，大于等于符号比较方法\n",
    "\n",
    "`__eq__`: == 符号比较"
   ]
  },
  {
   "cell_type": "markdown",
   "id": "56bedacb-d660-4c2e-820d-4cbb1d0cfe15",
   "metadata": {},
   "source": [
    "### `__str__()`方法\n",
    "\n",
    "在之前我们使用`print()`输出语句输出一个对象时，我们能得到它的内存地址，但是有时候我们并不想得到它的内存地址，我们得到其他的信息，例如：完整对象属性的信息\n",
    "\n",
    "这里我们就可以借助`__str__()`方法实现"
   ]
  },
  {
   "cell_type": "code",
   "execution_count": 17,
   "id": "fdaadff8-6c1c-4c39-888c-ccf131729363",
   "metadata": {},
   "outputs": [
    {
     "name": "stdout",
     "output_type": "stream",
     "text": [
      "student类对象，stu_name = 小明，stu_id = 20230101\n",
      "student类对象，stu_name = 小明，stu_id = 20230101\n"
     ]
    }
   ],
   "source": [
    "class Student:\n",
    "    stu_name = None\n",
    "    stu_id = None\n",
    "    \n",
    "    def __init__(self, stu_name, stu_id):\n",
    "        self.stu_name = stu_name\n",
    "        self.stu_id = stu_id\n",
    "\n",
    "    def __str__(self):\n",
    "        return f\"student类对象，stu_name = {self.stu_name}，stu_id = {self.stu_id}\"\n",
    "\n",
    "xiaoming = Student(\"小明\",\"20230101\")\n",
    "\n",
    "print(xiaoming)  # 默认：<__main__.Student object at 0x00000153F8F53070>\n",
    "print(xiaoming)  # student类对象，stu_name = 小明，stu_id = 20230101"
   ]
  },
  {
   "cell_type": "markdown",
   "id": "a5f1c4d3-09d3-4ae8-8085-d1c371ed5676",
   "metadata": {},
   "source": [
    "通过上述代码，我们可以看出`__str__()`决定了对象的返回值，这个返回值内容是由我们决定了，我们完全可以输出其他信息"
   ]
  },
  {
   "cell_type": "markdown",
   "id": "ed054b77-8860-45e2-a34e-fa8acdb31ef5",
   "metadata": {},
   "source": [
    "如果我们不写`__str__()`方法时，对象也是有返回值的，所以这是python类的内置方法，会自动给我们创建一个，返回值为对象的内存地址"
   ]
  },
  {
   "cell_type": "markdown",
   "id": "357462eb-690d-4ff9-aab1-bb4a7cc194a5",
   "metadata": {},
   "source": [
    "### `__lt__()`方法 小于符号比较方法\n",
    "\n",
    "当我们直接去比较两个对象时，是无法进行比较的，会报错，对象没有所谓的逻辑比较关系\n",
    "\n",
    "但有时候我们需要比较对象中的某一个值，比如年龄age，正常操作，我们可以使用对象.age的方法获取到年龄的值，然后进行比较，\n",
    "\n",
    "但是我们也可以通过`__lt__()`方法实现，通过比较对象，然后达到比较年龄age的效果"
   ]
  },
  {
   "cell_type": "code",
   "execution_count": 24,
   "id": "48f98082-fe9c-468c-88b0-75f1b896ffc2",
   "metadata": {},
   "outputs": [
    {
     "name": "stdout",
     "output_type": "stream",
     "text": [
      "False\n",
      "True\n"
     ]
    }
   ],
   "source": [
    "class Student:\n",
    "    stu_name = None\n",
    "    stu_age = None\n",
    "    \n",
    "    def __init__(self, stu_name, stu_age):\n",
    "        self.stu_name = stu_name\n",
    "        self.stu_age = stu_age\n",
    "\n",
    "    def __lt__(self,other):\n",
    "        '''self 为自身对象，other为另外一个对象（必须是同类的）'''\n",
    "        return self.stu_age < other.stu_age\n",
    "\n",
    "xiaoming = Student(\"小明\",21)\n",
    "xiaomei = Student(\"小美\",20)\n",
    "\n",
    "print(xiaoming < xiaomei)  # False\n",
    "\n",
    "print(xiaoming > xiaomei)  # True\n",
    "        "
   ]
  },
  {
   "cell_type": "markdown",
   "id": "9498303d-23db-4e95-90e1-553cbf6ae1d9",
   "metadata": {},
   "source": [
    "还有一个比较大于符号的魔术方法`__gt__`，实现了`__lt__`就没有必要实现`__gt__`了，因为都是同一类进行比较，当使用`>`比较时，另外一个对象反过来就是`<`了"
   ]
  },
  {
   "cell_type": "markdown",
   "id": "5659ea26-ce90-4a38-9acd-b7318067c1e0",
   "metadata": {},
   "source": [
    "### `__le__()`小于等于比较符号方法"
   ]
  },
  {
   "cell_type": "code",
   "execution_count": 25,
   "id": "141dbc72-61e5-4c38-844c-e9a7eab0b986",
   "metadata": {},
   "outputs": [
    {
     "name": "stdout",
     "output_type": "stream",
     "text": [
      "False\n",
      "True\n"
     ]
    }
   ],
   "source": [
    "class Student:\n",
    "    def __init__(self, stu_name, stu_age):\n",
    "        self.stu_name = stu_name\n",
    "        self.stu_age = stu_age\n",
    "\n",
    "    def __le__(self,other):\n",
    "        '''self 为自身对象，other为另外一个对象（必须是同类的）'''\n",
    "        return self.stu_age <= other.stu_age\n",
    "\n",
    "xiaoming = Student(\"小明\",21)\n",
    "xiaomei = Student(\"小美\",20)\n",
    "\n",
    "print(xiaoming <= xiaomei)  # False\n",
    "\n",
    "print(xiaoming >= xiaomei)  # True"
   ]
  },
  {
   "cell_type": "markdown",
   "id": "70678dc7-ea54-4840-87a9-a277cf1855cd",
   "metadata": {},
   "source": [
    "还有一个比较大于符号的魔术方法`__ge__`，实现了`__le__`就没有必要实现`__ge__`了，因为都是同一类进行比较，当使用`>=`比较时，另外一个对象反过来就是`<=`了"
   ]
  },
  {
   "cell_type": "markdown",
   "id": "72707532-1e79-481e-8682-27b6e5dac50e",
   "metadata": {},
   "source": [
    "## `__eq__()`，比较运算符实现方法\n",
    "\n",
    "该方法同样是类自带的方法，主要是实现对象与对象之间的比较，通过上述学习，可以看出对象与对象之间的比较，在使用`<`或`<=`时，如果没有去实现对应的方法，会报错\n",
    "\n",
    "`__eq__`方法\n",
    "\n",
    "- 不实现`__eq__`方法时，对象与对象之间可以使用`==`符号进行比较，但是比较的是内存地址，而我们是创建的两个不同的对象，所以内存地址一定不同，所以返回值一定是False\n",
    "- 实现`__eq__`方法时，对象与对象之间使用`==`符号进行比较，比较的逻辑根据实现的`__eq__`方法中的内容进行判断"
   ]
  },
  {
   "cell_type": "code",
   "execution_count": 27,
   "id": "ff2f305d-af40-45aa-b2cc-73e8b7145d3c",
   "metadata": {},
   "outputs": [
    {
     "name": "stdout",
     "output_type": "stream",
     "text": [
      "False\n"
     ]
    }
   ],
   "source": [
    "class Student:\n",
    "    def __init__(self, stu_name, stu_age):\n",
    "        self.stu_name = stu_name\n",
    "        self.stu_age = stu_age\n",
    "\n",
    "    def __eq__(self,other):\n",
    "        '''self 为自身对象，other为另外一个对象（必须是同类的）'''\n",
    "        return self.stu_age == other.stu_age\n",
    "\n",
    "xiaoming = Student(\"小明\",21)\n",
    "xiaomei = Student(\"小美\",20)\n",
    "\n",
    "print(xiaoming == xiaomei)  # False"
   ]
  },
  {
   "cell_type": "markdown",
   "id": "bee844b1-25fe-480f-a92b-f46818bbf9b8",
   "metadata": {},
   "source": [
    "实现`__eq__`方法后，其中的比较逻辑由你自行编写，我们可以比较name属性，也可以比较age属性，当然也可以比较name和age属性"
   ]
  },
  {
   "attachments": {},
   "cell_type": "markdown",
   "id": "fe412229-c3c1-489b-863d-e027e7eddbac",
   "metadata": {},
   "source": [
    "| 方法|功能|\n",
    "| ---- | ----|\n",
    "|  __init__ |  构造方法，可用于创建类对象的时候设置初始化行为 |\n",
    "|  __str__   |  用于实现类对象转字符串的行为    |\n",
    "|  __lt__    |   用于2个类对象进行小于或大于比较   |\n",
    "|  __le__    |   用于2个类对象进行小于等于或大于等于比较   |\n",
    "|  __eq__    |    用于2个类对象进行相等比较  |"
   ]
  },
  {
   "cell_type": "markdown",
   "id": "6e5d4c89-c63f-4818-a206-874b9279cec7",
   "metadata": {},
   "source": [
    "## 面向对象的三大特性\n",
    "`封装`、`继承`、`多态`\n",
    "\n",
    "`封装` --> 安全性\n",
    "\n",
    "`继承` --> 扩展性\n",
    "\n",
    "`多态` --> 灵活性"
   ]
  },
  {
   "cell_type": "markdown",
   "id": "5fe96928-ef15-423e-b0ce-1e6cd1b9af00",
   "metadata": {},
   "source": [
    "### 封装\n",
    "在我们创建一个类的过程中，我们不希望有些变量和方法被访问，例如：当我们填写学生的基本信息时，我们并不希望学生去随意的更改`school` 学校这个变量，那我们就要将这个变量私有化，让创建出来的对象无法访问这个变量，但会引出一个问题，我不设置这个变量不行吗，反正对象也无法访问，但有时候我们在其他成员方法中可能需要访问，例如有一个方法是输出学校信息。**而不被类对象访问和修改的方法是私有成员变量**\n",
    "\n",
    "同样成员方法也是一样的，会有**私有成员方法**\n",
    "\n",
    "定义私有成员\n",
    "\n",
    "私有成员变量：变量名以__开头\n",
    "\n",
    "私有成员方法：方法名以__开头"
   ]
  },
  {
   "cell_type": "markdown",
   "id": "ce57c5f4-164e-4e18-a322-d0c6c6537920",
   "metadata": {},
   "source": [
    "注意：私有成员变量或是方法都可以在其他成员方法中进行访问，只是不能被实例化出来的对象进行访问"
   ]
  },
  {
   "cell_type": "code",
   "execution_count": 33,
   "id": "a1ae53c9-63b9-430b-9ff5-d47f05f10ae0",
   "metadata": {},
   "outputs": [
    {
     "name": "stdout",
     "output_type": "stream",
     "text": [
      "你的学校是遂职院\n",
      "你的学校是遂职院\n"
     ]
    }
   ],
   "source": [
    "class Student:\n",
    "    stu_name = None\n",
    "    # 表示私有成员变量\n",
    "    __stu_school = \"遂宁职业学院\"\n",
    "\n",
    "    def __init__(self,stu_name,__stu_school):\n",
    "        self.stu_name = stu_name\n",
    "        # 能在创建对象的时候设置吗\n",
    "        self.__stu_school = __stu_school\n",
    "        \n",
    "    def visit_school(self):\n",
    "        '''通过其他成员方法访问私有成员变量'''\n",
    "        print(f\"你的学校是{self.__stu_school}\")\n",
    "\n",
    "    \n",
    "\n",
    "xiaoming = Student(\"小明\",\"遂职院\")\n",
    "xiaoming.visit_school()  # 你的学校是遂职院\n",
    "# print(xiaoming.__stu_school)  # 'Student' object has no attribute '__stu_school'\n",
    "xiaoming.__stu_school = \"遂宁职业学院\"  # 并没有报错\n",
    "\n",
    "# 我们可以通过成员方法查看该变量的值是否发生了改变\n",
    "xiaoming.visit_school()  # 你的学校是遂职院 并没有发生改变，"
   ]
  },
  {
   "cell_type": "markdown",
   "id": "44a509bb-7835-46b6-9412-e859fffa0788",
   "metadata": {},
   "source": [
    "上述代码说明，在创建对象的时候可以设置私有成员变量的值，但是后续就无法访问和修改了\n",
    "\n",
    "访问私有成员变量时，会报错 **不存在改成员变量**\n",
    "\n",
    "修改私有成员变量时，不会报错，**结果无效**\n"
   ]
  },
  {
   "cell_type": "markdown",
   "id": "72c52674-a96a-409b-97a2-3769e411535d",
   "metadata": {},
   "source": [
    "练习：设计带有私有成员的手机\n",
    "设计一个手机类，内部包含：\n",
    "- 私有成员变量：__is_5g_enable，类型bool，True表示开启5g，False表示关闭5g\n",
    "- 私有成员方法：__check_5g()，会判断私有成员__is_5g_enable的值\n",
    "    - 若为True，打印输出：5g开启\n",
    "    - 若为False，打印输出：5g关闭，使用4g网络\n",
    "- 公开成员方法：call_by_5g()，调用它会执行\n",
    "    - 调用私有成员方法：__check_5g()，判断5g网络状态\n",
    "    - 打印输出：正在通话中\n",
    "运行结果：\n",
    "\n",
    "通过完成这个类的设计和使用，体会封装中私有成员的作用\n",
    "- 对用户公开的，call_by_5g()方法\n",
    "- 对用户隐藏的，__is_5g_enable私有变量和__check_5g私有成员\n"
   ]
  },
  {
   "cell_type": "markdown",
   "id": "9ecba38b-d01a-499c-a79c-33e41e1efb5d",
   "metadata": {},
   "source": [
    "在类中提供仅供内部使用的属性和方法，而不对外开放（类对象无法使用）\n",
    "\n",
    "如果我们需要访问属性或是，我们可以借助调用成员对象的方式来访问"
   ]
  },
  {
   "cell_type": "code",
   "execution_count": 6,
   "id": "cb13ca92-1517-4d75-8c29-0b386d873c56",
   "metadata": {},
   "outputs": [
    {
     "name": "stdout",
     "output_type": "stream",
     "text": [
      "name:小明,id:199\n",
      "小明\n"
     ]
    }
   ],
   "source": [
    "# 实例\n",
    "\n",
    "# Student类\n",
    "class Student:\n",
    "    __name = None\n",
    "    __id = None\n",
    "\n",
    "    # 初始化方法\n",
    "    def __init__(self,name,id):\n",
    "        self.__name = name\n",
    "        self.__id = id\n",
    "\n",
    "    # 设置name的属性值\n",
    "    def set_name(self,name):\n",
    "        self.__name = name\n",
    "\n",
    "    def get_name(self):\n",
    "        return self.__name\n",
    "\n",
    "    def __str__(self):\n",
    "        return f\"name:{self.__name},id:{self.__id}\"\n",
    "\n",
    "xiaoming = Student(\"小明1\",\"199\")\n",
    "xiaoming.set_name(\"小明\")  # 修改成功\n",
    "print(xiaoming)\n",
    "print(xiaoming.get_name())  # 访问成功"
   ]
  },
  {
   "cell_type": "markdown",
   "id": "17ddd386-ab00-4234-84b2-501cfd3f4e62",
   "metadata": {},
   "source": [
    "### 继承\n",
    "\n",
    "当我们创建一个Student类的时候，我们还可以进一步的抽象这个类，学生类进一步抽象可以抽象为人类，而人类里面有 人的姓名和年龄和身份证号码等属性，和吃饭，睡觉等一些行为方法，我们创建一个人类，并编写这个类后。当我们再创建一个学生类还需要再写一遍，我们可不可以不写学生的姓名和年龄等属性，因为我们这个Person类是由学生类进一步抽象得到的，Person类中的属性和方法都是Student类中应该有的，是不是我们可以通过某种方式将Person类中的方法复制给Student类中，我们在创建Student类时就不需要再写这些属性和方法了，这个方式就是**继承**"
   ]
  },
  {
   "cell_type": "code",
   "execution_count": 2,
   "id": "2a713aa3-9a83-4c4b-9a0c-0657bd809935",
   "metadata": {},
   "outputs": [
    {
     "name": "stdout",
     "output_type": "stream",
     "text": [
      "Person:xiaoming,19,2023\n"
     ]
    }
   ],
   "source": [
    "# 继承的实例\n",
    "\n",
    "class Person:\n",
    "    name = None\n",
    "    age = None\n",
    "    __id = None\n",
    "    \n",
    "    def __init__(self,name,age,id):\n",
    "        self.name = name\n",
    "        self.age = age\n",
    "        self.__id = id\n",
    "\n",
    "    def __str__(self):\n",
    "        return f\"Person:{self.name},{self.age},{self.__id}\"\n",
    "\n",
    "    def eat(self):\n",
    "        print(\"吃饭\")\n",
    "\n",
    "\n",
    "class Student(Person):\n",
    "    pass\n",
    "\n",
    "student = Student(\"xiaoming\",\"19\",\"2023\")\n",
    "\n",
    "print(student)"
   ]
  },
  {
   "cell_type": "markdown",
   "id": "3c818ffc-ef59-4d3b-8183-0e07bc350343",
   "metadata": {},
   "source": [
    "所谓的继承，类似于将父类中的代码复制一份给子类，子类就可以使用父类的属性和方法，但是注意，父类中私有属性和私有方法是无法复制过来的"
   ]
  },
  {
   "cell_type": "code",
   "execution_count": 3,
   "id": "dd08df81-b3e5-453a-8d13-3a30402abb26",
   "metadata": {},
   "outputs": [
    {
     "ename": "AttributeError",
     "evalue": "'Student' object has no attribute '__id'",
     "output_type": "error",
     "traceback": [
      "\u001b[1;31m---------------------------------------------------------------------------\u001b[0m",
      "\u001b[1;31mAttributeError\u001b[0m                            Traceback (most recent call last)",
      "Cell \u001b[1;32mIn[3], line 1\u001b[0m\n\u001b[1;32m----> 1\u001b[0m \u001b[43mstudent\u001b[49m\u001b[38;5;241;43m.\u001b[39;49m\u001b[43m__id\u001b[49m\n",
      "\u001b[1;31mAttributeError\u001b[0m: 'Student' object has no attribute '__id'"
     ]
    }
   ],
   "source": [
    "student.__id  # 'Student' object has no attribute '__id'"
   ]
  },
  {
   "cell_type": "markdown",
   "id": "e43f7b88-876f-4ae2-8370-f919d1af2c4e",
   "metadata": {},
   "source": [
    "在我们将父类中的属性和方法复制给子类时，我们有可能实现的方法是不同的"
   ]
  }
 ],
 "metadata": {
  "kernelspec": {
   "display_name": "Python 3 (ipykernel)",
   "language": "python",
   "name": "python3"
  },
  "language_info": {
   "codemirror_mode": {
    "name": "ipython",
    "version": 3
   },
   "file_extension": ".py",
   "mimetype": "text/x-python",
   "name": "python",
   "nbconvert_exporter": "python",
   "pygments_lexer": "ipython3",
   "version": "3.10.14"
  }
 },
 "nbformat": 4,
 "nbformat_minor": 5
}
