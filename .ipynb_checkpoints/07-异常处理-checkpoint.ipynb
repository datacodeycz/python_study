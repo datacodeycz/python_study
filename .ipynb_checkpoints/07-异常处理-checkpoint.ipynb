{
 "cells": [
  {
   "cell_type": "markdown",
   "id": "cd2ece85-77f4-4a1c-acbd-36fdc4743e92",
   "metadata": {},
   "source": [
    "# 异常处理\n",
    "\n",
    "异常处理是什么：在正式了解异常处理之前，首先我们需要了解一下什么是异常，异常就是我们的程序在运行过程中出现了错误。而异常处理就是对这一些导致我们程序出错的程序进行处理，这里的处理不是说把程序修改正常，而且合理的处理程序，有时候我们需要让计算机给我们抛出异常，举例说明：当我们取钱的时候，我们明明还没有取到钱，但是我们的账号就已经把钱扣走了，这就是异常，那这时候我们就需要计算机给我们抛出异常，然后我们针对这个异常进行处理，这个就是把钱恢复到取之前的状态。\n",
    "\n",
    "为什么要有异常处理：程序是很难有完美的程序，任何程序在运行过程中都有可能出错，这使得我们不得不去对可能出现的问题进行提前的准备和处理。\n",
    "\n",
    "怎么进行异常处理？<br>\n",
    "在进行异常处理之前，首先我们得捕获到异常，只能捕获到异常，我们才能对异常进行处理。而我们捕获异常不是说去修改，而是做好提前准备，当真的出现异常得时候，可以有后续手段"
   ]
  },
  {
   "cell_type": "markdown",
   "id": "09a1c3f7-6382-4eba-bf1b-3ddd7e9296f5",
   "metadata": {},
   "source": [
    "## 捕获常规异常\n",
    "基本语法格式：\n",
    "```\n",
    "try:\n",
    "    可能发生错误的代码\n",
    "except:\n",
    "    如果出现异常，执行的代码\n",
    "```"
   ]
  },
  {
   "cell_type": "code",
   "execution_count": 1,
   "id": "dcd70056-7663-4a1f-96a8-fe0165c7a32e",
   "metadata": {},
   "outputs": [
    {
     "name": "stdout",
     "output_type": "stream",
     "text": [
      "下标为0\n"
     ]
    }
   ],
   "source": [
    "try:\n",
    "    print(1 / 0)\n",
    "except:\n",
    "    print(\"下标为0\")"
   ]
  },
  {
   "cell_type": "markdown",
   "id": "d1c11190-5fac-4125-9e6a-6b4433b21b9d",
   "metadata": {},
   "source": [
    "### 捕获指定的异常\n",
    "```\n",
    "try:\n",
    "    print(name)\n",
    "except NameError as e:\n",
    "    print('')\n",
    "```"
   ]
  },
  {
   "cell_type": "markdown",
   "id": "c0b1ae1c-3b15-4c50-a459-442a5891d1aa",
   "metadata": {},
   "source": [
    "注意：\n",
    "1. 如果我们尝试执行的代码的异常类型和要捕获的异常类型不一致，则无法捕获异常\n",
    "2. 一般情况下，我们如果使用这种方式try下面最好只放一行尝试代码即可"
   ]
  },
  {
   "cell_type": "code",
   "execution_count": 3,
   "id": "ce602257-5cd9-4ff3-a1f2-ca5f7dc07095",
   "metadata": {},
   "outputs": [
    {
     "name": "stdout",
     "output_type": "stream",
     "text": [
      "name变量名称未定义错误\n"
     ]
    }
   ],
   "source": [
    "try:\n",
    "    print(name)\n",
    "except NameError as e:\n",
    "    print('name变量名称未定义错误')"
   ]
  },
  {
   "cell_type": "markdown",
   "id": "a2242b1c-54fe-439b-8255-bc1464a58da7",
   "metadata": {},
   "source": [
    "### 捕获多个异常\n",
    "\n",
    "格式为：\n",
    "```\n",
    "try:\n",
    "    print(name)\n",
    "except (NameError, ……)as e:\n",
    "    print('')\n",
    "```"
   ]
  },
  {
   "cell_type": "code",
   "execution_count": 4,
   "id": "f37603ac-f7d7-413e-8d9e-a6b09179fca8",
   "metadata": {},
   "outputs": [
    {
     "name": "stdout",
     "output_type": "stream",
     "text": [
      "下标为0\n"
     ]
    }
   ],
   "source": [
    "try:\n",
    "    print(1 / 0)\n",
    "except(NameError, ZeroDivisionError):\n",
    "    print(\"下标为0\")"
   ]
  },
  {
   "cell_type": "markdown",
   "id": "9ac6bcc5-888d-4c02-bfd0-3efd5460f473",
   "metadata": {},
   "source": [
    "捕获异常并输出描述信息"
   ]
  },
  {
   "cell_type": "code",
   "execution_count": 5,
   "id": "601589a4-51a2-47a6-82c0-7a099cebebdd",
   "metadata": {},
   "outputs": [
    {
     "name": "stdout",
     "output_type": "stream",
     "text": [
      "division by zero\n"
     ]
    }
   ],
   "source": [
    "try:\n",
    "    print(1 / 0)\n",
    "except(NameError, ZeroDivisionError) as e:\n",
    "    print(e)"
   ]
  },
  {
   "cell_type": "markdown",
   "id": "f92d6c15-b25b-4922-ad46-20d6000257f2",
   "metadata": {},
   "source": [
    "### 异常else\n",
    "else表示如果没有异常要执行的代码"
   ]
  },
  {
   "cell_type": "code",
   "execution_count": 6,
   "id": "dedf837c-e35e-4b1a-bd83-04f3fb70598b",
   "metadata": {},
   "outputs": [
    {
     "name": "stdout",
     "output_type": "stream",
     "text": [
      "1\n",
      "一切正常 over\n"
     ]
    }
   ],
   "source": [
    "try:\n",
    "    print(1)\n",
    "except(NameError, ZeroDivisionError) as e:\n",
    "    print(e)\n",
    "else:\n",
    "    print(\"一切正常 over\")"
   ]
  },
  {
   "cell_type": "markdown",
   "id": "feffaaf5-b1c3-486f-afd5-9bf495529e37",
   "metadata": {},
   "source": [
    "### 异常的finally\n",
    "finally表示的是无论是否异常都要执行的代码"
   ]
  },
  {
   "cell_type": "code",
   "execution_count": 7,
   "id": "d7ed3543-8a05-45d3-9bc2-a98e2e5f4366",
   "metadata": {},
   "outputs": [
    {
     "name": "stdout",
     "output_type": "stream",
     "text": [
      "1\n",
      "一切正常 over\n",
      "测试结束 over\n"
     ]
    }
   ],
   "source": [
    "try:\n",
    "    print(1)\n",
    "except(NameError, ZeroDivisionError) as e:\n",
    "    print(e)\n",
    "else:\n",
    "    print(\"一切正常 over\")\n",
    "\n",
    "finally:\n",
    "    print(\"测试结束 over\")"
   ]
  },
  {
   "cell_type": "markdown",
   "id": "8f7c5c15-3342-4b86-94db-59e7ccc7cbd4",
   "metadata": {},
   "source": [
    "上述这种情况，我们主要是在文件操作处理中使用，下面要讲的是我们最常用的语句。"
   ]
  },
  {
   "cell_type": "markdown",
   "id": "20e1b9ef-79fd-4359-bdd0-335fdae48b6d",
   "metadata": {},
   "source": [
    "## assert语句\n",
    "\n",
    "assert语句又称为断言，断言表示一些逻辑表达式，我们在写代码的时候，我们需要判断指定的地方应该为指定的值，如果不是就报错\n",
    "\n",
    "assert语句的基本语法格式\n",
    "```\n",
    "assert 逻辑表达式 [,参数]\n",
    "```\n",
    "执行这行代码，首先会对逻辑表达式进行判断，如果为真，就正常继续往下执行，如果为假，就执行参数内容，一般后面的参数就是一个字符串，用于描述错误信息的。"
   ]
  },
  {
   "cell_type": "code",
   "execution_count": 10,
   "id": "6c9f0e56-d878-4642-a39a-c5fc8abd9343",
   "metadata": {},
   "outputs": [],
   "source": [
    "def add(a, b):\n",
    "    \"\"\"自然数之间的相加\"\"\"\n",
    "    assert a >=0 and b >= 0, '传入的不是两个自然数'\n",
    "    print(a + b)"
   ]
  },
  {
   "cell_type": "code",
   "execution_count": 11,
   "id": "692551a6-c839-4f9b-9408-5dde4032fd7e",
   "metadata": {},
   "outputs": [
    {
     "ename": "AssertionError",
     "evalue": "传入的不是两个自然数",
     "output_type": "error",
     "traceback": [
      "\u001b[1;31m---------------------------------------------------------------------------\u001b[0m",
      "\u001b[1;31mAssertionError\u001b[0m                            Traceback (most recent call last)",
      "Cell \u001b[1;32mIn[11], line 1\u001b[0m\n\u001b[1;32m----> 1\u001b[0m \u001b[43madd\u001b[49m\u001b[43m(\u001b[49m\u001b[38;5;241;43m-\u001b[39;49m\u001b[38;5;241;43m1\u001b[39;49m\u001b[43m,\u001b[49m\u001b[43m \u001b[49m\u001b[38;5;241;43m-\u001b[39;49m\u001b[38;5;241;43m2\u001b[39;49m\u001b[43m)\u001b[49m\n",
      "Cell \u001b[1;32mIn[10], line 3\u001b[0m, in \u001b[0;36madd\u001b[1;34m(a, b)\u001b[0m\n\u001b[0;32m      1\u001b[0m \u001b[38;5;28;01mdef\u001b[39;00m \u001b[38;5;21madd\u001b[39m(a, b):\n\u001b[0;32m      2\u001b[0m \u001b[38;5;250m    \u001b[39m\u001b[38;5;124;03m\"\"\"自然数之间的相加\"\"\"\u001b[39;00m\n\u001b[1;32m----> 3\u001b[0m     \u001b[38;5;28;01massert\u001b[39;00m a \u001b[38;5;241m>\u001b[39m\u001b[38;5;241m=\u001b[39m\u001b[38;5;241m0\u001b[39m \u001b[38;5;129;01mand\u001b[39;00m b \u001b[38;5;241m>\u001b[39m\u001b[38;5;241m=\u001b[39m \u001b[38;5;241m0\u001b[39m, \u001b[38;5;124m'\u001b[39m\u001b[38;5;124m传入的不是两个自然数\u001b[39m\u001b[38;5;124m'\u001b[39m\n\u001b[0;32m      4\u001b[0m     \u001b[38;5;28mprint\u001b[39m(a \u001b[38;5;241m+\u001b[39m b)\n",
      "\u001b[1;31mAssertionError\u001b[0m: 传入的不是两个自然数"
     ]
    }
   ],
   "source": [
    "add(-1, -2)"
   ]
  },
  {
   "cell_type": "code",
   "execution_count": 13,
   "id": "62066f46-6841-462c-a512-4001d63ef998",
   "metadata": {},
   "outputs": [
    {
     "name": "stdout",
     "output_type": "stream",
     "text": [
      "3\n"
     ]
    }
   ],
   "source": [
    "add(1, 2)"
   ]
  },
  {
   "cell_type": "code",
   "execution_count": null,
   "id": "8e4f55ec-5086-4cfc-b548-313a8df2c1a3",
   "metadata": {},
   "outputs": [],
   "source": []
  }
 ],
 "metadata": {
  "kernelspec": {
   "display_name": "Python 3 (ipykernel)",
   "language": "python",
   "name": "python3"
  },
  "language_info": {
   "codemirror_mode": {
    "name": "ipython",
    "version": 3
   },
   "file_extension": ".py",
   "mimetype": "text/x-python",
   "name": "python",
   "nbconvert_exporter": "python",
   "pygments_lexer": "ipython3",
   "version": "3.8.5"
  }
 },
 "nbformat": 4,
 "nbformat_minor": 5
}
