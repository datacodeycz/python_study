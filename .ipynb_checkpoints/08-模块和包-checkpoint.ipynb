{
 "cells": [
  {
   "cell_type": "markdown",
   "id": "d4ab28d2-8828-440a-9d3c-07149aaa2f5b",
   "metadata": {},
   "source": [
    "# 模块和包\n",
    "\n",
    "什么是模块：在python中，模块是一个python文件，以.py结尾，在模块中可以定义函数，类和变量，当然模块中也可能存在可执行的代码\n",
    "\n",
    "为什么要有模块：python的强大之一就在于python有很多第三方的库，有时候我们要实现某一个功能时，如果是自己写，可能需要写特别一大段代码，而有可能这个功能别人已经写好了，那我们就可以直接使用别人的这个功能，从而需要导入别人的这个功能代码，就是导入模块\n",
    "\n",
    "模块怎么用：模块怎么用是一个非常大的范围，首先我们需要学习怎么去导入别人写好了的模块，进行使用，然后要学习怎么自己写一个模块，提供给自己使用\n",
    "\n",
    "模块的导入方式\n",
    "`[from 模块名 import [模块 | 类 | 变量 | *] [as 别名] `\n",
    "\n",
    "常用的组合方式：\n",
    "```\n",
    "import 模块名\n",
    "from 模块名 import 类、变量、方法等\n",
    "from 模块名 import *\n",
    "import 模块名 as 别名\n",
    "from 模块名 import 功能名 as 别名\n",
    "```\n"
   ]
  },
  {
   "cell_type": "markdown",
   "id": "ae3fb4d5-460d-403b-b015-02e7491f3bb3",
   "metadata": {},
   "source": [
    "注意：在python中其实没有库这个概念，这是我们沿用了其他语言的一种说法，你可以把模块也叫成库这是没有问题的"
   ]
  },
  {
   "cell_type": "markdown",
   "id": "5315473c-7783-4d3f-835d-c5ded32422ec",
   "metadata": {},
   "source": [
    "## 包"
   ]
  },
  {
   "cell_type": "markdown",
   "id": "1c2b942d-976f-44ba-b91f-e12977ebcfe1",
   "metadata": {},
   "source": [
    "有时候，我们会遇到很多模块，并且这些模块都是封装好了的，多个模块封装在一起就组成了包。包的概念就是 存放了多个模块的一个文件夹\n",
    "\n",
    "注意：包下面一定会有一个模块，这个模块的名字叫`__init__`,主要是用来进行初始化的"
   ]
  },
  {
   "cell_type": "markdown",
   "id": "cce248b4-627d-4974-9081-534811e1cf80",
   "metadata": {},
   "source": [
    "## 导入模块"
   ]
  },
  {
   "cell_type": "markdown",
   "id": "a696b24d-fef4-4f37-b9af-fdc82e833f33",
   "metadata": {},
   "source": [
    "`import 模块名`： 导入这个模块，在使用模块中的功能时，需要`模块名.类|方法|属性`"
   ]
  },
  {
   "cell_type": "code",
   "execution_count": 2,
   "id": "0c82ec98-9ba3-4871-87c0-422bcb33cfba",
   "metadata": {},
   "outputs": [
    {
     "data": {
      "text/plain": [
       "9"
      ]
     },
     "execution_count": 2,
     "metadata": {},
     "output_type": "execute_result"
    }
   ],
   "source": [
    "import random\n",
    "# 使用时，需要带上模块名\n",
    "random.randint(0, 10)"
   ]
  },
  {
   "cell_type": "code",
   "execution_count": 12,
   "id": "7fc98ca7-dab9-4566-bd8f-d6f35c06940a",
   "metadata": {},
   "outputs": [],
   "source": [
    "# randint(0, 10)  # 报错"
   ]
  },
  {
   "cell_type": "markdown",
   "id": "77e07969-1b47-48de-a9e2-3c56993d1a16",
   "metadata": {},
   "source": [
    "`from 模块名 import 类、变量、方法等`，导入这个模块中的某些类、变量、方法，使用时就不需要加上模块名，可直接使用"
   ]
  },
  {
   "cell_type": "code",
   "execution_count": 11,
   "id": "6b2b5b85-f520-435b-943d-825f15c3cfc5",
   "metadata": {},
   "outputs": [
    {
     "data": {
      "text/plain": [
       "5"
      ]
     },
     "execution_count": 11,
     "metadata": {},
     "output_type": "execute_result"
    }
   ],
   "source": [
    "from random import randint\n",
    "\n",
    "randint(0, 10)"
   ]
  },
  {
   "cell_type": "markdown",
   "id": "3e23751a-1613-4701-b28f-1f9cf9686b58",
   "metadata": {},
   "source": [
    "`from 模块名 import *`,导入这个模块中的所有东西，使用的时候不需要加上模块名，不建议使用"
   ]
  },
  {
   "cell_type": "code",
   "execution_count": 13,
   "id": "d1818ffc-14d9-4bc7-93ce-7c36c0f6eda9",
   "metadata": {},
   "outputs": [
    {
     "data": {
      "text/plain": [
       "19"
      ]
     },
     "execution_count": 13,
     "metadata": {},
     "output_type": "execute_result"
    }
   ],
   "source": [
    "from random import *\n",
    "randint(10, 20)"
   ]
  },
  {
   "cell_type": "markdown",
   "id": "1a0e9f21-2237-4c58-9df8-876cac4f6562",
   "metadata": {},
   "source": [
    "`import 模块名 as 别名`,导入这个模块名，在使用的时候，我们使用别名进行调用模块名中的类和方法"
   ]
  },
  {
   "cell_type": "code",
   "execution_count": 14,
   "id": "8d3f5e11-cf46-4312-a2b0-e8867d20bdf3",
   "metadata": {},
   "outputs": [
    {
     "data": {
      "text/plain": [
       "20"
      ]
     },
     "execution_count": 14,
     "metadata": {},
     "output_type": "execute_result"
    }
   ],
   "source": [
    "import random as rd\n",
    "rd.randint(10, 20)"
   ]
  },
  {
   "cell_type": "markdown",
   "id": "fc842277-8e12-4d03-ba3d-62199ef8b301",
   "metadata": {},
   "source": [
    "`from 模块名 import 功能名 as 别名`导入这个模块名中的功能名，在使用的时候，我们使用别名进行调用该功能"
   ]
  },
  {
   "cell_type": "code",
   "execution_count": 16,
   "id": "415fbbd3-6941-46d1-b206-4a8fc371436a",
   "metadata": {},
   "outputs": [
    {
     "data": {
      "text/plain": [
       "19"
      ]
     },
     "execution_count": 16,
     "metadata": {},
     "output_type": "execute_result"
    }
   ],
   "source": [
    "from random import randint as ri\n",
    "ri(10, 20)"
   ]
  },
  {
   "cell_type": "code",
   "execution_count": null,
   "id": "56068a61-8750-4721-990f-8202515f8e19",
   "metadata": {},
   "outputs": [],
   "source": []
  }
 ],
 "metadata": {
  "kernelspec": {
   "display_name": "Python 3 (ipykernel)",
   "language": "python",
   "name": "python3"
  },
  "language_info": {
   "codemirror_mode": {
    "name": "ipython",
    "version": 3
   },
   "file_extension": ".py",
   "mimetype": "text/x-python",
   "name": "python",
   "nbconvert_exporter": "python",
   "pygments_lexer": "ipython3",
   "version": "3.10.15"
  }
 },
 "nbformat": 4,
 "nbformat_minor": 5
}
