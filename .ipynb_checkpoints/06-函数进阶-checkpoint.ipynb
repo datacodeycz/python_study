{
 "cells": [
  {
   "cell_type": "markdown",
   "id": "637c914a-9ad7-4bbf-8b4f-cdcd2ac2caff",
   "metadata": {},
   "source": [
    "# 函数的进阶"
   ]
  },
  {
   "cell_type": "markdown",
   "id": "e98ab80f-72d8-4b72-89a7-6941ad816d03",
   "metadata": {},
   "source": [
    "## 函数的多返回值\n",
    "在python中，函数的返回值可以不止一个，可以有多个返回值（注意多个返回值不是指写多个return 而是写一个return 返回多个结果）"
   ]
  },
  {
   "cell_type": "code",
   "execution_count": 2,
   "id": "4eaea69e-7f25-4231-9f73-9634d837c1b5",
   "metadata": {},
   "outputs": [
    {
     "name": "stdout",
     "output_type": "stream",
     "text": [
      "3 4 5\n",
      "hello 123 world\n"
     ]
    }
   ],
   "source": [
    "# 实例代码\n",
    "# 返回传入该函数的参数 + 1\n",
    "# 需要传3个参数\n",
    "def auto_increment_1(a,b,c):\n",
    "    '''返回3个参数 + 1的值，有3个返回值'''\n",
    "    return a + 1,b + 1,c + 1\n",
    "\n",
    "\n",
    "# 我们会按照返回值的顺序接收对应的返回值，a_1就接收 a + 1 依次接收\n",
    "a_1,b_1,c_1 = auto_increment_1(2,3,4)\n",
    "print(a_1,b_1,c_1)\n",
    "\n",
    "def fun():\n",
    "    return \"hello\",123,\"world\"\n",
    "\n",
    "\n",
    "# 这个的返回值不仅可以是多个，也可以是不同类型的返回值\n",
    "re_1,re_2,re_3 = fun()\n",
    "print(re_1,re_2,re_3)"
   ]
  },
  {
   "cell_type": "markdown",
   "id": "26ba54e2-f734-4374-b16e-b0a5d69a3c4b",
   "metadata": {},
   "source": [
    "## 函数多种传参方式\n",
    "1. 根据位置传入参数\n",
    "2. 根据关键字传入参数\n",
    "3. 根据默认值传入参数\n",
    "4. 不定长参数"
   ]
  },
  {
   "cell_type": "code",
   "execution_count": 5,
   "id": "f89c6de8-b2bb-448b-aa13-63e4edff1185",
   "metadata": {},
   "outputs": [
    {
     "name": "stdout",
     "output_type": "stream",
     "text": [
      "a = 10\n",
      "b = 20\n",
      "c = 30\n",
      "60\n"
     ]
    }
   ],
   "source": [
    "# 根据位置传入参数---也就是我们经常使用的方法，根据函数定义的参数的位置来传递参数\n",
    "def add(a,b,c):\n",
    "    result = a + b + c\n",
    "    print(f\"a = {a}\")\n",
    "    print(f\"b = {b}\")\n",
    "    print(f\"c = {c}\")\n",
    "    return result\n",
    "    \n",
    "\n",
    "print(add(10,20,30))  # 10 传入 a ,20 传入 b, 30传入c\n",
    "\n",
    "'''\n",
    "注意：\n",
    " 传入的参数一定要和函数定义的参数个数一致，不然会报错\n",
    "'''"
   ]
  },
  {
   "cell_type": "code",
   "execution_count": 1,
   "id": "fb0ebc2a-7d86-4bce-bed4-81dd84eeb69b",
   "metadata": {},
   "outputs": [
    {
     "name": "stdout",
     "output_type": "stream",
     "text": [
      "您的姓名是：qwe，年龄是：18，性别是男\n",
      "您的姓名是：asd，年龄是：28，性别是男\n"
     ]
    }
   ],
   "source": [
    "# 根据关键字传入参数--- 就是在进行函数调用时 使用 变量 = 值的方式给指定的某一个参数变量传值\n",
    "def user_info(name, age, gender):\n",
    "    print(f\"您的姓名是：{name}，年龄是：{age}，性别是：{gender}\")\n",
    "\n",
    "\n",
    "# 位置传参\n",
    "user_info(\"qwe\",\"18\",\"男\")\n",
    "\n",
    "# 关键字传参\n",
    "user_info(age = \"28\", name = \"asd\", gender = \"男\")  # 可以不按照固定的顺序执行传参\n",
    "\n",
    "# 位置和关键字混合传参\n",
    "user_info(\"zcx\",gender = \"nv\", age = \"18\")  # 当位置和关键字混合传入参数，位置参数必须在关键字参数的前面"
   ]
  },
  {
   "cell_type": "code",
   "execution_count": 3,
   "id": "f07e1a79-f14b-4a32-88b2-8384a01e6ed1",
   "metadata": {},
   "outputs": [
    {
     "name": "stdout",
     "output_type": "stream",
     "text": [
      "您的姓名是：qwe，年龄是：18，性别是男\n"
     ]
    }
   ],
   "source": [
    "# 默认值参数---- 就是在进行函数调用时，不人为给某个形参传入参数，而采用创建函数时的默认值\n",
    "def defult_arg(name, age, gender = \"男\"):\n",
    "    print(f\"您的姓名是：{name}，年龄是：{age}，性别是：{gender}\")\n",
    "\n",
    "\n",
    "# 默认值传入参数\n",
    "defult_arg(\"qwe\",\"18\")  # 需要传入3个参数，但是我们这里只传入两个参数，有一个参数不传值，就会使用默认值（前提是创建函数的给该形参了默认值）\n"
   ]
  },
  {
   "cell_type": "code",
   "execution_count": 7,
   "id": "52727325-b61e-4265-86df-003755433c11",
   "metadata": {},
   "outputs": [
    {
     "name": "stdout",
     "output_type": "stream",
     "text": [
      "(1, 2, 3, 4)\n",
      "{'name': 'qwe', 'age': '18', 'sex': '男'}\n"
     ]
    },
    {
     "data": {
      "text/plain": [
       "'\\n从输出的结果可以看出，传入的所有参数都会被user变量获取\\n1. user中的元素内容就是传入的参数\\n2. user中元素的存放顺序是按照传入的参数的键值对的顺序  name:\"qwe\"\\n3. user是一个字典类型\\n'"
      ]
     },
     "execution_count": 7,
     "metadata": {},
     "output_type": "execute_result"
    }
   ],
   "source": [
    "# 不定长参数\n",
    "# 不定长参数：也叫可变参数，就是用于不确定调用的时候会传递多个参数的场景\n",
    "# 例如：编写一个函数，功能是将传入的参数全部相加，并返回最终的结果\n",
    "\n",
    "\n",
    "# 1.当使用位置传入参数，测试num存放的内容\n",
    "def add(*num):\n",
    "    print(num)\n",
    "\n",
    "\n",
    "add(1,2,3,4)  # (1, 2, 3, 4)\n",
    "\n",
    "'''\n",
    "输出可以看到 传入的所有参数都会被num变量获取，\n",
    "1. num中的内容就是传入的参数，\n",
    "2. num中元素存放的顺序就是传入参数的顺序\n",
    "3. num是一个元组类型\n",
    "'''\n",
    "\n",
    "\n",
    "# 2.当使用关键字传入参数，测试num存放到内容\n",
    "def user_info(**user):\n",
    "    print(user)\n",
    "\n",
    "\n",
    "user_info(name = \"qwe\", age = \"18\", sex = \"男\")  # {'name': 'qwe', 'age': '18', 'sex': '男'}\n",
    "\n",
    "'''\n",
    "从输出的结果可以看出，传入的所有参数都会被user变量获取\n",
    "1. user中的元素内容就是传入的参数\n",
    "2. user中元素的存放顺序是按照传入的参数的键值对的顺序  name:\"qwe\"\n",
    "3. user是一个字典类型\n",
    "'''\n"
   ]
  },
  {
   "cell_type": "markdown",
   "id": "7771e6e8-0a3b-4cd1-aeb6-52319cb6afe8",
   "metadata": {},
   "source": [
    "## 匿名函数\n",
    "### 函数作为参数传递\n",
    "在函数中，函数也可以作为一个参数传入另一个函数内"
   ]
  },
  {
   "cell_type": "code",
   "execution_count": 10,
   "id": "2265e279-ee22-4729-831d-068a5d44d173",
   "metadata": {},
   "outputs": [
    {
     "name": "stdout",
     "output_type": "stream",
     "text": [
      "31\n"
     ]
    }
   ],
   "source": [
    "# 实例代码\n",
    "# 计算 a + b - c + d 使用函数实现\n",
    "a = 10\n",
    "b = 20\n",
    "c = 18\n",
    "d = 19\n",
    "'''\n",
    "正常思路：\n",
    "传入4个参数 然后对这四个参数进行加法或减法运算即可实现\n",
    "'''\n",
    "def compute(num1, num2, num3, num4):\n",
    "    return num1 + num2 - num3 + num4\n",
    "\n",
    "print(compute(a, b, c, d))  # 31 能得到最终的结果\n",
    "\n"
   ]
  },
  {
   "cell_type": "markdown",
   "id": "519eb62a-6495-4da2-8bb4-639394469e51",
   "metadata": {},
   "source": [
    "上述的方法确实可以实现该功能，但是如果现在是4个变量之间的加法减法操作会发生改变了，而上述的函数只能实现a + b - c + d，换一个怎么办，难道去更改函数的本身吗"
   ]
  },
  {
   "cell_type": "markdown",
   "id": "b9b50bd4-c5e6-4b99-9215-f74d58e6a419",
   "metadata": {},
   "source": [
    "一般情况下，我们不会去更改函数的本身，如果再写一个就太麻烦了，可不可以加法减法这种功能操作由我们作为参数传入函数中"
   ]
  },
  {
   "cell_type": "code",
   "execution_count": 12,
   "id": "137371dd-1794-4ff7-beea-f9de44c2e302",
   "metadata": {},
   "outputs": [
    {
     "name": "stdout",
     "output_type": "stream",
     "text": [
      "20\n"
     ]
    }
   ],
   "source": [
    "def compute(num1,num2,num3,num4,cal1,cal2):\n",
    "    result = cal1(cal1(num1,num2),cal2(num3,num4))\n",
    "    return result\n",
    "\n",
    "\n",
    "def add(a,b):\n",
    "    return a + b\n",
    "\n",
    "\n",
    "def sub(a,b):\n",
    "    return a - b\n",
    "\n",
    "\n",
    "# add sub 都是函数\n",
    "print(compute(10,20,30,40,add,sub))\n"
   ]
  },
  {
   "cell_type": "markdown",
   "id": "7db4e9bb-f8f2-47ce-ac76-0e6d50f907ed",
   "metadata": {},
   "source": [
    "### 匿名函数\n",
    "在函数的定义中\n",
    "1.  def关键字，可以定义带有名称的函数\n",
    "2.  lambda关键字，可以定义匿名函数（无名称）\n",
    "</br>\n",
    "\n",
    "区别：\n",
    "1. 有名称的函数，可以基于名称重复使用\n",
    "2. 无名称的匿名函数，只可临时使用一次\n",
    "\n",
    "匿名函数定义的语法格式：\n",
    "`lambda 传入参数 : 函数体(一行代码)`\n",
    "</br>\n",
    "\n",
    "注意：\n",
    "1. 函数体，就是函数执行的部分，只能写一行代码，无法写多行"
   ]
  },
  {
   "cell_type": "code",
   "execution_count": 13,
   "id": "bbf20f57-4fc5-4ae6-8c72-4fc410a5c584",
   "metadata": {},
   "outputs": [
    {
     "data": {
      "text/plain": [
       "20"
      ]
     },
     "execution_count": 13,
     "metadata": {},
     "output_type": "execute_result"
    }
   ],
   "source": [
    "# 实例代码\n",
    "def compute(num1,num2,num3,num4,cal1,cal2):\n",
    "    result = cal1(cal1(num1,num2),cal2(num3,num4))\n",
    "    return result\n",
    "\n",
    "\n",
    "#  lambda x, y : x + y 实现两个数进行加法运算\n",
    "#  lambda x, y : x - y 实现两个数进行减法运算\n",
    "compute(10, 20, 30, 40, lambda x, y : x + y, lambda x, y : x - y)  # 20"
   ]
  },
  {
   "cell_type": "markdown",
   "id": "9df54a04-0b09-4448-b15f-11a317992c85",
   "metadata": {},
   "source": [
    "## 类型注解（用vscode-pycharm）\n",
    "\n",
    "在正式学习类型注解之前，我们得了解什么是类型注解，为什么要学习类型注解，类型注解怎么用。这是我们学习一个技术的基本思路\n",
    "\n",
    "首先什么是类型注解：当我们使用vscode或pycharm的时候，我们在写已经被封装好的方法是，当我们的光标放在函数上，会给我们提示这里面应该填写什么类型的参数变量，而我们自己去创建的函数，在调用函数的时候，并不会给我们提示让我们填写什么类型的参数变量，这里python封装好的函数就使用了类型注解的方式。\n",
    "\n",
    "为什么要学习类型注解：其实类型注解，并不会影响我们的实际编程，但是为了保证我们封装好的代码易读，就需要去学习一下类型注解。\n",
    "\n",
    "怎么学？"
   ]
  },
  {
   "cell_type": "markdown",
   "id": "cb7e507a-b1bf-43ff-900e-8b3a2e6b95bb",
   "metadata": {},
   "source": [
    "### 变量的类型注解\n",
    "\n",
    "变量的类型注解，当我们在java中定义变量时，我们需要去定义该变量的类型，而在python中并不需要这样干，我们只需要`变量名 = 变量值`即可。<br>\n",
    "而这就会出现一个对于我们开发人员的小问题，有时候我们定义一个变量希望它用来存放整数，但可能用着用着就存放成字符串或浮点数了，虽然这可能并不会引起错误，但是这是一个不好的习惯，我们就可以通过变量的类型注解来解决这个问题。\n",
    "\n",
    "两种方式可实现变量的类型注解\n",
    "1. `变量名 : 数据类型 = 变量值`\n",
    "2. `变量名 = 变量值 # type : 数据类型`\n",
    "\n",
    "一般情况下我们会使用方式1"
   ]
  },
  {
   "cell_type": "code",
   "execution_count": 4,
   "id": "913d71a4-1069-437a-86f9-c2ff2109d6fb",
   "metadata": {},
   "outputs": [],
   "source": [
    "# 为变量设置类型注解 方式1\n",
    "\n",
    "# 为基本数据类型设置类型注解\n",
    "var_test1 : int = 10\n",
    "var_test2 : float = 10.0\n",
    "var_test3 : bool = True\n",
    "var_test4 : str = \"yuan\"\n",
    "\n",
    "# 为数据容器类型设置类型注解\n",
    "\n",
    "list_test : list = [1, 2, 3]\n",
    "tuple_test : tuple = (1, 2, 3)\n",
    "set_test : set = {1, 2, 3}\n",
    "dict_test : dict = {\"1\": 'a', \"2\" : 'b'}\n",
    "\n",
    "# 为数据容器类型详细设置类型注解  使用vscode可识别，这里识别不了\n",
    "# list_test1 : list[int] = [1, 2, 3]\n",
    "# tuple_test1 : tuple[int] = (1, 2, 3)\n",
    "# set_test1 : set[int] = {1, 2, 3}\n",
    "# dict_test1 : dict[str, int] = {'1': 1, '2' : 2}"
   ]
  },
  {
   "cell_type": "code",
   "execution_count": 5,
   "id": "6416f14e-7d56-42ca-b180-d092b27c1b76",
   "metadata": {},
   "outputs": [],
   "source": [
    "# 为变量设置类型注解 方式2  使用注释进行\n",
    "var_test1  = 10 # type: int\n",
    "var_test2 = 10.0 # tyep : float"
   ]
  },
  {
   "cell_type": "markdown",
   "id": "fbd4f94a-8d16-4f08-a6fe-3c71c58cde99",
   "metadata": {},
   "source": [
    "### 函数的类型注解\n",
    "对于我们而言实际使用，函数的类型注解才是重点，变量的类型注解是为了函数的类型注解\n",
    "\n",
    "1. 变量的类型注解可用于形参：`def 函数名(形参: 类型)`\n",
    "2. 函数的返回值可以添加类型注释：`def 函数名() -> 返回值类型:` "
   ]
  },
  {
   "cell_type": "code",
   "execution_count": 7,
   "id": "7ed3df02-dc3d-4646-94b3-a99bb5e3335a",
   "metadata": {},
   "outputs": [],
   "source": [
    "def add(x : int, y : int) -> int:\n",
    "    return x + y\n",
    "\n",
    "def func(data: list) -> list:\n",
    "    pass"
   ]
  },
  {
   "cell_type": "markdown",
   "id": "8f438fc0-426b-43a9-84c0-3d202c105d37",
   "metadata": {},
   "source": [
    "## 函数闭包 \n",
    "在学习JavaScript时，我们其实已经学过了函数的闭包，这里的闭包其实跟JS中的闭包是一样的，首先我们要知道的一个东西是词法作用域，我们闭包的实现也是利用了词法作用域，首先我们先来看看什么是词法作用域"
   ]
  },
  {
   "cell_type": "markdown",
   "id": "3d90ea70-b01a-44b0-96b0-d0f9471107e5",
   "metadata": {},
   "source": [
    "词法作用域的意思是 函数在作用域，在函数创建时已经确定了，跟调用的位置时无关的"
   ]
  },
  {
   "cell_type": "code",
   "execution_count": 11,
   "id": "00821e8e-5083-4e5a-98db-b80df6437e90",
   "metadata": {},
   "outputs": [
    {
     "name": "stdout",
     "output_type": "stream",
     "text": [
      "10\n"
     ]
    }
   ],
   "source": [
    "# 测试代码\n",
    "a = 10\n",
    "def fun():\n",
    "    print(a)\n",
    "\n",
    "fun()"
   ]
  },
  {
   "cell_type": "markdown",
   "id": "3670ab34-49bc-4d31-8185-b6be74154196",
   "metadata": {},
   "source": [
    "我们这里可以看出，首先fun在自己的函数作用域里面找a变量，没有找到就去外层作用域里面找，最终找到的"
   ]
  },
  {
   "cell_type": "code",
   "execution_count": 13,
   "id": "3b5d7472-8c68-4779-9b1a-a5f74db4772a",
   "metadata": {},
   "outputs": [
    {
     "name": "stdout",
     "output_type": "stream",
     "text": [
      "10\n"
     ]
    }
   ],
   "source": [
    "# 测试代码2\n",
    "a = 10\n",
    "\n",
    "def fun1():\n",
    "    print(a)\n",
    "\n",
    "def fun2():\n",
    "    a = 20\n",
    "    fun1()\n",
    "\n",
    "fun2()"
   ]
  },
  {
   "cell_type": "markdown",
   "id": "555e85fc-cde7-4fac-9eba-9f35a841bf86",
   "metadata": {},
   "source": [
    "根据上述的代码，我们能看出fun1()中的a仍然是10 而非20，这就是因为在创建时，fun1()就可以确定好了作用域，当我们在fun2中调用fun1时，并不会说fun1就存在于fun2的函数作用域中，所以fun1先从自己这里找，没有找到，就去外层，外层的a是10"
   ]
  },
  {
   "cell_type": "markdown",
   "id": "f0196b48-f8cf-4b3f-8a04-c9d72c1cd5ac",
   "metadata": {},
   "source": [
    "根据词法作用域我们来看一个实例"
   ]
  },
  {
   "cell_type": "code",
   "execution_count": 20,
   "id": "951f4f3b-677f-4588-8ea0-ced9c8dd2325",
   "metadata": {},
   "outputs": [
    {
     "name": "stdout",
     "output_type": "stream",
     "text": [
      "1\n",
      "2\n",
      "3\n"
     ]
    }
   ],
   "source": [
    "# 现在有一个计数器，他主要用于累加fun3函数的调用次数\n",
    "num = 0  # 计数器，默认num=0\n",
    "def fun3():\n",
    "    \"\"\"这里面我们只是实现了一个累加的功能，只是模拟测试一下\"\"\"\n",
    "    global num\n",
    "    num = num + 1\n",
    "    print(num)\n",
    "\n",
    "fun3()\n",
    "fun3()\n",
    "fun3()"
   ]
  },
  {
   "cell_type": "markdown",
   "id": "2bade64f-80df-4a84-a9b1-c8d06af3153f",
   "metadata": {},
   "source": [
    "通过上述的代码我们能看到，我们实现了这个功能，但是这也就意味着 我num这个变量只能做为计数器，不能做为其它的变量名来使用，并且如果不小心使用了，会导致num全部错乱，现在我们需要能够让num成为局部变量，而不是全局变量"
   ]
  },
  {
   "cell_type": "code",
   "execution_count": 22,
   "id": "ce607eea-f8cd-484d-ab62-65022d4dc911",
   "metadata": {},
   "outputs": [
    {
     "name": "stdout",
     "output_type": "stream",
     "text": [
      "1\n",
      "1\n",
      "1\n"
     ]
    }
   ],
   "source": [
    "# 升级一下 把 num变成局部作用域\n",
    "def fun3():\n",
    "    num = 0\n",
    "    num = num + 1\n",
    "    print(num)\n",
    "\n",
    "fun3()\n",
    "fun3()\n",
    "fun3()"
   ]
  },
  {
   "cell_type": "markdown",
   "id": "9770e3ab-49bd-4b6d-bbce-c001a868fe7e",
   "metadata": {},
   "source": [
    "我们会发现上述的结果变成了3个1，而并不会累加，这是为什么，这是因为每次调用fun3时，就会创建一个函数作用域，`num = 0`就会执行，但是如果我们写`num=0`就会导致num这个变量没有被初始化，就找不到这个变量，就会报错。所以这里就只能这样写。那我们就没有办法解决了吗？"
   ]
  },
  {
   "cell_type": "markdown",
   "id": "5c9c5407-b5fa-4564-85f5-76e4d6794390",
   "metadata": {},
   "source": [
    "我们再写一个函数，只用于将num变成局部变量，然后在这个函数里面写一个fun3是不是就可以解决这个问题啦"
   ]
  },
  {
   "cell_type": "code",
   "execution_count": 4,
   "id": "bf7e0165-461b-4c30-a50c-c6c37303f5cb",
   "metadata": {},
   "outputs": [
    {
     "name": "stdout",
     "output_type": "stream",
     "text": [
      "0\n",
      "0\n",
      "0\n"
     ]
    }
   ],
   "source": [
    "def fun():\n",
    "    num = 0\n",
    "    def fun3():\n",
    "        print(num)\n",
    "    return fun3\n",
    "\n",
    "f = fun()  # f = fun3\n",
    "f()\n",
    "f()\n",
    "f()"
   ]
  },
  {
   "cell_type": "markdown",
   "id": "3b78aca7-df96-471e-abfc-adfecbd74dd8",
   "metadata": {},
   "source": [
    "注意：当我们内部函数中没有这个变量时，就会往外部函数中找，找到后就使用外部函数的变量，但是记得**这个变量是可看而不可修改的**"
   ]
  },
  {
   "cell_type": "code",
   "execution_count": 2,
   "id": "9e650da1-4355-4193-9206-63bb5c5502a2",
   "metadata": {},
   "outputs": [
    {
     "ename": "UnboundLocalError",
     "evalue": "local variable 'num' referenced before assignment",
     "output_type": "error",
     "traceback": [
      "\u001b[0;31m---------------------------------------------------------------------------\u001b[0m",
      "\u001b[0;31mUnboundLocalError\u001b[0m                         Traceback (most recent call last)",
      "Cell \u001b[0;32mIn[2], line 11\u001b[0m\n\u001b[1;32m      8\u001b[0m     \u001b[38;5;28;01mreturn\u001b[39;00m fun3\n\u001b[1;32m     10\u001b[0m f \u001b[38;5;241m=\u001b[39m fun()  \u001b[38;5;66;03m# f = fun3\u001b[39;00m\n\u001b[0;32m---> 11\u001b[0m \u001b[43mf\u001b[49m\u001b[43m(\u001b[49m\u001b[43m)\u001b[49m\n\u001b[1;32m     12\u001b[0m f()\n\u001b[1;32m     13\u001b[0m f()\n",
      "Cell \u001b[0;32mIn[2], line 6\u001b[0m, in \u001b[0;36mfun.<locals>.fun3\u001b[0;34m()\u001b[0m\n\u001b[1;32m      5\u001b[0m \u001b[38;5;28;01mdef\u001b[39;00m \u001b[38;5;21mfun3\u001b[39m():\n\u001b[0;32m----> 6\u001b[0m     num \u001b[38;5;241m=\u001b[39m \u001b[43mnum\u001b[49m \u001b[38;5;241m+\u001b[39m \u001b[38;5;241m1\u001b[39m  \u001b[38;5;66;03m# 我对这个num重新赋值，及修改他，就num变量就变成了局部变量，而这个变量又不存在，所以就会报错\u001b[39;00m\n\u001b[1;32m      7\u001b[0m     \u001b[38;5;28mprint\u001b[39m(num)\n",
      "\u001b[0;31mUnboundLocalError\u001b[0m: local variable 'num' referenced before assignment"
     ]
    }
   ],
   "source": [
    "# 举例  证明：这个变量是可看而不可修改的\n",
    "\n",
    "def fun():\n",
    "    num = 0\n",
    "    def fun3():\n",
    "        num = num + 1  # 我对这个num重新赋值，及修改他，就num变量就变成了局部变量，而这个变量又不存在，所以就会报错\n",
    "        print(num)\n",
    "    return fun3\n",
    "\n",
    "f = fun()  # f = fun3\n",
    "f()\n",
    "f()\n",
    "f()"
   ]
  },
  {
   "cell_type": "code",
   "execution_count": null,
   "id": "5ededfe4-b155-4024-bf4c-c6110ca64116",
   "metadata": {},
   "outputs": [],
   "source": [
    "# 举例  证明：这个变量是可看而不可修改的\n",
    "\n",
    "def fun():\n",
    "    num = 0\n",
    "    def fun3():\n",
    "        nonlocal num  # 使用nonlocal修饰这个变量 就表明我们使用的是为外部函数的变量num，这样再去做修改就可以了\n",
    "        num = num + 1\n",
    "        print(num)\n",
    "    return fun3\n",
    "\n",
    "f = fun()  # f = fun3\n",
    "f()\n",
    "f()\n",
    "f()"
   ]
  },
  {
   "cell_type": "markdown",
   "id": "9ca207e2-adf3-4538-9aae-e6f54d6eff67",
   "metadata": {},
   "source": [
    "通过上述代码，我们发现我们实现了这个功能，上述这个代码，就是一个完整的闭包"
   ]
  },
  {
   "cell_type": "markdown",
   "id": "333e388c-997d-4f95-922a-e06d32a2806b",
   "metadata": {},
   "source": [
    "小结：<br>\n",
    "闭包：闭包就是能访问外部函数作用域中的变量的函数\n",
    "\n",
    "什么时候会使用到闭包：当我们需要隐藏一些不希望别人访问的内容时，就可以使用闭包\n",
    "\n",
    "闭包需要满足三个条件：\n",
    "1. 函数的嵌套\n",
    "2. 内部函数要引用外部函数中的变量\n",
    "3. 内部函数要作为返回值返回"
   ]
  }
 ],
 "metadata": {
  "kernelspec": {
   "display_name": "Python 3 (ipykernel)",
   "language": "python",
   "name": "python3"
  },
  "language_info": {
   "codemirror_mode": {
    "name": "ipython",
    "version": 3
   },
   "file_extension": ".py",
   "mimetype": "text/x-python",
   "name": "python",
   "nbconvert_exporter": "python",
   "pygments_lexer": "ipython3",
   "version": "3.10.15"
  }
 },
 "nbformat": 4,
 "nbformat_minor": 5
}
