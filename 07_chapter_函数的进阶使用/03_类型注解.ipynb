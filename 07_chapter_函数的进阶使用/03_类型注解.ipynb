{
 "cells": [
  {
   "cell_type": "markdown",
   "id": "95707cfe-4dbf-4850-a210-71f755f7c516",
   "metadata": {},
   "source": [
    "## 类型注解（用vscode-pycharm）\n",
    "\n",
    "在正式学习类型注解之前，我们得了解什么是类型注解，为什么要学习类型注解，类型注解怎么用。这是我们学习一个技术的基本思路\n",
    "\n",
    "首先什么是类型注解：当我们使用vscode或pycharm的时候，我们在写已经被封装好的方法是，当我们的光标放在函数上，会给我们提示这里面应该填写什么类型的参数变量，而我们自己去创建的函数，在调用函数的时候，并不会给我们提示让我们填写什么类型的参数变量，这里python封装好的函数就使用了类型注解的方式。\n",
    "\n",
    "为什么要学习类型注解：其实类型注解，并不会影响我们的实际编程，但是为了保证我们封装好的代码易读，就需要去学习一下类型注解。\n",
    "\n",
    "怎么学？"
   ]
  },
  {
   "cell_type": "markdown",
   "id": "d11401ce-87e2-4bed-bdea-ef0bd7476eb7",
   "metadata": {},
   "source": [
    "### 变量的类型注解\n",
    "\n",
    "变量的类型注解，当我们在java中定义变量时，我们需要去定义该变量的类型，而在python中并不需要这样干，我们只需要`变量名 = 变量值`即可。<br>\n",
    "而这就会出现一个对于我们开发人员的小问题，有时候我们定义一个变量希望它用来存放整数，但可能用着用着就存放成字符串或浮点数了，虽然这可能并不会引起错误，但是这是一个不好的习惯，我们就可以通过变量的类型注解来解决这个问题。\n",
    "\n",
    "两种方式可实现变量的类型注解\n",
    "1. `变量名 : 数据类型 = 变量值`\n",
    "2. `变量名 = 变量值 # type : 数据类型`\n",
    "\n",
    "一般情况下我们会使用方式1"
   ]
  },
  {
   "cell_type": "code",
   "execution_count": 1,
   "id": "5173545c-ed72-4bb0-8b0c-9c968df09196",
   "metadata": {},
   "outputs": [],
   "source": [
    "# 为变量设置类型注解 方式1\n",
    "\n",
    "# 为基本数据类型设置类型注解\n",
    "var_test1 : int = 10\n",
    "var_test2 : float = 10.0\n",
    "var_test3 : bool = True\n",
    "var_test4 : str = \"yuan\"\n",
    "\n",
    "# 为数据容器类型设置类型注解\n",
    "\n",
    "list_test : list = [1, 2, 3]\n",
    "tuple_test : tuple = (1, 2, 3)\n",
    "set_test : set = {1, 2, 3}\n",
    "dict_test : dict = {\"1\": 'a', \"2\" : 'b'}\n",
    "\n",
    "# 为数据容器类型详细设置类型注解  使用vscode可识别，这里识别不了\n",
    "# list_test1 : list[int] = [1, 2, 3]\n",
    "# tuple_test1 : tuple[int] = (1, 2, 3)\n",
    "# set_test1 : set[int] = {1, 2, 3}\n",
    "# dict_test1 : dict[str, int] = {'1': 1, '2' : 2}"
   ]
  },
  {
   "cell_type": "code",
   "execution_count": 2,
   "id": "856bd905-0b7b-4849-9b05-9eb71332b51a",
   "metadata": {},
   "outputs": [],
   "source": [
    "# 为变量设置类型注解 方式2  使用注释进行\n",
    "var_test1  = 10 # type: int\n",
    "var_test2 = 10.0 # tyep : float"
   ]
  },
  {
   "cell_type": "markdown",
   "id": "ff242dba-2825-4db8-b00c-655ea07e791c",
   "metadata": {},
   "source": [
    "### 函数的类型注解\n",
    "对于我们而言实际使用，函数的类型注解才是重点，变量的类型注解是为了函数的类型注解\n",
    "\n",
    "1. 变量的类型注解可用于形参：`def 函数名(形参: 类型)`\n",
    "2. 函数的返回值可以添加类型注释：`def 函数名() -> 返回值类型:` "
   ]
  },
  {
   "cell_type": "code",
   "execution_count": 4,
   "id": "6135ca26-378a-424c-b0ff-1c200238577e",
   "metadata": {},
   "outputs": [],
   "source": [
    "def add(x : int, y : int) -> int:\n",
    "    return x + y\n",
    "\n",
    "def func(data: list) -> list:\n",
    "    pass"
   ]
  },
  {
   "cell_type": "code",
   "execution_count": null,
   "id": "f527564a-484a-463c-a9af-210e03c7d559",
   "metadata": {},
   "outputs": [],
   "source": []
  }
 ],
 "metadata": {
  "kernelspec": {
   "display_name": "Python 3 (ipykernel)",
   "language": "python",
   "name": "python3"
  },
  "language_info": {
   "codemirror_mode": {
    "name": "ipython",
    "version": 3
   },
   "file_extension": ".py",
   "mimetype": "text/x-python",
   "name": "python",
   "nbconvert_exporter": "python",
   "pygments_lexer": "ipython3",
   "version": "3.10.15"
  }
 },
 "nbformat": 4,
 "nbformat_minor": 5
}
