{
 "cells": [
  {
   "cell_type": "markdown",
   "id": "6c51155c-51b9-48a1-96e4-c69886d67d7a",
   "metadata": {},
   "source": [
    "## 函数闭包 \n",
    "在学习JavaScript时，我们其实已经学过了函数的闭包，这里的闭包其实跟JS中的闭包是一样的，首先我们要知道的一个东西是词法作用域，我们闭包的实现也是利用了词法作用域，首先我们先来看看什么是词法作用域"
   ]
  },
  {
   "cell_type": "markdown",
   "id": "9d7d4cc8-2828-4e7f-809a-3906ab83dbfe",
   "metadata": {},
   "source": [
    "词法作用域的意思是 函数在作用域，在函数创建时已经确定了，跟调用的位置时无关的"
   ]
  },
  {
   "cell_type": "code",
   "execution_count": 1,
   "id": "92090097-b419-4cd4-93c1-96735297c8be",
   "metadata": {},
   "outputs": [
    {
     "name": "stdout",
     "output_type": "stream",
     "text": [
      "10\n"
     ]
    }
   ],
   "source": [
    "# 测试代码\n",
    "a = 10\n",
    "def fun():\n",
    "    print(a)\n",
    "\n",
    "fun()"
   ]
  },
  {
   "cell_type": "markdown",
   "id": "b5dfbb32-7def-459a-90dc-29e2da90e8a4",
   "metadata": {},
   "source": [
    "我们这里可以看出，首先fun在自己的函数作用域里面找a变量，没有找到就去外层作用域里面找，最终找到的"
   ]
  },
  {
   "cell_type": "code",
   "execution_count": 2,
   "id": "569d84d4-04b2-4c46-9223-f4266723b49b",
   "metadata": {},
   "outputs": [
    {
     "name": "stdout",
     "output_type": "stream",
     "text": [
      "10\n"
     ]
    }
   ],
   "source": [
    "# 测试代码2\n",
    "a = 10\n",
    "\n",
    "def fun1():\n",
    "    print(a)\n",
    "\n",
    "def fun2():\n",
    "    a = 20\n",
    "    fun1()\n",
    "\n",
    "fun2()"
   ]
  },
  {
   "cell_type": "markdown",
   "id": "983de00f-51e4-4c99-b549-e21fc1525993",
   "metadata": {},
   "source": [
    "根据上述的代码，我们能看出fun1()中的a仍然是10 而非20，这就是因为在创建时，fun1()就可以确定好了作用域，当我们在fun2中调用fun1时，并不会说fun1就存在于fun2的函数作用域中，所以fun1先从自己这里找，没有找到，就去外层，外层的a是10"
   ]
  },
  {
   "cell_type": "markdown",
   "id": "c3cde178-3282-482f-88a6-977e372a3868",
   "metadata": {},
   "source": [
    "根据词法作用域我们来看一个实例"
   ]
  },
  {
   "cell_type": "code",
   "execution_count": 3,
   "id": "2ada5eb8-543d-48ba-972c-70f228fa01ca",
   "metadata": {},
   "outputs": [
    {
     "name": "stdout",
     "output_type": "stream",
     "text": [
      "1\n",
      "2\n",
      "3\n"
     ]
    }
   ],
   "source": [
    "# 现在有一个计数器，他主要用于累加fun3函数的调用次数\n",
    "num = 0  # 计数器，默认num=0\n",
    "def fun3():\n",
    "    \"\"\"这里面我们只是实现了一个累加的功能，只是模拟测试一下\"\"\"\n",
    "    global num\n",
    "    num = num + 1\n",
    "    print(num)\n",
    "\n",
    "fun3()\n",
    "fun3()\n",
    "fun3()"
   ]
  },
  {
   "cell_type": "markdown",
   "id": "f67e3af1-acd9-46e5-9e80-34fafd8627a1",
   "metadata": {},
   "source": [
    "通过上述的代码我们能看到，我们实现了这个功能，但是这也就意味着 我num这个变量只能做为计数器，不能做为其它的变量名来使用，并且如果不小心使用了，会导致num全部错乱，现在我们需要能够让num成为局部变量，而不是全局变量"
   ]
  },
  {
   "cell_type": "code",
   "execution_count": 4,
   "id": "34cb7c55-c967-4f70-a4f9-72bd0350183b",
   "metadata": {},
   "outputs": [
    {
     "name": "stdout",
     "output_type": "stream",
     "text": [
      "1\n",
      "1\n",
      "1\n"
     ]
    }
   ],
   "source": [
    "# 升级一下 把 num变成局部作用域\n",
    "def fun3():\n",
    "    num = 0\n",
    "    num = num + 1\n",
    "    print(num)\n",
    "\n",
    "fun3()\n",
    "fun3()\n",
    "fun3()"
   ]
  },
  {
   "cell_type": "markdown",
   "id": "1f0993d4-f40f-400c-baa4-4bc50c5983f5",
   "metadata": {},
   "source": [
    "我们会发现上述的结果变成了3个1，而并不会累加，这是为什么，这是因为每次调用fun3时，就会创建一个函数作用域，`num = 0`就会执行，但是如果我们写`num=0`就会导致num这个变量没有被初始化，就找不到这个变量，就会报错。所以这里就只能这样写。那我们就没有办法解决了吗？"
   ]
  },
  {
   "cell_type": "markdown",
   "id": "bede5a97-6067-430a-b177-47b1ac5d7946",
   "metadata": {},
   "source": [
    "我们再写一个函数，只用于将num变成局部变量，然后在这个函数里面写一个fun3是不是就可以解决这个问题啦"
   ]
  },
  {
   "cell_type": "code",
   "execution_count": 5,
   "id": "79f9cc1f-42f7-45b1-bdd8-03bc8cdceb08",
   "metadata": {},
   "outputs": [
    {
     "name": "stdout",
     "output_type": "stream",
     "text": [
      "0\n",
      "0\n",
      "0\n"
     ]
    }
   ],
   "source": [
    "def fun():\n",
    "    num = 0\n",
    "    def fun3():\n",
    "        print(num)\n",
    "    return fun3\n",
    "\n",
    "f = fun()  # f = fun3\n",
    "f()\n",
    "f()\n",
    "f()"
   ]
  },
  {
   "cell_type": "markdown",
   "id": "70c148b7-15ad-4e2f-992b-ef51e2bc66f9",
   "metadata": {},
   "source": [
    "注意：当我们内部函数中没有这个变量时，就会往外部函数中找，找到后就使用外部函数的变量，但是记得**这个变量是可看而不可修改的**"
   ]
  },
  {
   "cell_type": "code",
   "execution_count": 8,
   "id": "560177e7-e26b-4a42-b44e-6bad67e086af",
   "metadata": {},
   "outputs": [
    {
     "ename": "UnboundLocalError",
     "evalue": "local variable 'num' referenced before assignment",
     "output_type": "error",
     "traceback": [
      "\u001b[0;31m---------------------------------------------------------------------------\u001b[0m",
      "\u001b[0;31mUnboundLocalError\u001b[0m                         Traceback (most recent call last)",
      "Cell \u001b[0;32mIn[8], line 11\u001b[0m\n\u001b[1;32m      8\u001b[0m     \u001b[38;5;28;01mreturn\u001b[39;00m fun3\n\u001b[1;32m     10\u001b[0m f \u001b[38;5;241m=\u001b[39m fun()  \u001b[38;5;66;03m# f = fun3\u001b[39;00m\n\u001b[0;32m---> 11\u001b[0m \u001b[43mf\u001b[49m\u001b[43m(\u001b[49m\u001b[43m)\u001b[49m\n\u001b[1;32m     12\u001b[0m f()\n\u001b[1;32m     13\u001b[0m f()\n",
      "Cell \u001b[0;32mIn[8], line 6\u001b[0m, in \u001b[0;36mfun.<locals>.fun3\u001b[0;34m()\u001b[0m\n\u001b[1;32m      5\u001b[0m \u001b[38;5;28;01mdef\u001b[39;00m \u001b[38;5;21mfun3\u001b[39m():\n\u001b[0;32m----> 6\u001b[0m     num \u001b[38;5;241m=\u001b[39m \u001b[43mnum\u001b[49m \u001b[38;5;241m+\u001b[39m \u001b[38;5;241m1\u001b[39m  \u001b[38;5;66;03m# 我对这个num重新赋值，及修改他，就num变量就变成了局部变量，而这个变量又不存在，所以就会报错\u001b[39;00m\n\u001b[1;32m      7\u001b[0m     \u001b[38;5;28mprint\u001b[39m(num)\n",
      "\u001b[0;31mUnboundLocalError\u001b[0m: local variable 'num' referenced before assignment"
     ]
    }
   ],
   "source": [
    "# 举例  证明：这个变量是可看而不可修改的\n",
    "\n",
    "def fun():\n",
    "    num = 0\n",
    "    def fun3():\n",
    "        num = num + 1  # 我对这个num重新赋值，及修改他，就num变量就变成了局部变量，而这个变量又不存在，所以就会报错\n",
    "        print(num)\n",
    "    return fun3\n",
    "\n",
    "f = fun()  # f = fun3\n",
    "f()\n",
    "f()\n",
    "f()"
   ]
  },
  {
   "cell_type": "code",
   "execution_count": 9,
   "id": "7404e452-4008-4164-bd7b-0e47debe08ef",
   "metadata": {},
   "outputs": [
    {
     "name": "stdout",
     "output_type": "stream",
     "text": [
      "1\n"
     ]
    }
   ],
   "source": [
    "# 举例  证明：这个变量是可看而不可修改的\n",
    "\n",
    "def fun():\n",
    "    num = 0\n",
    "    def fun3():\n",
    "        nonlocal num  # 使用nonlocal修饰这个变量 就表明我们使用的是为外部函数的变量num，这样再去做修改就可以了\n",
    "        num = num + 1\n",
    "        print(num)\n",
    "    return fun3\n",
    "\n",
    "f = fun()  # f = fun3\n",
    "\n",
    "f()"
   ]
  },
  {
   "cell_type": "markdown",
   "id": "8f2d96d7-f4fa-4a33-a67a-ef5e99506e26",
   "metadata": {},
   "source": [
    "通过上述代码，我们发现我们实现了这个功能，上述这个代码，就是一个完整的闭包"
   ]
  },
  {
   "cell_type": "markdown",
   "id": "0e64fc8d-1fc8-4913-885f-c2f9a2621471",
   "metadata": {},
   "source": [
    "小结：<br>\n",
    "闭包：闭包就是能访问外部函数作用域中的变量的函数\n",
    "\n",
    "什么时候会使用到闭包：当我们需要隐藏一些不希望别人访问的内容时，就可以使用闭包\n",
    "\n",
    "闭包需要满足三个条件：\n",
    "1. 函数的嵌套\n",
    "2. 内部函数要引用外部函数中的变量\n",
    "3. 内部函数要作为返回值返回"
   ]
  },
  {
   "cell_type": "code",
   "execution_count": null,
   "id": "fecafc81-2214-4881-b51a-1f622bb80d3f",
   "metadata": {},
   "outputs": [],
   "source": []
  }
 ],
 "metadata": {
  "kernelspec": {
   "display_name": "Python 3 (ipykernel)",
   "language": "python",
   "name": "python3"
  },
  "language_info": {
   "codemirror_mode": {
    "name": "ipython",
    "version": 3
   },
   "file_extension": ".py",
   "mimetype": "text/x-python",
   "name": "python",
   "nbconvert_exporter": "python",
   "pygments_lexer": "ipython3",
   "version": "3.10.15"
  }
 },
 "nbformat": 4,
 "nbformat_minor": 5
}
