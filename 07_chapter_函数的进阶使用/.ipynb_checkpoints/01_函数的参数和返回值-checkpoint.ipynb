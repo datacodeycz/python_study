{
 "cells": [
  {
   "cell_type": "markdown",
   "id": "ea131742-dad6-4bea-bbe7-885261e5513e",
   "metadata": {},
   "source": [
    "# 函数的参数和返回值"
   ]
  },
  {
   "cell_type": "markdown",
   "id": "1e8ebdcd-feec-4746-827c-fff92d5ea599",
   "metadata": {},
   "source": [
    "## 函数的多返回值\n",
    "在python中，函数的返回值可以不止一个，可以有多个返回值（注意多个返回值不是指写多个return 而是写一个return 返回多个结果）"
   ]
  },
  {
   "cell_type": "code",
   "execution_count": 1,
   "id": "925ad904-aec0-4265-9749-79142535e8ea",
   "metadata": {},
   "outputs": [
    {
     "name": "stdout",
     "output_type": "stream",
     "text": [
      "3 4 5\n",
      "hello 123 world\n"
     ]
    }
   ],
   "source": [
    "# 实例代码\n",
    "# 返回传入该函数的参数 + 1\n",
    "# 需要传3个参数\n",
    "def auto_increment_1(a,b,c):\n",
    "    '''返回3个参数 + 1的值，有3个返回值'''\n",
    "    return a + 1,b + 1,c + 1\n",
    "\n",
    "\n",
    "# 我们会按照返回值的顺序接收对应的返回值，a_1就接收 a + 1 依次接收\n",
    "a_1,b_1,c_1 = auto_increment_1(2,3,4)\n",
    "print(a_1,b_1,c_1)\n",
    "\n",
    "def fun():\n",
    "    return \"hello\",123,\"world\"\n",
    "\n",
    "\n",
    "# 这个的返回值不仅可以是多个，也可以是不同类型的返回值\n",
    "re_1,re_2,re_3 = fun()\n",
    "print(re_1,re_2,re_3)"
   ]
  },
  {
   "cell_type": "markdown",
   "id": "017fe9be-4e9e-42b4-9bea-eb9536d48c44",
   "metadata": {},
   "source": [
    "## 函数多种传参方式\n",
    "1. 根据位置传入参数\n",
    "2. 根据关键字传入参数\n",
    "3. 根据默认值传入参数\n",
    "4. 不定长参数"
   ]
  },
  {
   "cell_type": "code",
   "execution_count": 3,
   "id": "0471af14-ffec-48ef-9eb7-82c46ec45bf5",
   "metadata": {},
   "outputs": [
    {
     "name": "stdout",
     "output_type": "stream",
     "text": [
      "a = 10\n",
      "b = 20\n",
      "c = 30\n",
      "60\n"
     ]
    }
   ],
   "source": [
    "# 根据位置传入参数---也就是我们经常使用的方法，根据函数定义的参数的位置来传递参数\n",
    "def add(a,b,c):\n",
    "    result = a + b + c\n",
    "    print(f\"a = {a}\")\n",
    "    print(f\"b = {b}\")\n",
    "    print(f\"c = {c}\")\n",
    "    return result\n",
    "    \n",
    "print(add(10,20,30))  # 10 传入 a ,20 传入 b, 30传入c"
   ]
  },
  {
   "cell_type": "markdown",
   "id": "41824221-b1c8-4ed7-893d-d3e027160d82",
   "metadata": {},
   "source": [
    "注意：\n",
    " 传入的参数一定要和函数定义的参数个数一致，不然会报错"
   ]
  },
  {
   "cell_type": "code",
   "execution_count": 4,
   "id": "0473fabe-7963-46bd-a502-c0b729571e75",
   "metadata": {},
   "outputs": [
    {
     "name": "stdout",
     "output_type": "stream",
     "text": [
      "您的姓名是：qwe，年龄是：18，性别是：男\n",
      "您的姓名是：asd，年龄是：28，性别是：男\n",
      "您的姓名是：zcx，年龄是：18，性别是：nv\n"
     ]
    }
   ],
   "source": [
    "# 根据关键字传入参数--- 就是在进行函数调用时 使用 变量 = 值的方式给指定的某一个参数变量传值\n",
    "def user_info(name, age, gender):\n",
    "    print(f\"您的姓名是：{name}，年龄是：{age}，性别是：{gender}\")\n",
    "\n",
    "\n",
    "# 位置传参\n",
    "user_info(\"qwe\",\"18\",\"男\")\n",
    "\n",
    "# 关键字传参\n",
    "user_info(age = \"28\", name = \"asd\", gender = \"男\")  # 可以不按照固定的顺序执行传参\n",
    "\n",
    "# 位置和关键字混合传参\n",
    "user_info(\"zcx\",gender = \"nv\", age = \"18\")  # 当位置和关键字混合传入参数，位置参数必须在关键字参数的前面"
   ]
  },
  {
   "cell_type": "code",
   "execution_count": 5,
   "id": "5ea7d244-b332-4adc-bd4a-4b4bd754f3a6",
   "metadata": {},
   "outputs": [
    {
     "name": "stdout",
     "output_type": "stream",
     "text": [
      "您的姓名是：qwe，年龄是：18，性别是：男\n"
     ]
    }
   ],
   "source": [
    "# 默认值参数---- 就是在进行函数调用时，不人为给某个形参传入参数，而采用创建函数时的默认值\n",
    "def defult_arg(name, age, gender = \"男\"):\n",
    "    print(f\"您的姓名是：{name}，年龄是：{age}，性别是：{gender}\")\n",
    "\n",
    "\n",
    "# 默认值传入参数\n",
    "defult_arg(\"qwe\",\"18\")  # 需要传入3个参数，但是我们这里只传入两个参数，有一个参数不传值，就会使用默认值（前提是创建函数的给该形参了默认值）\n"
   ]
  },
  {
   "cell_type": "code",
   "execution_count": 6,
   "id": "3679cf0a-a491-4ca6-8792-9cbcdf8cb822",
   "metadata": {},
   "outputs": [
    {
     "name": "stdout",
     "output_type": "stream",
     "text": [
      "(1, 2, 3, 4)\n",
      "{'name': 'qwe', 'age': '18', 'sex': '男'}\n"
     ]
    },
    {
     "data": {
      "text/plain": [
       "'\\n从输出的结果可以看出，传入的所有参数都会被user变量获取\\n1. user中的元素内容就是传入的参数\\n2. user中元素的存放顺序是按照传入的参数的键值对的顺序  name:\"qwe\"\\n3. user是一个字典类型\\n'"
      ]
     },
     "execution_count": 6,
     "metadata": {},
     "output_type": "execute_result"
    }
   ],
   "source": [
    "# 不定长参数\n",
    "# 不定长参数：也叫可变参数，就是用于不确定调用的时候会传递多个参数的场景\n",
    "# 例如：编写一个函数，功能是将传入的参数全部相加，并返回最终的结果\n",
    "\n",
    "\n",
    "# 1.当使用位置传入参数，测试num存放的内容\n",
    "def add(*num):\n",
    "    print(num)\n",
    "\n",
    "\n",
    "add(1,2,3,4)  # (1, 2, 3, 4)\n",
    "\n",
    "'''\n",
    "输出可以看到 传入的所有参数都会被num变量获取，\n",
    "1. num中的内容就是传入的参数，\n",
    "2. num中元素存放的顺序就是传入参数的顺序\n",
    "3. num是一个元组类型\n",
    "'''\n",
    "\n",
    "\n",
    "# 2.当使用关键字传入参数，测试num存放到内容\n",
    "def user_info(**user):\n",
    "    print(user)\n",
    "\n",
    "\n",
    "user_info(name = \"qwe\", age = \"18\", sex = \"男\")  # {'name': 'qwe', 'age': '18', 'sex': '男'}\n",
    "\n",
    "'''\n",
    "从输出的结果可以看出，传入的所有参数都会被user变量获取\n",
    "1. user中的元素内容就是传入的参数\n",
    "2. user中元素的存放顺序是按照传入的参数的键值对的顺序  name:\"qwe\"\n",
    "3. user是一个字典类型\n",
    "'''\n"
   ]
  },
  {
   "cell_type": "code",
   "execution_count": null,
   "id": "d9be1aa2-bd03-4a53-b05f-5cc744153a2a",
   "metadata": {},
   "outputs": [],
   "source": []
  }
 ],
 "metadata": {
  "kernelspec": {
   "display_name": "Python 3 (ipykernel)",
   "language": "python",
   "name": "python3"
  },
  "language_info": {
   "codemirror_mode": {
    "name": "ipython",
    "version": 3
   },
   "file_extension": ".py",
   "mimetype": "text/x-python",
   "name": "python",
   "nbconvert_exporter": "python",
   "pygments_lexer": "ipython3",
   "version": "3.10.15"
  }
 },
 "nbformat": 4,
 "nbformat_minor": 5
}
