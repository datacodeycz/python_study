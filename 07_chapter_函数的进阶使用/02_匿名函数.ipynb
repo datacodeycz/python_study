{
 "cells": [
  {
   "cell_type": "markdown",
   "id": "9d9ecd3f-9544-440e-b953-36d5f69d82b5",
   "metadata": {},
   "source": [
    "## 匿名函数\n",
    "### 函数作为参数传递\n",
    "在函数中，函数也可以作为一个参数传入另一个函数内"
   ]
  },
  {
   "cell_type": "code",
   "execution_count": 1,
   "id": "dd9c77fa-5a72-4f7f-bdfe-f4868e7998ec",
   "metadata": {},
   "outputs": [
    {
     "name": "stdout",
     "output_type": "stream",
     "text": [
      "31\n"
     ]
    }
   ],
   "source": [
    "# 实例代码\n",
    "# 计算 a + b - c + d 使用函数实现\n",
    "a = 10\n",
    "b = 20\n",
    "c = 18\n",
    "d = 19\n",
    "'''\n",
    "正常思路：\n",
    "传入4个参数 然后对这四个参数进行加法或减法运算即可实现\n",
    "'''\n",
    "def compute(num1, num2, num3, num4):\n",
    "    return num1 + num2 - num3 + num4\n",
    "\n",
    "print(compute(a, b, c, d))  # 31 能得到最终的结果\n",
    "\n"
   ]
  },
  {
   "cell_type": "markdown",
   "id": "3a6fbc66-4add-44c9-997e-0b179039e08a",
   "metadata": {},
   "source": [
    "上述的方法确实可以实现该功能，但是如果现在是4个变量之间的加法减法操作会发生改变了，而上述的函数只能实现a + b - c + d，换一个怎么办，难道去更改函数的本身吗"
   ]
  },
  {
   "cell_type": "markdown",
   "id": "f7e64a72-efff-460f-b798-9a3e317c6d4a",
   "metadata": {},
   "source": [
    "一般情况下，我们不会去更改函数的本身，如果再写一个就太麻烦了，可不可以加法减法这种功能操作由我们作为参数传入函数中"
   ]
  },
  {
   "cell_type": "code",
   "execution_count": 2,
   "id": "233f0333-ffa3-47fe-8eed-32818b6cb2bc",
   "metadata": {},
   "outputs": [
    {
     "name": "stdout",
     "output_type": "stream",
     "text": [
      "20\n"
     ]
    }
   ],
   "source": [
    "def compute(num1,num2,num3,num4,cal1,cal2):\n",
    "    result = cal1(cal1(num1,num2),cal2(num3,num4))\n",
    "    return result\n",
    "\n",
    "\n",
    "def add(a,b):\n",
    "    return a + b\n",
    "\n",
    "\n",
    "def sub(a,b):\n",
    "    return a - b\n",
    "\n",
    "\n",
    "# add sub 都是函数\n",
    "print(compute(10,20,30,40,add,sub))\n"
   ]
  },
  {
   "cell_type": "markdown",
   "id": "42ab7d8f-8fd2-4720-8a4a-037ff1d7c901",
   "metadata": {},
   "source": [
    "### 匿名函数\n",
    "在函数的定义中\n",
    "1.  def关键字，可以定义带有名称的函数\n",
    "2.  lambda关键字，可以定义匿名函数（无名称）\n",
    "</br>\n",
    "\n",
    "区别：\n",
    "1. 有名称的函数，可以基于名称重复使用\n",
    "2. 无名称的匿名函数，只可临时使用一次\n",
    "\n",
    "匿名函数定义的语法格式：\n",
    "`lambda 传入参数 : 函数体(一行代码)`\n",
    "</br>\n",
    "\n",
    "注意：\n",
    "1. 函数体，就是函数执行的部分，只能写一行代码，无法写多行"
   ]
  },
  {
   "cell_type": "code",
   "execution_count": 3,
   "id": "5793155e-348c-4aa6-90fa-96df37c77f5e",
   "metadata": {},
   "outputs": [
    {
     "data": {
      "text/plain": [
       "20"
      ]
     },
     "execution_count": 3,
     "metadata": {},
     "output_type": "execute_result"
    }
   ],
   "source": [
    "# 实例代码\n",
    "def compute(num1,num2,num3,num4,cal1,cal2):\n",
    "    result = cal1(cal1(num1,num2),cal2(num3,num4))\n",
    "    return result\n",
    "\n",
    "\n",
    "#  lambda x, y : x + y 实现两个数进行加法运算\n",
    "#  lambda x, y : x - y 实现两个数进行减法运算\n",
    "compute(10, 20, 30, 40, lambda x, y : x + y, lambda x, y : x - y)  # 20"
   ]
  },
  {
   "cell_type": "code",
   "execution_count": null,
   "id": "d9273b6e-efa1-4173-957a-dfbef111761f",
   "metadata": {},
   "outputs": [],
   "source": []
  }
 ],
 "metadata": {
  "kernelspec": {
   "display_name": "Python 3 (ipykernel)",
   "language": "python",
   "name": "python3"
  },
  "language_info": {
   "codemirror_mode": {
    "name": "ipython",
    "version": 3
   },
   "file_extension": ".py",
   "mimetype": "text/x-python",
   "name": "python",
   "nbconvert_exporter": "python",
   "pygments_lexer": "ipython3",
   "version": "3.10.15"
  }
 },
 "nbformat": 4,
 "nbformat_minor": 5
}
