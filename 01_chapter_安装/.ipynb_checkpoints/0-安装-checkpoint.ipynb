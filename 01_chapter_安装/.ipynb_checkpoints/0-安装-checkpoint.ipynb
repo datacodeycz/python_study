{
 "cells": [
  {
   "cell_type": "markdown",
   "id": "566a960b",
   "metadata": {},
   "source": [
    "# 安装\n",
    "\n",
    "我们需要配置一个环境来运行 Python、Jupyter Notebook、相关库来学习Python程序设计这门课。\n",
    "\n",
    "以下主要是在windows操作系统下进行，若需要linux和mac OS操作系统可以下载对应的安装包进行安装"
   ]
  },
  {
   "cell_type": "markdown",
   "id": "3b1022ac-239a-484b-a0ae-7f8ddb9d5508",
   "metadata": {},
   "source": []
  },
  {
   "cell_type": "markdown",
   "id": "d5dc8dd4-3cf0-4c75-a4bb-b4cb42d3b448",
   "metadata": {},
   "source": []
  },
  {
   "cell_type": "markdown",
   "id": "8c39cd21-2ca5-4bca-a63d-d1c4f33cb430",
   "metadata": {},
   "source": [
    "## 下载安装vscode"
   ]
  },
  {
   "cell_type": "markdown",
   "id": "7a24b778-121d-4c36-95c0-d7478bfd11cd",
   "metadata": {},
   "source": [
    "### 下载安装vscode中适用于编写python的插件 "
   ]
  },
  {
   "cell_type": "markdown",
   "id": "1a5c782a-c868-4737-b71d-7316d0df9094",
   "metadata": {},
   "source": [
    "## 下载安装Pycharm "
   ]
  },
  {
   "cell_type": "markdown",
   "id": "4bb14fe7-d87e-4e06-b706-e8d684fce3ca",
   "metadata": {},
   "source": [
    "## 下载安装minianaconda "
   ]
  },
  {
   "cell_type": "code",
   "execution_count": null,
   "id": "b0db7c3c-82fe-4831-8f57-bbc422550633",
   "metadata": {},
   "outputs": [],
   "source": []
  }
 ],
 "metadata": {
  "kernelspec": {
   "display_name": "Python 3 (ipykernel)",
   "language": "python",
   "name": "python3"
  },
  "language_info": {
   "codemirror_mode": {
    "name": "ipython",
    "version": 3
   },
   "file_extension": ".py",
   "mimetype": "text/x-python",
   "name": "python",
   "nbconvert_exporter": "python",
   "pygments_lexer": "ipython3",
   "version": "3.8.5"
  }
 },
 "nbformat": 4,
 "nbformat_minor": 5
}
