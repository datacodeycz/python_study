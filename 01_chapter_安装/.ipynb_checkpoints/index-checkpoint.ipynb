{
 "cells": [
  {
   "cell_type": "markdown",
   "id": "c0ee5068-fa3b-4e8b-9164-8c4129ac2f7c",
   "metadata": {},
   "source": [
    "# 安装\n",
    "\n",
    "我们需要配置一个环境来运行 Python、Jupyter Notebook、相关库来学习Python程序设计这门课。\n",
    "\n",
    "以下主要是在windows操作系统下进行，若需要linux和mac OS操作系统可以下载对应的安装包进行安装"
   ]
  },
  {
   "cell_type": "markdown",
   "id": "7d2b9474-1250-4c55-9f6d-f0dec0c8aee5",
   "metadata": {
    "jp-MarkdownHeadingCollapsed": true
   },
   "source": [
    "## 下载安装 Python 解释器\n",
    "\n",
    "**下载安装 Python 解释器**  \n",
    "这里我们主要使用的 Python 版本为 Python 3.10.10，安装的 Python 版本可自行选择，但建议选择 Python 3.x。\n",
    "\n",
    "1. 进入 [Python 官方网站](https://www.python.org/downloads/)。\n",
    "2. 找到需要的 Python 版本并下载。\n",
    "3. 安装后，打开命令行（`Win + R`，输入 `cmd`），输入以下命令检查是否安装成功：\n",
    "   ```bash\n",
    "   python --version\n",
    "   ```\n",
    "   如果输出了对应的 Python 版本号，表示安装成功。"
   ]
  },
  {
   "cell_type": "markdown",
   "id": "adb87400-d514-41f5-99bb-8be35e79ca77",
   "metadata": {},
   "source": [
    "## 下载安装 Python 开发环境：Miniconda\n",
    "\n",
    "**安装 Miniconda**  \n",
    "\n",
    "1. 下载 Miniconda 安装包并完成安装。\n",
    "\n",
    "**创建虚拟环境**  \n",
    "\n",
    "1. 打开命令行，输入以下命令创建虚拟环境：\n",
    "   ```bash\n",
    "   conda create --name python_learning python=3.10\n",
    "   ```\n",
    "2. 激活虚拟环境：\n",
    "   ```bash\n",
    "   conda activate python_learning\n",
    "   ```\n",
    "\n",
    "**在虚拟环境中安装第三方库和 Jupyter Notebook**  \n",
    "\n",
    "1. 在虚拟环境中安装以下第三方库：\n",
    "   ```bash\n",
    "   pip install -i https://pypi.tuna.tsinghua.edu.cn/simple numpy pandas matplotlib jsonpath bs4 selenium requests scrapy pymysql jupyter notebook\n",
    "   ```\n",
    "2. 使用 Jupyter Notebook：\n",
    "   ```bash\n",
    "   jupyter notebook\n",
    "   ```\n"
   ]
  },
  {
   "cell_type": "markdown",
   "id": "24f98844-7cb6-4a7d-85c4-066e11ea269a",
   "metadata": {},
   "source": [
    "## 下载安装 Python 开发环境：Pycharm\n",
    "\n",
    "**安装 Pycharm**  \n",
    "\n",
    "1. 下载并安装 Pycharm。\n",
    "2. 安装完成后，在 Pycharm 中选择对应的 Python 解释器。"
   ]
  },
  {
   "cell_type": "markdown",
   "id": "3a5b6ff6-8c35-4cd1-8a71-0ca53c3c4ba3",
   "metadata": {
    "jp-MarkdownHeadingCollapsed": true
   },
   "source": [
    "## 下载安装 Python 开发环境：VSCode\n",
    "\n",
    "**安装 VSCode**  \n",
    "\n",
    "1. 下载并安装 VSCode。\n",
    "\n",
    "**在 VSCode 中安装 Python 插件**  \n",
    "\n",
    "1. 打开 VSCode，安装以下插件：\n",
    "   - **Python**（安装 Python 插件后会自动安装依赖插件）。\n",
    "   - **中文插件**：`Chinese`。\n",
    "   - **文件图标主题插件**：`vscode-icons`。"
   ]
  },
  {
   "cell_type": "markdown",
   "id": "0b54ab6f-5ed7-4d26-95ed-f78da27326fc",
   "metadata": {},
   "source": [
    "## 使用 Miniconda 创建虚拟环境\n",
    "\n",
    "**创建虚拟环境**  \n",
    "\n",
    "1. 打开命令行，输入以下命令创建并激活虚拟环境：\n",
    "   ```bash\n",
    "   conda create --name python_learning python=3.10\n",
    "   conda activate python_learning\n",
    "   ```\n",
    "\n",
    "**在虚拟环境中安装 Jupyter Notebook**  \n",
    "\n",
    "1. 安装 Jupyter Notebook 和中文语言包：\n",
    "   ```bash\n",
    "   pip install -i https://pypi.tuna.tsinghua.edu.cn/simple jupyter notebook\n",
    "   pip install -i https://pypi.tuna.tsinghua.edu.cn/simple jupyterlab-language-pack-zh-CN\n",
    "   ```\n",
    "2. 使用 Jupyter Notebook：\n",
    "   ```bash\n",
    "   jupyter notebook"
   ]
  },
  {
   "cell_type": "markdown",
   "id": "027ab5c7-fe73-4800-a309-9ebdc9748642",
   "metadata": {},
   "source": []
  }
 ],
 "metadata": {
  "kernelspec": {
   "display_name": "Python 3 (ipykernel)",
   "language": "python",
   "name": "python3"
  },
  "language_info": {
   "codemirror_mode": {
    "name": "ipython",
    "version": 3
   },
   "file_extension": ".py",
   "mimetype": "text/x-python",
   "name": "python",
   "nbconvert_exporter": "python",
   "pygments_lexer": "ipython3",
   "version": "3.10.15"
  }
 },
 "nbformat": 4,
 "nbformat_minor": 5
}
